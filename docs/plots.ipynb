{
 "cells": [
  {
   "cell_type": "code",
   "execution_count": 2,
   "metadata": {},
   "outputs": [],
   "source": [
    "import pandas as pd\n",
    "import seaborn as sns\n",
    "import matplotlib.pyplot as plt"
   ]
  },
  {
   "cell_type": "code",
   "execution_count": 5,
   "metadata": {},
   "outputs": [
    {
     "data": {
      "text/html": [
       "<div>\n",
       "<style scoped>\n",
       "    .dataframe tbody tr th:only-of-type {\n",
       "        vertical-align: middle;\n",
       "    }\n",
       "\n",
       "    .dataframe tbody tr th {\n",
       "        vertical-align: top;\n",
       "    }\n",
       "\n",
       "    .dataframe thead th {\n",
       "        text-align: right;\n",
       "    }\n",
       "</style>\n",
       "<table border=\"1\" class=\"dataframe\">\n",
       "  <thead>\n",
       "    <tr style=\"text-align: right;\">\n",
       "      <th></th>\n",
       "      <th>Модель</th>\n",
       "      <th>Accuracy</th>\n",
       "      <th>F-score</th>\n",
       "      <th>Recall</th>\n",
       "      <th>Precision</th>\n",
       "      <th>ROC-AUC OvR</th>\n",
       "      <th>ROC-AUC OvO</th>\n",
       "    </tr>\n",
       "  </thead>\n",
       "  <tbody>\n",
       "    <tr>\n",
       "      <th>0</th>\n",
       "      <td>SVM</td>\n",
       "      <td>0.691176</td>\n",
       "      <td>0.693718</td>\n",
       "      <td>0.700864</td>\n",
       "      <td>0.691017</td>\n",
       "      <td>0.840529</td>\n",
       "      <td>0.844115</td>\n",
       "    </tr>\n",
       "    <tr>\n",
       "      <th>1</th>\n",
       "      <td>KNN</td>\n",
       "      <td>0.779412</td>\n",
       "      <td>0.779213</td>\n",
       "      <td>0.780731</td>\n",
       "      <td>0.779259</td>\n",
       "      <td>0.834168</td>\n",
       "      <td>0.835548</td>\n",
       "    </tr>\n",
       "    <tr>\n",
       "      <th>2</th>\n",
       "      <td>Random Forest</td>\n",
       "      <td>0.632353</td>\n",
       "      <td>0.631884</td>\n",
       "      <td>0.620548</td>\n",
       "      <td>0.681082</td>\n",
       "      <td>0.817684</td>\n",
       "      <td>0.822178</td>\n",
       "    </tr>\n",
       "    <tr>\n",
       "      <th>3</th>\n",
       "      <td>CatBoost</td>\n",
       "      <td>0.514706</td>\n",
       "      <td>0.520886</td>\n",
       "      <td>0.506572</td>\n",
       "      <td>0.571789</td>\n",
       "      <td>0.701963</td>\n",
       "      <td>0.709235</td>\n",
       "    </tr>\n",
       "    <tr>\n",
       "      <th>4</th>\n",
       "      <td>LightGBM</td>\n",
       "      <td>0.588235</td>\n",
       "      <td>0.598482</td>\n",
       "      <td>0.584844</td>\n",
       "      <td>0.637146</td>\n",
       "      <td>0.789938</td>\n",
       "      <td>0.796427</td>\n",
       "    </tr>\n",
       "    <tr>\n",
       "      <th>5</th>\n",
       "      <td>XGBoost</td>\n",
       "      <td>0.632353</td>\n",
       "      <td>0.633905</td>\n",
       "      <td>0.625271</td>\n",
       "      <td>0.653274</td>\n",
       "      <td>0.766337</td>\n",
       "      <td>0.771152</td>\n",
       "    </tr>\n",
       "    <tr>\n",
       "      <th>6</th>\n",
       "      <td>TimeSeries (KNN)</td>\n",
       "      <td>0.705882</td>\n",
       "      <td>0.713066</td>\n",
       "      <td>0.709940</td>\n",
       "      <td>0.717836</td>\n",
       "      <td>0.806009</td>\n",
       "      <td>0.809599</td>\n",
       "    </tr>\n",
       "    <tr>\n",
       "      <th>7</th>\n",
       "      <td>Ансамбль</td>\n",
       "      <td>0.764706</td>\n",
       "      <td>0.767806</td>\n",
       "      <td>0.766238</td>\n",
       "      <td>0.771946</td>\n",
       "      <td>0.860113</td>\n",
       "      <td>0.863595</td>\n",
       "    </tr>\n",
       "  </tbody>\n",
       "</table>\n",
       "</div>"
      ],
      "text/plain": [
       "             Модель  Accuracy   F-score    Recall  Precision  ROC-AUC OvR  \\\n",
       "0               SVM  0.691176  0.693718  0.700864   0.691017     0.840529   \n",
       "1               KNN  0.779412  0.779213  0.780731   0.779259     0.834168   \n",
       "2     Random Forest  0.632353  0.631884  0.620548   0.681082     0.817684   \n",
       "3          CatBoost  0.514706  0.520886  0.506572   0.571789     0.701963   \n",
       "4          LightGBM  0.588235  0.598482  0.584844   0.637146     0.789938   \n",
       "5           XGBoost  0.632353  0.633905  0.625271   0.653274     0.766337   \n",
       "6  TimeSeries (KNN)  0.705882  0.713066  0.709940   0.717836     0.806009   \n",
       "7          Ансамбль  0.764706  0.767806  0.766238   0.771946     0.860113   \n",
       "\n",
       "   ROC-AUC OvO  \n",
       "0     0.844115  \n",
       "1     0.835548  \n",
       "2     0.822178  \n",
       "3     0.709235  \n",
       "4     0.796427  \n",
       "5     0.771152  \n",
       "6     0.809599  \n",
       "7     0.863595  "
      ]
     },
     "execution_count": 5,
     "metadata": {},
     "output_type": "execute_result"
    }
   ],
   "source": [
    "t = pd.read_csv('../ml/non_linear_models/metrics.csv', sep=';')\n",
    "t"
   ]
  },
  {
   "cell_type": "code",
   "execution_count": 8,
   "metadata": {},
   "outputs": [
    {
     "data": {
      "image/png": "[encoded data removed]",
      "text/plain": [
       "<Figure size 700x400 with 1 Axes>"
      ]
     },
     "metadata": {},
     "output_type": "display_data"
    }
   ],
   "source": [
    "data = t[t['Модель'].isin(['SVM', 'KNN'])]\n",
    "\n",
    "fig = plt.figure(figsize=(7, 4))\n",
    "sns.barplot(data.melt(id_vars=['Модель']), x='variable', y='value', hue='Модель')\n",
    "plt.xlabel('Метрика')\n",
    "plt.ylabel('Значение')\n",
    "plt.ylim((0.6, 0.9))\n",
    "fig.tight_layout()"
   ]
  },
  {
   "cell_type": "code",
   "execution_count": null,
   "metadata": {},
   "outputs": [],
   "source": []
  }
 ],
 "metadata": {
  "kernelspec": {
   "display_name": "Python 3",
   "language": "python",
   "name": "python3"
  },
  "language_info": {
   "codemirror_mode": {
    "name": "ipython",
    "version": 3
   },
   "file_extension": ".py",
   "mimetype": "text/x-python",
   "name": "python",
   "nbconvert_exporter": "python",
   "pygments_lexer": "ipython3",
   "version": "3.12.1"
  }
 },
 "nbformat": 4,
 "nbformat_minor": 2
}
