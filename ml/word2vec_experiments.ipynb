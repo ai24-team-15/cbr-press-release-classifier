{
 "cells": [
  {
   "cell_type": "code",
   "execution_count": 23,
   "metadata": {},
   "outputs": [
    {
     "name": "stderr",
     "output_type": "stream",
     "text": [
      "[nltk_data] Downloading package punkt to\n",
      "[nltk_data]     C:\\Users\\user\\AppData\\Roaming\\nltk_data...\n",
      "[nltk_data]   Package punkt is already up-to-date!\n",
      "[nltk_data] Downloading package stopwords to\n",
      "[nltk_data]     C:\\Users\\user\\AppData\\Roaming\\nltk_data...\n",
      "[nltk_data]   Package stopwords is already up-to-date!\n",
      "[nltk_data] Downloading package punkt_tab to\n",
      "[nltk_data]     C:\\Users\\user\\AppData\\Roaming\\nltk_data...\n",
      "[nltk_data]   Package punkt_tab is already up-to-date!\n"
     ]
    },
    {
     "data": {
      "text/plain": [
       "True"
      ]
     },
     "execution_count": 23,
     "metadata": {},
     "output_type": "execute_result"
    }
   ],
   "source": [
    "import re\n",
    "from string import punctuation\n",
    "\n",
    "import pandas as pd\n",
    "import numpy as np\n",
    "from tqdm import tqdm\n",
    "import matplotlib.pyplot as plt\n",
    "import seaborn as sns\n",
    "from sklearn.linear_model import LogisticRegression\n",
    "from sklearn.naive_bayes import MultinomialNB\n",
    "from sklearn import svm\n",
    "from sklearn.pipeline import Pipeline\n",
    "from sklearn.compose import ColumnTransformer\n",
    "from sklearn.feature_extraction.text import CountVectorizer\n",
    "from sklearn.metrics import classification_report, confusion_matrix\n",
    "from sklearn.preprocessing import StandardScaler\n",
    "from sklearn.model_selection import GridSearchCV\n",
    "import nltk\n",
    "from nltk.corpus import stopwords\n",
    "from nltk.tokenize import word_tokenize\n",
    "from sklearn.feature_extraction.text import CountVectorizer, TfidfVectorizer\n",
    "from pymystem3 import Mystem\n",
    "from sklearn.linear_model import LogisticRegression\n",
    "from sklearn.metrics import accuracy_score, precision_score, recall_score, roc_auc_score, f1_score\n",
    "from sklearn.svm import SVC\n",
    "from sklearn.impute import SimpleImputer\n",
    "from gensim.models import word2vec\n",
    "from sklearn.base import BaseEstimator, TransformerMixin\n",
    "\n",
    "RANDOM_STATE = 41825352\n",
    "DATASET_URL = '../data/cbr-press-releases.csv'\n",
    "\n",
    "nltk.download('punkt')\n",
    "nltk.download('stopwords')\n",
    "nltk.download('punkt_tab')"
   ]
  },
  {
   "cell_type": "code",
   "execution_count": 24,
   "metadata": {},
   "outputs": [],
   "source": [
    "df = pd.read_csv(DATASET_URL, parse_dates=['date'])\n",
    "df['rate'] = df.rate.shift(1)\n",
    "df.loc[0, 'rate'] = 5.5\n",
    "df.set_index('date', inplace=True)\n",
    "df.drop('link', axis=1, inplace=True)\n",
    "df.sort_values('date', inplace=True)\n",
    "cur_pr = df.tail(1)\n",
    "df = df[:-1]\n",
    "X = df.drop(['target_categorial', 'target_absolute', 'target_relative'], axis=1)\n",
    "y = df['target_categorial']"
   ]
  },
  {
   "cell_type": "code",
   "execution_count": 25,
   "metadata": {},
   "outputs": [],
   "source": [
    "y_pred = y.shift(1)\n",
    "accuracy = accuracy_score(y[1:], y_pred[1:])\n",
    "f1 = f1_score(y[1:], y_pred[1:], average='macro')\n",
    "precision = precision_score(y[1:], y_pred[1:], average='macro')\n",
    "recall = recall_score(y[1:], y_pred[1:], average='macro')\n",
    "min_baseline = pd.DataFrame({'accuracy': accuracy, 'f1': f1, 'precision': precision, 'recall': recall}, index=['min_baseline'])"
   ]
  },
  {
   "cell_type": "code",
   "execution_count": 26,
   "metadata": {},
   "outputs": [],
   "source": [
    "def calc_metrics_on_lr(X, model, *, name, plot=True, **params):\n",
    "    y_preds = []\n",
    "    y_preds_proba = []\n",
    "    model = model(**params)\n",
    "    for threshold in range(30, 96):\n",
    "        X_train = X[:threshold]\n",
    "        X_test = X[threshold:]\n",
    "        y_train = y[:threshold]\n",
    "\n",
    "        model.fit(X_train, y_train)\n",
    "        y_pred = model.predict(X_test[0].reshape(1, -1))\n",
    "        y_pred_proba = model.predict_proba(X_test[0].reshape(1, -1))\n",
    "        y_preds.append(y_pred.item())\n",
    "        y_preds_proba.append(y_pred_proba)\n",
    "\n",
    "    acc = accuracy_score(y[30:], y_preds)\n",
    "    f1 = f1_score(y[30:], y_preds, average='macro')\n",
    "    recall = recall_score(y[30:], y_preds, average='macro')\n",
    "    precision = precision_score(y[30:], y_preds, average='macro')\n",
    "    roc_auc = roc_auc_score(y[30:], np.concatenate(y_preds_proba, axis=0), average='macro', multi_class='ovr')\n",
    "    if plot:\n",
    "        print(classification_report(y[30:], y_preds))\n",
    "        cm = confusion_matrix(y[30:], y_preds)\n",
    "        cm = pd.DataFrame(cm, index=['-1', '0', '1'], columns=['-1', '0', 1])\n",
    "        plt.figure(figsize=(3, 3))\n",
    "        sns.heatmap(cm, annot=True, fmt='d')\n",
    "        plt.title(\"Confusion matrix\")\n",
    "        plt.ylabel('True label')\n",
    "        plt.xlabel('Predicted label')\n",
    "        plt.show()\n",
    "\n",
    "        metrics = pd.DataFrame({\n",
    "            'accuracy': acc, 'f1': f1, 'recall': recall, 'precision': precision, 'roc_auc_ovr': roc_auc,\n",
    "            }, index=[name])\n",
    "        return metrics, model\n",
    "    else:\n",
    "        return roc_auc.item(), model"
   ]
  },
  {
   "cell_type": "code",
   "execution_count": null,
   "metadata": {},
   "outputs": [],
   "source": [
    "class Word2VecVectorizer(BaseEstimator, TransformerMixin):\n",
    "    def __init__(self, *, preprocessor=None, vector_size=50, window=3, workers=4):\n",
    "        self._preprocessor = preprocessor\n",
    "        self._vector_size = vector_size\n",
    "        self._window = window\n",
    "        self._workers = workers\n",
    "    \n",
    "    def fit(self, X, y=None):\n",
    "        return self\n",
    "    \n",
    "    def transform(self, X):\n",
    "        if self._preprocessor:\n",
    "            X = X.apply(self._preprocessor).tolist()\n",
    "        \n",
    "        self.model = word2vec.Word2Vec(\n",
    "            X, vector_size=self._vector_size,\n",
    "            window=self._window, workers=self._workers,\n",
    "            seed=RANDOM_STATE\n",
    "        )\n",
    "    \n",
    "        return np.array([\n",
    "            np.mean([self.model.wv[w] for w in words if w in self.model.wv] \n",
    "                    or [np.zeros(self.model.vector_size)], axis=0)\n",
    "            for words in X\n",
    "        ])"
   ]
  },
  {
   "cell_type": "code",
   "execution_count": 238,
   "metadata": {},
   "outputs": [
    {
     "data": {
      "text/plain": [
       "0.8229166666666666"
      ]
     },
     "execution_count": 238,
     "metadata": {},
     "output_type": "execute_result"
    }
   ],
   "source": [
    "mystem = Mystem()\n",
    "STOP_WORDS = set(stopwords.words('russian'))\n",
    "\n",
    "def preprocessor(text):\n",
    "    text = text.lower()\n",
    "    regex = re.compile('[^а-я А-ЯЁё0-9]')\n",
    "    text = regex.sub(' ', text)\n",
    "    text = ' '.join(mystem.lemmatize(text))\n",
    "    return [word for word in text.split() if word not in STOP_WORDS and len(word) > 3]\n",
    "\n",
    "vectorizer = Word2VecVectorizer(\n",
    "    preprocessor=preprocessor,\n",
    "    vector_size=200,\n",
    "    workers=8,\n",
    "    window=1\n",
    ")\n",
    "\n",
    "vectorizer.fit(X.release)\n",
    "\n",
    "w2vec = vectorizer.transform(X.release)\n",
    "\n",
    "scaler = StandardScaler()\n",
    "w2vec = scaler.fit_transform(w2vec)\n",
    "\n",
    "m = LogisticRegression(max_iter=10000, random_state=RANDOM_STATE)\n",
    "m.fit(w2vec, y)\n",
    "accuracy_score(y, m.predict(w2vec))\n"
   ]
  },
  {
   "cell_type": "code",
   "execution_count": 239,
   "metadata": {},
   "outputs": [
    {
     "name": "stderr",
     "output_type": "stream",
     "text": [
      "  0%|          | 0/30 [00:00<?, ?it/s]C:\\Users\\user\\AppData\\Roaming\\Python\\Python312\\site-packages\\sklearn\\metrics\\_classification.py:1531: UndefinedMetricWarning: Precision is ill-defined and being set to 0.0 in labels with no predicted samples. Use `zero_division` parameter to control this behavior.\n",
      "  _warn_prf(average, modifier, f\"{metric.capitalize()} is\", len(result))\n",
      "100%|██████████| 30/30 [00:24<00:00,  1.23it/s]"
     ]
    },
    {
     "name": "stdout",
     "output_type": "stream",
     "text": [
      "Лучшая модель - LogisticRegression(C=5.172896551724139, max_iter=10000, penalty='l1',\n",
      "                   random_state=41825352, solver='liblinear')\n",
      "ROC-AUC = 0.6776543405378849\n"
     ]
    },
    {
     "name": "stderr",
     "output_type": "stream",
     "text": [
      "\n"
     ]
    }
   ],
   "source": [
    "auc = []\n",
    "for c in tqdm(np.linspace(0.001, 10, 30)):\n",
    "    auc.append(calc_metrics_on_lr(w2vec, LogisticRegression, name='w2v l1 only release', plot=False,\n",
    "                                  max_iter=10000, solver='liblinear', penalty='l1', C=c.item(), random_state=RANDOM_STATE))\n",
    "\n",
    "roc_auc, best_model = max(auc, key=lambda x: x[0])\n",
    "\n",
    "print(f\"Лучшая модель - {best_model}\")\n",
    "print(f\"ROC-AUC = {roc_auc}\")"
   ]
  },
  {
   "cell_type": "code",
   "execution_count": 240,
   "metadata": {},
   "outputs": [
    {
     "name": "stdout",
     "output_type": "stream",
     "text": [
      "              precision    recall  f1-score   support\n",
      "\n",
      "        -1.0       0.58      0.61      0.60        23\n",
      "         0.0       0.38      0.38      0.38        24\n",
      "         1.0       0.61      0.58      0.59        19\n",
      "\n",
      "    accuracy                           0.52        66\n",
      "   macro avg       0.52      0.52      0.52        66\n",
      "weighted avg       0.52      0.52      0.52        66\n",
      "\n"
     ]
    },
    {
     "data": {
      "image/png": "[encoded data removed]",
      "text/plain": [
       "<Figure size 300x300 with 2 Axes>"
      ]
     },
     "metadata": {},
     "output_type": "display_data"
    },
    {
     "data": {
      "text/html": [
       "<div>\n",
       "<style scoped>\n",
       "    .dataframe tbody tr th:only-of-type {\n",
       "        vertical-align: middle;\n",
       "    }\n",
       "\n",
       "    .dataframe tbody tr th {\n",
       "        vertical-align: top;\n",
       "    }\n",
       "\n",
       "    .dataframe thead th {\n",
       "        text-align: right;\n",
       "    }\n",
       "</style>\n",
       "<table border=\"1\" class=\"dataframe\">\n",
       "  <thead>\n",
       "    <tr style=\"text-align: right;\">\n",
       "      <th></th>\n",
       "      <th>accuracy</th>\n",
       "      <th>f1</th>\n",
       "      <th>precision</th>\n",
       "      <th>recall</th>\n",
       "      <th>roc_auc_ovr</th>\n",
       "    </tr>\n",
       "  </thead>\n",
       "  <tbody>\n",
       "    <tr>\n",
       "      <th>min_baseline</th>\n",
       "      <td>0.663158</td>\n",
       "      <td>0.667893</td>\n",
       "      <td>0.669919</td>\n",
       "      <td>0.666111</td>\n",
       "      <td>NaN</td>\n",
       "    </tr>\n",
       "    <tr>\n",
       "      <th>word2vec l1 only release</th>\n",
       "      <td>0.515152</td>\n",
       "      <td>0.521780</td>\n",
       "      <td>0.523148</td>\n",
       "      <td>0.520881</td>\n",
       "      <td>0.677654</td>\n",
       "    </tr>\n",
       "  </tbody>\n",
       "</table>\n",
       "</div>"
      ],
      "text/plain": [
       "                          accuracy        f1  precision    recall  roc_auc_ovr\n",
       "min_baseline              0.663158  0.667893   0.669919  0.666111          NaN\n",
       "word2vec l1 only release  0.515152  0.521780   0.523148  0.520881     0.677654"
      ]
     },
     "execution_count": 240,
     "metadata": {},
     "output_type": "execute_result"
    }
   ],
   "source": [
    "metric, model = calc_metrics_on_lr(w2vec, LogisticRegression, name='word2vec l1 only release', **best_model.get_params())\n",
    "metrics = pd.concat([min_baseline, metric], axis=0)\n",
    "metrics"
   ]
  },
  {
   "cell_type": "code",
   "execution_count": null,
   "metadata": {},
   "outputs": [],
   "source": []
  }
 ],
 "metadata": {
  "kernelspec": {
   "display_name": "Python 3",
   "language": "python",
   "name": "python3"
  },
  "language_info": {
   "codemirror_mode": {
    "name": "ipython",
    "version": 3
   },
   "file_extension": ".py",
   "mimetype": "text/x-python",
   "name": "python",
   "nbconvert_exporter": "python",
   "pygments_lexer": "ipython3",
   "version": "3.12.8"
  }
 },
 "nbformat": 4,
 "nbformat_minor": 2
}
