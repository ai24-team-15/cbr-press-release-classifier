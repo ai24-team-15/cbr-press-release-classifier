{
 "cells": [
  {
   "cell_type": "markdown",
   "metadata": {},
   "source": [
    "# Прогнозирование изменения ставки ЦБ (Baseline-решение)"
   ]
  },
  {
   "cell_type": "markdown",
   "metadata": {},
   "source": [
    "### Описание проекта:\n",
    "\n",
    "Baseline-решение задачи классификации направления изменения будущей ключевой ставки ЦБ РФ по семантике текущего пресс-релиза, величины инфляции, курса доллара, а также текущей ставки ЦБ.\n",
    "\n",
    "### Цели проекта:\n",
    "\n",
    "Цель данной работы построение бейзлайна и его улучшение с помощью простейших моделей, для предсказания направления изменения ставки рефинансирования ЦБ. Это наша отправная точка для сравнения и улучшения. \n",
    "\n",
    "### План работы:\n",
    "\n",
    "0. Общая предобработка данных.\n",
    "1. Минимальный бейзлайн.\n",
    "2. Статистические методы :\n",
    "    - Мешок слов плюс линейная модель\n",
    "    - TF-IDF плюс линейная модель\n",
    "    - N-граммы плюс Naive Bayes\n",
    "3. Создание эмбеддингов:\n",
    "    - Word2Vec плюс линейная модель\n",
    "    - GloVe плюс линейная модель\n",
    "4. Выводы\n",
    "\n",
    "### Описание данных:\n",
    "\n",
    "- `date` - дата публикации пресс-релиза\n",
    "- `title` - заголовок пресс-релиза\n",
    "- `release` - текст пресс-релиза\n",
    "- `inflation` - годовая инфляция\n",
    "- `rate` - величина ключевой ставки ЦБ, объявленная на следущем заседании\n",
    "- `usd` - курс доллара\n",
    "- `usd_cur_change_relative` - относительное изменение курса доллара, по сравнению с предыдущим заседанием\n",
    "- `target_categorial` - категориальная метка направления изменения ключевой ставки ЦБ, 1 - повышение, -1 - понижение, 0 - без изменений.\n",
    "- `target_absolute` - абсолютное изменение ключевой ставки ЦБ (следующее значение минус текущее)\n",
    "- `target_relative` - относительное изменение ключевой ставки ЦБ (следующее значение делится на текущее)"
   ]
  },
  {
   "cell_type": "code",
   "execution_count": 1,
   "metadata": {},
   "outputs": [
    {
     "name": "stderr",
     "output_type": "stream",
     "text": [
      "[nltk_data] Downloading package punkt to /home/father/nltk_data...\n",
      "[nltk_data]   Package punkt is already up-to-date!\n",
      "[nltk_data] Downloading package stopwords to /home/father/nltk_data...\n",
      "[nltk_data]   Package stopwords is already up-to-date!\n",
      "[nltk_data] Downloading package punkt_tab to /home/father/nltk_data...\n",
      "[nltk_data]   Package punkt_tab is already up-to-date!\n"
     ]
    },
    {
     "data": {
      "text/plain": [
       "True"
      ]
     },
     "execution_count": 1,
     "metadata": {},
     "output_type": "execute_result"
    }
   ],
   "source": [
    "import re\n",
    "\n",
    "import pandas as pd\n",
    "import numpy as np\n",
    "import matplotlib.pyplot as plt\n",
    "import seaborn as sns\n",
    "from sklearn.linear_model import LogisticRegression\n",
    "from sklearn import svm\n",
    "from sklearn.feature_extraction.text import CountVectorizer\n",
    "from sklearn.metrics import classification_report, confusion_matrix\n",
    "from sklearn.model_selection import StratifiedKFold, cross_validate, KFold\n",
    "from sklearn.pipeline import Pipeline\n",
    "from sklearn.compose import ColumnTransformer\n",
    "import nltk\n",
    "from nltk.corpus import stopwords\n",
    "from nltk.tokenize import word_tokenize\n",
    "from sklearn.feature_extraction.text import CountVectorizer\n",
    "from string import punctuation\n",
    "from pymystem3 import Mystem\n",
    "from sklearn.linear_model import LogisticRegression\n",
    "from sklearn.metrics import accuracy_score, precision_score, recall_score, roc_auc_score, f1_score\n",
    "\n",
    "RANDOM_STATE = 41825352\n",
    "DATASET_URL = '../data/cbr-press-releases.csv'\n",
    "\n",
    "nltk.download('punkt')\n",
    "nltk.download('stopwords')\n",
    "nltk.download('punkt_tab')"
   ]
  },
  {
   "cell_type": "markdown",
   "metadata": {},
   "source": [
    "Загрузим датасет пресс-релизов, полученных с сайта ЦБ РФ:"
   ]
  },
  {
   "cell_type": "code",
   "execution_count": 2,
   "metadata": {},
   "outputs": [],
   "source": [
    "df = pd.read_csv(DATASET_URL, parse_dates=['date'])"
   ]
  },
  {
   "cell_type": "markdown",
   "metadata": {},
   "source": [
    "## Общая предобработка данных"
   ]
  },
  {
   "cell_type": "markdown",
   "metadata": {},
   "source": [
    "`rate` - величина ключевой ставки, которую объявят на следующем заседании. Мы хотели бы знать эту величину. Но мы знаем текущую ставку и эту информацию можно добавить в наши данные сдвинув ставку на один."
   ]
  },
  {
   "cell_type": "code",
   "execution_count": 3,
   "metadata": {},
   "outputs": [],
   "source": [
    "df['rate'] = df.rate.shift(1)"
   ]
  },
  {
   "cell_type": "markdown",
   "metadata": {},
   "source": [
    "В сентябре 2013 года ЦБ ввел ключевую ставку, и назначил ее величину в 5,5% заполним пропущенное значение."
   ]
  },
  {
   "cell_type": "code",
   "execution_count": 4,
   "metadata": {},
   "outputs": [],
   "source": [
    "df.loc[0, 'rate'] = 5.5"
   ]
  },
  {
   "cell_type": "markdown",
   "metadata": {},
   "source": [
    "Дату сделаем индексом, ссылку на пресс-релиз выбросим, эта переменная не поможет в предсказании таргета."
   ]
  },
  {
   "cell_type": "code",
   "execution_count": 5,
   "metadata": {},
   "outputs": [],
   "source": [
    "df.set_index('date', inplace=True)\n",
    "df.drop('link', axis=1, inplace=True)"
   ]
  },
  {
   "cell_type": "markdown",
   "metadata": {},
   "source": [
    "Для последнего релиза неизвестна целевая переменная (направление изменения ключевой ставки), поэтому исключим его из датасета и сохраним отдельно:"
   ]
  },
  {
   "cell_type": "code",
   "execution_count": 6,
   "metadata": {},
   "outputs": [],
   "source": [
    "df.sort_values('date', inplace=True)\n",
    "cur_pr = df.tail(1)\n",
    "df = df[:-1]"
   ]
  },
  {
   "cell_type": "markdown",
   "metadata": {},
   "source": [
    "Мы хотим предсказывать направление ставки рефинансирования `target_categorial`, выделим ее как целевую переменную. `target_absolute` и `target_relative` содержит в себе информацию о целевой переменной удалим их из матрицы признаков."
   ]
  },
  {
   "cell_type": "code",
   "execution_count": 7,
   "metadata": {},
   "outputs": [],
   "source": [
    "X = df.drop(['target_categorial', 'target_absolute', 'target_relative'], axis=1)\n",
    "y = df['target_categorial']"
   ]
  },
  {
   "cell_type": "markdown",
   "metadata": {},
   "source": [
    "## Минимальный безлайн "
   ]
  },
  {
   "cell_type": "markdown",
   "metadata": {},
   "source": [
    "Направление изменения ставки будем предсказывать таким, как в последнем решении. До 13 сентября ключевой ставки не существовало, поэтому мы не можем предсказать таким способом для первого наблюдения, будем оценивать качество бейзлайна без него."
   ]
  },
  {
   "cell_type": "code",
   "execution_count": 8,
   "metadata": {},
   "outputs": [],
   "source": [
    "y_pred = y.shift(1)\n",
    "accuracy = accuracy_score(y[1:], y_pred[1:])\n",
    "f1 = f1_score(y[1:], y_pred[1:], average='macro')\n",
    "precision = precision_score(y[1:], y_pred[1:], average='macro')\n",
    "recall = recall_score(y[1:], y_pred[1:], average='macro')\n",
    "min_baseline = pd.DataFrame({'accuracy': accuracy, 'f1': f1, 'precision': precision, 'recall': recall}, index=['min_baseline'])"
   ]
  },
  {
   "cell_type": "markdown",
   "metadata": {},
   "source": [
    "### Статистические методы"
   ]
  },
  {
   "cell_type": "markdown",
   "metadata": {},
   "source": [
    "#### Мешок слов плюс линейная модель"
   ]
  },
  {
   "cell_type": "markdown",
   "metadata": {},
   "source": [
    "Обучим мешок слов на пресс-релизах"
   ]
  },
  {
   "cell_type": "code",
   "execution_count": 9,
   "metadata": {},
   "outputs": [
    {
     "name": "stderr",
     "output_type": "stream",
     "text": [
      "/home/father/Desktop/cbr-press-release-classifier/.venv/lib/python3.11/site-packages/sklearn/feature_extraction/text.py:521: UserWarning: The parameter 'token_pattern' will not be used since 'tokenizer' is not None'\n",
      "  warnings.warn(\n",
      "/home/father/Desktop/cbr-press-release-classifier/.venv/lib/python3.11/site-packages/sklearn/feature_extraction/text.py:406: UserWarning: Your stop_words may be inconsistent with your preprocessing. Tokenizing the stop words generated tokens ['весь', 'свой', 'это'] not in stop_words.\n",
      "  warnings.warn(\n"
     ]
    }
   ],
   "source": [
    "mystem = Mystem()\n",
    "\n",
    "def preprocessor(text):\n",
    "    regex = re.compile('[^а-я А-ЯЁё]')\n",
    "    text = regex.sub(' ', text)\n",
    "    return ' '.join(mystem.lemmatize(text))\n",
    "\n",
    "vectorizer = CountVectorizer(\n",
    "    lowercase=True,\n",
    "    stop_words=list(stopwords.words('russian')),\n",
    "    tokenizer=word_tokenize,\n",
    "    preprocessor=preprocessor,\n",
    ")\n",
    "\n",
    "vectorizer.fit(X.release)\n",
    "\n",
    "bow = vectorizer.transform(X.release)"
   ]
  },
  {
   "cell_type": "markdown",
   "metadata": {},
   "source": [
    "Зададим начальный порог и будем обучать, модель на наблюдениях до порога, а тестировать на одном наблюдении после. Двигая порог протестируем нашу модель. Качество всех наших моделей будем записывать в табличку."
   ]
  },
  {
   "cell_type": "code",
   "execution_count": 10,
   "metadata": {},
   "outputs": [],
   "source": [
    "def calc_metrics_on_lr(X, *, name, solver, penalty):\n",
    "    y_preds = []\n",
    "    y_preds_proba = []\n",
    "    for threshold in range(30, 96):\n",
    "        model = LogisticRegression(solver=solver, penalty=penalty, C=1.0, max_iter=10000)\n",
    "        X_train = X[:threshold]\n",
    "        X_test = X[threshold:]\n",
    "        y_train = y[:threshold]\n",
    "        y_test = y[threshold:]\n",
    "\n",
    "        model.fit(X_train, y_train)\n",
    "        y_pred = model.predict(X_test[0].reshape(1, -1))\n",
    "        y_pred_proba = model.predict_proba(X_test[0].reshape(1, -1))\n",
    "        y_preds.append(y_pred.item())\n",
    "        y_preds_proba.append(y_pred_proba)\n",
    "\n",
    "    acc = accuracy_score(y[30:], y_preds)\n",
    "    f1 = f1_score(y[30:], y_preds, average='macro')\n",
    "    recall = recall_score(y[30:], y_preds, average='macro')\n",
    "    precision = precision_score(y[30:], y_preds, average='macro')\n",
    "    roc_auc = roc_auc_score(y[30:], np.concatenate(y_preds_proba, axis=0), average='macro', multi_class='ovr')\n",
    "    print(classification_report(y[30:], y_preds))\n",
    "    cm = confusion_matrix(y[30:], y_preds)\n",
    "    cm = pd.DataFrame(cm, index=['-1', '0', '1'], columns=['-1', '0', 1])\n",
    "    sns.heatmap(cm, annot=True, fmt='d')\n",
    "    plt.title(\"Confusion matrix\")\n",
    "    plt.ylabel('True label')\n",
    "    plt.xlabel('Predicted label')\n",
    "    plt.show()\n",
    "\n",
    "    metrics = pd.DataFrame({\n",
    "        'accuracy': acc, 'f1': f1, 'recall': recall, 'precision': precision, 'roc_auc_ovr': roc_auc,\n",
    "        }, index=[name])\n",
    "    return metrics, model"
   ]
  },
  {
   "cell_type": "markdown",
   "metadata": {},
   "source": [
    "Обучим логистическую регрессию с l1 регуляризацией, она нам покажет какие слова не влияют на предсказание модели."
   ]
  },
  {
   "cell_type": "code",
   "execution_count": 11,
   "metadata": {},
   "outputs": [
    {
     "name": "stdout",
     "output_type": "stream",
     "text": [
      "              precision    recall  f1-score   support\n",
      "\n",
      "        -1.0       0.71      0.74      0.72        23\n",
      "         0.0       0.52      0.58      0.55        24\n",
      "         1.0       0.73      0.58      0.65        19\n",
      "\n",
      "    accuracy                           0.64        66\n",
      "   macro avg       0.65      0.63      0.64        66\n",
      "weighted avg       0.65      0.64      0.64        66\n",
      "\n"
     ]
    },
    {
     "data": {
      "image/png": "[encoded data removed]",
      "text/plain": [
       "<Figure size 640x480 with 2 Axes>"
      ]
     },
     "metadata": {},
     "output_type": "display_data"
    },
    {
     "data": {
      "text/html": [
       "<div>\n",
       "<style scoped>\n",
       "    .dataframe tbody tr th:only-of-type {\n",
       "        vertical-align: middle;\n",
       "    }\n",
       "\n",
       "    .dataframe tbody tr th {\n",
       "        vertical-align: top;\n",
       "    }\n",
       "\n",
       "    .dataframe thead th {\n",
       "        text-align: right;\n",
       "    }\n",
       "</style>\n",
       "<table border=\"1\" class=\"dataframe\">\n",
       "  <thead>\n",
       "    <tr style=\"text-align: right;\">\n",
       "      <th></th>\n",
       "      <th>accuracy</th>\n",
       "      <th>f1</th>\n",
       "      <th>precision</th>\n",
       "      <th>recall</th>\n",
       "      <th>roc_auc_ovr</th>\n",
       "    </tr>\n",
       "  </thead>\n",
       "  <tbody>\n",
       "    <tr>\n",
       "      <th>min_baseline</th>\n",
       "      <td>0.663158</td>\n",
       "      <td>0.667893</td>\n",
       "      <td>0.669919</td>\n",
       "      <td>0.666111</td>\n",
       "      <td>NaN</td>\n",
       "    </tr>\n",
       "    <tr>\n",
       "      <th>bow l1 only release</th>\n",
       "      <td>0.636364</td>\n",
       "      <td>0.639828</td>\n",
       "      <td>0.653395</td>\n",
       "      <td>0.633804</td>\n",
       "      <td>0.76559</td>\n",
       "    </tr>\n",
       "  </tbody>\n",
       "</table>\n",
       "</div>"
      ],
      "text/plain": [
       "                     accuracy        f1  precision    recall  roc_auc_ovr\n",
       "min_baseline         0.663158  0.667893   0.669919  0.666111          NaN\n",
       "bow l1 only release  0.636364  0.639828   0.653395  0.633804      0.76559"
      ]
     },
     "execution_count": 11,
     "metadata": {},
     "output_type": "execute_result"
    }
   ],
   "source": [
    "metric, model = calc_metrics_on_lr(bow, name='bow l1 only release', solver='liblinear', penalty='l1')\n",
    "metrics = pd.concat([min_baseline, metric], axis=0)\n",
    "metrics = pd.concat([min_baseline, metric], axis=0)\n",
    "metrics"
   ]
  },
  {
   "cell_type": "markdown",
   "metadata": {},
   "source": [
    "Качество даже хуже минимального бейзлайна, попробуем обучить модель c l2 регуляризацией, и только на тех словах, веса при которых не занулила прошлая модель."
   ]
  },
  {
   "cell_type": "code",
   "execution_count": 12,
   "metadata": {},
   "outputs": [
    {
     "name": "stdout",
     "output_type": "stream",
     "text": [
      "              precision    recall  f1-score   support\n",
      "\n",
      "        -1.0       0.76      0.70      0.73        23\n",
      "         0.0       0.57      0.71      0.63        24\n",
      "         1.0       0.80      0.63      0.71        19\n",
      "\n",
      "    accuracy                           0.68        66\n",
      "   macro avg       0.71      0.68      0.69        66\n",
      "weighted avg       0.70      0.68      0.69        66\n",
      "\n"
     ]
    },
    {
     "data": {
      "image/png": "[encoded data removed]",
      "text/plain": [
       "<Figure size 640x480 with 2 Axes>"
      ]
     },
     "metadata": {},
     "output_type": "display_data"
    },
    {
     "data": {
      "text/html": [
       "<div>\n",
       "<style scoped>\n",
       "    .dataframe tbody tr th:only-of-type {\n",
       "        vertical-align: middle;\n",
       "    }\n",
       "\n",
       "    .dataframe tbody tr th {\n",
       "        vertical-align: top;\n",
       "    }\n",
       "\n",
       "    .dataframe thead th {\n",
       "        text-align: right;\n",
       "    }\n",
       "</style>\n",
       "<table border=\"1\" class=\"dataframe\">\n",
       "  <thead>\n",
       "    <tr style=\"text-align: right;\">\n",
       "      <th></th>\n",
       "      <th>accuracy</th>\n",
       "      <th>f1</th>\n",
       "      <th>precision</th>\n",
       "      <th>recall</th>\n",
       "      <th>roc_auc_ovr</th>\n",
       "    </tr>\n",
       "  </thead>\n",
       "  <tbody>\n",
       "    <tr>\n",
       "      <th>min_baseline</th>\n",
       "      <td>0.663158</td>\n",
       "      <td>0.667893</td>\n",
       "      <td>0.669919</td>\n",
       "      <td>0.666111</td>\n",
       "      <td>NaN</td>\n",
       "    </tr>\n",
       "    <tr>\n",
       "      <th>bow l1 only release</th>\n",
       "      <td>0.636364</td>\n",
       "      <td>0.639828</td>\n",
       "      <td>0.653395</td>\n",
       "      <td>0.633804</td>\n",
       "      <td>0.76559</td>\n",
       "    </tr>\n",
       "    <tr>\n",
       "      <th>bow l2</th>\n",
       "      <td>0.681818</td>\n",
       "      <td>0.687595</td>\n",
       "      <td>0.709524</td>\n",
       "      <td>0.678521</td>\n",
       "      <td>0.84802</td>\n",
       "    </tr>\n",
       "  </tbody>\n",
       "</table>\n",
       "</div>"
      ],
      "text/plain": [
       "                     accuracy        f1  precision    recall  roc_auc_ovr\n",
       "min_baseline         0.663158  0.667893   0.669919  0.666111          NaN\n",
       "bow l1 only release  0.636364  0.639828   0.653395  0.633804      0.76559\n",
       "bow l2               0.681818  0.687595   0.709524  0.678521      0.84802"
      ]
     },
     "execution_count": 12,
     "metadata": {},
     "output_type": "execute_result"
    }
   ],
   "source": [
    "metric, _ = calc_metrics_on_lr(bow[:, np.any(model.coef_ != 0, axis=0)], name='bow l2', solver='newton-cg', penalty='l2')\n",
    "metrics = pd.concat((metrics, metric))\n",
    "metrics\n"
   ]
  },
  {
   "cell_type": "markdown",
   "metadata": {},
   "source": [
    "Качество немного подросло попробуем обучить мешок слов на переменной `title`"
   ]
  },
  {
   "cell_type": "code",
   "execution_count": 13,
   "metadata": {},
   "outputs": [
    {
     "name": "stderr",
     "output_type": "stream",
     "text": [
      "/home/father/Desktop/cbr-press-release-classifier/.venv/lib/python3.11/site-packages/sklearn/feature_extraction/text.py:521: UserWarning: The parameter 'token_pattern' will not be used since 'tokenizer' is not None'\n",
      "  warnings.warn(\n",
      "/home/father/Desktop/cbr-press-release-classifier/.venv/lib/python3.11/site-packages/sklearn/feature_extraction/text.py:406: UserWarning: Your stop_words may be inconsistent with your preprocessing. Tokenizing the stop words generated tokens ['весь', 'свой', 'это'] not in stop_words.\n",
      "  warnings.warn(\n"
     ]
    }
   ],
   "source": [
    "vectorizer = CountVectorizer(\n",
    "    lowercase=True,\n",
    "    stop_words=list(stopwords.words('russian')),\n",
    "    tokenizer=word_tokenize,\n",
    "    preprocessor=preprocessor,\n",
    ")\n",
    "\n",
    "vectorizer.fit(X.title)\n",
    "\n",
    "bow_title = vectorizer.transform(X.title)"
   ]
  },
  {
   "cell_type": "code",
   "execution_count": 14,
   "metadata": {},
   "outputs": [
    {
     "name": "stdout",
     "output_type": "stream",
     "text": [
      "              precision    recall  f1-score   support\n",
      "\n",
      "        -1.0       0.76      0.70      0.73        23\n",
      "         0.0       0.57      0.71      0.63        24\n",
      "         1.0       0.80      0.63      0.71        19\n",
      "\n",
      "    accuracy                           0.68        66\n",
      "   macro avg       0.71      0.68      0.69        66\n",
      "weighted avg       0.70      0.68      0.69        66\n",
      "\n"
     ]
    },
    {
     "data": {
      "image/png": "[encoded data removed]",
      "text/plain": [
       "<Figure size 640x480 with 2 Axes>"
      ]
     },
     "metadata": {},
     "output_type": "display_data"
    },
    {
     "data": {
      "text/html": [
       "<div>\n",
       "<style scoped>\n",
       "    .dataframe tbody tr th:only-of-type {\n",
       "        vertical-align: middle;\n",
       "    }\n",
       "\n",
       "    .dataframe tbody tr th {\n",
       "        vertical-align: top;\n",
       "    }\n",
       "\n",
       "    .dataframe thead th {\n",
       "        text-align: right;\n",
       "    }\n",
       "</style>\n",
       "<table border=\"1\" class=\"dataframe\">\n",
       "  <thead>\n",
       "    <tr style=\"text-align: right;\">\n",
       "      <th></th>\n",
       "      <th>accuracy</th>\n",
       "      <th>f1</th>\n",
       "      <th>precision</th>\n",
       "      <th>recall</th>\n",
       "      <th>roc_auc_ovr</th>\n",
       "    </tr>\n",
       "  </thead>\n",
       "  <tbody>\n",
       "    <tr>\n",
       "      <th>min_baseline</th>\n",
       "      <td>0.663158</td>\n",
       "      <td>0.667893</td>\n",
       "      <td>0.669919</td>\n",
       "      <td>0.666111</td>\n",
       "      <td>NaN</td>\n",
       "    </tr>\n",
       "    <tr>\n",
       "      <th>bow l1 only release</th>\n",
       "      <td>0.636364</td>\n",
       "      <td>0.639828</td>\n",
       "      <td>0.653395</td>\n",
       "      <td>0.633804</td>\n",
       "      <td>0.765590</td>\n",
       "    </tr>\n",
       "    <tr>\n",
       "      <th>bow l2</th>\n",
       "      <td>0.681818</td>\n",
       "      <td>0.687595</td>\n",
       "      <td>0.709524</td>\n",
       "      <td>0.678521</td>\n",
       "      <td>0.848020</td>\n",
       "    </tr>\n",
       "    <tr>\n",
       "      <th>bow add title</th>\n",
       "      <td>0.681818</td>\n",
       "      <td>0.687595</td>\n",
       "      <td>0.709524</td>\n",
       "      <td>0.678521</td>\n",
       "      <td>0.846992</td>\n",
       "    </tr>\n",
       "  </tbody>\n",
       "</table>\n",
       "</div>"
      ],
      "text/plain": [
       "                     accuracy        f1  precision    recall  roc_auc_ovr\n",
       "min_baseline         0.663158  0.667893   0.669919  0.666111          NaN\n",
       "bow l1 only release  0.636364  0.639828   0.653395  0.633804     0.765590\n",
       "bow l2               0.681818  0.687595   0.709524  0.678521     0.848020\n",
       "bow add title        0.681818  0.687595   0.709524  0.678521     0.846992"
      ]
     },
     "execution_count": 14,
     "metadata": {},
     "output_type": "execute_result"
    }
   ],
   "source": [
    "bow_title_release = np.concatenate((bow[:, np.any(model.coef_ != 0, axis=0)].toarray(), bow_title.toarray()), axis=1)\n",
    "metric, _ = calc_metrics_on_lr(bow_title_release, penalty='l2', name='bow add title', solver='newton-cg')\n",
    "metrics = pd.concat([metrics, metric])\n",
    "metrics"
   ]
  },
  {
   "cell_type": "markdown",
   "metadata": {},
   "source": [
    "Добавление мешка слов по названию не улучшило нашу модель, а только усложнило ее. Попробуем к мешку слов по тектам релизов, с самыми важными словами добавим количественные признаки."
   ]
  },
  {
   "cell_type": "code",
   "execution_count": 15,
   "metadata": {},
   "outputs": [
    {
     "name": "stdout",
     "output_type": "stream",
     "text": [
      "              precision    recall  f1-score   support\n",
      "\n",
      "        -1.0       0.76      0.70      0.73        23\n",
      "         0.0       0.55      0.71      0.62        24\n",
      "         1.0       0.79      0.58      0.67        19\n",
      "\n",
      "    accuracy                           0.67        66\n",
      "   macro avg       0.70      0.66      0.67        66\n",
      "weighted avg       0.69      0.67      0.67        66\n",
      "\n"
     ]
    },
    {
     "data": {
      "image/png": "[encoded data removed]",
      "text/plain": [
       "<Figure size 640x480 with 2 Axes>"
      ]
     },
     "metadata": {},
     "output_type": "display_data"
    },
    {
     "data": {
      "text/html": [
       "<div>\n",
       "<style scoped>\n",
       "    .dataframe tbody tr th:only-of-type {\n",
       "        vertical-align: middle;\n",
       "    }\n",
       "\n",
       "    .dataframe tbody tr th {\n",
       "        vertical-align: top;\n",
       "    }\n",
       "\n",
       "    .dataframe thead th {\n",
       "        text-align: right;\n",
       "    }\n",
       "</style>\n",
       "<table border=\"1\" class=\"dataframe\">\n",
       "  <thead>\n",
       "    <tr style=\"text-align: right;\">\n",
       "      <th></th>\n",
       "      <th>accuracy</th>\n",
       "      <th>f1</th>\n",
       "      <th>precision</th>\n",
       "      <th>recall</th>\n",
       "      <th>roc_auc_ovr</th>\n",
       "    </tr>\n",
       "  </thead>\n",
       "  <tbody>\n",
       "    <tr>\n",
       "      <th>min_baseline</th>\n",
       "      <td>0.663158</td>\n",
       "      <td>0.667893</td>\n",
       "      <td>0.669919</td>\n",
       "      <td>0.666111</td>\n",
       "      <td>NaN</td>\n",
       "    </tr>\n",
       "    <tr>\n",
       "      <th>bow l1 only release</th>\n",
       "      <td>0.636364</td>\n",
       "      <td>0.639828</td>\n",
       "      <td>0.653395</td>\n",
       "      <td>0.633804</td>\n",
       "      <td>0.765590</td>\n",
       "    </tr>\n",
       "    <tr>\n",
       "      <th>bow l2</th>\n",
       "      <td>0.681818</td>\n",
       "      <td>0.687595</td>\n",
       "      <td>0.709524</td>\n",
       "      <td>0.678521</td>\n",
       "      <td>0.848020</td>\n",
       "    </tr>\n",
       "    <tr>\n",
       "      <th>bow add title</th>\n",
       "      <td>0.681818</td>\n",
       "      <td>0.687595</td>\n",
       "      <td>0.709524</td>\n",
       "      <td>0.678521</td>\n",
       "      <td>0.846992</td>\n",
       "    </tr>\n",
       "    <tr>\n",
       "      <th>bow release add all num</th>\n",
       "      <td>0.666667</td>\n",
       "      <td>0.670707</td>\n",
       "      <td>0.698669</td>\n",
       "      <td>0.660978</td>\n",
       "      <td>0.814005</td>\n",
       "    </tr>\n",
       "  </tbody>\n",
       "</table>\n",
       "</div>"
      ],
      "text/plain": [
       "                         accuracy        f1  precision    recall  roc_auc_ovr\n",
       "min_baseline             0.663158  0.667893   0.669919  0.666111          NaN\n",
       "bow l1 only release      0.636364  0.639828   0.653395  0.633804     0.765590\n",
       "bow l2                   0.681818  0.687595   0.709524  0.678521     0.848020\n",
       "bow add title            0.681818  0.687595   0.709524  0.678521     0.846992\n",
       "bow release add all num  0.666667  0.670707   0.698669  0.660978     0.814005"
      ]
     },
     "execution_count": 15,
     "metadata": {},
     "output_type": "execute_result"
    }
   ],
   "source": [
    "data = np.concatenate((bow[:, np.any(model.coef_ != 0, axis=0)].toarray(), X.drop(['title', 'release'], axis=1).values), axis=1)\n",
    "\n",
    "metric, _ = calc_metrics_on_lr(data, solver='newton-cg', name='bow release add all num', penalty='l2')\n",
    "\n",
    "metrics = pd.concat([metrics, metric])\n",
    "metrics"
   ]
  },
  {
   "cell_type": "markdown",
   "metadata": {},
   "source": [
    "Добавление количественных переменных только ухудшило нашу модель."
   ]
  },
  {
   "cell_type": "code",
   "execution_count": null,
   "metadata": {},
   "outputs": [],
   "source": []
  }
 ],
 "metadata": {
  "kernelspec": {
   "display_name": ".venv",
   "language": "python",
   "name": "python3"
  },
  "language_info": {
   "codemirror_mode": {
    "name": "ipython",
    "version": 3
   },
   "file_extension": ".py",
   "mimetype": "text/x-python",
   "name": "python",
   "nbconvert_exporter": "python",
   "pygments_lexer": "ipython3",
   "version": "3.11.10"
  }
 },
 "nbformat": 4,
 "nbformat_minor": 2
}
