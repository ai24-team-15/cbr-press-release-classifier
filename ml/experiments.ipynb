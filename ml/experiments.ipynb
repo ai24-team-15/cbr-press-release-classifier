{
 "cells": [
  {
   "cell_type": "markdown",
   "metadata": {},
   "source": [
    "# Прогнозирование изменения ставки ЦБ (Baseline-решение)"
   ]
  },
  {
   "cell_type": "markdown",
   "metadata": {},
   "source": [
    "### Описание проекта:\n",
    "\n",
    "Baseline-решение задачи классификации направления изменения будущей ключевой ставки ЦБ РФ по семантике текущего пресс-релиза, величины инфляции, курса доллара, а также текущей ставки ЦБ.\n",
    "\n",
    "### Цели проекта:\n",
    "\n",
    "Цель данной работы построение бейзлайна и его улучшение с помощью простейших моделей, для предсказания направления изменения ставки рефинансирования ЦБ. Это наша отправная точка для сравнения и улучшения. \n",
    "\n",
    "### План работы:\n",
    "\n",
    "0. Общая предобработка данных.\n",
    "1. Минимальный бейзлайн.\n",
    "2. Статистические методы :\n",
    "    - Мешок слов плюс линейная модель\n",
    "    - TF-IDF плюс линейная модель\n",
    "    - N-граммы плюс Naive Bayes\n",
    "3. Создание эмбеддингов:\n",
    "    - Word2Vec плюс линейная модель\n",
    "    - GloVe плюс линейная модель\n",
    "4. Выводы\n",
    "\n",
    "### Описание данных:\n",
    "\n",
    "- `date` - дата публикации пресс-релиза\n",
    "- `title` - заголовок пресс-релиза\n",
    "- `release` - текст пресс-релиза\n",
    "- `inflation` - годовая инфляция\n",
    "- `rate` - величина ключевой ставки ЦБ, объявленная на следущем заседании\n",
    "- `usd` - курс доллара\n",
    "- `usd_cur_change_relative` - относительное изменение курса доллара, по сравнению с предыдущим заседанием\n",
    "- `target_categorial` - категориальная метка направления изменения ключевой ставки ЦБ, 1 - повышение, -1 - понижение, 0 - без изменений.\n",
    "- `target_absolute` - абсолютное изменение ключевой ставки ЦБ (следующее значение минус текущее)\n",
    "- `target_relative` - относительное изменение ключевой ставки ЦБ (следующее значение делится на текущее)"
   ]
  },
  {
   "cell_type": "code",
   "execution_count": 1,
   "metadata": {},
   "outputs": [
    {
     "name": "stderr",
     "output_type": "stream",
     "text": [
      "[nltk_data] Downloading package punkt to /home/father/nltk_data...\n",
      "[nltk_data]   Package punkt is already up-to-date!\n",
      "[nltk_data] Downloading package stopwords to /home/father/nltk_data...\n",
      "[nltk_data]   Package stopwords is already up-to-date!\n",
      "[nltk_data] Downloading package punkt_tab to /home/father/nltk_data...\n",
      "[nltk_data]   Package punkt_tab is already up-to-date!\n"
     ]
    },
    {
     "data": {
      "text/plain": [
       "True"
      ]
     },
     "execution_count": 1,
     "metadata": {},
     "output_type": "execute_result"
    }
   ],
   "source": [
    "import re\n",
    "from string import punctuation\n",
    "\n",
    "import pandas as pd\n",
    "import numpy as np\n",
    "from tqdm import tqdm\n",
    "import matplotlib.pyplot as plt\n",
    "import seaborn as sns\n",
    "from sklearn.linear_model import LogisticRegression\n",
    "from sklearn.naive_bayes import MultinomialNB\n",
    "from gensim.models import Word2Vec\n",
    "import gensim.downloader as api\n",
    "from pymorphy2 import MorphAnalyzer\n",
    "from sklearn.feature_extraction.text import CountVectorizer\n",
    "from sklearn.metrics import classification_report, confusion_matrix\n",
    "from sklearn.preprocessing import StandardScaler\n",
    "import nltk\n",
    "from nltk.corpus import stopwords\n",
    "from nltk.tokenize import word_tokenize\n",
    "from sklearn.feature_extraction.text import CountVectorizer, TfidfVectorizer\n",
    "from pymystem3 import Mystem\n",
    "from sklearn.linear_model import LogisticRegression\n",
    "from sklearn.metrics import accuracy_score, precision_score, recall_score, roc_auc_score, f1_score\n",
    "\n",
    "RANDOM_STATE = 41825352\n",
    "DATASET_URL = '../data/cbr-press-releases.csv'\n",
    "\n",
    "nltk.download('punkt')\n",
    "nltk.download('stopwords')\n",
    "nltk.download('punkt_tab')"
   ]
  },
  {
   "cell_type": "markdown",
   "metadata": {},
   "source": [
    "Загрузим датасет пресс-релизов, полученных с сайта ЦБ РФ:"
   ]
  },
  {
   "cell_type": "code",
   "execution_count": 2,
   "metadata": {},
   "outputs": [],
   "source": [
    "df = pd.read_csv(DATASET_URL, parse_dates=['date'])"
   ]
  },
  {
   "cell_type": "markdown",
   "metadata": {},
   "source": [
    "## Общая предобработка данных"
   ]
  },
  {
   "cell_type": "markdown",
   "metadata": {},
   "source": [
    "`rate` - величина ключевой ставки, которую объявят на следующем заседании. Мы хотели бы знать эту величину. Но мы знаем текущую ставку и эту информацию можно добавить в наши данные сдвинув ставку на один."
   ]
  },
  {
   "cell_type": "code",
   "execution_count": 3,
   "metadata": {},
   "outputs": [],
   "source": [
    "df['rate'] = df.rate.shift(1)"
   ]
  },
  {
   "cell_type": "markdown",
   "metadata": {},
   "source": [
    "В сентябре 2013 года ЦБ ввел ключевую ставку, и назначил ее величину в 5,5% заполним пропущенное значение."
   ]
  },
  {
   "cell_type": "code",
   "execution_count": 4,
   "metadata": {},
   "outputs": [],
   "source": [
    "df.loc[0, 'rate'] = 5.5"
   ]
  },
  {
   "cell_type": "markdown",
   "metadata": {},
   "source": [
    "Дату сделаем индексом, ссылку на пресс-релиз выбросим, эта переменная не поможет в предсказании таргета."
   ]
  },
  {
   "cell_type": "code",
   "execution_count": 5,
   "metadata": {},
   "outputs": [],
   "source": [
    "df.set_index('date', inplace=True)\n",
    "df.drop('link', axis=1, inplace=True)"
   ]
  },
  {
   "cell_type": "markdown",
   "metadata": {},
   "source": [
    "Для последнего релиза неизвестна целевая переменная (направление изменения ключевой ставки), поэтому исключим его из датасета и сохраним отдельно:"
   ]
  },
  {
   "cell_type": "code",
   "execution_count": 6,
   "metadata": {},
   "outputs": [],
   "source": [
    "df.sort_values('date', inplace=True)\n",
    "cur_pr = df.tail(1)\n",
    "df = df[:-1]"
   ]
  },
  {
   "cell_type": "markdown",
   "metadata": {},
   "source": [
    "Мы хотим предсказывать направление ставки рефинансирования `target_categorial`, выделим ее как целевую переменную. `target_absolute` и `target_relative` содержит в себе информацию о целевой переменной удалим их из матрицы признаков."
   ]
  },
  {
   "cell_type": "code",
   "execution_count": 7,
   "metadata": {},
   "outputs": [],
   "source": [
    "X = df.drop(['target_categorial', 'target_absolute', 'target_relative'], axis=1)\n",
    "y = df['target_categorial']"
   ]
  },
  {
   "cell_type": "markdown",
   "metadata": {},
   "source": [
    "## Минимальный безлайн "
   ]
  },
  {
   "cell_type": "markdown",
   "metadata": {},
   "source": [
    "Направление изменения ставки будем предсказывать таким, как в последнем решении. До 13 сентября ключевой ставки не существовало, поэтому мы не можем предсказать таким способом для первого наблюдения, будем оценивать качество бейзлайна без него."
   ]
  },
  {
   "cell_type": "code",
   "execution_count": 8,
   "metadata": {},
   "outputs": [],
   "source": [
    "y_pred = y.shift(1)\n",
    "accuracy = accuracy_score(y[1:], y_pred[1:])\n",
    "f1 = f1_score(y[1:], y_pred[1:], average='macro')\n",
    "precision = precision_score(y[1:], y_pred[1:], average='macro')\n",
    "recall = recall_score(y[1:], y_pred[1:], average='macro')\n",
    "min_baseline = pd.DataFrame({'accuracy': accuracy, 'f1': f1, 'precision': precision, 'recall': recall}, index=['min_baseline'])"
   ]
  },
  {
   "cell_type": "markdown",
   "metadata": {},
   "source": [
    "## Статистические методы"
   ]
  },
  {
   "cell_type": "markdown",
   "metadata": {},
   "source": [
    "### Мешок слов плюс линейная модель"
   ]
  },
  {
   "cell_type": "markdown",
   "metadata": {},
   "source": [
    "Создадим функцию для тестирования наших моделей. Зададим начальный порог и будем обучать, модель на наблюдениях до порога, а тестировать на одном наблюдении после. Двигая порог протестируем нашу модель. И потом сравним с истинными ответами. Качество всех наших моделей будем записывать в табличку."
   ]
  },
  {
   "cell_type": "code",
   "execution_count": null,
   "metadata": {},
   "outputs": [],
   "source": [
    "def calc_metrics(X, model, *, name, plot=True, **params):\n",
    "    y_preds = []\n",
    "    y_preds_proba = []\n",
    "    model = model(**params)\n",
    "    for threshold in range(30, 96):\n",
    "        X_train = X[:threshold]\n",
    "        X_test = X[threshold:]\n",
    "        y_train = y[:threshold]\n",
    "\n",
    "        model.fit(X_train, y_train)\n",
    "        y_pred = model.predict(X_test[0].reshape(1, -1))\n",
    "        y_pred_proba = model.predict_proba(X_test[0].reshape(1, -1))\n",
    "        y_preds.append(y_pred.item())\n",
    "        y_preds_proba.append(y_pred_proba)\n",
    "\n",
    "    acc = accuracy_score(y[30:], y_preds)\n",
    "    f1 = f1_score(y[30:], y_preds, average='macro')\n",
    "    recall = recall_score(y[30:], y_preds, average='macro')\n",
    "    precision = precision_score(y[30:], y_preds, average='macro')\n",
    "    roc_auc = roc_auc_score(y[30:], np.concatenate(y_preds_proba, axis=0), average='macro', multi_class='ovr')\n",
    "    if plot:\n",
    "        print(classification_report(y[30:], y_preds))\n",
    "        cm = confusion_matrix(y[30:], y_preds)\n",
    "        cm = pd.DataFrame(cm, index=['-1', '0', '1'], columns=['-1', '0', 1])\n",
    "        sns.heatmap(cm, annot=True, fmt='d')\n",
    "        plt.title(\"Confusion matrix\")\n",
    "        plt.ylabel('True label')\n",
    "        plt.xlabel('Predicted label')\n",
    "        plt.show()\n",
    "\n",
    "        metrics = pd.DataFrame({\n",
    "            'accuracy': acc, 'f1': f1, 'recall': recall, 'precision': precision, 'roc_auc_ovr': roc_auc,\n",
    "            }, index=[name])\n",
    "        return metrics, model\n",
    "    else:\n",
    "        return roc_auc.item(), model"
   ]
  },
  {
   "cell_type": "markdown",
   "metadata": {},
   "source": [
    "Обучим логистическую регрессию с l1 регуляризацией, она нам покажет какие слова не влияют на предсказание модели."
   ]
  },
  {
   "cell_type": "code",
   "execution_count": 10,
   "metadata": {},
   "outputs": [],
   "source": [
    "mystem = Mystem()\n",
    "STOP_WORDS = set(stopwords.words('russian'))\n",
    "\n",
    "def preprocessor(text):\n",
    "    text = text.lower()\n",
    "    regex = re.compile('[^а-я А-ЯЁё]')\n",
    "    text = regex.sub(' ', text)\n",
    "    text = ' '.join(mystem.lemmatize(text))\n",
    "    text = ' '.join([word for word in text.split() if word not in STOP_WORDS])\n",
    "    return text\n",
    "\n",
    "vectorizer = CountVectorizer(\n",
    "    preprocessor=preprocessor,\n",
    ")\n",
    "\n",
    "vectorizer.fit(X.release)\n",
    "\n",
    "bow = vectorizer.transform(X.release)"
   ]
  },
  {
   "cell_type": "code",
   "execution_count": null,
   "metadata": {},
   "outputs": [
    {
     "name": "stderr",
     "output_type": "stream",
     "text": [
      "  0%|          | 0/30 [00:00<?, ?it/s]/home/father/Desktop/cbr-press-release-classifier/.venv/lib/python3.10/site-packages/sklearn/metrics/_classification.py:1531: UndefinedMetricWarning: Precision is ill-defined and being set to 0.0 in labels with no predicted samples. Use `zero_division` parameter to control this behavior.\n",
      "  _warn_prf(average, modifier, f\"{metric.capitalize()} is\", len(result))\n",
      "100%|██████████| 30/30 [00:12<00:00,  2.37it/s]"
     ]
    },
    {
     "name": "stdout",
     "output_type": "stream",
     "text": [
      "Лучшая модель - LogisticRegression(C=5.517689655172415, penalty='l1', solver='liblinear')\n",
      "ROC-AUC = 0.7686129373702335\n"
     ]
    },
    {
     "name": "stderr",
     "output_type": "stream",
     "text": [
      "\n"
     ]
    }
   ],
   "source": [
    "auc = []\n",
    "for c in tqdm(np.linspace(0.001, 10, 30)):\n",
    "    auc.append(calc_metrics(bow, LogisticRegression, name='bow l1 only release', plot=False, solver='liblinear', penalty='l1', C=c.item()))\n",
    "\n",
    "roc_auc, best_model = max(auc)\n",
    "\n",
    "print(f\"Лучшая модель - {best_model}\")\n",
    "print(f\"ROC-AUC = {roc_auc}\")"
   ]
  },
  {
   "cell_type": "markdown",
   "metadata": {},
   "source": [
    "Рассмотрим подробнее лучшую модель."
   ]
  },
  {
   "cell_type": "code",
   "execution_count": null,
   "metadata": {},
   "outputs": [
    {
     "name": "stdout",
     "output_type": "stream",
     "text": [
      "              precision    recall  f1-score   support\n",
      "\n",
      "        -1.0       0.68      0.65      0.67        23\n",
      "         0.0       0.50      0.58      0.54        24\n",
      "         1.0       0.75      0.63      0.69        19\n",
      "\n",
      "    accuracy                           0.62        66\n",
      "   macro avg       0.64      0.62      0.63        66\n",
      "weighted avg       0.64      0.62      0.63        66\n",
      "\n"
     ]
    },
    {
     "data": {
      "image/png": "[encoded data removed]",
      "text/plain": [
       "<Figure size 640x480 with 2 Axes>"
      ]
     },
     "metadata": {},
     "output_type": "display_data"
    },
    {
     "data": {
      "text/html": [
       "<div>\n",
       "<style scoped>\n",
       "    .dataframe tbody tr th:only-of-type {\n",
       "        vertical-align: middle;\n",
       "    }\n",
       "\n",
       "    .dataframe tbody tr th {\n",
       "        vertical-align: top;\n",
       "    }\n",
       "\n",
       "    .dataframe thead th {\n",
       "        text-align: right;\n",
       "    }\n",
       "</style>\n",
       "<table border=\"1\" class=\"dataframe\">\n",
       "  <thead>\n",
       "    <tr style=\"text-align: right;\">\n",
       "      <th></th>\n",
       "      <th>accuracy</th>\n",
       "      <th>f1</th>\n",
       "      <th>precision</th>\n",
       "      <th>recall</th>\n",
       "      <th>roc_auc_ovr</th>\n",
       "    </tr>\n",
       "  </thead>\n",
       "  <tbody>\n",
       "    <tr>\n",
       "      <th>min_baseline</th>\n",
       "      <td>0.663158</td>\n",
       "      <td>0.667893</td>\n",
       "      <td>0.669919</td>\n",
       "      <td>0.666111</td>\n",
       "      <td>NaN</td>\n",
       "    </tr>\n",
       "    <tr>\n",
       "      <th>bow l1 only release</th>\n",
       "      <td>0.621212</td>\n",
       "      <td>0.630281</td>\n",
       "      <td>0.643939</td>\n",
       "      <td>0.622362</td>\n",
       "      <td>0.764039</td>\n",
       "    </tr>\n",
       "  </tbody>\n",
       "</table>\n",
       "</div>"
      ],
      "text/plain": [
       "                     accuracy        f1  precision    recall  roc_auc_ovr\n",
       "min_baseline         0.663158  0.667893   0.669919  0.666111          NaN\n",
       "bow l1 only release  0.621212  0.630281   0.643939  0.622362     0.764039"
      ]
     },
     "execution_count": 12,
     "metadata": {},
     "output_type": "execute_result"
    }
   ],
   "source": [
    "metric, model = calc_metrics(bow, LogisticRegression, name='bow l1 only release', **best_model.get_params())\n",
    "metrics = pd.concat([min_baseline, metric], axis=0)\n",
    "metrics"
   ]
  },
  {
   "cell_type": "markdown",
   "metadata": {},
   "source": [
    "Качество даже хуже минимального бейзлайна, подберем гиперпараметры для elasticnet, и только на тех словах, веса при которых не занулила прошлая модель. Мы таким образом заглянем в тестовую выборку, но скорее всего это будет не критично. Таким образом расширим множество стоп слов, словами которые не важны для прошлой модели."
   ]
  },
  {
   "cell_type": "code",
   "execution_count": 13,
   "metadata": {},
   "outputs": [],
   "source": [
    "STOP_WORDS |= set(vectorizer.get_feature_names_out()[np.all(model.coef_ == 0, axis=0)])"
   ]
  },
  {
   "cell_type": "code",
   "execution_count": 14,
   "metadata": {},
   "outputs": [],
   "source": [
    "vectorizer = CountVectorizer(\n",
    "    preprocessor=preprocessor,\n",
    ")\n",
    "\n",
    "vectorizer.fit(X.release)\n",
    "\n",
    "bow = vectorizer.transform(X.release)"
   ]
  },
  {
   "cell_type": "code",
   "execution_count": null,
   "metadata": {},
   "outputs": [
    {
     "name": "stderr",
     "output_type": "stream",
     "text": [
      "100%|██████████| 4/4 [01:50<00:00, 27.59s/it]"
     ]
    },
    {
     "name": "stdout",
     "output_type": "stream",
     "text": [
      "Лучшая модель - LogisticRegression(C=10, l1_ratio=0.1, max_iter=10000, penalty='elasticnet',\n",
      "                   solver='saga')\n",
      "ROC-AUC = 0.8726695205380253\n"
     ]
    },
    {
     "name": "stderr",
     "output_type": "stream",
     "text": [
      "\n"
     ]
    }
   ],
   "source": [
    "auc = []\n",
    "for c in tqdm([0.1, 1, 5, 10]):\n",
    "    for l1_ratio in [0.1, 0.5, 0.9]:\n",
    "        auc.append(\n",
    "            calc_metrics(bow, \n",
    "                                LogisticRegression,\n",
    "                                name='bow l2', \n",
    "                                plot=False, \n",
    "                                solver='saga', \n",
    "                                penalty='elasticnet', \n",
    "                                C=c, \n",
    "                                max_iter=10000, \n",
    "                                # n_jobs=-1,\n",
    "                                l1_ratio=l1_ratio\n",
    "                                )\n",
    "                            )\n",
    "    \n",
    "roc_auc, best_model = max(auc)\n",
    "\n",
    "print(f\"Лучшая модель - {best_model}\")\n",
    "print(f\"ROC-AUC = {roc_auc}\")"
   ]
  },
  {
   "cell_type": "markdown",
   "metadata": {},
   "source": [
    "Обучим лучшую модель и посмотрим ее оценки качества подробнее."
   ]
  },
  {
   "cell_type": "code",
   "execution_count": null,
   "metadata": {},
   "outputs": [
    {
     "name": "stdout",
     "output_type": "stream",
     "text": [
      "              precision    recall  f1-score   support\n",
      "\n",
      "        -1.0       0.83      0.83      0.83        23\n",
      "         0.0       0.63      0.71      0.67        24\n",
      "         1.0       0.75      0.63      0.69        19\n",
      "\n",
      "    accuracy                           0.73        66\n",
      "   macro avg       0.74      0.72      0.73        66\n",
      "weighted avg       0.73      0.73      0.73        66\n",
      "\n"
     ]
    },
    {
     "data": {
      "image/png": "[encoded data removed]",
      "text/plain": [
       "<Figure size 640x480 with 2 Axes>"
      ]
     },
     "metadata": {},
     "output_type": "display_data"
    },
    {
     "data": {
      "text/html": [
       "<div>\n",
       "<style scoped>\n",
       "    .dataframe tbody tr th:only-of-type {\n",
       "        vertical-align: middle;\n",
       "    }\n",
       "\n",
       "    .dataframe tbody tr th {\n",
       "        vertical-align: top;\n",
       "    }\n",
       "\n",
       "    .dataframe thead th {\n",
       "        text-align: right;\n",
       "    }\n",
       "</style>\n",
       "<table border=\"1\" class=\"dataframe\">\n",
       "  <thead>\n",
       "    <tr style=\"text-align: right;\">\n",
       "      <th></th>\n",
       "      <th>accuracy</th>\n",
       "      <th>f1</th>\n",
       "      <th>precision</th>\n",
       "      <th>recall</th>\n",
       "      <th>roc_auc_ovr</th>\n",
       "    </tr>\n",
       "  </thead>\n",
       "  <tbody>\n",
       "    <tr>\n",
       "      <th>min_baseline</th>\n",
       "      <td>0.663158</td>\n",
       "      <td>0.667893</td>\n",
       "      <td>0.669919</td>\n",
       "      <td>0.666111</td>\n",
       "      <td>NaN</td>\n",
       "    </tr>\n",
       "    <tr>\n",
       "      <th>bow l1 only release</th>\n",
       "      <td>0.621212</td>\n",
       "      <td>0.630281</td>\n",
       "      <td>0.643939</td>\n",
       "      <td>0.622362</td>\n",
       "      <td>0.764039</td>\n",
       "    </tr>\n",
       "    <tr>\n",
       "      <th>bow elasticnet</th>\n",
       "      <td>0.727273</td>\n",
       "      <td>0.726156</td>\n",
       "      <td>0.735239</td>\n",
       "      <td>0.722000</td>\n",
       "      <td>0.872670</td>\n",
       "    </tr>\n",
       "  </tbody>\n",
       "</table>\n",
       "</div>"
      ],
      "text/plain": [
       "                     accuracy        f1  precision    recall  roc_auc_ovr\n",
       "min_baseline         0.663158  0.667893   0.669919  0.666111          NaN\n",
       "bow l1 only release  0.621212  0.630281   0.643939  0.622362     0.764039\n",
       "bow elasticnet       0.727273  0.726156   0.735239  0.722000     0.872670"
      ]
     },
     "execution_count": 16,
     "metadata": {},
     "output_type": "execute_result"
    }
   ],
   "source": [
    "metric, _ = calc_metrics(bow, LogisticRegression, name='bow elasticnet', **best_model.get_params())\n",
    "metrics = pd.concat((metrics, metric))\n",
    "metrics"
   ]
  },
  {
   "cell_type": "markdown",
   "metadata": {},
   "source": [
    "Качество немного подросло попробуем обучить мешок слов не только на пресс-релизах, но и на названиях."
   ]
  },
  {
   "cell_type": "code",
   "execution_count": 17,
   "metadata": {},
   "outputs": [],
   "source": [
    "vectorizer_title = CountVectorizer(\n",
    "    preprocessor=preprocessor,\n",
    ")\n",
    "\n",
    "vectorizer_title.fit(X.title)\n",
    "\n",
    "bow_title = vectorizer_title.transform(X.title)"
   ]
  },
  {
   "cell_type": "code",
   "execution_count": 18,
   "metadata": {},
   "outputs": [],
   "source": [
    "bow_title_release = np.concatenate((bow.toarray(), bow_title.toarray()), axis=1)"
   ]
  },
  {
   "cell_type": "markdown",
   "metadata": {},
   "source": [
    "Подберем гиперпараметры для модели обучаемой на названии релиза и самом релизе."
   ]
  },
  {
   "cell_type": "code",
   "execution_count": null,
   "metadata": {},
   "outputs": [
    {
     "name": "stderr",
     "output_type": "stream",
     "text": [
      "100%|██████████| 4/4 [01:49<00:00, 27.34s/it]"
     ]
    },
    {
     "name": "stdout",
     "output_type": "stream",
     "text": [
      "Лучшая модель - LogisticRegression(C=10, l1_ratio=0.1, max_iter=10000, penalty='elasticnet',\n",
      "                   solver='saga')\n",
      "ROC-AUC = 0.8719655590977817\n"
     ]
    },
    {
     "name": "stderr",
     "output_type": "stream",
     "text": [
      "\n"
     ]
    }
   ],
   "source": [
    "auc = []\n",
    "for c in tqdm([0.1, 1, 5, 10]):\n",
    "    for l1_ratio in [0.1, 0.5, 0.9]:\n",
    "        auc.append(\n",
    "            calc_metrics(bow_title_release,\n",
    "                               LogisticRegression, \n",
    "                                name='bow', \n",
    "                                plot=False, \n",
    "                                solver='saga', \n",
    "                                penalty='elasticnet', \n",
    "                                C=c, \n",
    "                                max_iter=10000, \n",
    "                                # n_jobs=-1,\n",
    "                                l1_ratio=l1_ratio\n",
    "                            )\n",
    "                        )\n",
    "    \n",
    "roc_auc, best_model = max(auc)\n",
    "\n",
    "print(f\"Лучшая модель - {best_model}\")\n",
    "print(f\"ROC-AUC = {roc_auc}\")"
   ]
  },
  {
   "cell_type": "markdown",
   "metadata": {},
   "source": [
    "Посмотрим на метрики модели и добавим их в таблицу."
   ]
  },
  {
   "cell_type": "code",
   "execution_count": null,
   "metadata": {},
   "outputs": [
    {
     "name": "stdout",
     "output_type": "stream",
     "text": [
      "              precision    recall  f1-score   support\n",
      "\n",
      "        -1.0       0.83      0.83      0.83        23\n",
      "         0.0       0.63      0.71      0.67        24\n",
      "         1.0       0.75      0.63      0.69        19\n",
      "\n",
      "    accuracy                           0.73        66\n",
      "   macro avg       0.74      0.72      0.73        66\n",
      "weighted avg       0.73      0.73      0.73        66\n",
      "\n"
     ]
    },
    {
     "data": {
      "image/png": "[encoded data removed]",
      "text/plain": [
       "<Figure size 640x480 with 2 Axes>"
      ]
     },
     "metadata": {},
     "output_type": "display_data"
    },
    {
     "data": {
      "text/html": [
       "<div>\n",
       "<style scoped>\n",
       "    .dataframe tbody tr th:only-of-type {\n",
       "        vertical-align: middle;\n",
       "    }\n",
       "\n",
       "    .dataframe tbody tr th {\n",
       "        vertical-align: top;\n",
       "    }\n",
       "\n",
       "    .dataframe thead th {\n",
       "        text-align: right;\n",
       "    }\n",
       "</style>\n",
       "<table border=\"1\" class=\"dataframe\">\n",
       "  <thead>\n",
       "    <tr style=\"text-align: right;\">\n",
       "      <th></th>\n",
       "      <th>accuracy</th>\n",
       "      <th>f1</th>\n",
       "      <th>precision</th>\n",
       "      <th>recall</th>\n",
       "      <th>roc_auc_ovr</th>\n",
       "    </tr>\n",
       "  </thead>\n",
       "  <tbody>\n",
       "    <tr>\n",
       "      <th>min_baseline</th>\n",
       "      <td>0.663158</td>\n",
       "      <td>0.667893</td>\n",
       "      <td>0.669919</td>\n",
       "      <td>0.666111</td>\n",
       "      <td>NaN</td>\n",
       "    </tr>\n",
       "    <tr>\n",
       "      <th>bow l1 only release</th>\n",
       "      <td>0.621212</td>\n",
       "      <td>0.630281</td>\n",
       "      <td>0.643939</td>\n",
       "      <td>0.622362</td>\n",
       "      <td>0.764039</td>\n",
       "    </tr>\n",
       "    <tr>\n",
       "      <th>bow elasticnet</th>\n",
       "      <td>0.727273</td>\n",
       "      <td>0.726156</td>\n",
       "      <td>0.735239</td>\n",
       "      <td>0.722000</td>\n",
       "      <td>0.872670</td>\n",
       "    </tr>\n",
       "    <tr>\n",
       "      <th>bow release title</th>\n",
       "      <td>0.727273</td>\n",
       "      <td>0.726156</td>\n",
       "      <td>0.735239</td>\n",
       "      <td>0.722000</td>\n",
       "      <td>0.870925</td>\n",
       "    </tr>\n",
       "  </tbody>\n",
       "</table>\n",
       "</div>"
      ],
      "text/plain": [
       "                     accuracy        f1  precision    recall  roc_auc_ovr\n",
       "min_baseline         0.663158  0.667893   0.669919  0.666111          NaN\n",
       "bow l1 only release  0.621212  0.630281   0.643939  0.622362     0.764039\n",
       "bow elasticnet       0.727273  0.726156   0.735239  0.722000     0.872670\n",
       "bow release title    0.727273  0.726156   0.735239  0.722000     0.870925"
      ]
     },
     "execution_count": 20,
     "metadata": {},
     "output_type": "execute_result"
    }
   ],
   "source": [
    "metric, _ = calc_metrics(bow_title_release, LogisticRegression, name='bow release title', **best_model.get_params())\n",
    "metrics = pd.concat([metrics, metric])\n",
    "metrics"
   ]
  },
  {
   "cell_type": "markdown",
   "metadata": {},
   "source": [
    "Добавление мешка слов по названию не улучшило нашу модель, а только усложнило ее. Попробуем к мешку слов по текстам релизов, с самыми важными словами добавим количественные признаки."
   ]
  },
  {
   "cell_type": "code",
   "execution_count": 21,
   "metadata": {},
   "outputs": [],
   "source": [
    "num_columns = ['inflation', 'rate', 'usd', 'usd_cur_change_relative']\n",
    "\n",
    "scaler = StandardScaler()\n",
    "scaler.fit(X[num_columns])\n",
    "X[num_columns] = scaler.transform(X[num_columns])"
   ]
  },
  {
   "cell_type": "code",
   "execution_count": 22,
   "metadata": {},
   "outputs": [],
   "source": [
    "all_data = np.concatenate((bow_title_release, X[num_columns].values), axis=1)"
   ]
  },
  {
   "cell_type": "code",
   "execution_count": null,
   "metadata": {},
   "outputs": [
    {
     "name": "stderr",
     "output_type": "stream",
     "text": [
      "100%|██████████| 4/4 [01:48<00:00, 27.20s/it]"
     ]
    },
    {
     "name": "stdout",
     "output_type": "stream",
     "text": [
      "Лучшая модель - LogisticRegression(C=10, l1_ratio=0.1, max_iter=10000, penalty='elasticnet',\n",
      "                   solver='saga')\n",
      "ROC-AUC = 0.8659324746590521\n"
     ]
    },
    {
     "name": "stderr",
     "output_type": "stream",
     "text": [
      "\n"
     ]
    }
   ],
   "source": [
    "auc = []\n",
    "for c in tqdm([0.1, 1, 5, 10]):\n",
    "    for l1_ratio in [0.1, 0.5, 0.9]:\n",
    "        auc.append(\n",
    "            calc_metrics(all_data, \n",
    "                               LogisticRegression,\n",
    "                            name='bow all data', \n",
    "                            plot=False, \n",
    "                            solver='saga', \n",
    "                            penalty='elasticnet', \n",
    "                            C=c, \n",
    "                            max_iter=10000, \n",
    "                            # n_jobs=-1,\n",
    "                            l1_ratio=l1_ratio\n",
    "                            )\n",
    "                        )\n",
    "    \n",
    "roc_auc, best_model = max(auc, key=lambda x: x[0])\n",
    "\n",
    "print(f\"Лучшая модель - {best_model}\")\n",
    "print(f\"ROC-AUC = {roc_auc}\")"
   ]
  },
  {
   "cell_type": "code",
   "execution_count": null,
   "metadata": {},
   "outputs": [
    {
     "name": "stdout",
     "output_type": "stream",
     "text": [
      "              precision    recall  f1-score   support\n",
      "\n",
      "        -1.0       0.80      0.87      0.83        23\n",
      "         0.0       0.64      0.67      0.65        24\n",
      "         1.0       0.75      0.63      0.69        19\n",
      "\n",
      "    accuracy                           0.73        66\n",
      "   macro avg       0.73      0.72      0.72        66\n",
      "weighted avg       0.73      0.73      0.73        66\n",
      "\n"
     ]
    },
    {
     "data": {
      "image/png": "[encoded data removed]",
      "text/plain": [
       "<Figure size 640x480 with 2 Axes>"
      ]
     },
     "metadata": {},
     "output_type": "display_data"
    },
    {
     "data": {
      "text/html": [
       "<div>\n",
       "<style scoped>\n",
       "    .dataframe tbody tr th:only-of-type {\n",
       "        vertical-align: middle;\n",
       "    }\n",
       "\n",
       "    .dataframe tbody tr th {\n",
       "        vertical-align: top;\n",
       "    }\n",
       "\n",
       "    .dataframe thead th {\n",
       "        text-align: right;\n",
       "    }\n",
       "</style>\n",
       "<table border=\"1\" class=\"dataframe\">\n",
       "  <thead>\n",
       "    <tr style=\"text-align: right;\">\n",
       "      <th></th>\n",
       "      <th>accuracy</th>\n",
       "      <th>f1</th>\n",
       "      <th>precision</th>\n",
       "      <th>recall</th>\n",
       "      <th>roc_auc_ovr</th>\n",
       "    </tr>\n",
       "  </thead>\n",
       "  <tbody>\n",
       "    <tr>\n",
       "      <th>min_baseline</th>\n",
       "      <td>0.663158</td>\n",
       "      <td>0.667893</td>\n",
       "      <td>0.669919</td>\n",
       "      <td>0.666111</td>\n",
       "      <td>NaN</td>\n",
       "    </tr>\n",
       "    <tr>\n",
       "      <th>bow l1 only release</th>\n",
       "      <td>0.621212</td>\n",
       "      <td>0.630281</td>\n",
       "      <td>0.643939</td>\n",
       "      <td>0.622362</td>\n",
       "      <td>0.764039</td>\n",
       "    </tr>\n",
       "    <tr>\n",
       "      <th>bow elasticnet</th>\n",
       "      <td>0.727273</td>\n",
       "      <td>0.726156</td>\n",
       "      <td>0.735239</td>\n",
       "      <td>0.722000</td>\n",
       "      <td>0.872670</td>\n",
       "    </tr>\n",
       "    <tr>\n",
       "      <th>bow release title</th>\n",
       "      <td>0.727273</td>\n",
       "      <td>0.726156</td>\n",
       "      <td>0.735239</td>\n",
       "      <td>0.722000</td>\n",
       "      <td>0.870925</td>\n",
       "    </tr>\n",
       "    <tr>\n",
       "      <th>bow release all num</th>\n",
       "      <td>0.727273</td>\n",
       "      <td>0.724036</td>\n",
       "      <td>0.730000</td>\n",
       "      <td>0.722604</td>\n",
       "      <td>0.865277</td>\n",
       "    </tr>\n",
       "  </tbody>\n",
       "</table>\n",
       "</div>"
      ],
      "text/plain": [
       "                     accuracy        f1  precision    recall  roc_auc_ovr\n",
       "min_baseline         0.663158  0.667893   0.669919  0.666111          NaN\n",
       "bow l1 only release  0.621212  0.630281   0.643939  0.622362     0.764039\n",
       "bow elasticnet       0.727273  0.726156   0.735239  0.722000     0.872670\n",
       "bow release title    0.727273  0.726156   0.735239  0.722000     0.870925\n",
       "bow release all num  0.727273  0.724036   0.730000  0.722604     0.865277"
      ]
     },
     "execution_count": 24,
     "metadata": {},
     "output_type": "execute_result"
    }
   ],
   "source": [
    "metric, _ = calc_metrics(all_data, LogisticRegression, name='bow release all num', **best_model.get_params())\n",
    "\n",
    "metrics = pd.concat([metrics, metric])\n",
    "metrics"
   ]
  },
  {
   "cell_type": "markdown",
   "metadata": {},
   "source": [
    "Добавление количественных переменных только ухудшило нашу модель."
   ]
  },
  {
   "cell_type": "markdown",
   "metadata": {},
   "source": [
    "### Tf-idf и линейная модель"
   ]
  },
  {
   "cell_type": "markdown",
   "metadata": {},
   "source": [
    "Протестируем TF-IDF на текстах релизов."
   ]
  },
  {
   "cell_type": "code",
   "execution_count": 25,
   "metadata": {},
   "outputs": [],
   "source": [
    "mystem = Mystem()\n",
    "STOP_WORDS = set(stopwords.words('russian'))\n",
    "\n",
    "def preprocessor(text):\n",
    "    text = text.lower()\n",
    "    regex = re.compile('[^а-я А-ЯЁё]')\n",
    "    text = regex.sub(' ', text)\n",
    "    text = ' '.join(mystem.lemmatize(text))\n",
    "    text = ' '.join([word for word in text.split() if word not in STOP_WORDS])\n",
    "    return text\n",
    "\n",
    "vectorizer = TfidfVectorizer(\n",
    "    preprocessor=preprocessor,\n",
    ")\n",
    "\n",
    "vectorizer.fit(X.release)\n",
    "\n",
    "tf_idf = vectorizer.transform(X.release)"
   ]
  },
  {
   "cell_type": "code",
   "execution_count": null,
   "metadata": {},
   "outputs": [
    {
     "name": "stderr",
     "output_type": "stream",
     "text": [
      "  0%|          | 0/30 [00:00<?, ?it/s]/home/father/Desktop/cbr-press-release-classifier/.venv/lib/python3.10/site-packages/sklearn/metrics/_classification.py:1531: UndefinedMetricWarning: Precision is ill-defined and being set to 0.0 in labels with no predicted samples. Use `zero_division` parameter to control this behavior.\n",
      "  _warn_prf(average, modifier, f\"{metric.capitalize()} is\", len(result))\n",
      "/home/father/Desktop/cbr-press-release-classifier/.venv/lib/python3.10/site-packages/sklearn/metrics/_classification.py:1531: UndefinedMetricWarning: Precision is ill-defined and being set to 0.0 in labels with no predicted samples. Use `zero_division` parameter to control this behavior.\n",
      "  _warn_prf(average, modifier, f\"{metric.capitalize()} is\", len(result))\n",
      "  7%|▋         | 2/30 [00:00<00:02, 10.88it/s]/home/father/Desktop/cbr-press-release-classifier/.venv/lib/python3.10/site-packages/sklearn/metrics/_classification.py:1531: UndefinedMetricWarning: Precision is ill-defined and being set to 0.0 in labels with no predicted samples. Use `zero_division` parameter to control this behavior.\n",
      "  _warn_prf(average, modifier, f\"{metric.capitalize()} is\", len(result))\n",
      "/home/father/Desktop/cbr-press-release-classifier/.venv/lib/python3.10/site-packages/sklearn/metrics/_classification.py:1531: UndefinedMetricWarning: Precision is ill-defined and being set to 0.0 in labels with no predicted samples. Use `zero_division` parameter to control this behavior.\n",
      "  _warn_prf(average, modifier, f\"{metric.capitalize()} is\", len(result))\n",
      " 13%|█▎        | 4/30 [00:00<00:02, 10.13it/s]/home/father/Desktop/cbr-press-release-classifier/.venv/lib/python3.10/site-packages/sklearn/metrics/_classification.py:1531: UndefinedMetricWarning: Precision is ill-defined and being set to 0.0 in labels with no predicted samples. Use `zero_division` parameter to control this behavior.\n",
      "  _warn_prf(average, modifier, f\"{metric.capitalize()} is\", len(result))\n",
      "100%|██████████| 30/30 [00:05<00:00,  5.61it/s]"
     ]
    },
    {
     "name": "stdout",
     "output_type": "stream",
     "text": [
      "Лучшая модель - LogisticRegression(C=10.0, penalty='l1', solver='liblinear')\n",
      "ROC-AUC = 0.784512791251531\n"
     ]
    },
    {
     "name": "stderr",
     "output_type": "stream",
     "text": [
      "\n"
     ]
    }
   ],
   "source": [
    "auc = []\n",
    "for c in tqdm(np.linspace(0.001, 10, 30)):\n",
    "    auc.append(calc_metrics(tf_idf, LogisticRegression, name='tf-idf l1 only release', plot=False, solver='liblinear', penalty='l1', C=c.item()))\n",
    "\n",
    "roc_auc, best_model = max(auc, key=lambda x: x[0])\n",
    "\n",
    "print(f\"Лучшая модель - {best_model}\")\n",
    "print(f\"ROC-AUC = {roc_auc}\")"
   ]
  },
  {
   "cell_type": "code",
   "execution_count": null,
   "metadata": {},
   "outputs": [
    {
     "name": "stdout",
     "output_type": "stream",
     "text": [
      "              precision    recall  f1-score   support\n",
      "\n",
      "        -1.0       0.70      0.70      0.70        23\n",
      "         0.0       0.47      0.58      0.52        24\n",
      "         1.0       0.77      0.53      0.62        19\n",
      "\n",
      "    accuracy                           0.61        66\n",
      "   macro avg       0.64      0.60      0.61        66\n",
      "weighted avg       0.63      0.61      0.61        66\n",
      "\n"
     ]
    },
    {
     "data": {
      "image/png": "[encoded data removed]",
      "text/plain": [
       "<Figure size 640x480 with 2 Axes>"
      ]
     },
     "metadata": {},
     "output_type": "display_data"
    },
    {
     "data": {
      "text/html": [
       "<div>\n",
       "<style scoped>\n",
       "    .dataframe tbody tr th:only-of-type {\n",
       "        vertical-align: middle;\n",
       "    }\n",
       "\n",
       "    .dataframe tbody tr th {\n",
       "        vertical-align: top;\n",
       "    }\n",
       "\n",
       "    .dataframe thead th {\n",
       "        text-align: right;\n",
       "    }\n",
       "</style>\n",
       "<table border=\"1\" class=\"dataframe\">\n",
       "  <thead>\n",
       "    <tr style=\"text-align: right;\">\n",
       "      <th></th>\n",
       "      <th>accuracy</th>\n",
       "      <th>f1</th>\n",
       "      <th>precision</th>\n",
       "      <th>recall</th>\n",
       "      <th>roc_auc_ovr</th>\n",
       "    </tr>\n",
       "  </thead>\n",
       "  <tbody>\n",
       "    <tr>\n",
       "      <th>min_baseline</th>\n",
       "      <td>0.663158</td>\n",
       "      <td>0.667893</td>\n",
       "      <td>0.669919</td>\n",
       "      <td>0.666111</td>\n",
       "      <td>NaN</td>\n",
       "    </tr>\n",
       "    <tr>\n",
       "      <th>bow l1 only release</th>\n",
       "      <td>0.621212</td>\n",
       "      <td>0.630281</td>\n",
       "      <td>0.643939</td>\n",
       "      <td>0.622362</td>\n",
       "      <td>0.764039</td>\n",
       "    </tr>\n",
       "    <tr>\n",
       "      <th>bow elasticnet</th>\n",
       "      <td>0.727273</td>\n",
       "      <td>0.726156</td>\n",
       "      <td>0.735239</td>\n",
       "      <td>0.722000</td>\n",
       "      <td>0.872670</td>\n",
       "    </tr>\n",
       "    <tr>\n",
       "      <th>bow release title</th>\n",
       "      <td>0.727273</td>\n",
       "      <td>0.726156</td>\n",
       "      <td>0.735239</td>\n",
       "      <td>0.722000</td>\n",
       "      <td>0.870925</td>\n",
       "    </tr>\n",
       "    <tr>\n",
       "      <th>bow release all num</th>\n",
       "      <td>0.727273</td>\n",
       "      <td>0.724036</td>\n",
       "      <td>0.730000</td>\n",
       "      <td>0.722604</td>\n",
       "      <td>0.865277</td>\n",
       "    </tr>\n",
       "    <tr>\n",
       "      <th>tf_idf l1 only release</th>\n",
       "      <td>0.606061</td>\n",
       "      <td>0.613057</td>\n",
       "      <td>0.643850</td>\n",
       "      <td>0.601767</td>\n",
       "      <td>0.784513</td>\n",
       "    </tr>\n",
       "  </tbody>\n",
       "</table>\n",
       "</div>"
      ],
      "text/plain": [
       "                        accuracy        f1  precision    recall  roc_auc_ovr\n",
       "min_baseline            0.663158  0.667893   0.669919  0.666111          NaN\n",
       "bow l1 only release     0.621212  0.630281   0.643939  0.622362     0.764039\n",
       "bow elasticnet          0.727273  0.726156   0.735239  0.722000     0.872670\n",
       "bow release title       0.727273  0.726156   0.735239  0.722000     0.870925\n",
       "bow release all num     0.727273  0.724036   0.730000  0.722604     0.865277\n",
       "tf_idf l1 only release  0.606061  0.613057   0.643850  0.601767     0.784513"
      ]
     },
     "execution_count": 27,
     "metadata": {},
     "output_type": "execute_result"
    }
   ],
   "source": [
    "metric, model = calc_metrics(tf_idf, LogisticRegression, name='tf_idf l1 only release', **best_model.get_params())\n",
    "metrics = pd.concat([metrics, metric], axis=0)\n",
    "metrics"
   ]
  },
  {
   "cell_type": "code",
   "execution_count": 28,
   "metadata": {},
   "outputs": [],
   "source": [
    "STOP_WORDS |= set(vectorizer.get_feature_names_out()[np.all(model.coef_ == 0, axis=0)])"
   ]
  },
  {
   "cell_type": "code",
   "execution_count": 29,
   "metadata": {},
   "outputs": [],
   "source": [
    "vectorizer = TfidfVectorizer(\n",
    "    preprocessor=preprocessor,\n",
    ")\n",
    "\n",
    "vectorizer.fit(X.release)\n",
    "\n",
    "tf_idf = vectorizer.transform(X.release)"
   ]
  },
  {
   "cell_type": "code",
   "execution_count": null,
   "metadata": {},
   "outputs": [
    {
     "name": "stderr",
     "output_type": "stream",
     "text": [
      "  0%|          | 0/4 [00:00<?, ?it/s]/home/father/Desktop/cbr-press-release-classifier/.venv/lib/python3.10/site-packages/sklearn/metrics/_classification.py:1531: UndefinedMetricWarning: Precision is ill-defined and being set to 0.0 in labels with no predicted samples. Use `zero_division` parameter to control this behavior.\n",
      "  _warn_prf(average, modifier, f\"{metric.capitalize()} is\", len(result))\n",
      "/home/father/Desktop/cbr-press-release-classifier/.venv/lib/python3.10/site-packages/sklearn/metrics/_classification.py:1531: UndefinedMetricWarning: Precision is ill-defined and being set to 0.0 in labels with no predicted samples. Use `zero_division` parameter to control this behavior.\n",
      "  _warn_prf(average, modifier, f\"{metric.capitalize()} is\", len(result))\n",
      "100%|██████████| 4/4 [00:17<00:00,  4.43s/it]"
     ]
    },
    {
     "name": "stdout",
     "output_type": "stream",
     "text": [
      "Лучшая модель - LogisticRegression(C=10, l1_ratio=0.1, max_iter=10000, penalty='elasticnet',\n",
      "                   solver='saga')\n",
      "ROC-AUC = 0.900986562293837\n"
     ]
    },
    {
     "name": "stderr",
     "output_type": "stream",
     "text": [
      "\n"
     ]
    }
   ],
   "source": [
    "auc = []\n",
    "for c in tqdm([0.1, 1, 5, 10]):\n",
    "    for l1_ratio in [0.1, 0.5, 0.9]:\n",
    "        auc.append(\n",
    "            calc_metrics(tf_idf, \n",
    "                               LogisticRegression,\n",
    "                            name='tf-idf', \n",
    "                            plot=False, \n",
    "                            solver='saga', \n",
    "                            penalty='elasticnet', \n",
    "                            C=c, \n",
    "                            max_iter=10000, \n",
    "                            # n_jobs=-1,\n",
    "                            l1_ratio=l1_ratio\n",
    "                            )\n",
    "                        )\n",
    "    \n",
    "roc_auc, best_model = max(auc)\n",
    "\n",
    "print(f\"Лучшая модель - {best_model}\")\n",
    "print(f\"ROC-AUC = {roc_auc}\")"
   ]
  },
  {
   "cell_type": "code",
   "execution_count": null,
   "metadata": {},
   "outputs": [
    {
     "name": "stdout",
     "output_type": "stream",
     "text": [
      "              precision    recall  f1-score   support\n",
      "\n",
      "        -1.0       0.82      0.78      0.80        23\n",
      "         0.0       0.67      0.75      0.71        24\n",
      "         1.0       0.82      0.74      0.78        19\n",
      "\n",
      "    accuracy                           0.76        66\n",
      "   macro avg       0.77      0.76      0.76        66\n",
      "weighted avg       0.76      0.76      0.76        66\n",
      "\n"
     ]
    },
    {
     "data": {
      "image/png": "[encoded data removed]",
      "text/plain": [
       "<Figure size 640x480 with 2 Axes>"
      ]
     },
     "metadata": {},
     "output_type": "display_data"
    },
    {
     "data": {
      "text/html": [
       "<div>\n",
       "<style scoped>\n",
       "    .dataframe tbody tr th:only-of-type {\n",
       "        vertical-align: middle;\n",
       "    }\n",
       "\n",
       "    .dataframe tbody tr th {\n",
       "        vertical-align: top;\n",
       "    }\n",
       "\n",
       "    .dataframe thead th {\n",
       "        text-align: right;\n",
       "    }\n",
       "</style>\n",
       "<table border=\"1\" class=\"dataframe\">\n",
       "  <thead>\n",
       "    <tr style=\"text-align: right;\">\n",
       "      <th></th>\n",
       "      <th>accuracy</th>\n",
       "      <th>f1</th>\n",
       "      <th>precision</th>\n",
       "      <th>recall</th>\n",
       "      <th>roc_auc_ovr</th>\n",
       "    </tr>\n",
       "  </thead>\n",
       "  <tbody>\n",
       "    <tr>\n",
       "      <th>min_baseline</th>\n",
       "      <td>0.663158</td>\n",
       "      <td>0.667893</td>\n",
       "      <td>0.669919</td>\n",
       "      <td>0.666111</td>\n",
       "      <td>NaN</td>\n",
       "    </tr>\n",
       "    <tr>\n",
       "      <th>bow l1 only release</th>\n",
       "      <td>0.621212</td>\n",
       "      <td>0.630281</td>\n",
       "      <td>0.643939</td>\n",
       "      <td>0.622362</td>\n",
       "      <td>0.764039</td>\n",
       "    </tr>\n",
       "    <tr>\n",
       "      <th>bow elasticnet</th>\n",
       "      <td>0.727273</td>\n",
       "      <td>0.726156</td>\n",
       "      <td>0.735239</td>\n",
       "      <td>0.722000</td>\n",
       "      <td>0.872670</td>\n",
       "    </tr>\n",
       "    <tr>\n",
       "      <th>bow release title</th>\n",
       "      <td>0.727273</td>\n",
       "      <td>0.726156</td>\n",
       "      <td>0.735239</td>\n",
       "      <td>0.722000</td>\n",
       "      <td>0.870925</td>\n",
       "    </tr>\n",
       "    <tr>\n",
       "      <th>bow release all num</th>\n",
       "      <td>0.727273</td>\n",
       "      <td>0.724036</td>\n",
       "      <td>0.730000</td>\n",
       "      <td>0.722604</td>\n",
       "      <td>0.865277</td>\n",
       "    </tr>\n",
       "    <tr>\n",
       "      <th>tf_idf l1 only release</th>\n",
       "      <td>0.606061</td>\n",
       "      <td>0.613057</td>\n",
       "      <td>0.643850</td>\n",
       "      <td>0.601767</td>\n",
       "      <td>0.784513</td>\n",
       "    </tr>\n",
       "    <tr>\n",
       "      <th>tf_idf only release best word</th>\n",
       "      <td>0.757576</td>\n",
       "      <td>0.761220</td>\n",
       "      <td>0.769459</td>\n",
       "      <td>0.756484</td>\n",
       "      <td>0.901612</td>\n",
       "    </tr>\n",
       "  </tbody>\n",
       "</table>\n",
       "</div>"
      ],
      "text/plain": [
       "                               accuracy        f1  precision    recall  \\\n",
       "min_baseline                   0.663158  0.667893   0.669919  0.666111   \n",
       "bow l1 only release            0.621212  0.630281   0.643939  0.622362   \n",
       "bow elasticnet                 0.727273  0.726156   0.735239  0.722000   \n",
       "bow release title              0.727273  0.726156   0.735239  0.722000   \n",
       "bow release all num            0.727273  0.724036   0.730000  0.722604   \n",
       "tf_idf l1 only release         0.606061  0.613057   0.643850  0.601767   \n",
       "tf_idf only release best word  0.757576  0.761220   0.769459  0.756484   \n",
       "\n",
       "                               roc_auc_ovr  \n",
       "min_baseline                           NaN  \n",
       "bow l1 only release               0.764039  \n",
       "bow elasticnet                    0.872670  \n",
       "bow release title                 0.870925  \n",
       "bow release all num               0.865277  \n",
       "tf_idf l1 only release            0.784513  \n",
       "tf_idf only release best word     0.901612  "
      ]
     },
     "execution_count": 31,
     "metadata": {},
     "output_type": "execute_result"
    }
   ],
   "source": [
    "metric, model = calc_metrics(tf_idf, LogisticRegression, name='tf_idf only release best word', **best_model.get_params())\n",
    "metrics = pd.concat([metrics, metric], axis=0)\n",
    "metrics"
   ]
  },
  {
   "cell_type": "markdown",
   "metadata": {},
   "source": [
    "Качество еще немного подросло. Как и в случае с мешком слов попробуем обучить tf-idf на названиях и добавим эти переменые в матрицу объект-признак."
   ]
  },
  {
   "cell_type": "code",
   "execution_count": 32,
   "metadata": {},
   "outputs": [],
   "source": [
    "vectorizer_title = TfidfVectorizer(\n",
    "    preprocessor=preprocessor,\n",
    ")\n",
    "\n",
    "vectorizer_title.fit(X.title)\n",
    "\n",
    "tf_idf_title = vectorizer_title.transform(X.title)"
   ]
  },
  {
   "cell_type": "code",
   "execution_count": 33,
   "metadata": {},
   "outputs": [],
   "source": [
    "tf_idf_title_release = np.concatenate((tf_idf.toarray(), tf_idf_title.toarray()), axis=1)"
   ]
  },
  {
   "cell_type": "code",
   "execution_count": null,
   "metadata": {},
   "outputs": [
    {
     "name": "stderr",
     "output_type": "stream",
     "text": [
      "  0%|          | 0/4 [00:00<?, ?it/s]/home/father/Desktop/cbr-press-release-classifier/.venv/lib/python3.10/site-packages/sklearn/metrics/_classification.py:1531: UndefinedMetricWarning: Precision is ill-defined and being set to 0.0 in labels with no predicted samples. Use `zero_division` parameter to control this behavior.\n",
      "  _warn_prf(average, modifier, f\"{metric.capitalize()} is\", len(result))\n",
      "/home/father/Desktop/cbr-press-release-classifier/.venv/lib/python3.10/site-packages/sklearn/metrics/_classification.py:1531: UndefinedMetricWarning: Precision is ill-defined and being set to 0.0 in labels with no predicted samples. Use `zero_division` parameter to control this behavior.\n",
      "  _warn_prf(average, modifier, f\"{metric.capitalize()} is\", len(result))\n",
      "/home/father/Desktop/cbr-press-release-classifier/.venv/lib/python3.10/site-packages/sklearn/metrics/_classification.py:1531: UndefinedMetricWarning: Precision is ill-defined and being set to 0.0 in labels with no predicted samples. Use `zero_division` parameter to control this behavior.\n",
      "  _warn_prf(average, modifier, f\"{metric.capitalize()} is\", len(result))\n",
      "100%|██████████| 4/4 [00:04<00:00,  1.02s/it]"
     ]
    },
    {
     "name": "stdout",
     "output_type": "stream",
     "text": [
      "Лучшая модель - LogisticRegression(C=10, l1_ratio=0.1, max_iter=10000, penalty='elasticnet',\n",
      "                   solver='saga')\n",
      "ROC-AUC = 0.8787469513247727\n"
     ]
    },
    {
     "name": "stderr",
     "output_type": "stream",
     "text": [
      "\n"
     ]
    }
   ],
   "source": [
    "auc = []\n",
    "for c in tqdm([0.1, 1, 5, 10]):\n",
    "    for l1_ratio in [0.1, 0.5, 0.9]:\n",
    "        auc.append(\n",
    "            calc_metrics(tf_idf_title_release, \n",
    "                               LogisticRegression,\n",
    "                                name='tf-idf', \n",
    "                                plot=False, \n",
    "                                solver='saga', \n",
    "                                penalty='elasticnet', \n",
    "                                C=c, \n",
    "                                max_iter=10000, \n",
    "                                # n_jobs=-1,\n",
    "                                l1_ratio=l1_ratio\n",
    "                            )\n",
    "                        )\n",
    "    \n",
    "roc_auc, best_model = max(auc)\n",
    "\n",
    "print(f\"Лучшая модель - {best_model}\")\n",
    "print(f\"ROC-AUC = {roc_auc}\")"
   ]
  },
  {
   "cell_type": "code",
   "execution_count": null,
   "metadata": {},
   "outputs": [
    {
     "name": "stdout",
     "output_type": "stream",
     "text": [
      "              precision    recall  f1-score   support\n",
      "\n",
      "        -1.0       0.80      0.70      0.74        23\n",
      "         0.0       0.60      0.75      0.67        24\n",
      "         1.0       0.81      0.68      0.74        19\n",
      "\n",
      "    accuracy                           0.71        66\n",
      "   macro avg       0.74      0.71      0.72        66\n",
      "weighted avg       0.73      0.71      0.72        66\n",
      "\n"
     ]
    },
    {
     "data": {
      "image/png": "[encoded data removed]",
      "text/plain": [
       "<Figure size 640x480 with 2 Axes>"
      ]
     },
     "metadata": {},
     "output_type": "display_data"
    },
    {
     "data": {
      "text/html": [
       "<div>\n",
       "<style scoped>\n",
       "    .dataframe tbody tr th:only-of-type {\n",
       "        vertical-align: middle;\n",
       "    }\n",
       "\n",
       "    .dataframe tbody tr th {\n",
       "        vertical-align: top;\n",
       "    }\n",
       "\n",
       "    .dataframe thead th {\n",
       "        text-align: right;\n",
       "    }\n",
       "</style>\n",
       "<table border=\"1\" class=\"dataframe\">\n",
       "  <thead>\n",
       "    <tr style=\"text-align: right;\">\n",
       "      <th></th>\n",
       "      <th>accuracy</th>\n",
       "      <th>f1</th>\n",
       "      <th>precision</th>\n",
       "      <th>recall</th>\n",
       "      <th>roc_auc_ovr</th>\n",
       "    </tr>\n",
       "  </thead>\n",
       "  <tbody>\n",
       "    <tr>\n",
       "      <th>min_baseline</th>\n",
       "      <td>0.663158</td>\n",
       "      <td>0.667893</td>\n",
       "      <td>0.669919</td>\n",
       "      <td>0.666111</td>\n",
       "      <td>NaN</td>\n",
       "    </tr>\n",
       "    <tr>\n",
       "      <th>bow l1 only release</th>\n",
       "      <td>0.621212</td>\n",
       "      <td>0.630281</td>\n",
       "      <td>0.643939</td>\n",
       "      <td>0.622362</td>\n",
       "      <td>0.764039</td>\n",
       "    </tr>\n",
       "    <tr>\n",
       "      <th>bow elasticnet</th>\n",
       "      <td>0.727273</td>\n",
       "      <td>0.726156</td>\n",
       "      <td>0.735239</td>\n",
       "      <td>0.722000</td>\n",
       "      <td>0.872670</td>\n",
       "    </tr>\n",
       "    <tr>\n",
       "      <th>bow release title</th>\n",
       "      <td>0.727273</td>\n",
       "      <td>0.726156</td>\n",
       "      <td>0.735239</td>\n",
       "      <td>0.722000</td>\n",
       "      <td>0.870925</td>\n",
       "    </tr>\n",
       "    <tr>\n",
       "      <th>bow release all num</th>\n",
       "      <td>0.727273</td>\n",
       "      <td>0.724036</td>\n",
       "      <td>0.730000</td>\n",
       "      <td>0.722604</td>\n",
       "      <td>0.865277</td>\n",
       "    </tr>\n",
       "    <tr>\n",
       "      <th>tf_idf l1 only release</th>\n",
       "      <td>0.606061</td>\n",
       "      <td>0.613057</td>\n",
       "      <td>0.643850</td>\n",
       "      <td>0.601767</td>\n",
       "      <td>0.784513</td>\n",
       "    </tr>\n",
       "    <tr>\n",
       "      <th>tf_idf only release best word</th>\n",
       "      <td>0.757576</td>\n",
       "      <td>0.761220</td>\n",
       "      <td>0.769459</td>\n",
       "      <td>0.756484</td>\n",
       "      <td>0.901612</td>\n",
       "    </tr>\n",
       "    <tr>\n",
       "      <th>tf_idf title release</th>\n",
       "      <td>0.712121</td>\n",
       "      <td>0.717903</td>\n",
       "      <td>0.737500</td>\n",
       "      <td>0.709954</td>\n",
       "      <td>0.878747</td>\n",
       "    </tr>\n",
       "  </tbody>\n",
       "</table>\n",
       "</div>"
      ],
      "text/plain": [
       "                               accuracy        f1  precision    recall  \\\n",
       "min_baseline                   0.663158  0.667893   0.669919  0.666111   \n",
       "bow l1 only release            0.621212  0.630281   0.643939  0.622362   \n",
       "bow elasticnet                 0.727273  0.726156   0.735239  0.722000   \n",
       "bow release title              0.727273  0.726156   0.735239  0.722000   \n",
       "bow release all num            0.727273  0.724036   0.730000  0.722604   \n",
       "tf_idf l1 only release         0.606061  0.613057   0.643850  0.601767   \n",
       "tf_idf only release best word  0.757576  0.761220   0.769459  0.756484   \n",
       "tf_idf title release           0.712121  0.717903   0.737500  0.709954   \n",
       "\n",
       "                               roc_auc_ovr  \n",
       "min_baseline                           NaN  \n",
       "bow l1 only release               0.764039  \n",
       "bow elasticnet                    0.872670  \n",
       "bow release title                 0.870925  \n",
       "bow release all num               0.865277  \n",
       "tf_idf l1 only release            0.784513  \n",
       "tf_idf only release best word     0.901612  \n",
       "tf_idf title release              0.878747  "
      ]
     },
     "execution_count": 35,
     "metadata": {},
     "output_type": "execute_result"
    }
   ],
   "source": [
    "metric, model = calc_metrics(tf_idf_title_release, LogisticRegression, name='tf_idf title release', **best_model.get_params())\n",
    "metrics = pd.concat([metrics, metric], axis=0)\n",
    "metrics"
   ]
  },
  {
   "cell_type": "markdown",
   "metadata": {},
   "source": [
    "При добавлении названия, качество модели заметно ухудшается, возможно эти признаки приводят к переобучению. Попробуем добавить количественные переменные."
   ]
  },
  {
   "cell_type": "code",
   "execution_count": 36,
   "metadata": {},
   "outputs": [],
   "source": [
    "tf_idf_num = np.concatenate((tf_idf.toarray(), X[num_columns].values), axis=1)"
   ]
  },
  {
   "cell_type": "code",
   "execution_count": null,
   "metadata": {},
   "outputs": [
    {
     "name": "stderr",
     "output_type": "stream",
     "text": [
      "  0%|          | 0/4 [00:00<?, ?it/s]/home/father/Desktop/cbr-press-release-classifier/.venv/lib/python3.10/site-packages/sklearn/metrics/_classification.py:1531: UndefinedMetricWarning: Precision is ill-defined and being set to 0.0 in labels with no predicted samples. Use `zero_division` parameter to control this behavior.\n",
      "  _warn_prf(average, modifier, f\"{metric.capitalize()} is\", len(result))\n",
      "/home/father/Desktop/cbr-press-release-classifier/.venv/lib/python3.10/site-packages/sklearn/metrics/_classification.py:1531: UndefinedMetricWarning: Precision is ill-defined and being set to 0.0 in labels with no predicted samples. Use `zero_division` parameter to control this behavior.\n",
      "  _warn_prf(average, modifier, f\"{metric.capitalize()} is\", len(result))\n",
      "/home/father/Desktop/cbr-press-release-classifier/.venv/lib/python3.10/site-packages/sklearn/metrics/_classification.py:1531: UndefinedMetricWarning: Precision is ill-defined and being set to 0.0 in labels with no predicted samples. Use `zero_division` parameter to control this behavior.\n",
      "  _warn_prf(average, modifier, f\"{metric.capitalize()} is\", len(result))\n",
      "100%|██████████| 4/4 [00:11<00:00,  2.97s/it]"
     ]
    },
    {
     "name": "stdout",
     "output_type": "stream",
     "text": [
      "Лучшая модель - LogisticRegression(C=10, l1_ratio=0.1, max_iter=10000, penalty='elasticnet',\n",
      "                   solver='saga')\n",
      "ROC-AUC = 0.8358718748504713\n"
     ]
    },
    {
     "name": "stderr",
     "output_type": "stream",
     "text": [
      "\n"
     ]
    }
   ],
   "source": [
    "auc = []\n",
    "for c in tqdm([0.1, 1, 5, 10]):\n",
    "    for l1_ratio in [0.1, 0.5, 0.9]:\n",
    "        auc.append(\n",
    "            calc_metrics(tf_idf_num, \n",
    "                               LogisticRegression,\n",
    "                                name='tf-idf', \n",
    "                                plot=False, \n",
    "                                solver='saga', \n",
    "                                penalty='elasticnet', \n",
    "                                C=c, \n",
    "                                max_iter=10000, \n",
    "                                # n_jobs=-1,\n",
    "                                l1_ratio=l1_ratio\n",
    "                            )\n",
    "                        )\n",
    "    \n",
    "roc_auc, best_model = max(auc)\n",
    "\n",
    "print(f\"Лучшая модель - {best_model}\")\n",
    "print(f\"ROC-AUC = {roc_auc}\")"
   ]
  },
  {
   "cell_type": "code",
   "execution_count": null,
   "metadata": {},
   "outputs": [
    {
     "name": "stdout",
     "output_type": "stream",
     "text": [
      "              precision    recall  f1-score   support\n",
      "\n",
      "        -1.0       0.78      0.61      0.68        23\n",
      "         0.0       0.56      0.79      0.66        24\n",
      "         1.0       0.86      0.63      0.73        19\n",
      "\n",
      "    accuracy                           0.68        66\n",
      "   macro avg       0.73      0.68      0.69        66\n",
      "weighted avg       0.72      0.68      0.69        66\n",
      "\n"
     ]
    },
    {
     "data": {
      "image/png": "[encoded data removed]",
      "text/plain": [
       "<Figure size 640x480 with 2 Axes>"
      ]
     },
     "metadata": {},
     "output_type": "display_data"
    },
    {
     "data": {
      "text/html": [
       "<div>\n",
       "<style scoped>\n",
       "    .dataframe tbody tr th:only-of-type {\n",
       "        vertical-align: middle;\n",
       "    }\n",
       "\n",
       "    .dataframe tbody tr th {\n",
       "        vertical-align: top;\n",
       "    }\n",
       "\n",
       "    .dataframe thead th {\n",
       "        text-align: right;\n",
       "    }\n",
       "</style>\n",
       "<table border=\"1\" class=\"dataframe\">\n",
       "  <thead>\n",
       "    <tr style=\"text-align: right;\">\n",
       "      <th></th>\n",
       "      <th>accuracy</th>\n",
       "      <th>f1</th>\n",
       "      <th>precision</th>\n",
       "      <th>recall</th>\n",
       "      <th>roc_auc_ovr</th>\n",
       "    </tr>\n",
       "  </thead>\n",
       "  <tbody>\n",
       "    <tr>\n",
       "      <th>min_baseline</th>\n",
       "      <td>0.663158</td>\n",
       "      <td>0.667893</td>\n",
       "      <td>0.669919</td>\n",
       "      <td>0.666111</td>\n",
       "      <td>NaN</td>\n",
       "    </tr>\n",
       "    <tr>\n",
       "      <th>bow l1 only release</th>\n",
       "      <td>0.621212</td>\n",
       "      <td>0.630281</td>\n",
       "      <td>0.643939</td>\n",
       "      <td>0.622362</td>\n",
       "      <td>0.764039</td>\n",
       "    </tr>\n",
       "    <tr>\n",
       "      <th>bow elasticnet</th>\n",
       "      <td>0.727273</td>\n",
       "      <td>0.726156</td>\n",
       "      <td>0.735239</td>\n",
       "      <td>0.722000</td>\n",
       "      <td>0.872670</td>\n",
       "    </tr>\n",
       "    <tr>\n",
       "      <th>bow release title</th>\n",
       "      <td>0.727273</td>\n",
       "      <td>0.726156</td>\n",
       "      <td>0.735239</td>\n",
       "      <td>0.722000</td>\n",
       "      <td>0.870925</td>\n",
       "    </tr>\n",
       "    <tr>\n",
       "      <th>bow release all num</th>\n",
       "      <td>0.727273</td>\n",
       "      <td>0.724036</td>\n",
       "      <td>0.730000</td>\n",
       "      <td>0.722604</td>\n",
       "      <td>0.865277</td>\n",
       "    </tr>\n",
       "    <tr>\n",
       "      <th>tf_idf l1 only release</th>\n",
       "      <td>0.606061</td>\n",
       "      <td>0.613057</td>\n",
       "      <td>0.643850</td>\n",
       "      <td>0.601767</td>\n",
       "      <td>0.784513</td>\n",
       "    </tr>\n",
       "    <tr>\n",
       "      <th>tf_idf only release best word</th>\n",
       "      <td>0.757576</td>\n",
       "      <td>0.761220</td>\n",
       "      <td>0.769459</td>\n",
       "      <td>0.756484</td>\n",
       "      <td>0.901612</td>\n",
       "    </tr>\n",
       "    <tr>\n",
       "      <th>tf_idf title release</th>\n",
       "      <td>0.712121</td>\n",
       "      <td>0.717903</td>\n",
       "      <td>0.737500</td>\n",
       "      <td>0.709954</td>\n",
       "      <td>0.878747</td>\n",
       "    </tr>\n",
       "    <tr>\n",
       "      <th>tf_idf numerical release</th>\n",
       "      <td>0.681818</td>\n",
       "      <td>0.688457</td>\n",
       "      <td>0.731248</td>\n",
       "      <td>0.677314</td>\n",
       "      <td>0.835872</td>\n",
       "    </tr>\n",
       "  </tbody>\n",
       "</table>\n",
       "</div>"
      ],
      "text/plain": [
       "                               accuracy        f1  precision    recall  \\\n",
       "min_baseline                   0.663158  0.667893   0.669919  0.666111   \n",
       "bow l1 only release            0.621212  0.630281   0.643939  0.622362   \n",
       "bow elasticnet                 0.727273  0.726156   0.735239  0.722000   \n",
       "bow release title              0.727273  0.726156   0.735239  0.722000   \n",
       "bow release all num            0.727273  0.724036   0.730000  0.722604   \n",
       "tf_idf l1 only release         0.606061  0.613057   0.643850  0.601767   \n",
       "tf_idf only release best word  0.757576  0.761220   0.769459  0.756484   \n",
       "tf_idf title release           0.712121  0.717903   0.737500  0.709954   \n",
       "tf_idf numerical release       0.681818  0.688457   0.731248  0.677314   \n",
       "\n",
       "                               roc_auc_ovr  \n",
       "min_baseline                           NaN  \n",
       "bow l1 only release               0.764039  \n",
       "bow elasticnet                    0.872670  \n",
       "bow release title                 0.870925  \n",
       "bow release all num               0.865277  \n",
       "tf_idf l1 only release            0.784513  \n",
       "tf_idf only release best word     0.901612  \n",
       "tf_idf title release              0.878747  \n",
       "tf_idf numerical release          0.835872  "
      ]
     },
     "execution_count": 38,
     "metadata": {},
     "output_type": "execute_result"
    }
   ],
   "source": [
    "metric, model = calc_metrics(tf_idf_num, LogisticRegression, name='tf_idf numerical release', **best_model.get_params())\n",
    "metrics = pd.concat([metrics, metric], axis=0)\n",
    "metrics"
   ]
  },
  {
   "cell_type": "markdown",
   "metadata": {},
   "source": [
    "Добавление цифр из наших данных только ухудшило нашу модель."
   ]
  },
  {
   "cell_type": "markdown",
   "metadata": {},
   "source": [
    "### N-граммы плюс Naive Bayes"
   ]
  },
  {
   "cell_type": "code",
   "execution_count": 39,
   "metadata": {},
   "outputs": [],
   "source": [
    "# сохраним стоп слова которые мы использовали в лучшей модели на tf-idf матрице\n",
    "STOP_WORDS_TF_IDF = STOP_WORDS"
   ]
  },
  {
   "cell_type": "markdown",
   "metadata": {},
   "source": [
    "Попробуем решить задачу с помощью алгоритма Naive Bayes, подберем оптимальные значения для параметра `ngram_range` и обучим лучшую модель."
   ]
  },
  {
   "cell_type": "code",
   "execution_count": 40,
   "metadata": {},
   "outputs": [],
   "source": [
    "mystem = Mystem()\n",
    "STOP_WORDS = set(stopwords.words('russian'))\n",
    "\n",
    "def preprocessor(text):\n",
    "    text = text.lower()\n",
    "    regex = re.compile('[^а-я А-ЯЁё]')\n",
    "    text = regex.sub(' ', text)\n",
    "    text = ' '.join(mystem.lemmatize(text))\n",
    "    text = ' '.join([word for word in text.split() if word not in STOP_WORDS])\n",
    "    return text"
   ]
  },
  {
   "cell_type": "code",
   "execution_count": null,
   "metadata": {},
   "outputs": [
    {
     "name": "stderr",
     "output_type": "stream",
     "text": [
      "100%|██████████| 9/9 [00:42<00:00,  4.69s/it]"
     ]
    },
    {
     "name": "stdout",
     "output_type": "stream",
     "text": [
      "Лучшая модель - ngram_range(3, 6)\n",
      "ROC-AUC = 0.7729945341838965\n"
     ]
    },
    {
     "name": "stderr",
     "output_type": "stream",
     "text": [
      "\n"
     ]
    }
   ],
   "source": [
    "auc = []\n",
    "for start in tqdm(range(1, 10)):\n",
    "    for stop in range(start, min(10, start + 4)):\n",
    "        vectorizer = CountVectorizer(\n",
    "            preprocessor=preprocessor,\n",
    "            ngram_range=(start, stop)\n",
    "        )\n",
    "        bow_ngram = vectorizer.fit_transform(X.release)\n",
    "        auc.append(\n",
    "            (calc_metrics(\n",
    "                bow_ngram, \n",
    "                MultinomialNB, \n",
    "                name='MultinomialNB',\n",
    "                plot=False\n",
    "            ), \n",
    "            (start, stop)),\n",
    "        )\n",
    "    \n",
    "(roc_auc, best_model), (start, stop) = max(auc, key=lambda x: x[0][0])\n",
    "\n",
    "print(f\"Лучшая модель - ngram_range({start}, {stop})\")\n",
    "print(f\"ROC-AUC = {roc_auc}\")"
   ]
  },
  {
   "cell_type": "code",
   "execution_count": 42,
   "metadata": {},
   "outputs": [],
   "source": [
    "vectorizer = CountVectorizer(\n",
    "    preprocessor=preprocessor,\n",
    "    ngram_range=(start, stop)\n",
    ")\n",
    "\n",
    "vectorizer.fit(X.release)\n",
    "\n",
    "bow_ngram = vectorizer.transform(X.release)"
   ]
  },
  {
   "cell_type": "code",
   "execution_count": null,
   "metadata": {},
   "outputs": [
    {
     "name": "stdout",
     "output_type": "stream",
     "text": [
      "              precision    recall  f1-score   support\n",
      "\n",
      "        -1.0       0.68      0.83      0.75        23\n",
      "         0.0       0.56      0.42      0.48        24\n",
      "         1.0       0.65      0.68      0.67        19\n",
      "\n",
      "    accuracy                           0.64        66\n",
      "   macro avg       0.63      0.64      0.63        66\n",
      "weighted avg       0.63      0.64      0.62        66\n",
      "\n"
     ]
    },
    {
     "data": {
      "image/png": "[encoded data removed]",
      "text/plain": [
       "<Figure size 640x480 with 2 Axes>"
      ]
     },
     "metadata": {},
     "output_type": "display_data"
    },
    {
     "data": {
      "text/html": [
       "<div>\n",
       "<style scoped>\n",
       "    .dataframe tbody tr th:only-of-type {\n",
       "        vertical-align: middle;\n",
       "    }\n",
       "\n",
       "    .dataframe tbody tr th {\n",
       "        vertical-align: top;\n",
       "    }\n",
       "\n",
       "    .dataframe thead th {\n",
       "        text-align: right;\n",
       "    }\n",
       "</style>\n",
       "<table border=\"1\" class=\"dataframe\">\n",
       "  <thead>\n",
       "    <tr style=\"text-align: right;\">\n",
       "      <th></th>\n",
       "      <th>accuracy</th>\n",
       "      <th>f1</th>\n",
       "      <th>precision</th>\n",
       "      <th>recall</th>\n",
       "      <th>roc_auc_ovr</th>\n",
       "    </tr>\n",
       "  </thead>\n",
       "  <tbody>\n",
       "    <tr>\n",
       "      <th>min_baseline</th>\n",
       "      <td>0.663158</td>\n",
       "      <td>0.667893</td>\n",
       "      <td>0.669919</td>\n",
       "      <td>0.666111</td>\n",
       "      <td>NaN</td>\n",
       "    </tr>\n",
       "    <tr>\n",
       "      <th>bow l1 only release</th>\n",
       "      <td>0.621212</td>\n",
       "      <td>0.630281</td>\n",
       "      <td>0.643939</td>\n",
       "      <td>0.622362</td>\n",
       "      <td>0.764039</td>\n",
       "    </tr>\n",
       "    <tr>\n",
       "      <th>bow elasticnet</th>\n",
       "      <td>0.727273</td>\n",
       "      <td>0.726156</td>\n",
       "      <td>0.735239</td>\n",
       "      <td>0.722000</td>\n",
       "      <td>0.872670</td>\n",
       "    </tr>\n",
       "    <tr>\n",
       "      <th>bow release title</th>\n",
       "      <td>0.727273</td>\n",
       "      <td>0.726156</td>\n",
       "      <td>0.735239</td>\n",
       "      <td>0.722000</td>\n",
       "      <td>0.870925</td>\n",
       "    </tr>\n",
       "    <tr>\n",
       "      <th>bow release all num</th>\n",
       "      <td>0.727273</td>\n",
       "      <td>0.724036</td>\n",
       "      <td>0.730000</td>\n",
       "      <td>0.722604</td>\n",
       "      <td>0.865277</td>\n",
       "    </tr>\n",
       "    <tr>\n",
       "      <th>tf_idf l1 only release</th>\n",
       "      <td>0.606061</td>\n",
       "      <td>0.613057</td>\n",
       "      <td>0.643850</td>\n",
       "      <td>0.601767</td>\n",
       "      <td>0.784513</td>\n",
       "    </tr>\n",
       "    <tr>\n",
       "      <th>tf_idf only release best word</th>\n",
       "      <td>0.757576</td>\n",
       "      <td>0.761220</td>\n",
       "      <td>0.769459</td>\n",
       "      <td>0.756484</td>\n",
       "      <td>0.901612</td>\n",
       "    </tr>\n",
       "    <tr>\n",
       "      <th>tf_idf title release</th>\n",
       "      <td>0.712121</td>\n",
       "      <td>0.717903</td>\n",
       "      <td>0.737500</td>\n",
       "      <td>0.709954</td>\n",
       "      <td>0.878747</td>\n",
       "    </tr>\n",
       "    <tr>\n",
       "      <th>tf_idf numerical release</th>\n",
       "      <td>0.681818</td>\n",
       "      <td>0.688457</td>\n",
       "      <td>0.731248</td>\n",
       "      <td>0.677314</td>\n",
       "      <td>0.835872</td>\n",
       "    </tr>\n",
       "    <tr>\n",
       "      <th>MultinomialNB</th>\n",
       "      <td>0.636364</td>\n",
       "      <td>0.629318</td>\n",
       "      <td>0.628042</td>\n",
       "      <td>0.642321</td>\n",
       "      <td>0.772995</td>\n",
       "    </tr>\n",
       "  </tbody>\n",
       "</table>\n",
       "</div>"
      ],
      "text/plain": [
       "                               accuracy        f1  precision    recall  \\\n",
       "min_baseline                   0.663158  0.667893   0.669919  0.666111   \n",
       "bow l1 only release            0.621212  0.630281   0.643939  0.622362   \n",
       "bow elasticnet                 0.727273  0.726156   0.735239  0.722000   \n",
       "bow release title              0.727273  0.726156   0.735239  0.722000   \n",
       "bow release all num            0.727273  0.724036   0.730000  0.722604   \n",
       "tf_idf l1 only release         0.606061  0.613057   0.643850  0.601767   \n",
       "tf_idf only release best word  0.757576  0.761220   0.769459  0.756484   \n",
       "tf_idf title release           0.712121  0.717903   0.737500  0.709954   \n",
       "tf_idf numerical release       0.681818  0.688457   0.731248  0.677314   \n",
       "MultinomialNB                  0.636364  0.629318   0.628042  0.642321   \n",
       "\n",
       "                               roc_auc_ovr  \n",
       "min_baseline                           NaN  \n",
       "bow l1 only release               0.764039  \n",
       "bow elasticnet                    0.872670  \n",
       "bow release title                 0.870925  \n",
       "bow release all num               0.865277  \n",
       "tf_idf l1 only release            0.784513  \n",
       "tf_idf only release best word     0.901612  \n",
       "tf_idf title release              0.878747  \n",
       "tf_idf numerical release          0.835872  \n",
       "MultinomialNB                     0.772995  "
      ]
     },
     "execution_count": 43,
     "metadata": {},
     "output_type": "execute_result"
    }
   ],
   "source": [
    "metric, model = calc_metrics(bow_ngram, MultinomialNB, name='MultinomialNB')\n",
    "metrics = pd.concat((metrics, metric))\n",
    "metrics"
   ]
  },
  {
   "cell_type": "markdown",
   "metadata": {},
   "source": [
    "Получили качество даже хуже чем минимальный безлайн."
   ]
  },
  {
   "cell_type": "markdown",
   "metadata": {},
   "source": [
    "## Создание эмбеддингов"
   ]
  },
  {
   "cell_type": "markdown",
   "metadata": {},
   "source": [
    "### Word2Vec плюс линейная модель"
   ]
  },
  {
   "cell_type": "markdown",
   "metadata": {},
   "source": [
    "Обучим `Word2Vec` на текстах наших данных, а представлением текста релиза будем считать сумму, представлений всех его слов."
   ]
  },
  {
   "cell_type": "code",
   "execution_count": null,
   "metadata": {},
   "outputs": [
    {
     "name": "stderr",
     "output_type": "stream",
     "text": [
      "100%|██████████| 9/9 [04:18<00:00, 28.71s/it]\n"
     ]
    }
   ],
   "source": [
    "\n",
    "texts = X.release.map(preprocessor).str.split()\n",
    "\n",
    "best_models = {'window': [], 'roc_auc': [], 'model': []}\n",
    "for window in tqdm(range(3, 20, 2)):\n",
    "    model = Word2Vec(\n",
    "        sentences=texts, \n",
    "        window=window,\n",
    "        min_count=10, \n",
    "        vector_size=92,\n",
    "        sg=1,\n",
    "        epochs=100\n",
    "        )\n",
    "\n",
    "    embedings = texts.map(lambda x: [model.wv[word] for word in x if word in model.wv])\n",
    "    embedings = embedings.map(lambda x: np.array(x).sum(0))\n",
    "    embedings_w2v = np.array([arr.tolist() for arr in embedings])\n",
    "\n",
    "    roc_auc, best_model = calc_metrics(\n",
    "            embedings_w2v, \n",
    "            LogisticRegression,\n",
    "            name='embedings_w2v', \n",
    "            plot=False, \n",
    "            solver='saga', \n",
    "            penalty='elasticnet', \n",
    "            max_iter=10000, \n",
    "            # n_jobs=-1,\n",
    "            l1_ratio=0.5\n",
    "        )\n",
    "        \n",
    "    best_models['window'].append(window)\n",
    "    best_models['roc_auc'].append(roc_auc)\n",
    "    best_models['model'].append(best_model)"
   ]
  },
  {
   "cell_type": "markdown",
   "metadata": {},
   "source": [
    "Посмотрим как меняется качество модели при изменении размера окна."
   ]
  },
  {
   "cell_type": "code",
   "execution_count": 45,
   "metadata": {},
   "outputs": [
    {
     "data": {
      "image/png": "[encoded data removed]",
      "text/plain": [
       "<Figure size 1000x600 with 1 Axes>"
      ]
     },
     "metadata": {},
     "output_type": "display_data"
    }
   ],
   "source": [
    "plt.figure(figsize=(10, 6))\n",
    "data = pd.DataFrame(best_models)\n",
    "sns.lineplot(x='window', y='roc_auc', data=data)\n",
    "plt.suptitle(\"Изменение ROC-AUC при изменении размера окна\", weight='bold', fontsize=16)\n",
    "plt.grid()\n",
    "plt.show()"
   ]
  },
  {
   "cell_type": "markdown",
   "metadata": {},
   "source": [
    "При увеличении размера окна до 15 качество растет, а после 15 начинает снижаться. Обучим Word2vec c размером окна 15 подберем оптимальные параметры логистической регрессии и оценим качество модели."
   ]
  },
  {
   "cell_type": "code",
   "execution_count": null,
   "metadata": {},
   "outputs": [
    {
     "name": "stderr",
     "output_type": "stream",
     "text": [
      "100%|██████████| 4/4 [03:13<00:00, 48.48s/it]"
     ]
    },
    {
     "name": "stdout",
     "output_type": "stream",
     "text": [
      "Лучшая модель - LogisticRegression(C=5, l1_ratio=0.1, max_iter=10000, penalty='elasticnet',\n",
      "                   solver='saga')\n",
      "ROC-AUC = 0.7280702136304411\n"
     ]
    },
    {
     "name": "stderr",
     "output_type": "stream",
     "text": [
      "\n"
     ]
    }
   ],
   "source": [
    "w2v = Word2Vec(\n",
    "        sentences=texts, \n",
    "        window=15,\n",
    "        min_count=10, \n",
    "        vector_size=92,\n",
    "        sg=1,\n",
    "        epochs=100\n",
    "        )\n",
    "\n",
    "embedings = texts.map(lambda x: [w2v.wv[word] for word in x if word in w2v.wv])\n",
    "embedings = embedings.map(lambda x: np.array(x).sum(0))\n",
    "embedings_w2v = np.array([arr.tolist() for arr in embedings])\n",
    "\n",
    "auc = []\n",
    "for c in tqdm([0.1, 1, 5, 10]):\n",
    "    for l1_ratio in [0.1, 0.5, 0.9]:\n",
    "        auc.append(\n",
    "            calc_metrics(\n",
    "                embedings_w2v, \n",
    "                LogisticRegression,\n",
    "                name='tf-idf', \n",
    "                plot=False, \n",
    "                solver='saga', \n",
    "                penalty='elasticnet', \n",
    "                C=c, \n",
    "                max_iter=10000, \n",
    "                # n_jobs=-1,\n",
    "                l1_ratio=l1_ratio\n",
    "            )\n",
    "        )\n",
    "    \n",
    "roc_auc, best_model = max(auc)\n",
    "\n",
    "print(f\"Лучшая модель - {best_model}\")\n",
    "print(f\"ROC-AUC = {roc_auc}\")"
   ]
  },
  {
   "cell_type": "markdown",
   "metadata": {},
   "source": [
    "Посмотрим на метрики модели подробнее"
   ]
  },
  {
   "cell_type": "code",
   "execution_count": null,
   "metadata": {},
   "outputs": [
    {
     "name": "stdout",
     "output_type": "stream",
     "text": [
      "              precision    recall  f1-score   support\n",
      "\n",
      "        -1.0       0.65      0.65      0.65        23\n",
      "         0.0       0.48      0.50      0.49        24\n",
      "         1.0       0.61      0.58      0.59        19\n",
      "\n",
      "    accuracy                           0.58        66\n",
      "   macro avg       0.58      0.58      0.58        66\n",
      "weighted avg       0.58      0.58      0.58        66\n",
      "\n"
     ]
    },
    {
     "data": {
      "image/png": "[encoded data removed]",
      "text/plain": [
       "<Figure size 640x480 with 2 Axes>"
      ]
     },
     "metadata": {},
     "output_type": "display_data"
    },
    {
     "data": {
      "text/html": [
       "<div>\n",
       "<style scoped>\n",
       "    .dataframe tbody tr th:only-of-type {\n",
       "        vertical-align: middle;\n",
       "    }\n",
       "\n",
       "    .dataframe tbody tr th {\n",
       "        vertical-align: top;\n",
       "    }\n",
       "\n",
       "    .dataframe thead th {\n",
       "        text-align: right;\n",
       "    }\n",
       "</style>\n",
       "<table border=\"1\" class=\"dataframe\">\n",
       "  <thead>\n",
       "    <tr style=\"text-align: right;\">\n",
       "      <th></th>\n",
       "      <th>accuracy</th>\n",
       "      <th>f1</th>\n",
       "      <th>precision</th>\n",
       "      <th>recall</th>\n",
       "      <th>roc_auc_ovr</th>\n",
       "    </tr>\n",
       "  </thead>\n",
       "  <tbody>\n",
       "    <tr>\n",
       "      <th>min_baseline</th>\n",
       "      <td>0.663158</td>\n",
       "      <td>0.667893</td>\n",
       "      <td>0.669919</td>\n",
       "      <td>0.666111</td>\n",
       "      <td>NaN</td>\n",
       "    </tr>\n",
       "    <tr>\n",
       "      <th>bow l1 only release</th>\n",
       "      <td>0.621212</td>\n",
       "      <td>0.630281</td>\n",
       "      <td>0.643939</td>\n",
       "      <td>0.622362</td>\n",
       "      <td>0.764039</td>\n",
       "    </tr>\n",
       "    <tr>\n",
       "      <th>bow elasticnet</th>\n",
       "      <td>0.727273</td>\n",
       "      <td>0.726156</td>\n",
       "      <td>0.735239</td>\n",
       "      <td>0.722000</td>\n",
       "      <td>0.872670</td>\n",
       "    </tr>\n",
       "    <tr>\n",
       "      <th>bow release title</th>\n",
       "      <td>0.727273</td>\n",
       "      <td>0.726156</td>\n",
       "      <td>0.735239</td>\n",
       "      <td>0.722000</td>\n",
       "      <td>0.870925</td>\n",
       "    </tr>\n",
       "    <tr>\n",
       "      <th>bow release all num</th>\n",
       "      <td>0.727273</td>\n",
       "      <td>0.724036</td>\n",
       "      <td>0.730000</td>\n",
       "      <td>0.722604</td>\n",
       "      <td>0.865277</td>\n",
       "    </tr>\n",
       "    <tr>\n",
       "      <th>tf_idf l1 only release</th>\n",
       "      <td>0.606061</td>\n",
       "      <td>0.613057</td>\n",
       "      <td>0.643850</td>\n",
       "      <td>0.601767</td>\n",
       "      <td>0.784513</td>\n",
       "    </tr>\n",
       "    <tr>\n",
       "      <th>tf_idf only release best word</th>\n",
       "      <td>0.757576</td>\n",
       "      <td>0.761220</td>\n",
       "      <td>0.769459</td>\n",
       "      <td>0.756484</td>\n",
       "      <td>0.901612</td>\n",
       "    </tr>\n",
       "    <tr>\n",
       "      <th>tf_idf title release</th>\n",
       "      <td>0.712121</td>\n",
       "      <td>0.717903</td>\n",
       "      <td>0.737500</td>\n",
       "      <td>0.709954</td>\n",
       "      <td>0.878747</td>\n",
       "    </tr>\n",
       "    <tr>\n",
       "      <th>tf_idf numerical release</th>\n",
       "      <td>0.681818</td>\n",
       "      <td>0.688457</td>\n",
       "      <td>0.731248</td>\n",
       "      <td>0.677314</td>\n",
       "      <td>0.835872</td>\n",
       "    </tr>\n",
       "    <tr>\n",
       "      <th>MultinomialNB</th>\n",
       "      <td>0.636364</td>\n",
       "      <td>0.629318</td>\n",
       "      <td>0.628042</td>\n",
       "      <td>0.642321</td>\n",
       "      <td>0.772995</td>\n",
       "    </tr>\n",
       "    <tr>\n",
       "      <th>word2vec</th>\n",
       "      <td>0.575758</td>\n",
       "      <td>0.578855</td>\n",
       "      <td>0.581095</td>\n",
       "      <td>0.577040</td>\n",
       "      <td>0.727697</td>\n",
       "    </tr>\n",
       "  </tbody>\n",
       "</table>\n",
       "</div>"
      ],
      "text/plain": [
       "                               accuracy        f1  precision    recall  \\\n",
       "min_baseline                   0.663158  0.667893   0.669919  0.666111   \n",
       "bow l1 only release            0.621212  0.630281   0.643939  0.622362   \n",
       "bow elasticnet                 0.727273  0.726156   0.735239  0.722000   \n",
       "bow release title              0.727273  0.726156   0.735239  0.722000   \n",
       "bow release all num            0.727273  0.724036   0.730000  0.722604   \n",
       "tf_idf l1 only release         0.606061  0.613057   0.643850  0.601767   \n",
       "tf_idf only release best word  0.757576  0.761220   0.769459  0.756484   \n",
       "tf_idf title release           0.712121  0.717903   0.737500  0.709954   \n",
       "tf_idf numerical release       0.681818  0.688457   0.731248  0.677314   \n",
       "MultinomialNB                  0.636364  0.629318   0.628042  0.642321   \n",
       "word2vec                       0.575758  0.578855   0.581095  0.577040   \n",
       "\n",
       "                               roc_auc_ovr  \n",
       "min_baseline                           NaN  \n",
       "bow l1 only release               0.764039  \n",
       "bow elasticnet                    0.872670  \n",
       "bow release title                 0.870925  \n",
       "bow release all num               0.865277  \n",
       "tf_idf l1 only release            0.784513  \n",
       "tf_idf only release best word     0.901612  \n",
       "tf_idf title release              0.878747  \n",
       "tf_idf numerical release          0.835872  \n",
       "MultinomialNB                     0.772995  \n",
       "word2vec                          0.727697  "
      ]
     },
     "execution_count": 47,
     "metadata": {},
     "output_type": "execute_result"
    }
   ],
   "source": [
    "metric, model = calc_metrics(embedings_w2v, LogisticRegression, name='word2vec', **best_model.get_params())\n",
    "metrics = pd.concat([metrics, metric], axis=0)\n",
    "metrics"
   ]
  },
  {
   "cell_type": "markdown",
   "metadata": {},
   "source": [
    "Качество получили хуже чем минимальный бейзлайн, потому что `word2vec` неплохо создает представления слов, но в сумме этих представлений плохо сохраняется смысл всего текста. Попробуем уже обученную модель `word2vec`. Скачаем `word2vec-ruscorpora-300` обученную на русских текстах."
   ]
  },
  {
   "cell_type": "code",
   "execution_count": 48,
   "metadata": {},
   "outputs": [],
   "source": [
    "w2v_ruscorpora = api.load('word2vec-ruscorpora-300')\n",
    "\n",
    "# функция для добавления части речи к словам\n",
    "def tag(words):\n",
    "    morph = MorphAnalyzer()\n",
    "    # tagged = str(morph.parse(word)[0].tag.POS)\n",
    "    # return word + '_' + tagged\n",
    "    parts = [str(morph.parse(word)[0].tag.POS) for word in words]\n",
    "    return [word + '_' + part for word, part in zip(words, parts)]"
   ]
  },
  {
   "cell_type": "code",
   "execution_count": 49,
   "metadata": {},
   "outputs": [],
   "source": [
    "embedings_ruscorpora = texts.map(tag).map(lambda x: [w2v_ruscorpora[word] for word in x if word in w2v_ruscorpora])\n",
    "embedings_ruscorpora = embedings_ruscorpora.map(lambda x: np.array(x).sum(0))\n",
    "embedings_ruscorpora = np.array([arr.tolist() for arr in embedings_ruscorpora])"
   ]
  },
  {
   "cell_type": "code",
   "execution_count": null,
   "metadata": {},
   "outputs": [
    {
     "name": "stderr",
     "output_type": "stream",
     "text": [
      "100%|██████████| 4/4 [10:08<00:00, 152.01s/it]"
     ]
    },
    {
     "name": "stdout",
     "output_type": "stream",
     "text": [
      "Лучшая модель - LogisticRegression(C=0.1, l1_ratio=0.1, max_iter=10000, penalty='elasticnet',\n",
      "                   solver='saga')\n",
      "ROC-AUC = 0.7606292512727605\n"
     ]
    },
    {
     "name": "stderr",
     "output_type": "stream",
     "text": [
      "\n"
     ]
    }
   ],
   "source": [
    "auc = []\n",
    "for c in tqdm([0.1, 1, 5, 10]):\n",
    "    for l1_ratio in [0.1, 0.5, 0.9]:\n",
    "        auc.append(\n",
    "            calc_metrics(\n",
    "                embedings_ruscorpora, \n",
    "                LogisticRegression,\n",
    "                name='pretrained_word2vec', \n",
    "                plot=False, \n",
    "                solver='saga', \n",
    "                penalty='elasticnet', \n",
    "                C=c, \n",
    "                max_iter=10000, \n",
    "                # n_jobs=-1,\n",
    "                l1_ratio=l1_ratio\n",
    "            )\n",
    "        )\n",
    "    \n",
    "roc_auc, best_model = max(auc)\n",
    "\n",
    "print(f\"Лучшая модель - {best_model}\")\n",
    "print(f\"ROC-AUC = {roc_auc}\")"
   ]
  },
  {
   "cell_type": "markdown",
   "metadata": {},
   "source": [
    "Оценим качество модели подробнее."
   ]
  },
  {
   "cell_type": "code",
   "execution_count": null,
   "metadata": {},
   "outputs": [
    {
     "name": "stdout",
     "output_type": "stream",
     "text": [
      "              precision    recall  f1-score   support\n",
      "\n",
      "        -1.0       0.65      0.65      0.65        23\n",
      "         0.0       0.45      0.54      0.49        24\n",
      "         1.0       0.79      0.58      0.67        19\n",
      "\n",
      "    accuracy                           0.59        66\n",
      "   macro avg       0.63      0.59      0.60        66\n",
      "weighted avg       0.62      0.59      0.60        66\n",
      "\n"
     ]
    },
    {
     "data": {
      "image/png": "[encoded data removed]",
      "text/plain": [
       "<Figure size 640x480 with 2 Axes>"
      ]
     },
     "metadata": {},
     "output_type": "display_data"
    },
    {
     "data": {
      "text/html": [
       "<div>\n",
       "<style scoped>\n",
       "    .dataframe tbody tr th:only-of-type {\n",
       "        vertical-align: middle;\n",
       "    }\n",
       "\n",
       "    .dataframe tbody tr th {\n",
       "        vertical-align: top;\n",
       "    }\n",
       "\n",
       "    .dataframe thead th {\n",
       "        text-align: right;\n",
       "    }\n",
       "</style>\n",
       "<table border=\"1\" class=\"dataframe\">\n",
       "  <thead>\n",
       "    <tr style=\"text-align: right;\">\n",
       "      <th></th>\n",
       "      <th>accuracy</th>\n",
       "      <th>f1</th>\n",
       "      <th>precision</th>\n",
       "      <th>recall</th>\n",
       "      <th>roc_auc_ovr</th>\n",
       "    </tr>\n",
       "  </thead>\n",
       "  <tbody>\n",
       "    <tr>\n",
       "      <th>min_baseline</th>\n",
       "      <td>0.663158</td>\n",
       "      <td>0.667893</td>\n",
       "      <td>0.669919</td>\n",
       "      <td>0.666111</td>\n",
       "      <td>NaN</td>\n",
       "    </tr>\n",
       "    <tr>\n",
       "      <th>bow l1 only release</th>\n",
       "      <td>0.621212</td>\n",
       "      <td>0.630281</td>\n",
       "      <td>0.643939</td>\n",
       "      <td>0.622362</td>\n",
       "      <td>0.764039</td>\n",
       "    </tr>\n",
       "    <tr>\n",
       "      <th>bow elasticnet</th>\n",
       "      <td>0.727273</td>\n",
       "      <td>0.726156</td>\n",
       "      <td>0.735239</td>\n",
       "      <td>0.722000</td>\n",
       "      <td>0.872670</td>\n",
       "    </tr>\n",
       "    <tr>\n",
       "      <th>bow release title</th>\n",
       "      <td>0.727273</td>\n",
       "      <td>0.726156</td>\n",
       "      <td>0.735239</td>\n",
       "      <td>0.722000</td>\n",
       "      <td>0.870925</td>\n",
       "    </tr>\n",
       "    <tr>\n",
       "      <th>bow release all num</th>\n",
       "      <td>0.727273</td>\n",
       "      <td>0.724036</td>\n",
       "      <td>0.730000</td>\n",
       "      <td>0.722604</td>\n",
       "      <td>0.865277</td>\n",
       "    </tr>\n",
       "    <tr>\n",
       "      <th>tf_idf l1 only release</th>\n",
       "      <td>0.606061</td>\n",
       "      <td>0.613057</td>\n",
       "      <td>0.643850</td>\n",
       "      <td>0.601767</td>\n",
       "      <td>0.784513</td>\n",
       "    </tr>\n",
       "    <tr>\n",
       "      <th>tf_idf only release best word</th>\n",
       "      <td>0.757576</td>\n",
       "      <td>0.761220</td>\n",
       "      <td>0.769459</td>\n",
       "      <td>0.756484</td>\n",
       "      <td>0.901612</td>\n",
       "    </tr>\n",
       "    <tr>\n",
       "      <th>tf_idf title release</th>\n",
       "      <td>0.712121</td>\n",
       "      <td>0.717903</td>\n",
       "      <td>0.737500</td>\n",
       "      <td>0.709954</td>\n",
       "      <td>0.878747</td>\n",
       "    </tr>\n",
       "    <tr>\n",
       "      <th>tf_idf numerical release</th>\n",
       "      <td>0.681818</td>\n",
       "      <td>0.688457</td>\n",
       "      <td>0.731248</td>\n",
       "      <td>0.677314</td>\n",
       "      <td>0.835872</td>\n",
       "    </tr>\n",
       "    <tr>\n",
       "      <th>MultinomialNB</th>\n",
       "      <td>0.636364</td>\n",
       "      <td>0.629318</td>\n",
       "      <td>0.628042</td>\n",
       "      <td>0.642321</td>\n",
       "      <td>0.772995</td>\n",
       "    </tr>\n",
       "    <tr>\n",
       "      <th>word2vec</th>\n",
       "      <td>0.575758</td>\n",
       "      <td>0.578855</td>\n",
       "      <td>0.581095</td>\n",
       "      <td>0.577040</td>\n",
       "      <td>0.727697</td>\n",
       "    </tr>\n",
       "    <tr>\n",
       "      <th>word2vec_pretrained</th>\n",
       "      <td>0.590909</td>\n",
       "      <td>0.603136</td>\n",
       "      <td>0.628721</td>\n",
       "      <td>0.590929</td>\n",
       "      <td>0.760629</td>\n",
       "    </tr>\n",
       "  </tbody>\n",
       "</table>\n",
       "</div>"
      ],
      "text/plain": [
       "                               accuracy        f1  precision    recall  \\\n",
       "min_baseline                   0.663158  0.667893   0.669919  0.666111   \n",
       "bow l1 only release            0.621212  0.630281   0.643939  0.622362   \n",
       "bow elasticnet                 0.727273  0.726156   0.735239  0.722000   \n",
       "bow release title              0.727273  0.726156   0.735239  0.722000   \n",
       "bow release all num            0.727273  0.724036   0.730000  0.722604   \n",
       "tf_idf l1 only release         0.606061  0.613057   0.643850  0.601767   \n",
       "tf_idf only release best word  0.757576  0.761220   0.769459  0.756484   \n",
       "tf_idf title release           0.712121  0.717903   0.737500  0.709954   \n",
       "tf_idf numerical release       0.681818  0.688457   0.731248  0.677314   \n",
       "MultinomialNB                  0.636364  0.629318   0.628042  0.642321   \n",
       "word2vec                       0.575758  0.578855   0.581095  0.577040   \n",
       "word2vec_pretrained            0.590909  0.603136   0.628721  0.590929   \n",
       "\n",
       "                               roc_auc_ovr  \n",
       "min_baseline                           NaN  \n",
       "bow l1 only release               0.764039  \n",
       "bow elasticnet                    0.872670  \n",
       "bow release title                 0.870925  \n",
       "bow release all num               0.865277  \n",
       "tf_idf l1 only release            0.784513  \n",
       "tf_idf only release best word     0.901612  \n",
       "tf_idf title release              0.878747  \n",
       "tf_idf numerical release          0.835872  \n",
       "MultinomialNB                     0.772995  \n",
       "word2vec                          0.727697  \n",
       "word2vec_pretrained               0.760629  "
      ]
     },
     "execution_count": 51,
     "metadata": {},
     "output_type": "execute_result"
    }
   ],
   "source": [
    "metric, model = calc_metrics(embedings_ruscorpora, LogisticRegression, name='word2vec_pretrained', **best_model.get_params())\n",
    "metrics = pd.concat([metrics, metric], axis=0)\n",
    "metrics"
   ]
  },
  {
   "cell_type": "markdown",
   "metadata": {},
   "source": [
    "Качество практически не изменилось по сравнению с прошлой моделью. Попробуем считать сумму ембедингов без слов, которые мы считали стоп словами в модели tf-idf."
   ]
  },
  {
   "cell_type": "code",
   "execution_count": 52,
   "metadata": {},
   "outputs": [],
   "source": [
    "def tag(words):\n",
    "    morph = MorphAnalyzer()\n",
    "    # tagged = str(morph.parse(word)[0].tag.POS)\n",
    "    # return word + '_' + tagged\n",
    "    parts = [str(morph.parse(word)[0].tag.POS) for word in words if word not in STOP_WORDS_TF_IDF]\n",
    "    return [word + '_' + part for word, part in zip(words, parts)]"
   ]
  },
  {
   "cell_type": "code",
   "execution_count": 53,
   "metadata": {},
   "outputs": [],
   "source": [
    "embedings_ruscorpora_stop_words = texts.map(tag).map(lambda x: [w2v_ruscorpora[word] for word in x if word in w2v_ruscorpora])\n",
    "embedings_ruscorpora_stop_words = embedings_ruscorpora_stop_words .map(lambda x: np.array(x).sum(0))\n",
    "embedings_ruscorpora_stop_words  = np.array([arr.tolist() for arr in embedings_ruscorpora_stop_words ])"
   ]
  },
  {
   "cell_type": "code",
   "execution_count": null,
   "metadata": {},
   "outputs": [
    {
     "name": "stderr",
     "output_type": "stream",
     "text": [
      "  0%|          | 0/4 [00:00<?, ?it/s]/home/father/Desktop/cbr-press-release-classifier/.venv/lib/python3.10/site-packages/sklearn/metrics/_classification.py:1531: UndefinedMetricWarning: Precision is ill-defined and being set to 0.0 in labels with no predicted samples. Use `zero_division` parameter to control this behavior.\n",
      "  _warn_prf(average, modifier, f\"{metric.capitalize()} is\", len(result))\n",
      "/home/father/Desktop/cbr-press-release-classifier/.venv/lib/python3.10/site-packages/sklearn/metrics/_classification.py:1531: UndefinedMetricWarning: Precision is ill-defined and being set to 0.0 in labels with no predicted samples. Use `zero_division` parameter to control this behavior.\n",
      "  _warn_prf(average, modifier, f\"{metric.capitalize()} is\", len(result))\n",
      "100%|██████████| 4/4 [06:08<00:00, 92.03s/it] "
     ]
    },
    {
     "name": "stdout",
     "output_type": "stream",
     "text": [
      "Лучшая модель - LogisticRegression(C=10, l1_ratio=0.5, max_iter=10000, penalty='elasticnet',\n",
      "                   solver='saga')\n",
      "ROC-AUC = 0.6936526548666867\n"
     ]
    },
    {
     "name": "stderr",
     "output_type": "stream",
     "text": [
      "\n"
     ]
    }
   ],
   "source": [
    "auc = []\n",
    "for c in tqdm([0.1, 1, 5, 10]):\n",
    "    for l1_ratio in [0.1, 0.5, 0.9]:\n",
    "        auc.append(\n",
    "            calc_metrics(\n",
    "                embedings_ruscorpora_stop_words, \n",
    "                LogisticRegression,\n",
    "                name='pretrained_word2vec', \n",
    "                plot=False, \n",
    "                solver='saga', \n",
    "                penalty='elasticnet', \n",
    "                C=c, \n",
    "                max_iter=10000, \n",
    "                # n_jobs=-1,\n",
    "                l1_ratio=l1_ratio\n",
    "            )\n",
    "        )\n",
    "    \n",
    "roc_auc, best_model = max(auc)\n",
    "\n",
    "print(f\"Лучшая модель - {best_model}\")\n",
    "print(f\"ROC-AUC = {roc_auc}\")"
   ]
  },
  {
   "cell_type": "markdown",
   "metadata": {},
   "source": [
    "Качество получилось совсем плохое, не будем заносить ее заносить в общую табличку."
   ]
  }
 ],
 "metadata": {
  "kernelspec": {
   "display_name": ".venv",
   "language": "python",
   "name": "python3"
  },
  "language_info": {
   "codemirror_mode": {
    "name": "ipython",
    "version": 3
   },
   "file_extension": ".py",
   "mimetype": "text/x-python",
   "name": "python",
   "nbconvert_exporter": "python",
   "pygments_lexer": "ipython3",
   "version": "3.10.15"
  }
 },
 "nbformat": 4,
 "nbformat_minor": 2
}
