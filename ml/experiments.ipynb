{
 "cells": [
  {
   "cell_type": "markdown",
   "metadata": {},
   "source": [
    "# Прогнозирование изменения ставки ЦБ (Baseline-решение)"
   ]
  },
  {
   "cell_type": "markdown",
   "metadata": {},
   "source": [
    "### Описание проекта:\n",
    "\n",
    "Baseline-решение задачи классификации направления изменения будущей ключевой ставки ЦБ РФ по семантике текущего пресс-релиза, величины инфляции, курса доллара, а также текущей ставки ЦБ.\n",
    "\n",
    "### Цели проекта:\n",
    "\n",
    "Цель данной работы построение бейзлайна и его улучшение с помощью простейших моделей, для предсказания направления изменения ставки рефинансирования ЦБ. Это наша отправная точка для сравнения и улучшения. \n",
    "\n",
    "### План работы:\n",
    "\n",
    "0. Общая предобработка данных.\n",
    "1. Минимальный бейзлайн.\n",
    "2. Статистические методы :\n",
    "    - Мешок слов плюс линейная модель\n",
    "    - TF-IDF плюс линейная модель\n",
    "    - N-граммы плюс Naive Bayes\n",
    "3. Создание эмбеддингов:\n",
    "    - Word2Vec плюс линейная модель\n",
    "    - GloVe плюс линейная модель\n",
    "4. Выводы\n",
    "\n",
    "### Описание данных:\n",
    "\n",
    "- `date` - дата публикации пресс-релиза\n",
    "- `title` - заголовок пресс-релиза\n",
    "- `release` - текст пресс-релиза\n",
    "- `inflation` - годовая инфляция\n",
    "- `rate` - величина ключевой ставки ЦБ, объявленная на следущем заседании\n",
    "- `usd` - курс доллара\n",
    "- `usd_cur_change_relative` - относительное изменение курса доллара, по сравнению с предыдущим заседанием\n",
    "- `target_categorial` - категориальная метка направления изменения ключевой ставки ЦБ, 1 - повышение, -1 - понижение, 0 - без изменений.\n",
    "- `target_absolute` - абсолютное изменение ключевой ставки ЦБ (следующее значение минус текущее)\n",
    "- `target_relative` - относительное изменение ключевой ставки ЦБ (следующее значение делится на текущее)"
   ]
  },
  {
   "cell_type": "code",
   "execution_count": 1,
   "metadata": {},
   "outputs": [
    {
     "name": "stderr",
     "output_type": "stream",
     "text": [
      "[nltk_data] Downloading package punkt to /home/father/nltk_data...\n",
      "[nltk_data]   Package punkt is already up-to-date!\n",
      "[nltk_data] Downloading package stopwords to /home/father/nltk_data...\n",
      "[nltk_data]   Package stopwords is already up-to-date!\n",
      "[nltk_data] Downloading package punkt_tab to /home/father/nltk_data...\n",
      "[nltk_data]   Package punkt_tab is already up-to-date!\n"
     ]
    },
    {
     "data": {
      "text/plain": [
       "True"
      ]
     },
     "execution_count": 1,
     "metadata": {},
     "output_type": "execute_result"
    }
   ],
   "source": [
    "import re\n",
    "from string import punctuation\n",
    "\n",
    "import pandas as pd\n",
    "import numpy as np\n",
    "from tqdm import tqdm\n",
    "import matplotlib.pyplot as plt\n",
    "import seaborn as sns\n",
    "from sklearn.linear_model import LogisticRegression\n",
    "from sklearn.naive_bayes import MultinomialNB\n",
    "from sklearn import svm\n",
    "from sklearn.pipeline import Pipeline\n",
    "from sklearn.compose import ColumnTransformer\n",
    "from sklearn.feature_extraction.text import CountVectorizer\n",
    "from sklearn.metrics import classification_report, confusion_matrix\n",
    "from sklearn.preprocessing import StandardScaler\n",
    "from sklearn.model_selection import GridSearchCV\n",
    "import nltk\n",
    "from nltk.corpus import stopwords\n",
    "from nltk.tokenize import word_tokenize\n",
    "from sklearn.feature_extraction.text import CountVectorizer, TfidfVectorizer\n",
    "from pymystem3 import Mystem\n",
    "from sklearn.linear_model import LogisticRegression\n",
    "from sklearn.metrics import accuracy_score, precision_score, recall_score, roc_auc_score, f1_score\n",
    "\n",
    "RANDOM_STATE = 41825352\n",
    "DATASET_URL = '../data/cbr-press-releases.csv'\n",
    "\n",
    "nltk.download('punkt')\n",
    "nltk.download('stopwords')\n",
    "nltk.download('punkt_tab')"
   ]
  },
  {
   "cell_type": "markdown",
   "metadata": {},
   "source": [
    "Загрузим датасет пресс-релизов, полученных с сайта ЦБ РФ:"
   ]
  },
  {
   "cell_type": "code",
   "execution_count": 2,
   "metadata": {},
   "outputs": [],
   "source": [
    "df = pd.read_csv(DATASET_URL, parse_dates=['date'])"
   ]
  },
  {
   "cell_type": "markdown",
   "metadata": {},
   "source": [
    "## Общая предобработка данных"
   ]
  },
  {
   "cell_type": "markdown",
   "metadata": {},
   "source": [
    "`rate` - величина ключевой ставки, которую объявят на следующем заседании. Мы хотели бы знать эту величину. Но мы знаем текущую ставку и эту информацию можно добавить в наши данные сдвинув ставку на один."
   ]
  },
  {
   "cell_type": "code",
   "execution_count": 3,
   "metadata": {},
   "outputs": [],
   "source": [
    "df['rate'] = df.rate.shift(1)"
   ]
  },
  {
   "cell_type": "markdown",
   "metadata": {},
   "source": [
    "В сентябре 2013 года ЦБ ввел ключевую ставку, и назначил ее величину в 5,5% заполним пропущенное значение."
   ]
  },
  {
   "cell_type": "code",
   "execution_count": 4,
   "metadata": {},
   "outputs": [],
   "source": [
    "df.loc[0, 'rate'] = 5.5"
   ]
  },
  {
   "cell_type": "markdown",
   "metadata": {},
   "source": [
    "Дату сделаем индексом, ссылку на пресс-релиз выбросим, эта переменная не поможет в предсказании таргета."
   ]
  },
  {
   "cell_type": "code",
   "execution_count": 5,
   "metadata": {},
   "outputs": [],
   "source": [
    "df.set_index('date', inplace=True)\n",
    "df.drop('link', axis=1, inplace=True)"
   ]
  },
  {
   "cell_type": "markdown",
   "metadata": {},
   "source": [
    "Для последнего релиза неизвестна целевая переменная (направление изменения ключевой ставки), поэтому исключим его из датасета и сохраним отдельно:"
   ]
  },
  {
   "cell_type": "code",
   "execution_count": 6,
   "metadata": {},
   "outputs": [],
   "source": [
    "df.sort_values('date', inplace=True)\n",
    "cur_pr = df.tail(1)\n",
    "df = df[:-1]"
   ]
  },
  {
   "cell_type": "markdown",
   "metadata": {},
   "source": [
    "Мы хотим предсказывать направление ставки рефинансирования `target_categorial`, выделим ее как целевую переменную. `target_absolute` и `target_relative` содержит в себе информацию о целевой переменной удалим их из матрицы признаков."
   ]
  },
  {
   "cell_type": "code",
   "execution_count": 7,
   "metadata": {},
   "outputs": [],
   "source": [
    "X = df.drop(['target_categorial', 'target_absolute', 'target_relative'], axis=1)\n",
    "y = df['target_categorial']"
   ]
  },
  {
   "cell_type": "markdown",
   "metadata": {},
   "source": [
    "## Минимальный безлайн "
   ]
  },
  {
   "cell_type": "markdown",
   "metadata": {},
   "source": [
    "Направление изменения ставки будем предсказывать таким, как в последнем решении. До 13 сентября ключевой ставки не существовало, поэтому мы не можем предсказать таким способом для первого наблюдения, будем оценивать качество бейзлайна без него."
   ]
  },
  {
   "cell_type": "code",
   "execution_count": 8,
   "metadata": {},
   "outputs": [],
   "source": [
    "y_pred = y.shift(1)\n",
    "accuracy = accuracy_score(y[1:], y_pred[1:])\n",
    "f1 = f1_score(y[1:], y_pred[1:], average='macro')\n",
    "precision = precision_score(y[1:], y_pred[1:], average='macro')\n",
    "recall = recall_score(y[1:], y_pred[1:], average='macro')\n",
    "min_baseline = pd.DataFrame({'accuracy': accuracy, 'f1': f1, 'precision': precision, 'recall': recall}, index=['min_baseline'])"
   ]
  },
  {
   "cell_type": "markdown",
   "metadata": {},
   "source": [
    "## Статистические методы"
   ]
  },
  {
   "cell_type": "markdown",
   "metadata": {},
   "source": [
    "### Мешок слов плюс линейная модель"
   ]
  },
  {
   "cell_type": "markdown",
   "metadata": {},
   "source": [
    "Создадим функцию для тестирования наших моделей. Зададим начальный порог и будем обучать, модель на наблюдениях до порога, а тестировать на одном наблюдении после. Двигая порог протестируем нашу модель. И потом сравним с истинными ответами. Качество всех наших моделей будем записывать в табличку."
   ]
  },
  {
   "cell_type": "code",
   "execution_count": 9,
   "metadata": {},
   "outputs": [],
   "source": [
    "def calc_metrics_on_lr(X, model, *, name, plot=True, **params):\n",
    "    y_preds = []\n",
    "    y_preds_proba = []\n",
    "    model = model(**params)\n",
    "    for threshold in range(30, 96):\n",
    "        X_train = X[:threshold]\n",
    "        X_test = X[threshold:]\n",
    "        y_train = y[:threshold]\n",
    "\n",
    "        model.fit(X_train, y_train)\n",
    "        y_pred = model.predict(X_test[0].reshape(1, -1))\n",
    "        y_pred_proba = model.predict_proba(X_test[0].reshape(1, -1))\n",
    "        y_preds.append(y_pred.item())\n",
    "        y_preds_proba.append(y_pred_proba)\n",
    "\n",
    "    acc = accuracy_score(y[30:], y_preds)\n",
    "    f1 = f1_score(y[30:], y_preds, average='macro')\n",
    "    recall = recall_score(y[30:], y_preds, average='macro')\n",
    "    precision = precision_score(y[30:], y_preds, average='macro')\n",
    "    roc_auc = roc_auc_score(y[30:], np.concatenate(y_preds_proba, axis=0), average='macro', multi_class='ovr')\n",
    "    if plot:\n",
    "        print(classification_report(y[30:], y_preds))\n",
    "        cm = confusion_matrix(y[30:], y_preds)\n",
    "        cm = pd.DataFrame(cm, index=['-1', '0', '1'], columns=['-1', '0', 1])\n",
    "        sns.heatmap(cm, annot=True, fmt='d')\n",
    "        plt.title(\"Confusion matrix\")\n",
    "        plt.ylabel('True label')\n",
    "        plt.xlabel('Predicted label')\n",
    "        plt.show()\n",
    "\n",
    "        metrics = pd.DataFrame({\n",
    "            'accuracy': acc, 'f1': f1, 'recall': recall, 'precision': precision, 'roc_auc_ovr': roc_auc,\n",
    "            }, index=[name])\n",
    "        return metrics, model\n",
    "    else:\n",
    "        return roc_auc.item(), model"
   ]
  },
  {
   "cell_type": "markdown",
   "metadata": {},
   "source": [
    "Обучим логистическую регрессию с l1 регуляризацией, она нам покажет какие слова не влияют на предсказание модели."
   ]
  },
  {
   "cell_type": "code",
   "execution_count": 10,
   "metadata": {},
   "outputs": [],
   "source": [
    "mystem = Mystem()\n",
    "STOP_WORDS = set(stopwords.words('russian'))\n",
    "\n",
    "def preprocessor(text):\n",
    "    text = text.lower()\n",
    "    regex = re.compile('[^а-я А-ЯЁё]')\n",
    "    text = regex.sub(' ', text)\n",
    "    text = ' '.join(mystem.lemmatize(text))\n",
    "    text = ' '.join([word for word in text.split() if word not in STOP_WORDS])\n",
    "    return text\n",
    "\n",
    "vectorizer = CountVectorizer(\n",
    "    preprocessor=preprocessor,\n",
    ")\n",
    "\n",
    "vectorizer.fit(X.release)\n",
    "\n",
    "bow = vectorizer.transform(X.release)"
   ]
  },
  {
   "cell_type": "code",
   "execution_count": 11,
   "metadata": {},
   "outputs": [
    {
     "name": "stderr",
     "output_type": "stream",
     "text": [
      "  0%|          | 0/30 [00:00<?, ?it/s]/home/father/Desktop/cbr-press-release-classifier/.venv/lib/python3.10/site-packages/sklearn/metrics/_classification.py:1531: UndefinedMetricWarning: Precision is ill-defined and being set to 0.0 in labels with no predicted samples. Use `zero_division` parameter to control this behavior.\n",
      "  _warn_prf(average, modifier, f\"{metric.capitalize()} is\", len(result))\n",
      "100%|██████████| 30/30 [00:12<00:00,  2.38it/s]"
     ]
    },
    {
     "name": "stdout",
     "output_type": "stream",
     "text": [
      "Лучшая модель - LogisticRegression(C=7.241655172413794, penalty='l1', solver='liblinear')\n",
      "ROC-AUC = 0.769647586641165\n"
     ]
    },
    {
     "name": "stderr",
     "output_type": "stream",
     "text": [
      "\n"
     ]
    }
   ],
   "source": [
    "auc = []\n",
    "for c in tqdm(np.linspace(0.001, 10, 30)):\n",
    "    auc.append(calc_metrics_on_lr(bow, LogisticRegression, name='bow l1 only release', plot=False, solver='liblinear', penalty='l1', C=c.item()))\n",
    "\n",
    "roc_auc, best_model = max(auc)\n",
    "\n",
    "print(f\"Лучшая модель - {best_model}\")\n",
    "print(f\"ROC-AUC = {roc_auc}\")"
   ]
  },
  {
   "cell_type": "markdown",
   "metadata": {},
   "source": [
    "Рассмотрим подробнее лучшую модель."
   ]
  },
  {
   "cell_type": "code",
   "execution_count": 12,
   "metadata": {},
   "outputs": [
    {
     "name": "stdout",
     "output_type": "stream",
     "text": [
      "              precision    recall  f1-score   support\n",
      "\n",
      "        -1.0       0.68      0.65      0.67        23\n",
      "         0.0       0.48      0.58      0.53        24\n",
      "         1.0       0.73      0.58      0.65        19\n",
      "\n",
      "    accuracy                           0.61        66\n",
      "   macro avg       0.63      0.60      0.61        66\n",
      "weighted avg       0.62      0.61      0.61        66\n",
      "\n"
     ]
    },
    {
     "data": {
      "image/png": "[encoded data removed]",
      "text/plain": [
       "<Figure size 640x480 with 2 Axes>"
      ]
     },
     "metadata": {},
     "output_type": "display_data"
    },
    {
     "data": {
      "text/html": [
       "<div>\n",
       "<style scoped>\n",
       "    .dataframe tbody tr th:only-of-type {\n",
       "        vertical-align: middle;\n",
       "    }\n",
       "\n",
       "    .dataframe tbody tr th {\n",
       "        vertical-align: top;\n",
       "    }\n",
       "\n",
       "    .dataframe thead th {\n",
       "        text-align: right;\n",
       "    }\n",
       "</style>\n",
       "<table border=\"1\" class=\"dataframe\">\n",
       "  <thead>\n",
       "    <tr style=\"text-align: right;\">\n",
       "      <th></th>\n",
       "      <th>accuracy</th>\n",
       "      <th>f1</th>\n",
       "      <th>precision</th>\n",
       "      <th>recall</th>\n",
       "      <th>roc_auc_ovr</th>\n",
       "    </tr>\n",
       "  </thead>\n",
       "  <tbody>\n",
       "    <tr>\n",
       "      <th>min_baseline</th>\n",
       "      <td>0.663158</td>\n",
       "      <td>0.667893</td>\n",
       "      <td>0.669919</td>\n",
       "      <td>0.666111</td>\n",
       "      <td>NaN</td>\n",
       "    </tr>\n",
       "    <tr>\n",
       "      <th>bow l1 only release</th>\n",
       "      <td>0.606061</td>\n",
       "      <td>0.614009</td>\n",
       "      <td>0.632637</td>\n",
       "      <td>0.604818</td>\n",
       "      <td>0.766603</td>\n",
       "    </tr>\n",
       "  </tbody>\n",
       "</table>\n",
       "</div>"
      ],
      "text/plain": [
       "                     accuracy        f1  precision    recall  roc_auc_ovr\n",
       "min_baseline         0.663158  0.667893   0.669919  0.666111          NaN\n",
       "bow l1 only release  0.606061  0.614009   0.632637  0.604818     0.766603"
      ]
     },
     "execution_count": 12,
     "metadata": {},
     "output_type": "execute_result"
    }
   ],
   "source": [
    "metric, model = calc_metrics_on_lr(bow, LogisticRegression, name='bow l1 only release', **best_model.get_params())\n",
    "metrics = pd.concat([min_baseline, metric], axis=0)\n",
    "metrics"
   ]
  },
  {
   "cell_type": "markdown",
   "metadata": {},
   "source": [
    "Качество даже хуже минимального бейзлайна, подберем гиперпараметры для elasticnet, и только на тех словах, веса при которых не занулила прошлая модель. Мы таким образом заглянем в тестовую выборку, но скорее всего это будет не критично. Таким образом расширим множество стоп слов, словами которые не важны для прошлой модели."
   ]
  },
  {
   "cell_type": "code",
   "execution_count": 13,
   "metadata": {},
   "outputs": [],
   "source": [
    "STOP_WORDS |= set(vectorizer.get_feature_names_out()[np.all(model.coef_ == 0, axis=0)])"
   ]
  },
  {
   "cell_type": "code",
   "execution_count": 14,
   "metadata": {},
   "outputs": [],
   "source": [
    "vectorizer = CountVectorizer(\n",
    "    preprocessor=preprocessor,\n",
    ")\n",
    "\n",
    "vectorizer.fit(X.release)\n",
    "\n",
    "bow = vectorizer.transform(X.release)"
   ]
  },
  {
   "cell_type": "code",
   "execution_count": 15,
   "metadata": {},
   "outputs": [
    {
     "name": "stderr",
     "output_type": "stream",
     "text": [
      "100%|██████████| 4/4 [01:53<00:00, 28.40s/it]"
     ]
    },
    {
     "name": "stdout",
     "output_type": "stream",
     "text": [
      "Лучшая модель - LogisticRegression(C=5, l1_ratio=0.1, max_iter=10000, penalty='elasticnet',\n",
      "                   solver='saga')\n",
      "ROC-AUC = 0.870776918062881\n"
     ]
    },
    {
     "name": "stderr",
     "output_type": "stream",
     "text": [
      "\n"
     ]
    }
   ],
   "source": [
    "auc = []\n",
    "for c in tqdm([0.1, 1, 5, 10]):\n",
    "    for l1_ratio in [0.1, 0.5, 0.9]:\n",
    "        auc.append(\n",
    "            calc_metrics_on_lr(bow, \n",
    "                                LogisticRegression,\n",
    "                                name='bow l2', \n",
    "                                plot=False, \n",
    "                                solver='saga', \n",
    "                                penalty='elasticnet', \n",
    "                                C=c, \n",
    "                                max_iter=10000, \n",
    "                                # n_jobs=-1,\n",
    "                                l1_ratio=l1_ratio\n",
    "                                )\n",
    "                            )\n",
    "    \n",
    "roc_auc, best_model = max(auc)\n",
    "\n",
    "print(f\"Лучшая модель - {best_model}\")\n",
    "print(f\"ROC-AUC = {roc_auc}\")"
   ]
  },
  {
   "cell_type": "markdown",
   "metadata": {},
   "source": [
    "Обучим лучшую модель и посмотрим ее оценки качества подробнее."
   ]
  },
  {
   "cell_type": "code",
   "execution_count": 16,
   "metadata": {},
   "outputs": [
    {
     "name": "stdout",
     "output_type": "stream",
     "text": [
      "              precision    recall  f1-score   support\n",
      "\n",
      "        -1.0       0.82      0.78      0.80        23\n",
      "         0.0       0.59      0.67      0.63        24\n",
      "         1.0       0.71      0.63      0.67        19\n",
      "\n",
      "    accuracy                           0.70        66\n",
      "   macro avg       0.71      0.69      0.70        66\n",
      "weighted avg       0.70      0.70      0.70        66\n",
      "\n"
     ]
    },
    {
     "data": {
      "image/png": "[encoded data removed]",
      "text/plain": [
       "<Figure size 640x480 with 2 Axes>"
      ]
     },
     "metadata": {},
     "output_type": "display_data"
    },
    {
     "data": {
      "text/html": [
       "<div>\n",
       "<style scoped>\n",
       "    .dataframe tbody tr th:only-of-type {\n",
       "        vertical-align: middle;\n",
       "    }\n",
       "\n",
       "    .dataframe tbody tr th {\n",
       "        vertical-align: top;\n",
       "    }\n",
       "\n",
       "    .dataframe thead th {\n",
       "        text-align: right;\n",
       "    }\n",
       "</style>\n",
       "<table border=\"1\" class=\"dataframe\">\n",
       "  <thead>\n",
       "    <tr style=\"text-align: right;\">\n",
       "      <th></th>\n",
       "      <th>accuracy</th>\n",
       "      <th>f1</th>\n",
       "      <th>precision</th>\n",
       "      <th>recall</th>\n",
       "      <th>roc_auc_ovr</th>\n",
       "    </tr>\n",
       "  </thead>\n",
       "  <tbody>\n",
       "    <tr>\n",
       "      <th>min_baseline</th>\n",
       "      <td>0.663158</td>\n",
       "      <td>0.667893</td>\n",
       "      <td>0.669919</td>\n",
       "      <td>0.666111</td>\n",
       "      <td>NaN</td>\n",
       "    </tr>\n",
       "    <tr>\n",
       "      <th>bow l1 only release</th>\n",
       "      <td>0.606061</td>\n",
       "      <td>0.614009</td>\n",
       "      <td>0.632637</td>\n",
       "      <td>0.604818</td>\n",
       "      <td>0.766603</td>\n",
       "    </tr>\n",
       "    <tr>\n",
       "      <th>bow elasticnet</th>\n",
       "      <td>0.696970</td>\n",
       "      <td>0.698039</td>\n",
       "      <td>0.705552</td>\n",
       "      <td>0.693618</td>\n",
       "      <td>0.870771</td>\n",
       "    </tr>\n",
       "  </tbody>\n",
       "</table>\n",
       "</div>"
      ],
      "text/plain": [
       "                     accuracy        f1  precision    recall  roc_auc_ovr\n",
       "min_baseline         0.663158  0.667893   0.669919  0.666111          NaN\n",
       "bow l1 only release  0.606061  0.614009   0.632637  0.604818     0.766603\n",
       "bow elasticnet       0.696970  0.698039   0.705552  0.693618     0.870771"
      ]
     },
     "execution_count": 16,
     "metadata": {},
     "output_type": "execute_result"
    }
   ],
   "source": [
    "metric, _ = calc_metrics_on_lr(bow, LogisticRegression, name='bow elasticnet', **best_model.get_params())\n",
    "metrics = pd.concat((metrics, metric))\n",
    "metrics"
   ]
  },
  {
   "cell_type": "markdown",
   "metadata": {},
   "source": [
    "Качество немного подросло попробуем обучить мешок слов не только на пресс-релизах, но и на названиях."
   ]
  },
  {
   "cell_type": "code",
   "execution_count": 17,
   "metadata": {},
   "outputs": [],
   "source": [
    "vectorizer_title = CountVectorizer(\n",
    "    preprocessor=preprocessor,\n",
    ")\n",
    "\n",
    "vectorizer_title.fit(X.title)\n",
    "\n",
    "bow_title = vectorizer_title.transform(X.title)"
   ]
  },
  {
   "cell_type": "code",
   "execution_count": 18,
   "metadata": {},
   "outputs": [],
   "source": [
    "bow_title_release = np.concatenate((bow.toarray(), bow_title.toarray()), axis=1)"
   ]
  },
  {
   "cell_type": "markdown",
   "metadata": {},
   "source": [
    "Подберем гиперпараметры для модели обучаемой на названии релиза и самом релизе."
   ]
  },
  {
   "cell_type": "code",
   "execution_count": 19,
   "metadata": {},
   "outputs": [
    {
     "name": "stderr",
     "output_type": "stream",
     "text": [
      "100%|██████████| 4/4 [01:49<00:00, 27.42s/it]"
     ]
    },
    {
     "name": "stdout",
     "output_type": "stream",
     "text": [
      "Лучшая модель - LogisticRegression(C=10, l1_ratio=0.1, max_iter=10000, penalty='elasticnet',\n",
      "                   solver='saga')\n",
      "ROC-AUC = 0.8701581281803734\n"
     ]
    },
    {
     "name": "stderr",
     "output_type": "stream",
     "text": [
      "\n"
     ]
    }
   ],
   "source": [
    "auc = []\n",
    "for c in tqdm([0.1, 1, 5, 10]):\n",
    "    for l1_ratio in [0.1, 0.5, 0.9]:\n",
    "        auc.append(\n",
    "            calc_metrics_on_lr(bow_title_release,\n",
    "                               LogisticRegression, \n",
    "                                name='bow', \n",
    "                                plot=False, \n",
    "                                solver='saga', \n",
    "                                penalty='elasticnet', \n",
    "                                C=c, \n",
    "                                max_iter=10000, \n",
    "                                # n_jobs=-1,\n",
    "                                l1_ratio=l1_ratio\n",
    "                            )\n",
    "                        )\n",
    "    \n",
    "roc_auc, best_model = max(auc)\n",
    "\n",
    "print(f\"Лучшая модель - {best_model}\")\n",
    "print(f\"ROC-AUC = {roc_auc}\")"
   ]
  },
  {
   "cell_type": "markdown",
   "metadata": {},
   "source": [
    "Посмотрим на метрики модели и добавим их в таблицу."
   ]
  },
  {
   "cell_type": "code",
   "execution_count": 20,
   "metadata": {},
   "outputs": [
    {
     "name": "stdout",
     "output_type": "stream",
     "text": [
      "              precision    recall  f1-score   support\n",
      "\n",
      "        -1.0       0.82      0.78      0.80        23\n",
      "         0.0       0.59      0.67      0.63        24\n",
      "         1.0       0.71      0.63      0.67        19\n",
      "\n",
      "    accuracy                           0.70        66\n",
      "   macro avg       0.71      0.69      0.70        66\n",
      "weighted avg       0.70      0.70      0.70        66\n",
      "\n"
     ]
    },
    {
     "data": {
      "image/png": "[encoded data removed]",
      "text/plain": [
       "<Figure size 640x480 with 2 Axes>"
      ]
     },
     "metadata": {},
     "output_type": "display_data"
    },
    {
     "data": {
      "text/html": [
       "<div>\n",
       "<style scoped>\n",
       "    .dataframe tbody tr th:only-of-type {\n",
       "        vertical-align: middle;\n",
       "    }\n",
       "\n",
       "    .dataframe tbody tr th {\n",
       "        vertical-align: top;\n",
       "    }\n",
       "\n",
       "    .dataframe thead th {\n",
       "        text-align: right;\n",
       "    }\n",
       "</style>\n",
       "<table border=\"1\" class=\"dataframe\">\n",
       "  <thead>\n",
       "    <tr style=\"text-align: right;\">\n",
       "      <th></th>\n",
       "      <th>accuracy</th>\n",
       "      <th>f1</th>\n",
       "      <th>precision</th>\n",
       "      <th>recall</th>\n",
       "      <th>roc_auc_ovr</th>\n",
       "    </tr>\n",
       "  </thead>\n",
       "  <tbody>\n",
       "    <tr>\n",
       "      <th>min_baseline</th>\n",
       "      <td>0.663158</td>\n",
       "      <td>0.667893</td>\n",
       "      <td>0.669919</td>\n",
       "      <td>0.666111</td>\n",
       "      <td>NaN</td>\n",
       "    </tr>\n",
       "    <tr>\n",
       "      <th>bow l1 only release</th>\n",
       "      <td>0.606061</td>\n",
       "      <td>0.614009</td>\n",
       "      <td>0.632637</td>\n",
       "      <td>0.604818</td>\n",
       "      <td>0.766603</td>\n",
       "    </tr>\n",
       "    <tr>\n",
       "      <th>bow elasticnet</th>\n",
       "      <td>0.696970</td>\n",
       "      <td>0.698039</td>\n",
       "      <td>0.705552</td>\n",
       "      <td>0.693618</td>\n",
       "      <td>0.870771</td>\n",
       "    </tr>\n",
       "    <tr>\n",
       "      <th>bow release title</th>\n",
       "      <td>0.696970</td>\n",
       "      <td>0.698039</td>\n",
       "      <td>0.705552</td>\n",
       "      <td>0.693618</td>\n",
       "      <td>0.869539</td>\n",
       "    </tr>\n",
       "  </tbody>\n",
       "</table>\n",
       "</div>"
      ],
      "text/plain": [
       "                     accuracy        f1  precision    recall  roc_auc_ovr\n",
       "min_baseline         0.663158  0.667893   0.669919  0.666111          NaN\n",
       "bow l1 only release  0.606061  0.614009   0.632637  0.604818     0.766603\n",
       "bow elasticnet       0.696970  0.698039   0.705552  0.693618     0.870771\n",
       "bow release title    0.696970  0.698039   0.705552  0.693618     0.869539"
      ]
     },
     "execution_count": 20,
     "metadata": {},
     "output_type": "execute_result"
    }
   ],
   "source": [
    "metric, _ = calc_metrics_on_lr(bow_title_release, LogisticRegression, name='bow release title', **best_model.get_params())\n",
    "metrics = pd.concat([metrics, metric])\n",
    "metrics"
   ]
  },
  {
   "cell_type": "markdown",
   "metadata": {},
   "source": [
    "Добавление мешка слов по названию не улучшило нашу модель, а только усложнило ее. Попробуем к мешку слов по текстам релизов, с самыми важными словами добавим количественные признаки."
   ]
  },
  {
   "cell_type": "code",
   "execution_count": 21,
   "metadata": {},
   "outputs": [],
   "source": [
    "num_columns = ['inflation', 'rate', 'usd', 'usd_cur_change_relative']\n",
    "\n",
    "scaler = StandardScaler()\n",
    "scaler.fit(X[num_columns])\n",
    "X[num_columns] = scaler.transform(X[num_columns])"
   ]
  },
  {
   "cell_type": "code",
   "execution_count": 22,
   "metadata": {},
   "outputs": [],
   "source": [
    "all_data = np.concatenate((bow_title_release, X[num_columns].values), axis=1)"
   ]
  },
  {
   "cell_type": "code",
   "execution_count": 23,
   "metadata": {},
   "outputs": [
    {
     "name": "stderr",
     "output_type": "stream",
     "text": [
      "100%|██████████| 4/4 [01:50<00:00, 27.56s/it]"
     ]
    },
    {
     "name": "stdout",
     "output_type": "stream",
     "text": [
      "Лучшая модель - LogisticRegression(C=10, l1_ratio=0.1, max_iter=10000, penalty='elasticnet',\n",
      "                   solver='saga')\n",
      "ROC-AUC = 0.8658573015015721\n"
     ]
    },
    {
     "name": "stderr",
     "output_type": "stream",
     "text": [
      "\n"
     ]
    }
   ],
   "source": [
    "auc = []\n",
    "for c in tqdm([0.1, 1, 5, 10]):\n",
    "    for l1_ratio in [0.1, 0.5, 0.9]:\n",
    "        auc.append(\n",
    "            calc_metrics_on_lr(all_data, \n",
    "                               LogisticRegression,\n",
    "                            name='bow all data', \n",
    "                            plot=False, \n",
    "                            solver='saga', \n",
    "                            penalty='elasticnet', \n",
    "                            C=c, \n",
    "                            max_iter=10000, \n",
    "                            # n_jobs=-1,\n",
    "                            l1_ratio=l1_ratio\n",
    "                            )\n",
    "                        )\n",
    "    \n",
    "roc_auc, best_model = max(auc, key=lambda x: x[0])\n",
    "\n",
    "print(f\"Лучшая модель - {best_model}\")\n",
    "print(f\"ROC-AUC = {roc_auc}\")"
   ]
  },
  {
   "cell_type": "code",
   "execution_count": 24,
   "metadata": {},
   "outputs": [
    {
     "name": "stdout",
     "output_type": "stream",
     "text": [
      "              precision    recall  f1-score   support\n",
      "\n",
      "        -1.0       0.79      0.83      0.81        23\n",
      "         0.0       0.59      0.67      0.63        24\n",
      "         1.0       0.73      0.58      0.65        19\n",
      "\n",
      "    accuracy                           0.70        66\n",
      "   macro avg       0.71      0.69      0.69        66\n",
      "weighted avg       0.70      0.70      0.70        66\n",
      "\n"
     ]
    },
    {
     "data": {
      "image/png": "[encoded data removed]",
      "text/plain": [
       "<Figure size 640x480 with 2 Axes>"
      ]
     },
     "metadata": {},
     "output_type": "display_data"
    },
    {
     "data": {
      "text/html": [
       "<div>\n",
       "<style scoped>\n",
       "    .dataframe tbody tr th:only-of-type {\n",
       "        vertical-align: middle;\n",
       "    }\n",
       "\n",
       "    .dataframe tbody tr th {\n",
       "        vertical-align: top;\n",
       "    }\n",
       "\n",
       "    .dataframe thead th {\n",
       "        text-align: right;\n",
       "    }\n",
       "</style>\n",
       "<table border=\"1\" class=\"dataframe\">\n",
       "  <thead>\n",
       "    <tr style=\"text-align: right;\">\n",
       "      <th></th>\n",
       "      <th>accuracy</th>\n",
       "      <th>f1</th>\n",
       "      <th>precision</th>\n",
       "      <th>recall</th>\n",
       "      <th>roc_auc_ovr</th>\n",
       "    </tr>\n",
       "  </thead>\n",
       "  <tbody>\n",
       "    <tr>\n",
       "      <th>min_baseline</th>\n",
       "      <td>0.663158</td>\n",
       "      <td>0.667893</td>\n",
       "      <td>0.669919</td>\n",
       "      <td>0.666111</td>\n",
       "      <td>NaN</td>\n",
       "    </tr>\n",
       "    <tr>\n",
       "      <th>bow l1 only release</th>\n",
       "      <td>0.606061</td>\n",
       "      <td>0.614009</td>\n",
       "      <td>0.632637</td>\n",
       "      <td>0.604818</td>\n",
       "      <td>0.766603</td>\n",
       "    </tr>\n",
       "    <tr>\n",
       "      <th>bow elasticnet</th>\n",
       "      <td>0.696970</td>\n",
       "      <td>0.698039</td>\n",
       "      <td>0.705552</td>\n",
       "      <td>0.693618</td>\n",
       "      <td>0.870771</td>\n",
       "    </tr>\n",
       "    <tr>\n",
       "      <th>bow release title</th>\n",
       "      <td>0.696970</td>\n",
       "      <td>0.698039</td>\n",
       "      <td>0.705552</td>\n",
       "      <td>0.693618</td>\n",
       "      <td>0.869539</td>\n",
       "    </tr>\n",
       "    <tr>\n",
       "      <th>bow release all num</th>\n",
       "      <td>0.696970</td>\n",
       "      <td>0.694340</td>\n",
       "      <td>0.705864</td>\n",
       "      <td>0.690567</td>\n",
       "      <td>0.863703</td>\n",
       "    </tr>\n",
       "  </tbody>\n",
       "</table>\n",
       "</div>"
      ],
      "text/plain": [
       "                     accuracy        f1  precision    recall  roc_auc_ovr\n",
       "min_baseline         0.663158  0.667893   0.669919  0.666111          NaN\n",
       "bow l1 only release  0.606061  0.614009   0.632637  0.604818     0.766603\n",
       "bow elasticnet       0.696970  0.698039   0.705552  0.693618     0.870771\n",
       "bow release title    0.696970  0.698039   0.705552  0.693618     0.869539\n",
       "bow release all num  0.696970  0.694340   0.705864  0.690567     0.863703"
      ]
     },
     "execution_count": 24,
     "metadata": {},
     "output_type": "execute_result"
    }
   ],
   "source": [
    "metric, _ = calc_metrics_on_lr(all_data, LogisticRegression, name='bow release all num', **best_model.get_params())\n",
    "\n",
    "metrics = pd.concat([metrics, metric])\n",
    "metrics"
   ]
  },
  {
   "cell_type": "markdown",
   "metadata": {},
   "source": [
    "Добавление количественных переменных только ухудшило нашу модель."
   ]
  },
  {
   "cell_type": "markdown",
   "metadata": {},
   "source": [
    "### Tf-idf и линейная модель"
   ]
  },
  {
   "cell_type": "markdown",
   "metadata": {},
   "source": [
    "Протестируем TF-IDF на текстах релизов."
   ]
  },
  {
   "cell_type": "code",
   "execution_count": 25,
   "metadata": {},
   "outputs": [],
   "source": [
    "mystem = Mystem()\n",
    "STOP_WORDS = set(stopwords.words('russian'))\n",
    "\n",
    "def preprocessor(text):\n",
    "    text = text.lower()\n",
    "    regex = re.compile('[^а-я А-ЯЁё]')\n",
    "    text = regex.sub(' ', text)\n",
    "    text = ' '.join(mystem.lemmatize(text))\n",
    "    text = ' '.join([word for word in text.split() if word not in STOP_WORDS])\n",
    "    return text\n",
    "\n",
    "vectorizer = TfidfVectorizer(\n",
    "    preprocessor=preprocessor,\n",
    ")\n",
    "\n",
    "vectorizer.fit(X.release)\n",
    "\n",
    "tf_idf = vectorizer.transform(X.release)"
   ]
  },
  {
   "cell_type": "code",
   "execution_count": 26,
   "metadata": {},
   "outputs": [
    {
     "name": "stderr",
     "output_type": "stream",
     "text": [
      "  0%|          | 0/30 [00:00<?, ?it/s]/home/father/Desktop/cbr-press-release-classifier/.venv/lib/python3.10/site-packages/sklearn/metrics/_classification.py:1531: UndefinedMetricWarning: Precision is ill-defined and being set to 0.0 in labels with no predicted samples. Use `zero_division` parameter to control this behavior.\n",
      "  _warn_prf(average, modifier, f\"{metric.capitalize()} is\", len(result))\n",
      "/home/father/Desktop/cbr-press-release-classifier/.venv/lib/python3.10/site-packages/sklearn/metrics/_classification.py:1531: UndefinedMetricWarning: Precision is ill-defined and being set to 0.0 in labels with no predicted samples. Use `zero_division` parameter to control this behavior.\n",
      "  _warn_prf(average, modifier, f\"{metric.capitalize()} is\", len(result))\n",
      "  7%|▋         | 2/30 [00:00<00:02, 12.73it/s]/home/father/Desktop/cbr-press-release-classifier/.venv/lib/python3.10/site-packages/sklearn/metrics/_classification.py:1531: UndefinedMetricWarning: Precision is ill-defined and being set to 0.0 in labels with no predicted samples. Use `zero_division` parameter to control this behavior.\n",
      "  _warn_prf(average, modifier, f\"{metric.capitalize()} is\", len(result))\n",
      "/home/father/Desktop/cbr-press-release-classifier/.venv/lib/python3.10/site-packages/sklearn/metrics/_classification.py:1531: UndefinedMetricWarning: Precision is ill-defined and being set to 0.0 in labels with no predicted samples. Use `zero_division` parameter to control this behavior.\n",
      "  _warn_prf(average, modifier, f\"{metric.capitalize()} is\", len(result))\n",
      " 13%|█▎        | 4/30 [00:00<00:02, 10.94it/s]/home/father/Desktop/cbr-press-release-classifier/.venv/lib/python3.10/site-packages/sklearn/metrics/_classification.py:1531: UndefinedMetricWarning: Precision is ill-defined and being set to 0.0 in labels with no predicted samples. Use `zero_division` parameter to control this behavior.\n",
      "  _warn_prf(average, modifier, f\"{metric.capitalize()} is\", len(result))\n",
      "100%|██████████| 30/30 [00:05<00:00,  5.79it/s]"
     ]
    },
    {
     "name": "stdout",
     "output_type": "stream",
     "text": [
      "Лучшая модель - LogisticRegression(C=10.0, penalty='l1', solver='liblinear')\n",
      "ROC-AUC = 0.7841821034208433\n"
     ]
    },
    {
     "name": "stderr",
     "output_type": "stream",
     "text": [
      "\n"
     ]
    }
   ],
   "source": [
    "auc = []\n",
    "for c in tqdm(np.linspace(0.001, 10, 30)):\n",
    "    auc.append(calc_metrics_on_lr(tf_idf, LogisticRegression, name='tf-idf l1 only release', plot=False, solver='liblinear', penalty='l1', C=c.item()))\n",
    "\n",
    "roc_auc, best_model = max(auc, key=lambda x: x[0])\n",
    "\n",
    "print(f\"Лучшая модель - {best_model}\")\n",
    "print(f\"ROC-AUC = {roc_auc}\")"
   ]
  },
  {
   "cell_type": "code",
   "execution_count": 27,
   "metadata": {},
   "outputs": [
    {
     "name": "stdout",
     "output_type": "stream",
     "text": [
      "              precision    recall  f1-score   support\n",
      "\n",
      "        -1.0       0.70      0.70      0.70        23\n",
      "         0.0       0.47      0.58      0.52        24\n",
      "         1.0       0.77      0.53      0.62        19\n",
      "\n",
      "    accuracy                           0.61        66\n",
      "   macro avg       0.64      0.60      0.61        66\n",
      "weighted avg       0.63      0.61      0.61        66\n",
      "\n"
     ]
    },
    {
     "data": {
      "image/png": "[encoded data removed]",
      "text/plain": [
       "<Figure size 640x480 with 2 Axes>"
      ]
     },
     "metadata": {},
     "output_type": "display_data"
    },
    {
     "data": {
      "text/html": [
       "<div>\n",
       "<style scoped>\n",
       "    .dataframe tbody tr th:only-of-type {\n",
       "        vertical-align: middle;\n",
       "    }\n",
       "\n",
       "    .dataframe tbody tr th {\n",
       "        vertical-align: top;\n",
       "    }\n",
       "\n",
       "    .dataframe thead th {\n",
       "        text-align: right;\n",
       "    }\n",
       "</style>\n",
       "<table border=\"1\" class=\"dataframe\">\n",
       "  <thead>\n",
       "    <tr style=\"text-align: right;\">\n",
       "      <th></th>\n",
       "      <th>accuracy</th>\n",
       "      <th>f1</th>\n",
       "      <th>precision</th>\n",
       "      <th>recall</th>\n",
       "      <th>roc_auc_ovr</th>\n",
       "    </tr>\n",
       "  </thead>\n",
       "  <tbody>\n",
       "    <tr>\n",
       "      <th>min_baseline</th>\n",
       "      <td>0.663158</td>\n",
       "      <td>0.667893</td>\n",
       "      <td>0.669919</td>\n",
       "      <td>0.666111</td>\n",
       "      <td>NaN</td>\n",
       "    </tr>\n",
       "    <tr>\n",
       "      <th>bow l1 only release</th>\n",
       "      <td>0.606061</td>\n",
       "      <td>0.614009</td>\n",
       "      <td>0.632637</td>\n",
       "      <td>0.604818</td>\n",
       "      <td>0.766603</td>\n",
       "    </tr>\n",
       "    <tr>\n",
       "      <th>bow elasticnet</th>\n",
       "      <td>0.696970</td>\n",
       "      <td>0.698039</td>\n",
       "      <td>0.705552</td>\n",
       "      <td>0.693618</td>\n",
       "      <td>0.870771</td>\n",
       "    </tr>\n",
       "    <tr>\n",
       "      <th>bow release title</th>\n",
       "      <td>0.696970</td>\n",
       "      <td>0.698039</td>\n",
       "      <td>0.705552</td>\n",
       "      <td>0.693618</td>\n",
       "      <td>0.869539</td>\n",
       "    </tr>\n",
       "    <tr>\n",
       "      <th>bow release all num</th>\n",
       "      <td>0.696970</td>\n",
       "      <td>0.694340</td>\n",
       "      <td>0.705864</td>\n",
       "      <td>0.690567</td>\n",
       "      <td>0.863703</td>\n",
       "    </tr>\n",
       "    <tr>\n",
       "      <th>tf_idf l1 only release</th>\n",
       "      <td>0.606061</td>\n",
       "      <td>0.613057</td>\n",
       "      <td>0.643850</td>\n",
       "      <td>0.601767</td>\n",
       "      <td>0.784513</td>\n",
       "    </tr>\n",
       "  </tbody>\n",
       "</table>\n",
       "</div>"
      ],
      "text/plain": [
       "                        accuracy        f1  precision    recall  roc_auc_ovr\n",
       "min_baseline            0.663158  0.667893   0.669919  0.666111          NaN\n",
       "bow l1 only release     0.606061  0.614009   0.632637  0.604818     0.766603\n",
       "bow elasticnet          0.696970  0.698039   0.705552  0.693618     0.870771\n",
       "bow release title       0.696970  0.698039   0.705552  0.693618     0.869539\n",
       "bow release all num     0.696970  0.694340   0.705864  0.690567     0.863703\n",
       "tf_idf l1 only release  0.606061  0.613057   0.643850  0.601767     0.784513"
      ]
     },
     "execution_count": 27,
     "metadata": {},
     "output_type": "execute_result"
    }
   ],
   "source": [
    "metric, model = calc_metrics_on_lr(tf_idf, LogisticRegression, name='tf_idf l1 only release', **best_model.get_params())\n",
    "metrics = pd.concat([metrics, metric], axis=0)\n",
    "metrics"
   ]
  },
  {
   "cell_type": "code",
   "execution_count": 28,
   "metadata": {},
   "outputs": [],
   "source": [
    "STOP_WORDS |= set(vectorizer.get_feature_names_out()[np.all(model.coef_ == 0, axis=0)])"
   ]
  },
  {
   "cell_type": "code",
   "execution_count": 29,
   "metadata": {},
   "outputs": [],
   "source": [
    "vectorizer = TfidfVectorizer(\n",
    "    preprocessor=preprocessor,\n",
    ")\n",
    "\n",
    "vectorizer.fit(X.release)\n",
    "\n",
    "tf_idf = vectorizer.transform(X.release)"
   ]
  },
  {
   "cell_type": "code",
   "execution_count": 30,
   "metadata": {},
   "outputs": [
    {
     "name": "stderr",
     "output_type": "stream",
     "text": [
      "  0%|          | 0/4 [00:00<?, ?it/s]/home/father/Desktop/cbr-press-release-classifier/.venv/lib/python3.10/site-packages/sklearn/metrics/_classification.py:1531: UndefinedMetricWarning: Precision is ill-defined and being set to 0.0 in labels with no predicted samples. Use `zero_division` parameter to control this behavior.\n",
      "  _warn_prf(average, modifier, f\"{metric.capitalize()} is\", len(result))\n",
      "/home/father/Desktop/cbr-press-release-classifier/.venv/lib/python3.10/site-packages/sklearn/metrics/_classification.py:1531: UndefinedMetricWarning: Precision is ill-defined and being set to 0.0 in labels with no predicted samples. Use `zero_division` parameter to control this behavior.\n",
      "  _warn_prf(average, modifier, f\"{metric.capitalize()} is\", len(result))\n",
      "100%|██████████| 4/4 [00:17<00:00,  4.48s/it]"
     ]
    },
    {
     "name": "stdout",
     "output_type": "stream",
     "text": [
      "Лучшая модель - LogisticRegression(C=10, l1_ratio=0.1, max_iter=10000, penalty='elasticnet',\n",
      "                   solver='saga')\n",
      "ROC-AUC = 0.9012384315180357\n"
     ]
    },
    {
     "name": "stderr",
     "output_type": "stream",
     "text": [
      "\n"
     ]
    }
   ],
   "source": [
    "auc = []\n",
    "for c in tqdm([0.1, 1, 5, 10]):\n",
    "    for l1_ratio in [0.1, 0.5, 0.9]:\n",
    "        auc.append(\n",
    "            calc_metrics_on_lr(tf_idf, \n",
    "                               LogisticRegression,\n",
    "                            name='tf-idf', \n",
    "                            plot=False, \n",
    "                            solver='saga', \n",
    "                            penalty='elasticnet', \n",
    "                            C=c, \n",
    "                            max_iter=10000, \n",
    "                            # n_jobs=-1,\n",
    "                            l1_ratio=l1_ratio\n",
    "                            )\n",
    "                        )\n",
    "    \n",
    "roc_auc, best_model = max(auc)\n",
    "\n",
    "print(f\"Лучшая модель - {best_model}\")\n",
    "print(f\"ROC-AUC = {roc_auc}\")"
   ]
  },
  {
   "cell_type": "code",
   "execution_count": 31,
   "metadata": {},
   "outputs": [
    {
     "name": "stdout",
     "output_type": "stream",
     "text": [
      "              precision    recall  f1-score   support\n",
      "\n",
      "        -1.0       0.82      0.78      0.80        23\n",
      "         0.0       0.67      0.75      0.71        24\n",
      "         1.0       0.82      0.74      0.78        19\n",
      "\n",
      "    accuracy                           0.76        66\n",
      "   macro avg       0.77      0.76      0.76        66\n",
      "weighted avg       0.76      0.76      0.76        66\n",
      "\n"
     ]
    },
    {
     "data": {
      "image/png": "[encoded data removed]",
      "text/plain": [
       "<Figure size 640x480 with 2 Axes>"
      ]
     },
     "metadata": {},
     "output_type": "display_data"
    },
    {
     "data": {
      "text/html": [
       "<div>\n",
       "<style scoped>\n",
       "    .dataframe tbody tr th:only-of-type {\n",
       "        vertical-align: middle;\n",
       "    }\n",
       "\n",
       "    .dataframe tbody tr th {\n",
       "        vertical-align: top;\n",
       "    }\n",
       "\n",
       "    .dataframe thead th {\n",
       "        text-align: right;\n",
       "    }\n",
       "</style>\n",
       "<table border=\"1\" class=\"dataframe\">\n",
       "  <thead>\n",
       "    <tr style=\"text-align: right;\">\n",
       "      <th></th>\n",
       "      <th>accuracy</th>\n",
       "      <th>f1</th>\n",
       "      <th>precision</th>\n",
       "      <th>recall</th>\n",
       "      <th>roc_auc_ovr</th>\n",
       "    </tr>\n",
       "  </thead>\n",
       "  <tbody>\n",
       "    <tr>\n",
       "      <th>min_baseline</th>\n",
       "      <td>0.663158</td>\n",
       "      <td>0.667893</td>\n",
       "      <td>0.669919</td>\n",
       "      <td>0.666111</td>\n",
       "      <td>NaN</td>\n",
       "    </tr>\n",
       "    <tr>\n",
       "      <th>bow l1 only release</th>\n",
       "      <td>0.606061</td>\n",
       "      <td>0.614009</td>\n",
       "      <td>0.632637</td>\n",
       "      <td>0.604818</td>\n",
       "      <td>0.766603</td>\n",
       "    </tr>\n",
       "    <tr>\n",
       "      <th>bow elasticnet</th>\n",
       "      <td>0.696970</td>\n",
       "      <td>0.698039</td>\n",
       "      <td>0.705552</td>\n",
       "      <td>0.693618</td>\n",
       "      <td>0.870771</td>\n",
       "    </tr>\n",
       "    <tr>\n",
       "      <th>bow release title</th>\n",
       "      <td>0.696970</td>\n",
       "      <td>0.698039</td>\n",
       "      <td>0.705552</td>\n",
       "      <td>0.693618</td>\n",
       "      <td>0.869539</td>\n",
       "    </tr>\n",
       "    <tr>\n",
       "      <th>bow release all num</th>\n",
       "      <td>0.696970</td>\n",
       "      <td>0.694340</td>\n",
       "      <td>0.705864</td>\n",
       "      <td>0.690567</td>\n",
       "      <td>0.863703</td>\n",
       "    </tr>\n",
       "    <tr>\n",
       "      <th>tf_idf l1 only release</th>\n",
       "      <td>0.606061</td>\n",
       "      <td>0.613057</td>\n",
       "      <td>0.643850</td>\n",
       "      <td>0.601767</td>\n",
       "      <td>0.784513</td>\n",
       "    </tr>\n",
       "    <tr>\n",
       "      <th>tf_idf only release best word</th>\n",
       "      <td>0.757576</td>\n",
       "      <td>0.761220</td>\n",
       "      <td>0.769459</td>\n",
       "      <td>0.756484</td>\n",
       "      <td>0.900944</td>\n",
       "    </tr>\n",
       "  </tbody>\n",
       "</table>\n",
       "</div>"
      ],
      "text/plain": [
       "                               accuracy        f1  precision    recall  \\\n",
       "min_baseline                   0.663158  0.667893   0.669919  0.666111   \n",
       "bow l1 only release            0.606061  0.614009   0.632637  0.604818   \n",
       "bow elasticnet                 0.696970  0.698039   0.705552  0.693618   \n",
       "bow release title              0.696970  0.698039   0.705552  0.693618   \n",
       "bow release all num            0.696970  0.694340   0.705864  0.690567   \n",
       "tf_idf l1 only release         0.606061  0.613057   0.643850  0.601767   \n",
       "tf_idf only release best word  0.757576  0.761220   0.769459  0.756484   \n",
       "\n",
       "                               roc_auc_ovr  \n",
       "min_baseline                           NaN  \n",
       "bow l1 only release               0.766603  \n",
       "bow elasticnet                    0.870771  \n",
       "bow release title                 0.869539  \n",
       "bow release all num               0.863703  \n",
       "tf_idf l1 only release            0.784513  \n",
       "tf_idf only release best word     0.900944  "
      ]
     },
     "execution_count": 31,
     "metadata": {},
     "output_type": "execute_result"
    }
   ],
   "source": [
    "metric, model = calc_metrics_on_lr(tf_idf, LogisticRegression, name='tf_idf only release best word', **best_model.get_params())\n",
    "metrics = pd.concat([metrics, metric], axis=0)\n",
    "metrics"
   ]
  },
  {
   "cell_type": "markdown",
   "metadata": {},
   "source": [
    "Качество еще немного подросло. Как и в случае с мешком слов попробуем обучить tf-idf на названиях и добавим эти переменые в матрицу объект-признак."
   ]
  },
  {
   "cell_type": "code",
   "execution_count": 32,
   "metadata": {},
   "outputs": [],
   "source": [
    "vectorizer_title = TfidfVectorizer(\n",
    "    preprocessor=preprocessor,\n",
    ")\n",
    "\n",
    "vectorizer_title.fit(X.title)\n",
    "\n",
    "tf_idf_title = vectorizer_title.transform(X.title)"
   ]
  },
  {
   "cell_type": "code",
   "execution_count": 33,
   "metadata": {},
   "outputs": [],
   "source": [
    "tf_idf_title_release = np.concatenate((tf_idf.toarray(), tf_idf_title.toarray()), axis=1)"
   ]
  },
  {
   "cell_type": "code",
   "execution_count": 34,
   "metadata": {},
   "outputs": [
    {
     "name": "stderr",
     "output_type": "stream",
     "text": [
      "  0%|          | 0/4 [00:00<?, ?it/s]/home/father/Desktop/cbr-press-release-classifier/.venv/lib/python3.10/site-packages/sklearn/metrics/_classification.py:1531: UndefinedMetricWarning: Precision is ill-defined and being set to 0.0 in labels with no predicted samples. Use `zero_division` parameter to control this behavior.\n",
      "  _warn_prf(average, modifier, f\"{metric.capitalize()} is\", len(result))\n",
      "/home/father/Desktop/cbr-press-release-classifier/.venv/lib/python3.10/site-packages/sklearn/metrics/_classification.py:1531: UndefinedMetricWarning: Precision is ill-defined and being set to 0.0 in labels with no predicted samples. Use `zero_division` parameter to control this behavior.\n",
      "  _warn_prf(average, modifier, f\"{metric.capitalize()} is\", len(result))\n",
      "/home/father/Desktop/cbr-press-release-classifier/.venv/lib/python3.10/site-packages/sklearn/metrics/_classification.py:1531: UndefinedMetricWarning: Precision is ill-defined and being set to 0.0 in labels with no predicted samples. Use `zero_division` parameter to control this behavior.\n",
      "  _warn_prf(average, modifier, f\"{metric.capitalize()} is\", len(result))\n",
      "100%|██████████| 4/4 [00:03<00:00,  1.00it/s]"
     ]
    },
    {
     "name": "stdout",
     "output_type": "stream",
     "text": [
      "Лучшая модель - LogisticRegression(C=10, l1_ratio=0.1, max_iter=10000, penalty='elasticnet',\n",
      "                   solver='saga')\n",
      "ROC-AUC = 0.8784162634940849\n"
     ]
    },
    {
     "name": "stderr",
     "output_type": "stream",
     "text": [
      "\n"
     ]
    }
   ],
   "source": [
    "auc = []\n",
    "for c in tqdm([0.1, 1, 5, 10]):\n",
    "    for l1_ratio in [0.1, 0.5, 0.9]:\n",
    "        auc.append(\n",
    "            calc_metrics_on_lr(tf_idf_title_release, \n",
    "                               LogisticRegression,\n",
    "                                name='tf-idf', \n",
    "                                plot=False, \n",
    "                                solver='saga', \n",
    "                                penalty='elasticnet', \n",
    "                                C=c, \n",
    "                                max_iter=10000, \n",
    "                                # n_jobs=-1,\n",
    "                                l1_ratio=l1_ratio\n",
    "                            )\n",
    "                        )\n",
    "    \n",
    "roc_auc, best_model = max(auc)\n",
    "\n",
    "print(f\"Лучшая модель - {best_model}\")\n",
    "print(f\"ROC-AUC = {roc_auc}\")"
   ]
  },
  {
   "cell_type": "code",
   "execution_count": 35,
   "metadata": {},
   "outputs": [
    {
     "name": "stdout",
     "output_type": "stream",
     "text": [
      "              precision    recall  f1-score   support\n",
      "\n",
      "        -1.0       0.80      0.70      0.74        23\n",
      "         0.0       0.60      0.75      0.67        24\n",
      "         1.0       0.81      0.68      0.74        19\n",
      "\n",
      "    accuracy                           0.71        66\n",
      "   macro avg       0.74      0.71      0.72        66\n",
      "weighted avg       0.73      0.71      0.72        66\n",
      "\n"
     ]
    },
    {
     "data": {
      "image/png": "[encoded data removed]",
      "text/plain": [
       "<Figure size 640x480 with 2 Axes>"
      ]
     },
     "metadata": {},
     "output_type": "display_data"
    },
    {
     "data": {
      "text/html": [
       "<div>\n",
       "<style scoped>\n",
       "    .dataframe tbody tr th:only-of-type {\n",
       "        vertical-align: middle;\n",
       "    }\n",
       "\n",
       "    .dataframe tbody tr th {\n",
       "        vertical-align: top;\n",
       "    }\n",
       "\n",
       "    .dataframe thead th {\n",
       "        text-align: right;\n",
       "    }\n",
       "</style>\n",
       "<table border=\"1\" class=\"dataframe\">\n",
       "  <thead>\n",
       "    <tr style=\"text-align: right;\">\n",
       "      <th></th>\n",
       "      <th>accuracy</th>\n",
       "      <th>f1</th>\n",
       "      <th>precision</th>\n",
       "      <th>recall</th>\n",
       "      <th>roc_auc_ovr</th>\n",
       "    </tr>\n",
       "  </thead>\n",
       "  <tbody>\n",
       "    <tr>\n",
       "      <th>min_baseline</th>\n",
       "      <td>0.663158</td>\n",
       "      <td>0.667893</td>\n",
       "      <td>0.669919</td>\n",
       "      <td>0.666111</td>\n",
       "      <td>NaN</td>\n",
       "    </tr>\n",
       "    <tr>\n",
       "      <th>bow l1 only release</th>\n",
       "      <td>0.606061</td>\n",
       "      <td>0.614009</td>\n",
       "      <td>0.632637</td>\n",
       "      <td>0.604818</td>\n",
       "      <td>0.766603</td>\n",
       "    </tr>\n",
       "    <tr>\n",
       "      <th>bow elasticnet</th>\n",
       "      <td>0.696970</td>\n",
       "      <td>0.698039</td>\n",
       "      <td>0.705552</td>\n",
       "      <td>0.693618</td>\n",
       "      <td>0.870771</td>\n",
       "    </tr>\n",
       "    <tr>\n",
       "      <th>bow release title</th>\n",
       "      <td>0.696970</td>\n",
       "      <td>0.698039</td>\n",
       "      <td>0.705552</td>\n",
       "      <td>0.693618</td>\n",
       "      <td>0.869539</td>\n",
       "    </tr>\n",
       "    <tr>\n",
       "      <th>bow release all num</th>\n",
       "      <td>0.696970</td>\n",
       "      <td>0.694340</td>\n",
       "      <td>0.705864</td>\n",
       "      <td>0.690567</td>\n",
       "      <td>0.863703</td>\n",
       "    </tr>\n",
       "    <tr>\n",
       "      <th>tf_idf l1 only release</th>\n",
       "      <td>0.606061</td>\n",
       "      <td>0.613057</td>\n",
       "      <td>0.643850</td>\n",
       "      <td>0.601767</td>\n",
       "      <td>0.784513</td>\n",
       "    </tr>\n",
       "    <tr>\n",
       "      <th>tf_idf only release best word</th>\n",
       "      <td>0.757576</td>\n",
       "      <td>0.761220</td>\n",
       "      <td>0.769459</td>\n",
       "      <td>0.756484</td>\n",
       "      <td>0.900944</td>\n",
       "    </tr>\n",
       "    <tr>\n",
       "      <th>tf_idf title release</th>\n",
       "      <td>0.712121</td>\n",
       "      <td>0.717903</td>\n",
       "      <td>0.737500</td>\n",
       "      <td>0.709954</td>\n",
       "      <td>0.878747</td>\n",
       "    </tr>\n",
       "  </tbody>\n",
       "</table>\n",
       "</div>"
      ],
      "text/plain": [
       "                               accuracy        f1  precision    recall  \\\n",
       "min_baseline                   0.663158  0.667893   0.669919  0.666111   \n",
       "bow l1 only release            0.606061  0.614009   0.632637  0.604818   \n",
       "bow elasticnet                 0.696970  0.698039   0.705552  0.693618   \n",
       "bow release title              0.696970  0.698039   0.705552  0.693618   \n",
       "bow release all num            0.696970  0.694340   0.705864  0.690567   \n",
       "tf_idf l1 only release         0.606061  0.613057   0.643850  0.601767   \n",
       "tf_idf only release best word  0.757576  0.761220   0.769459  0.756484   \n",
       "tf_idf title release           0.712121  0.717903   0.737500  0.709954   \n",
       "\n",
       "                               roc_auc_ovr  \n",
       "min_baseline                           NaN  \n",
       "bow l1 only release               0.766603  \n",
       "bow elasticnet                    0.870771  \n",
       "bow release title                 0.869539  \n",
       "bow release all num               0.863703  \n",
       "tf_idf l1 only release            0.784513  \n",
       "tf_idf only release best word     0.900944  \n",
       "tf_idf title release              0.878747  "
      ]
     },
     "execution_count": 35,
     "metadata": {},
     "output_type": "execute_result"
    }
   ],
   "source": [
    "metric, model = calc_metrics_on_lr(tf_idf_title_release, LogisticRegression, name='tf_idf title release', **best_model.get_params())\n",
    "metrics = pd.concat([metrics, metric], axis=0)\n",
    "metrics"
   ]
  },
  {
   "cell_type": "markdown",
   "metadata": {},
   "source": [
    "При добавлении названия, качество модели заметно ухудшается, возможно эти признаки приводят к переобучению. Попробуем добавить количественные переменные."
   ]
  },
  {
   "cell_type": "code",
   "execution_count": 36,
   "metadata": {},
   "outputs": [],
   "source": [
    "tf_idf_num = np.concatenate((tf_idf.toarray(), X[num_columns].values), axis=1)"
   ]
  },
  {
   "cell_type": "code",
   "execution_count": 37,
   "metadata": {},
   "outputs": [
    {
     "name": "stderr",
     "output_type": "stream",
     "text": [
      "  0%|          | 0/4 [00:00<?, ?it/s]/home/father/Desktop/cbr-press-release-classifier/.venv/lib/python3.10/site-packages/sklearn/metrics/_classification.py:1531: UndefinedMetricWarning: Precision is ill-defined and being set to 0.0 in labels with no predicted samples. Use `zero_division` parameter to control this behavior.\n",
      "  _warn_prf(average, modifier, f\"{metric.capitalize()} is\", len(result))\n",
      "/home/father/Desktop/cbr-press-release-classifier/.venv/lib/python3.10/site-packages/sklearn/metrics/_classification.py:1531: UndefinedMetricWarning: Precision is ill-defined and being set to 0.0 in labels with no predicted samples. Use `zero_division` parameter to control this behavior.\n",
      "  _warn_prf(average, modifier, f\"{metric.capitalize()} is\", len(result))\n",
      "/home/father/Desktop/cbr-press-release-classifier/.venv/lib/python3.10/site-packages/sklearn/metrics/_classification.py:1531: UndefinedMetricWarning: Precision is ill-defined and being set to 0.0 in labels with no predicted samples. Use `zero_division` parameter to control this behavior.\n",
      "  _warn_prf(average, modifier, f\"{metric.capitalize()} is\", len(result))\n",
      "100%|██████████| 4/4 [00:11<00:00,  2.94s/it]"
     ]
    },
    {
     "name": "stdout",
     "output_type": "stream",
     "text": [
      "Лучшая модель - LogisticRegression(C=10, l1_ratio=0.1, max_iter=10000, penalty='elasticnet',\n",
      "                   solver='saga')\n",
      "ROC-AUC = 0.8358718748504713\n"
     ]
    },
    {
     "name": "stderr",
     "output_type": "stream",
     "text": [
      "\n"
     ]
    }
   ],
   "source": [
    "auc = []\n",
    "for c in tqdm([0.1, 1, 5, 10]):\n",
    "    for l1_ratio in [0.1, 0.5, 0.9]:\n",
    "        auc.append(\n",
    "            calc_metrics_on_lr(tf_idf_num, \n",
    "                               LogisticRegression,\n",
    "                                name='tf-idf', \n",
    "                                plot=False, \n",
    "                                solver='saga', \n",
    "                                penalty='elasticnet', \n",
    "                                C=c, \n",
    "                                max_iter=10000, \n",
    "                                # n_jobs=-1,\n",
    "                                l1_ratio=l1_ratio\n",
    "                            )\n",
    "                        )\n",
    "    \n",
    "roc_auc, best_model = max(auc)\n",
    "\n",
    "print(f\"Лучшая модель - {best_model}\")\n",
    "print(f\"ROC-AUC = {roc_auc}\")"
   ]
  },
  {
   "cell_type": "code",
   "execution_count": 38,
   "metadata": {},
   "outputs": [
    {
     "name": "stdout",
     "output_type": "stream",
     "text": [
      "              precision    recall  f1-score   support\n",
      "\n",
      "        -1.0       0.78      0.61      0.68        23\n",
      "         0.0       0.56      0.79      0.66        24\n",
      "         1.0       0.86      0.63      0.73        19\n",
      "\n",
      "    accuracy                           0.68        66\n",
      "   macro avg       0.73      0.68      0.69        66\n",
      "weighted avg       0.72      0.68      0.69        66\n",
      "\n"
     ]
    },
    {
     "data": {
      "image/png": "[encoded data removed]",
      "text/plain": [
       "<Figure size 640x480 with 2 Axes>"
      ]
     },
     "metadata": {},
     "output_type": "display_data"
    },
    {
     "data": {
      "text/html": [
       "<div>\n",
       "<style scoped>\n",
       "    .dataframe tbody tr th:only-of-type {\n",
       "        vertical-align: middle;\n",
       "    }\n",
       "\n",
       "    .dataframe tbody tr th {\n",
       "        vertical-align: top;\n",
       "    }\n",
       "\n",
       "    .dataframe thead th {\n",
       "        text-align: right;\n",
       "    }\n",
       "</style>\n",
       "<table border=\"1\" class=\"dataframe\">\n",
       "  <thead>\n",
       "    <tr style=\"text-align: right;\">\n",
       "      <th></th>\n",
       "      <th>accuracy</th>\n",
       "      <th>f1</th>\n",
       "      <th>precision</th>\n",
       "      <th>recall</th>\n",
       "      <th>roc_auc_ovr</th>\n",
       "    </tr>\n",
       "  </thead>\n",
       "  <tbody>\n",
       "    <tr>\n",
       "      <th>min_baseline</th>\n",
       "      <td>0.663158</td>\n",
       "      <td>0.667893</td>\n",
       "      <td>0.669919</td>\n",
       "      <td>0.666111</td>\n",
       "      <td>NaN</td>\n",
       "    </tr>\n",
       "    <tr>\n",
       "      <th>bow l1 only release</th>\n",
       "      <td>0.606061</td>\n",
       "      <td>0.614009</td>\n",
       "      <td>0.632637</td>\n",
       "      <td>0.604818</td>\n",
       "      <td>0.766603</td>\n",
       "    </tr>\n",
       "    <tr>\n",
       "      <th>bow elasticnet</th>\n",
       "      <td>0.696970</td>\n",
       "      <td>0.698039</td>\n",
       "      <td>0.705552</td>\n",
       "      <td>0.693618</td>\n",
       "      <td>0.870771</td>\n",
       "    </tr>\n",
       "    <tr>\n",
       "      <th>bow release title</th>\n",
       "      <td>0.696970</td>\n",
       "      <td>0.698039</td>\n",
       "      <td>0.705552</td>\n",
       "      <td>0.693618</td>\n",
       "      <td>0.869539</td>\n",
       "    </tr>\n",
       "    <tr>\n",
       "      <th>bow release all num</th>\n",
       "      <td>0.696970</td>\n",
       "      <td>0.694340</td>\n",
       "      <td>0.705864</td>\n",
       "      <td>0.690567</td>\n",
       "      <td>0.863703</td>\n",
       "    </tr>\n",
       "    <tr>\n",
       "      <th>tf_idf l1 only release</th>\n",
       "      <td>0.606061</td>\n",
       "      <td>0.613057</td>\n",
       "      <td>0.643850</td>\n",
       "      <td>0.601767</td>\n",
       "      <td>0.784513</td>\n",
       "    </tr>\n",
       "    <tr>\n",
       "      <th>tf_idf only release best word</th>\n",
       "      <td>0.757576</td>\n",
       "      <td>0.761220</td>\n",
       "      <td>0.769459</td>\n",
       "      <td>0.756484</td>\n",
       "      <td>0.900944</td>\n",
       "    </tr>\n",
       "    <tr>\n",
       "      <th>tf_idf title release</th>\n",
       "      <td>0.712121</td>\n",
       "      <td>0.717903</td>\n",
       "      <td>0.737500</td>\n",
       "      <td>0.709954</td>\n",
       "      <td>0.878747</td>\n",
       "    </tr>\n",
       "    <tr>\n",
       "      <th>tf_idf numerical release</th>\n",
       "      <td>0.681818</td>\n",
       "      <td>0.688457</td>\n",
       "      <td>0.731248</td>\n",
       "      <td>0.677314</td>\n",
       "      <td>0.835872</td>\n",
       "    </tr>\n",
       "  </tbody>\n",
       "</table>\n",
       "</div>"
      ],
      "text/plain": [
       "                               accuracy        f1  precision    recall  \\\n",
       "min_baseline                   0.663158  0.667893   0.669919  0.666111   \n",
       "bow l1 only release            0.606061  0.614009   0.632637  0.604818   \n",
       "bow elasticnet                 0.696970  0.698039   0.705552  0.693618   \n",
       "bow release title              0.696970  0.698039   0.705552  0.693618   \n",
       "bow release all num            0.696970  0.694340   0.705864  0.690567   \n",
       "tf_idf l1 only release         0.606061  0.613057   0.643850  0.601767   \n",
       "tf_idf only release best word  0.757576  0.761220   0.769459  0.756484   \n",
       "tf_idf title release           0.712121  0.717903   0.737500  0.709954   \n",
       "tf_idf numerical release       0.681818  0.688457   0.731248  0.677314   \n",
       "\n",
       "                               roc_auc_ovr  \n",
       "min_baseline                           NaN  \n",
       "bow l1 only release               0.766603  \n",
       "bow elasticnet                    0.870771  \n",
       "bow release title                 0.869539  \n",
       "bow release all num               0.863703  \n",
       "tf_idf l1 only release            0.784513  \n",
       "tf_idf only release best word     0.900944  \n",
       "tf_idf title release              0.878747  \n",
       "tf_idf numerical release          0.835872  "
      ]
     },
     "execution_count": 38,
     "metadata": {},
     "output_type": "execute_result"
    }
   ],
   "source": [
    "metric, model = calc_metrics_on_lr(tf_idf_num, LogisticRegression, name='tf_idf numerical release', **best_model.get_params())\n",
    "metrics = pd.concat([metrics, metric], axis=0)\n",
    "metrics"
   ]
  },
  {
   "cell_type": "markdown",
   "metadata": {},
   "source": [
    "Добавление цифр из наших данных только ухудшило нашу модель."
   ]
  },
  {
   "cell_type": "markdown",
   "metadata": {},
   "source": [
    "### N-граммы плюс Naive Bayes"
   ]
  },
  {
   "cell_type": "code",
   "execution_count": 39,
   "metadata": {},
   "outputs": [],
   "source": [
    "mystem = Mystem()\n",
    "STOP_WORDS = set(stopwords.words('russian'))\n",
    "\n",
    "def preprocessor(text):\n",
    "    text = text.lower()\n",
    "    regex = re.compile('[^а-я А-ЯЁё]')\n",
    "    text = regex.sub(' ', text)\n",
    "    text = ' '.join(mystem.lemmatize(text))\n",
    "    text = ' '.join([word for word in text.split() if word not in STOP_WORDS])\n",
    "    return text"
   ]
  },
  {
   "cell_type": "code",
   "execution_count": 40,
   "metadata": {},
   "outputs": [
    {
     "name": "stderr",
     "output_type": "stream",
     "text": [
      "100%|██████████| 9/9 [00:44<00:00,  4.91s/it]"
     ]
    },
    {
     "name": "stdout",
     "output_type": "stream",
     "text": [
      "Лучшая модель - ngram_range(3, 6)\n",
      "ROC-AUC = 0.7729945341838965\n"
     ]
    },
    {
     "name": "stderr",
     "output_type": "stream",
     "text": [
      "\n"
     ]
    }
   ],
   "source": [
    "auc = []\n",
    "for start in tqdm(range(1, 10)):\n",
    "    for stop in range(start, min(10, start + 4)):\n",
    "        vectorizer = CountVectorizer(\n",
    "            preprocessor=preprocessor,\n",
    "            ngram_range=(start, stop)\n",
    "        )\n",
    "        bow_ngram = vectorizer.fit_transform(X.release)\n",
    "        auc.append(\n",
    "            (calc_metrics_on_lr(\n",
    "                bow_ngram, \n",
    "                MultinomialNB, \n",
    "                name='MultinomialNB',\n",
    "                plot=False\n",
    "            ), \n",
    "            (start, stop)),\n",
    "        )\n",
    "    \n",
    "(roc_auc, best_model), (start, stop) = max(auc, key=lambda x: x[0][0])\n",
    "\n",
    "print(f\"Лучшая модель - ngram_range({start}, {stop})\")\n",
    "print(f\"ROC-AUC = {roc_auc}\")"
   ]
  },
  {
   "cell_type": "code",
   "execution_count": 41,
   "metadata": {},
   "outputs": [],
   "source": [
    "vectorizer = CountVectorizer(\n",
    "    preprocessor=preprocessor,\n",
    "    ngram_range=(start, stop)\n",
    ")\n",
    "\n",
    "vectorizer.fit(X.release)\n",
    "\n",
    "bow_ngram = vectorizer.transform(X.release)"
   ]
  },
  {
   "cell_type": "code",
   "execution_count": 43,
   "metadata": {},
   "outputs": [
    {
     "name": "stdout",
     "output_type": "stream",
     "text": [
      "              precision    recall  f1-score   support\n",
      "\n",
      "        -1.0       0.68      0.83      0.75        23\n",
      "         0.0       0.56      0.42      0.48        24\n",
      "         1.0       0.65      0.68      0.67        19\n",
      "\n",
      "    accuracy                           0.64        66\n",
      "   macro avg       0.63      0.64      0.63        66\n",
      "weighted avg       0.63      0.64      0.62        66\n",
      "\n"
     ]
    },
    {
     "data": {
      "image/png": "[encoded data removed]",
      "text/plain": [
       "<Figure size 640x480 with 2 Axes>"
      ]
     },
     "metadata": {},
     "output_type": "display_data"
    },
    {
     "data": {
      "text/html": [
       "<div>\n",
       "<style scoped>\n",
       "    .dataframe tbody tr th:only-of-type {\n",
       "        vertical-align: middle;\n",
       "    }\n",
       "\n",
       "    .dataframe tbody tr th {\n",
       "        vertical-align: top;\n",
       "    }\n",
       "\n",
       "    .dataframe thead th {\n",
       "        text-align: right;\n",
       "    }\n",
       "</style>\n",
       "<table border=\"1\" class=\"dataframe\">\n",
       "  <thead>\n",
       "    <tr style=\"text-align: right;\">\n",
       "      <th></th>\n",
       "      <th>accuracy</th>\n",
       "      <th>f1</th>\n",
       "      <th>precision</th>\n",
       "      <th>recall</th>\n",
       "      <th>roc_auc_ovr</th>\n",
       "    </tr>\n",
       "  </thead>\n",
       "  <tbody>\n",
       "    <tr>\n",
       "      <th>min_baseline</th>\n",
       "      <td>0.663158</td>\n",
       "      <td>0.667893</td>\n",
       "      <td>0.669919</td>\n",
       "      <td>0.666111</td>\n",
       "      <td>NaN</td>\n",
       "    </tr>\n",
       "    <tr>\n",
       "      <th>bow l1 only release</th>\n",
       "      <td>0.606061</td>\n",
       "      <td>0.614009</td>\n",
       "      <td>0.632637</td>\n",
       "      <td>0.604818</td>\n",
       "      <td>0.766603</td>\n",
       "    </tr>\n",
       "    <tr>\n",
       "      <th>bow elasticnet</th>\n",
       "      <td>0.696970</td>\n",
       "      <td>0.698039</td>\n",
       "      <td>0.705552</td>\n",
       "      <td>0.693618</td>\n",
       "      <td>0.870771</td>\n",
       "    </tr>\n",
       "    <tr>\n",
       "      <th>bow release title</th>\n",
       "      <td>0.696970</td>\n",
       "      <td>0.698039</td>\n",
       "      <td>0.705552</td>\n",
       "      <td>0.693618</td>\n",
       "      <td>0.869539</td>\n",
       "    </tr>\n",
       "    <tr>\n",
       "      <th>bow release all num</th>\n",
       "      <td>0.696970</td>\n",
       "      <td>0.694340</td>\n",
       "      <td>0.705864</td>\n",
       "      <td>0.690567</td>\n",
       "      <td>0.863703</td>\n",
       "    </tr>\n",
       "    <tr>\n",
       "      <th>tf_idf l1 only release</th>\n",
       "      <td>0.606061</td>\n",
       "      <td>0.613057</td>\n",
       "      <td>0.643850</td>\n",
       "      <td>0.601767</td>\n",
       "      <td>0.784513</td>\n",
       "    </tr>\n",
       "    <tr>\n",
       "      <th>tf_idf only release best word</th>\n",
       "      <td>0.757576</td>\n",
       "      <td>0.761220</td>\n",
       "      <td>0.769459</td>\n",
       "      <td>0.756484</td>\n",
       "      <td>0.900944</td>\n",
       "    </tr>\n",
       "    <tr>\n",
       "      <th>tf_idf title release</th>\n",
       "      <td>0.712121</td>\n",
       "      <td>0.717903</td>\n",
       "      <td>0.737500</td>\n",
       "      <td>0.709954</td>\n",
       "      <td>0.878747</td>\n",
       "    </tr>\n",
       "    <tr>\n",
       "      <th>tf_idf numerical release</th>\n",
       "      <td>0.681818</td>\n",
       "      <td>0.688457</td>\n",
       "      <td>0.731248</td>\n",
       "      <td>0.677314</td>\n",
       "      <td>0.835872</td>\n",
       "    </tr>\n",
       "    <tr>\n",
       "      <th>MultinomialNB</th>\n",
       "      <td>0.636364</td>\n",
       "      <td>0.629318</td>\n",
       "      <td>0.628042</td>\n",
       "      <td>0.642321</td>\n",
       "      <td>0.772995</td>\n",
       "    </tr>\n",
       "  </tbody>\n",
       "</table>\n",
       "</div>"
      ],
      "text/plain": [
       "                               accuracy        f1  precision    recall  \\\n",
       "min_baseline                   0.663158  0.667893   0.669919  0.666111   \n",
       "bow l1 only release            0.606061  0.614009   0.632637  0.604818   \n",
       "bow elasticnet                 0.696970  0.698039   0.705552  0.693618   \n",
       "bow release title              0.696970  0.698039   0.705552  0.693618   \n",
       "bow release all num            0.696970  0.694340   0.705864  0.690567   \n",
       "tf_idf l1 only release         0.606061  0.613057   0.643850  0.601767   \n",
       "tf_idf only release best word  0.757576  0.761220   0.769459  0.756484   \n",
       "tf_idf title release           0.712121  0.717903   0.737500  0.709954   \n",
       "tf_idf numerical release       0.681818  0.688457   0.731248  0.677314   \n",
       "MultinomialNB                  0.636364  0.629318   0.628042  0.642321   \n",
       "\n",
       "                               roc_auc_ovr  \n",
       "min_baseline                           NaN  \n",
       "bow l1 only release               0.766603  \n",
       "bow elasticnet                    0.870771  \n",
       "bow release title                 0.869539  \n",
       "bow release all num               0.863703  \n",
       "tf_idf l1 only release            0.784513  \n",
       "tf_idf only release best word     0.900944  \n",
       "tf_idf title release              0.878747  \n",
       "tf_idf numerical release          0.835872  \n",
       "MultinomialNB                     0.772995  "
      ]
     },
     "execution_count": 43,
     "metadata": {},
     "output_type": "execute_result"
    }
   ],
   "source": [
    "metric, model = calc_metrics_on_lr(bow_ngram, MultinomialNB, name='MultinomialNB')\n",
    "metrics = pd.concat((metrics, metric))\n",
    "metrics"
   ]
  },
  {
   "cell_type": "code",
   "execution_count": null,
   "metadata": {},
   "outputs": [],
   "source": []
  }
 ],
 "metadata": {
  "kernelspec": {
   "display_name": ".venv",
   "language": "python",
   "name": "python3"
  },
  "language_info": {
   "codemirror_mode": {
    "name": "ipython",
    "version": 3
   },
   "file_extension": ".py",
   "mimetype": "text/x-python",
   "name": "python",
   "nbconvert_exporter": "python",
   "pygments_lexer": "ipython3",
   "version": "3.10.15"
  }
 },
 "nbformat": 4,
 "nbformat_minor": 2
}
