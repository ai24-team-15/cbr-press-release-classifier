{
 "cells": [
  {
   "cell_type": "markdown",
   "id": "ce39262b",
   "metadata": {},
   "source": [
    "# LSTM\n",
    "\n",
    "В этом ноутбуке продемонстрирована попытка обучения рекурентной нейронной сети, можно сразу отметить, что неудачная."
   ]
  },
  {
   "cell_type": "code",
   "execution_count": null,
   "id": "03d62216",
   "metadata": {},
   "outputs": [],
   "source": [
    "import sys\n",
    "import os\n",
    "import re\n",
    "from collections import Counter\n",
    "\n",
    "import numpy as np\n",
    "import pandas as pd\n",
    "from sklearn.metrics import (\n",
    "    accuracy_score, \n",
    "    f1_score, \n",
    "    recall_score, \n",
    "    precision_score, \n",
    "    roc_auc_score, \n",
    "    classification_report, \n",
    "    confusion_matrix\n",
    "    )\n",
    "import matplotlib.pyplot as plt\n",
    "import seaborn as sns\n",
    "import torch\n",
    "from torch import nn\n",
    "from torch.utils.data import Dataset, DataLoader\n",
    "from navec import Navec\n",
    "from pymystem3 import Mystem\n",
    "from nltk.corpus import stopwords\n",
    "from tqdm.notebook import tqdm\n",
    "\n",
    "\n",
    "# Добавляем в path вышестоящую директорию для импорта  calc_metrics\n",
    "sys.path.append(os.path.abspath(os.path.join(\"..\")))\n",
    "\n",
    "from utils import calc_metrics"
   ]
  },
  {
   "cell_type": "markdown",
   "id": "2242fb9d",
   "metadata": {},
   "source": [
    "Будем использовать предобученную модель word2vec, обученную командой Natasha. Размерность эмбеддингов 300."
   ]
  },
  {
   "cell_type": "code",
   "execution_count": null,
   "id": "bbf6847f",
   "metadata": {},
   "outputs": [],
   "source": [
    "path = \"navec_hudlit_v1_12B_500K_300d_100q.tar\"\n",
    "navec = Navec.load(path)"
   ]
  },
  {
   "cell_type": "markdown",
   "id": "bf8ff917",
   "metadata": {},
   "source": [
    "Загружаем данные для обучения"
   ]
  },
  {
   "cell_type": "code",
   "execution_count": 2,
   "id": "92f43a65",
   "metadata": {},
   "outputs": [],
   "source": [
    "X = pd.read_csv(\"../data/x.csv\", index_col=\"date\")\n",
    "y = pd.read_csv(\"../data/y.csv\", index_col=\"date\").iloc[:, 0]"
   ]
  },
  {
   "cell_type": "markdown",
   "id": "5ca51fc0",
   "metadata": {},
   "source": [
    "Предобрабатываем данные"
   ]
  },
  {
   "cell_type": "code",
   "execution_count": 3,
   "id": "43c3230e",
   "metadata": {},
   "outputs": [],
   "source": [
    "# инициализируем лемматизатор\n",
    "mystem = Mystem()\n",
    "\n",
    "# загружаем стоп-слова\n",
    "STOP_WORDS = set(stopwords.words(\"russian\"))\n",
    "\n",
    "\n",
    "# функция для препроцессинга текста\n",
    "def preprocessor(text):\n",
    "\n",
    "    # приводим к нижнему регистру\n",
    "    text = text.lower()\n",
    "\n",
    "    # удаляем все символы, кроме пробелов и русских букв.\n",
    "    regex = re.compile(\"[^а-я А-ЯЁё]\")\n",
    "    text = regex.sub(\" \", text)\n",
    "\n",
    "    # лемматизируем тексты\n",
    "    text = \" \".join(mystem.lemmatize(text))\n",
    "\n",
    "    # удаляем стоп-слова и слова, которые меньше 2 символов\n",
    "    text = \" \".join(\n",
    "        [word for word in text.split() if word not in STOP_WORDS and len(word) >= 2]\n",
    "    )\n",
    "    return text\n",
    "\n",
    "\n",
    "Xpreproc = X.release.apply(preprocessor)"
   ]
  },
  {
   "cell_type": "markdown",
   "id": "9a6dc572",
   "metadata": {},
   "source": [
    "Сформируем словарь слов"
   ]
  },
  {
   "cell_type": "code",
   "execution_count": 6,
   "id": "97a07413",
   "metadata": {},
   "outputs": [],
   "source": [
    "vocab = Counter()\n",
    "\n",
    "for release in Xpreproc:\n",
    "    vocab.update(release.split())\n",
    "\n",
    "vocab = dict(\n",
    "    sorted(filter(lambda x: x[1] > 4, vocab.items()), key=lambda x: x[1], reverse=True)\n",
    ")\n",
    "vocab[\"<unk>\"] = 0\n",
    "vocab[\"<bos>\"] = 0\n",
    "vocab[\"<eos>\"] = 0\n",
    "vocab[\"<pad>\"] = 0\n",
    "vocab = list(vocab.keys())\n",
    "embedding_matrix = torch.zeros((len(vocab), 300))\n",
    "\n",
    "for idx, word in enumerate(vocab):\n",
    "    if word in navec:\n",
    "        embedding_matrix[idx] = torch.from_numpy(navec[word])\n",
    "    else:\n",
    "        embedding_matrix[idx] = torch.normal(mean=0, std=1, size=(300,))\n",
    "\n",
    "word_to_idx = {word: idx for idx, word in enumerate(vocab)}\n",
    "idx_to_word = {idx: word for word, idx in word_to_idx.items()}"
   ]
  },
  {
   "cell_type": "markdown",
   "id": "1fea91a3",
   "metadata": {},
   "source": [
    "Разобьем пресс-релизы на чанки размером 300, и так как у нас очень мало данных эти чанки будут сильно накладываться друг на друга."
   ]
  },
  {
   "cell_type": "code",
   "execution_count": 7,
   "id": "df060c23",
   "metadata": {},
   "outputs": [],
   "source": [
    "chunk_size = 300\n",
    "def get_chunks(text):\n",
    "    text = \"<bos> \" + text + \" <eos>\"\n",
    "    word_ids = [\n",
    "        word_to_idx[word] if word in word_to_idx else word_to_idx[\"<unk>\"]\n",
    "        for word in text.split()\n",
    "    ]\n",
    "    return [word_ids[i : i + chunk_size] for i in range(0, len(word_ids), 25)]"
   ]
  },
  {
   "cell_type": "markdown",
   "id": "588b2b01",
   "metadata": {},
   "source": [
    "Определим класс датасет"
   ]
  },
  {
   "cell_type": "code",
   "execution_count": 8,
   "id": "8a7c2e57",
   "metadata": {},
   "outputs": [],
   "source": [
    "class CBDataset(Dataset):\n",
    "    def __init__(self, last_release, max_len=chunk_size):\n",
    "        data = {\"input_ids\": [], \"labels\": []}\n",
    "        for i in range(0, last_release):\n",
    "            chunks = get_chunks(Xpreproc.iloc[i])\n",
    "            data[\"input_ids\"].extend(chunks)\n",
    "            data[\"labels\"].extend([y.iloc[i]] * len(chunks))\n",
    "        self.data = data\n",
    "        self.max_len = max_len\n",
    "        self.label_to_idx = {-1: 0, 0: 1, 1: 2}\n",
    "\n",
    "    def __len__(self):\n",
    "        return len(self.data[\"labels\"])\n",
    "\n",
    "    def __getitem__(self, index):\n",
    "        input_ids = self.data[\"input_ids\"][index]\n",
    "        input_ids += [word_to_idx[\"<pad>\"]] * (self.max_len - len(input_ids))\n",
    "        return (\n",
    "            torch.LongTensor(input_ids),\n",
    "            self.label_to_idx[self.data[\"labels\"][index]],\n",
    "        )"
   ]
  },
  {
   "cell_type": "markdown",
   "id": "91ab1876",
   "metadata": {},
   "source": [
    "Определяем модель"
   ]
  },
  {
   "cell_type": "code",
   "execution_count": 9,
   "id": "064a4c47",
   "metadata": {},
   "outputs": [],
   "source": [
    "class ReleaseClassifier(nn.Module):\n",
    "    def __init__(\n",
    "        self,\n",
    "        num_embeddings=len(word_to_idx),\n",
    "        embedding_size=300,\n",
    "        hidden_size=128,\n",
    "        num_layers=1,\n",
    "        bidirectional=True,\n",
    "        num_classes=3,\n",
    "        padding_idx=word_to_idx[\"<pad>\"],\n",
    "    ):\n",
    "        super().__init__()\n",
    "        self.embedding = nn.Embedding(\n",
    "            num_embeddings, embedding_size, padding_idx=padding_idx\n",
    "        )\n",
    "        self.lstm = nn.LSTM(\n",
    "            input_size=embedding_size,\n",
    "            hidden_size=hidden_size,\n",
    "            batch_first=True,\n",
    "            num_layers=num_layers,\n",
    "            bidirectional=bidirectional,\n",
    "        )\n",
    "        self.dropout = nn.Dropout(p=0.5)\n",
    "        self.output = nn.Linear(hidden_size * 2, num_classes)\n",
    "\n",
    "    def forward(self, x):\n",
    "        emb = self.embedding(x)\n",
    "        x, (h, c) = self.lstm(emb)\n",
    "        hh = torch.cat((h[-2, :, :], h[-1, :, :]), dim=1)\n",
    "        output = self.output(self.dropout(hh))\n",
    "        return output"
   ]
  },
  {
   "cell_type": "markdown",
   "id": "9994b7d2",
   "metadata": {},
   "source": [
    "Определяем функцию для обучения нашей модели"
   ]
  },
  {
   "cell_type": "code",
   "execution_count": 10,
   "id": "a318e372",
   "metadata": {},
   "outputs": [],
   "source": [
    "def train_epoch(\n",
    "    model,\n",
    "    data_loader,\n",
    "    optimizer,\n",
    "    criterion,\n",
    "    return_losses=False,\n",
    "    device=\"cuda:0\",\n",
    "):\n",
    "    model = model.to(device).train()\n",
    "    total_loss = 0\n",
    "    num_batches = 0\n",
    "    all_losses = []\n",
    "    total_predictions = np.array([])\n",
    "    total_labels = np.array([])\n",
    "\n",
    "    for releases, labels in data_loader:\n",
    "\n",
    "        # Move Batch to GPU\n",
    "        reviews = releases.to(device)\n",
    "        labels = labels.to(device)\n",
    "        predicted = model(reviews)\n",
    "        loss = criterion(predicted, labels)\n",
    "\n",
    "        # Update weights\n",
    "        loss.backward()\n",
    "        optimizer.step()\n",
    "        optimizer.zero_grad()\n",
    "\n",
    "        # Update descirption for tqdm\n",
    "        accuracy = (torch.argmax(predicted, dim=1) == labels).float().mean()\n",
    "        \n",
    "        total_loss += loss.item()\n",
    "        total_predictions = np.append(\n",
    "            total_predictions,\n",
    "            torch.argmax(predicted, dim=1).int().cpu().detach().numpy(),\n",
    "        )\n",
    "        total_labels = np.append(total_labels, labels.cpu().detach().numpy())\n",
    "        num_batches += 1\n",
    "        all_losses.append(loss.detach().item())\n",
    "\n",
    "    metrics = {\"loss\": total_loss / num_batches}\n",
    "    metrics.update({\"accuracy\": (total_predictions == total_labels).mean()})\n",
    "    if return_losses:\n",
    "        return metrics, all_losses\n",
    "    else:\n",
    "        return metrics"
   ]
  },
  {
   "cell_type": "markdown",
   "id": "c65a2eae",
   "metadata": {},
   "source": [
    "Теперь будем проходиться расширяемым окном по нашим пресс-релизам и обучать модели, всего у нас получится 70 обучений. Для каждой модели будем выполнять 1 предсказание для оценки нашей модели."
   ]
  },
  {
   "cell_type": "code",
   "execution_count": 48,
   "id": "86e729ba",
   "metadata": {},
   "outputs": [
    {
     "data": {
      "application/vnd.jupyter.widget-view+json": {
       "model_id": "24dcedf483b84f6aaf00d5dd7ce18111",
       "version_major": 2,
       "version_minor": 0
      },
      "text/plain": [
       "  0%|          | 0/70 [00:00<?, ?it/s]"
      ]
     },
     "metadata": {},
     "output_type": "display_data"
    }
   ],
   "source": [
    "predictions = []\n",
    "for i in tqdm(range(30, len(Xpreproc))):\n",
    "    device = \"cuda\" if torch.cuda.is_available() else \"cpu\"\n",
    "    dataset = CBDataset(i, max_len=chunk_size)\n",
    "    dataloader = DataLoader(dataset, batch_size=32, shuffle=True)\n",
    "    model = ReleaseClassifier()\n",
    "    embedding_matrix.requires_grad = True\n",
    "    model.embedding.weight.data = embedding_matrix\n",
    "    optimizer = torch.optim.Adam(model.parameters(), lr=1e-3)\n",
    "    criterion = nn.CrossEntropyLoss()\n",
    "\n",
    "    for _ in range(15):\n",
    "        train_epoch(\n",
    "            model, dataloader, criterion=criterion, optimizer=optimizer, device=device\n",
    "        )\n",
    "\n",
    "    chunks = get_chunks(Xpreproc.iloc[i])\n",
    "    for j in range(len(chunks)):\n",
    "        chunks[j] += [word_to_idx[\"<pad>\"]] * (len(chunks[0]) - len(chunks[j]))\n",
    "    X_test = torch.LongTensor(chunks).to(device)\n",
    "    model.eval()\n",
    "    with torch.no_grad():\n",
    "        y_pred = model(X_test)\n",
    "\n",
    "    y_pred_idx = torch.mode(y_pred.argmax(dim=1)).values.item()\n",
    "    y_pred_proba = nn.Softmax(dim=1)(y_pred).mean(dim=0).detach().to('cpu')\n",
    "\n",
    "    idx_to_label = {0: -1, 1: 0, 2: 1}\n",
    "    predictions.append((idx_to_label[y_pred_idx], y_pred_proba))"
   ]
  },
  {
   "cell_type": "markdown",
   "id": "f1ddd44b",
   "metadata": {},
   "source": [
    "Сформируем предсказания классов и вероятности классов для формирования отчета о нашей модели."
   ]
  },
  {
   "cell_type": "code",
   "execution_count": null,
   "id": "8f8c8470",
   "metadata": {},
   "outputs": [],
   "source": [
    "y_preds = []\n",
    "y_preds_proba = []\n",
    "for pred in predictions:\n",
    "    clss, proba = pred\n",
    "    y_preds.append(clss)\n",
    "    y_preds_proba.append(proba)"
   ]
  },
  {
   "cell_type": "markdown",
   "id": "db0976df",
   "metadata": {},
   "source": [
    "Формируем отчет"
   ]
  },
  {
   "cell_type": "code",
   "execution_count": 59,
   "id": "81107347",
   "metadata": {},
   "outputs": [
    {
     "name": "stdout",
     "output_type": "stream",
     "text": [
      "              precision    recall  f1-score   support\n",
      "\n",
      "        -1.0       0.52      0.52      0.52        23\n",
      "         0.0       0.39      0.39      0.39        28\n",
      "         1.0       0.58      0.58      0.58        19\n",
      "\n",
      "    accuracy                           0.49        70\n",
      "   macro avg       0.50      0.50      0.50        70\n",
      "weighted avg       0.49      0.49      0.49        70\n",
      "\n"
     ]
    },
    {
     "data": {
      "image/png": "[encoded data removed]",
      "text/plain": [
       "<Figure size 640x480 with 2 Axes>"
      ]
     },
     "metadata": {},
     "output_type": "display_data"
    }
   ],
   "source": [
    "acc = accuracy_score(y[30:], y_preds)\n",
    "f1 = f1_score(y[30:], y_preds, average=\"macro\")\n",
    "recall = recall_score(y[30:], y_preds, average=\"macro\")\n",
    "precision = precision_score(y[30:], y_preds, average=\"macro\")\n",
    "roc_auc_ovr = roc_auc_score(\n",
    "    y[30:],\n",
    "    y_preds_proba,\n",
    "    average=\"macro\",\n",
    "    multi_class=\"ovr\",\n",
    ")\n",
    "roc_auc_ovo = roc_auc_score(\n",
    "    y[30:],\n",
    "    y_preds_proba,\n",
    "    average=\"macro\",\n",
    "    multi_class=\"ovo\",\n",
    ")\n",
    "\n",
    "print(classification_report(y[30:], y_preds))\n",
    "cm = confusion_matrix(y[30:], y_preds)\n",
    "cm = pd.DataFrame(cm, index=[\"-1\", \"0\", \"1\"], columns=[\"-1\", \"0\", 1])\n",
    "sns.heatmap(cm, annot=True, fmt=\"d\")\n",
    "plt.title(\"Confusion matrix\")\n",
    "plt.ylabel(\"True label\")\n",
    "plt.xlabel(\"Predicted label\")\n",
    "plt.show()"
   ]
  },
  {
   "cell_type": "code",
   "execution_count": 61,
   "id": "6ca55070",
   "metadata": {},
   "outputs": [
    {
     "data": {
      "text/html": [
       "<div>\n",
       "<style scoped>\n",
       "    .dataframe tbody tr th:only-of-type {\n",
       "        vertical-align: middle;\n",
       "    }\n",
       "\n",
       "    .dataframe tbody tr th {\n",
       "        vertical-align: top;\n",
       "    }\n",
       "\n",
       "    .dataframe thead th {\n",
       "        text-align: right;\n",
       "    }\n",
       "</style>\n",
       "<table border=\"1\" class=\"dataframe\">\n",
       "  <thead>\n",
       "    <tr style=\"text-align: right;\">\n",
       "      <th></th>\n",
       "      <th>accuracy</th>\n",
       "      <th>f1</th>\n",
       "      <th>recall</th>\n",
       "      <th>precision</th>\n",
       "      <th>roc_auc_ovr</th>\n",
       "      <th>roc_auc_ovo</th>\n",
       "    </tr>\n",
       "  </thead>\n",
       "  <tbody>\n",
       "    <tr>\n",
       "      <th>RNN</th>\n",
       "      <td>0.485714</td>\n",
       "      <td>0.497848</td>\n",
       "      <td>0.497848</td>\n",
       "      <td>0.497848</td>\n",
       "      <td>0.66649</td>\n",
       "      <td>0.679089</td>\n",
       "    </tr>\n",
       "  </tbody>\n",
       "</table>\n",
       "</div>"
      ],
      "text/plain": [
       "     accuracy        f1    recall  precision  roc_auc_ovr  roc_auc_ovo\n",
       "RNN  0.485714  0.497848  0.497848   0.497848      0.66649     0.679089"
      ]
     },
     "execution_count": 61,
     "metadata": {},
     "output_type": "execute_result"
    }
   ],
   "source": [
    "pd.DataFrame({\n",
    "            'accuracy': acc,\n",
    "            'f1': f1,\n",
    "            'recall': recall,\n",
    "            'precision': precision,\n",
    "            'roc_auc_ovr': roc_auc_ovr,\n",
    "            'roc_auc_ovo': roc_auc_ovo,\n",
    "            }, index=['RNN'])"
   ]
  },
  {
   "cell_type": "markdown",
   "id": "abc6d27f",
   "metadata": {},
   "source": [
    "Можем увидеть, что наша модель не может обучиться на столь небольшом количестве данных, не смотря на то, что слой эмбеддингов мы взяли предобученным."
   ]
  }
 ],
 "metadata": {
  "kernelspec": {
   "display_name": ".venv",
   "language": "python",
   "name": "python3"
  },
  "language_info": {
   "codemirror_mode": {
    "name": "ipython",
    "version": 3
   },
   "file_extension": ".py",
   "mimetype": "text/x-python",
   "name": "python",
   "nbconvert_exporter": "python",
   "pygments_lexer": "ipython3",
   "version": "3.11.9"
  }
 },
 "nbformat": 4,
 "nbformat_minor": 5
}
