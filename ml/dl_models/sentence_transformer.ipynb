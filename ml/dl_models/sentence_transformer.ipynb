{
 "cells": [
  {
   "cell_type": "markdown",
   "id": "5be64699",
   "metadata": {},
   "source": [
    "# Sentence Transformer\n",
    "\n",
    "Будем использовать предобученную модель, из библиотеки sentence-transformers. Лучшее качество, в нашей задаче, из всех моделей показала модель sentence-transformers/paraphrase-multilingual-MiniLM-L12-v2. Будем использовать ее с помощью библиотеки sentence-transformers."
   ]
  },
  {
   "cell_type": "code",
   "execution_count": 1,
   "id": "8c04a1db",
   "metadata": {},
   "outputs": [
    {
     "name": "stderr",
     "output_type": "stream",
     "text": [
      "c:\\Users\\user\\miniconda3\\envs\\ml_yp\\Lib\\site-packages\\tqdm\\auto.py:21: TqdmWarning: IProgress not found. Please update jupyter and ipywidgets. See https://ipywidgets.readthedocs.io/en/stable/user_install.html\n",
      "  from .autonotebook import tqdm as notebook_tqdm\n"
     ]
    }
   ],
   "source": [
    "import sys\n",
    "import os\n",
    "import warnings\n",
    "\n",
    "import pandas as pd\n",
    "from sentence_transformers import SentenceTransformer\n",
    "from datasets import load_dataset, Features, Value\n",
    "from sklearn.pipeline import Pipeline\n",
    "from sklearn.ensemble import RandomForestClassifier\n",
    "import optuna\n",
    "\n",
    "warnings.filterwarnings('ignore')\n",
    "\n",
    "# Добавляем в path вышестоящую директорию для импорта  calc_metrics\n",
    "sys.path.append(os.path.abspath(os.path.join(\"..\")))\n",
    "\n",
    "from utils import calc_metrics"
   ]
  },
  {
   "cell_type": "code",
   "execution_count": 10,
   "id": "45bbf773",
   "metadata": {},
   "outputs": [],
   "source": [
    "metrics = pd.read_csv('metrics.csv', index_col=0)"
   ]
  },
  {
   "cell_type": "markdown",
   "id": "bae2080f",
   "metadata": {},
   "source": [
    "Загрузим модель, данные и каждый текст пропустим через модель и получим эмбеддинги."
   ]
  },
  {
   "cell_type": "code",
   "execution_count": 3,
   "id": "04b5d5a3",
   "metadata": {},
   "outputs": [
    {
     "name": "stderr",
     "output_type": "stream",
     "text": [
      "Generating train split: 101 examples [00:00, 4601.42 examples/s]\n"
     ]
    }
   ],
   "source": [
    "model = SentenceTransformer(\n",
    "    \"sentence-transformers/paraphrase-multilingual-MiniLM-L12-v2\"\n",
    ")\n",
    "\n",
    "feature = Features({\"release\": Value(\"string\")})\n",
    "dataset = load_dataset(\"csv\", data_files=\"../data/x.csv\", features=feature)\n",
    "texts = dataset[\"train\"][\"release\"]\n",
    "embeddings = model.encode(texts, normalize_embeddings=True)\n",
    "\n",
    "os.environ[\"TOKENIZERS_PARALLELISM\"] = \"false\"  "
   ]
  },
  {
   "cell_type": "code",
   "execution_count": 4,
   "id": "1210e27f",
   "metadata": {},
   "outputs": [],
   "source": [
    "# загрузим таргет\n",
    "y = pd.read_csv(\"../data/y.csv\", index_col=\"date\").iloc[:, 0]"
   ]
  },
  {
   "cell_type": "markdown",
   "id": "3610c780",
   "metadata": {},
   "source": [
    "Теперь полученные эмбеддинги подадим на вход модели классического ML. Подберем гиперпараметры, и модель."
   ]
  },
  {
   "cell_type": "code",
   "execution_count": 5,
   "id": "916f1fe7",
   "metadata": {},
   "outputs": [
    {
     "name": "stderr",
     "output_type": "stream",
     "text": [
      "Best trial: 131. Best value: 0.823791: 100%|██████████| 200/200 [10:58<00:00,  3.29s/it]\n"
     ]
    }
   ],
   "source": [
    "def objective(trial):\n",
    "    params = {\n",
    "        \"max_depth\": trial.suggest_int(\"max_depth\", 1, 25),\n",
    "        \"min_samples_leaf\": trial.suggest_int(\"min_samples_leaf\", 1, 25),\n",
    "        \"min_samples_split\": trial.suggest_int(\"min_samples_split\", 2, 25),\n",
    "        \"n_estimators\": trial.suggest_int(\"n_estimators\", 100, 1000),\n",
    "        \"max_features\": trial.suggest_int(\"max_features\", 10, 384),\n",
    "    }\n",
    "\n",
    "    # определяем pipeline\n",
    "    pipeline = Pipeline(\n",
    "        [\n",
    "            (\n",
    "                \"model\",\n",
    "                RandomForestClassifier(\n",
    "                    max_depth=params[\"max_depth\"],\n",
    "                    max_features=params[\"max_features\"],\n",
    "                    min_samples_leaf=params[\"min_samples_leaf\"],\n",
    "                    min_samples_split=params[\"min_samples_split\"],\n",
    "                    n_estimators=params[\"n_estimators\"],\n",
    "                    random_state=42,\n",
    "                    n_jobs=-1,\n",
    "                ),\n",
    "            ),\n",
    "        ]\n",
    "    )\n",
    "\n",
    "    # считаем метрики на кросс валидации\n",
    "    metric, _ = calc_metrics(\n",
    "        embeddings,\n",
    "        y,\n",
    "        pipeline,\n",
    "        name=\" \",\n",
    "        plot=False,\n",
    "        calc_jobs=-1,\n",
    "    )\n",
    "\n",
    "    return metric\n",
    "\n",
    "\n",
    "# устанавливаем уровень логирования optuna\n",
    "optuna.logging.set_verbosity(optuna.logging.WARNING)\n",
    "\n",
    "# запускаем подбор гиперпараметров\n",
    "study = optuna.create_study(direction=\"maximize\")\n",
    "study.optimize(objective, n_trials=200, show_progress_bar=True)"
   ]
  },
  {
   "cell_type": "markdown",
   "id": "c41610b6",
   "metadata": {},
   "source": [
    "Пробовали обучить модель K-ближайших соседей, линейную регрессию, бустинг, но лучшее качество показал Случайный лес."
   ]
  },
  {
   "cell_type": "code",
   "execution_count": 6,
   "id": "ac4f54d8",
   "metadata": {},
   "outputs": [
    {
     "data": {
      "text/plain": [
       "{'max_depth': 8,\n",
       " 'min_samples_leaf': 1,\n",
       " 'min_samples_split': 7,\n",
       " 'n_estimators': 150,\n",
       " 'max_features': 137}"
      ]
     },
     "execution_count": 6,
     "metadata": {},
     "output_type": "execute_result"
    }
   ],
   "source": [
    "study.best_params"
   ]
  },
  {
   "cell_type": "markdown",
   "id": "6687e63c",
   "metadata": {},
   "source": [
    "Обучим модель с лучшими параметрами и посмотрим на результаты"
   ]
  },
  {
   "cell_type": "code",
   "execution_count": 7,
   "id": "0a9787d5",
   "metadata": {},
   "outputs": [
    {
     "name": "stdout",
     "output_type": "stream",
     "text": [
      "              precision    recall  f1-score   support\n",
      "\n",
      "        -1.0       0.75      0.62      0.68        24\n",
      "         0.0       0.56      0.64      0.60        28\n",
      "         1.0       0.74      0.74      0.74        19\n",
      "\n",
      "    accuracy                           0.66        71\n",
      "   macro avg       0.68      0.67      0.67        71\n",
      "weighted avg       0.67      0.66      0.66        71\n",
      "\n"
     ]
    },
    {
     "data": {
      "image/png": "[encoded data removed]",
      "text/plain": [
       "<Figure size 640x480 with 2 Axes>"
      ]
     },
     "metadata": {},
     "output_type": "display_data"
    }
   ],
   "source": [
    "pipeline = Pipeline(\n",
    "    [\n",
    "        (\n",
    "            \"model\",\n",
    "            RandomForestClassifier(\n",
    "                max_depth=study.best_params[\"max_depth\"],\n",
    "                max_features=study.best_params[\"max_features\"],\n",
    "                min_samples_leaf=study.best_params[\"min_samples_leaf\"],\n",
    "                min_samples_split=study.best_params[\"min_samples_split\"],\n",
    "                n_estimators=study.best_params[\"n_estimators\"],\n",
    "                random_state=42,\n",
    "                n_jobs=-1,\n",
    "            ),\n",
    "        ),\n",
    "    ]\n",
    ")\n",
    "\n",
    "# считаем метрики на кросс валидации\n",
    "metric, _ = calc_metrics(\n",
    "    embeddings,\n",
    "    y,\n",
    "    pipeline,\n",
    "    name=\"Sentence transformer\",\n",
    "    plot=True,\n",
    "    calc_jobs=-1,\n",
    ")"
   ]
  },
  {
   "cell_type": "code",
   "execution_count": 11,
   "id": "63e0a568",
   "metadata": {},
   "outputs": [
    {
     "data": {
      "text/html": [
       "<div>\n",
       "<style scoped>\n",
       "    .dataframe tbody tr th:only-of-type {\n",
       "        vertical-align: middle;\n",
       "    }\n",
       "\n",
       "    .dataframe tbody tr th {\n",
       "        vertical-align: top;\n",
       "    }\n",
       "\n",
       "    .dataframe thead th {\n",
       "        text-align: right;\n",
       "    }\n",
       "</style>\n",
       "<table border=\"1\" class=\"dataframe\">\n",
       "  <thead>\n",
       "    <tr style=\"text-align: right;\">\n",
       "      <th></th>\n",
       "      <th>accuracy</th>\n",
       "      <th>f1</th>\n",
       "      <th>recall</th>\n",
       "      <th>precision</th>\n",
       "      <th>roc_auc_ovr</th>\n",
       "      <th>roc_auc_ovo</th>\n",
       "    </tr>\n",
       "  </thead>\n",
       "  <tbody>\n",
       "    <tr>\n",
       "      <th>Sentence transformer</th>\n",
       "      <td>0.661972</td>\n",
       "      <td>0.672887</td>\n",
       "      <td>0.668233</td>\n",
       "      <td>0.683114</td>\n",
       "      <td>0.815232</td>\n",
       "      <td>0.823791</td>\n",
       "    </tr>\n",
       "  </tbody>\n",
       "</table>\n",
       "</div>"
      ],
      "text/plain": [
       "                      accuracy        f1    recall  precision  roc_auc_ovr  \\\n",
       "Sentence transformer  0.661972  0.672887  0.668233   0.683114     0.815232   \n",
       "\n",
       "                      roc_auc_ovo  \n",
       "Sentence transformer     0.823791  "
      ]
     },
     "execution_count": 11,
     "metadata": {},
     "output_type": "execute_result"
    }
   ],
   "source": [
    "metrics = pd.concat([metrics, metric], axis=0)\n",
    "metrics"
   ]
  },
  {
   "cell_type": "code",
   "execution_count": 12,
   "id": "a86d698a",
   "metadata": {},
   "outputs": [],
   "source": [
    "metrics.to_csv('metrics.csv')"
   ]
  },
  {
   "cell_type": "code",
   "execution_count": null,
   "id": "c0d582b9",
   "metadata": {},
   "outputs": [],
   "source": []
  }
 ],
 "metadata": {
  "kernelspec": {
   "display_name": "ml_yp",
   "language": "python",
   "name": "python3"
  },
  "language_info": {
   "codemirror_mode": {
    "name": "ipython",
    "version": 3
   },
   "file_extension": ".py",
   "mimetype": "text/x-python",
   "name": "python",
   "nbconvert_exporter": "python",
   "pygments_lexer": "ipython3",
   "version": "3.12.3"
  }
 },
 "nbformat": 4,
 "nbformat_minor": 5
}
