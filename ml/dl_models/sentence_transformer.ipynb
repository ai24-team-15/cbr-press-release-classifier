{
 "cells": [
  {
   "cell_type": "code",
   "execution_count": null,
   "id": "8c04a1db",
   "metadata": {},
   "outputs": [],
   "source": [
    "import sys\n",
    "import os\n",
    "import warnings\n",
    "\n",
    "import pandas as pd\n",
    "from sentence_transformers import SentenceTransformer\n",
    "from datasets import load_dataset, Features, Value\n",
    "from sklearn.pipeline import Pipeline\n",
    "from sklearn.ensemble import RandomForestClassifier\n",
    "import optuna\n",
    "\n",
    "warnings.filterwarnings('ignore')\n",
    "\n",
    "# Добавляем в path вышестоящую директорию для импорта  calc_metrics\n",
    "sys.path.append(os.path.abspath(os.path.join(\"..\")))\n",
    "\n",
    "from utils import calc_metrics"
   ]
  },
  {
   "cell_type": "code",
   "execution_count": 2,
   "id": "04b5d5a3",
   "metadata": {},
   "outputs": [],
   "source": [
    "model = SentenceTransformer(\n",
    "    \"sentence-transformers/paraphrase-multilingual-MiniLM-L12-v2\"\n",
    ")\n",
    "\n",
    "feature = Features({\"release\": Value(\"string\")})\n",
    "dataset = load_dataset(\"csv\", data_files=\"../data/x.csv\", features=feature)\n",
    "texts = dataset[\"train\"][\"release\"]\n",
    "embeddings = model.encode(texts, normalize_embeddings=True)\n",
    "\n",
    "os.environ[\"TOKENIZERS_PARALLELISM\"] = \"false\"  "
   ]
  },
  {
   "cell_type": "code",
   "execution_count": 3,
   "id": "1210e27f",
   "metadata": {},
   "outputs": [],
   "source": [
    "y = pd.read_csv(\"../data/y.csv\", index_col=\"date\").iloc[:, 0]"
   ]
  },
  {
   "cell_type": "code",
   "execution_count": 9,
   "id": "916f1fe7",
   "metadata": {},
   "outputs": [
    {
     "data": {
      "application/vnd.jupyter.widget-view+json": {
       "model_id": "c67bbf9eae874b1d84eca76cffceee42",
       "version_major": 2,
       "version_minor": 0
      },
      "text/plain": [
       "  0%|          | 0/200 [00:00<?, ?it/s]"
      ]
     },
     "metadata": {},
     "output_type": "display_data"
    }
   ],
   "source": [
    "def objective(trial):\n",
    "    params = {\n",
    "        \"max_depth\": trial.suggest_int(\"max_depth\", 1, 25),\n",
    "        \"min_samples_leaf\": trial.suggest_int(\"min_samples_leaf\", 1, 25),\n",
    "        \"min_samples_split\": trial.suggest_int(\"min_samples_split\", 2, 25),\n",
    "        \"n_estimators\": trial.suggest_int(\"n_estimators\", 100, 1000),\n",
    "        \"max_features\": trial.suggest_int(\"max_features\", 10, 384),\n",
    "    }\n",
    "\n",
    "    # определяем pipeline\n",
    "    pipeline = Pipeline(\n",
    "        [\n",
    "            (\n",
    "                \"model\",\n",
    "                RandomForestClassifier(\n",
    "                    max_depth=params[\"max_depth\"],\n",
    "                    max_features=params[\"max_features\"],\n",
    "                    min_samples_leaf=params[\"min_samples_leaf\"],\n",
    "                    min_samples_split=params[\"min_samples_split\"],\n",
    "                    n_estimators=params[\"n_estimators\"],\n",
    "                    random_state=42,\n",
    "                    n_jobs=-1,\n",
    "                ),\n",
    "            ),\n",
    "        ]\n",
    "    )\n",
    "\n",
    "    # считаем метрики на кросс валидации\n",
    "    metric, _ = calc_metrics(\n",
    "        embeddings,\n",
    "        y,\n",
    "        pipeline,\n",
    "        name=\" \",\n",
    "        plot=False,\n",
    "        calc_jobs=-1,\n",
    "    )\n",
    "\n",
    "    return metric\n",
    "\n",
    "\n",
    "# устанавливаем уровень логирования optuna\n",
    "optuna.logging.set_verbosity(optuna.logging.WARNING)\n",
    "\n",
    "# запускаем подбор гиперпараметров\n",
    "study = optuna.create_study(direction=\"maximize\")\n",
    "study.optimize(objective, n_trials=200, show_progress_bar=True)"
   ]
  },
  {
   "cell_type": "code",
   "execution_count": 10,
   "id": "ac4f54d8",
   "metadata": {},
   "outputs": [
    {
     "data": {
      "text/plain": [
       "{'max_depth': 17,\n",
       " 'min_samples_leaf': 1,\n",
       " 'min_samples_split': 9,\n",
       " 'n_estimators': 618,\n",
       " 'max_features': 80}"
      ]
     },
     "execution_count": 10,
     "metadata": {},
     "output_type": "execute_result"
    }
   ],
   "source": [
    "study.best_params"
   ]
  },
  {
   "cell_type": "code",
   "execution_count": 11,
   "id": "0a9787d5",
   "metadata": {},
   "outputs": [
    {
     "name": "stdout",
     "output_type": "stream",
     "text": [
      "              precision    recall  f1-score   support\n",
      "\n",
      "        -1.0       0.73      0.70      0.71        23\n",
      "         0.0       0.55      0.62      0.58        26\n",
      "         1.0       0.76      0.68      0.72        19\n",
      "\n",
      "    accuracy                           0.66        68\n",
      "   macro avg       0.68      0.67      0.67        68\n",
      "weighted avg       0.67      0.66      0.66        68\n",
      "\n"
     ]
    },
    {
     "data": {
      "image/png": "[encoded data removed]",
      "text/plain": [
       "<Figure size 640x480 with 2 Axes>"
      ]
     },
     "metadata": {},
     "output_type": "display_data"
    }
   ],
   "source": [
    "pipeline = Pipeline(\n",
    "    [\n",
    "        (\n",
    "            \"model\",\n",
    "            RandomForestClassifier(\n",
    "                max_depth=study.best_params[\"max_depth\"],\n",
    "                max_features=study.best_params[\"max_features\"],\n",
    "                min_samples_leaf=study.best_params[\"min_samples_leaf\"],\n",
    "                min_samples_split=study.best_params[\"min_samples_split\"],\n",
    "                n_estimators=study.best_params[\"n_estimators\"],\n",
    "                random_state=42,\n",
    "                n_jobs=-1,\n",
    "            ),\n",
    "        ),\n",
    "    ]\n",
    ")\n",
    "\n",
    "# считаем метрики на кросс валидации\n",
    "metric, _ = calc_metrics(\n",
    "    embeddings,\n",
    "    y,\n",
    "    pipeline,\n",
    "    name=\"Sentence transformer\",\n",
    "    plot=True,\n",
    "    calc_jobs=-1,\n",
    ")"
   ]
  },
  {
   "cell_type": "code",
   "execution_count": 12,
   "id": "63e0a568",
   "metadata": {},
   "outputs": [
    {
     "data": {
      "text/html": [
       "<div>\n",
       "<style scoped>\n",
       "    .dataframe tbody tr th:only-of-type {\n",
       "        vertical-align: middle;\n",
       "    }\n",
       "\n",
       "    .dataframe tbody tr th {\n",
       "        vertical-align: top;\n",
       "    }\n",
       "\n",
       "    .dataframe thead th {\n",
       "        text-align: right;\n",
       "    }\n",
       "</style>\n",
       "<table border=\"1\" class=\"dataframe\">\n",
       "  <thead>\n",
       "    <tr style=\"text-align: right;\">\n",
       "      <th></th>\n",
       "      <th>accuracy</th>\n",
       "      <th>f1</th>\n",
       "      <th>recall</th>\n",
       "      <th>precision</th>\n",
       "      <th>roc_auc_ovr</th>\n",
       "      <th>roc_auc_ovo</th>\n",
       "    </tr>\n",
       "  </thead>\n",
       "  <tbody>\n",
       "    <tr>\n",
       "      <th>Sentence transformer</th>\n",
       "      <td>0.661765</td>\n",
       "      <td>0.671717</td>\n",
       "      <td>0.665082</td>\n",
       "      <td>0.681234</td>\n",
       "      <td>0.822897</td>\n",
       "      <td>0.829285</td>\n",
       "    </tr>\n",
       "  </tbody>\n",
       "</table>\n",
       "</div>"
      ],
      "text/plain": [
       "                      accuracy        f1    recall  precision  roc_auc_ovr  \\\n",
       "Sentence transformer  0.661765  0.671717  0.665082   0.681234     0.822897   \n",
       "\n",
       "                      roc_auc_ovo  \n",
       "Sentence transformer     0.829285  "
      ]
     },
     "execution_count": 12,
     "metadata": {},
     "output_type": "execute_result"
    }
   ],
   "source": [
    "metric"
   ]
  },
  {
   "cell_type": "code",
   "execution_count": null,
   "id": "441cfbfa",
   "metadata": {},
   "outputs": [],
   "source": []
  }
 ],
 "metadata": {
  "kernelspec": {
   "display_name": ".venv",
   "language": "python",
   "name": "python3"
  },
  "language_info": {
   "codemirror_mode": {
    "name": "ipython",
    "version": 3
   },
   "file_extension": ".py",
   "mimetype": "text/x-python",
   "name": "python",
   "nbconvert_exporter": "python",
   "pygments_lexer": "ipython3",
   "version": "3.11.9"
  }
 },
 "nbformat": 4,
 "nbformat_minor": 5
}
