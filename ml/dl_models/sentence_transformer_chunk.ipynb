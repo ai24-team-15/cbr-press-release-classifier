{
 "cells": [
  {
   "cell_type": "markdown",
   "id": "2343c7f5",
   "metadata": {},
   "source": [
    "# Sentence Transformer (`trancation=False`)\n",
    "\n",
    "В этом ноутбуке будем использовать такую же модель как и ноутбуке `dl_models/sentence_transformer.ipynb`, но попробуем не ограничивать длину текста, а будем использовать весь текст пресс-релиза. Будем проходиться окном по тексту, для каждого окна получать эмбединг, а потом применим агрегацию, чтобы получить один вектор из нескольких."
   ]
  },
  {
   "cell_type": "code",
   "execution_count": 1,
   "id": "0a933fe7",
   "metadata": {},
   "outputs": [
    {
     "name": "stderr",
     "output_type": "stream",
     "text": [
      "c:\\Users\\user\\miniconda3\\envs\\ml_yp\\Lib\\site-packages\\tqdm\\auto.py:21: TqdmWarning: IProgress not found. Please update jupyter and ipywidgets. See https://ipywidgets.readthedocs.io/en/stable/user_install.html\n",
      "  from .autonotebook import tqdm as notebook_tqdm\n"
     ]
    }
   ],
   "source": [
    "import sys\n",
    "import os\n",
    "import warnings\n",
    "import pandas as pd\n",
    "from transformers import AutoTokenizer, AutoModel\n",
    "import torch\n",
    "from tqdm import tqdm\n",
    "from sklearn.pipeline import Pipeline\n",
    "from sklearn.ensemble import RandomForestClassifier\n",
    "import optuna\n",
    "\n",
    "# Добавляем в path вышестоящую директорию для импорта  calc_metrics\n",
    "sys.path.append(os.path.abspath(os.path.join(\"..\")))\n",
    "\n",
    "from utils import calc_metrics\n",
    "\n",
    "\n",
    "warnings.filterwarnings('ignore')\n"
   ]
  },
  {
   "cell_type": "code",
   "execution_count": 2,
   "id": "33d65889",
   "metadata": {},
   "outputs": [],
   "source": [
    "metrics = pd.read_csv('metrics.csv', index_col=0)"
   ]
  },
  {
   "cell_type": "code",
   "execution_count": 3,
   "id": "42cb5017",
   "metadata": {},
   "outputs": [],
   "source": [
    "# функция для получения эмбеддинга последовательности\n",
    "def mean_pooling(model_output, attention_mask):\n",
    "    token_embeddings = model_output[0] # Первый элемент содержит эмбединг всех токенов.\n",
    "    input_mask_expanded = attention_mask.unsqueeze(-1).expand(token_embeddings.size()).float()\n",
    "    return torch.sum(token_embeddings * input_mask_expanded, 1) / torch.clamp(input_mask_expanded.sum(1), min=1e-9)\n",
    "\n",
    "# загружаем модель и токенизатор с  Hugging Face\n",
    "tokenizer = AutoTokenizer.from_pretrained('sentence-transformers/paraphrase-multilingual-MiniLM-L12-v2')\n",
    "model = AutoModel.from_pretrained('sentence-transformers/paraphrase-multilingual-MiniLM-L12-v2')\n",
    "\n",
    "# загружаем данные\n",
    "X = pd.read_csv(\"../data/x.csv\", index_col=\"date\")\n",
    "y = pd.read_csv(\"../data/y.csv\", index_col=\"date\").iloc[:, 0]"
   ]
  },
  {
   "cell_type": "code",
   "execution_count": 4,
   "id": "27b7915c",
   "metadata": {},
   "outputs": [],
   "source": [
    "def sliding_window_chunking(encoded_input, window_size=512, overlap=50, pad_token_id=1):\n",
    "    \"\"\"\n",
    "    Разбивает input_ids на чанки с перекрытием.\n",
    "    \n",
    "    Args:\n",
    "        input_ids (torch.Tensor): Токенизированный текст, shape (1, n).\n",
    "        window_size (int): Максимальная длина чанка (например, 512).\n",
    "        overlap (int): Сколько токенов перекрываются между чанками.\n",
    "        pad_token_id (int): ID токена для дополнения (например, 1 для BERT).\n",
    "    \n",
    "    Returns:\n",
    "        chunks (torch.Tensor): Матрица (k, window_size), где k — число чанков.\n",
    "    \"\"\"\n",
    "    input_ids = encoded_input['input_ids']\n",
    "    n = input_ids.size(1)  # Длина последовательности\n",
    "    step = window_size - overlap\n",
    "    num_chunks = (n + step - 1) // step  # Округление вверх\n",
    "    \n",
    "    chunks = torch.full((num_chunks, window_size), pad_token_id, dtype=torch.long)\n",
    "    token_type_ids = torch.full((num_chunks, window_size), 0, dtype=torch.long)\n",
    "    attention_mask = torch.full((num_chunks, window_size), 0, dtype=torch.long)\n",
    "    \n",
    "    for i in range(num_chunks):\n",
    "        start = i * step\n",
    "        end = start + window_size\n",
    "        chunk_data = input_ids[:, start:end]\n",
    "        chunk_length = chunk_data.size(1)\n",
    "        chunks[i, :chunk_length] = chunk_data\n",
    "        attention_mask[i, :chunk_length] = 1\n",
    "    \n",
    "    return {'input_ids': chunks, 'token_type_ids': token_type_ids, 'attention_mask': attention_mask}"
   ]
  },
  {
   "cell_type": "code",
   "execution_count": 5,
   "id": "8a40ac04",
   "metadata": {},
   "outputs": [
    {
     "name": "stderr",
     "output_type": "stream",
     "text": [
      "  0%|          | 0/100 [00:00<?, ?it/s]Token indices sequence length is longer than the specified maximum sequence length for this model (816 > 512). Running this sequence through the model will result in indexing errors\n",
      "100%|██████████| 100/100 [00:21<00:00,  4.55it/s]\n"
     ]
    }
   ],
   "source": [
    "# Инициализация эмбеддингов\n",
    "embeddings = torch.full((X.shape[0], 384), 0, dtype=torch.float32)\n",
    "\n",
    "# для каждого пресс-релиза посчитаем эмбеддинги\n",
    "for i in tqdm(range(X.shape[0])):\n",
    "    enc_input = tokenizer(X.release.iloc[i], truncation=False, return_tensors='pt')\n",
    "    enc_input = sliding_window_chunking(enc_input)\n",
    "    with torch.no_grad():\n",
    "        output = model(**enc_input)\n",
    "\n",
    "    embedding = mean_pooling(output, enc_input['attention_mask']).mean(0) # mean pooling\n",
    "    embeddings[i] = embedding"
   ]
  },
  {
   "cell_type": "code",
   "execution_count": 6,
   "id": "fa9d545e",
   "metadata": {},
   "outputs": [],
   "source": [
    "os.environ[\"TOKENIZERS_PARALLELISM\"] = \"false\"  "
   ]
  },
  {
   "cell_type": "code",
   "execution_count": 7,
   "id": "fa99a3f0",
   "metadata": {},
   "outputs": [
    {
     "name": "stderr",
     "output_type": "stream",
     "text": [
      "Best trial: 131. Best value: 0.729024: 100%|██████████| 200/200 [24:38<00:00,  7.39s/it]\n"
     ]
    }
   ],
   "source": [
    "def objective(trial):\n",
    "    params = {\n",
    "        \"max_depth\": trial.suggest_int(\"max_depth\", 1, 25),\n",
    "        \"min_samples_leaf\": trial.suggest_int(\"min_samples_leaf\", 1, 25),\n",
    "        \"min_samples_split\": trial.suggest_int(\"min_samples_split\", 2, 25),\n",
    "        \"n_estimators\": trial.suggest_int(\"n_estimators\", 100, 1000),\n",
    "        \"max_features\": trial.suggest_int(\"max_features\", 10, 384),\n",
    "    }\n",
    "\n",
    "    # определяем pipeline\n",
    "    pipeline = Pipeline(\n",
    "        [\n",
    "            (\n",
    "                \"model\",\n",
    "                RandomForestClassifier(\n",
    "                    max_depth=params[\"max_depth\"],\n",
    "                    max_features=params[\"max_features\"],\n",
    "                    min_samples_leaf=params[\"min_samples_leaf\"],\n",
    "                    min_samples_split=params[\"min_samples_split\"],\n",
    "                    n_estimators=params[\"n_estimators\"],\n",
    "                    random_state=42,\n",
    "                    n_jobs=-1,\n",
    "                ),\n",
    "            ),\n",
    "        ]\n",
    "    )\n",
    "\n",
    "    # считаем метрики на кросс валидации\n",
    "    metric, _ = calc_metrics(\n",
    "        embeddings,\n",
    "        y,\n",
    "        pipeline,\n",
    "        name=\" \",\n",
    "        plot=False,\n",
    "        calc_jobs=-1,\n",
    "    )\n",
    "\n",
    "    return metric\n",
    "\n",
    "\n",
    "# устанавливаем уровень логирования optuna\n",
    "optuna.logging.set_verbosity(optuna.logging.WARNING)\n",
    "\n",
    "# запускаем подбор гиперпараметров\n",
    "study = optuna.create_study(direction=\"maximize\")\n",
    "study.optimize(objective, n_trials=200, show_progress_bar=True)"
   ]
  },
  {
   "cell_type": "code",
   "execution_count": 8,
   "id": "b454b677",
   "metadata": {},
   "outputs": [
    {
     "data": {
      "text/plain": [
       "{'max_depth': 10,\n",
       " 'min_samples_leaf': 1,\n",
       " 'min_samples_split': 3,\n",
       " 'n_estimators': 404,\n",
       " 'max_features': 309}"
      ]
     },
     "execution_count": 8,
     "metadata": {},
     "output_type": "execute_result"
    }
   ],
   "source": [
    "study.best_params"
   ]
  },
  {
   "cell_type": "code",
   "execution_count": 11,
   "id": "22376288",
   "metadata": {},
   "outputs": [
    {
     "name": "stdout",
     "output_type": "stream",
     "text": [
      "              precision    recall  f1-score   support\n",
      "\n",
      "        -1.0       0.50      0.35      0.41        23\n",
      "         0.0       0.47      0.71      0.56        28\n",
      "         1.0       0.73      0.42      0.53        19\n",
      "\n",
      "    accuracy                           0.51        70\n",
      "   macro avg       0.56      0.49      0.50        70\n",
      "weighted avg       0.55      0.51      0.50        70\n",
      "\n"
     ]
    },
    {
     "data": {
      "image/png": "[encoded data removed]",
      "text/plain": [
       "<Figure size 640x480 with 2 Axes>"
      ]
     },
     "metadata": {},
     "output_type": "display_data"
    }
   ],
   "source": [
    "pipeline = Pipeline(\n",
    "    [\n",
    "        (\n",
    "            \"model\",\n",
    "            RandomForestClassifier(\n",
    "                max_depth=study.best_params[\"max_depth\"],\n",
    "                max_features=study.best_params[\"max_features\"],\n",
    "                min_samples_leaf=study.best_params[\"min_samples_leaf\"],\n",
    "                min_samples_split=study.best_params[\"min_samples_split\"],\n",
    "                n_estimators=study.best_params[\"n_estimators\"],\n",
    "                random_state=42,\n",
    "                n_jobs=-1,\n",
    "            ),\n",
    "        ),\n",
    "    ]\n",
    ")\n",
    "\n",
    "# считаем метрики на кросс валидации\n",
    "metric, _ = calc_metrics(\n",
    "    embeddings,\n",
    "    y,\n",
    "    pipeline,\n",
    "    name=\"Sentence transformer (chunk)\",\n",
    "    plot=True,\n",
    "    calc_jobs=-1,\n",
    ")"
   ]
  },
  {
   "cell_type": "code",
   "execution_count": 16,
   "id": "cc5cdbc2",
   "metadata": {},
   "outputs": [
    {
     "data": {
      "text/html": [
       "<div>\n",
       "<style scoped>\n",
       "    .dataframe tbody tr th:only-of-type {\n",
       "        vertical-align: middle;\n",
       "    }\n",
       "\n",
       "    .dataframe tbody tr th {\n",
       "        vertical-align: top;\n",
       "    }\n",
       "\n",
       "    .dataframe thead th {\n",
       "        text-align: right;\n",
       "    }\n",
       "</style>\n",
       "<table border=\"1\" class=\"dataframe\">\n",
       "  <thead>\n",
       "    <tr style=\"text-align: right;\">\n",
       "      <th></th>\n",
       "      <th>accuracy</th>\n",
       "      <th>f1</th>\n",
       "      <th>recall</th>\n",
       "      <th>precision</th>\n",
       "      <th>roc_auc_ovr</th>\n",
       "      <th>roc_auc_ovo</th>\n",
       "    </tr>\n",
       "  </thead>\n",
       "  <tbody>\n",
       "    <tr>\n",
       "      <th>MLP TF-IDF</th>\n",
       "      <td>0.671429</td>\n",
       "      <td>0.675072</td>\n",
       "      <td>0.679416</td>\n",
       "      <td>0.671795</td>\n",
       "      <td>0.755827</td>\n",
       "      <td>0.759868</td>\n",
       "    </tr>\n",
       "    <tr>\n",
       "      <th>MLP TF-IDF + feature selection</th>\n",
       "      <td>0.614286</td>\n",
       "      <td>0.615343</td>\n",
       "      <td>0.615343</td>\n",
       "      <td>0.615343</td>\n",
       "      <td>0.715193</td>\n",
       "      <td>0.717330</td>\n",
       "    </tr>\n",
       "    <tr>\n",
       "      <th>CNN Word2Vec</th>\n",
       "      <td>0.585714</td>\n",
       "      <td>0.592803</td>\n",
       "      <td>0.578130</td>\n",
       "      <td>0.629426</td>\n",
       "      <td>0.694751</td>\n",
       "      <td>0.699371</td>\n",
       "    </tr>\n",
       "    <tr>\n",
       "      <th>CNN Word2Vec pretrained</th>\n",
       "      <td>0.614286</td>\n",
       "      <td>0.620742</td>\n",
       "      <td>0.618394</td>\n",
       "      <td>0.623522</td>\n",
       "      <td>0.743324</td>\n",
       "      <td>0.749373</td>\n",
       "    </tr>\n",
       "    <tr>\n",
       "      <th>CNN Glove pretrained</th>\n",
       "      <td>0.585714</td>\n",
       "      <td>0.582286</td>\n",
       "      <td>0.580255</td>\n",
       "      <td>0.595725</td>\n",
       "      <td>0.673426</td>\n",
       "      <td>0.674969</td>\n",
       "    </tr>\n",
       "    <tr>\n",
       "      <th>CNN OHE</th>\n",
       "      <td>0.642857</td>\n",
       "      <td>0.653439</td>\n",
       "      <td>0.650430</td>\n",
       "      <td>0.658711</td>\n",
       "      <td>0.776107</td>\n",
       "      <td>0.782336</td>\n",
       "    </tr>\n",
       "    <tr>\n",
       "      <th>CNN tf-idf</th>\n",
       "      <td>0.671429</td>\n",
       "      <td>0.677982</td>\n",
       "      <td>0.682467</td>\n",
       "      <td>0.674573</td>\n",
       "      <td>0.764051</td>\n",
       "      <td>0.769750</td>\n",
       "    </tr>\n",
       "    <tr>\n",
       "      <th>Sentence transformer</th>\n",
       "      <td>0.657143</td>\n",
       "      <td>0.666792</td>\n",
       "      <td>0.659747</td>\n",
       "      <td>0.678241</td>\n",
       "      <td>0.823455</td>\n",
       "      <td>0.831890</td>\n",
       "    </tr>\n",
       "    <tr>\n",
       "      <th>Sentence transformer (chunk)</th>\n",
       "      <td>0.514286</td>\n",
       "      <td>0.502323</td>\n",
       "      <td>0.494388</td>\n",
       "      <td>0.564130</td>\n",
       "      <td>0.724105</td>\n",
       "      <td>0.729024</td>\n",
       "    </tr>\n",
       "  </tbody>\n",
       "</table>\n",
       "</div>"
      ],
      "text/plain": [
       "                                accuracy        f1    recall  precision  \\\n",
       "MLP TF-IDF                      0.671429  0.675072  0.679416   0.671795   \n",
       "MLP TF-IDF + feature selection  0.614286  0.615343  0.615343   0.615343   \n",
       "CNN Word2Vec                    0.585714  0.592803  0.578130   0.629426   \n",
       "CNN Word2Vec pretrained         0.614286  0.620742  0.618394   0.623522   \n",
       "CNN Glove pretrained            0.585714  0.582286  0.580255   0.595725   \n",
       "CNN OHE                         0.642857  0.653439  0.650430   0.658711   \n",
       "CNN tf-idf                      0.671429  0.677982  0.682467   0.674573   \n",
       "Sentence transformer            0.657143  0.666792  0.659747   0.678241   \n",
       "Sentence transformer (chunk)    0.514286  0.502323  0.494388   0.564130   \n",
       "\n",
       "                                roc_auc_ovr  roc_auc_ovo  \n",
       "MLP TF-IDF                         0.755827     0.759868  \n",
       "MLP TF-IDF + feature selection     0.715193     0.717330  \n",
       "CNN Word2Vec                       0.694751     0.699371  \n",
       "CNN Word2Vec pretrained            0.743324     0.749373  \n",
       "CNN Glove pretrained               0.673426     0.674969  \n",
       "CNN OHE                            0.776107     0.782336  \n",
       "CNN tf-idf                         0.764051     0.769750  \n",
       "Sentence transformer               0.823455     0.831890  \n",
       "Sentence transformer (chunk)       0.724105     0.729024  "
      ]
     },
     "execution_count": 16,
     "metadata": {},
     "output_type": "execute_result"
    }
   ],
   "source": [
    "metrics = pd.concat([metrics, metric], axis=0)\n",
    "metrics"
   ]
  },
  {
   "cell_type": "code",
   "execution_count": 17,
   "id": "3b1c595d",
   "metadata": {},
   "outputs": [],
   "source": [
    "metrics.to_csv('metrics.csv')"
   ]
  },
  {
   "cell_type": "markdown",
   "id": "910e098c",
   "metadata": {},
   "source": [
    "Такая же модель использующая только первые 512 токенов, показала качетсво значительно выше. Возможно причина в том, что самая важная информация находится в начале пресс-релиза, а добавление остального текста вносит только шум."
   ]
  },
  {
   "cell_type": "markdown",
   "id": "4bc1e3e6",
   "metadata": {},
   "source": []
  }
 ],
 "metadata": {
  "kernelspec": {
   "display_name": "ml_yp",
   "language": "python",
   "name": "python3"
  },
  "language_info": {
   "codemirror_mode": {
    "name": "ipython",
    "version": 3
   },
   "file_extension": ".py",
   "mimetype": "text/x-python",
   "name": "python",
   "nbconvert_exporter": "python",
   "pygments_lexer": "ipython3",
   "version": "3.12.3"
  }
 },
 "nbformat": 4,
 "nbformat_minor": 5
}
