{
 "cells": [
  {
   "cell_type": "markdown",
   "id": "c68507b6",
   "metadata": {},
   "source": [
    "В данном ноутбуке представлены эксперименты с использованием сверточных нейронных сетей."
   ]
  },
  {
   "cell_type": "code",
   "execution_count": 1,
   "id": "72fe5845",
   "metadata": {},
   "outputs": [
    {
     "name": "stderr",
     "output_type": "stream",
     "text": [
      "Intel(R) Extension for Scikit-learn* enabled (https://github.com/intel/scikit-learn-intelex)\n"
     ]
    }
   ],
   "source": [
    "from sklearnex import patch_sklearn\n",
    "patch_sklearn()\n",
    "\n",
    "import re\n",
    "import sys\n",
    "import os\n",
    "\n",
    "import numpy as np\n",
    "from tqdm import tqdm\n",
    "import pandas as pd\n",
    "from pymystem3 import Mystem\n",
    "from nltk.corpus import stopwords\n",
    "from sklearn.feature_extraction.text import TfidfVectorizer\n",
    "from sklearn.preprocessing import LabelEncoder\n",
    "from gensim.models import word2vec\n",
    "from matplotlib import pyplot as plt\n",
    "from torch.utils.data import DataLoader, TensorDataset\n",
    "import torch.nn as nn\n",
    "import torch.nn.functional as F\n",
    "import torch.optim as optim\n",
    "import torch\n",
    "import seaborn as sns\n",
    "import warnings\n",
    "\n",
    "from sklearn.metrics import (\n",
    "    accuracy_score,\n",
    "    f1_score,\n",
    "    recall_score,\n",
    "    precision_score,\n",
    "    roc_auc_score,\n",
    "    confusion_matrix,\n",
    "    classification_report,\n",
    ")\n",
    "\n",
    "# Добавляем в path вышестоящую директорию для импорта  calc_metrics\n",
    "sys.path.append(os.path.abspath(os.path.join(\"..\")))\n",
    "\n",
    "from utils import calc_metrics\n",
    "from word2vec_utils import Word2VecVectorizer, Word2VecTfIdfVectorizer\n",
    "\n",
    "RANDOM_STATE = 41825352\n",
    "\n",
    "sns.set_style(\"whitegrid\")\n",
    "warnings.filterwarnings('ignore')\n",
    "\n",
    "torch.set_float32_matmul_precision('medium')"
   ]
  },
  {
   "cell_type": "markdown",
   "id": "5fb1acf7",
   "metadata": {},
   "source": [
    "Загрузим данные которые были предобработаны в ноутбуке `min_baseline.ipynb`."
   ]
  },
  {
   "cell_type": "code",
   "execution_count": 2,
   "id": "ed2dc792",
   "metadata": {},
   "outputs": [],
   "source": [
    "X = pd.read_csv(\"../data/x.csv\", index_col=\"date\")\n",
    "y = pd.read_csv(\"../data/y.csv\", index_col=\"date\").iloc[:, 0]"
   ]
  },
  {
   "cell_type": "markdown",
   "id": "bb228418",
   "metadata": {},
   "source": [
    "Предобработаем тексты пресс-релизов."
   ]
  },
  {
   "cell_type": "code",
   "execution_count": 3,
   "id": "77c1b2aa",
   "metadata": {},
   "outputs": [],
   "source": [
    "# инициализируем лемматизатор\n",
    "mystem = Mystem()\n",
    "\n",
    "# загружаем стоп-слова\n",
    "STOP_WORDS = set(stopwords.words(\"russian\"))\n",
    "\n",
    "\n",
    "# функция для препроцессинга текста\n",
    "def preprocessor(text):\n",
    "\n",
    "    # приводим к нижнему регистру\n",
    "    text = text.lower()\n",
    "\n",
    "    # удаляем все символы, кроме пробелов и русских букв.\n",
    "    regex = re.compile(\"[^а-я А-ЯЁё]\")\n",
    "    text = regex.sub(\" \", text)\n",
    "\n",
    "    # лемматизируем тексты\n",
    "    text = \" \".join(mystem.lemmatize(text))\n",
    "\n",
    "    # удаляем стоп-слова\n",
    "    text = \" \".join([word for word in text.split() if word not in STOP_WORDS])\n",
    "    return text\n",
    "\n",
    "\n",
    "Xpreproc = X.release.apply(preprocessor)"
   ]
  },
  {
   "cell_type": "markdown",
   "id": "8544a98e",
   "metadata": {},
   "source": [
    "### Word2Vec\n",
    "\n",
    "Обучим Word2Vec на нашем датасете и подготовим эмбеддинги. Сеть будет принимать на вход тензор размерность `batch_size x max_sent_len x embedding_size`, где `max_send_len` - число токенов в самом длинном тексте. Остальные тексты должны быть дополнены до данного размера при помощи отдельного токена."
   ]
  },
  {
   "cell_type": "code",
   "execution_count": 4,
   "id": "0eb4ba66",
   "metadata": {},
   "outputs": [],
   "source": [
    "PADDING_TOKEN = '<pad>' # токен для паддинга\n",
    "EMBEDDING_SIZE = 50\n",
    "\n",
    "# добавляем токен в каждый текст, чтобы w2v при обучении запомнил его\n",
    "data = Xpreproc.str.split().apply(lambda x: x + [PADDING_TOKEN])\n",
    "w2v = word2vec.Word2Vec(data, window=5, workers=1, sg=0, vector_size=EMBEDDING_SIZE, seed=RANDOM_STATE)"
   ]
  },
  {
   "cell_type": "code",
   "execution_count": 5,
   "id": "cd14c805",
   "metadata": {},
   "outputs": [],
   "source": [
    "class EmbeddingVectors:\n",
    "    \"\"\"\n",
    "    Контейнер для эмбеддингов всех слов из словаря\n",
    "    \"\"\"\n",
    "    def __init__(self, vectors, padding_idx=None):\n",
    "        self.vectors = vectors\n",
    "        self.padding_idx = padding_idx\n",
    "        self._size = vectors.shape[1]\n",
    "\n",
    "    @property\n",
    "    def size(self):\n",
    "        return self._size\n",
    "\n",
    "    @staticmethod\n",
    "    def from_w2v(w2v: word2vec.Word2Vec, padding_token):\n",
    "        return EmbeddingVectors(w2v.vectors, w2v.get_index(padding_token) if padding_token else None)"
   ]
  },
  {
   "cell_type": "markdown",
   "id": "aaf3be06",
   "metadata": {},
   "source": [
    "Ниже представлена сверточная модель, реализованная по [Zhang, 2015](https://arxiv.org/abs/1510.03820)."
   ]
  },
  {
   "cell_type": "code",
   "execution_count": 6,
   "id": "21ccddd9",
   "metadata": {},
   "outputs": [],
   "source": [
    "class CnnTextClassifier(nn.Module):\n",
    "    def __init__(self, embeddings, num_classes, window_sizes=(3, 4, 5), num_filters=256):\n",
    "        super(CnnTextClassifier, self).__init__()\n",
    "        \n",
    "        self.embedding = nn.Embedding.from_pretrained(\n",
    "            torch.FloatTensor(embeddings.vectors),\n",
    "            padding_idx=embeddings.padding_idx,\n",
    "        )\n",
    "        \n",
    "        self.convs = nn.ModuleList([\n",
    "            nn.Conv2d(1, num_filters, (window_size, embeddings.size), padding=(window_size - 1, 0))\n",
    "            for window_size in window_sizes\n",
    "        ])\n",
    "\n",
    "        self.head = nn.Sequential(\n",
    "            nn.Flatten(),\n",
    "            nn.Dropout(p=0.5),\n",
    "            nn.Linear(num_filters * len(window_sizes), num_classes),\n",
    "        )\n",
    "\n",
    "    def forward(self, x):\n",
    "        x = self.embedding(x)\n",
    "\n",
    "        if len(x.size()) < 4:\n",
    "            x = torch.unsqueeze(x, 1)\n",
    "        \n",
    "        xs = []\n",
    "        for conv in self.convs:\n",
    "            x2 = torch.relu(conv(x)).squeeze(-1)\n",
    "            x2 = F.max_pool1d(x2, x2.size(2))\n",
    "            xs.append(x2)\n",
    "        \n",
    "        x = torch.cat(xs, dim=2)\n",
    "\n",
    "        logits = self.head(x)\n",
    "        probs = F.softmax(logits, dim=1)\n",
    "\n",
    "        return probs"
   ]
  },
  {
   "cell_type": "markdown",
   "id": "3c34106b",
   "metadata": {},
   "source": [
    "Далее преобразуем слова каждого текста в индексы из словаря Word2Vec, кодируем целевую переменную (для работы с `CrossEntropyLoss`)."
   ]
  },
  {
   "cell_type": "code",
   "execution_count": 7,
   "id": "f882d719",
   "metadata": {},
   "outputs": [],
   "source": [
    "def make_word2vec_vector_cnn(sentence, wv, padding_idx, max_len):\n",
    "    padded_X = [padding_idx for i in range(max_len)]\n",
    "    i = 0\n",
    "    for word in sentence:\n",
    "        if word not in wv:\n",
    "            padded_X[i] = 0\n",
    "        else:\n",
    "            padded_X[i] = wv.get_index(word)\n",
    "        i += 1\n",
    "    return torch.tensor(padded_X, dtype=torch.long).view(1, -1)"
   ]
  },
  {
   "cell_type": "code",
   "execution_count": 13,
   "id": "114e215c",
   "metadata": {},
   "outputs": [],
   "source": [
    "device = torch.device(\"cuda\" if torch.cuda.is_available() else \"cpu\")\n",
    "padding_idx = w2v.wv.get_index(PADDING_TOKEN)\n",
    "max_len = data.apply(len).max()\n",
    "\n",
    "target_enc = LabelEncoder()\n",
    "y_enc = target_enc.fit_transform(y)\n",
    "\n",
    "data1 = torch.stack(data.apply(lambda x: make_word2vec_vector_cnn(x, w2v.wv, padding_idx, max_len)).tolist()).squeeze(1).to(device)\n",
    "y1 = torch.tensor(y_enc, dtype=torch.long).to(device)"
   ]
  },
  {
   "cell_type": "markdown",
   "id": "a68453b5",
   "metadata": {},
   "source": [
    "Наконец, обучим модель:"
   ]
  },
  {
   "cell_type": "code",
   "execution_count": 14,
   "id": "fb3325d1",
   "metadata": {},
   "outputs": [],
   "source": [
    "def train(X, y, num_epochs, factory, start_from=30):\n",
    "    y_preds = []\n",
    "    y_preds_proba = []\n",
    "\n",
    "    prog = tqdm(range(start_from, len(y)))\n",
    "    for threshold in prog:\n",
    "        ds = TensorDataset(X[:threshold], y[:threshold])\n",
    "        dl = DataLoader(ds, 32, shuffle=False)\n",
    "        \n",
    "        cnn_model, optimizer, scheduler = factory()\n",
    "        cnn_model.to(device)\n",
    "        loss_function = nn.CrossEntropyLoss()\n",
    "\n",
    "        cnn_model.train()\n",
    "        for epoch in range(num_epochs):\n",
    "            for bx, by in dl:\n",
    "                cnn_model.zero_grad()\n",
    "                probs = cnn_model(bx)\n",
    "                loss = loss_function(probs, by)\n",
    "                loss.backward()\n",
    "                optimizer.step()\n",
    "\n",
    "            if scheduler:\n",
    "                scheduler.step()\n",
    "            if epoch % 20 == 0:\n",
    "                prog.set_postfix_str(f'loss = {loss.item()}, lr = {optimizer.param_groups[0]['lr']}')\n",
    "\n",
    "        cnn_model.eval()\n",
    "        probs = cnn_model(X[threshold:threshold+1])\n",
    "        pred = torch.argmax(probs)\n",
    "        y_preds_proba.append(probs.detach().cpu().numpy().reshape(-1))\n",
    "        y_preds.append(pred.detach().cpu().numpy().item())\n",
    "\n",
    "    return np.array(y_preds), np.array(y_preds_proba)"
   ]
  },
  {
   "cell_type": "code",
   "execution_count": 15,
   "id": "0e0fe4f3",
   "metadata": {},
   "outputs": [
    {
     "name": "stderr",
     "output_type": "stream",
     "text": [
      "100%|██████████| 69/69 [24:53<00:00, 21.64s/it, loss = 0.5514559745788574, lr = 1e-05] \n"
     ]
    }
   ],
   "source": [
    "def create_model():\n",
    "    embeddings = EmbeddingVectors.from_w2v(w2v.wv, PADDING_TOKEN)\n",
    "    cnn_model = CnnTextClassifier(embeddings, num_classes=3)\n",
    "    optimizer = optim.AdamW(cnn_model.parameters(), lr=0.001, fused=True)\n",
    "    scheduler = optim.lr_scheduler.MultiStepLR(optimizer, milestones=[500, 800])\n",
    "    return cnn_model, optimizer, scheduler\n",
    "\n",
    "\n",
    "num_epochs = 1000\n",
    "y_preds, y_preds_proba = train(data1, y1, num_epochs, create_model)"
   ]
  },
  {
   "cell_type": "markdown",
   "id": "ca6f0b65",
   "metadata": {},
   "source": [
    "Посмотрим на получившиеся метрики:"
   ]
  },
  {
   "cell_type": "code",
   "execution_count": 16,
   "id": "df9e3b50",
   "metadata": {},
   "outputs": [],
   "source": [
    "def print_metrics(name, y, y_preds, y_preds_proba, start_from=30):\n",
    "    y = y[start_from:]\n",
    "    acc = accuracy_score(y, y_preds)\n",
    "    f1 = f1_score(y, y_preds, average=\"macro\")\n",
    "    recall = recall_score(y, y_preds, average=\"macro\")\n",
    "    precision = precision_score(y, y_preds, average=\"macro\")\n",
    "    roc_auc_ovr = roc_auc_score(y, y_preds_proba, average=\"macro\", multi_class=\"ovr\")\n",
    "    roc_auc_ovo = roc_auc_score(y, y_preds_proba, average=\"macro\", multi_class=\"ovo\")\n",
    "\n",
    "    print(classification_report(y, y_preds))\n",
    "    cm = confusion_matrix(y, y_preds)\n",
    "    cm = pd.DataFrame(cm, index=[\"-1\", \"0\", \"1\"], columns=[\"-1\", \"0\", \"1\"])\n",
    "    sns.heatmap(cm, annot=True, fmt=\"d\")\n",
    "    plt.title(\"Confusion matrix\")\n",
    "    plt.ylabel(\"True label\")\n",
    "    plt.xlabel(\"Predicted label\")\n",
    "    plt.show()\n",
    "\n",
    "    return pd.DataFrame({\n",
    "        'accuracy': acc,\n",
    "        'f1': f1,\n",
    "        'recall': recall,\n",
    "        'precision': precision,\n",
    "        'roc_auc_ovr': roc_auc_ovr,\n",
    "        'roc_auc_ovo': roc_auc_ovo,\n",
    "        }, index=[name])"
   ]
  },
  {
   "cell_type": "code",
   "execution_count": 17,
   "id": "a9611e4d",
   "metadata": {},
   "outputs": [
    {
     "name": "stdout",
     "output_type": "stream",
     "text": [
      "              precision    recall  f1-score   support\n",
      "\n",
      "        -1.0       0.57      0.52      0.55        23\n",
      "         0.0       0.44      0.56      0.49        27\n",
      "         1.0       0.64      0.47      0.55        19\n",
      "\n",
      "    accuracy                           0.52        69\n",
      "   macro avg       0.55      0.52      0.53        69\n",
      "weighted avg       0.54      0.52      0.52        69\n",
      "\n"
     ]
    },
    {
     "data": {
      "image/png": "[encoded data removed]",
      "text/plain": [
       "<Figure size 640x480 with 2 Axes>"
      ]
     },
     "metadata": {},
     "output_type": "display_data"
    },
    {
     "data": {
      "text/html": [
       "<div>\n",
       "<style scoped>\n",
       "    .dataframe tbody tr th:only-of-type {\n",
       "        vertical-align: middle;\n",
       "    }\n",
       "\n",
       "    .dataframe tbody tr th {\n",
       "        vertical-align: top;\n",
       "    }\n",
       "\n",
       "    .dataframe thead th {\n",
       "        text-align: right;\n",
       "    }\n",
       "</style>\n",
       "<table border=\"1\" class=\"dataframe\">\n",
       "  <thead>\n",
       "    <tr style=\"text-align: right;\">\n",
       "      <th></th>\n",
       "      <th>accuracy</th>\n",
       "      <th>f1</th>\n",
       "      <th>recall</th>\n",
       "      <th>precision</th>\n",
       "      <th>roc_auc_ovr</th>\n",
       "      <th>roc_auc_ovo</th>\n",
       "    </tr>\n",
       "  </thead>\n",
       "  <tbody>\n",
       "    <tr>\n",
       "      <th>CNN Word2Vec</th>\n",
       "      <td>0.521739</td>\n",
       "      <td>0.527571</td>\n",
       "      <td>0.516993</td>\n",
       "      <td>0.551821</td>\n",
       "      <td>0.699277</td>\n",
       "      <td>0.706204</td>\n",
       "    </tr>\n",
       "  </tbody>\n",
       "</table>\n",
       "</div>"
      ],
      "text/plain": [
       "              accuracy        f1    recall  precision  roc_auc_ovr  \\\n",
       "CNN Word2Vec  0.521739  0.527571  0.516993   0.551821     0.699277   \n",
       "\n",
       "              roc_auc_ovo  \n",
       "CNN Word2Vec     0.706204  "
      ]
     },
     "execution_count": 17,
     "metadata": {},
     "output_type": "execute_result"
    }
   ],
   "source": [
    "print_metrics('CNN Word2Vec', y, target_enc.inverse_transform(y_preds), y_preds_proba)"
   ]
  },
  {
   "cell_type": "markdown",
   "id": "fb0e1129",
   "metadata": {},
   "source": [
    "Качество модели не слишком высокое в сравнении даже с линейными моделями."
   ]
  },
  {
   "cell_type": "markdown",
   "id": "a451d6c1",
   "metadata": {},
   "source": [
    "### Word2Vec Pretrained\n",
    "\n",
    "TODO ..."
   ]
  },
  {
   "cell_type": "code",
   "execution_count": 12,
   "id": "afb63259",
   "metadata": {},
   "outputs": [],
   "source": [
    "import gensim.downloader as api\n",
    "from pymorphy3 import MorphAnalyzer\n",
    "\n",
    "w2v_ruscorpora = api.load('word2vec-ruscorpora-300')\n",
    "\n",
    "# функция для добавления части речи к словам\n",
    "def tag(words):\n",
    "    morph = MorphAnalyzer()\n",
    "    parts = [str(morph.parse(word)[0].tag.POS) for word in words]\n",
    "    return [word + '_' + part for word, part in zip(words, parts)]\n",
    "\n",
    "data = Xpreproc.str.split().apply(tag)"
   ]
  },
  {
   "cell_type": "code",
   "execution_count": 13,
   "id": "f8608076",
   "metadata": {},
   "outputs": [],
   "source": [
    "padding_idx = 9999\n",
    "max_len = data.apply(len).max()\n",
    "\n",
    "data1 = torch.stack(data.apply(lambda x: make_word2vec_vector_cnn(x, w2v_ruscorpora, padding_idx, max_len)).tolist()).squeeze(1).to(device)"
   ]
  },
  {
   "cell_type": "code",
   "execution_count": null,
   "id": "e40eb139",
   "metadata": {},
   "outputs": [
    {
     "name": "stderr",
     "output_type": "stream",
     "text": [
      "100%|██████████| 69/69 [52:38<00:00, 45.78s/it, loss = 0.5514844655990601, lr = 1e-05] \n"
     ]
    }
   ],
   "source": [
    "def create_model():\n",
    "    embeddings = EmbeddingVectors.from_w2v(w2v_ruscorpora, w2v_ruscorpora.index_to_key[padding_idx])\n",
    "    cnn_model = CnnTextClassifier(embeddings, num_classes=3)\n",
    "    optimizer = optim.AdamW(cnn_model.parameters(), lr=0.001, fused=True)\n",
    "    scheduler = optim.lr_scheduler.MultiStepLR(optimizer, milestones=[500, 800])\n",
    "    return cnn_model, optimizer, scheduler\n",
    "\n",
    "\n",
    "num_epochs = 1000\n",
    "y_preds, y_preds_proba = train(data1, y1, num_epochs, create_model)"
   ]
  },
  {
   "cell_type": "code",
   "execution_count": 15,
   "id": "39220e7f",
   "metadata": {},
   "outputs": [
    {
     "name": "stdout",
     "output_type": "stream",
     "text": [
      "              precision    recall  f1-score   support\n",
      "\n",
      "        -1.0       0.71      0.74      0.72        23\n",
      "         0.0       0.55      0.63      0.59        27\n",
      "         1.0       0.79      0.58      0.67        19\n",
      "\n",
      "    accuracy                           0.65        69\n",
      "   macro avg       0.68      0.65      0.66        69\n",
      "weighted avg       0.67      0.65      0.65        69\n",
      "\n"
     ]
    },
    {
     "data": {
      "image/png": "[encoded data removed]",
      "text/plain": [
       "<Figure size 640x480 with 2 Axes>"
      ]
     },
     "metadata": {},
     "output_type": "display_data"
    },
    {
     "data": {
      "text/html": [
       "<div>\n",
       "<style scoped>\n",
       "    .dataframe tbody tr th:only-of-type {\n",
       "        vertical-align: middle;\n",
       "    }\n",
       "\n",
       "    .dataframe tbody tr th {\n",
       "        vertical-align: top;\n",
       "    }\n",
       "\n",
       "    .dataframe thead th {\n",
       "        text-align: right;\n",
       "    }\n",
       "</style>\n",
       "<table border=\"1\" class=\"dataframe\">\n",
       "  <thead>\n",
       "    <tr style=\"text-align: right;\">\n",
       "      <th></th>\n",
       "      <th>accuracy</th>\n",
       "      <th>f1</th>\n",
       "      <th>recall</th>\n",
       "      <th>precision</th>\n",
       "      <th>roc_auc_ovr</th>\n",
       "      <th>roc_auc_ovo</th>\n",
       "    </tr>\n",
       "  </thead>\n",
       "  <tbody>\n",
       "    <tr>\n",
       "      <th>CNN Word2Vec pretrained</th>\n",
       "      <td>0.652174</td>\n",
       "      <td>0.658759</td>\n",
       "      <td>0.649236</td>\n",
       "      <td>0.680812</td>\n",
       "      <td>0.752054</td>\n",
       "      <td>0.757494</td>\n",
       "    </tr>\n",
       "  </tbody>\n",
       "</table>\n",
       "</div>"
      ],
      "text/plain": [
       "                         accuracy        f1    recall  precision  roc_auc_ovr  \\\n",
       "CNN Word2Vec pretrained  0.652174  0.658759  0.649236   0.680812     0.752054   \n",
       "\n",
       "                         roc_auc_ovo  \n",
       "CNN Word2Vec pretrained     0.757494  "
      ]
     },
     "execution_count": 15,
     "metadata": {},
     "output_type": "execute_result"
    }
   ],
   "source": [
    "print_metrics('CNN Word2Vec pretrained', y, target_enc.inverse_transform(y_preds), y_preds_proba)"
   ]
  },
  {
   "cell_type": "markdown",
   "id": "db314eff",
   "metadata": {},
   "source": [
    "### Glove\n",
    "\n",
    "TODO ..."
   ]
  },
  {
   "cell_type": "markdown",
   "id": "f606a944",
   "metadata": {},
   "source": [
    "### 1D TF-IDF\n",
    "\n",
    "Кодирование TF-IDF также можно рассматривать в качестве векторного представления слов - только вектор получается одномерным."
   ]
  },
  {
   "cell_type": "markdown",
   "id": "e81814ca",
   "metadata": {},
   "source": [
    "TODO ..."
   ]
  },
  {
   "cell_type": "code",
   "execution_count": null,
   "id": "585e9888",
   "metadata": {},
   "outputs": [],
   "source": [
    "vectorizer = TfidfVectorizer(max_df=0.9, min_df=8)\n",
    "tf_idf = vectorizer.fit_transform(Xpreproc).todense()"
   ]
  },
  {
   "cell_type": "code",
   "execution_count": 19,
   "id": "c90d50f2",
   "metadata": {},
   "outputs": [
    {
     "ename": "NameError",
     "evalue": "name 'vectorizer' is not defined",
     "output_type": "error",
     "traceback": [
      "\u001b[1;31m---------------------------------------------------------------------------\u001b[0m",
      "\u001b[1;31mNameError\u001b[0m                                 Traceback (most recent call last)",
      "Cell \u001b[1;32mIn[19], line 8\u001b[0m\n\u001b[0;32m      5\u001b[0m \u001b[38;5;28;01mimport\u001b[39;00m\u001b[38;5;250m \u001b[39m\u001b[38;5;21;01mtorch\u001b[39;00m\n\u001b[0;32m      7\u001b[0m device \u001b[38;5;241m=\u001b[39m torch\u001b[38;5;241m.\u001b[39mdevice(\u001b[38;5;124m\"\u001b[39m\u001b[38;5;124mcuda\u001b[39m\u001b[38;5;124m\"\u001b[39m \u001b[38;5;28;01mif\u001b[39;00m torch\u001b[38;5;241m.\u001b[39mcuda\u001b[38;5;241m.\u001b[39mis_available() \u001b[38;5;28;01melse\u001b[39;00m \u001b[38;5;124m\"\u001b[39m\u001b[38;5;124mcpu\u001b[39m\u001b[38;5;124m\"\u001b[39m)\n\u001b[1;32m----> 8\u001b[0m EMBEDDING_SIZE \u001b[38;5;241m=\u001b[39m \u001b[38;5;28mlen\u001b[39m(\u001b[43mvectorizer\u001b[49m\u001b[38;5;241m.\u001b[39mvocabulary_)\n\u001b[0;32m     10\u001b[0m \u001b[38;5;66;03m# https://chriskhanhtran.github.io/posts/cnn-sentence-classification/#31-create-cnn-model\u001b[39;00m\n\u001b[0;32m     12\u001b[0m \u001b[38;5;28;01mclass\u001b[39;00m\u001b[38;5;250m \u001b[39m\u001b[38;5;21;01mCnnTextClassifier\u001b[39;00m(nn\u001b[38;5;241m.\u001b[39mModule):\n",
      "\u001b[1;31mNameError\u001b[0m: name 'vectorizer' is not defined"
     ]
    }
   ],
   "source": [
    "import torch.nn as nn\n",
    "import torch.nn.functional as F\n",
    "import torch.optim as optim\n",
    "import gensim\n",
    "import torch\n",
    "\n",
    "device = torch.device(\"cuda\" if torch.cuda.is_available() else \"cpu\")\n",
    "EMBEDDING_SIZE = len(vectorizer.vocabulary_)\n",
    "\n",
    "# https://chriskhanhtran.github.io/posts/cnn-sentence-classification/#31-create-cnn-model\n",
    "\n",
    "class CnnTextClassifier(nn.Module):\n",
    "    def __init__(self, num_classes, window_sizes=(2,3,5,7)):\n",
    "        super(CnnTextClassifier, self).__init__()\n",
    "        \n",
    "        self.convs = nn.ModuleList([\n",
    "            nn.Conv2d(1, 64, [window_size, EMBEDDING_SIZE], padding=(window_size - 1, 0))\n",
    "            for window_size in window_sizes\n",
    "        ])\n",
    "\n",
    "        self.fc = nn.Linear(64 * len(window_sizes), num_classes)\n",
    "        self.dropout = nn.Dropout(p=0.3)\n",
    "\n",
    "    def forward(self, x):\n",
    "        if len(x.size()) < 4:\n",
    "            x = torch.unsqueeze(x, 1)\n",
    "        xs = []\n",
    "        for conv in self.convs:\n",
    "            x2 = torch.relu(conv(x))\n",
    "            x2 = torch.squeeze(x2, -1)\n",
    "            x2 = F.max_pool1d(x2, x2.size(2))\n",
    "            xs.append(x2)\n",
    "        x = torch.cat(xs, 2)\n",
    "\n",
    "        x = x.view(x.size(0), -1)\n",
    "        logits = self.fc(self.dropout(x))\n",
    "\n",
    "        probs = F.softmax(logits, dim=1)\n",
    "\n",
    "        return probs"
   ]
  },
  {
   "cell_type": "code",
   "execution_count": null,
   "id": "4ca11604",
   "metadata": {},
   "outputs": [],
   "source": [
    "def make_target(label):\n",
    "    return torch.tensor([int(label)+1], dtype=torch.long, device=device)\n",
    "\n",
    "y1 = torch.stack(y.apply(make_target).tolist()).squeeze().to(device)\n",
    "data1 = torch.tensor(tf_idf, dtype=torch.float).unsqueeze(1).to(device)"
   ]
  },
  {
   "cell_type": "code",
   "execution_count": 18,
   "id": "dfa05801",
   "metadata": {},
   "outputs": [
    {
     "name": "stderr",
     "output_type": "stream",
     "text": [
      "  0%|          | 0/69 [00:00<?, ?it/s]\n"
     ]
    },
    {
     "ename": "TypeError",
     "evalue": "CnnTextClassifier.__init__() missing 1 required positional argument: 'embeddings'",
     "output_type": "error",
     "traceback": [
      "\u001b[1;31m---------------------------------------------------------------------------\u001b[0m",
      "\u001b[1;31mTypeError\u001b[0m                                 Traceback (most recent call last)",
      "Cell \u001b[1;32mIn[18], line 8\u001b[0m\n\u001b[0;32m      6\u001b[0m prog \u001b[38;5;241m=\u001b[39m tqdm(\u001b[38;5;28mrange\u001b[39m(\u001b[38;5;241m30\u001b[39m, \u001b[38;5;28mlen\u001b[39m(y)))\n\u001b[0;32m      7\u001b[0m \u001b[38;5;28;01mfor\u001b[39;00m threshold \u001b[38;5;129;01min\u001b[39;00m prog:\n\u001b[1;32m----> 8\u001b[0m     cnn_model \u001b[38;5;241m=\u001b[39m \u001b[43mCnnTextClassifier\u001b[49m\u001b[43m(\u001b[49m\u001b[43mnum_classes\u001b[49m\u001b[38;5;241;43m=\u001b[39;49m\u001b[38;5;241;43m3\u001b[39;49m\u001b[43m)\u001b[49m\n\u001b[0;32m      9\u001b[0m     cnn_model\u001b[38;5;241m.\u001b[39mto(device)\n\u001b[0;32m     10\u001b[0m     loss_function \u001b[38;5;241m=\u001b[39m nn\u001b[38;5;241m.\u001b[39mCrossEntropyLoss()\n",
      "\u001b[1;31mTypeError\u001b[0m: CnnTextClassifier.__init__() missing 1 required positional argument: 'embeddings'"
     ]
    }
   ],
   "source": [
    "num_epochs = 1000\n",
    "\n",
    "y_preds = []\n",
    "y_preds_proba = []\n",
    "\n",
    "prog = tqdm(range(30, len(y)))\n",
    "for threshold in prog:\n",
    "    cnn_model = CnnTextClassifier(num_classes=3)\n",
    "    cnn_model.to(device)\n",
    "    loss_function = nn.CrossEntropyLoss()\n",
    "    optimizer = optim.AdamW(cnn_model.parameters(), lr=0.001, fused=True)\n",
    "    scheduler = optim.lr_scheduler.MultiStepLR(optimizer, milestones=[500, 800])\n",
    "    \n",
    "    cnn_model.train()\n",
    "    for epoch in range(num_epochs):\n",
    "        cnn_model.zero_grad()\n",
    "        bow_vec = data1[:threshold]\n",
    "        probs = cnn_model(bow_vec)\n",
    "        target = y1[:threshold]\n",
    "        loss = loss_function(probs, target)\n",
    "        loss.backward()\n",
    "        optimizer.step()\n",
    "        scheduler.step()\n",
    "        if epoch % 20 == 0:\n",
    "            prog.set_postfix_str(f'loss = {loss.item()}, lr = {optimizer.param_groups[0]['lr']}')\n",
    "\n",
    "    cnn_model.eval()\n",
    "    bow_vec = data1[threshold:threshold+1]\n",
    "    probs = cnn_model(bow_vec)\n",
    "    pred = torch.argmax(probs) - 1\n",
    "    y_preds_proba.append(probs.detach().cpu().numpy())\n",
    "    y_preds.append(pred.detach().cpu().numpy().item())"
   ]
  },
  {
   "cell_type": "code",
   "execution_count": null,
   "id": "7d0328bf",
   "metadata": {},
   "outputs": [
    {
     "data": {
      "text/plain": [
       "0.6811594202898551"
      ]
     },
     "metadata": {},
     "output_type": "display_data"
    }
   ],
   "source": [
    "from sklearn.metrics import (\n",
    "    accuracy_score,\n",
    "    f1_score,\n",
    "    recall_score,\n",
    "    precision_score,\n",
    "    roc_auc_score,\n",
    "    confusion_matrix,\n",
    "    classification_report,\n",
    ")\n",
    "\n",
    "accuracy_score(y_preds, y[30:])"
   ]
  },
  {
   "cell_type": "code",
   "execution_count": null,
   "id": "e33a779a",
   "metadata": {},
   "outputs": [
    {
     "data": {
      "text/plain": [
       "0.759118004350651"
      ]
     },
     "metadata": {},
     "output_type": "display_data"
    }
   ],
   "source": [
    "roc_auc_score(\n",
    "    y[30:],\n",
    "    np.concatenate(y_preds_proba, axis=0),\n",
    "    average=\"macro\",\n",
    "    multi_class=\"ovo\",\n",
    ")"
   ]
  },
  {
   "cell_type": "code",
   "execution_count": null,
   "id": "1cf65d46",
   "metadata": {},
   "outputs": [
    {
     "name": "stdout",
     "output_type": "stream",
     "text": [
      "              precision    recall  f1-score   support\n",
      "\n",
      "          -1       0.78      0.69      0.73        26\n",
      "           0       0.56      0.60      0.58        25\n",
      "           1       0.74      0.78      0.76        18\n",
      "\n",
      "    accuracy                           0.68        69\n",
      "   macro avg       0.69      0.69      0.69        69\n",
      "weighted avg       0.69      0.68      0.68        69\n",
      "\n"
     ]
    }
   ],
   "source": [
    "print(classification_report(y_preds, y[30:]))"
   ]
  },
  {
   "cell_type": "code",
   "execution_count": null,
   "id": "a1830af9",
   "metadata": {},
   "outputs": [
    {
     "data": {
      "text/plain": [
       "array([[18,  8,  0],\n",
       "       [ 5, 15,  5],\n",
       "       [ 0,  4, 14]], dtype=int64)"
      ]
     },
     "metadata": {},
     "output_type": "display_data"
    }
   ],
   "source": [
    "confusion_matrix(y_preds, y[30:])"
   ]
  },
  {
   "cell_type": "code",
   "execution_count": null,
   "id": "3197b521",
   "metadata": {},
   "outputs": [],
   "source": []
  }
 ],
 "metadata": {
  "kernelspec": {
   "display_name": "ml_yp",
   "language": "python",
   "name": "python3"
  },
  "language_info": {
   "codemirror_mode": {
    "name": "ipython",
    "version": 3
   },
   "file_extension": ".py",
   "mimetype": "text/x-python",
   "name": "python",
   "nbconvert_exporter": "python",
   "pygments_lexer": "ipython3",
   "version": "3.12.3"
  }
 },
 "nbformat": 4,
 "nbformat_minor": 5
}
