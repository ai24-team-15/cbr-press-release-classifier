{
 "cells": [
  {
   "cell_type": "markdown",
   "id": "c68507b6",
   "metadata": {},
   "source": [
    "В данном ноутбуке представлены эксперименты с использованием сверточных нейронных сетей."
   ]
  },
  {
   "cell_type": "code",
   "execution_count": 1,
   "id": "72fe5845",
   "metadata": {},
   "outputs": [
    {
     "name": "stderr",
     "output_type": "stream",
     "text": [
      "Intel(R) Extension for Scikit-learn* enabled (https://github.com/intel/scikit-learn-intelex)\n"
     ]
    }
   ],
   "source": [
    "from sklearnex import patch_sklearn\n",
    "patch_sklearn()\n",
    "\n",
    "import re\n",
    "import sys\n",
    "import os\n",
    "\n",
    "import numpy as np\n",
    "from tqdm import tqdm\n",
    "import pandas as pd\n",
    "from pymystem3 import Mystem\n",
    "from nltk.corpus import stopwords\n",
    "from sklearn.feature_extraction.text import TfidfVectorizer\n",
    "from sklearn.preprocessing import LabelEncoder\n",
    "from gensim.models import word2vec\n",
    "from pymorphy3 import MorphAnalyzer\n",
    "from matplotlib import pyplot as plt\n",
    "from torch.utils.data import DataLoader, TensorDataset\n",
    "from navec import Navec\n",
    "import gensim.downloader as api\n",
    "import torch.nn as nn\n",
    "import torch.nn.functional as F\n",
    "import torch.optim as optim\n",
    "import torch\n",
    "import seaborn as sns\n",
    "import warnings\n",
    "\n",
    "from sklearn.metrics import (\n",
    "    accuracy_score,\n",
    "    f1_score,\n",
    "    recall_score,\n",
    "    precision_score,\n",
    "    roc_auc_score,\n",
    "    confusion_matrix,\n",
    "    classification_report,\n",
    ")\n",
    "\n",
    "RANDOM_STATE = 41825352\n",
    "\n",
    "sns.set_style(\"whitegrid\")\n",
    "warnings.filterwarnings('ignore')\n",
    "\n",
    "torch.set_float32_matmul_precision('medium')\n",
    "\n",
    "device = torch.device(\"cuda\" if torch.cuda.is_available() else \"cpu\")"
   ]
  },
  {
   "cell_type": "markdown",
   "id": "5fb1acf7",
   "metadata": {},
   "source": [
    "Загрузим данные которые были предобработаны в ноутбуке `min_baseline.ipynb`."
   ]
  },
  {
   "cell_type": "code",
   "execution_count": 2,
   "id": "ed2dc792",
   "metadata": {},
   "outputs": [],
   "source": [
    "X = pd.read_csv(\"../data/x.csv\", index_col=\"date\")\n",
    "y = pd.read_csv(\"../data/y.csv\", index_col=\"date\").iloc[:, 0]\n",
    "\n",
    "metrics = pd.read_csv('metrics.csv', index_col=0)"
   ]
  },
  {
   "cell_type": "markdown",
   "id": "bb228418",
   "metadata": {},
   "source": [
    "Предобработаем тексты пресс-релизов."
   ]
  },
  {
   "cell_type": "code",
   "execution_count": 3,
   "id": "77c1b2aa",
   "metadata": {},
   "outputs": [],
   "source": [
    "# инициализируем лемматизатор\n",
    "mystem = Mystem()\n",
    "\n",
    "# загружаем стоп-слова\n",
    "STOP_WORDS = set(stopwords.words(\"russian\"))\n",
    "\n",
    "\n",
    "# функция для препроцессинга текста\n",
    "def preprocessor(text):\n",
    "\n",
    "    # приводим к нижнему регистру\n",
    "    text = text.lower()\n",
    "\n",
    "    # удаляем все символы, кроме пробелов и русских букв.\n",
    "    regex = re.compile(\"[^а-я А-ЯЁё]\")\n",
    "    text = regex.sub(\" \", text)\n",
    "\n",
    "    # лемматизируем тексты\n",
    "    text = \" \".join(mystem.lemmatize(text))\n",
    "\n",
    "    # удаляем стоп-слова\n",
    "    text = \" \".join([word for word in text.split() if word not in STOP_WORDS])\n",
    "    return text\n",
    "\n",
    "\n",
    "Xpreproc = X.release.apply(preprocessor)"
   ]
  },
  {
   "cell_type": "markdown",
   "id": "8544a98e",
   "metadata": {},
   "source": [
    "### Word2Vec\n",
    "\n",
    "Обучим Word2Vec на нашем датасете и подготовим эмбеддинги. Сеть будет принимать на вход тензор размерность `batch_size x max_sent_len x embedding_size`, где `max_send_len` - число токенов в самом длинном тексте. Остальные тексты должны быть дополнены до данного размера при помощи отдельного токена."
   ]
  },
  {
   "cell_type": "code",
   "execution_count": 4,
   "id": "0eb4ba66",
   "metadata": {},
   "outputs": [],
   "source": [
    "PADDING_TOKEN = '<pad>' # токен для паддинга\n",
    "EMBEDDING_SIZE = 50\n",
    "\n",
    "# добавляем токен в каждый текст, чтобы w2v при обучении запомнил его\n",
    "data = Xpreproc.str.split().apply(lambda x: x + [PADDING_TOKEN])\n",
    "w2v = word2vec.Word2Vec(data, window=5, workers=1, sg=0, vector_size=EMBEDDING_SIZE, seed=RANDOM_STATE)"
   ]
  },
  {
   "cell_type": "code",
   "execution_count": 5,
   "id": "cd14c805",
   "metadata": {},
   "outputs": [],
   "source": [
    "class EmbeddingVectors:\n",
    "    \"\"\"\n",
    "    Контейнер для эмбеддингов всех слов из словаря\n",
    "    \"\"\"\n",
    "    def __init__(self, vectors, padding_idx=None):\n",
    "        self.vectors = vectors\n",
    "        self.padding_idx = padding_idx\n",
    "        self._size = vectors.shape[1]\n",
    "\n",
    "    @property\n",
    "    def size(self):\n",
    "        return self._size\n",
    "\n",
    "    @staticmethod\n",
    "    def from_w2v(w2v: word2vec.Word2Vec, padding_token):\n",
    "        return EmbeddingVectors(w2v.vectors, w2v.get_index(padding_token) if padding_token else None)\n",
    "    \n",
    "    @staticmethod\n",
    "    def from_tfidf(tfidf: TfidfVectorizer):\n",
    "        return EmbeddingVectors(np.zeros((1, len(tfidf.vocabulary_))))\n",
    "    \n",
    "    @staticmethod\n",
    "    def from_navec(data):\n",
    "        return EmbeddingVectors(data.pq.unpack(), data.vocab[PADDING_TOKEN])"
   ]
  },
  {
   "cell_type": "markdown",
   "id": "aaf3be06",
   "metadata": {},
   "source": [
    "Ниже представлена сверточная модель, реализованная по [Zhang, 2015](https://arxiv.org/abs/1510.03820)."
   ]
  },
  {
   "cell_type": "code",
   "execution_count": 6,
   "id": "21ccddd9",
   "metadata": {},
   "outputs": [],
   "source": [
    "class CnnTextClassifier(nn.Module):\n",
    "    def __init__(self, embeddings, num_classes, window_sizes=(3, 4, 5), num_filters=256):\n",
    "        super().__init__()\n",
    "        \n",
    "        self.embedding = nn.Embedding.from_pretrained(\n",
    "            torch.FloatTensor(embeddings.vectors),\n",
    "            padding_idx=embeddings.padding_idx,\n",
    "        )\n",
    "        \n",
    "        self.convs = nn.ModuleList([\n",
    "            nn.Conv2d(1, num_filters, (window_size, embeddings.size), padding=(window_size - 1, 0))\n",
    "            for window_size in window_sizes\n",
    "        ])\n",
    "\n",
    "        self.head = nn.Sequential(\n",
    "            nn.Flatten(),\n",
    "            nn.Dropout(p=0.5),\n",
    "            nn.Linear(num_filters * len(window_sizes), num_classes),\n",
    "        )\n",
    "\n",
    "    def forward(self, x):\n",
    "        x = self.embedding(x)\n",
    "\n",
    "        if len(x.size()) < 4:\n",
    "            x = torch.unsqueeze(x, 1)\n",
    "        \n",
    "        xs = []\n",
    "        for conv in self.convs:\n",
    "            x2 = torch.relu(conv(x)).squeeze(-1)\n",
    "            x2 = F.max_pool1d(x2, x2.size(2))\n",
    "            xs.append(x2)\n",
    "        \n",
    "        x = torch.cat(xs, dim=2)\n",
    "\n",
    "        logits = self.head(x)\n",
    "        probs = F.softmax(logits, dim=1)\n",
    "\n",
    "        return probs"
   ]
  },
  {
   "cell_type": "markdown",
   "id": "3c34106b",
   "metadata": {},
   "source": [
    "Далее преобразуем слова каждого текста в индексы из словаря Word2Vec, кодируем целевую переменную (для работы с `CrossEntropyLoss`)."
   ]
  },
  {
   "cell_type": "code",
   "execution_count": 7,
   "id": "f882d719",
   "metadata": {},
   "outputs": [],
   "source": [
    "def make_word2vec_vector_cnn(sentence, wv, padding_idx, max_len):\n",
    "    padded_X = [padding_idx for i in range(max_len)]\n",
    "    i = 0\n",
    "    for word in sentence:\n",
    "        if word not in wv:\n",
    "            padded_X[i] = 0\n",
    "        else:\n",
    "            padded_X[i] = wv.get_index(word)\n",
    "        i += 1\n",
    "    return torch.tensor(padded_X, dtype=torch.long).view(1, -1)"
   ]
  },
  {
   "cell_type": "code",
   "execution_count": 8,
   "id": "114e215c",
   "metadata": {},
   "outputs": [],
   "source": [
    "padding_idx = w2v.wv.get_index(PADDING_TOKEN)\n",
    "max_len = data.apply(len).max()\n",
    "\n",
    "target_enc = LabelEncoder()\n",
    "y_enc = target_enc.fit_transform(y)\n",
    "\n",
    "data1 = torch.stack(data.apply(lambda x: make_word2vec_vector_cnn(x, w2v.wv, padding_idx, max_len)).tolist()).squeeze(1).to(device)\n",
    "y1 = torch.tensor(y_enc, dtype=torch.long).to(device)"
   ]
  },
  {
   "cell_type": "markdown",
   "id": "a68453b5",
   "metadata": {},
   "source": [
    "Наконец, обучим модель:"
   ]
  },
  {
   "cell_type": "code",
   "execution_count": null,
   "id": "fb3325d1",
   "metadata": {},
   "outputs": [],
   "source": [
    "def train(X, y, num_epochs, factory, start_from=30):\n",
    "    y_preds = []\n",
    "    y_preds_proba = []\n",
    "\n",
    "    prog = tqdm(range(start_from, len(y)))\n",
    "    for threshold in prog:\n",
    "        ds = TensorDataset(X[:threshold], y[:threshold])\n",
    "        dl = DataLoader(ds, 32, shuffle=False)\n",
    "        \n",
    "        cnn_model, optimizer, scheduler = factory()\n",
    "        cnn_model.to(device)\n",
    "        loss_function = nn.CrossEntropyLoss()\n",
    "\n",
    "        cnn_model.train()\n",
    "        for epoch in range(num_epochs):\n",
    "            for bx, by in dl:\n",
    "                cnn_model.zero_grad()\n",
    "                probs = cnn_model(bx)\n",
    "                loss = loss_function(probs, by)\n",
    "                loss.backward()\n",
    "                optimizer.step()\n",
    "\n",
    "            if scheduler:\n",
    "                scheduler.step()\n",
    "            if epoch % 20 == 0:\n",
    "                prog.set_postfix_str(f'loss = {loss.item()}, lr = {optimizer.param_groups[0]['lr']}')\n",
    "\n",
    "        cnn_model.eval()\n",
    "        probs = cnn_model(X[threshold:threshold+1])\n",
    "        pred = torch.argmax(probs)\n",
    "        y_preds_proba.append(probs.detach().cpu().numpy().reshape(-1))\n",
    "        y_preds.append(pred.detach().cpu().numpy().item())\n",
    "\n",
    "    return np.array(y_preds), np.array(y_preds_proba)"
   ]
  },
  {
   "cell_type": "code",
   "execution_count": 10,
   "id": "0e0fe4f3",
   "metadata": {},
   "outputs": [
    {
     "name": "stderr",
     "output_type": "stream",
     "text": [
      "100%|██████████| 70/70 [22:32<00:00, 19.32s/it, loss = 0.551444947719574, lr = 1e-05]  \n"
     ]
    }
   ],
   "source": [
    "def create_model():\n",
    "    embeddings = EmbeddingVectors.from_w2v(w2v.wv, PADDING_TOKEN)\n",
    "    cnn_model = CnnTextClassifier(embeddings, num_classes=3)\n",
    "    optimizer = optim.AdamW(cnn_model.parameters(), lr=0.001, fused=True)\n",
    "    scheduler = optim.lr_scheduler.MultiStepLR(optimizer, milestones=[500, 800])\n",
    "    return cnn_model, optimizer, scheduler\n",
    "\n",
    "\n",
    "num_epochs = 1000\n",
    "y_preds, y_preds_proba = train(data1, y1, num_epochs, create_model)"
   ]
  },
  {
   "cell_type": "markdown",
   "id": "ca6f0b65",
   "metadata": {},
   "source": [
    "Посмотрим на получившиеся метрики:"
   ]
  },
  {
   "cell_type": "code",
   "execution_count": 11,
   "id": "df9e3b50",
   "metadata": {},
   "outputs": [],
   "source": [
    "def print_metrics(name, y, y_preds, y_preds_proba, start_from=30):\n",
    "    y = y[start_from:]\n",
    "    acc = accuracy_score(y, y_preds)\n",
    "    f1 = f1_score(y, y_preds, average=\"macro\")\n",
    "    recall = recall_score(y, y_preds, average=\"macro\")\n",
    "    precision = precision_score(y, y_preds, average=\"macro\")\n",
    "    roc_auc_ovr = roc_auc_score(y, y_preds_proba, average=\"macro\", multi_class=\"ovr\")\n",
    "    roc_auc_ovo = roc_auc_score(y, y_preds_proba, average=\"macro\", multi_class=\"ovo\")\n",
    "\n",
    "    print(classification_report(y, y_preds))\n",
    "    cm = confusion_matrix(y, y_preds)\n",
    "    cm = pd.DataFrame(cm, index=[\"-1\", \"0\", \"1\"], columns=[\"-1\", \"0\", \"1\"])\n",
    "    sns.heatmap(cm, annot=True, fmt=\"d\")\n",
    "    plt.title(\"Confusion matrix\")\n",
    "    plt.ylabel(\"True label\")\n",
    "    plt.xlabel(\"Predicted label\")\n",
    "    plt.show()\n",
    "\n",
    "    return pd.DataFrame({\n",
    "        'accuracy': acc,\n",
    "        'f1': f1,\n",
    "        'recall': recall,\n",
    "        'precision': precision,\n",
    "        'roc_auc_ovr': roc_auc_ovr,\n",
    "        'roc_auc_ovo': roc_auc_ovo,\n",
    "        }, index=[name])"
   ]
  },
  {
   "cell_type": "code",
   "execution_count": 12,
   "id": "a9611e4d",
   "metadata": {},
   "outputs": [
    {
     "name": "stdout",
     "output_type": "stream",
     "text": [
      "              precision    recall  f1-score   support\n",
      "\n",
      "        -1.0       0.62      0.57      0.59        23\n",
      "         0.0       0.50      0.64      0.56        28\n",
      "         1.0       0.77      0.53      0.62        19\n",
      "\n",
      "    accuracy                           0.59        70\n",
      "   macro avg       0.63      0.58      0.59        70\n",
      "weighted avg       0.61      0.59      0.59        70\n",
      "\n"
     ]
    },
    {
     "data": {
      "image/png": "[encoded data removed]",
      "text/plain": [
       "<Figure size 640x480 with 2 Axes>"
      ]
     },
     "metadata": {},
     "output_type": "display_data"
    }
   ],
   "source": [
    "metric = print_metrics('CNN Word2Vec', y, target_enc.inverse_transform(y_preds), y_preds_proba)"
   ]
  },
  {
   "cell_type": "code",
   "execution_count": 13,
   "id": "0fade0c6",
   "metadata": {},
   "outputs": [
    {
     "data": {
      "text/html": [
       "<div>\n",
       "<style scoped>\n",
       "    .dataframe tbody tr th:only-of-type {\n",
       "        vertical-align: middle;\n",
       "    }\n",
       "\n",
       "    .dataframe tbody tr th {\n",
       "        vertical-align: top;\n",
       "    }\n",
       "\n",
       "    .dataframe thead th {\n",
       "        text-align: right;\n",
       "    }\n",
       "</style>\n",
       "<table border=\"1\" class=\"dataframe\">\n",
       "  <thead>\n",
       "    <tr style=\"text-align: right;\">\n",
       "      <th></th>\n",
       "      <th>accuracy</th>\n",
       "      <th>f1</th>\n",
       "      <th>recall</th>\n",
       "      <th>precision</th>\n",
       "      <th>roc_auc_ovr</th>\n",
       "      <th>roc_auc_ovo</th>\n",
       "    </tr>\n",
       "  </thead>\n",
       "  <tbody>\n",
       "    <tr>\n",
       "      <th>MLP TF-IDF</th>\n",
       "      <td>0.671429</td>\n",
       "      <td>0.675072</td>\n",
       "      <td>0.679416</td>\n",
       "      <td>0.671795</td>\n",
       "      <td>0.755827</td>\n",
       "      <td>0.759868</td>\n",
       "    </tr>\n",
       "    <tr>\n",
       "      <th>MLP TF-IDF + feature selection</th>\n",
       "      <td>0.614286</td>\n",
       "      <td>0.615343</td>\n",
       "      <td>0.615343</td>\n",
       "      <td>0.615343</td>\n",
       "      <td>0.715193</td>\n",
       "      <td>0.717330</td>\n",
       "    </tr>\n",
       "    <tr>\n",
       "      <th>CNN Word2Vec</th>\n",
       "      <td>0.585714</td>\n",
       "      <td>0.592803</td>\n",
       "      <td>0.578130</td>\n",
       "      <td>0.629426</td>\n",
       "      <td>0.694751</td>\n",
       "      <td>0.699371</td>\n",
       "    </tr>\n",
       "  </tbody>\n",
       "</table>\n",
       "</div>"
      ],
      "text/plain": [
       "                                accuracy        f1    recall  precision  \\\n",
       "MLP TF-IDF                      0.671429  0.675072  0.679416   0.671795   \n",
       "MLP TF-IDF + feature selection  0.614286  0.615343  0.615343   0.615343   \n",
       "CNN Word2Vec                    0.585714  0.592803  0.578130   0.629426   \n",
       "\n",
       "                                roc_auc_ovr  roc_auc_ovo  \n",
       "MLP TF-IDF                         0.755827     0.759868  \n",
       "MLP TF-IDF + feature selection     0.715193     0.717330  \n",
       "CNN Word2Vec                       0.694751     0.699371  "
      ]
     },
     "execution_count": 13,
     "metadata": {},
     "output_type": "execute_result"
    }
   ],
   "source": [
    "metrics = pd.concat([metrics, metric], axis=0)\n",
    "metrics"
   ]
  },
  {
   "cell_type": "markdown",
   "id": "fb0e1129",
   "metadata": {},
   "source": [
    "Качество модели не слишком высокое в сравнении даже с линейными моделями."
   ]
  },
  {
   "cell_type": "markdown",
   "id": "a451d6c1",
   "metadata": {},
   "source": [
    "### Предобученный Word2Vec\n",
    "\n",
    "Попробуем использовать предобученную модель Word2Vec на большом объеме текстов вместо обучения собственной модели."
   ]
  },
  {
   "cell_type": "code",
   "execution_count": 14,
   "id": "afb63259",
   "metadata": {},
   "outputs": [],
   "source": [
    "w2v_ruscorpora = api.load('word2vec-ruscorpora-300')\n",
    "\n",
    "# функция для добавления части речи к словам\n",
    "def tag(words):\n",
    "    morph = MorphAnalyzer()\n",
    "    parts = [str(morph.parse(word)[0].tag.POS) for word in words]\n",
    "    return [word + '_' + part for word, part in zip(words, parts)]\n",
    "\n",
    "data = Xpreproc.str.split().apply(tag)"
   ]
  },
  {
   "cell_type": "markdown",
   "id": "42c41ecd",
   "metadata": {},
   "source": [
    "В предобученной модели нет токена для паддинга, используем для этих целей слово, не встречающееся в исходных текстах."
   ]
  },
  {
   "cell_type": "code",
   "execution_count": 15,
   "id": "f8608076",
   "metadata": {},
   "outputs": [],
   "source": [
    "padding_idx = 9999\n",
    "max_len = data.apply(len).max()\n",
    "\n",
    "data1 = torch.stack(data.apply(lambda x: make_word2vec_vector_cnn(x, w2v_ruscorpora, padding_idx, max_len)).tolist()).squeeze(1).to(device)"
   ]
  },
  {
   "cell_type": "markdown",
   "id": "3d17f630",
   "metadata": {},
   "source": [
    "Обучим модель и посмотрим на метрики."
   ]
  },
  {
   "cell_type": "code",
   "execution_count": 16,
   "id": "e40eb139",
   "metadata": {},
   "outputs": [
    {
     "name": "stderr",
     "output_type": "stream",
     "text": [
      "100%|██████████| 70/70 [1:34:35<00:00, 81.08s/it, loss = 0.5514478087425232, lr = 1e-05]  \n"
     ]
    }
   ],
   "source": [
    "def create_model():\n",
    "    embeddings = EmbeddingVectors.from_w2v(w2v_ruscorpora, w2v_ruscorpora.index_to_key[padding_idx])\n",
    "    cnn_model = CnnTextClassifier(embeddings, num_classes=3)\n",
    "    optimizer = optim.AdamW(cnn_model.parameters(), lr=0.001, fused=True)\n",
    "    scheduler = optim.lr_scheduler.MultiStepLR(optimizer, milestones=[500, 800])\n",
    "    return cnn_model, optimizer, scheduler\n",
    "\n",
    "\n",
    "num_epochs = 1000\n",
    "y_preds, y_preds_proba = train(data1, y1, num_epochs, create_model)"
   ]
  },
  {
   "cell_type": "code",
   "execution_count": 17,
   "id": "39220e7f",
   "metadata": {},
   "outputs": [
    {
     "name": "stdout",
     "output_type": "stream",
     "text": [
      "              precision    recall  f1-score   support\n",
      "\n",
      "        -1.0       0.65      0.65      0.65        23\n",
      "         0.0       0.55      0.57      0.56        28\n",
      "         1.0       0.67      0.63      0.65        19\n",
      "\n",
      "    accuracy                           0.61        70\n",
      "   macro avg       0.62      0.62      0.62        70\n",
      "weighted avg       0.62      0.61      0.61        70\n",
      "\n"
     ]
    },
    {
     "data": {
      "image/png": "[encoded data removed]",
      "text/plain": [
       "<Figure size 640x480 with 2 Axes>"
      ]
     },
     "metadata": {},
     "output_type": "display_data"
    }
   ],
   "source": [
    "metric = print_metrics('CNN Word2Vec pretrained', y, target_enc.inverse_transform(y_preds), y_preds_proba)"
   ]
  },
  {
   "cell_type": "code",
   "execution_count": 18,
   "id": "96ef7e96",
   "metadata": {},
   "outputs": [
    {
     "data": {
      "text/html": [
       "<div>\n",
       "<style scoped>\n",
       "    .dataframe tbody tr th:only-of-type {\n",
       "        vertical-align: middle;\n",
       "    }\n",
       "\n",
       "    .dataframe tbody tr th {\n",
       "        vertical-align: top;\n",
       "    }\n",
       "\n",
       "    .dataframe thead th {\n",
       "        text-align: right;\n",
       "    }\n",
       "</style>\n",
       "<table border=\"1\" class=\"dataframe\">\n",
       "  <thead>\n",
       "    <tr style=\"text-align: right;\">\n",
       "      <th></th>\n",
       "      <th>accuracy</th>\n",
       "      <th>f1</th>\n",
       "      <th>recall</th>\n",
       "      <th>precision</th>\n",
       "      <th>roc_auc_ovr</th>\n",
       "      <th>roc_auc_ovo</th>\n",
       "    </tr>\n",
       "  </thead>\n",
       "  <tbody>\n",
       "    <tr>\n",
       "      <th>MLP TF-IDF</th>\n",
       "      <td>0.671429</td>\n",
       "      <td>0.675072</td>\n",
       "      <td>0.679416</td>\n",
       "      <td>0.671795</td>\n",
       "      <td>0.755827</td>\n",
       "      <td>0.759868</td>\n",
       "    </tr>\n",
       "    <tr>\n",
       "      <th>MLP TF-IDF + feature selection</th>\n",
       "      <td>0.614286</td>\n",
       "      <td>0.615343</td>\n",
       "      <td>0.615343</td>\n",
       "      <td>0.615343</td>\n",
       "      <td>0.715193</td>\n",
       "      <td>0.717330</td>\n",
       "    </tr>\n",
       "    <tr>\n",
       "      <th>CNN Word2Vec</th>\n",
       "      <td>0.585714</td>\n",
       "      <td>0.592803</td>\n",
       "      <td>0.578130</td>\n",
       "      <td>0.629426</td>\n",
       "      <td>0.694751</td>\n",
       "      <td>0.699371</td>\n",
       "    </tr>\n",
       "    <tr>\n",
       "      <th>CNN Word2Vec pretrained</th>\n",
       "      <td>0.614286</td>\n",
       "      <td>0.620742</td>\n",
       "      <td>0.618394</td>\n",
       "      <td>0.623522</td>\n",
       "      <td>0.743324</td>\n",
       "      <td>0.749373</td>\n",
       "    </tr>\n",
       "  </tbody>\n",
       "</table>\n",
       "</div>"
      ],
      "text/plain": [
       "                                accuracy        f1    recall  precision  \\\n",
       "MLP TF-IDF                      0.671429  0.675072  0.679416   0.671795   \n",
       "MLP TF-IDF + feature selection  0.614286  0.615343  0.615343   0.615343   \n",
       "CNN Word2Vec                    0.585714  0.592803  0.578130   0.629426   \n",
       "CNN Word2Vec pretrained         0.614286  0.620742  0.618394   0.623522   \n",
       "\n",
       "                                roc_auc_ovr  roc_auc_ovo  \n",
       "MLP TF-IDF                         0.755827     0.759868  \n",
       "MLP TF-IDF + feature selection     0.715193     0.717330  \n",
       "CNN Word2Vec                       0.694751     0.699371  \n",
       "CNN Word2Vec pretrained            0.743324     0.749373  "
      ]
     },
     "execution_count": 18,
     "metadata": {},
     "output_type": "execute_result"
    }
   ],
   "source": [
    "metrics = pd.concat([metrics, metric], axis=0)\n",
    "metrics"
   ]
  },
  {
   "cell_type": "markdown",
   "id": "b0ad442b",
   "metadata": {},
   "source": [
    "Результат получилось значительно улучшить, однако, он не дотягивает до качества лучших классических моделей."
   ]
  },
  {
   "cell_type": "markdown",
   "id": "db314eff",
   "metadata": {},
   "source": [
    "### Предобученный Glove\n",
    "\n",
    "Попробуем обучить сеть, используя в качестве векторного представления слов GloVe. Схема обучения сети аналогична Word2Vec."
   ]
  },
  {
   "cell_type": "code",
   "execution_count": 19,
   "id": "77d25cd4",
   "metadata": {},
   "outputs": [],
   "source": [
    "glove = Navec.load('navec_news_v1_1B_250K_300d_100q.tar')"
   ]
  },
  {
   "cell_type": "code",
   "execution_count": 20,
   "id": "9c83bf7a",
   "metadata": {},
   "outputs": [],
   "source": [
    "data = Xpreproc.str.split()\n",
    "\n",
    "padding_idx = glove.vocab[PADDING_TOKEN]\n",
    "max_len = data.apply(len).max()"
   ]
  },
  {
   "cell_type": "code",
   "execution_count": 21,
   "id": "3e942cbe",
   "metadata": {},
   "outputs": [],
   "source": [
    "def make_word2vec_vector_cnn(sentence, glove, padding_idx, max_len):\n",
    "    padded_X = [padding_idx for i in range(max_len)]\n",
    "    i = 0\n",
    "    for word in sentence:\n",
    "        if word not in glove:\n",
    "            padded_X[i] = glove.vocab['<unk>']\n",
    "        else:\n",
    "            padded_X[i] = glove.vocab[word]\n",
    "        i += 1\n",
    "    return torch.tensor(padded_X, dtype=torch.long).view(1, -1)"
   ]
  },
  {
   "cell_type": "code",
   "execution_count": 22,
   "id": "652656a1",
   "metadata": {},
   "outputs": [],
   "source": [
    "data1 = torch.stack(data.apply(lambda x: make_word2vec_vector_cnn(x, glove, padding_idx, max_len)).tolist()).squeeze(1).to(device)"
   ]
  },
  {
   "cell_type": "code",
   "execution_count": 23,
   "id": "9d240a0a",
   "metadata": {},
   "outputs": [
    {
     "name": "stderr",
     "output_type": "stream",
     "text": [
      "100%|██████████| 70/70 [1:35:18<00:00, 81.70s/it, loss = 0.5514447689056396, lr = 1e-05]  \n"
     ]
    }
   ],
   "source": [
    "def create_model():\n",
    "    embeddings = EmbeddingVectors.from_navec(glove)\n",
    "    cnn_model = CnnTextClassifier(embeddings, num_classes=3)\n",
    "    optimizer = optim.AdamW(cnn_model.parameters(), lr=0.001, fused=True)\n",
    "    scheduler = optim.lr_scheduler.MultiStepLR(optimizer, milestones=[500, 800])\n",
    "    return cnn_model, optimizer, scheduler\n",
    "\n",
    "num_epochs = 1000\n",
    "y_preds, y_preds_proba = train(data1, y1, num_epochs, create_model)"
   ]
  },
  {
   "cell_type": "code",
   "execution_count": 24,
   "id": "b905739b",
   "metadata": {},
   "outputs": [
    {
     "name": "stdout",
     "output_type": "stream",
     "text": [
      "              precision    recall  f1-score   support\n",
      "\n",
      "        -1.0       0.59      0.70      0.64        23\n",
      "         0.0       0.55      0.57      0.56        28\n",
      "         1.0       0.64      0.47      0.55        19\n",
      "\n",
      "    accuracy                           0.59        70\n",
      "   macro avg       0.60      0.58      0.58        70\n",
      "weighted avg       0.59      0.59      0.58        70\n",
      "\n"
     ]
    },
    {
     "data": {
      "image/png": "[encoded data removed]",
      "text/plain": [
       "<Figure size 640x480 with 2 Axes>"
      ]
     },
     "metadata": {},
     "output_type": "display_data"
    }
   ],
   "source": [
    "metric = print_metrics('CNN Glove pretrained', y, target_enc.inverse_transform(y_preds), y_preds_proba)"
   ]
  },
  {
   "cell_type": "code",
   "execution_count": 25,
   "id": "6a4e2aaa",
   "metadata": {},
   "outputs": [
    {
     "data": {
      "text/html": [
       "<div>\n",
       "<style scoped>\n",
       "    .dataframe tbody tr th:only-of-type {\n",
       "        vertical-align: middle;\n",
       "    }\n",
       "\n",
       "    .dataframe tbody tr th {\n",
       "        vertical-align: top;\n",
       "    }\n",
       "\n",
       "    .dataframe thead th {\n",
       "        text-align: right;\n",
       "    }\n",
       "</style>\n",
       "<table border=\"1\" class=\"dataframe\">\n",
       "  <thead>\n",
       "    <tr style=\"text-align: right;\">\n",
       "      <th></th>\n",
       "      <th>accuracy</th>\n",
       "      <th>f1</th>\n",
       "      <th>recall</th>\n",
       "      <th>precision</th>\n",
       "      <th>roc_auc_ovr</th>\n",
       "      <th>roc_auc_ovo</th>\n",
       "    </tr>\n",
       "  </thead>\n",
       "  <tbody>\n",
       "    <tr>\n",
       "      <th>MLP TF-IDF</th>\n",
       "      <td>0.671429</td>\n",
       "      <td>0.675072</td>\n",
       "      <td>0.679416</td>\n",
       "      <td>0.671795</td>\n",
       "      <td>0.755827</td>\n",
       "      <td>0.759868</td>\n",
       "    </tr>\n",
       "    <tr>\n",
       "      <th>MLP TF-IDF + feature selection</th>\n",
       "      <td>0.614286</td>\n",
       "      <td>0.615343</td>\n",
       "      <td>0.615343</td>\n",
       "      <td>0.615343</td>\n",
       "      <td>0.715193</td>\n",
       "      <td>0.717330</td>\n",
       "    </tr>\n",
       "    <tr>\n",
       "      <th>CNN Word2Vec</th>\n",
       "      <td>0.585714</td>\n",
       "      <td>0.592803</td>\n",
       "      <td>0.578130</td>\n",
       "      <td>0.629426</td>\n",
       "      <td>0.694751</td>\n",
       "      <td>0.699371</td>\n",
       "    </tr>\n",
       "    <tr>\n",
       "      <th>CNN Word2Vec pretrained</th>\n",
       "      <td>0.614286</td>\n",
       "      <td>0.620742</td>\n",
       "      <td>0.618394</td>\n",
       "      <td>0.623522</td>\n",
       "      <td>0.743324</td>\n",
       "      <td>0.749373</td>\n",
       "    </tr>\n",
       "    <tr>\n",
       "      <th>CNN Glove pretrained</th>\n",
       "      <td>0.585714</td>\n",
       "      <td>0.582286</td>\n",
       "      <td>0.580255</td>\n",
       "      <td>0.595725</td>\n",
       "      <td>0.673426</td>\n",
       "      <td>0.674969</td>\n",
       "    </tr>\n",
       "  </tbody>\n",
       "</table>\n",
       "</div>"
      ],
      "text/plain": [
       "                                accuracy        f1    recall  precision  \\\n",
       "MLP TF-IDF                      0.671429  0.675072  0.679416   0.671795   \n",
       "MLP TF-IDF + feature selection  0.614286  0.615343  0.615343   0.615343   \n",
       "CNN Word2Vec                    0.585714  0.592803  0.578130   0.629426   \n",
       "CNN Word2Vec pretrained         0.614286  0.620742  0.618394   0.623522   \n",
       "CNN Glove pretrained            0.585714  0.582286  0.580255   0.595725   \n",
       "\n",
       "                                roc_auc_ovr  roc_auc_ovo  \n",
       "MLP TF-IDF                         0.755827     0.759868  \n",
       "MLP TF-IDF + feature selection     0.715193     0.717330  \n",
       "CNN Word2Vec                       0.694751     0.699371  \n",
       "CNN Word2Vec pretrained            0.743324     0.749373  \n",
       "CNN Glove pretrained               0.673426     0.674969  "
      ]
     },
     "execution_count": 25,
     "metadata": {},
     "output_type": "execute_result"
    }
   ],
   "source": [
    "metrics = pd.concat([metrics, metric], axis=0)\n",
    "metrics"
   ]
  },
  {
   "cell_type": "markdown",
   "id": "ef7bf706",
   "metadata": {},
   "source": [
    "Качество модели хуже варианта Word2Vec."
   ]
  },
  {
   "cell_type": "markdown",
   "id": "8c3e4a62",
   "metadata": {},
   "source": [
    "### One-Hot Encoding"
   ]
  },
  {
   "cell_type": "markdown",
   "id": "c36dd398",
   "metadata": {},
   "source": [
    "Простейший способ получить эмбеддинги слов - one-hot кодирование. Для этого подготовим словарь всех слов из пресс-релизов и каждому слову поставим в соответствие вектор, где на позиции слова в словаре будет стоять 1."
   ]
  },
  {
   "cell_type": "code",
   "execution_count": 26,
   "id": "56651926",
   "metadata": {},
   "outputs": [],
   "source": [
    "splitted = Xpreproc.str.split()\n",
    "vocab = list(set(splitted.explode())) + [PADDING_TOKEN]\n",
    "vocab_dict = {k: v for v, k in enumerate(vocab)}\n",
    "vectors = torch.eye(len(vocab))\n",
    "\n",
    "max_len = splitted.apply(len).max()\n",
    "padded = splitted.apply(lambda lst: lst + [PADDING_TOKEN] * (max_len - len(lst)))\n",
    "one_hot = padded.apply(lambda lst: list(map(lambda x: vocab_dict[x], lst)))"
   ]
  },
  {
   "cell_type": "markdown",
   "id": "0b13592d",
   "metadata": {},
   "source": [
    "Кодируем слова в текстах их индексами в словаре:"
   ]
  },
  {
   "cell_type": "code",
   "execution_count": 27,
   "id": "393e53f2",
   "metadata": {},
   "outputs": [],
   "source": [
    "data1 = torch.stack(one_hot.apply(torch.tensor).tolist()).to(device)"
   ]
  },
  {
   "cell_type": "markdown",
   "id": "66aa5420",
   "metadata": {},
   "source": [
    "Обучаем модель:"
   ]
  },
  {
   "cell_type": "code",
   "execution_count": 28,
   "id": "f4fa44a0",
   "metadata": {},
   "outputs": [
    {
     "name": "stderr",
     "output_type": "stream",
     "text": [
      "100%|██████████| 70/70 [3:09:13<00:00, 162.19s/it, loss = 0.5514761805534363, lr = 1e-05]   \n"
     ]
    }
   ],
   "source": [
    "embeddings = EmbeddingVectors(vectors, len(vocab) - 1)\n",
    "\n",
    "def create_model():\n",
    "    cnn_model = CnnTextClassifier(embeddings, num_classes=3)\n",
    "    optimizer = optim.AdamW(cnn_model.parameters(), lr=0.001, fused=True)\n",
    "    scheduler = optim.lr_scheduler.MultiStepLR(optimizer, milestones=[250, 400])\n",
    "    return cnn_model, optimizer, scheduler\n",
    "\n",
    "num_epochs = 500\n",
    "y_preds, y_preds_proba = train(data1, y1, num_epochs, create_model)"
   ]
  },
  {
   "cell_type": "code",
   "execution_count": 29,
   "id": "ab4c4667",
   "metadata": {},
   "outputs": [
    {
     "name": "stdout",
     "output_type": "stream",
     "text": [
      "              precision    recall  f1-score   support\n",
      "\n",
      "        -1.0       0.64      0.70      0.67        23\n",
      "         0.0       0.57      0.57      0.57        28\n",
      "         1.0       0.76      0.68      0.72        19\n",
      "\n",
      "    accuracy                           0.64        70\n",
      "   macro avg       0.66      0.65      0.65        70\n",
      "weighted avg       0.65      0.64      0.64        70\n",
      "\n"
     ]
    },
    {
     "data": {
      "image/png": "[encoded data removed]",
      "text/plain": [
       "<Figure size 640x480 with 2 Axes>"
      ]
     },
     "metadata": {},
     "output_type": "display_data"
    }
   ],
   "source": [
    "metric = print_metrics('CNN OHE', y, target_enc.inverse_transform(y_preds), y_preds_proba)"
   ]
  },
  {
   "cell_type": "code",
   "execution_count": 30,
   "id": "7637aa01",
   "metadata": {},
   "outputs": [
    {
     "data": {
      "text/html": [
       "<div>\n",
       "<style scoped>\n",
       "    .dataframe tbody tr th:only-of-type {\n",
       "        vertical-align: middle;\n",
       "    }\n",
       "\n",
       "    .dataframe tbody tr th {\n",
       "        vertical-align: top;\n",
       "    }\n",
       "\n",
       "    .dataframe thead th {\n",
       "        text-align: right;\n",
       "    }\n",
       "</style>\n",
       "<table border=\"1\" class=\"dataframe\">\n",
       "  <thead>\n",
       "    <tr style=\"text-align: right;\">\n",
       "      <th></th>\n",
       "      <th>accuracy</th>\n",
       "      <th>f1</th>\n",
       "      <th>recall</th>\n",
       "      <th>precision</th>\n",
       "      <th>roc_auc_ovr</th>\n",
       "      <th>roc_auc_ovo</th>\n",
       "    </tr>\n",
       "  </thead>\n",
       "  <tbody>\n",
       "    <tr>\n",
       "      <th>MLP TF-IDF</th>\n",
       "      <td>0.671429</td>\n",
       "      <td>0.675072</td>\n",
       "      <td>0.679416</td>\n",
       "      <td>0.671795</td>\n",
       "      <td>0.755827</td>\n",
       "      <td>0.759868</td>\n",
       "    </tr>\n",
       "    <tr>\n",
       "      <th>MLP TF-IDF + feature selection</th>\n",
       "      <td>0.614286</td>\n",
       "      <td>0.615343</td>\n",
       "      <td>0.615343</td>\n",
       "      <td>0.615343</td>\n",
       "      <td>0.715193</td>\n",
       "      <td>0.717330</td>\n",
       "    </tr>\n",
       "    <tr>\n",
       "      <th>CNN Word2Vec</th>\n",
       "      <td>0.585714</td>\n",
       "      <td>0.592803</td>\n",
       "      <td>0.578130</td>\n",
       "      <td>0.629426</td>\n",
       "      <td>0.694751</td>\n",
       "      <td>0.699371</td>\n",
       "    </tr>\n",
       "    <tr>\n",
       "      <th>CNN Word2Vec pretrained</th>\n",
       "      <td>0.614286</td>\n",
       "      <td>0.620742</td>\n",
       "      <td>0.618394</td>\n",
       "      <td>0.623522</td>\n",
       "      <td>0.743324</td>\n",
       "      <td>0.749373</td>\n",
       "    </tr>\n",
       "    <tr>\n",
       "      <th>CNN Glove pretrained</th>\n",
       "      <td>0.585714</td>\n",
       "      <td>0.582286</td>\n",
       "      <td>0.580255</td>\n",
       "      <td>0.595725</td>\n",
       "      <td>0.673426</td>\n",
       "      <td>0.674969</td>\n",
       "    </tr>\n",
       "    <tr>\n",
       "      <th>CNN OHE</th>\n",
       "      <td>0.642857</td>\n",
       "      <td>0.653439</td>\n",
       "      <td>0.650430</td>\n",
       "      <td>0.658711</td>\n",
       "      <td>0.776107</td>\n",
       "      <td>0.782336</td>\n",
       "    </tr>\n",
       "  </tbody>\n",
       "</table>\n",
       "</div>"
      ],
      "text/plain": [
       "                                accuracy        f1    recall  precision  \\\n",
       "MLP TF-IDF                      0.671429  0.675072  0.679416   0.671795   \n",
       "MLP TF-IDF + feature selection  0.614286  0.615343  0.615343   0.615343   \n",
       "CNN Word2Vec                    0.585714  0.592803  0.578130   0.629426   \n",
       "CNN Word2Vec pretrained         0.614286  0.620742  0.618394   0.623522   \n",
       "CNN Glove pretrained            0.585714  0.582286  0.580255   0.595725   \n",
       "CNN OHE                         0.642857  0.653439  0.650430   0.658711   \n",
       "\n",
       "                                roc_auc_ovr  roc_auc_ovo  \n",
       "MLP TF-IDF                         0.755827     0.759868  \n",
       "MLP TF-IDF + feature selection     0.715193     0.717330  \n",
       "CNN Word2Vec                       0.694751     0.699371  \n",
       "CNN Word2Vec pretrained            0.743324     0.749373  \n",
       "CNN Glove pretrained               0.673426     0.674969  \n",
       "CNN OHE                            0.776107     0.782336  "
      ]
     },
     "execution_count": 30,
     "metadata": {},
     "output_type": "execute_result"
    }
   ],
   "source": [
    "metrics = pd.concat([metrics, metric], axis=0)\n",
    "metrics"
   ]
  },
  {
   "cell_type": "markdown",
   "id": "fc9b10cf",
   "metadata": {},
   "source": [
    "Интересно, что one-hot кодирование показало практически такой же результат, как GloVe."
   ]
  },
  {
   "cell_type": "markdown",
   "id": "f606a944",
   "metadata": {},
   "source": [
    "### 1D TF-IDF\n",
    "\n",
    "Кодирование TF-IDF также можно рассматривать в качестве векторного представления слов - только вектор получается одномерным."
   ]
  },
  {
   "cell_type": "code",
   "execution_count": 31,
   "id": "585e9888",
   "metadata": {},
   "outputs": [],
   "source": [
    "vectorizer = TfidfVectorizer(max_df=0.9, min_df=8)\n",
    "tf_idf = vectorizer.fit_transform(Xpreproc).todense()"
   ]
  },
  {
   "cell_type": "markdown",
   "id": "4816d1de",
   "metadata": {},
   "source": [
    "Немного модифицируем исходную сеть и уберем из нее слой для подстановки векторов вместо индексов токенов - у нас уже есть векторное представление в явном виде."
   ]
  },
  {
   "cell_type": "code",
   "execution_count": 32,
   "id": "78aab76a",
   "metadata": {},
   "outputs": [],
   "source": [
    "class TfIdfCnnTextClassifier(CnnTextClassifier):\n",
    "    def __init__(self, embeddings, num_classes, window_sizes=(3, 4, 5), num_filters=256):\n",
    "        super().__init__(embeddings, num_classes, window_sizes, num_filters)\n",
    "        self.embedding = nn.Identity()"
   ]
  },
  {
   "cell_type": "markdown",
   "id": "64cf1be5",
   "metadata": {},
   "source": [
    "Подготавливаем данные, обучаем модель и посмотрим на метрики."
   ]
  },
  {
   "cell_type": "code",
   "execution_count": 33,
   "id": "4ca11604",
   "metadata": {},
   "outputs": [],
   "source": [
    "target_enc = LabelEncoder()\n",
    "y_enc = target_enc.fit_transform(y)\n",
    "\n",
    "data1 = torch.tensor(tf_idf, dtype=torch.float).unsqueeze(1).to(device)\n",
    "y1 = torch.tensor(y_enc, dtype=torch.long).to(device)"
   ]
  },
  {
   "cell_type": "code",
   "execution_count": 34,
   "id": "eece9ecc",
   "metadata": {},
   "outputs": [
    {
     "name": "stderr",
     "output_type": "stream",
     "text": [
      "100%|██████████| 70/70 [39:03<00:00, 33.48s/it, loss = 0.5514509677886963, lr = 1e-05] \n"
     ]
    }
   ],
   "source": [
    "def create_model():\n",
    "    embeddings = EmbeddingVectors.from_tfidf(vectorizer)\n",
    "    cnn_model = TfIdfCnnTextClassifier(embeddings, num_classes=3)\n",
    "    optimizer = optim.AdamW(cnn_model.parameters(), lr=0.001, fused=True)\n",
    "    scheduler = optim.lr_scheduler.MultiStepLR(optimizer, milestones=[500, 800])\n",
    "    return cnn_model, optimizer, scheduler\n",
    "\n",
    "\n",
    "num_epochs = 1000\n",
    "y_preds, y_preds_proba = train(data1, y1, num_epochs, create_model)"
   ]
  },
  {
   "cell_type": "code",
   "execution_count": 35,
   "id": "2dcbd82b",
   "metadata": {},
   "outputs": [
    {
     "name": "stdout",
     "output_type": "stream",
     "text": [
      "              precision    recall  f1-score   support\n",
      "\n",
      "        -1.0       0.71      0.74      0.72        23\n",
      "         0.0       0.62      0.57      0.59        28\n",
      "         1.0       0.70      0.74      0.72        19\n",
      "\n",
      "    accuracy                           0.67        70\n",
      "   macro avg       0.67      0.68      0.68        70\n",
      "weighted avg       0.67      0.67      0.67        70\n",
      "\n"
     ]
    },
    {
     "data": {
      "image/png": "[encoded data removed]",
      "text/plain": [
       "<Figure size 640x480 with 2 Axes>"
      ]
     },
     "metadata": {},
     "output_type": "display_data"
    }
   ],
   "source": [
    "metric = print_metrics('CNN tf-idf', y, target_enc.inverse_transform(y_preds), y_preds_proba)"
   ]
  },
  {
   "cell_type": "code",
   "execution_count": 36,
   "id": "c589d656",
   "metadata": {},
   "outputs": [
    {
     "data": {
      "text/html": [
       "<div>\n",
       "<style scoped>\n",
       "    .dataframe tbody tr th:only-of-type {\n",
       "        vertical-align: middle;\n",
       "    }\n",
       "\n",
       "    .dataframe tbody tr th {\n",
       "        vertical-align: top;\n",
       "    }\n",
       "\n",
       "    .dataframe thead th {\n",
       "        text-align: right;\n",
       "    }\n",
       "</style>\n",
       "<table border=\"1\" class=\"dataframe\">\n",
       "  <thead>\n",
       "    <tr style=\"text-align: right;\">\n",
       "      <th></th>\n",
       "      <th>accuracy</th>\n",
       "      <th>f1</th>\n",
       "      <th>recall</th>\n",
       "      <th>precision</th>\n",
       "      <th>roc_auc_ovr</th>\n",
       "      <th>roc_auc_ovo</th>\n",
       "    </tr>\n",
       "  </thead>\n",
       "  <tbody>\n",
       "    <tr>\n",
       "      <th>MLP TF-IDF</th>\n",
       "      <td>0.671429</td>\n",
       "      <td>0.675072</td>\n",
       "      <td>0.679416</td>\n",
       "      <td>0.671795</td>\n",
       "      <td>0.755827</td>\n",
       "      <td>0.759868</td>\n",
       "    </tr>\n",
       "    <tr>\n",
       "      <th>MLP TF-IDF + feature selection</th>\n",
       "      <td>0.614286</td>\n",
       "      <td>0.615343</td>\n",
       "      <td>0.615343</td>\n",
       "      <td>0.615343</td>\n",
       "      <td>0.715193</td>\n",
       "      <td>0.717330</td>\n",
       "    </tr>\n",
       "    <tr>\n",
       "      <th>CNN Word2Vec</th>\n",
       "      <td>0.585714</td>\n",
       "      <td>0.592803</td>\n",
       "      <td>0.578130</td>\n",
       "      <td>0.629426</td>\n",
       "      <td>0.694751</td>\n",
       "      <td>0.699371</td>\n",
       "    </tr>\n",
       "    <tr>\n",
       "      <th>CNN Word2Vec pretrained</th>\n",
       "      <td>0.614286</td>\n",
       "      <td>0.620742</td>\n",
       "      <td>0.618394</td>\n",
       "      <td>0.623522</td>\n",
       "      <td>0.743324</td>\n",
       "      <td>0.749373</td>\n",
       "    </tr>\n",
       "    <tr>\n",
       "      <th>CNN Glove pretrained</th>\n",
       "      <td>0.585714</td>\n",
       "      <td>0.582286</td>\n",
       "      <td>0.580255</td>\n",
       "      <td>0.595725</td>\n",
       "      <td>0.673426</td>\n",
       "      <td>0.674969</td>\n",
       "    </tr>\n",
       "    <tr>\n",
       "      <th>CNN OHE</th>\n",
       "      <td>0.642857</td>\n",
       "      <td>0.653439</td>\n",
       "      <td>0.650430</td>\n",
       "      <td>0.658711</td>\n",
       "      <td>0.776107</td>\n",
       "      <td>0.782336</td>\n",
       "    </tr>\n",
       "    <tr>\n",
       "      <th>CNN tf-idf</th>\n",
       "      <td>0.671429</td>\n",
       "      <td>0.677982</td>\n",
       "      <td>0.682467</td>\n",
       "      <td>0.674573</td>\n",
       "      <td>0.764051</td>\n",
       "      <td>0.769750</td>\n",
       "    </tr>\n",
       "  </tbody>\n",
       "</table>\n",
       "</div>"
      ],
      "text/plain": [
       "                                accuracy        f1    recall  precision  \\\n",
       "MLP TF-IDF                      0.671429  0.675072  0.679416   0.671795   \n",
       "MLP TF-IDF + feature selection  0.614286  0.615343  0.615343   0.615343   \n",
       "CNN Word2Vec                    0.585714  0.592803  0.578130   0.629426   \n",
       "CNN Word2Vec pretrained         0.614286  0.620742  0.618394   0.623522   \n",
       "CNN Glove pretrained            0.585714  0.582286  0.580255   0.595725   \n",
       "CNN OHE                         0.642857  0.653439  0.650430   0.658711   \n",
       "CNN tf-idf                      0.671429  0.677982  0.682467   0.674573   \n",
       "\n",
       "                                roc_auc_ovr  roc_auc_ovo  \n",
       "MLP TF-IDF                         0.755827     0.759868  \n",
       "MLP TF-IDF + feature selection     0.715193     0.717330  \n",
       "CNN Word2Vec                       0.694751     0.699371  \n",
       "CNN Word2Vec pretrained            0.743324     0.749373  \n",
       "CNN Glove pretrained               0.673426     0.674969  \n",
       "CNN OHE                            0.776107     0.782336  \n",
       "CNN tf-idf                         0.764051     0.769750  "
      ]
     },
     "execution_count": 36,
     "metadata": {},
     "output_type": "execute_result"
    }
   ],
   "source": [
    "metrics = pd.concat([metrics, metric], axis=0)\n",
    "metrics"
   ]
  },
  {
   "cell_type": "markdown",
   "id": "e57f8826",
   "metadata": {},
   "source": [
    "Результат получился чуть лучше по сравнению с предобученным Word2Vec. В целом сверточная сеть не показала хорошего результата ни в одном из вариантов."
   ]
  },
  {
   "cell_type": "code",
   "execution_count": 37,
   "id": "121319ad",
   "metadata": {},
   "outputs": [],
   "source": [
    "metrics.to_csv('metrics.csv')"
   ]
  }
 ],
 "metadata": {
  "kernelspec": {
   "display_name": "ml_yp",
   "language": "python",
   "name": "python3"
  },
  "language_info": {
   "codemirror_mode": {
    "name": "ipython",
    "version": 3
   },
   "file_extension": ".py",
   "mimetype": "text/x-python",
   "name": "python",
   "nbconvert_exporter": "python",
   "pygments_lexer": "ipython3",
   "version": "3.12.3"
  }
 },
 "nbformat": 4,
 "nbformat_minor": 5
}
