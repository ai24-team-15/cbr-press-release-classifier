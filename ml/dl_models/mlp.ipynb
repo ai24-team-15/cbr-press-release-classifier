{
 "cells": [
  {
   "cell_type": "markdown",
   "id": "1ae8f304",
   "metadata": {},
   "source": [
    "В данном ноутбуке представлены эксперименты с обычными полносвязными нейросетями."
   ]
  },
  {
   "cell_type": "code",
   "execution_count": 1,
   "id": "4683fa12",
   "metadata": {},
   "outputs": [
    {
     "name": "stderr",
     "output_type": "stream",
     "text": [
      "Intel(R) Extension for Scikit-learn* enabled (https://github.com/intel/scikit-learn-intelex)\n"
     ]
    }
   ],
   "source": [
    "from sklearnex import patch_sklearn\n",
    "patch_sklearn()\n",
    "\n",
    "import re\n",
    "import sys\n",
    "import os\n",
    "\n",
    "import numpy as np\n",
    "from tqdm import tqdm\n",
    "import pandas as pd\n",
    "from pymystem3 import Mystem\n",
    "from nltk.corpus import stopwords\n",
    "from sklearn.feature_extraction.text import TfidfVectorizer\n",
    "from sklearn.linear_model import LogisticRegression\n",
    "from sklearn.feature_selection import SelectFromModel\n",
    "from sklearn.preprocessing import LabelEncoder\n",
    "from gensim.models import word2vec\n",
    "from pymorphy3 import MorphAnalyzer\n",
    "from matplotlib import pyplot as plt\n",
    "from torch.utils.data import DataLoader, TensorDataset\n",
    "from navec import Navec\n",
    "import gensim.downloader as api\n",
    "import torch.nn as nn\n",
    "import torch.nn.functional as F\n",
    "import torch.optim as optim\n",
    "import torch\n",
    "import seaborn as sns\n",
    "import warnings\n",
    "\n",
    "from sklearn.metrics import (\n",
    "    accuracy_score,\n",
    "    f1_score,\n",
    "    recall_score,\n",
    "    precision_score,\n",
    "    roc_auc_score,\n",
    "    confusion_matrix,\n",
    "    classification_report,\n",
    ")\n",
    "\n",
    "RANDOM_STATE = 41825352\n",
    "\n",
    "sns.set_style(\"whitegrid\")\n",
    "warnings.filterwarnings('ignore')\n",
    "\n",
    "torch.set_float32_matmul_precision('medium')\n",
    "\n",
    "device = torch.device(\"cuda\" if torch.cuda.is_available() else \"cpu\")"
   ]
  },
  {
   "cell_type": "markdown",
   "id": "ab7c6ceb",
   "metadata": {},
   "source": [
    "Загрузим данные которые были предобработаны в ноутбуке `min_baseline.ipynb`."
   ]
  },
  {
   "cell_type": "code",
   "execution_count": 2,
   "id": "d1a1c7c7",
   "metadata": {},
   "outputs": [],
   "source": [
    "X = pd.read_csv(\"../data/x.csv\", index_col=\"date\")\n",
    "y = pd.read_csv(\"../data/y.csv\", index_col=\"date\").iloc[:, 0]"
   ]
  },
  {
   "cell_type": "markdown",
   "id": "b7e970e1",
   "metadata": {},
   "source": [
    "Предобработаем тексты пресс-релизов."
   ]
  },
  {
   "cell_type": "code",
   "execution_count": 3,
   "id": "d6072a8c",
   "metadata": {},
   "outputs": [],
   "source": [
    "# инициализируем лемматизатор\n",
    "mystem = Mystem()\n",
    "\n",
    "# загружаем стоп-слова\n",
    "STOP_WORDS = set(stopwords.words(\"russian\"))\n",
    "\n",
    "\n",
    "# функция для препроцессинга текста\n",
    "def preprocessor(text):\n",
    "\n",
    "    # приводим к нижнему регистру\n",
    "    text = text.lower()\n",
    "\n",
    "    # удаляем все символы, кроме пробелов и русских букв.\n",
    "    regex = re.compile(\"[^а-я А-ЯЁё]\")\n",
    "    text = regex.sub(\" \", text)\n",
    "\n",
    "    # лемматизируем тексты\n",
    "    text = \" \".join(mystem.lemmatize(text))\n",
    "\n",
    "    # удаляем стоп-слова\n",
    "    text = \" \".join([word for word in text.split() if word not in STOP_WORDS])\n",
    "    return text\n",
    "\n",
    "\n",
    "Xpreproc = X.release.apply(preprocessor)"
   ]
  },
  {
   "cell_type": "markdown",
   "id": "923c1fba",
   "metadata": {},
   "source": [
    "Кодируем тексты при помощи TF-IDF:"
   ]
  },
  {
   "cell_type": "code",
   "execution_count": 4,
   "id": "f1c84258",
   "metadata": {},
   "outputs": [],
   "source": [
    "vectorizer = TfidfVectorizer(max_df=0.9, min_df=8)\n",
    "tf_idf = vectorizer.fit_transform(Xpreproc).todense()"
   ]
  },
  {
   "cell_type": "markdown",
   "id": "f118ff8e",
   "metadata": {},
   "source": [
    "Подготавливаем тензоры и отправляем их на GPU:"
   ]
  },
  {
   "cell_type": "code",
   "execution_count": 5,
   "id": "2d0cbad6",
   "metadata": {},
   "outputs": [],
   "source": [
    "target_enc = LabelEncoder()\n",
    "y_enc = target_enc.fit_transform(y)\n",
    "\n",
    "data1 = torch.tensor(tf_idf, dtype=torch.float).to(device)\n",
    "y1 = torch.tensor(y_enc, dtype=torch.long).to(device)"
   ]
  },
  {
   "cell_type": "markdown",
   "id": "f57ed051",
   "metadata": {},
   "source": [
    "Попробуем обычную MLP с двумя скрытыми слоями, функцией активацией ReLU и dropout:"
   ]
  },
  {
   "cell_type": "code",
   "execution_count": 6,
   "id": "c4a51fff",
   "metadata": {},
   "outputs": [],
   "source": [
    "class TfIdfClassifier(nn.Module):\n",
    "    def __init__(self, in_features, out_classes):\n",
    "        super().__init__()\n",
    "\n",
    "        self.classifier = nn.Sequential(\n",
    "            nn.Linear(in_features, 2048),\n",
    "            nn.ReLU(),\n",
    "            nn.Dropout(0.5),\n",
    "            nn.Linear(2048, 1024),\n",
    "            nn.ReLU(),\n",
    "            nn.Dropout(0.5),\n",
    "            nn.Linear(1024, 512),\n",
    "            nn.ReLU(),\n",
    "            nn.Dropout(0.5),\n",
    "            nn.Linear(512, out_classes),\n",
    "            nn.Softmax()\n",
    "        )\n",
    "\n",
    "    def forward(self, x):\n",
    "        return self.classifier(x)"
   ]
  },
  {
   "cell_type": "markdown",
   "id": "c3a4b850",
   "metadata": {},
   "source": [
    "Создаем и обучаем сеть:"
   ]
  },
  {
   "cell_type": "code",
   "execution_count": 7,
   "id": "a494fcbe",
   "metadata": {},
   "outputs": [],
   "source": [
    "def train(X, y, num_epochs, factory, start_from=30):\n",
    "    y_preds = []\n",
    "    y_preds_proba = []\n",
    "\n",
    "    prog = tqdm(range(start_from, len(y)))\n",
    "    for threshold in prog:\n",
    "        ds = TensorDataset(X[:threshold], y[:threshold])\n",
    "        dl = DataLoader(ds, 32, shuffle=False)\n",
    "        \n",
    "        model, optimizer, scheduler = factory()\n",
    "        model.to(device)\n",
    "        loss_function = nn.CrossEntropyLoss()\n",
    "\n",
    "        model.train()\n",
    "        for epoch in range(num_epochs):\n",
    "            loss = None\n",
    "            for bx, by in dl:\n",
    "                model.zero_grad()\n",
    "                probs = model(bx)\n",
    "                loss = loss_function(probs, by)\n",
    "                loss.backward()\n",
    "                optimizer.step()\n",
    "            \n",
    "            if scheduler:\n",
    "                scheduler.step()\n",
    "            \n",
    "            if epoch % 20 == 0:\n",
    "                with torch.no_grad():\n",
    "                    prog.set_postfix_str(f'loss = {loss.item() if loss else 0}, lr = {optimizer.param_groups[0]['lr']}')\n",
    "\n",
    "        model.eval()\n",
    "        with torch.no_grad():\n",
    "            probs = model(X[threshold:threshold+1])\n",
    "            pred = torch.argmax(probs)\n",
    "            y_preds_proba.append(probs.detach().cpu().numpy().reshape(-1))\n",
    "            y_preds.append(pred.detach().cpu().numpy().item())\n",
    "\n",
    "    return np.array(y_preds), np.array(y_preds_proba)"
   ]
  },
  {
   "cell_type": "code",
   "execution_count": 8,
   "id": "eab98ba7",
   "metadata": {},
   "outputs": [
    {
     "name": "stderr",
     "output_type": "stream",
     "text": [
      "100%|██████████| 70/70 [01:19<00:00,  1.14s/it, loss = 0.5514447689056396, lr = 1e-05] \n"
     ]
    }
   ],
   "source": [
    "def create_model():\n",
    "    model = TfIdfClassifier(data1.shape[1], 3)\n",
    "    optimizer = optim.Adam(model.parameters(), lr=0.001, fused=True)\n",
    "    scheduler = optim.lr_scheduler.MultiStepLR(optimizer, milestones=[250, 400])\n",
    "    return model, optimizer, scheduler\n",
    "\n",
    "num_epochs = 500\n",
    "y_preds, y_preds_proba = train(data1, y1, num_epochs, create_model)"
   ]
  },
  {
   "cell_type": "markdown",
   "id": "f7bc3b79",
   "metadata": {},
   "source": [
    "Посмотрим на метрики:"
   ]
  },
  {
   "cell_type": "code",
   "execution_count": 9,
   "id": "c12a0348",
   "metadata": {},
   "outputs": [],
   "source": [
    "def print_metrics(name, y, y_preds, y_preds_proba, start_from=30):\n",
    "    y = y[start_from:]\n",
    "    acc = accuracy_score(y, y_preds)\n",
    "    f1 = f1_score(y, y_preds, average=\"macro\")\n",
    "    recall = recall_score(y, y_preds, average=\"macro\")\n",
    "    precision = precision_score(y, y_preds, average=\"macro\")\n",
    "    roc_auc_ovr = roc_auc_score(y, y_preds_proba, average=\"macro\", multi_class=\"ovr\")\n",
    "    roc_auc_ovo = roc_auc_score(y, y_preds_proba, average=\"macro\", multi_class=\"ovo\")\n",
    "\n",
    "    print(classification_report(y, y_preds))\n",
    "    cm = confusion_matrix(y, y_preds)\n",
    "    cm = pd.DataFrame(cm, index=[\"-1\", \"0\", \"1\"], columns=[\"-1\", \"0\", \"1\"])\n",
    "    sns.heatmap(cm, annot=True, fmt=\"d\")\n",
    "    plt.title(\"Confusion matrix\")\n",
    "    plt.ylabel(\"True label\")\n",
    "    plt.xlabel(\"Predicted label\")\n",
    "    plt.show()\n",
    "\n",
    "    return pd.DataFrame({\n",
    "        'accuracy': acc,\n",
    "        'f1': f1,\n",
    "        'recall': recall,\n",
    "        'precision': precision,\n",
    "        'roc_auc_ovr': roc_auc_ovr,\n",
    "        'roc_auc_ovo': roc_auc_ovo,\n",
    "        }, index=[name])"
   ]
  },
  {
   "cell_type": "code",
   "execution_count": 10,
   "id": "9e033662",
   "metadata": {},
   "outputs": [
    {
     "name": "stdout",
     "output_type": "stream",
     "text": [
      "              precision    recall  f1-score   support\n",
      "\n",
      "        -1.0       0.75      0.78      0.77        23\n",
      "         0.0       0.62      0.57      0.59        28\n",
      "         1.0       0.65      0.68      0.67        19\n",
      "\n",
      "    accuracy                           0.67        70\n",
      "   macro avg       0.67      0.68      0.68        70\n",
      "weighted avg       0.67      0.67      0.67        70\n",
      "\n"
     ]
    },
    {
     "data": {
      "image/png": "[encoded data removed]",
      "text/plain": [
       "<Figure size 640x480 with 2 Axes>"
      ]
     },
     "metadata": {},
     "output_type": "display_data"
    },
    {
     "data": {
      "text/html": [
       "<div>\n",
       "<style scoped>\n",
       "    .dataframe tbody tr th:only-of-type {\n",
       "        vertical-align: middle;\n",
       "    }\n",
       "\n",
       "    .dataframe tbody tr th {\n",
       "        vertical-align: top;\n",
       "    }\n",
       "\n",
       "    .dataframe thead th {\n",
       "        text-align: right;\n",
       "    }\n",
       "</style>\n",
       "<table border=\"1\" class=\"dataframe\">\n",
       "  <thead>\n",
       "    <tr style=\"text-align: right;\">\n",
       "      <th></th>\n",
       "      <th>accuracy</th>\n",
       "      <th>f1</th>\n",
       "      <th>recall</th>\n",
       "      <th>precision</th>\n",
       "      <th>roc_auc_ovr</th>\n",
       "      <th>roc_auc_ovo</th>\n",
       "    </tr>\n",
       "  </thead>\n",
       "  <tbody>\n",
       "    <tr>\n",
       "      <th>MLP TF-IDF</th>\n",
       "      <td>0.671429</td>\n",
       "      <td>0.675072</td>\n",
       "      <td>0.679416</td>\n",
       "      <td>0.671795</td>\n",
       "      <td>0.755827</td>\n",
       "      <td>0.759868</td>\n",
       "    </tr>\n",
       "  </tbody>\n",
       "</table>\n",
       "</div>"
      ],
      "text/plain": [
       "            accuracy        f1    recall  precision  roc_auc_ovr  roc_auc_ovo\n",
       "MLP TF-IDF  0.671429  0.675072  0.679416   0.671795     0.755827     0.759868"
      ]
     },
     "execution_count": 10,
     "metadata": {},
     "output_type": "execute_result"
    }
   ],
   "source": [
    "metrics = print_metrics('MLP TF-IDF', y, target_enc.inverse_transform(y_preds), y_preds_proba)\n",
    "metrics"
   ]
  },
  {
   "cell_type": "markdown",
   "id": "9b82c675",
   "metadata": {},
   "source": [
    "Качество предсказаний не слишком высокое."
   ]
  },
  {
   "cell_type": "markdown",
   "id": "088c603e",
   "metadata": {},
   "source": [
    "Как и в классических моделях, добавим отбор признаков с помощью логистической регрессии и L1-регуляризации."
   ]
  },
  {
   "cell_type": "code",
   "execution_count": 11,
   "id": "eab3936e",
   "metadata": {},
   "outputs": [],
   "source": [
    "def train(X, y, num_epochs, factory, start_from=30):\n",
    "    y_preds = []\n",
    "    y_preds_proba = []\n",
    "\n",
    "    prog = tqdm(range(start_from, len(y)))\n",
    "    for threshold in prog:\n",
    "        estimator = LogisticRegression(\n",
    "            penalty=\"l1\", solver=\"liblinear\", C=200, max_iter=1000, random_state=RANDOM_STATE\n",
    "        )\n",
    "        selector = SelectFromModel(estimator, max_features=250)\n",
    "        X_sel = selector.fit_transform(X[:threshold].cpu().numpy(), y[:threshold].cpu().numpy())\n",
    "\n",
    "        ds = TensorDataset(torch.tensor(X_sel).to(device), y[:threshold])\n",
    "        dl = DataLoader(ds, 32, shuffle=False)\n",
    "        \n",
    "        model, optimizer, scheduler = factory(X_sel.shape[1])\n",
    "        model.to(device)\n",
    "        loss_function = nn.CrossEntropyLoss()\n",
    "\n",
    "        model.train()\n",
    "        for epoch in range(num_epochs):\n",
    "            loss = None\n",
    "            for bx, by in dl:\n",
    "                model.zero_grad()\n",
    "                probs = model(bx)\n",
    "                loss = loss_function(probs, by)\n",
    "                loss.backward()\n",
    "                optimizer.step()\n",
    "            \n",
    "            if scheduler:\n",
    "                scheduler.step()\n",
    "            \n",
    "            if epoch % 20 == 0:\n",
    "                with torch.no_grad():\n",
    "                    prog.set_postfix_str(f'loss = {loss.item() if loss else 0}, lr = {optimizer.param_groups[0]['lr']}')\n",
    "\n",
    "        model.eval()\n",
    "        with torch.no_grad():\n",
    "            X_eval = selector.transform(X[threshold:threshold+1].cpu().numpy())\n",
    "            probs = model(torch.tensor(X_eval).to(device))\n",
    "            pred = torch.argmax(probs)\n",
    "            y_preds_proba.append(probs.detach().cpu().numpy().reshape(-1))\n",
    "            y_preds.append(pred.detach().cpu().numpy().item())\n",
    "\n",
    "    return np.array(y_preds), np.array(y_preds_proba)"
   ]
  },
  {
   "cell_type": "code",
   "execution_count": 12,
   "id": "79412f2c",
   "metadata": {},
   "outputs": [
    {
     "name": "stderr",
     "output_type": "stream",
     "text": [
      "100%|██████████| 70/70 [01:18<00:00,  1.13s/it, loss = 0.5514447689056396, lr = 1e-05] \n"
     ]
    }
   ],
   "source": [
    "def create_model(size):\n",
    "    model = TfIdfClassifier(size, 3)\n",
    "    optimizer = optim.Adam(model.parameters(), lr=0.001, fused=True)\n",
    "    scheduler = optim.lr_scheduler.MultiStepLR(optimizer, milestones=[250, 400])\n",
    "    return model, optimizer, scheduler\n",
    "\n",
    "num_epochs = 500\n",
    "y_preds, y_preds_proba = train(data1, y1, num_epochs, create_model)"
   ]
  },
  {
   "cell_type": "code",
   "execution_count": 13,
   "id": "79f8dafe",
   "metadata": {},
   "outputs": [
    {
     "name": "stdout",
     "output_type": "stream",
     "text": [
      "              precision    recall  f1-score   support\n",
      "\n",
      "        -1.0       0.70      0.70      0.70        23\n",
      "         0.0       0.57      0.57      0.57        28\n",
      "         1.0       0.58      0.58      0.58        19\n",
      "\n",
      "    accuracy                           0.61        70\n",
      "   macro avg       0.62      0.62      0.62        70\n",
      "weighted avg       0.61      0.61      0.61        70\n",
      "\n"
     ]
    },
    {
     "data": {
      "image/png": "[encoded data removed]",
      "text/plain": [
       "<Figure size 640x480 with 2 Axes>"
      ]
     },
     "metadata": {},
     "output_type": "display_data"
    }
   ],
   "source": [
    "metric = print_metrics('MLP TF-IDF + feature selection', y, target_enc.inverse_transform(y_preds), y_preds_proba)"
   ]
  },
  {
   "cell_type": "code",
   "execution_count": 14,
   "id": "9c9fdf6f",
   "metadata": {},
   "outputs": [
    {
     "data": {
      "text/html": [
       "<div>\n",
       "<style scoped>\n",
       "    .dataframe tbody tr th:only-of-type {\n",
       "        vertical-align: middle;\n",
       "    }\n",
       "\n",
       "    .dataframe tbody tr th {\n",
       "        vertical-align: top;\n",
       "    }\n",
       "\n",
       "    .dataframe thead th {\n",
       "        text-align: right;\n",
       "    }\n",
       "</style>\n",
       "<table border=\"1\" class=\"dataframe\">\n",
       "  <thead>\n",
       "    <tr style=\"text-align: right;\">\n",
       "      <th></th>\n",
       "      <th>accuracy</th>\n",
       "      <th>f1</th>\n",
       "      <th>recall</th>\n",
       "      <th>precision</th>\n",
       "      <th>roc_auc_ovr</th>\n",
       "      <th>roc_auc_ovo</th>\n",
       "    </tr>\n",
       "  </thead>\n",
       "  <tbody>\n",
       "    <tr>\n",
       "      <th>MLP TF-IDF</th>\n",
       "      <td>0.671429</td>\n",
       "      <td>0.675072</td>\n",
       "      <td>0.679416</td>\n",
       "      <td>0.671795</td>\n",
       "      <td>0.755827</td>\n",
       "      <td>0.759868</td>\n",
       "    </tr>\n",
       "    <tr>\n",
       "      <th>MLP TF-IDF + feature selection</th>\n",
       "      <td>0.614286</td>\n",
       "      <td>0.615343</td>\n",
       "      <td>0.615343</td>\n",
       "      <td>0.615343</td>\n",
       "      <td>0.715193</td>\n",
       "      <td>0.717330</td>\n",
       "    </tr>\n",
       "  </tbody>\n",
       "</table>\n",
       "</div>"
      ],
      "text/plain": [
       "                                accuracy        f1    recall  precision  \\\n",
       "MLP TF-IDF                      0.671429  0.675072  0.679416   0.671795   \n",
       "MLP TF-IDF + feature selection  0.614286  0.615343  0.615343   0.615343   \n",
       "\n",
       "                                roc_auc_ovr  roc_auc_ovo  \n",
       "MLP TF-IDF                         0.755827     0.759868  \n",
       "MLP TF-IDF + feature selection     0.715193     0.717330  "
      ]
     },
     "execution_count": 14,
     "metadata": {},
     "output_type": "execute_result"
    }
   ],
   "source": [
    "metrics = pd.concat([metrics, metric])\n",
    "metrics"
   ]
  },
  {
   "cell_type": "markdown",
   "id": "6c952820",
   "metadata": {},
   "source": [
    "Добавление отбора признаков ухудшает качество модели."
   ]
  },
  {
   "cell_type": "code",
   "execution_count": 15,
   "id": "5b1b9226",
   "metadata": {},
   "outputs": [],
   "source": [
    "metrics.to_csv('metrics.csv')"
   ]
  }
 ],
 "metadata": {
  "kernelspec": {
   "display_name": "ml_yp",
   "language": "python",
   "name": "python3"
  },
  "language_info": {
   "codemirror_mode": {
    "name": "ipython",
    "version": 3
   },
   "file_extension": ".py",
   "mimetype": "text/x-python",
   "name": "python",
   "nbconvert_exporter": "python",
   "pygments_lexer": "ipython3",
   "version": "3.12.3"
  }
 },
 "nbformat": 4,
 "nbformat_minor": 5
}
