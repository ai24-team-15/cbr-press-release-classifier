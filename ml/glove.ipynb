{
 "cells": [
  {
   "cell_type": "markdown",
   "metadata": {},
   "source": [
    "### GloVe плюс линейная модель"
   ]
  },
  {
   "cell_type": "markdown",
   "metadata": {},
   "source": [
    "Были подготовлены эмбеддинги для всего корпуса текстов пресс-релизов с помощью модели GloVe [https://github.com/stanfordnlp/GloVe](https://github.com/stanfordnlp/GloVe) c различной длиной вектора. Индекс векторов находится в каталоге `glove`."
   ]
  },
  {
   "cell_type": "code",
   "execution_count": 2,
   "metadata": {},
   "outputs": [
    {
     "name": "stderr",
     "output_type": "stream",
     "text": [
      "[nltk_data] Downloading package punkt to\n",
      "[nltk_data]     C:\\Users\\user\\AppData\\Roaming\\nltk_data...\n",
      "[nltk_data]   Package punkt is already up-to-date!\n",
      "[nltk_data] Downloading package stopwords to\n",
      "[nltk_data]     C:\\Users\\user\\AppData\\Roaming\\nltk_data...\n",
      "[nltk_data]   Package stopwords is already up-to-date!\n",
      "[nltk_data] Downloading package punkt_tab to\n",
      "[nltk_data]     C:\\Users\\user\\AppData\\Roaming\\nltk_data...\n",
      "[nltk_data]   Package punkt_tab is already up-to-date!\n"
     ]
    },
    {
     "data": {
      "text/plain": [
       "True"
      ]
     },
     "execution_count": 2,
     "metadata": {},
     "output_type": "execute_result"
    }
   ],
   "source": [
    "import re\n",
    "from string import punctuation\n",
    "\n",
    "import pandas as pd\n",
    "import numpy as np\n",
    "from tqdm import tqdm\n",
    "import nltk\n",
    "from nltk.corpus import stopwords\n",
    "from pymystem3 import Mystem\n",
    "from sklearn.metrics import accuracy_score, precision_score, recall_score, roc_auc_score, f1_score\n",
    "from sklearn.svm import SVC\n",
    "from sklearn.impute import SimpleImputer\n",
    "from sklearn.base import BaseEstimator, TransformerMixin\n",
    "import utils\n",
    "import warnings\n",
    "warnings.filterwarnings(\"ignore\")\n",
    "\n",
    "RANDOM_STATE = 41825352\n",
    "DATASET_URL = '../data/cbr-press-releases.csv'\n",
    "\n",
    "nltk.download('punkt')\n",
    "nltk.download('stopwords')\n",
    "nltk.download('punkt_tab')"
   ]
  },
  {
   "cell_type": "markdown",
   "metadata": {},
   "source": [
    "Загрузка датасета:"
   ]
  },
  {
   "cell_type": "code",
   "execution_count": 3,
   "metadata": {},
   "outputs": [],
   "source": [
    "df = pd.read_csv(DATASET_URL, parse_dates=['date'])\n",
    "df['rate'] = df.rate.shift(1)\n",
    "df.loc[0, 'rate'] = 5.5\n",
    "df.set_index('date', inplace=True)\n",
    "df.drop('link', axis=1, inplace=True)\n",
    "df.sort_values('date', inplace=True)\n",
    "cur_pr = df.tail(1)\n",
    "df = df[:-1]\n",
    "X = df.drop(['target_categorial', 'target_absolute', 'target_relative'], axis=1)\n",
    "y = df['target_categorial']"
   ]
  },
  {
   "cell_type": "code",
   "execution_count": 4,
   "metadata": {},
   "outputs": [],
   "source": [
    "metrics = pd.read_csv('metrics.csv', index_col=0)"
   ]
  },
  {
   "cell_type": "markdown",
   "metadata": {},
   "source": [
    "Генерация векторов:"
   ]
  },
  {
   "cell_type": "code",
   "execution_count": 5,
   "metadata": {},
   "outputs": [],
   "source": [
    "mystem = Mystem()\n",
    "STOP_WORDS = set(stopwords.words('russian'))\n",
    "\n",
    "def preprocessor(text):\n",
    "    text = text.lower()\n",
    "    regex = re.compile('[^а-я А-ЯЁё]')\n",
    "    text = regex.sub(' ', text)\n",
    "    text = ' '.join(mystem.lemmatize(text))\n",
    "    return ' '.join([word for word in text.split()])\n",
    "\n",
    "# сохраняем корпус текстов в файл\n",
    "with open('releases.txt', 'tw', encoding='utf-8') as f:\n",
    "    for x in X.release.apply(preprocessor):\n",
    "        f.write(x)\n",
    "        f.write(' ')\n",
    "\n",
    "# далее вызываем построение векторов при помощи glove для заданного размера вектора:\n",
    "# vocab_count -min-count 5 -verbose 2 < releases.txt > vocab.txt\n",
    "# cooccur -memory 4.0 -vocab-file vocab.txt -verbose 2 -window-size 15 < releases.txt > cooccurrence.bin\n",
    "# shuffle -memory 4.0 -verbose 2 < cooccurrence.bin > cooccurrence.shuf.bin\n",
    "# glove -save-file vectors -threads 8 -input-file cooccurrence.shuf.bin -x-max 10 -iter 15 -vector-size 50 -binary 2 -vocab-file vocab.txt -verbose 2"
   ]
  },
  {
   "cell_type": "markdown",
   "metadata": {},
   "source": [
    "Класс преобразования документа в вектор на основе индекса векторов:"
   ]
  },
  {
   "cell_type": "code",
   "execution_count": 6,
   "metadata": {},
   "outputs": [],
   "source": [
    "class GloveVectorizer(BaseEstimator, TransformerMixin):\n",
    "    def __init__(self, vectors_file, *, preprocessor=None, vector_size=-1):\n",
    "        self._preprocessor = preprocessor\n",
    "        self._vectors = {}\n",
    "        \n",
    "        with open(vectors_file, encoding=\"utf8\") as f:\n",
    "            for line in f:\n",
    "                word, *vector = line.split()\n",
    "                self._vectors[word] = np.array(vector, dtype=float)\n",
    "                max_size = len(vector)\n",
    "        \n",
    "        self._vector_size = vector_size if vector_size >= 0 and vector_size < max_size else max_size\n",
    "    \n",
    "    \n",
    "    def fit(self, X, y=None):\n",
    "        return self\n",
    "    \n",
    "    \n",
    "    def transform(self, X):\n",
    "        if self._preprocessor:\n",
    "            X = X.apply(self._preprocessor).tolist()\n",
    "        \n",
    "        return np.array([\n",
    "            np.mean([self._vectors[w][:self._vector_size] for w in words if w in self._vectors] \n",
    "                    or [np.zeros(self._vector_size)], axis=0)\n",
    "            for words in X\n",
    "        ])"
   ]
  },
  {
   "cell_type": "code",
   "execution_count": 7,
   "metadata": {},
   "outputs": [],
   "source": [
    "def preprocessor(text):\n",
    "    text = text.lower()\n",
    "    regex = re.compile('[^а-я А-ЯЁё]')\n",
    "    text = regex.sub(' ', text)\n",
    "    text = ' '.join(mystem.lemmatize(text))\n",
    "    return [\n",
    "        word for word in text.split()\n",
    "        if word not in STOP_WORDS\n",
    "    ]\n"
   ]
  },
  {
   "cell_type": "markdown",
   "metadata": {},
   "source": [
    "Подберем оптимальную длину вектора и параметры для SVM:"
   ]
  },
  {
   "cell_type": "code",
   "execution_count": 8,
   "metadata": {},
   "outputs": [
    {
     "name": "stderr",
     "output_type": "stream",
     "text": [
      "100%|██████████| 4/4 [00:26<00:00,  6.55s/it]"
     ]
    },
    {
     "name": "stdout",
     "output_type": "stream",
     "text": [
      "Лучшая модель - SVC(C=3, probability=True, random_state=41825352)\n",
      "ROC-AUC = 0.7635972039178446\n",
      "Vector size = 70\n"
     ]
    },
    {
     "name": "stderr",
     "output_type": "stream",
     "text": [
      "\n"
     ]
    }
   ],
   "source": [
    "from sklearn.preprocessing import StandardScaler\n",
    "\n",
    "\n",
    "auc = []\n",
    "for vec_size in tqdm([50, 70, 90, 100]):\n",
    "    vectorizer = GloveVectorizer(f'glove/vectors.100d.txt', preprocessor=preprocessor, vector_size=vec_size)\n",
    "    glove = vectorizer.fit_transform(X.release)\n",
    "    glove = StandardScaler().fit_transform(glove)\n",
    "    \n",
    "    for c in [0.01, 0.05, 0.1, 0.5, 1, 3, 5, 7, 10]:\n",
    "        for kernel in ['linear', 'poly', 'rbf', 'sigmoid']:\n",
    "            auc.append(\n",
    "                utils.calc_metrics(\n",
    "                    glove, y,\n",
    "                    SVC,\n",
    "                    name='glove svc only release', \n",
    "                    kernel=kernel,\n",
    "                    C=c,\n",
    "                    plot=False, \n",
    "                    probability=True,\n",
    "                    random_state=RANDOM_STATE\n",
    "                    ) + (glove,)\n",
    "                )\n",
    "\n",
    "roc_auc, best_model, glove = max(auc, key=lambda x: x[0])\n",
    "\n",
    "print(f\"Лучшая модель - {best_model}\")\n",
    "print(f\"ROC-AUC = {roc_auc}\")\n",
    "print(f\"Vector size = {glove.shape[1]}\")"
   ]
  },
  {
   "cell_type": "code",
   "execution_count": 9,
   "metadata": {},
   "outputs": [
    {
     "name": "stdout",
     "output_type": "stream",
     "text": [
      "              precision    recall  f1-score   support\n",
      "\n",
      "        -1.0       0.67      0.61      0.64        23\n",
      "         0.0       0.49      0.71      0.58        24\n",
      "         1.0       0.90      0.47      0.62        19\n",
      "\n",
      "    accuracy                           0.61        66\n",
      "   macro avg       0.68      0.60      0.61        66\n",
      "weighted avg       0.67      0.61      0.61        66\n",
      "\n"
     ]
    },
    {
     "data": {
      "image/png": "[encoded data removed]",
      "text/plain": [
       "<Figure size 640x480 with 2 Axes>"
      ]
     },
     "metadata": {},
     "output_type": "display_data"
    },
    {
     "data": {
      "text/html": [
       "<div>\n",
       "<style scoped>\n",
       "    .dataframe tbody tr th:only-of-type {\n",
       "        vertical-align: middle;\n",
       "    }\n",
       "\n",
       "    .dataframe tbody tr th {\n",
       "        vertical-align: top;\n",
       "    }\n",
       "\n",
       "    .dataframe thead th {\n",
       "        text-align: right;\n",
       "    }\n",
       "</style>\n",
       "<table border=\"1\" class=\"dataframe\">\n",
       "  <thead>\n",
       "    <tr style=\"text-align: right;\">\n",
       "      <th></th>\n",
       "      <th>accuracy</th>\n",
       "      <th>f1</th>\n",
       "      <th>precision</th>\n",
       "      <th>recall</th>\n",
       "      <th>roc_auc_ovr</th>\n",
       "    </tr>\n",
       "  </thead>\n",
       "  <tbody>\n",
       "    <tr>\n",
       "      <th>min_baseline</th>\n",
       "      <td>0.663158</td>\n",
       "      <td>0.667893</td>\n",
       "      <td>0.669919</td>\n",
       "      <td>0.666111</td>\n",
       "      <td>NaN</td>\n",
       "    </tr>\n",
       "    <tr>\n",
       "      <th>bow l1 only release</th>\n",
       "      <td>0.621212</td>\n",
       "      <td>0.627058</td>\n",
       "      <td>0.642995</td>\n",
       "      <td>0.619311</td>\n",
       "      <td>0.769110</td>\n",
       "    </tr>\n",
       "    <tr>\n",
       "      <th>bow elasticnet</th>\n",
       "      <td>0.681818</td>\n",
       "      <td>0.686510</td>\n",
       "      <td>0.705556</td>\n",
       "      <td>0.678521</td>\n",
       "      <td>0.861207</td>\n",
       "    </tr>\n",
       "    <tr>\n",
       "      <th>bow release title</th>\n",
       "      <td>0.681818</td>\n",
       "      <td>0.686510</td>\n",
       "      <td>0.705556</td>\n",
       "      <td>0.678521</td>\n",
       "      <td>0.861207</td>\n",
       "    </tr>\n",
       "    <tr>\n",
       "      <th>bow release all num</th>\n",
       "      <td>0.696970</td>\n",
       "      <td>0.698591</td>\n",
       "      <td>0.708400</td>\n",
       "      <td>0.693618</td>\n",
       "      <td>0.858634</td>\n",
       "    </tr>\n",
       "    <tr>\n",
       "      <th>bow svc only release</th>\n",
       "      <td>0.666667</td>\n",
       "      <td>0.676367</td>\n",
       "      <td>0.695838</td>\n",
       "      <td>0.667684</td>\n",
       "      <td>0.836664</td>\n",
       "    </tr>\n",
       "    <tr>\n",
       "      <th>tf_idf l1 only release</th>\n",
       "      <td>0.606061</td>\n",
       "      <td>0.613057</td>\n",
       "      <td>0.643850</td>\n",
       "      <td>0.601767</td>\n",
       "      <td>0.784513</td>\n",
       "    </tr>\n",
       "    <tr>\n",
       "      <th>tf_idf only release best word</th>\n",
       "      <td>0.757576</td>\n",
       "      <td>0.761220</td>\n",
       "      <td>0.769459</td>\n",
       "      <td>0.756484</td>\n",
       "      <td>0.901979</td>\n",
       "    </tr>\n",
       "    <tr>\n",
       "      <th>tf_idf title release</th>\n",
       "      <td>0.712121</td>\n",
       "      <td>0.717903</td>\n",
       "      <td>0.737500</td>\n",
       "      <td>0.709954</td>\n",
       "      <td>0.878747</td>\n",
       "    </tr>\n",
       "    <tr>\n",
       "      <th>tf_idf numerical release</th>\n",
       "      <td>0.681818</td>\n",
       "      <td>0.688457</td>\n",
       "      <td>0.731248</td>\n",
       "      <td>0.677314</td>\n",
       "      <td>0.835872</td>\n",
       "    </tr>\n",
       "    <tr>\n",
       "      <th>tf-idf svc only release</th>\n",
       "      <td>0.757576</td>\n",
       "      <td>0.762899</td>\n",
       "      <td>0.787698</td>\n",
       "      <td>0.753432</td>\n",
       "      <td>0.920457</td>\n",
       "    </tr>\n",
       "    <tr>\n",
       "      <th>word2vec</th>\n",
       "      <td>0.575758</td>\n",
       "      <td>0.578548</td>\n",
       "      <td>0.576812</td>\n",
       "      <td>0.580695</td>\n",
       "      <td>0.744950</td>\n",
       "    </tr>\n",
       "    <tr>\n",
       "      <th>word2vec_pretrained</th>\n",
       "      <td>0.590909</td>\n",
       "      <td>0.603136</td>\n",
       "      <td>0.628721</td>\n",
       "      <td>0.590929</td>\n",
       "      <td>0.760629</td>\n",
       "    </tr>\n",
       "    <tr>\n",
       "      <th>word2vec_pretrained_stop_words</th>\n",
       "      <td>0.500000</td>\n",
       "      <td>0.513921</td>\n",
       "      <td>0.525107</td>\n",
       "      <td>0.506388</td>\n",
       "      <td>0.693653</td>\n",
       "    </tr>\n",
       "    <tr>\n",
       "      <th>word2vec_pretrained svc</th>\n",
       "      <td>0.560606</td>\n",
       "      <td>0.569858</td>\n",
       "      <td>0.569858</td>\n",
       "      <td>0.569858</td>\n",
       "      <td>0.745764</td>\n",
       "    </tr>\n",
       "    <tr>\n",
       "      <th>glove svc only release</th>\n",
       "      <td>0.606061</td>\n",
       "      <td>0.611108</td>\n",
       "      <td>0.684127</td>\n",
       "      <td>0.596904</td>\n",
       "      <td>0.763597</td>\n",
       "    </tr>\n",
       "  </tbody>\n",
       "</table>\n",
       "</div>"
      ],
      "text/plain": [
       "                                accuracy        f1  precision    recall  \\\n",
       "min_baseline                    0.663158  0.667893   0.669919  0.666111   \n",
       "bow l1 only release             0.621212  0.627058   0.642995  0.619311   \n",
       "bow elasticnet                  0.681818  0.686510   0.705556  0.678521   \n",
       "bow release title               0.681818  0.686510   0.705556  0.678521   \n",
       "bow release all num             0.696970  0.698591   0.708400  0.693618   \n",
       "bow svc only release            0.666667  0.676367   0.695838  0.667684   \n",
       "tf_idf l1 only release          0.606061  0.613057   0.643850  0.601767   \n",
       "tf_idf only release best word   0.757576  0.761220   0.769459  0.756484   \n",
       "tf_idf title release            0.712121  0.717903   0.737500  0.709954   \n",
       "tf_idf numerical release        0.681818  0.688457   0.731248  0.677314   \n",
       "tf-idf svc only release         0.757576  0.762899   0.787698  0.753432   \n",
       "word2vec                        0.575758  0.578548   0.576812  0.580695   \n",
       "word2vec_pretrained             0.590909  0.603136   0.628721  0.590929   \n",
       "word2vec_pretrained_stop_words  0.500000  0.513921   0.525107  0.506388   \n",
       "word2vec_pretrained svc         0.560606  0.569858   0.569858  0.569858   \n",
       "glove svc only release          0.606061  0.611108   0.684127  0.596904   \n",
       "\n",
       "                                roc_auc_ovr  \n",
       "min_baseline                            NaN  \n",
       "bow l1 only release                0.769110  \n",
       "bow elasticnet                     0.861207  \n",
       "bow release title                  0.861207  \n",
       "bow release all num                0.858634  \n",
       "bow svc only release               0.836664  \n",
       "tf_idf l1 only release             0.784513  \n",
       "tf_idf only release best word      0.901979  \n",
       "tf_idf title release               0.878747  \n",
       "tf_idf numerical release           0.835872  \n",
       "tf-idf svc only release            0.920457  \n",
       "word2vec                           0.744950  \n",
       "word2vec_pretrained                0.760629  \n",
       "word2vec_pretrained_stop_words     0.693653  \n",
       "word2vec_pretrained svc            0.745764  \n",
       "glove svc only release             0.763597  "
      ]
     },
     "execution_count": 9,
     "metadata": {},
     "output_type": "execute_result"
    }
   ],
   "source": [
    "metric, model = utils.calc_metrics(glove, y, SVC, name='glove svc only release', **best_model.get_params())\n",
    "metrics = pd.concat([metrics, metric], axis=0)\n",
    "metrics"
   ]
  },
  {
   "cell_type": "markdown",
   "metadata": {},
   "source": [
    "Как и в случае Word2Vec, качество лучшей модели получилось хуже минимального бейзлайна."
   ]
  },
  {
   "cell_type": "code",
   "execution_count": 10,
   "metadata": {},
   "outputs": [],
   "source": [
    "metrics.to_csv('metrics.csv')"
   ]
  },
  {
   "cell_type": "markdown",
   "metadata": {},
   "source": []
  }
 ],
 "metadata": {
  "kernelspec": {
   "display_name": "Python 3",
   "language": "python",
   "name": "python3"
  },
  "language_info": {
   "codemirror_mode": {
    "name": "ipython",
    "version": 3
   },
   "file_extension": ".py",
   "mimetype": "text/x-python",
   "name": "python",
   "nbconvert_exporter": "python",
   "pygments_lexer": "ipython3",
   "version": "3.12.8"
  }
 },
 "nbformat": 4,
 "nbformat_minor": 2
}
