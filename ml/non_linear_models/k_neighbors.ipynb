{
 "cells": [
  {
   "cell_type": "markdown",
   "metadata": {},
   "source": [
    "В данном ноутбуке представлены эксперименты с использованием классификатора `KNeighborsClassifier` и различными способами векторизации текста."
   ]
  },
  {
   "cell_type": "code",
   "execution_count": 1,
   "metadata": {},
   "outputs": [
    {
     "name": "stderr",
     "output_type": "stream",
     "text": [
      "Intel(R) Extension for Scikit-learn* enabled (https://github.com/intel/scikit-learn-intelex)\n",
      "c:\\Users\\user\\miniconda3\\envs\\ml_yp\\Lib\\site-packages\\tqdm\\auto.py:21: TqdmWarning: IProgress not found. Please update jupyter and ipywidgets. See https://ipywidgets.readthedocs.io/en/stable/user_install.html\n",
      "  from .autonotebook import tqdm as notebook_tqdm\n"
     ]
    }
   ],
   "source": [
    "from sklearnex import patch_sklearn\n",
    "patch_sklearn()\n",
    "\n",
    "import re\n",
    "import sys\n",
    "import os\n",
    "\n",
    "import numpy as np\n",
    "from tqdm import tqdm\n",
    "import pandas as pd\n",
    "from pymystem3 import Mystem\n",
    "from nltk.corpus import stopwords\n",
    "from sklearn.feature_extraction.text import TfidfVectorizer\n",
    "from sklearn.neighbors import KNeighborsClassifier\n",
    "from sklearn.model_selection import ParameterGrid\n",
    "from sklearn.linear_model import LogisticRegression\n",
    "from sklearn.feature_selection import SelectFromModel\n",
    "from sklearn.decomposition import PCA\n",
    "from sklearn.pipeline import Pipeline\n",
    "from gensim.models import word2vec\n",
    "from matplotlib import pyplot as plt\n",
    "import seaborn as sns\n",
    "import warnings\n",
    "import optuna\n",
    "\n",
    "\n",
    "# Добавляем в path вышестоящую директорию для импорта  calc_metrics\n",
    "sys.path.append(os.path.abspath(os.path.join(\"..\")))\n",
    "\n",
    "from utils import calc_metrics\n",
    "from word2vec_utils import Word2VecVectorizer, Word2VecTfIdfVectorizer\n",
    "\n",
    "RANDOM_STATE = 41825352\n",
    "\n",
    "sns.set_style(\"whitegrid\")\n",
    "warnings.filterwarnings('ignore')"
   ]
  },
  {
   "cell_type": "markdown",
   "metadata": {},
   "source": [
    "Загрузим данные которые были предобработаны в ноутбуке `min_baseline.ipynb`."
   ]
  },
  {
   "cell_type": "code",
   "execution_count": 2,
   "metadata": {},
   "outputs": [],
   "source": [
    "X = pd.read_csv(\"../data/x.csv\", index_col=\"date\")\n",
    "y = pd.read_csv(\"../data/y.csv\", index_col=\"date\").iloc[:, 0]"
   ]
  },
  {
   "cell_type": "markdown",
   "metadata": {},
   "source": [
    "Предобработаем тексты пресс-релизов."
   ]
  },
  {
   "cell_type": "code",
   "execution_count": 3,
   "metadata": {},
   "outputs": [],
   "source": [
    "# инициализируем лемматизатор\n",
    "mystem = Mystem()\n",
    "\n",
    "# загружаем стоп-слова\n",
    "STOP_WORDS = set(stopwords.words(\"russian\"))\n",
    "\n",
    "\n",
    "# функция для препроцессинга текста\n",
    "def preprocessor(text):\n",
    "\n",
    "    # приводим к нижнему регистру\n",
    "    text = text.lower()\n",
    "\n",
    "    # удаляем все символы, кроме пробелов и русских букв.\n",
    "    regex = re.compile(\"[^а-я А-ЯЁё]\")\n",
    "    text = regex.sub(\" \", text)\n",
    "\n",
    "    # лемматизируем тексты\n",
    "    text = \" \".join(mystem.lemmatize(text))\n",
    "\n",
    "    # удаляем стоп-слова\n",
    "    text = \" \".join([word for word in text.split() if word not in STOP_WORDS])\n",
    "    return text\n",
    "\n",
    "\n",
    "Xpreproc = X.release.apply(preprocessor)"
   ]
  },
  {
   "cell_type": "markdown",
   "metadata": {},
   "source": [
    "### Отбор признаков с помощью L1-регуляризации"
   ]
  },
  {
   "cell_type": "markdown",
   "metadata": {},
   "source": [
    "Подберем параметры для алгоритма `KNeighborsClassifier` с помощью библиотеки optuna. Количество признаков, полученное с помощью TF-IDF, очень велико, поэтому попробуем уменьшить их количество, отобрав их с помощью логистической регрессии с L1-регуляризацией."
   ]
  },
  {
   "cell_type": "code",
   "execution_count": 4,
   "metadata": {},
   "outputs": [
    {
     "name": "stderr",
     "output_type": "stream",
     "text": [
      "Best trial: 189. Best value: 0.844114: 100%|██████████| 400/400 [00:54<00:00,  7.32it/s]\n"
     ]
    }
   ],
   "source": [
    "def objective(trial):\n",
    "\n",
    "    # параметры для перебора\n",
    "    params = {\n",
    "        'C': trial.suggest_float('C', 1, 500),\n",
    "        'n_neighbors': trial.suggest_int('n_neighbors', 1, 25),\n",
    "        'weights': trial.suggest_categorical(\"weights\", ['uniform', 'distance']),\n",
    "        'p': trial.suggest_float('p', 1, 2),\n",
    "        'max_df': trial.suggest_float('max_df', 0.1, 1),\n",
    "        'min_df': trial.suggest_int('min_df', 1, 10),\n",
    "        'metric': trial.suggest_categorical(\"metric\", ['cityblock', 'euclidean', 'cosine'])\n",
    "    }\n",
    "    \n",
    "    # векторизуем текст\n",
    "    vectorizer = TfidfVectorizer(max_df=params['max_df'], min_df=params['min_df'])\n",
    "    tf_idf = vectorizer.fit_transform(Xpreproc).toarray()\n",
    "\n",
    "    # определяем модель для отбора признаков\n",
    "    estimator = LogisticRegression(\n",
    "        penalty=\"l1\", solver=\"liblinear\", C=params[\"C\"], max_iter=1000, random_state=RANDOM_STATE\n",
    "    )\n",
    "    \n",
    "    # отбор признаков по важности\n",
    "    params['max_features'] = trial.suggest_int(\"max_features\", 5, tf_idf.shape[1])\n",
    "    selector = SelectFromModel(estimator, max_features=params[\"max_features\"])\n",
    "\n",
    "    # определяем pipeline\n",
    "    pipeline = Pipeline([\n",
    "        (\"selector\", selector),\n",
    "        (\n",
    "            \"model\",\n",
    "            KNeighborsClassifier(\n",
    "                params['n_neighbors'], weights=params['weights'], p=params['p'],\n",
    "                algorithm='brute', metric=params['metric']\n",
    "            ),\n",
    "        ),\n",
    "    ])\n",
    "\n",
    "    # считаем метрики на кросс валидации\n",
    "    try:\n",
    "        metric, _ = calc_metrics(tf_idf, y, pipeline, name=\" \", plot=False, calc_jobs=-1)\n",
    "    except ValueError or IndexError:\n",
    "        return -np.inf\n",
    "\n",
    "    return metric\n",
    "\n",
    "\n",
    "# устанавливаем уровень логирования optuna\n",
    "optuna.logging.set_verbosity(optuna.logging.WARNING)\n",
    "\n",
    "# запускаем подбор гиперпараметров\n",
    "study = optuna.create_study(direction=\"maximize\")\n",
    "study.optimize(objective, n_trials=400, show_progress_bar=True)"
   ]
  },
  {
   "cell_type": "markdown",
   "metadata": {},
   "source": [
    "Подобранные оптимальные параметры:"
   ]
  },
  {
   "cell_type": "code",
   "execution_count": 5,
   "metadata": {},
   "outputs": [
    {
     "data": {
      "text/plain": [
       "{'C': 435.61061540050844,\n",
       " 'n_neighbors': 2,\n",
       " 'weights': 'distance',\n",
       " 'p': 1.6745446714251242,\n",
       " 'max_df': 0.9450766977518593,\n",
       " 'min_df': 9,\n",
       " 'metric': 'cosine',\n",
       " 'max_features': 659}"
      ]
     },
     "execution_count": 5,
     "metadata": {},
     "output_type": "execute_result"
    }
   ],
   "source": [
    "study.best_params"
   ]
  },
  {
   "cell_type": "markdown",
   "metadata": {},
   "source": [
    "Соберем итоговый пайплайн и посчитаем метрики:"
   ]
  },
  {
   "cell_type": "code",
   "execution_count": 6,
   "metadata": {},
   "outputs": [
    {
     "name": "stdout",
     "output_type": "stream",
     "text": [
      "              precision    recall  f1-score   support\n",
      "\n",
      "        -1.0       0.80      0.87      0.83        23\n",
      "         0.0       0.69      0.64      0.67        28\n",
      "         1.0       0.74      0.74      0.74        19\n",
      "\n",
      "    accuracy                           0.74        70\n",
      "   macro avg       0.74      0.75      0.75        70\n",
      "weighted avg       0.74      0.74      0.74        70\n",
      "\n"
     ]
    },
    {
     "data": {
      "image/png": "[encoded data removed]",
      "text/plain": [
       "<Figure size 640x480 with 2 Axes>"
      ]
     },
     "metadata": {},
     "output_type": "display_data"
    }
   ],
   "source": [
    "vectorizer = TfidfVectorizer(preprocessor=preprocessor,\n",
    "                             min_df=study.best_params[\"min_df\"],\n",
    "                             max_df=study.best_params[\"max_df\"])\n",
    "\n",
    "tf_idf = vectorizer.fit_transform(X.release).toarray()\n",
    "\n",
    "estimator = LogisticRegression(\n",
    "    penalty=\"l1\", solver=\"liblinear\", C=study.best_params[\"C\"], max_iter=1000, random_state=RANDOM_STATE\n",
    ")\n",
    "\n",
    "selector = SelectFromModel(estimator, max_features=study.best_params[\"max_features\"])\n",
    "\n",
    "classifier = KNeighborsClassifier(study.best_params['n_neighbors'],\n",
    "                                  weights=study.best_params['weights'],\n",
    "                                  p=study.best_params['p'],\n",
    "                                  metric=study.best_params['metric'],\n",
    "                                  algorithm='brute')\n",
    "\n",
    "pipeline = Pipeline([\n",
    "    (\"selector\", selector),\n",
    "    (\"model\", classifier),\n",
    "])\n",
    "\n",
    "metrics, model = calc_metrics(\n",
    "    tf_idf, y,\n",
    "    pipeline,\n",
    "    name=\"K-neighbors tf_idf\"\n",
    ")"
   ]
  },
  {
   "cell_type": "code",
   "execution_count": 7,
   "metadata": {},
   "outputs": [
    {
     "data": {
      "text/html": [
       "<div>\n",
       "<style scoped>\n",
       "    .dataframe tbody tr th:only-of-type {\n",
       "        vertical-align: middle;\n",
       "    }\n",
       "\n",
       "    .dataframe tbody tr th {\n",
       "        vertical-align: top;\n",
       "    }\n",
       "\n",
       "    .dataframe thead th {\n",
       "        text-align: right;\n",
       "    }\n",
       "</style>\n",
       "<table border=\"1\" class=\"dataframe\">\n",
       "  <thead>\n",
       "    <tr style=\"text-align: right;\">\n",
       "      <th></th>\n",
       "      <th>accuracy</th>\n",
       "      <th>f1</th>\n",
       "      <th>recall</th>\n",
       "      <th>precision</th>\n",
       "      <th>roc_auc_ovr</th>\n",
       "      <th>roc_auc_ovo</th>\n",
       "    </tr>\n",
       "  </thead>\n",
       "  <tbody>\n",
       "    <tr>\n",
       "      <th>K-neighbors tf_idf</th>\n",
       "      <td>0.753623</td>\n",
       "      <td>0.757918</td>\n",
       "      <td>0.755544</td>\n",
       "      <td>0.760812</td>\n",
       "      <td>0.839217</td>\n",
       "      <td>0.841561</td>\n",
       "    </tr>\n",
       "  </tbody>\n",
       "</table>\n",
       "</div>"
      ],
      "text/plain": [
       "                    accuracy        f1    recall  precision  roc_auc_ovr  \\\n",
       "K-neighbors tf_idf  0.753623  0.757918  0.755544   0.760812     0.839217   \n",
       "\n",
       "                    roc_auc_ovo  \n",
       "K-neighbors tf_idf     0.841561  "
      ]
     },
     "execution_count": 7,
     "metadata": {},
     "output_type": "execute_result"
    }
   ],
   "source": [
    "metrics"
   ]
  },
  {
   "cell_type": "markdown",
   "metadata": {},
   "source": [
    "### Отбор признаков с помощью PCA\n",
    "\n",
    "Попробуем другой способ отбора признаков - PCA."
   ]
  },
  {
   "cell_type": "code",
   "execution_count": 8,
   "metadata": {},
   "outputs": [
    {
     "name": "stderr",
     "output_type": "stream",
     "text": [
      "Best trial: 376. Best value: 0.833081: 100%|██████████| 400/400 [00:37<00:00, 10.70it/s]\n"
     ]
    }
   ],
   "source": [
    "def objective(trial):\n",
    "\n",
    "    # параметры для перебора\n",
    "    params = {\n",
    "        'n_neighbors': trial.suggest_int('n_neighbors', 1, 25),\n",
    "        'weights': trial.suggest_categorical(\"weights\", ['uniform', 'distance']),\n",
    "        'p': trial.suggest_float('p', 1, 2),\n",
    "        'max_df': trial.suggest_float('max_df', 0.1, 1),\n",
    "        'min_df': trial.suggest_int('min_df', 1, 10),\n",
    "        'metric': trial.suggest_categorical(\"metric\", ['cityblock', 'euclidean', 'cosine']),\n",
    "        'n_components': trial.suggest_int(\"n_components\", 2, 29)\n",
    "    }\n",
    "    \n",
    "    # векторизуем текст\n",
    "    vectorizer = TfidfVectorizer(max_df=params['max_df'], min_df=params['min_df'])\n",
    "    tf_idf = vectorizer.fit_transform(Xpreproc).toarray()\n",
    "\n",
    "    # определяем pipeline\n",
    "    pipeline = Pipeline([\n",
    "        # отбор признаков по важности\n",
    "        (\"selector\", PCA(n_components=params[\"n_components\"])),\n",
    "        (\n",
    "            \"model\",\n",
    "            KNeighborsClassifier(\n",
    "                params['n_neighbors'], weights=params['weights'], p=params['p'],\n",
    "                algorithm='brute', metric=params['metric']\n",
    "            ),\n",
    "        ),\n",
    "    ])\n",
    "\n",
    "    # считаем метрики на кросс валидации\n",
    "    try:\n",
    "        metric, _ = calc_metrics(tf_idf, y, pipeline, name=\" \", plot=False, calc_jobs=-1)\n",
    "    except ValueError or IndexError:\n",
    "        return -np.inf\n",
    "\n",
    "    return metric\n",
    "\n",
    "\n",
    "# устанавливаем уровень логирования optuna\n",
    "optuna.logging.set_verbosity(optuna.logging.WARNING)\n",
    "\n",
    "# запускаем подбор гиперпараметров\n",
    "study = optuna.create_study(direction=\"maximize\")\n",
    "study.optimize(objective, n_trials=400, show_progress_bar=True)"
   ]
  },
  {
   "cell_type": "markdown",
   "metadata": {},
   "source": [
    "Результат чуть хуже предыдущего способа. Подобранные оптимальные параметры:"
   ]
  },
  {
   "cell_type": "code",
   "execution_count": 9,
   "metadata": {},
   "outputs": [
    {
     "data": {
      "text/plain": [
       "{'n_neighbors': 2,\n",
       " 'weights': 'distance',\n",
       " 'p': 1.6518575766122061,\n",
       " 'max_df': 0.45878139638486254,\n",
       " 'min_df': 8,\n",
       " 'metric': 'euclidean',\n",
       " 'n_components': 10}"
      ]
     },
     "execution_count": 9,
     "metadata": {},
     "output_type": "execute_result"
    }
   ],
   "source": [
    "study.best_params"
   ]
  },
  {
   "cell_type": "markdown",
   "metadata": {},
   "source": [
    "Соберем итоговый пайплайн и посчитаем метрики:"
   ]
  },
  {
   "cell_type": "code",
   "execution_count": 10,
   "metadata": {},
   "outputs": [
    {
     "name": "stdout",
     "output_type": "stream",
     "text": [
      "              precision    recall  f1-score   support\n",
      "\n",
      "        -1.0       0.72      0.78      0.75        23\n",
      "         0.0       0.67      0.71      0.69        28\n",
      "         1.0       0.87      0.68      0.76        19\n",
      "\n",
      "    accuracy                           0.73        70\n",
      "   macro avg       0.75      0.73      0.73        70\n",
      "weighted avg       0.74      0.73      0.73        70\n",
      "\n"
     ]
    },
    {
     "data": {
      "image/png": "[encoded data removed]",
      "text/plain": [
       "<Figure size 640x480 with 2 Axes>"
      ]
     },
     "metadata": {},
     "output_type": "display_data"
    }
   ],
   "source": [
    "vectorizer = TfidfVectorizer(preprocessor=preprocessor,\n",
    "                             min_df=study.best_params[\"min_df\"],\n",
    "                             max_df=study.best_params[\"max_df\"])\n",
    "\n",
    "tf_idf = vectorizer.fit_transform(X.release).toarray()\n",
    "\n",
    "classifier = KNeighborsClassifier(study.best_params['n_neighbors'],\n",
    "                                  weights=study.best_params['weights'],\n",
    "                                  p=study.best_params['p'],\n",
    "                                  metric=study.best_params['metric'],\n",
    "                                  algorithm='brute')\n",
    "\n",
    "pipeline = Pipeline([\n",
    "    (\"selector\", PCA(n_components=study.best_params[\"n_components\"])),\n",
    "    (\"model\", classifier),\n",
    "])\n",
    "\n",
    "metric, model = calc_metrics(\n",
    "    tf_idf, y,\n",
    "    pipeline,\n",
    "    name=\"K-neighbors tf_idf pca\"\n",
    ")"
   ]
  },
  {
   "cell_type": "code",
   "execution_count": 11,
   "metadata": {},
   "outputs": [
    {
     "data": {
      "text/html": [
       "<div>\n",
       "<style scoped>\n",
       "    .dataframe tbody tr th:only-of-type {\n",
       "        vertical-align: middle;\n",
       "    }\n",
       "\n",
       "    .dataframe tbody tr th {\n",
       "        vertical-align: top;\n",
       "    }\n",
       "\n",
       "    .dataframe thead th {\n",
       "        text-align: right;\n",
       "    }\n",
       "</style>\n",
       "<table border=\"1\" class=\"dataframe\">\n",
       "  <thead>\n",
       "    <tr style=\"text-align: right;\">\n",
       "      <th></th>\n",
       "      <th>accuracy</th>\n",
       "      <th>f1</th>\n",
       "      <th>recall</th>\n",
       "      <th>precision</th>\n",
       "      <th>roc_auc_ovr</th>\n",
       "      <th>roc_auc_ovo</th>\n",
       "    </tr>\n",
       "  </thead>\n",
       "  <tbody>\n",
       "    <tr>\n",
       "      <th>K-neighbors tf_idf</th>\n",
       "      <td>0.742857</td>\n",
       "      <td>0.745614</td>\n",
       "      <td>0.749755</td>\n",
       "      <td>0.743050</td>\n",
       "      <td>0.840990</td>\n",
       "      <td>0.844114</td>\n",
       "    </tr>\n",
       "    <tr>\n",
       "      <th>K-neighbors tf_idf pca</th>\n",
       "      <td>0.728571</td>\n",
       "      <td>0.734787</td>\n",
       "      <td>0.727035</td>\n",
       "      <td>0.751111</td>\n",
       "      <td>0.816386</td>\n",
       "      <td>0.821299</td>\n",
       "    </tr>\n",
       "  </tbody>\n",
       "</table>\n",
       "</div>"
      ],
      "text/plain": [
       "                        accuracy        f1    recall  precision  roc_auc_ovr  \\\n",
       "K-neighbors tf_idf      0.742857  0.745614  0.749755   0.743050     0.840990   \n",
       "K-neighbors tf_idf pca  0.728571  0.734787  0.727035   0.751111     0.816386   \n",
       "\n",
       "                        roc_auc_ovo  \n",
       "K-neighbors tf_idf         0.844114  \n",
       "K-neighbors tf_idf pca     0.821299  "
      ]
     },
     "execution_count": 11,
     "metadata": {},
     "output_type": "execute_result"
    }
   ],
   "source": [
    "metrics = pd.concat([metrics, metric], axis=0)\n",
    "metrics"
   ]
  },
  {
   "cell_type": "markdown",
   "metadata": {},
   "source": [
    "Теперь попробуем закодировать релизы с помощью `word2vec`. Подберем оптимальные параметры:"
   ]
  },
  {
   "cell_type": "code",
   "execution_count": 12,
   "metadata": {},
   "outputs": [
    {
     "name": "stderr",
     "output_type": "stream",
     "text": [
      "  0%|          | 0/200 [00:00<?, ?it/s]"
     ]
    },
    {
     "name": "stderr",
     "output_type": "stream",
     "text": [
      "Best trial: 198. Best value: 0.78976: 100%|██████████| 200/200 [06:50<00:00,  2.05s/it] \n"
     ]
    }
   ],
   "source": [
    "def objective(trial):\n",
    "    # параметры для перебора\n",
    "    params = {\n",
    "        'C': trial.suggest_float('C', 1, 500),\n",
    "        'n_neighbors': trial.suggest_int('n_neighbors', 1, 25),\n",
    "        'weights': trial.suggest_categorical(\"weights\", ['uniform', 'distance']),\n",
    "        'p': trial.suggest_float('p', 1, 2),\n",
    "        'window': trial.suggest_int('window', 2, 20),\n",
    "        'vector_size': trial.suggest_int('vector_size', 25, 200, step=25),\n",
    "        'metric': trial.suggest_categorical(\"metric\", ['cityblock', 'euclidean', 'cosine'])\n",
    "    }\n",
    "    \n",
    "    # векторизуем текст\n",
    "    # параметр workers нужно указывать 1, иначе результат будет невоспроизводимый,\n",
    "    # даже с указанным seed\n",
    "    w2v = Word2VecVectorizer(window=params['window'], workers=1, sg=1,\n",
    "                             vector_size=params['vector_size'], seed=RANDOM_STATE)\n",
    "    embedings_w2v = w2v.fit_transform(Xpreproc.str.split())\n",
    "\n",
    "    model = KNeighborsClassifier(\n",
    "        params['n_neighbors'], weights=params['weights'], p=params['p'],\n",
    "        algorithm='brute', metric=params['metric']\n",
    "    )\n",
    "\n",
    "    # считаем метрики на кросс валидации\n",
    "    try:\n",
    "        metric, _ = calc_metrics(embedings_w2v, y, model, name=\" \", plot=False, calc_jobs=-1)\n",
    "    except ValueError or IndexError:\n",
    "        return -np.inf\n",
    "\n",
    "    return metric\n",
    "\n",
    "\n",
    "# устанавливаем уровень логирования optuna\n",
    "optuna.logging.set_verbosity(optuna.logging.WARNING)\n",
    "\n",
    "# запускаем подбор гиперпараметров\n",
    "study = optuna.create_study(direction=\"maximize\")\n",
    "study.optimize(objective, n_trials=200, show_progress_bar=True)"
   ]
  },
  {
   "cell_type": "code",
   "execution_count": 13,
   "metadata": {},
   "outputs": [
    {
     "data": {
      "text/plain": [
       "{'C': 400.5132131642727,\n",
       " 'n_neighbors': 2,\n",
       " 'weights': 'uniform',\n",
       " 'p': 1.6857641135173835,\n",
       " 'window': 20,\n",
       " 'vector_size': 75,\n",
       " 'metric': 'euclidean'}"
      ]
     },
     "execution_count": 13,
     "metadata": {},
     "output_type": "execute_result"
    }
   ],
   "source": [
    "study.best_params\n"
   ]
  },
  {
   "cell_type": "code",
   "execution_count": 14,
   "metadata": {},
   "outputs": [
    {
     "name": "stdout",
     "output_type": "stream",
     "text": [
      "              precision    recall  f1-score   support\n",
      "\n",
      "        -1.0       0.66      0.91      0.76        23\n",
      "         0.0       0.58      0.64      0.61        28\n",
      "         1.0       1.00      0.37      0.54        19\n",
      "\n",
      "    accuracy                           0.66        70\n",
      "   macro avg       0.75      0.64      0.64        70\n",
      "weighted avg       0.72      0.66      0.64        70\n",
      "\n"
     ]
    },
    {
     "data": {
      "image/png": "[encoded data removed]",
      "text/plain": [
       "<Figure size 640x480 with 2 Axes>"
      ]
     },
     "metadata": {},
     "output_type": "display_data"
    }
   ],
   "source": [
    "w2v = Word2VecVectorizer(preprocessor=preprocessor, window=study.best_params['window'],\n",
    "                         workers=1, sg=1, vector_size=study.best_params['vector_size'], seed=RANDOM_STATE)\n",
    "embedings_w2v = w2v.fit_transform(X.release)\n",
    "\n",
    "classifier = KNeighborsClassifier(study.best_params['n_neighbors'],\n",
    "                                  weights=study.best_params['weights'],\n",
    "                                  p=study.best_params['p'], metric=study.best_params['metric'],\n",
    "                                  algorithm='brute')\n",
    "\n",
    "metric, model = calc_metrics(\n",
    "    embedings_w2v,\n",
    "    y,\n",
    "    classifier,\n",
    "    name=\"K-neighbors word2vec\",\n",
    ")"
   ]
  },
  {
   "cell_type": "code",
   "execution_count": 15,
   "metadata": {},
   "outputs": [
    {
     "data": {
      "text/html": [
       "<div>\n",
       "<style scoped>\n",
       "    .dataframe tbody tr th:only-of-type {\n",
       "        vertical-align: middle;\n",
       "    }\n",
       "\n",
       "    .dataframe tbody tr th {\n",
       "        vertical-align: top;\n",
       "    }\n",
       "\n",
       "    .dataframe thead th {\n",
       "        text-align: right;\n",
       "    }\n",
       "</style>\n",
       "<table border=\"1\" class=\"dataframe\">\n",
       "  <thead>\n",
       "    <tr style=\"text-align: right;\">\n",
       "      <th></th>\n",
       "      <th>accuracy</th>\n",
       "      <th>f1</th>\n",
       "      <th>recall</th>\n",
       "      <th>precision</th>\n",
       "      <th>roc_auc_ovr</th>\n",
       "      <th>roc_auc_ovo</th>\n",
       "    </tr>\n",
       "  </thead>\n",
       "  <tbody>\n",
       "    <tr>\n",
       "      <th>K-neighbors tf_idf</th>\n",
       "      <td>0.742857</td>\n",
       "      <td>0.745614</td>\n",
       "      <td>0.749755</td>\n",
       "      <td>0.743050</td>\n",
       "      <td>0.840990</td>\n",
       "      <td>0.844114</td>\n",
       "    </tr>\n",
       "    <tr>\n",
       "      <th>K-neighbors tf_idf pca</th>\n",
       "      <td>0.728571</td>\n",
       "      <td>0.734787</td>\n",
       "      <td>0.727035</td>\n",
       "      <td>0.751111</td>\n",
       "      <td>0.816386</td>\n",
       "      <td>0.821299</td>\n",
       "    </tr>\n",
       "    <tr>\n",
       "      <th>K-neighbors word2vec</th>\n",
       "      <td>0.657143</td>\n",
       "      <td>0.637422</td>\n",
       "      <td>0.641441</td>\n",
       "      <td>0.745632</td>\n",
       "      <td>0.787306</td>\n",
       "      <td>0.789760</td>\n",
       "    </tr>\n",
       "  </tbody>\n",
       "</table>\n",
       "</div>"
      ],
      "text/plain": [
       "                        accuracy        f1    recall  precision  roc_auc_ovr  \\\n",
       "K-neighbors tf_idf      0.742857  0.745614  0.749755   0.743050     0.840990   \n",
       "K-neighbors tf_idf pca  0.728571  0.734787  0.727035   0.751111     0.816386   \n",
       "K-neighbors word2vec    0.657143  0.637422  0.641441   0.745632     0.787306   \n",
       "\n",
       "                        roc_auc_ovo  \n",
       "K-neighbors tf_idf         0.844114  \n",
       "K-neighbors tf_idf pca     0.821299  \n",
       "K-neighbors word2vec       0.789760  "
      ]
     },
     "execution_count": 15,
     "metadata": {},
     "output_type": "execute_result"
    }
   ],
   "source": [
    "metrics = pd.concat([metrics, metric], axis=0)\n",
    "metrics"
   ]
  },
  {
   "cell_type": "markdown",
   "metadata": {},
   "source": [
    "Результат получился хуже, чем при векторизации с помощью TF-IDF. Попробуем взвешивать вектора слов с учетом их важности, а не просто усреднять:"
   ]
  },
  {
   "cell_type": "code",
   "execution_count": 16,
   "metadata": {},
   "outputs": [
    {
     "name": "stderr",
     "output_type": "stream",
     "text": [
      "Best trial: 195. Best value: 0.797633: 100%|██████████| 200/200 [10:03<00:00,  3.02s/it]\n"
     ]
    }
   ],
   "source": [
    "def objective(trial):\n",
    "    # параметры для перебора\n",
    "    params = {\n",
    "        'C': trial.suggest_float('C', 1, 500),\n",
    "        'n_neighbors': trial.suggest_int('n_neighbors', 1, 25),\n",
    "        'weights': trial.suggest_categorical(\"weights\", ['uniform', 'distance']),\n",
    "        'p': trial.suggest_float('p', 1, 2),\n",
    "        'window': trial.suggest_int('window', 2, 20),\n",
    "        'vector_size': trial.suggest_int('vector_size', 25, 200, step=25),\n",
    "        'metric': trial.suggest_categorical(\"metric\", ['cityblock', 'euclidean', 'cosine']),\n",
    "        'max_df': trial.suggest_float('max_df', 0.1, 1),\n",
    "        'min_df': trial.suggest_int('min_df', 1, 10),\n",
    "    }\n",
    "    \n",
    "    # векторизуем текст\n",
    "    w2v = Word2VecTfIdfVectorizer(window=params['window'], workers=1,\n",
    "                             sg=1, vector_size=params['vector_size'], seed=RANDOM_STATE)\n",
    "    embedings_w2v = w2v.fit_transform(Xpreproc.str.split(), max_df=params['max_df'], min_df=params['min_df'])\n",
    "\n",
    "    model = KNeighborsClassifier(\n",
    "                params['n_neighbors'], weights=params['weights'], p=params['p'],\n",
    "                algorithm='brute', metric=params['metric']\n",
    "            )\n",
    "\n",
    "    # считаем метрики на кросс валидации\n",
    "    try:\n",
    "        metric, _ = calc_metrics(embedings_w2v, y, model, name=\" \", plot=False, calc_jobs=-1)\n",
    "    except ValueError or IndexError:\n",
    "        return -np.inf\n",
    "\n",
    "    return metric\n",
    "\n",
    "\n",
    "# устанавливаем уровень логирования optuna\n",
    "optuna.logging.set_verbosity(optuna.logging.WARNING)\n",
    "\n",
    "# запускаем подбор гиперпараметров\n",
    "study = optuna.create_study(direction=\"maximize\")\n",
    "study.optimize(objective, n_trials=200, show_progress_bar=True, catch=(ValueError,))"
   ]
  },
  {
   "cell_type": "code",
   "execution_count": 17,
   "metadata": {},
   "outputs": [
    {
     "data": {
      "text/plain": [
       "{'C': 149.52309553907034,\n",
       " 'n_neighbors': 2,\n",
       " 'weights': 'uniform',\n",
       " 'p': 1.5599626817145391,\n",
       " 'window': 20,\n",
       " 'vector_size': 150,\n",
       " 'metric': 'euclidean',\n",
       " 'max_df': 0.3196980622113894,\n",
       " 'min_df': 5}"
      ]
     },
     "execution_count": 17,
     "metadata": {},
     "output_type": "execute_result"
    }
   ],
   "source": [
    "study.best_params"
   ]
  },
  {
   "cell_type": "code",
   "execution_count": 18,
   "metadata": {},
   "outputs": [
    {
     "name": "stdout",
     "output_type": "stream",
     "text": [
      "              precision    recall  f1-score   support\n",
      "\n",
      "        -1.0       0.66      0.91      0.76        23\n",
      "         0.0       0.58      0.64      0.61        28\n",
      "         1.0       1.00      0.37      0.54        19\n",
      "\n",
      "    accuracy                           0.66        70\n",
      "   macro avg       0.75      0.64      0.64        70\n",
      "weighted avg       0.72      0.66      0.64        70\n",
      "\n"
     ]
    },
    {
     "data": {
      "image/png": "[encoded data removed]",
      "text/plain": [
       "<Figure size 640x480 with 2 Axes>"
      ]
     },
     "metadata": {},
     "output_type": "display_data"
    }
   ],
   "source": [
    "w2v = Word2VecTfIdfVectorizer(preprocessor=preprocessor, window=study.best_params['window'],\n",
    "                         workers=1, sg=1, vector_size=study.best_params['vector_size'], seed=RANDOM_STATE)\n",
    "embedings_w2v = w2v.fit_transform(X.release, max_df=study.best_params['max_df'], min_df=study.best_params['min_df'])\n",
    "\n",
    "classifier = KNeighborsClassifier(study.best_params['n_neighbors'],\n",
    "                                  weights=study.best_params['weights'],\n",
    "                                  p=study.best_params['p'], metric=study.best_params['metric'],\n",
    "                                  algorithm='brute')\n",
    "\n",
    "metric, model = calc_metrics(\n",
    "    embedings_w2v,\n",
    "    y,\n",
    "    classifier,\n",
    "    name=\"K-neighbors weighted word2vec\",\n",
    ")"
   ]
  },
  {
   "cell_type": "code",
   "execution_count": 19,
   "metadata": {},
   "outputs": [
    {
     "data": {
      "text/html": [
       "<div>\n",
       "<style scoped>\n",
       "    .dataframe tbody tr th:only-of-type {\n",
       "        vertical-align: middle;\n",
       "    }\n",
       "\n",
       "    .dataframe tbody tr th {\n",
       "        vertical-align: top;\n",
       "    }\n",
       "\n",
       "    .dataframe thead th {\n",
       "        text-align: right;\n",
       "    }\n",
       "</style>\n",
       "<table border=\"1\" class=\"dataframe\">\n",
       "  <thead>\n",
       "    <tr style=\"text-align: right;\">\n",
       "      <th></th>\n",
       "      <th>accuracy</th>\n",
       "      <th>f1</th>\n",
       "      <th>recall</th>\n",
       "      <th>precision</th>\n",
       "      <th>roc_auc_ovr</th>\n",
       "      <th>roc_auc_ovo</th>\n",
       "    </tr>\n",
       "  </thead>\n",
       "  <tbody>\n",
       "    <tr>\n",
       "      <th>K-neighbors tf_idf</th>\n",
       "      <td>0.742857</td>\n",
       "      <td>0.745614</td>\n",
       "      <td>0.749755</td>\n",
       "      <td>0.743050</td>\n",
       "      <td>0.840990</td>\n",
       "      <td>0.844114</td>\n",
       "    </tr>\n",
       "    <tr>\n",
       "      <th>K-neighbors tf_idf pca</th>\n",
       "      <td>0.728571</td>\n",
       "      <td>0.734787</td>\n",
       "      <td>0.727035</td>\n",
       "      <td>0.751111</td>\n",
       "      <td>0.816386</td>\n",
       "      <td>0.821299</td>\n",
       "    </tr>\n",
       "    <tr>\n",
       "      <th>K-neighbors word2vec</th>\n",
       "      <td>0.657143</td>\n",
       "      <td>0.637422</td>\n",
       "      <td>0.641441</td>\n",
       "      <td>0.745632</td>\n",
       "      <td>0.787306</td>\n",
       "      <td>0.789760</td>\n",
       "    </tr>\n",
       "    <tr>\n",
       "      <th>K-neighbors weighted word2vec</th>\n",
       "      <td>0.657143</td>\n",
       "      <td>0.637422</td>\n",
       "      <td>0.641441</td>\n",
       "      <td>0.745632</td>\n",
       "      <td>0.795419</td>\n",
       "      <td>0.797633</td>\n",
       "    </tr>\n",
       "  </tbody>\n",
       "</table>\n",
       "</div>"
      ],
      "text/plain": [
       "                               accuracy        f1    recall  precision  \\\n",
       "K-neighbors tf_idf             0.742857  0.745614  0.749755   0.743050   \n",
       "K-neighbors tf_idf pca         0.728571  0.734787  0.727035   0.751111   \n",
       "K-neighbors word2vec           0.657143  0.637422  0.641441   0.745632   \n",
       "K-neighbors weighted word2vec  0.657143  0.637422  0.641441   0.745632   \n",
       "\n",
       "                               roc_auc_ovr  roc_auc_ovo  \n",
       "K-neighbors tf_idf                0.840990     0.844114  \n",
       "K-neighbors tf_idf pca            0.816386     0.821299  \n",
       "K-neighbors word2vec              0.787306     0.789760  \n",
       "K-neighbors weighted word2vec     0.795419     0.797633  "
      ]
     },
     "execution_count": 19,
     "metadata": {},
     "output_type": "execute_result"
    }
   ],
   "source": [
    "metrics = pd.concat([metrics, metric], axis=0)\n",
    "metrics"
   ]
  },
  {
   "cell_type": "markdown",
   "metadata": {},
   "source": [
    "Взвешенный вариант word2vec дал более высокое качество, но незначительно. В целом, как и для линейных моделей, наилучшее качество показала векторизация с помощью TF-IDF с отбором признаков."
   ]
  },
  {
   "cell_type": "code",
   "execution_count": 20,
   "metadata": {},
   "outputs": [],
   "source": [
    "metrics.to_csv('metrics.csv')"
   ]
  },
  {
   "cell_type": "code",
   "execution_count": null,
   "metadata": {},
   "outputs": [],
   "source": []
  }
 ],
 "metadata": {
  "kernelspec": {
   "display_name": "ml_yp",
   "language": "python",
   "name": "python3"
  },
  "language_info": {
   "codemirror_mode": {
    "name": "ipython",
    "version": 3
   },
   "file_extension": ".py",
   "mimetype": "text/x-python",
   "name": "python",
   "nbconvert_exporter": "python",
   "pygments_lexer": "ipython3",
   "version": "3.12.3"
  }
 },
 "nbformat": 4,
 "nbformat_minor": 2
}
