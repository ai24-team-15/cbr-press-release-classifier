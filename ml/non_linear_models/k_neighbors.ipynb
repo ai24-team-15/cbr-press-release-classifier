{
 "cells": [
  {
   "cell_type": "markdown",
   "metadata": {},
   "source": [
    "В данном ноутбуке представлены эксперименты с использованием классификатора `KNeighborsClassifier` и различными способами векторизации текста."
   ]
  },
  {
   "cell_type": "code",
   "execution_count": 1,
   "metadata": {},
   "outputs": [
    {
     "name": "stderr",
     "output_type": "stream",
     "text": [
      "Intel(R) Extension for Scikit-learn* enabled (https://github.com/intel/scikit-learn-intelex)\n",
      "c:\\Users\\user\\miniconda3\\envs\\ml_yp\\Lib\\site-packages\\tqdm\\auto.py:21: TqdmWarning: IProgress not found. Please update jupyter and ipywidgets. See https://ipywidgets.readthedocs.io/en/stable/user_install.html\n",
      "  from .autonotebook import tqdm as notebook_tqdm\n"
     ]
    }
   ],
   "source": [
    "from sklearnex import patch_sklearn\n",
    "patch_sklearn()\n",
    "\n",
    "import re\n",
    "import sys\n",
    "import os\n",
    "\n",
    "import numpy as np\n",
    "from tqdm import tqdm\n",
    "import pandas as pd\n",
    "from pymystem3 import Mystem\n",
    "from nltk.corpus import stopwords\n",
    "from sklearn.feature_extraction.text import TfidfVectorizer\n",
    "from sklearn.neighbors import KNeighborsClassifier\n",
    "from sklearn.model_selection import ParameterGrid\n",
    "from sklearn.linear_model import LogisticRegression\n",
    "from sklearn.feature_selection import SelectFromModel\n",
    "from sklearn.pipeline import Pipeline\n",
    "from gensim.models import word2vec\n",
    "from matplotlib import pyplot as plt\n",
    "import seaborn as sns\n",
    "import warnings\n",
    "import optuna\n",
    "\n",
    "\n",
    "# Добавляем в path вышестоящую директорию для импорта  calc_metrics\n",
    "sys.path.append(os.path.abspath(os.path.join(\"..\")))\n",
    "\n",
    "from utils import calc_metrics\n",
    "from word2vec_utils import Word2VecVectorizer, Word2VecTfIdfVectorizer\n",
    "\n",
    "RANDOM_STATE = 41825352\n",
    "\n",
    "sns.set_style(\"whitegrid\")\n",
    "warnings.filterwarnings('ignore')"
   ]
  },
  {
   "cell_type": "markdown",
   "metadata": {},
   "source": [
    "Загрузим данные которые были предобработаны в ноутбуке `min_baseline.ipynb`."
   ]
  },
  {
   "cell_type": "code",
   "execution_count": 2,
   "metadata": {},
   "outputs": [],
   "source": [
    "X = pd.read_csv(\"../data/x.csv\", index_col=\"date\")\n",
    "y = pd.read_csv(\"../data/y.csv\", index_col=\"date\").iloc[:, 0]"
   ]
  },
  {
   "cell_type": "markdown",
   "metadata": {},
   "source": [
    "Предобработаем тексты пресс-релизов."
   ]
  },
  {
   "cell_type": "code",
   "execution_count": 3,
   "metadata": {},
   "outputs": [],
   "source": [
    "# инициализируем лемматизатор\n",
    "mystem = Mystem()\n",
    "\n",
    "# загружаем стоп-слова\n",
    "STOP_WORDS = set(stopwords.words(\"russian\"))\n",
    "\n",
    "\n",
    "# функция для препроцессинга текста\n",
    "def preprocessor(text):\n",
    "\n",
    "    # приводим к нижнему регистру\n",
    "    text = text.lower()\n",
    "\n",
    "    # удаляем все символы, кроме пробелов и русских букв.\n",
    "    regex = re.compile(\"[^а-я А-ЯЁё]\")\n",
    "    text = regex.sub(\" \", text)\n",
    "\n",
    "    # лемматизируем тексты\n",
    "    text = \" \".join(mystem.lemmatize(text))\n",
    "\n",
    "    # удаляем стоп-слова\n",
    "    text = \" \".join([word for word in text.split() if word not in STOP_WORDS])\n",
    "    return text\n",
    "\n",
    "\n",
    "Xpreproc = X.release.apply(preprocessor)"
   ]
  },
  {
   "cell_type": "markdown",
   "metadata": {},
   "source": [
    "Подберем параметры для алгоритма `KNeighborsClassifier` с помощью библиотеки optuna."
   ]
  },
  {
   "cell_type": "code",
   "execution_count": 11,
   "metadata": {},
   "outputs": [
    {
     "name": "stderr",
     "output_type": "stream",
     "text": [
      "Best trial: 105. Best value: 0.830994: 100%|██████████| 200/200 [00:23<00:00,  8.69it/s]\n"
     ]
    }
   ],
   "source": [
    "def objective(trial):\n",
    "\n",
    "    # параметры для перебора\n",
    "    params = {\n",
    "        'C': trial.suggest_float('C', 1, 500),\n",
    "        'n_neighbors': trial.suggest_int('n_neighbors', 1, 25),\n",
    "        'weights': trial.suggest_categorical(\"weights\", ['uniform', 'distance']),\n",
    "        'p': trial.suggest_float('p', 1, 2),\n",
    "        'max_df': trial.suggest_float('max_df', 0.1, 1),\n",
    "        'min_df': trial.suggest_int('min_df', 1, 10),\n",
    "    }\n",
    "    \n",
    "    # векторизуем текст\n",
    "    vectorizer = TfidfVectorizer(max_df=params['max_df'], min_df=params['min_df'])\n",
    "    tf_idf = vectorizer.fit_transform(Xpreproc).toarray()\n",
    "\n",
    "    # определяем модель для отбора признаков\n",
    "    estimator = LogisticRegression(\n",
    "        penalty=\"l1\", solver=\"liblinear\", C=params[\"C\"], max_iter=1000, random_state=RANDOM_STATE\n",
    "    )\n",
    "    \n",
    "    # отбор признаков по важности\n",
    "    params['max_features'] = trial.suggest_int(\"max_features\", 5, tf_idf.shape[1])\n",
    "    selector = SelectFromModel(estimator, max_features=params[\"max_features\"])\n",
    "\n",
    "    # определяем pipeline\n",
    "    pipeline = Pipeline([\n",
    "        (\"selector\", selector),\n",
    "        (\n",
    "            \"model\",\n",
    "            KNeighborsClassifier(\n",
    "                params['n_neighbors'], weights=params['weights'], p=params['p'], algorithm='brute',\n",
    "            ),\n",
    "        ),\n",
    "    ])\n",
    "\n",
    "    # считаем метрики на кросс валидации\n",
    "    metric, _ = calc_metrics(tf_idf, y, pipeline, name=\" \", plot=False, calc_jobs=-1)\n",
    "\n",
    "    return metric\n",
    "\n",
    "\n",
    "# устанавливаем уровень логирования optuna\n",
    "optuna.logging.set_verbosity(optuna.logging.WARNING)\n",
    "\n",
    "# запускаем подбор гиперпараметров\n",
    "study = optuna.create_study(direction=\"maximize\")\n",
    "study.optimize(objective, n_trials=200, show_progress_bar=True, catch=(ValueError,))"
   ]
  },
  {
   "cell_type": "markdown",
   "metadata": {},
   "source": [
    "Подобранные оптимальные параметры:"
   ]
  },
  {
   "cell_type": "code",
   "execution_count": 12,
   "metadata": {},
   "outputs": [
    {
     "data": {
      "text/plain": [
       "{'C': 227.9952003597386,\n",
       " 'n_neighbors': 2,\n",
       " 'weights': 'distance',\n",
       " 'p': 1.5832859727421138,\n",
       " 'max_df': 0.9988197738954215,\n",
       " 'min_df': 6,\n",
       " 'max_features': 772}"
      ]
     },
     "execution_count": 12,
     "metadata": {},
     "output_type": "execute_result"
    }
   ],
   "source": [
    "study.best_params"
   ]
  },
  {
   "cell_type": "markdown",
   "metadata": {},
   "source": [
    "Соберем итоговый пайплайн и посчитаем метрики:"
   ]
  },
  {
   "cell_type": "code",
   "execution_count": 13,
   "metadata": {},
   "outputs": [
    {
     "name": "stdout",
     "output_type": "stream",
     "text": [
      "              precision    recall  f1-score   support\n",
      "\n",
      "        -1.0       0.73      0.83      0.78        23\n",
      "         0.0       0.62      0.58      0.60        26\n",
      "         1.0       0.78      0.74      0.76        19\n",
      "\n",
      "    accuracy                           0.71        68\n",
      "   macro avg       0.71      0.71      0.71        68\n",
      "weighted avg       0.70      0.71      0.70        68\n",
      "\n"
     ]
    },
    {
     "data": {
      "image/png": "[encoded data removed]",
      "text/plain": [
       "<Figure size 640x480 with 2 Axes>"
      ]
     },
     "metadata": {},
     "output_type": "display_data"
    }
   ],
   "source": [
    "vectorizer = TfidfVectorizer(preprocessor=preprocessor,\n",
    "                             min_df=study.best_params[\"min_df\"],\n",
    "                             max_df=study.best_params[\"max_df\"])\n",
    "\n",
    "tf_idf = vectorizer.fit_transform(X.release).toarray()\n",
    "\n",
    "estimator = LogisticRegression(\n",
    "    penalty=\"l1\", solver=\"liblinear\", C=study.best_params[\"C\"], max_iter=1000, random_state=RANDOM_STATE\n",
    ")\n",
    "\n",
    "selector = SelectFromModel(estimator, max_features=study.best_params[\"max_features\"])\n",
    "\n",
    "classifier = KNeighborsClassifier(study.best_params['n_neighbors'],\n",
    "                                  weights=study.best_params['weights'],\n",
    "                                  p=study.best_params['p'],\n",
    "                                  algorithm='brute')\n",
    "\n",
    "pipeline = Pipeline([\n",
    "    (\"selector\", selector),\n",
    "    (\"model\", classifier),\n",
    "])\n",
    "\n",
    "metrics, model = calc_metrics(\n",
    "    tf_idf, y,\n",
    "    pipeline,\n",
    "    name=\"K-neighbors tf_idf\"\n",
    ")"
   ]
  },
  {
   "cell_type": "code",
   "execution_count": 14,
   "metadata": {},
   "outputs": [
    {
     "data": {
      "text/html": [
       "<div>\n",
       "<style scoped>\n",
       "    .dataframe tbody tr th:only-of-type {\n",
       "        vertical-align: middle;\n",
       "    }\n",
       "\n",
       "    .dataframe tbody tr th {\n",
       "        vertical-align: top;\n",
       "    }\n",
       "\n",
       "    .dataframe thead th {\n",
       "        text-align: right;\n",
       "    }\n",
       "</style>\n",
       "<table border=\"1\" class=\"dataframe\">\n",
       "  <thead>\n",
       "    <tr style=\"text-align: right;\">\n",
       "      <th></th>\n",
       "      <th>accuracy</th>\n",
       "      <th>f1</th>\n",
       "      <th>recall</th>\n",
       "      <th>precision</th>\n",
       "      <th>roc_auc_ovr</th>\n",
       "      <th>roc_auc_ovo</th>\n",
       "    </tr>\n",
       "  </thead>\n",
       "  <tbody>\n",
       "    <tr>\n",
       "      <th>K-neighbors tf_idf</th>\n",
       "      <td>0.705882</td>\n",
       "      <td>0.710756</td>\n",
       "      <td>0.713284</td>\n",
       "      <td>0.711182</td>\n",
       "      <td>0.826925</td>\n",
       "      <td>0.830994</td>\n",
       "    </tr>\n",
       "  </tbody>\n",
       "</table>\n",
       "</div>"
      ],
      "text/plain": [
       "                    accuracy        f1    recall  precision  roc_auc_ovr  \\\n",
       "K-neighbors tf_idf  0.705882  0.710756  0.713284   0.711182     0.826925   \n",
       "\n",
       "                    roc_auc_ovo  \n",
       "K-neighbors tf_idf     0.830994  "
      ]
     },
     "execution_count": 14,
     "metadata": {},
     "output_type": "execute_result"
    }
   ],
   "source": [
    "metrics"
   ]
  },
  {
   "cell_type": "markdown",
   "metadata": {},
   "source": [
    "Теперь попробуем закодировать релизы с помощью `word2vec`. Подберем оптимальные параметры:"
   ]
  },
  {
   "cell_type": "code",
   "execution_count": 5,
   "metadata": {},
   "outputs": [
    {
     "name": "stderr",
     "output_type": "stream",
     "text": [
      "Best trial: 199. Best value: 0.785168: 100%|██████████| 200/200 [07:05<00:00,  2.13s/it]\n"
     ]
    }
   ],
   "source": [
    "def objective(trial):\n",
    "    # параметры для перебора\n",
    "    params = {\n",
    "        'C': trial.suggest_float('C', 1, 500),\n",
    "        'n_neighbors': trial.suggest_int('n_neighbors', 1, 25),\n",
    "        'weights': trial.suggest_categorical(\"weights\", ['uniform', 'distance']),\n",
    "        'p': trial.suggest_float('p', 1, 2),\n",
    "        'window': trial.suggest_int('window', 2, 20),\n",
    "        'vector_size': trial.suggest_int('vector_size', 25, 200, step=25),\n",
    "    }\n",
    "    \n",
    "    # векторизуем текст\n",
    "    w2v = Word2VecVectorizer(window=params['window'], workers=1,\n",
    "                             sg=1, vector_size=params['vector_size'], seed=RANDOM_STATE)\n",
    "    embedings_w2v = w2v.fit_transform(Xpreproc.str.split())\n",
    "\n",
    "    model = KNeighborsClassifier(\n",
    "                params['n_neighbors'], weights=params['weights'], p=params['p'], algorithm='brute',\n",
    "            )\n",
    "\n",
    "    # считаем метрики на кросс валидации\n",
    "    metric, _ = calc_metrics(embedings_w2v, y, model, name=\" \", plot=False, calc_jobs=-1)\n",
    "\n",
    "    return metric\n",
    "\n",
    "\n",
    "# устанавливаем уровень логирования optuna\n",
    "optuna.logging.set_verbosity(optuna.logging.WARNING)\n",
    "\n",
    "# запускаем подбор гиперпараметров\n",
    "study = optuna.create_study(direction=\"maximize\")\n",
    "study.optimize(objective, n_trials=200, show_progress_bar=True, catch=(ValueError,))"
   ]
  },
  {
   "cell_type": "code",
   "execution_count": 6,
   "metadata": {},
   "outputs": [
    {
     "data": {
      "text/plain": [
       "{'C': 427.71498448440764,\n",
       " 'n_neighbors': 2,\n",
       " 'weights': 'uniform',\n",
       " 'p': 1.1006198717322686,\n",
       " 'window': 14,\n",
       " 'vector_size': 150}"
      ]
     },
     "execution_count": 6,
     "metadata": {},
     "output_type": "execute_result"
    }
   ],
   "source": [
    "study.best_params"
   ]
  },
  {
   "cell_type": "code",
   "execution_count": 9,
   "metadata": {},
   "outputs": [
    {
     "name": "stdout",
     "output_type": "stream",
     "text": [
      "              precision    recall  f1-score   support\n",
      "\n",
      "        -1.0       0.66      0.91      0.76        23\n",
      "         0.0       0.54      0.58      0.56        26\n",
      "         1.0       0.88      0.37      0.52        19\n",
      "\n",
      "    accuracy                           0.63        68\n",
      "   macro avg       0.69      0.62      0.61        68\n",
      "weighted avg       0.67      0.63      0.62        68\n",
      "\n"
     ]
    },
    {
     "data": {
      "image/png": "[encoded data removed]",
      "text/plain": [
       "<Figure size 640x480 with 2 Axes>"
      ]
     },
     "metadata": {},
     "output_type": "display_data"
    }
   ],
   "source": [
    "w2v = Word2VecVectorizer(preprocessor=preprocessor, window=study.best_params['window'],\n",
    "                         workers=1, sg=1, vector_size=study.best_params['vector_size'], seed=RANDOM_STATE)\n",
    "embedings_w2v = w2v.fit_transform(X.release)\n",
    "\n",
    "classifier = KNeighborsClassifier(study.best_params['n_neighbors'],\n",
    "                                  weights=study.best_params['weights'],\n",
    "                                  p=study.best_params['p'],\n",
    "                                  algorithm='brute')\n",
    "\n",
    "metric, model = calc_metrics(\n",
    "    embedings_w2v,\n",
    "    y,\n",
    "    classifier,\n",
    "    name=\"K-neighbors word2vec\",\n",
    ")"
   ]
  },
  {
   "cell_type": "code",
   "execution_count": 15,
   "metadata": {},
   "outputs": [
    {
     "data": {
      "text/html": [
       "<div>\n",
       "<style scoped>\n",
       "    .dataframe tbody tr th:only-of-type {\n",
       "        vertical-align: middle;\n",
       "    }\n",
       "\n",
       "    .dataframe tbody tr th {\n",
       "        vertical-align: top;\n",
       "    }\n",
       "\n",
       "    .dataframe thead th {\n",
       "        text-align: right;\n",
       "    }\n",
       "</style>\n",
       "<table border=\"1\" class=\"dataframe\">\n",
       "  <thead>\n",
       "    <tr style=\"text-align: right;\">\n",
       "      <th></th>\n",
       "      <th>accuracy</th>\n",
       "      <th>f1</th>\n",
       "      <th>recall</th>\n",
       "      <th>precision</th>\n",
       "      <th>roc_auc_ovr</th>\n",
       "      <th>roc_auc_ovo</th>\n",
       "    </tr>\n",
       "  </thead>\n",
       "  <tbody>\n",
       "    <tr>\n",
       "      <th>K-neighbors tf_idf</th>\n",
       "      <td>0.705882</td>\n",
       "      <td>0.710756</td>\n",
       "      <td>0.713284</td>\n",
       "      <td>0.711182</td>\n",
       "      <td>0.826925</td>\n",
       "      <td>0.830994</td>\n",
       "    </tr>\n",
       "    <tr>\n",
       "      <th>K-neighbors word2vec</th>\n",
       "      <td>0.632353</td>\n",
       "      <td>0.612570</td>\n",
       "      <td>0.619463</td>\n",
       "      <td>0.688988</td>\n",
       "      <td>0.784025</td>\n",
       "      <td>0.785168</td>\n",
       "    </tr>\n",
       "  </tbody>\n",
       "</table>\n",
       "</div>"
      ],
      "text/plain": [
       "                      accuracy        f1    recall  precision  roc_auc_ovr  \\\n",
       "K-neighbors tf_idf    0.705882  0.710756  0.713284   0.711182     0.826925   \n",
       "K-neighbors word2vec  0.632353  0.612570  0.619463   0.688988     0.784025   \n",
       "\n",
       "                      roc_auc_ovo  \n",
       "K-neighbors tf_idf       0.830994  \n",
       "K-neighbors word2vec     0.785168  "
      ]
     },
     "execution_count": 15,
     "metadata": {},
     "output_type": "execute_result"
    }
   ],
   "source": [
    "metrics = pd.concat([metrics, metric], axis=0)\n",
    "metrics"
   ]
  },
  {
   "cell_type": "markdown",
   "metadata": {},
   "source": [
    "Результат получился хуже, чем при векторизации с помощью TF-IDF. Попробуем взвешивать вектора слов с учетом их важности, а не просто усреднять:"
   ]
  },
  {
   "cell_type": "code",
   "execution_count": 16,
   "metadata": {},
   "outputs": [
    {
     "name": "stderr",
     "output_type": "stream",
     "text": [
      "Best trial: 56. Best value: 0.799397: 100%|██████████| 200/200 [05:28<00:00,  1.64s/it]\n"
     ]
    }
   ],
   "source": [
    "def objective(trial):\n",
    "    # параметры для перебора\n",
    "    params = {\n",
    "        'C': trial.suggest_float('C', 1, 500),\n",
    "        'n_neighbors': trial.suggest_int('n_neighbors', 1, 25),\n",
    "        'weights': trial.suggest_categorical(\"weights\", ['uniform', 'distance']),\n",
    "        'p': trial.suggest_float('p', 1, 2),\n",
    "        'window': trial.suggest_int('window', 2, 20),\n",
    "        'vector_size': trial.suggest_int('vector_size', 25, 200, step=25),\n",
    "    }\n",
    "    \n",
    "    # векторизуем текст\n",
    "    w2v = Word2VecTfIdfVectorizer(window=params['window'], workers=1,\n",
    "                             sg=1, vector_size=params['vector_size'], seed=RANDOM_STATE)\n",
    "    embedings_w2v = w2v.fit_transform(Xpreproc.str.split())\n",
    "\n",
    "    model = KNeighborsClassifier(\n",
    "                params['n_neighbors'], weights=params['weights'], p=params['p'], algorithm='brute',\n",
    "            )\n",
    "\n",
    "    # считаем метрики на кросс валидации\n",
    "    metric, _ = calc_metrics(embedings_w2v, y, model, name=\" \", plot=False, calc_jobs=-1)\n",
    "\n",
    "    return metric\n",
    "\n",
    "\n",
    "# устанавливаем уровень логирования optuna\n",
    "optuna.logging.set_verbosity(optuna.logging.WARNING)\n",
    "\n",
    "# запускаем подбор гиперпараметров\n",
    "study = optuna.create_study(direction=\"maximize\")\n",
    "study.optimize(objective, n_trials=200, show_progress_bar=True, catch=(ValueError,))"
   ]
  },
  {
   "cell_type": "code",
   "execution_count": 17,
   "metadata": {},
   "outputs": [
    {
     "data": {
      "text/plain": [
       "{'C': 219.73047995258327,\n",
       " 'n_neighbors': 2,\n",
       " 'weights': 'distance',\n",
       " 'p': 1.4859490401060311,\n",
       " 'window': 15,\n",
       " 'vector_size': 75}"
      ]
     },
     "execution_count": 17,
     "metadata": {},
     "output_type": "execute_result"
    }
   ],
   "source": [
    "study.best_params"
   ]
  },
  {
   "cell_type": "code",
   "execution_count": 23,
   "metadata": {},
   "outputs": [
    {
     "name": "stdout",
     "output_type": "stream",
     "text": [
      "              precision    recall  f1-score   support\n",
      "\n",
      "        -1.0       0.70      0.61      0.65        23\n",
      "         0.0       0.54      0.73      0.62        26\n",
      "         1.0       0.77      0.53      0.62        19\n",
      "\n",
      "    accuracy                           0.63        68\n",
      "   macro avg       0.67      0.62      0.63        68\n",
      "weighted avg       0.66      0.63      0.63        68\n",
      "\n"
     ]
    },
    {
     "data": {
      "image/png": "[encoded data removed]",
      "text/plain": [
       "<Figure size 640x480 with 2 Axes>"
      ]
     },
     "metadata": {},
     "output_type": "display_data"
    }
   ],
   "source": [
    "w2v = Word2VecTfIdfVectorizer(preprocessor=preprocessor, window=study.best_params['window'],\n",
    "                         workers=1, sg=1, vector_size=study.best_params['vector_size'], seed=RANDOM_STATE)\n",
    "embedings_w2v = w2v.fit_transform(X.release)\n",
    "\n",
    "classifier = KNeighborsClassifier(study.best_params['n_neighbors'],\n",
    "                                  weights=study.best_params['weights'],\n",
    "                                  p=study.best_params['p'],\n",
    "                                  algorithm='brute')\n",
    "\n",
    "metric, model = calc_metrics(\n",
    "    embedings_w2v,\n",
    "    y,\n",
    "    classifier,\n",
    "    name=\"K-neighbors weighted word2vec\",\n",
    ")"
   ]
  },
  {
   "cell_type": "code",
   "execution_count": 24,
   "metadata": {},
   "outputs": [
    {
     "data": {
      "text/html": [
       "<div>\n",
       "<style scoped>\n",
       "    .dataframe tbody tr th:only-of-type {\n",
       "        vertical-align: middle;\n",
       "    }\n",
       "\n",
       "    .dataframe tbody tr th {\n",
       "        vertical-align: top;\n",
       "    }\n",
       "\n",
       "    .dataframe thead th {\n",
       "        text-align: right;\n",
       "    }\n",
       "</style>\n",
       "<table border=\"1\" class=\"dataframe\">\n",
       "  <thead>\n",
       "    <tr style=\"text-align: right;\">\n",
       "      <th></th>\n",
       "      <th>accuracy</th>\n",
       "      <th>f1</th>\n",
       "      <th>recall</th>\n",
       "      <th>precision</th>\n",
       "      <th>roc_auc_ovr</th>\n",
       "      <th>roc_auc_ovo</th>\n",
       "    </tr>\n",
       "  </thead>\n",
       "  <tbody>\n",
       "    <tr>\n",
       "      <th>K-neighbors tf_idf</th>\n",
       "      <td>0.705882</td>\n",
       "      <td>0.710756</td>\n",
       "      <td>0.713284</td>\n",
       "      <td>0.711182</td>\n",
       "      <td>0.826925</td>\n",
       "      <td>0.830994</td>\n",
       "    </tr>\n",
       "    <tr>\n",
       "      <th>K-neighbors word2vec</th>\n",
       "      <td>0.632353</td>\n",
       "      <td>0.612570</td>\n",
       "      <td>0.619463</td>\n",
       "      <td>0.688988</td>\n",
       "      <td>0.784025</td>\n",
       "      <td>0.785168</td>\n",
       "    </tr>\n",
       "    <tr>\n",
       "      <th>K-neighbors weighted word2vec</th>\n",
       "      <td>0.632353</td>\n",
       "      <td>0.633038</td>\n",
       "      <td>0.621927</td>\n",
       "      <td>0.670696</td>\n",
       "      <td>0.796332</td>\n",
       "      <td>0.799397</td>\n",
       "    </tr>\n",
       "  </tbody>\n",
       "</table>\n",
       "</div>"
      ],
      "text/plain": [
       "                               accuracy        f1    recall  precision  \\\n",
       "K-neighbors tf_idf             0.705882  0.710756  0.713284   0.711182   \n",
       "K-neighbors word2vec           0.632353  0.612570  0.619463   0.688988   \n",
       "K-neighbors weighted word2vec  0.632353  0.633038  0.621927   0.670696   \n",
       "\n",
       "                               roc_auc_ovr  roc_auc_ovo  \n",
       "K-neighbors tf_idf                0.826925     0.830994  \n",
       "K-neighbors word2vec              0.784025     0.785168  \n",
       "K-neighbors weighted word2vec     0.796332     0.799397  "
      ]
     },
     "execution_count": 24,
     "metadata": {},
     "output_type": "execute_result"
    }
   ],
   "source": [
    "metrics = pd.concat([metrics, metric], axis=0)\n",
    "metrics"
   ]
  },
  {
   "cell_type": "markdown",
   "metadata": {},
   "source": [
    "Взвешенный вариант word2vec дал более высокое качество, но незначительно. В целом, как и для линейных моделей, наилучшее качество показала векторизация с помощью TF-IDF с отбором признаков."
   ]
  },
  {
   "cell_type": "code",
   "execution_count": null,
   "metadata": {},
   "outputs": [],
   "source": []
  }
 ],
 "metadata": {
  "kernelspec": {
   "display_name": "ml_yp",
   "language": "python",
   "name": "python3"
  },
  "language_info": {
   "codemirror_mode": {
    "name": "ipython",
    "version": 3
   },
   "file_extension": ".py",
   "mimetype": "text/x-python",
   "name": "python",
   "nbconvert_exporter": "python",
   "pygments_lexer": "ipython3",
   "version": "3.12.3"
  }
 },
 "nbformat": 4,
 "nbformat_minor": 2
}
