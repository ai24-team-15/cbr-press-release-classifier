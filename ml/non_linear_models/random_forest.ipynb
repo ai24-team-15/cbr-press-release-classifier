{
 "cells": [
  {
   "cell_type": "markdown",
   "metadata": {},
   "source": [
    "## Random Forest"
   ]
  },
  {
   "cell_type": "code",
   "execution_count": null,
   "metadata": {},
   "outputs": [],
   "source": [
    "import re\n",
    "import sys\n",
    "import os\n",
    "\n",
    "import numpy as np\n",
    "from tqdm import tqdm\n",
    "import pandas as pd\n",
    "from pymystem3 import Mystem\n",
    "from nltk.corpus import stopwords\n",
    "from sklearn.feature_extraction.text import TfidfVectorizer\n",
    "from sklearn.linear_model import LogisticRegression\n",
    "from sklearn.ensemble import RandomForestClassifier\n",
    "from sklearn.pipeline import Pipeline\n",
    "from sklearn.feature_selection import SelectFromModel\n",
    "from sklearn.decomposition import PCA\n",
    "from gensim.models import Word2Vec\n",
    "from matplotlib import pyplot as plt\n",
    "import seaborn as sns\n",
    "import optuna\n",
    "\n",
    "# Добавляем в path вышестоящую директорию для импорта  calc_metrics\n",
    "sys.path.append(os.path.abspath(os.path.join(\"..\")))\n",
    "\n",
    "from utils import calc_metrics\n",
    "\n",
    "sns.set_style(\"whitegrid\")"
   ]
  },
  {
   "cell_type": "markdown",
   "metadata": {},
   "source": [
    "Загрузим данные которые были предобработаны в ноутбуке `min_baseline.ipynb`."
   ]
  },
  {
   "cell_type": "code",
   "execution_count": null,
   "metadata": {},
   "outputs": [],
   "source": [
    "X = pd.read_csv(\"../data/x.csv\", index_col=\"date\")\n",
    "y = pd.read_csv(\"../data/y.csv\", index_col=\"date\").iloc[:, 0]"
   ]
  },
  {
   "cell_type": "markdown",
   "metadata": {},
   "source": [
    "Предобработаем тексты пресс-релизов."
   ]
  },
  {
   "cell_type": "code",
   "execution_count": null,
   "metadata": {},
   "outputs": [],
   "source": [
    "# инициализируем лемматизатор\n",
    "mystem = Mystem()\n",
    "\n",
    "# загружаем стоп-слова\n",
    "STOP_WORDS = set(stopwords.words(\"russian\"))\n",
    "\n",
    "\n",
    "# функция для препроцессинга текста\n",
    "def preprocessor(text):\n",
    "\n",
    "    # приводим к нижнему регистру\n",
    "    text = text.lower()\n",
    "\n",
    "    # удаляем все символы, кроме пробелов и русских букв.\n",
    "    regex = re.compile(\"[^а-я А-ЯЁё]\")\n",
    "    text = regex.sub(\" \", text)\n",
    "\n",
    "    # лемматизируем тексты\n",
    "    text = \" \".join(mystem.lemmatize(text))\n",
    "\n",
    "    # удаляем стоп-слова\n",
    "    text = \" \".join([word for word in text.split() if word not in STOP_WORDS])\n",
    "    return text\n",
    "\n",
    "\n",
    "# инициализируем tf-idf векторизатор с нашим препроцессингом\n",
    "vectorizer = TfidfVectorizer(\n",
    "    preprocessor=preprocessor,\n",
    ")\n",
    "\n",
    "# обучаем векторизатор на текстах релизов\n",
    "tf_idf = vectorizer.fit_transform(X.release)"
   ]
  },
  {
   "cell_type": "markdown",
   "metadata": {},
   "source": [
    "С помощью `SelectFromModel` отберем важные признаки, а в качестве основной модели будем использовать `RandomForestClassifier`. Для подбора гиперпараметров будем использовать `optuna`."
   ]
  },
  {
   "cell_type": "code",
   "execution_count": 4,
   "metadata": {},
   "outputs": [
    {
     "data": {
      "application/vnd.jupyter.widget-view+json": {
       "model_id": "bed08cfbc0354e5e9504b2c35144f973",
       "version_major": 2,
       "version_minor": 0
      },
      "text/plain": [
       "  0%|          | 0/100 [00:00<?, ?it/s]"
      ]
     },
     "metadata": {},
     "output_type": "display_data"
    }
   ],
   "source": [
    "def objective(trial):\n",
    "\n",
    "    # параметры для перебора\n",
    "    params = {\n",
    "        \"C\": trial.suggest_float(\"C\", 3, 500),\n",
    "        \"max_depth\": trial.suggest_int(\"max_depth\", 1, 25),\n",
    "        \"max_features\": trial.suggest_int(\"max_features\", 25, 500),\n",
    "        \"min_samples_leaf\": trial.suggest_int(\"min_samples_leaf\", 1, 10),\n",
    "        \"min_samples_split\": trial.suggest_int(\"min_samples_split\", 2, 10),\n",
    "    }\n",
    "\n",
    "    # определяем модель для отбора признаков\n",
    "    estimator = LogisticRegression(\n",
    "        penalty=\"l1\", solver=\"liblinear\", C=params[\"C\"], max_iter=1000, random_state=42\n",
    "    )\n",
    "    selector = SelectFromModel(estimator, max_features=params[\"max_features\"])\n",
    "\n",
    "    # определяем pipeline\n",
    "    pipeline = Pipeline(\n",
    "        [\n",
    "            (\"selector\", selector),\n",
    "            (\n",
    "                \"model\",\n",
    "                RandomForestClassifier(\n",
    "                    max_depth=params[\"max_depth\"],\n",
    "                    min_samples_leaf=params[\"min_samples_leaf\"],\n",
    "                    min_samples_split=params[\"min_samples_split\"],\n",
    "                    random_state=42,\n",
    "                    n_jobs=-1,\n",
    "                ),\n",
    "            ),\n",
    "        ]\n",
    "    )\n",
    "\n",
    "    # считаем метрики на кросс валидации\n",
    "    metric, _ = calc_metrics(tf_idf, y, pipeline, name=\" \", plot=False)\n",
    "\n",
    "    return metric\n",
    "\n",
    "\n",
    "# устанавливаем уровень логирования optuna\n",
    "optuna.logging.set_verbosity(optuna.logging.WARNING)\n",
    "\n",
    "# запускаем подбор гиперпараметров\n",
    "study = optuna.create_study(direction=\"maximize\")\n",
    "study.optimize(objective, n_trials=100, show_progress_bar=True)"
   ]
  },
  {
   "cell_type": "code",
   "execution_count": 5,
   "metadata": {},
   "outputs": [
    {
     "data": {
      "text/plain": [
       "{'C': 121.49210897343238,\n",
       " 'max_depth': 19,\n",
       " 'max_features': 361,\n",
       " 'min_samples_leaf': 1,\n",
       " 'min_samples_split': 2}"
      ]
     },
     "execution_count": 5,
     "metadata": {},
     "output_type": "execute_result"
    }
   ],
   "source": [
    "study.best_params"
   ]
  },
  {
   "cell_type": "markdown",
   "metadata": {},
   "source": [
    "Обучим модель с лучшими гиперпараметрами и посмотрим на качество подробнее."
   ]
  },
  {
   "cell_type": "code",
   "execution_count": null,
   "metadata": {},
   "outputs": [],
   "source": [
    "estimator = LogisticRegression(\n",
    "    penalty=\"l1\", solver=\"liblinear\", C=study.best_params[\"C\"], random_state=42\n",
    ")\n",
    "selector = SelectFromModel(estimator, max_features=study.best_params[\"max_features\"])\n",
    "\n",
    "pipeline = Pipeline(\n",
    "    [\n",
    "        (\"selector\", selector),\n",
    "        (\n",
    "            \"model\",\n",
    "            RandomForestClassifier(\n",
    "                max_depth=study.best_params[\"max_depth\"], random_state=42\n",
    "            ),\n",
    "        ),\n",
    "    ]\n",
    ")"
   ]
  },
  {
   "cell_type": "code",
   "execution_count": null,
   "metadata": {},
   "outputs": [
    {
     "name": "stdout",
     "output_type": "stream",
     "text": [
      "              precision    recall  f1-score   support\n",
      "\n",
      "        -1.0       0.75      0.78      0.77        23\n",
      "         0.0       0.48      0.58      0.53        26\n",
      "         1.0       0.62      0.42      0.50        19\n",
      "\n",
      "    accuracy                           0.60        68\n",
      "   macro avg       0.62      0.59      0.60        68\n",
      "weighted avg       0.61      0.60      0.60        68\n",
      "\n"
     ]
    },
    {
     "data": {
      "image/png": "[encoded data removed]",
      "text/plain": [
       "<Figure size 640x480 with 2 Axes>"
      ]
     },
     "metadata": {},
     "output_type": "display_data"
    }
   ],
   "source": [
    "# вычисляем метрики\n",
    "metrics, model = calc_metrics(\n",
    "    tf_idf,\n",
    "    y,\n",
    "    pipeline,\n",
    "    name=\"TF-IDF SelectFromModel Random Forest\",\n",
    ")"
   ]
  },
  {
   "cell_type": "code",
   "execution_count": 8,
   "metadata": {},
   "outputs": [
    {
     "data": {
      "text/html": [
       "<div>\n",
       "<style scoped>\n",
       "    .dataframe tbody tr th:only-of-type {\n",
       "        vertical-align: middle;\n",
       "    }\n",
       "\n",
       "    .dataframe tbody tr th {\n",
       "        vertical-align: top;\n",
       "    }\n",
       "\n",
       "    .dataframe thead th {\n",
       "        text-align: right;\n",
       "    }\n",
       "</style>\n",
       "<table border=\"1\" class=\"dataframe\">\n",
       "  <thead>\n",
       "    <tr style=\"text-align: right;\">\n",
       "      <th></th>\n",
       "      <th>accuracy</th>\n",
       "      <th>f1</th>\n",
       "      <th>recall</th>\n",
       "      <th>precision</th>\n",
       "      <th>roc_auc_ovr</th>\n",
       "      <th>roc_auc_ovo</th>\n",
       "    </tr>\n",
       "  </thead>\n",
       "  <tbody>\n",
       "    <tr>\n",
       "      <th>TF-IDF SelectFromModel Random Forest</th>\n",
       "      <td>0.602941</td>\n",
       "      <td>0.597424</td>\n",
       "      <td>0.593528</td>\n",
       "      <td>0.616419</td>\n",
       "      <td>0.77262</td>\n",
       "      <td>0.777042</td>\n",
       "    </tr>\n",
       "  </tbody>\n",
       "</table>\n",
       "</div>"
      ],
      "text/plain": [
       "                                      accuracy        f1    recall  precision  \\\n",
       "TF-IDF SelectFromModel Random Forest  0.602941  0.597424  0.593528   0.616419   \n",
       "\n",
       "                                      roc_auc_ovr  roc_auc_ovo  \n",
       "TF-IDF SelectFromModel Random Forest      0.77262     0.777042  "
      ]
     },
     "execution_count": 8,
     "metadata": {},
     "output_type": "execute_result"
    }
   ],
   "source": [
    "metrics"
   ]
  },
  {
   "cell_type": "markdown",
   "metadata": {},
   "source": [
    "Теперь попробуем уменьшить размерность с помощью `PCA`"
   ]
  },
  {
   "cell_type": "code",
   "execution_count": 9,
   "metadata": {},
   "outputs": [
    {
     "data": {
      "application/vnd.jupyter.widget-view+json": {
       "model_id": "454bcf1ac8604bec86b03eb3e74a54a7",
       "version_major": 2,
       "version_minor": 0
      },
      "text/plain": [
       "  0%|          | 0/100 [00:00<?, ?it/s]"
      ]
     },
     "metadata": {},
     "output_type": "display_data"
    }
   ],
   "source": [
    "def objective(trial):\n",
    "\n",
    "    # параметры для перебора\n",
    "    params = {\n",
    "        \"max_depth\": trial.suggest_int(\"max_depth\", 1, 25),\n",
    "        \"n_components\": trial.suggest_int(\"n_components\", 2, 29),\n",
    "    }\n",
    "\n",
    "    # определяем pipeline\n",
    "    pipeline = Pipeline(\n",
    "        [\n",
    "            (\"selector\", PCA(n_components=params[\"n_components\"])),\n",
    "            (\n",
    "                \"model\",\n",
    "                RandomForestClassifier(\n",
    "                    max_depth=params[\"max_depth\"], random_state=42, n_jobs=-1\n",
    "                ),\n",
    "            ),\n",
    "        ]\n",
    "    )\n",
    "\n",
    "    # считаем метрики на кросс валидации\n",
    "    metric, _ = calc_metrics(tf_idf, y, pipeline, name=\" \", plot=False)\n",
    "\n",
    "    return metric\n",
    "\n",
    "\n",
    "# устанавливаем уровень логирования optuna\n",
    "optuna.logging.set_verbosity(optuna.logging.WARNING)\n",
    "\n",
    "# запускаем подбор гиперпараметров\n",
    "study = optuna.create_study(direction=\"maximize\")\n",
    "study.optimize(objective, n_trials=100, show_progress_bar=True)"
   ]
  },
  {
   "cell_type": "code",
   "execution_count": 13,
   "metadata": {},
   "outputs": [
    {
     "data": {
      "text/plain": [
       "{'max_depth': 13, 'n_components': 27}"
      ]
     },
     "execution_count": 13,
     "metadata": {},
     "output_type": "execute_result"
    }
   ],
   "source": [
    "study.best_params"
   ]
  },
  {
   "cell_type": "markdown",
   "metadata": {},
   "source": [
    "Качество получилось немного лучше, посмотрим подробнее."
   ]
  },
  {
   "cell_type": "code",
   "execution_count": 10,
   "metadata": {},
   "outputs": [],
   "source": [
    "pipeline = Pipeline(\n",
    "    [\n",
    "        (\"selector\", PCA(n_components=study.best_params[\"n_components\"])),\n",
    "        (\n",
    "            \"model\",\n",
    "            RandomForestClassifier(\n",
    "                max_depth=study.best_params[\"max_depth\"], random_state=42, n_jobs=-1\n",
    "            ),\n",
    "        ),\n",
    "    ]\n",
    ")"
   ]
  },
  {
   "cell_type": "code",
   "execution_count": null,
   "metadata": {},
   "outputs": [
    {
     "name": "stdout",
     "output_type": "stream",
     "text": [
      "              precision    recall  f1-score   support\n",
      "\n",
      "        -1.0       0.65      0.65      0.65        23\n",
      "         0.0       0.49      0.65      0.56        26\n",
      "         1.0       0.80      0.42      0.55        19\n",
      "\n",
      "    accuracy                           0.59        68\n",
      "   macro avg       0.65      0.58      0.59        68\n",
      "weighted avg       0.63      0.59      0.59        68\n",
      "\n"
     ]
    },
    {
     "data": {
      "image/png": "[encoded data removed]",
      "text/plain": [
       "<Figure size 640x480 with 2 Axes>"
      ]
     },
     "metadata": {},
     "output_type": "display_data"
    }
   ],
   "source": [
    "# вычисляем метрики\n",
    "metric, model = calc_metrics(\n",
    "    tf_idf,\n",
    "    y,\n",
    "    pipeline,\n",
    "    name=\"TF-IDF PCA Random Forest\",\n",
    ")"
   ]
  },
  {
   "cell_type": "code",
   "execution_count": 12,
   "metadata": {},
   "outputs": [
    {
     "data": {
      "text/html": [
       "<div>\n",
       "<style scoped>\n",
       "    .dataframe tbody tr th:only-of-type {\n",
       "        vertical-align: middle;\n",
       "    }\n",
       "\n",
       "    .dataframe tbody tr th {\n",
       "        vertical-align: top;\n",
       "    }\n",
       "\n",
       "    .dataframe thead th {\n",
       "        text-align: right;\n",
       "    }\n",
       "</style>\n",
       "<table border=\"1\" class=\"dataframe\">\n",
       "  <thead>\n",
       "    <tr style=\"text-align: right;\">\n",
       "      <th></th>\n",
       "      <th>accuracy</th>\n",
       "      <th>f1</th>\n",
       "      <th>recall</th>\n",
       "      <th>precision</th>\n",
       "      <th>roc_auc_ovr</th>\n",
       "      <th>roc_auc_ovo</th>\n",
       "    </tr>\n",
       "  </thead>\n",
       "  <tbody>\n",
       "    <tr>\n",
       "      <th>TF-IDF SelectFromModel Random Forest</th>\n",
       "      <td>0.602941</td>\n",
       "      <td>0.597424</td>\n",
       "      <td>0.593528</td>\n",
       "      <td>0.616419</td>\n",
       "      <td>0.772620</td>\n",
       "      <td>0.777042</td>\n",
       "    </tr>\n",
       "    <tr>\n",
       "      <th>TF-IDF PCA Random Forest</th>\n",
       "      <td>0.588235</td>\n",
       "      <td>0.587092</td>\n",
       "      <td>0.575691</td>\n",
       "      <td>0.645963</td>\n",
       "      <td>0.774828</td>\n",
       "      <td>0.778942</td>\n",
       "    </tr>\n",
       "  </tbody>\n",
       "</table>\n",
       "</div>"
      ],
      "text/plain": [
       "                                      accuracy        f1    recall  precision  \\\n",
       "TF-IDF SelectFromModel Random Forest  0.602941  0.597424  0.593528   0.616419   \n",
       "TF-IDF PCA Random Forest              0.588235  0.587092  0.575691   0.645963   \n",
       "\n",
       "                                      roc_auc_ovr  roc_auc_ovo  \n",
       "TF-IDF SelectFromModel Random Forest     0.772620     0.777042  \n",
       "TF-IDF PCA Random Forest                 0.774828     0.778942  "
      ]
     },
     "execution_count": 12,
     "metadata": {},
     "output_type": "execute_result"
    }
   ],
   "source": [
    "metrics = pd.concat([metrics, metric])\n",
    "metrics"
   ]
  },
  {
   "cell_type": "markdown",
   "metadata": {},
   "source": [
    "Метрика roc_auc незначительно выросла, а вот accuracy снизилось, это говорит о том, что модель не одинаково хорошо предсказывает все классы. И мы можем заметить, что в предсказании положительного класса модель ошибается чаще всего."
   ]
  },
  {
   "cell_type": "markdown",
   "metadata": {},
   "source": [
    "Теперь попробуем закодировать релизы с помощью `word2vec`, подберем размер окна."
   ]
  },
  {
   "cell_type": "code",
   "execution_count": null,
   "metadata": {},
   "outputs": [
    {
     "name": "stderr",
     "output_type": "stream",
     "text": [
      "100%|██████████| 17/17 [05:27<00:00, 19.29s/it]\n"
     ]
    }
   ],
   "source": [
    "# предобработаем тексты\n",
    "texts = X.release.map(preprocessor).str.split()\n",
    "\n",
    "# создадим словарь для хранения метрик\n",
    "best_models = {\"window\": [], \"roc_auc\": [], \"model\": []}\n",
    "\n",
    "# обучаем word2vec c разными окнами\n",
    "for window in tqdm(range(3, 20)):\n",
    "    model = Word2Vec(\n",
    "        sentences=texts, window=window, min_count=5, vector_size=30, sg=1, epochs=100\n",
    "    )\n",
    "\n",
    "    # Для каждого слова получаем эмбединг, если оно попало в словарь слов\n",
    "    embedings = texts.map(lambda x: [model.wv[word] for word in x if word in model.wv])\n",
    "\n",
    "    # Для каждого релиза рассчитываем среднее по всем векторам слов\n",
    "    embedings = embedings.map(lambda x: np.array(x).mean(0))\n",
    "\n",
    "    # преобразуем данные в np.array\n",
    "    embedings_w2v = np.array([arr.tolist() for arr in embedings])\n",
    "\n",
    "    # рассчитываем метрику\n",
    "    roc_auc, best_model = calc_metrics(\n",
    "        embedings_w2v,\n",
    "        y,\n",
    "        RandomForestClassifier,\n",
    "        name=\"\",\n",
    "        plot=False,\n",
    "        n_jobs=-1,\n",
    "        random_state=42,\n",
    "    )\n",
    "\n",
    "    # сохраняем метрику, значение окна и модель\n",
    "    best_models[\"window\"].append(window)\n",
    "    best_models[\"roc_auc\"].append(roc_auc)\n",
    "    best_models[\"model\"].append(best_model)"
   ]
  },
  {
   "cell_type": "markdown",
   "metadata": {},
   "source": [
    "Визуализируем зависимость качества модели от размера окна"
   ]
  },
  {
   "cell_type": "code",
   "execution_count": null,
   "metadata": {},
   "outputs": [
    {
     "data": {
      "image/png": "[encoded data removed]",
      "text/plain": [
       "<Figure size 1000x600 with 1 Axes>"
      ]
     },
     "metadata": {},
     "output_type": "display_data"
    }
   ],
   "source": [
    "plt.figure(figsize=(10, 6))\n",
    "data = pd.DataFrame(best_models)\n",
    "sns.lineplot(x=\"window\", y=\"roc_auc\", data=data)\n",
    "plt.suptitle(\"Изменение ROC-AUC при изменении размера окна\", weight=\"bold\", fontsize=16)\n",
    "plt.show()"
   ]
  },
  {
   "cell_type": "markdown",
   "metadata": {},
   "source": [
    "Обучим word2vec на текстах пресс-релизов"
   ]
  },
  {
   "cell_type": "code",
   "execution_count": null,
   "metadata": {},
   "outputs": [],
   "source": [
    "# инициализируем модель w2v\n",
    "w2v = Word2Vec(\n",
    "    sentences=texts, window=8, min_count=5, vector_size=128, sg=1, epochs=100\n",
    ")\n",
    "\n",
    "# вычисляем эмбеддинги текстов по среднему эмбеддингов слов\n",
    "embedings = texts.map(lambda x: [w2v.wv[word] for word in x if word in w2v.wv])\n",
    "embedings = embedings.map(lambda x: np.array(x).sum(0))\n",
    "embedings_w2v = np.array([arr.tolist() for arr in embedings])"
   ]
  },
  {
   "cell_type": "code",
   "execution_count": null,
   "metadata": {},
   "outputs": [
    {
     "name": "stderr",
     "output_type": "stream",
     "text": [
      "100%|██████████| 23/23 [03:06<00:00,  8.12s/it]"
     ]
    },
    {
     "name": "stdout",
     "output_type": "stream",
     "text": [
      "Лучшая модель - RandomForestClassifier(max_depth=5, n_jobs=-1, random_state=42)\n",
      "ROC-AUC = 0.7208678049639149\n"
     ]
    },
    {
     "name": "stderr",
     "output_type": "stream",
     "text": [
      "\n"
     ]
    }
   ],
   "source": [
    "auc = []\n",
    "for max_depth in tqdm(range(3, 26)):\n",
    "    auc.append(\n",
    "        calc_metrics(\n",
    "            embedings_w2v,\n",
    "            y,\n",
    "            RandomForestClassifier,\n",
    "            name=\"\",\n",
    "            plot=False,\n",
    "            n_jobs=-1,\n",
    "            max_depth=max_depth,\n",
    "            random_state=42,\n",
    "        )\n",
    "    )\n",
    "\n",
    "roc_auc, best_model = max(auc)\n",
    "\n",
    "print(f\"Лучшая модель - {best_model}\")\n",
    "print(f\"ROC-AUC = {roc_auc}\")"
   ]
  },
  {
   "cell_type": "code",
   "execution_count": null,
   "metadata": {},
   "outputs": [
    {
     "name": "stdout",
     "output_type": "stream",
     "text": [
      "              precision    recall  f1-score   support\n",
      "\n",
      "        -1.0       0.67      0.52      0.59        23\n",
      "         0.0       0.47      0.65      0.55        26\n",
      "         1.0       0.71      0.53      0.61        19\n",
      "\n",
      "    accuracy                           0.57        68\n",
      "   macro avg       0.62      0.57      0.58        68\n",
      "weighted avg       0.61      0.57      0.58        68\n",
      "\n"
     ]
    },
    {
     "data": {
      "image/png": "[encoded data removed]",
      "text/plain": [
       "<Figure size 640x480 with 2 Axes>"
      ]
     },
     "metadata": {},
     "output_type": "display_data"
    },
    {
     "data": {
      "text/html": [
       "<div>\n",
       "<style scoped>\n",
       "    .dataframe tbody tr th:only-of-type {\n",
       "        vertical-align: middle;\n",
       "    }\n",
       "\n",
       "    .dataframe tbody tr th {\n",
       "        vertical-align: top;\n",
       "    }\n",
       "\n",
       "    .dataframe thead th {\n",
       "        text-align: right;\n",
       "    }\n",
       "</style>\n",
       "<table border=\"1\" class=\"dataframe\">\n",
       "  <thead>\n",
       "    <tr style=\"text-align: right;\">\n",
       "      <th></th>\n",
       "      <th>accuracy</th>\n",
       "      <th>f1</th>\n",
       "      <th>recall</th>\n",
       "      <th>precision</th>\n",
       "      <th>roc_auc_ovr</th>\n",
       "      <th>roc_auc_ovo</th>\n",
       "    </tr>\n",
       "  </thead>\n",
       "  <tbody>\n",
       "    <tr>\n",
       "      <th>TF-IDF SelectFromModel Random Forest</th>\n",
       "      <td>0.602941</td>\n",
       "      <td>0.597424</td>\n",
       "      <td>0.593528</td>\n",
       "      <td>0.616419</td>\n",
       "      <td>0.772620</td>\n",
       "      <td>0.777042</td>\n",
       "    </tr>\n",
       "    <tr>\n",
       "      <th>TF-IDF PCA Random Forest</th>\n",
       "      <td>0.588235</td>\n",
       "      <td>0.587092</td>\n",
       "      <td>0.575691</td>\n",
       "      <td>0.645963</td>\n",
       "      <td>0.774828</td>\n",
       "      <td>0.778942</td>\n",
       "    </tr>\n",
       "    <tr>\n",
       "      <th>Word2Vec Random Forest</th>\n",
       "      <td>0.573529</td>\n",
       "      <td>0.579938</td>\n",
       "      <td>0.567300</td>\n",
       "      <td>0.617725</td>\n",
       "      <td>0.714741</td>\n",
       "      <td>0.720868</td>\n",
       "    </tr>\n",
       "  </tbody>\n",
       "</table>\n",
       "</div>"
      ],
      "text/plain": [
       "                                      accuracy        f1    recall  precision  \\\n",
       "TF-IDF SelectFromModel Random Forest  0.602941  0.597424  0.593528   0.616419   \n",
       "TF-IDF PCA Random Forest              0.588235  0.587092  0.575691   0.645963   \n",
       "Word2Vec Random Forest                0.573529  0.579938  0.567300   0.617725   \n",
       "\n",
       "                                      roc_auc_ovr  roc_auc_ovo  \n",
       "TF-IDF SelectFromModel Random Forest     0.772620     0.777042  \n",
       "TF-IDF PCA Random Forest                 0.774828     0.778942  \n",
       "Word2Vec Random Forest                   0.714741     0.720868  "
      ]
     },
     "execution_count": 17,
     "metadata": {},
     "output_type": "execute_result"
    }
   ],
   "source": [
    "metric, model = calc_metrics(\n",
    "    embedings_w2v,\n",
    "    y,\n",
    "    RandomForestClassifier,\n",
    "    name=\"Word2Vec Random Forest\",\n",
    "    **best_model.get_params()\n",
    ")\n",
    "metrics = pd.concat([metrics, metric], axis=0)\n",
    "metrics"
   ]
  },
  {
   "cell_type": "markdown",
   "metadata": {},
   "source": [
    "Кодирование текстов с помощью `word2vec` показывает качество намного хуже."
   ]
  },
  {
   "cell_type": "markdown",
   "metadata": {},
   "source": []
  }
 ],
 "metadata": {
  "kernelspec": {
   "display_name": ".venv",
   "language": "python",
   "name": "python3"
  },
  "language_info": {
   "codemirror_mode": {
    "name": "ipython",
    "version": 3
   },
   "file_extension": ".py",
   "mimetype": "text/x-python",
   "name": "python",
   "nbconvert_exporter": "python",
   "pygments_lexer": "ipython3",
   "version": "3.11.9"
  }
 },
 "nbformat": 4,
 "nbformat_minor": 2
}
