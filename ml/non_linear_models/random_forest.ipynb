{
 "cells": [
  {
   "cell_type": "markdown",
   "metadata": {},
   "source": [
    "## Random Forest\n",
    "\n",
    "В этом ноутбуке мы хотим протестировать Случайный лес с различными способами векторизации текста и способами уменьшения размерности. В качестве признаков мы будем использовать только тексты пресс-релизов."
   ]
  },
  {
   "cell_type": "code",
   "execution_count": 2,
   "metadata": {},
   "outputs": [],
   "source": [
    "import re\n",
    "import sys\n",
    "import os\n",
    "\n",
    "import numpy as np\n",
    "from tqdm import tqdm\n",
    "import pandas as pd\n",
    "from pymystem3 import Mystem\n",
    "from nltk.corpus import stopwords\n",
    "from sklearn.feature_extraction.text import TfidfVectorizer\n",
    "from sklearn.linear_model import LogisticRegression\n",
    "from sklearn.ensemble import RandomForestClassifier\n",
    "from sklearn.pipeline import Pipeline\n",
    "from sklearn.feature_selection import SelectFromModel\n",
    "from sklearn.decomposition import PCA\n",
    "from gensim.models import Word2Vec\n",
    "from matplotlib import pyplot as plt\n",
    "import seaborn as sns\n",
    "import optuna\n",
    "\n",
    "# Добавляем в path вышестоящую директорию для импорта  calc_metrics\n",
    "sys.path.append(os.path.abspath(os.path.join(\"..\")))\n",
    "\n",
    "from utils import calc_metrics\n",
    "\n",
    "sns.set_style(\"whitegrid\")"
   ]
  },
  {
   "cell_type": "markdown",
   "metadata": {},
   "source": [
    "Загрузим данные которые были предобработаны в ноутбуке `min_baseline.ipynb`."
   ]
  },
  {
   "cell_type": "code",
   "execution_count": 3,
   "metadata": {},
   "outputs": [],
   "source": [
    "X = pd.read_csv(\"../data/x.csv\", index_col=\"date\")\n",
    "y = pd.read_csv(\"../data/y.csv\", index_col=\"date\").iloc[:, 0]"
   ]
  },
  {
   "cell_type": "markdown",
   "metadata": {},
   "source": [
    "### Предобработка текстов"
   ]
  },
  {
   "cell_type": "markdown",
   "metadata": {},
   "source": [
    "Предобработаем тексты пресс-релизов."
   ]
  },
  {
   "cell_type": "code",
   "execution_count": 4,
   "metadata": {},
   "outputs": [],
   "source": [
    "# инициализируем лемматизатор\n",
    "mystem = Mystem()\n",
    "\n",
    "# загружаем стоп-слова\n",
    "STOP_WORDS = set(stopwords.words(\"russian\"))\n",
    "\n",
    "\n",
    "# функция для препроцессинга текста\n",
    "def preprocessor(text):\n",
    "\n",
    "    # приводим к нижнему регистру\n",
    "    text = text.lower()\n",
    "\n",
    "    # удаляем все символы, кроме пробелов и русских букв.\n",
    "    regex = re.compile(\"[^а-я А-ЯЁё]\")\n",
    "    text = regex.sub(\" \", text)\n",
    "\n",
    "    # лемматизируем тексты\n",
    "    text = \" \".join(mystem.lemmatize(text))\n",
    "\n",
    "    # удаляем стоп-слова\n",
    "    text = \" \".join([word for word in text.split() if word not in STOP_WORDS])\n",
    "    return text\n",
    "\n",
    "\n",
    "# Выполняем предобработку текстов\n",
    "X_preproc = X.release.apply(preprocessor)"
   ]
  },
  {
   "cell_type": "markdown",
   "metadata": {},
   "source": [
    "### TF-IDF SelectFromModel RandomForest"
   ]
  },
  {
   "cell_type": "markdown",
   "metadata": {},
   "source": [
    "С помощью `SelectFromModel` отберем важные признаки, а в качестве основной модели будем использовать `RandomForestClassifier`. Для подбора гиперпараметров будем использовать `optuna`."
   ]
  },
  {
   "cell_type": "code",
   "execution_count": 7,
   "metadata": {},
   "outputs": [
    {
     "name": "stderr",
     "output_type": "stream",
     "text": [
      "Best trial: 1. Best value: 0.735246:   1%|          | 2/200 [00:01<02:54,  1.13it/s]C:\\Users\\user\\AppData\\Roaming\\Python\\Python312\\site-packages\\sklearn\\metrics\\_classification.py:1565: UndefinedMetricWarning: Precision is ill-defined and being set to 0.0 in labels with no predicted samples. Use `zero_division` parameter to control this behavior.\n",
      "  _warn_prf(average, modifier, f\"{metric.capitalize()} is\", len(result))\n",
      "Best trial: 4. Best value: 0.739681:   4%|▍         | 9/200 [00:07<02:39,  1.20it/s]C:\\Users\\user\\AppData\\Roaming\\Python\\Python312\\site-packages\\sklearn\\metrics\\_classification.py:1565: UndefinedMetricWarning: Precision is ill-defined and being set to 0.0 in labels with no predicted samples. Use `zero_division` parameter to control this behavior.\n",
      "  _warn_prf(average, modifier, f\"{metric.capitalize()} is\", len(result))\n",
      "Best trial: 165. Best value: 0.798359: 100%|██████████| 200/200 [02:48<00:00,  1.19it/s]\n"
     ]
    }
   ],
   "source": [
    "def objective(trial):\n",
    "\n",
    "    # параметры для перебора\n",
    "    params = {\n",
    "        \"max_df\": trial.suggest_float(\"max_df\", 0.1, 1),\n",
    "        \"min_df\": trial.suggest_int(\"min_df\", 1, 10),\n",
    "        \"C\": trial.suggest_float(\"C\", 3, 500),\n",
    "        \"threshold\": trial.suggest_float(\"threshold\", 0, 1e-3),\n",
    "        \"max_depth\": trial.suggest_int(\"max_depth\", 1, 25),\n",
    "        \"min_samples_leaf\": trial.suggest_int(\"min_samples_leaf\", 1, 10),\n",
    "        \"min_samples_split\": trial.suggest_int(\"min_samples_split\", 2, 10),\n",
    "    }\n",
    "\n",
    "    # векторизуем текст\n",
    "    vectorizer = TfidfVectorizer(max_df=params[\"max_df\"], min_df=params[\"min_df\"])\n",
    "    tf_idf = vectorizer.fit_transform(X_preproc).toarray()\n",
    "\n",
    "    # определяем модель для отбора признаков\n",
    "    estimator = LogisticRegression(\n",
    "        penalty=\"l1\", solver=\"liblinear\", C=params[\"C\"], max_iter=1000, random_state=42\n",
    "    )\n",
    "    selector = SelectFromModel(estimator, threshold=params[\"threshold\"])\n",
    "\n",
    "    # определяем pipeline\n",
    "    pipeline = Pipeline(\n",
    "        [\n",
    "            (\"selector\", selector),\n",
    "            (\n",
    "                \"model\",\n",
    "                RandomForestClassifier(\n",
    "                    max_depth=params[\"max_depth\"],\n",
    "                    min_samples_leaf=params[\"min_samples_leaf\"],\n",
    "                    min_samples_split=params[\"min_samples_split\"],\n",
    "                    random_state=42,\n",
    "                    n_jobs=-1,\n",
    "                ),\n",
    "            ),\n",
    "        ]\n",
    "    )\n",
    "\n",
    "    # считаем метрики на кросс валидации\n",
    "    metric, _ = calc_metrics(tf_idf, y, pipeline, name=\" \", plot=False, calc_jobs=-1)\n",
    "\n",
    "    return metric\n",
    "\n",
    "\n",
    "# устанавливаем уровень логирования optuna\n",
    "optuna.logging.set_verbosity(optuna.logging.WARNING)\n",
    "\n",
    "# запускаем подбор гиперпараметров\n",
    "study = optuna.create_study(direction=\"maximize\")\n",
    "study.optimize(objective, n_trials=200, show_progress_bar=True)"
   ]
  },
  {
   "cell_type": "code",
   "execution_count": 8,
   "metadata": {},
   "outputs": [
    {
     "data": {
      "text/plain": [
       "{'max_df': 0.5159130462248613,\n",
       " 'min_df': 7,\n",
       " 'C': 26.79230367626777,\n",
       " 'threshold': 0.00020216233401568483,\n",
       " 'max_depth': 19,\n",
       " 'min_samples_leaf': 1,\n",
       " 'min_samples_split': 2}"
      ]
     },
     "execution_count": 8,
     "metadata": {},
     "output_type": "execute_result"
    }
   ],
   "source": [
    "study.best_params"
   ]
  },
  {
   "cell_type": "markdown",
   "metadata": {},
   "source": [
    "Обучим модель с лучшими гиперпараметрами и посмотрим на качество подробнее."
   ]
  },
  {
   "cell_type": "code",
   "execution_count": 9,
   "metadata": {},
   "outputs": [],
   "source": [
    "# векторизуем текст\n",
    "vectorizer = TfidfVectorizer(\n",
    "    max_df=study.best_params[\"max_df\"], min_df=study.best_params[\"min_df\"]\n",
    ")\n",
    "tf_idf = vectorizer.fit_transform(X_preproc).toarray()\n",
    "\n",
    "estimator = LogisticRegression(\n",
    "    penalty=\"l1\", solver=\"liblinear\", C=study.best_params[\"C\"], random_state=42\n",
    ")\n",
    "selector = SelectFromModel(estimator, threshold=study.best_params[\"threshold\"])\n",
    "\n",
    "pipeline = Pipeline(\n",
    "    [\n",
    "        (\"selector\", selector),\n",
    "        (\n",
    "            \"model\",\n",
    "            RandomForestClassifier(\n",
    "                max_depth=study.best_params[\"max_depth\"], random_state=42\n",
    "            ),\n",
    "        ),\n",
    "    ]\n",
    ")"
   ]
  },
  {
   "cell_type": "code",
   "execution_count": 10,
   "metadata": {},
   "outputs": [
    {
     "name": "stdout",
     "output_type": "stream",
     "text": [
      "              precision    recall  f1-score   support\n",
      "\n",
      "        -1.0       0.72      0.57      0.63        23\n",
      "         0.0       0.51      0.67      0.58        27\n",
      "         1.0       0.75      0.63      0.69        19\n",
      "\n",
      "    accuracy                           0.62        69\n",
      "   macro avg       0.66      0.62      0.63        69\n",
      "weighted avg       0.65      0.62      0.63        69\n",
      "\n"
     ]
    },
    {
     "data": {
      "image/png": "[encoded data removed]",
      "text/plain": [
       "<Figure size 640x480 with 2 Axes>"
      ]
     },
     "metadata": {},
     "output_type": "display_data"
    }
   ],
   "source": [
    "# вычисляем метрики\n",
    "metrics, model = calc_metrics(\n",
    "    tf_idf,\n",
    "    y,\n",
    "    pipeline,\n",
    "    name=\"TF-IDF SelectFromModel Random Forest\",\n",
    ")"
   ]
  },
  {
   "cell_type": "code",
   "execution_count": 11,
   "metadata": {},
   "outputs": [
    {
     "data": {
      "text/html": [
       "<div>\n",
       "<style scoped>\n",
       "    .dataframe tbody tr th:only-of-type {\n",
       "        vertical-align: middle;\n",
       "    }\n",
       "\n",
       "    .dataframe tbody tr th {\n",
       "        vertical-align: top;\n",
       "    }\n",
       "\n",
       "    .dataframe thead th {\n",
       "        text-align: right;\n",
       "    }\n",
       "</style>\n",
       "<table border=\"1\" class=\"dataframe\">\n",
       "  <thead>\n",
       "    <tr style=\"text-align: right;\">\n",
       "      <th></th>\n",
       "      <th>accuracy</th>\n",
       "      <th>f1</th>\n",
       "      <th>recall</th>\n",
       "      <th>precision</th>\n",
       "      <th>roc_auc_ovr</th>\n",
       "      <th>roc_auc_ovo</th>\n",
       "    </tr>\n",
       "  </thead>\n",
       "  <tbody>\n",
       "    <tr>\n",
       "      <th>TF-IDF SelectFromModel Random Forest</th>\n",
       "      <td>0.623188</td>\n",
       "      <td>0.633502</td>\n",
       "      <td>0.621154</td>\n",
       "      <td>0.662169</td>\n",
       "      <td>0.791792</td>\n",
       "      <td>0.798359</td>\n",
       "    </tr>\n",
       "  </tbody>\n",
       "</table>\n",
       "</div>"
      ],
      "text/plain": [
       "                                      accuracy        f1    recall  precision  \\\n",
       "TF-IDF SelectFromModel Random Forest  0.623188  0.633502  0.621154   0.662169   \n",
       "\n",
       "                                      roc_auc_ovr  roc_auc_ovo  \n",
       "TF-IDF SelectFromModel Random Forest     0.791792     0.798359  "
      ]
     },
     "execution_count": 11,
     "metadata": {},
     "output_type": "execute_result"
    }
   ],
   "source": [
    "metrics"
   ]
  },
  {
   "cell_type": "markdown",
   "metadata": {},
   "source": [
    "Теперь попробуем уменьшить размерность с помощью `PCA`"
   ]
  },
  {
   "cell_type": "markdown",
   "metadata": {},
   "source": [
    "### TF-IDF PCA Random Forest"
   ]
  },
  {
   "cell_type": "code",
   "execution_count": 12,
   "metadata": {},
   "outputs": [
    {
     "name": "stderr",
     "output_type": "stream",
     "text": [
      "Best trial: 13. Best value: 0.806057:  10%|█         | 20/200 [00:16<02:32,  1.18it/s]C:\\Users\\user\\AppData\\Roaming\\Python\\Python312\\site-packages\\sklearn\\metrics\\_classification.py:1565: UndefinedMetricWarning: Precision is ill-defined and being set to 0.0 in labels with no predicted samples. Use `zero_division` parameter to control this behavior.\n",
      "  _warn_prf(average, modifier, f\"{metric.capitalize()} is\", len(result))\n",
      "Best trial: 114. Best value: 0.827083: 100%|██████████| 200/200 [02:47<00:00,  1.20it/s]\n"
     ]
    }
   ],
   "source": [
    "def objective(trial):\n",
    "\n",
    "    # параметры для перебора\n",
    "    params = {\n",
    "        \"max_df\": trial.suggest_float(\"max_df\", 0.1, 1),\n",
    "        \"min_df\": trial.suggest_int(\"min_df\", 1, 10),\n",
    "        \"max_depth\": trial.suggest_int(\"max_depth\", 1, 25),\n",
    "        \"n_components\": trial.suggest_int(\"n_components\", 2, 29),\n",
    "    }\n",
    "\n",
    "    # векторизуем текст\n",
    "    vectorizer = TfidfVectorizer(max_df=params[\"max_df\"], min_df=params[\"min_df\"])\n",
    "    tf_idf = vectorizer.fit_transform(X_preproc).toarray()\n",
    "\n",
    "    # определяем pipeline\n",
    "    pipeline = Pipeline(\n",
    "        [\n",
    "            (\"selector\", PCA(n_components=params[\"n_components\"])),\n",
    "            (\n",
    "                \"model\",\n",
    "                RandomForestClassifier(\n",
    "                    max_depth=params[\"max_depth\"], random_state=42, n_jobs=-1\n",
    "                ),\n",
    "            ),\n",
    "        ]\n",
    "    )\n",
    "\n",
    "    # считаем метрики на кросс валидации\n",
    "    metric, _ = calc_metrics(tf_idf, y, pipeline, name=\" \", plot=False, calc_jobs=-1)\n",
    "\n",
    "    return metric\n",
    "\n",
    "\n",
    "# устанавливаем уровень логирования optuna\n",
    "optuna.logging.set_verbosity(optuna.logging.WARNING)\n",
    "\n",
    "# запускаем подбор гиперпараметров\n",
    "study = optuna.create_study(direction=\"maximize\")\n",
    "study.optimize(objective, n_trials=200, show_progress_bar=True)"
   ]
  },
  {
   "cell_type": "code",
   "execution_count": 13,
   "metadata": {},
   "outputs": [
    {
     "data": {
      "text/plain": [
       "{'max_df': 0.9431564015701098,\n",
       " 'min_df': 7,\n",
       " 'max_depth': 19,\n",
       " 'n_components': 24}"
      ]
     },
     "execution_count": 13,
     "metadata": {},
     "output_type": "execute_result"
    }
   ],
   "source": [
    "study.best_params"
   ]
  },
  {
   "cell_type": "markdown",
   "metadata": {},
   "source": [
    "Качество получилось немного лучше, посмотрим подробнее."
   ]
  },
  {
   "cell_type": "code",
   "execution_count": 14,
   "metadata": {},
   "outputs": [],
   "source": [
    "# векторизуем текст\n",
    "vectorizer = TfidfVectorizer(\n",
    "    max_df=study.best_params[\"max_df\"], min_df=study.best_params[\"min_df\"]\n",
    ")\n",
    "tf_idf = vectorizer.fit_transform(X_preproc).toarray()\n",
    "\n",
    "pipeline = Pipeline(\n",
    "    [\n",
    "        (\"selector\", PCA(n_components=study.best_params[\"n_components\"])),\n",
    "        (\n",
    "            \"model\",\n",
    "            RandomForestClassifier(\n",
    "                max_depth=study.best_params[\"max_depth\"], random_state=42, n_jobs=-1\n",
    "            ),\n",
    "        ),\n",
    "    ]\n",
    ")"
   ]
  },
  {
   "cell_type": "code",
   "execution_count": 15,
   "metadata": {},
   "outputs": [
    {
     "name": "stdout",
     "output_type": "stream",
     "text": [
      "              precision    recall  f1-score   support\n",
      "\n",
      "        -1.0       0.68      0.65      0.67        23\n",
      "         0.0       0.53      0.70      0.60        27\n",
      "         1.0       0.82      0.47      0.60        19\n",
      "\n",
      "    accuracy                           0.62        69\n",
      "   macro avg       0.68      0.61      0.62        69\n",
      "weighted avg       0.66      0.62      0.62        69\n",
      "\n"
     ]
    },
    {
     "data": {
      "image/png": "[encoded data removed]",
      "text/plain": [
       "<Figure size 640x480 with 2 Axes>"
      ]
     },
     "metadata": {},
     "output_type": "display_data"
    }
   ],
   "source": [
    "# вычисляем метрики\n",
    "metric, model = calc_metrics(\n",
    "    tf_idf,\n",
    "    y,\n",
    "    pipeline,\n",
    "    name=\"TF-IDF PCA Random Forest\",\n",
    ")"
   ]
  },
  {
   "cell_type": "code",
   "execution_count": 20,
   "metadata": {},
   "outputs": [
    {
     "data": {
      "text/html": [
       "<div>\n",
       "<style scoped>\n",
       "    .dataframe tbody tr th:only-of-type {\n",
       "        vertical-align: middle;\n",
       "    }\n",
       "\n",
       "    .dataframe tbody tr th {\n",
       "        vertical-align: top;\n",
       "    }\n",
       "\n",
       "    .dataframe thead th {\n",
       "        text-align: right;\n",
       "    }\n",
       "</style>\n",
       "<table border=\"1\" class=\"dataframe\">\n",
       "  <thead>\n",
       "    <tr style=\"text-align: right;\">\n",
       "      <th></th>\n",
       "      <th>accuracy</th>\n",
       "      <th>f1</th>\n",
       "      <th>recall</th>\n",
       "      <th>precision</th>\n",
       "      <th>roc_auc_ovr</th>\n",
       "      <th>roc_auc_ovo</th>\n",
       "    </tr>\n",
       "  </thead>\n",
       "  <tbody>\n",
       "    <tr>\n",
       "      <th>TF-IDF SelectFromModel Random Forest</th>\n",
       "      <td>0.623188</td>\n",
       "      <td>0.633502</td>\n",
       "      <td>0.621154</td>\n",
       "      <td>0.662169</td>\n",
       "      <td>0.791792</td>\n",
       "      <td>0.798359</td>\n",
       "    </tr>\n",
       "    <tr>\n",
       "      <th>TF-IDF PCA Random Forest</th>\n",
       "      <td>0.623188</td>\n",
       "      <td>0.623280</td>\n",
       "      <td>0.609854</td>\n",
       "      <td>0.675926</td>\n",
       "      <td>0.818305</td>\n",
       "      <td>0.822775</td>\n",
       "    </tr>\n",
       "  </tbody>\n",
       "</table>\n",
       "</div>"
      ],
      "text/plain": [
       "                                      accuracy        f1    recall  precision  \\\n",
       "TF-IDF SelectFromModel Random Forest  0.623188  0.633502  0.621154   0.662169   \n",
       "TF-IDF PCA Random Forest              0.623188  0.623280  0.609854   0.675926   \n",
       "\n",
       "                                      roc_auc_ovr  roc_auc_ovo  \n",
       "TF-IDF SelectFromModel Random Forest     0.791792     0.798359  \n",
       "TF-IDF PCA Random Forest                 0.818305     0.822775  "
      ]
     },
     "execution_count": 20,
     "metadata": {},
     "output_type": "execute_result"
    }
   ],
   "source": [
    "metrics = pd.concat([metrics, metric])\n",
    "metrics"
   ]
  },
  {
   "cell_type": "markdown",
   "metadata": {},
   "source": [
    "Метрика roc_auc выросла, а accuracy не изменилась. Мы можем заметить, что в предсказании положительного класса модель ошибается чаще всего."
   ]
  },
  {
   "cell_type": "markdown",
   "metadata": {},
   "source": [
    "Теперь попробуем закодировать релизы с помощью `word2vec`, подберем размер окна."
   ]
  },
  {
   "cell_type": "markdown",
   "metadata": {},
   "source": [
    "### Word2Vec Random Forest"
   ]
  },
  {
   "cell_type": "code",
   "execution_count": 21,
   "metadata": {},
   "outputs": [
    {
     "name": "stderr",
     "output_type": "stream",
     "text": [
      "100%|██████████| 17/17 [02:50<00:00, 10.01s/it]\n"
     ]
    }
   ],
   "source": [
    "# предобработаем тексты и преобразуем в список слов\n",
    "texts = X.release.map(preprocessor).str.split()\n",
    "\n",
    "# создадим словарь для хранения метрик\n",
    "best_models = {\"window\": [], \"roc_auc\": [], \"model\": []}\n",
    "\n",
    "# обучаем word2vec c разными окнами\n",
    "for window in tqdm(range(3, 20)):\n",
    "    model = Word2Vec(\n",
    "        sentences=texts, window=window, min_count=5, vector_size=30, sg=1, epochs=100\n",
    "    )\n",
    "\n",
    "    # Для каждого слова получаем эмбединг, если оно попало в словарь слов\n",
    "    embedings = texts.map(lambda x: [model.wv[word] for word in x if word in model.wv])\n",
    "\n",
    "    # Для каждого релиза рассчитываем среднее по всем векторам слов\n",
    "    embedings = embedings.map(lambda x: np.array(x).mean(0))\n",
    "\n",
    "    # преобразуем данные в np.array\n",
    "    embedings_w2v = np.array([arr.tolist() for arr in embedings])\n",
    "\n",
    "    # рассчитываем метрику\n",
    "    roc_auc, best_model = calc_metrics(\n",
    "        embedings_w2v,\n",
    "        y,\n",
    "        RandomForestClassifier,\n",
    "        name=\"\",\n",
    "        plot=False,\n",
    "        n_jobs=-1,\n",
    "        random_state=42,\n",
    "        calc_jobs=-1,\n",
    "    )\n",
    "\n",
    "    # сохраняем метрику, значение окна и модель\n",
    "    best_models[\"window\"].append(window)\n",
    "    best_models[\"roc_auc\"].append(roc_auc)\n",
    "    best_models[\"model\"].append(best_model)"
   ]
  },
  {
   "cell_type": "markdown",
   "metadata": {},
   "source": [
    "Визуализируем зависимость качества модели от размера окна"
   ]
  },
  {
   "cell_type": "code",
   "execution_count": 23,
   "metadata": {},
   "outputs": [
    {
     "data": {
      "image/png": "[encoded data removed]",
      "text/plain": [
       "<Figure size 1000x600 with 1 Axes>"
      ]
     },
     "metadata": {},
     "output_type": "display_data"
    }
   ],
   "source": [
    "plt.figure(figsize=(10, 6))\n",
    "data = pd.DataFrame(best_models)\n",
    "sns.lineplot(x=\"window\", y=\"roc_auc\", data=data)\n",
    "plt.suptitle(\"Изменение ROC-AUC при изменении размера окна\", weight=\"bold\", fontsize=16)\n",
    "plt.show()"
   ]
  },
  {
   "cell_type": "markdown",
   "metadata": {},
   "source": [
    "Обучим word2vec на текстах пресс-релизов"
   ]
  },
  {
   "cell_type": "code",
   "execution_count": 24,
   "metadata": {},
   "outputs": [],
   "source": [
    "# инициализируем модель w2v\n",
    "w2v = Word2Vec(\n",
    "    sentences=texts, window=7, min_count=5, vector_size=128, sg=1, epochs=100\n",
    ")\n",
    "\n",
    "# вычисляем эмбеддинги текстов по среднему эмбеддингов слов\n",
    "embedings = texts.map(lambda x: [w2v.wv[word] for word in x if word in w2v.wv])\n",
    "embedings = embedings.map(lambda x: np.array(x).sum(0))\n",
    "embedings_w2v = np.array([arr.tolist() for arr in embedings])"
   ]
  },
  {
   "cell_type": "code",
   "execution_count": 25,
   "metadata": {},
   "outputs": [
    {
     "name": "stderr",
     "output_type": "stream",
     "text": [
      "100%|██████████| 23/23 [02:48<00:00,  7.31s/it]"
     ]
    },
    {
     "name": "stdout",
     "output_type": "stream",
     "text": [
      "Лучшая модель - RandomForestClassifier(max_depth=9, n_jobs=-1, random_state=42)\n",
      "ROC-AUC = 0.7327174619318022\n"
     ]
    },
    {
     "name": "stderr",
     "output_type": "stream",
     "text": [
      "\n"
     ]
    }
   ],
   "source": [
    "auc = []\n",
    "for max_depth in tqdm(range(3, 26)):\n",
    "    auc.append(\n",
    "        calc_metrics(\n",
    "            embedings_w2v,\n",
    "            y,\n",
    "            RandomForestClassifier,\n",
    "            name=\"\",\n",
    "            plot=False,\n",
    "            n_jobs=-1,\n",
    "            max_depth=max_depth,\n",
    "            random_state=42,\n",
    "        )\n",
    "    )\n",
    "\n",
    "roc_auc, best_model = max(auc, key=lambda x: x[0])\n",
    "\n",
    "print(f\"Лучшая модель - {best_model}\")\n",
    "print(f\"ROC-AUC = {roc_auc}\")"
   ]
  },
  {
   "cell_type": "code",
   "execution_count": 26,
   "metadata": {},
   "outputs": [
    {
     "name": "stdout",
     "output_type": "stream",
     "text": [
      "              precision    recall  f1-score   support\n",
      "\n",
      "        -1.0       0.65      0.57      0.60        23\n",
      "         0.0       0.50      0.67      0.57        27\n",
      "         1.0       0.69      0.47      0.56        19\n",
      "\n",
      "    accuracy                           0.58        69\n",
      "   macro avg       0.61      0.57      0.58        69\n",
      "weighted avg       0.60      0.58      0.58        69\n",
      "\n"
     ]
    },
    {
     "data": {
      "image/png": "[encoded data removed]",
      "text/plain": [
       "<Figure size 640x480 with 2 Axes>"
      ]
     },
     "metadata": {},
     "output_type": "display_data"
    },
    {
     "data": {
      "text/html": [
       "<div>\n",
       "<style scoped>\n",
       "    .dataframe tbody tr th:only-of-type {\n",
       "        vertical-align: middle;\n",
       "    }\n",
       "\n",
       "    .dataframe tbody tr th {\n",
       "        vertical-align: top;\n",
       "    }\n",
       "\n",
       "    .dataframe thead th {\n",
       "        text-align: right;\n",
       "    }\n",
       "</style>\n",
       "<table border=\"1\" class=\"dataframe\">\n",
       "  <thead>\n",
       "    <tr style=\"text-align: right;\">\n",
       "      <th></th>\n",
       "      <th>accuracy</th>\n",
       "      <th>f1</th>\n",
       "      <th>recall</th>\n",
       "      <th>precision</th>\n",
       "      <th>roc_auc_ovr</th>\n",
       "      <th>roc_auc_ovo</th>\n",
       "    </tr>\n",
       "  </thead>\n",
       "  <tbody>\n",
       "    <tr>\n",
       "      <th>TF-IDF SelectFromModel Random Forest</th>\n",
       "      <td>0.623188</td>\n",
       "      <td>0.633502</td>\n",
       "      <td>0.621154</td>\n",
       "      <td>0.662169</td>\n",
       "      <td>0.791792</td>\n",
       "      <td>0.798359</td>\n",
       "    </tr>\n",
       "    <tr>\n",
       "      <th>TF-IDF PCA Random Forest</th>\n",
       "      <td>0.623188</td>\n",
       "      <td>0.623280</td>\n",
       "      <td>0.609854</td>\n",
       "      <td>0.675926</td>\n",
       "      <td>0.818305</td>\n",
       "      <td>0.822775</td>\n",
       "    </tr>\n",
       "    <tr>\n",
       "      <th>Word2Vec Random Forest</th>\n",
       "      <td>0.579710</td>\n",
       "      <td>0.579527</td>\n",
       "      <td>0.568523</td>\n",
       "      <td>0.614103</td>\n",
       "      <td>0.726078</td>\n",
       "      <td>0.732717</td>\n",
       "    </tr>\n",
       "  </tbody>\n",
       "</table>\n",
       "</div>"
      ],
      "text/plain": [
       "                                      accuracy        f1    recall  precision  \\\n",
       "TF-IDF SelectFromModel Random Forest  0.623188  0.633502  0.621154   0.662169   \n",
       "TF-IDF PCA Random Forest              0.623188  0.623280  0.609854   0.675926   \n",
       "Word2Vec Random Forest                0.579710  0.579527  0.568523   0.614103   \n",
       "\n",
       "                                      roc_auc_ovr  roc_auc_ovo  \n",
       "TF-IDF SelectFromModel Random Forest     0.791792     0.798359  \n",
       "TF-IDF PCA Random Forest                 0.818305     0.822775  \n",
       "Word2Vec Random Forest                   0.726078     0.732717  "
      ]
     },
     "execution_count": 26,
     "metadata": {},
     "output_type": "execute_result"
    }
   ],
   "source": [
    "metric, model = calc_metrics(\n",
    "    embedings_w2v,\n",
    "    y,\n",
    "    RandomForestClassifier,\n",
    "    name=\"Word2Vec Random Forest\",\n",
    "    **best_model.get_params()\n",
    ")\n",
    "metrics = pd.concat([metrics, metric], axis=0)\n",
    "metrics"
   ]
  },
  {
   "cell_type": "markdown",
   "metadata": {},
   "source": [
    "Кодирование текстов с помощью `word2vec` показывает качество намного хуже."
   ]
  },
  {
   "cell_type": "markdown",
   "metadata": {},
   "source": [
    "Мы протестировали три различных пайплайна со случайным лесом в качестве классификатора. Для каждого мы подбирали гиперпараметры с помощью кросс-валидации. Лучшую оценку показал пайплайн, в котором тексты кодировались с помощью TF-IDF, методом снижения размерности служил PCA. По матрице ошибок лучшей модели можем заметить, что модель хуже всего детектируем первый класс(повышение ставки), только 9 релизов которым предшествовало повышение модель определила правильно в остальных 10 случаях повышения ставки модель ошиблась, единожды модель перепутала повышение ставки и понижение ставки.\n",
    "\n",
    "Кодирование текстов с помощью word2vec, как и в случае с линейными моделями, значительно отстает по качеству от TF-IDF. "
   ]
  },
  {
   "cell_type": "markdown",
   "metadata": {},
   "source": []
  }
 ],
 "metadata": {
  "kernelspec": {
   "display_name": "ml_yp",
   "language": "python",
   "name": "python3"
  },
  "language_info": {
   "codemirror_mode": {
    "name": "ipython",
    "version": 3
   },
   "file_extension": ".py",
   "mimetype": "text/x-python",
   "name": "python",
   "nbconvert_exporter": "python",
   "pygments_lexer": "ipython3",
   "version": "3.12.3"
  }
 },
 "nbformat": 4,
 "nbformat_minor": 2
}
