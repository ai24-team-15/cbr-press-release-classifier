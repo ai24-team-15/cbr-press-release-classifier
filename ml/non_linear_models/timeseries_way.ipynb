{
 "cells": [
  {
   "cell_type": "markdown",
   "metadata": {},
   "source": [
    "## Time Series"
   ]
  },
  {
   "cell_type": "code",
   "execution_count": 109,
   "metadata": {},
   "outputs": [],
   "source": [
    "import os\n",
    "import sys\n",
    "\n",
    "import pandas as pd\n",
    "from sklearn.ensemble import RandomForestClassifier\n",
    "import optuna\n",
    "\n",
    "# Добавляем в path вышестоящую директорию для импорта  calc_metrics\n",
    "sys.path.append(os.path.abspath(os.path.join(\"..\")))\n",
    "\n",
    "from utils import calc_metrics"
   ]
  },
  {
   "cell_type": "code",
   "execution_count": 74,
   "metadata": {},
   "outputs": [],
   "source": [
    "# загружаем данные\n",
    "X = pd.read_csv(\"../data/x.csv\", index_col=\"date\")\n",
    "y = pd.read_csv(\"../data/y.csv\", index_col=\"date\").iloc[:, 0]"
   ]
  },
  {
   "cell_type": "markdown",
   "metadata": {},
   "source": [
    "Добавим лаговые признаки таргета с лагом от 1 до 5 включительно."
   ]
  },
  {
   "cell_type": "code",
   "execution_count": null,
   "metadata": {},
   "outputs": [],
   "source": [
    "for i in range(1, 6):\n",
    "    X[f\"lag{i}_target\"] = y.shift(i)"
   ]
  },
  {
   "cell_type": "markdown",
   "metadata": {},
   "source": [
    "Проверим качество с помощью кросс-валидации"
   ]
  },
  {
   "cell_type": "code",
   "execution_count": null,
   "metadata": {},
   "outputs": [
    {
     "name": "stdout",
     "output_type": "stream",
     "text": [
      "              precision    recall  f1-score   support\n",
      "\n",
      "        -1.0       0.60      0.39      0.47        23\n",
      "         0.0       0.41      0.50      0.45        26\n",
      "         1.0       0.62      0.68      0.65        19\n",
      "\n",
      "    accuracy                           0.51        68\n",
      "   macro avg       0.54      0.53      0.52        68\n",
      "weighted avg       0.53      0.51      0.51        68\n",
      "\n"
     ]
    },
    {
     "data": {
      "image/png": "[encoded data removed]",
      "text/plain": [
       "<Figure size 640x480 with 2 Axes>"
      ]
     },
     "metadata": {},
     "output_type": "display_data"
    }
   ],
   "source": [
    "metrics, model = calc_metrics(\n",
    "    X.filter(regex=\"target\").values,  # обучаемся только на лаговых признаках\n",
    "    y.values,\n",
    "    RandomForestClassifier,\n",
    "    name=\"lag target Random Forest\",\n",
    "    calc_jobs=-1,\n",
    "    random_state=42,\n",
    ")"
   ]
  },
  {
   "cell_type": "code",
   "execution_count": 77,
   "metadata": {},
   "outputs": [
    {
     "data": {
      "text/html": [
       "<div>\n",
       "<style scoped>\n",
       "    .dataframe tbody tr th:only-of-type {\n",
       "        vertical-align: middle;\n",
       "    }\n",
       "\n",
       "    .dataframe tbody tr th {\n",
       "        vertical-align: top;\n",
       "    }\n",
       "\n",
       "    .dataframe thead th {\n",
       "        text-align: right;\n",
       "    }\n",
       "</style>\n",
       "<table border=\"1\" class=\"dataframe\">\n",
       "  <thead>\n",
       "    <tr style=\"text-align: right;\">\n",
       "      <th></th>\n",
       "      <th>accuracy</th>\n",
       "      <th>f1</th>\n",
       "      <th>recall</th>\n",
       "      <th>precision</th>\n",
       "      <th>roc_auc_ovr</th>\n",
       "      <th>roc_auc_ovo</th>\n",
       "    </tr>\n",
       "  </thead>\n",
       "  <tbody>\n",
       "    <tr>\n",
       "      <th>lag target Random Forest</th>\n",
       "      <td>0.514706</td>\n",
       "      <td>0.523987</td>\n",
       "      <td>0.525172</td>\n",
       "      <td>0.541766</td>\n",
       "      <td>0.72933</td>\n",
       "      <td>0.736446</td>\n",
       "    </tr>\n",
       "  </tbody>\n",
       "</table>\n",
       "</div>"
      ],
      "text/plain": [
       "                          accuracy        f1    recall  precision  \\\n",
       "lag target Random Forest  0.514706  0.523987  0.525172   0.541766   \n",
       "\n",
       "                          roc_auc_ovr  roc_auc_ovo  \n",
       "lag target Random Forest      0.72933     0.736446  "
      ]
     },
     "execution_count": 77,
     "metadata": {},
     "output_type": "execute_result"
    }
   ],
   "source": [
    "metrics"
   ]
  },
  {
   "cell_type": "markdown",
   "metadata": {},
   "source": [
    "Попробуем добавить процентную ставку и четыре лаговых признака процентной ставки"
   ]
  },
  {
   "cell_type": "code",
   "execution_count": null,
   "metadata": {},
   "outputs": [],
   "source": [
    "for i in range(1, 5):\n",
    "    X[f\"lag{i}_rate\"] = X[\"rate\"].shift(i)"
   ]
  },
  {
   "cell_type": "markdown",
   "metadata": {},
   "source": [
    "Взглянем на качество"
   ]
  },
  {
   "cell_type": "code",
   "execution_count": null,
   "metadata": {},
   "outputs": [
    {
     "name": "stdout",
     "output_type": "stream",
     "text": [
      "              precision    recall  f1-score   support\n",
      "\n",
      "        -1.0       0.62      0.57      0.59        23\n",
      "         0.0       0.50      0.62      0.55        26\n",
      "         1.0       0.80      0.63      0.71        19\n",
      "\n",
      "    accuracy                           0.60        68\n",
      "   macro avg       0.64      0.60      0.62        68\n",
      "weighted avg       0.62      0.60      0.61        68\n",
      "\n"
     ]
    },
    {
     "data": {
      "image/png": "[encoded data removed]",
      "text/plain": [
       "<Figure size 640x480 with 2 Axes>"
      ]
     },
     "metadata": {},
     "output_type": "display_data"
    }
   ],
   "source": [
    "metric, model = calc_metrics(\n",
    "    # отбираем колонки содержащие в названии target или rate\n",
    "    X.filter(regex=r\"(target)|(rate)\").values,\n",
    "    y.values,\n",
    "    RandomForestClassifier,\n",
    "    name=\"lag target, rate Random Forest\",\n",
    "    calc_jobs=-1,\n",
    "    random_state=42,\n",
    ")"
   ]
  },
  {
   "cell_type": "code",
   "execution_count": 80,
   "metadata": {},
   "outputs": [
    {
     "data": {
      "text/html": [
       "<div>\n",
       "<style scoped>\n",
       "    .dataframe tbody tr th:only-of-type {\n",
       "        vertical-align: middle;\n",
       "    }\n",
       "\n",
       "    .dataframe tbody tr th {\n",
       "        vertical-align: top;\n",
       "    }\n",
       "\n",
       "    .dataframe thead th {\n",
       "        text-align: right;\n",
       "    }\n",
       "</style>\n",
       "<table border=\"1\" class=\"dataframe\">\n",
       "  <thead>\n",
       "    <tr style=\"text-align: right;\">\n",
       "      <th></th>\n",
       "      <th>accuracy</th>\n",
       "      <th>f1</th>\n",
       "      <th>recall</th>\n",
       "      <th>precision</th>\n",
       "      <th>roc_auc_ovr</th>\n",
       "      <th>roc_auc_ovo</th>\n",
       "    </tr>\n",
       "  </thead>\n",
       "  <tbody>\n",
       "    <tr>\n",
       "      <th>lag target Random Forest</th>\n",
       "      <td>0.514706</td>\n",
       "      <td>0.523987</td>\n",
       "      <td>0.525172</td>\n",
       "      <td>0.541766</td>\n",
       "      <td>0.729330</td>\n",
       "      <td>0.736446</td>\n",
       "    </tr>\n",
       "    <tr>\n",
       "      <th>lag target, rate Random Forest</th>\n",
       "      <td>0.602941</td>\n",
       "      <td>0.616172</td>\n",
       "      <td>0.604060</td>\n",
       "      <td>0.639683</td>\n",
       "      <td>0.733619</td>\n",
       "      <td>0.740583</td>\n",
       "    </tr>\n",
       "  </tbody>\n",
       "</table>\n",
       "</div>"
      ],
      "text/plain": [
       "                                accuracy        f1    recall  precision  \\\n",
       "lag target Random Forest        0.514706  0.523987  0.525172   0.541766   \n",
       "lag target, rate Random Forest  0.602941  0.616172  0.604060   0.639683   \n",
       "\n",
       "                                roc_auc_ovr  roc_auc_ovo  \n",
       "lag target Random Forest           0.729330     0.736446  \n",
       "lag target, rate Random Forest     0.733619     0.740583  "
      ]
     },
     "execution_count": 80,
     "metadata": {},
     "output_type": "execute_result"
    }
   ],
   "source": [
    "metrics = pd.concat([metrics, metric])\n",
    "metrics"
   ]
  },
  {
   "cell_type": "markdown",
   "metadata": {},
   "source": [
    "Качество подросло, теперь попробуем добавить значение курса доллара и четыре его лаговых признака"
   ]
  },
  {
   "cell_type": "code",
   "execution_count": null,
   "metadata": {},
   "outputs": [],
   "source": [
    "for i in range(1, 5):\n",
    "    X[f\"lag{i}_usd\"] = X[\"usd\"].shift(i)"
   ]
  },
  {
   "cell_type": "code",
   "execution_count": null,
   "metadata": {},
   "outputs": [
    {
     "name": "stdout",
     "output_type": "stream",
     "text": [
      "              precision    recall  f1-score   support\n",
      "\n",
      "        -1.0       0.62      0.43      0.51        23\n",
      "         0.0       0.47      0.69      0.56        26\n",
      "         1.0       0.79      0.58      0.67        19\n",
      "\n",
      "    accuracy                           0.57        68\n",
      "   macro avg       0.63      0.57      0.58        68\n",
      "weighted avg       0.61      0.57      0.57        68\n",
      "\n"
     ]
    },
    {
     "data": {
      "image/png": "[encoded data removed]",
      "text/plain": [
       "<Figure size 640x480 with 2 Axes>"
      ]
     },
     "metadata": {},
     "output_type": "display_data"
    }
   ],
   "source": [
    "metric, model = calc_metrics(\n",
    "    # отбираем необходимые признаки\n",
    "    X.filter(regex=r\"(target)|(rate)|(usd)\").values,\n",
    "    y.values,\n",
    "    RandomForestClassifier,\n",
    "    name=\"lag target, rate, usd Random Forest\",\n",
    "    calc_jobs=-1,\n",
    "    random_state=42,\n",
    ")"
   ]
  },
  {
   "cell_type": "code",
   "execution_count": 83,
   "metadata": {},
   "outputs": [
    {
     "data": {
      "text/html": [
       "<div>\n",
       "<style scoped>\n",
       "    .dataframe tbody tr th:only-of-type {\n",
       "        vertical-align: middle;\n",
       "    }\n",
       "\n",
       "    .dataframe tbody tr th {\n",
       "        vertical-align: top;\n",
       "    }\n",
       "\n",
       "    .dataframe thead th {\n",
       "        text-align: right;\n",
       "    }\n",
       "</style>\n",
       "<table border=\"1\" class=\"dataframe\">\n",
       "  <thead>\n",
       "    <tr style=\"text-align: right;\">\n",
       "      <th></th>\n",
       "      <th>accuracy</th>\n",
       "      <th>f1</th>\n",
       "      <th>recall</th>\n",
       "      <th>precision</th>\n",
       "      <th>roc_auc_ovr</th>\n",
       "      <th>roc_auc_ovo</th>\n",
       "    </tr>\n",
       "  </thead>\n",
       "  <tbody>\n",
       "    <tr>\n",
       "      <th>lag target Random Forest</th>\n",
       "      <td>0.514706</td>\n",
       "      <td>0.523987</td>\n",
       "      <td>0.525172</td>\n",
       "      <td>0.541766</td>\n",
       "      <td>0.729330</td>\n",
       "      <td>0.736446</td>\n",
       "    </tr>\n",
       "    <tr>\n",
       "      <th>lag target, rate Random Forest</th>\n",
       "      <td>0.602941</td>\n",
       "      <td>0.616172</td>\n",
       "      <td>0.604060</td>\n",
       "      <td>0.639683</td>\n",
       "      <td>0.733619</td>\n",
       "      <td>0.740583</td>\n",
       "    </tr>\n",
       "    <tr>\n",
       "      <th>lag target, rate, usd Random Forest</th>\n",
       "      <td>0.573529</td>\n",
       "      <td>0.580662</td>\n",
       "      <td>0.568679</td>\n",
       "      <td>0.628133</td>\n",
       "      <td>0.763321</td>\n",
       "      <td>0.769781</td>\n",
       "    </tr>\n",
       "  </tbody>\n",
       "</table>\n",
       "</div>"
      ],
      "text/plain": [
       "                                     accuracy        f1    recall  precision  \\\n",
       "lag target Random Forest             0.514706  0.523987  0.525172   0.541766   \n",
       "lag target, rate Random Forest       0.602941  0.616172  0.604060   0.639683   \n",
       "lag target, rate, usd Random Forest  0.573529  0.580662  0.568679   0.628133   \n",
       "\n",
       "                                     roc_auc_ovr  roc_auc_ovo  \n",
       "lag target Random Forest                0.729330     0.736446  \n",
       "lag target, rate Random Forest          0.733619     0.740583  \n",
       "lag target, rate, usd Random Forest     0.763321     0.769781  "
      ]
     },
     "execution_count": 83,
     "metadata": {},
     "output_type": "execute_result"
    }
   ],
   "source": [
    "metrics = pd.concat([metrics, metric])\n",
    "metrics"
   ]
  },
  {
   "cell_type": "markdown",
   "metadata": {},
   "source": [
    "Наша основная метрика немно выросла, хотя accuracy, f1, recall и precision снизились. Если мы поиграемся с порогом то эти метрики тоже станут выше. Попробуем добавить инфляцию."
   ]
  },
  {
   "cell_type": "code",
   "execution_count": null,
   "metadata": {},
   "outputs": [],
   "source": [
    "for i in range(1, 5):\n",
    "    X[f\"lag{i}_inflation\"] = X[\"inflation\"].shift(i)"
   ]
  },
  {
   "cell_type": "code",
   "execution_count": null,
   "metadata": {},
   "outputs": [
    {
     "name": "stdout",
     "output_type": "stream",
     "text": [
      "              precision    recall  f1-score   support\n",
      "\n",
      "        -1.0       0.82      0.61      0.70        23\n",
      "         0.0       0.55      0.69      0.61        26\n",
      "         1.0       0.72      0.68      0.70        19\n",
      "\n",
      "    accuracy                           0.66        68\n",
      "   macro avg       0.70      0.66      0.67        68\n",
      "weighted avg       0.69      0.66      0.67        68\n",
      "\n"
     ]
    },
    {
     "data": {
      "image/png": "[encoded data removed]",
      "text/plain": [
       "<Figure size 640x480 with 2 Axes>"
      ]
     },
     "metadata": {},
     "output_type": "display_data"
    }
   ],
   "source": [
    "metric, model = calc_metrics(\n",
    "    # отбираем необходимые признаки\n",
    "    X.filter(regex=r\"(target)|(rate)|(usd)|(inflation)\").values,\n",
    "    y.values,\n",
    "    RandomForestClassifier,\n",
    "    name=\"lag target, rate, usd, inflation Random Forest\",\n",
    "    calc_jobs=-1,\n",
    "    random_state=42,\n",
    ")"
   ]
  },
  {
   "cell_type": "code",
   "execution_count": 90,
   "metadata": {},
   "outputs": [
    {
     "data": {
      "text/html": [
       "<div>\n",
       "<style scoped>\n",
       "    .dataframe tbody tr th:only-of-type {\n",
       "        vertical-align: middle;\n",
       "    }\n",
       "\n",
       "    .dataframe tbody tr th {\n",
       "        vertical-align: top;\n",
       "    }\n",
       "\n",
       "    .dataframe thead th {\n",
       "        text-align: right;\n",
       "    }\n",
       "</style>\n",
       "<table border=\"1\" class=\"dataframe\">\n",
       "  <thead>\n",
       "    <tr style=\"text-align: right;\">\n",
       "      <th></th>\n",
       "      <th>accuracy</th>\n",
       "      <th>f1</th>\n",
       "      <th>recall</th>\n",
       "      <th>precision</th>\n",
       "      <th>roc_auc_ovr</th>\n",
       "      <th>roc_auc_ovo</th>\n",
       "    </tr>\n",
       "  </thead>\n",
       "  <tbody>\n",
       "    <tr>\n",
       "      <th>lag target Random Forest</th>\n",
       "      <td>0.514706</td>\n",
       "      <td>0.523987</td>\n",
       "      <td>0.525172</td>\n",
       "      <td>0.541766</td>\n",
       "      <td>0.729330</td>\n",
       "      <td>0.736446</td>\n",
       "    </tr>\n",
       "    <tr>\n",
       "      <th>lag target, rate Random Forest</th>\n",
       "      <td>0.602941</td>\n",
       "      <td>0.616172</td>\n",
       "      <td>0.604060</td>\n",
       "      <td>0.639683</td>\n",
       "      <td>0.733619</td>\n",
       "      <td>0.740583</td>\n",
       "    </tr>\n",
       "    <tr>\n",
       "      <th>lag target, rate, usd Random Forest</th>\n",
       "      <td>0.573529</td>\n",
       "      <td>0.580662</td>\n",
       "      <td>0.568679</td>\n",
       "      <td>0.628133</td>\n",
       "      <td>0.763321</td>\n",
       "      <td>0.769781</td>\n",
       "    </tr>\n",
       "    <tr>\n",
       "      <th>lag target, rate, usd, inflation Random Forest</th>\n",
       "      <td>0.661765</td>\n",
       "      <td>0.670957</td>\n",
       "      <td>0.661738</td>\n",
       "      <td>0.697069</td>\n",
       "      <td>0.760278</td>\n",
       "      <td>0.764991</td>\n",
       "    </tr>\n",
       "  </tbody>\n",
       "</table>\n",
       "</div>"
      ],
      "text/plain": [
       "                                                accuracy        f1    recall  \\\n",
       "lag target Random Forest                        0.514706  0.523987  0.525172   \n",
       "lag target, rate Random Forest                  0.602941  0.616172  0.604060   \n",
       "lag target, rate, usd Random Forest             0.573529  0.580662  0.568679   \n",
       "lag target, rate, usd, inflation Random Forest  0.661765  0.670957  0.661738   \n",
       "\n",
       "                                                precision  roc_auc_ovr  \\\n",
       "lag target Random Forest                         0.541766     0.729330   \n",
       "lag target, rate Random Forest                   0.639683     0.733619   \n",
       "lag target, rate, usd Random Forest              0.628133     0.763321   \n",
       "lag target, rate, usd, inflation Random Forest   0.697069     0.760278   \n",
       "\n",
       "                                                roc_auc_ovo  \n",
       "lag target Random Forest                           0.736446  \n",
       "lag target, rate Random Forest                     0.740583  \n",
       "lag target, rate, usd Random Forest                0.769781  \n",
       "lag target, rate, usd, inflation Random Forest     0.764991  "
      ]
     },
     "execution_count": 90,
     "metadata": {},
     "output_type": "execute_result"
    }
   ],
   "source": [
    "metrics = pd.concat([metrics, metric])\n",
    "metrics"
   ]
  },
  {
   "cell_type": "markdown",
   "metadata": {},
   "source": [
    "Теперь добавим рост каждого показателя(во сколько раз вырос показатель). И добавим лаговые признаки по каждому такому показателю."
   ]
  },
  {
   "cell_type": "code",
   "execution_count": null,
   "metadata": {},
   "outputs": [],
   "source": [
    "for column in (\"inflation\", \"rate\", \"usd\"):\n",
    "    X[f\"growth_{column}\"] = X[column] / X[column].shift(1)"
   ]
  },
  {
   "cell_type": "code",
   "execution_count": null,
   "metadata": {},
   "outputs": [],
   "source": [
    "for column in X.filter(regex=\"growth\").columns:\n",
    "    for i in range(1, 5):\n",
    "        X[f\"lag{i}_{column}\"] = X[column].shift(i)"
   ]
  },
  {
   "cell_type": "code",
   "execution_count": null,
   "metadata": {},
   "outputs": [
    {
     "name": "stdout",
     "output_type": "stream",
     "text": [
      "              precision    recall  f1-score   support\n",
      "\n",
      "        -1.0       0.75      0.65      0.70        23\n",
      "         0.0       0.56      0.69      0.62        26\n",
      "         1.0       0.81      0.68      0.74        19\n",
      "\n",
      "    accuracy                           0.68        68\n",
      "   macro avg       0.71      0.68      0.69        68\n",
      "weighted avg       0.70      0.68      0.68        68\n",
      "\n"
     ]
    },
    {
     "data": {
      "image/png": "[encoded data removed]",
      "text/plain": [
       "<Figure size 640x480 with 2 Axes>"
      ]
     },
     "metadata": {},
     "output_type": "display_data"
    }
   ],
   "source": [
    "metric, model = calc_metrics(\n",
    "    # отбираем необходимые признаки\n",
    "    X.filter(regex=r\"(target)|(rate)|(usd)|(inflation)\").values,\n",
    "    y.values,\n",
    "    RandomForestClassifier,\n",
    "    name=\"lag target, rate, usd, inflation, growth Random Forest\",\n",
    "    calc_jobs=-1,\n",
    "    random_state=42,\n",
    ")"
   ]
  },
  {
   "cell_type": "code",
   "execution_count": 100,
   "metadata": {},
   "outputs": [
    {
     "data": {
      "text/html": [
       "<div>\n",
       "<style scoped>\n",
       "    .dataframe tbody tr th:only-of-type {\n",
       "        vertical-align: middle;\n",
       "    }\n",
       "\n",
       "    .dataframe tbody tr th {\n",
       "        vertical-align: top;\n",
       "    }\n",
       "\n",
       "    .dataframe thead th {\n",
       "        text-align: right;\n",
       "    }\n",
       "</style>\n",
       "<table border=\"1\" class=\"dataframe\">\n",
       "  <thead>\n",
       "    <tr style=\"text-align: right;\">\n",
       "      <th></th>\n",
       "      <th>accuracy</th>\n",
       "      <th>f1</th>\n",
       "      <th>recall</th>\n",
       "      <th>precision</th>\n",
       "      <th>roc_auc_ovr</th>\n",
       "      <th>roc_auc_ovo</th>\n",
       "    </tr>\n",
       "  </thead>\n",
       "  <tbody>\n",
       "    <tr>\n",
       "      <th>lag target Random Forest</th>\n",
       "      <td>0.514706</td>\n",
       "      <td>0.523987</td>\n",
       "      <td>0.525172</td>\n",
       "      <td>0.541766</td>\n",
       "      <td>0.729330</td>\n",
       "      <td>0.736446</td>\n",
       "    </tr>\n",
       "    <tr>\n",
       "      <th>lag target, rate Random Forest</th>\n",
       "      <td>0.602941</td>\n",
       "      <td>0.616172</td>\n",
       "      <td>0.604060</td>\n",
       "      <td>0.639683</td>\n",
       "      <td>0.733619</td>\n",
       "      <td>0.740583</td>\n",
       "    </tr>\n",
       "    <tr>\n",
       "      <th>lag target, rate, usd Random Forest</th>\n",
       "      <td>0.573529</td>\n",
       "      <td>0.580662</td>\n",
       "      <td>0.568679</td>\n",
       "      <td>0.628133</td>\n",
       "      <td>0.763321</td>\n",
       "      <td>0.769781</td>\n",
       "    </tr>\n",
       "    <tr>\n",
       "      <th>lag target, rate, usd, inflation Random Forest</th>\n",
       "      <td>0.661765</td>\n",
       "      <td>0.670957</td>\n",
       "      <td>0.661738</td>\n",
       "      <td>0.697069</td>\n",
       "      <td>0.760278</td>\n",
       "      <td>0.764991</td>\n",
       "    </tr>\n",
       "    <tr>\n",
       "      <th>lag target, rate, usd, inflation, growth Random Forest</th>\n",
       "      <td>0.676471</td>\n",
       "      <td>0.687074</td>\n",
       "      <td>0.676231</td>\n",
       "      <td>0.708333</td>\n",
       "      <td>0.778322</td>\n",
       "      <td>0.783129</td>\n",
       "    </tr>\n",
       "  </tbody>\n",
       "</table>\n",
       "</div>"
      ],
      "text/plain": [
       "                                                    accuracy        f1  \\\n",
       "lag target Random Forest                            0.514706  0.523987   \n",
       "lag target, rate Random Forest                      0.602941  0.616172   \n",
       "lag target, rate, usd Random Forest                 0.573529  0.580662   \n",
       "lag target, rate, usd, inflation Random Forest      0.661765  0.670957   \n",
       "lag target, rate, usd, inflation, growth Random...  0.676471  0.687074   \n",
       "\n",
       "                                                      recall  precision  \\\n",
       "lag target Random Forest                            0.525172   0.541766   \n",
       "lag target, rate Random Forest                      0.604060   0.639683   \n",
       "lag target, rate, usd Random Forest                 0.568679   0.628133   \n",
       "lag target, rate, usd, inflation Random Forest      0.661738   0.697069   \n",
       "lag target, rate, usd, inflation, growth Random...  0.676231   0.708333   \n",
       "\n",
       "                                                    roc_auc_ovr  roc_auc_ovo  \n",
       "lag target Random Forest                               0.729330     0.736446  \n",
       "lag target, rate Random Forest                         0.733619     0.740583  \n",
       "lag target, rate, usd Random Forest                    0.763321     0.769781  \n",
       "lag target, rate, usd, inflation Random Forest         0.760278     0.764991  \n",
       "lag target, rate, usd, inflation, growth Random...     0.778322     0.783129  "
      ]
     },
     "execution_count": 100,
     "metadata": {},
     "output_type": "execute_result"
    }
   ],
   "source": [
    "metrics = pd.concat([metrics, metric])\n",
    "metrics"
   ]
  },
  {
   "cell_type": "markdown",
   "metadata": {},
   "source": [
    "Попробуем подобрать количество лаговых признаков и гиперпараметры `RandomForestClassifier`"
   ]
  },
  {
   "cell_type": "code",
   "execution_count": null,
   "metadata": {},
   "outputs": [],
   "source": [
    "# удалим все лаговые переменные\n",
    "X = pd.read_csv(\"../data/x.csv\", index_col=\"date\")"
   ]
  },
  {
   "cell_type": "code",
   "execution_count": 126,
   "metadata": {},
   "outputs": [
    {
     "data": {
      "application/vnd.jupyter.widget-view+json": {
       "model_id": "446ea21c0eea4e4f8f5c8d555708517d",
       "version_major": 2,
       "version_minor": 0
      },
      "text/plain": [
       "  0%|          | 0/100 [00:00<?, ?it/s]"
      ]
     },
     "metadata": {},
     "output_type": "display_data"
    }
   ],
   "source": [
    "def objective(trial):\n",
    "\n",
    "    # параметры для перебора\n",
    "    params = {\n",
    "        \"n_lags\": trial.suggest_int(\"n_lags\", 2, 5),\n",
    "        \"max_depth\": trial.suggest_int(\"max_depth\", 3, 25),\n",
    "        \"min_samples_leaf\": trial.suggest_int(\"min_samples_leaf\", 1, 10),\n",
    "        \"min_samples_split\": trial.suggest_int(\"min_samples_split\", 2, 10),\n",
    "    }\n",
    "\n",
    "    features = [\"inflation\", \"rate\", \"usd\"]\n",
    "\n",
    "    # Создаем копию признаков\n",
    "    data = X[features].copy()\n",
    "\n",
    "    # добавляем лаги целевой переменной\n",
    "    for i in range(1, params[\"n_lags\"] + 1):\n",
    "        data[f\"lag{i}_target\"] = y.shift(i)\n",
    "\n",
    "    # для всех экзогенных признаков\n",
    "    for feature in [\"inflation\", \"rate\", \"usd\"]:\n",
    "        # добавляем рост\n",
    "        data[f\"growth_{feature}\"] = data[feature] / data[feature].shift(1)\n",
    "        features.append(f\"growth_{feature}\")\n",
    "\n",
    "    # для всех признаков добавляем лаги\n",
    "    for feature in features:\n",
    "        for i in range(1, params[\"n_lags\"]):\n",
    "            data[f\"lag{i}_{feature}\"] = data[feature].shift(i)\n",
    "\n",
    "    model = RandomForestClassifier(\n",
    "        max_depth=params[\"max_depth\"],\n",
    "        min_samples_leaf=params[\"min_samples_leaf\"],\n",
    "        min_samples_split=params[\"min_samples_split\"],\n",
    "        random_state=42,\n",
    "    )\n",
    "\n",
    "    # считаем метрики на кросс валидации\n",
    "    metric, _ = calc_metrics(data.values, y, model, name=\" \", plot=False, calc_jobs=-1)\n",
    "\n",
    "    return metric\n",
    "\n",
    "\n",
    "# устанавливаем уровень логирования optuna\n",
    "optuna.logging.set_verbosity(optuna.logging.WARNING)\n",
    "\n",
    "# запускаем подбор гиперпараметров\n",
    "study = optuna.create_study(direction=\"maximize\")\n",
    "study.optimize(objective, n_trials=100, show_progress_bar=True)"
   ]
  },
  {
   "cell_type": "code",
   "execution_count": 127,
   "metadata": {},
   "outputs": [
    {
     "data": {
      "text/plain": [
       "{'n_lags': 4, 'max_depth': 16, 'min_samples_leaf': 1, 'min_samples_split': 4}"
      ]
     },
     "execution_count": 127,
     "metadata": {},
     "output_type": "execute_result"
    }
   ],
   "source": [
    "study.best_params"
   ]
  },
  {
   "cell_type": "code",
   "execution_count": 128,
   "metadata": {},
   "outputs": [
    {
     "name": "stdout",
     "output_type": "stream",
     "text": [
      "              precision    recall  f1-score   support\n",
      "\n",
      "        -1.0       0.72      0.57      0.63        23\n",
      "         0.0       0.53      0.69      0.60        26\n",
      "         1.0       0.81      0.68      0.74        19\n",
      "\n",
      "    accuracy                           0.65        68\n",
      "   macro avg       0.69      0.65      0.66        68\n",
      "weighted avg       0.67      0.65      0.65        68\n",
      "\n"
     ]
    },
    {
     "data": {
      "image/png": "[encoded data removed]",
      "text/plain": [
       "<Figure size 640x480 with 2 Axes>"
      ]
     },
     "metadata": {},
     "output_type": "display_data"
    }
   ],
   "source": [
    "features = [\"inflation\", \"rate\", \"usd\"]\n",
    "\n",
    "# Создаем копию признаков\n",
    "data = X[features].copy()\n",
    "\n",
    "# добавляем лаги целевой переменной\n",
    "for i in range(1, study.best_params[\"n_lags\"] + 1):\n",
    "    data[f\"lag{i}_target\"] = y.shift(i)\n",
    "\n",
    "# для всех экзогенных признаков\n",
    "for feature in [\"inflation\", \"rate\", \"usd\"]:\n",
    "    # добавляем рост\n",
    "    data[f\"growth_{feature}\"] = data[feature] / data[feature].shift(1)\n",
    "    features.append(f\"growth_{feature}\")\n",
    "\n",
    "# для всех признаков добавляем лаги\n",
    "for feature in features:\n",
    "    for i in range(1, study.best_params[\"n_lags\"]):\n",
    "        data[f\"lag{i}_{feature}\"] = data[feature].shift(i)\n",
    "\n",
    "model = RandomForestClassifier(\n",
    "    max_depth=study.best_params[\"max_depth\"],\n",
    "    min_samples_leaf=study.best_params[\"min_samples_leaf\"],\n",
    "    min_samples_split=study.best_params[\"min_samples_split\"],\n",
    "    random_state=42,\n",
    ")\n",
    "\n",
    "# считаем метрики на кросс валидации\n",
    "metric, _ = calc_metrics(data.values, y, model, name=\"TimeSeries way Random Forest\", calc_jobs=-1)"
   ]
  },
  {
   "cell_type": "code",
   "execution_count": 130,
   "metadata": {},
   "outputs": [
    {
     "data": {
      "text/html": [
       "<div>\n",
       "<style scoped>\n",
       "    .dataframe tbody tr th:only-of-type {\n",
       "        vertical-align: middle;\n",
       "    }\n",
       "\n",
       "    .dataframe tbody tr th {\n",
       "        vertical-align: top;\n",
       "    }\n",
       "\n",
       "    .dataframe thead th {\n",
       "        text-align: right;\n",
       "    }\n",
       "</style>\n",
       "<table border=\"1\" class=\"dataframe\">\n",
       "  <thead>\n",
       "    <tr style=\"text-align: right;\">\n",
       "      <th></th>\n",
       "      <th>accuracy</th>\n",
       "      <th>f1</th>\n",
       "      <th>recall</th>\n",
       "      <th>precision</th>\n",
       "      <th>roc_auc_ovr</th>\n",
       "      <th>roc_auc_ovo</th>\n",
       "    </tr>\n",
       "  </thead>\n",
       "  <tbody>\n",
       "    <tr>\n",
       "      <th>lag target Random Forest</th>\n",
       "      <td>0.514706</td>\n",
       "      <td>0.523987</td>\n",
       "      <td>0.525172</td>\n",
       "      <td>0.541766</td>\n",
       "      <td>0.729330</td>\n",
       "      <td>0.736446</td>\n",
       "    </tr>\n",
       "    <tr>\n",
       "      <th>lag target, rate Random Forest</th>\n",
       "      <td>0.602941</td>\n",
       "      <td>0.616172</td>\n",
       "      <td>0.604060</td>\n",
       "      <td>0.639683</td>\n",
       "      <td>0.733619</td>\n",
       "      <td>0.740583</td>\n",
       "    </tr>\n",
       "    <tr>\n",
       "      <th>lag target, rate, usd Random Forest</th>\n",
       "      <td>0.573529</td>\n",
       "      <td>0.580662</td>\n",
       "      <td>0.568679</td>\n",
       "      <td>0.628133</td>\n",
       "      <td>0.763321</td>\n",
       "      <td>0.769781</td>\n",
       "    </tr>\n",
       "    <tr>\n",
       "      <th>lag target, rate, usd, inflation Random Forest</th>\n",
       "      <td>0.661765</td>\n",
       "      <td>0.670957</td>\n",
       "      <td>0.661738</td>\n",
       "      <td>0.697069</td>\n",
       "      <td>0.760278</td>\n",
       "      <td>0.764991</td>\n",
       "    </tr>\n",
       "    <tr>\n",
       "      <th>lag target, rate, usd, inflation, growth Random Forest</th>\n",
       "      <td>0.676471</td>\n",
       "      <td>0.687074</td>\n",
       "      <td>0.676231</td>\n",
       "      <td>0.708333</td>\n",
       "      <td>0.778322</td>\n",
       "      <td>0.783129</td>\n",
       "    </tr>\n",
       "    <tr>\n",
       "      <th>TimeSeries way Random Forest</th>\n",
       "      <td>0.647059</td>\n",
       "      <td>0.659001</td>\n",
       "      <td>0.647245</td>\n",
       "      <td>0.688045</td>\n",
       "      <td>0.783252</td>\n",
       "      <td>0.788770</td>\n",
       "    </tr>\n",
       "  </tbody>\n",
       "</table>\n",
       "</div>"
      ],
      "text/plain": [
       "                                                    accuracy        f1  \\\n",
       "lag target Random Forest                            0.514706  0.523987   \n",
       "lag target, rate Random Forest                      0.602941  0.616172   \n",
       "lag target, rate, usd Random Forest                 0.573529  0.580662   \n",
       "lag target, rate, usd, inflation Random Forest      0.661765  0.670957   \n",
       "lag target, rate, usd, inflation, growth Random...  0.676471  0.687074   \n",
       "TimeSeries way Random Forest                        0.647059  0.659001   \n",
       "\n",
       "                                                      recall  precision  \\\n",
       "lag target Random Forest                            0.525172   0.541766   \n",
       "lag target, rate Random Forest                      0.604060   0.639683   \n",
       "lag target, rate, usd Random Forest                 0.568679   0.628133   \n",
       "lag target, rate, usd, inflation Random Forest      0.661738   0.697069   \n",
       "lag target, rate, usd, inflation, growth Random...  0.676231   0.708333   \n",
       "TimeSeries way Random Forest                        0.647245   0.688045   \n",
       "\n",
       "                                                    roc_auc_ovr  roc_auc_ovo  \n",
       "lag target Random Forest                               0.729330     0.736446  \n",
       "lag target, rate Random Forest                         0.733619     0.740583  \n",
       "lag target, rate, usd Random Forest                    0.763321     0.769781  \n",
       "lag target, rate, usd, inflation Random Forest         0.760278     0.764991  \n",
       "lag target, rate, usd, inflation, growth Random...     0.778322     0.783129  \n",
       "TimeSeries way Random Forest                           0.783252     0.788770  "
      ]
     },
     "execution_count": 130,
     "metadata": {},
     "output_type": "execute_result"
    }
   ],
   "source": [
    "metrics = pd.concat([metrics, metric])\n",
    "metrics"
   ]
  },
  {
   "cell_type": "markdown",
   "metadata": {},
   "source": [
    "Отлично, мы еще немного улучшили наши метрики."
   ]
  },
  {
   "cell_type": "markdown",
   "metadata": {},
   "source": []
  }
 ],
 "metadata": {
  "kernelspec": {
   "display_name": ".venv",
   "language": "python",
   "name": "python3"
  },
  "language_info": {
   "codemirror_mode": {
    "name": "ipython",
    "version": 3
   },
   "file_extension": ".py",
   "mimetype": "text/x-python",
   "name": "python",
   "nbconvert_exporter": "python",
   "pygments_lexer": "ipython3",
   "version": "3.11.9"
  }
 },
 "nbformat": 4,
 "nbformat_minor": 2
}
