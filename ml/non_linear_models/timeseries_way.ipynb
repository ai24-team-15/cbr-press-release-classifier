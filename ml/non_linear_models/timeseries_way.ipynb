{
 "cells": [
  {
   "cell_type": "markdown",
   "metadata": {},
   "source": [
    "## Time Series\n",
    "\n",
    "В данном ноутбуке в качестве данных будем использовать инфляцию, курс доллара, величину процентной ставки, а также лаговые переменные всех этих признаков и целевой переменной. Будем работать как с временным рядом, расчитаем лаговые признаки и попробуем в качестве классификатора Random Forest, KNN и CatBoost."
   ]
  },
  {
   "cell_type": "code",
   "execution_count": 1,
   "metadata": {},
   "outputs": [
    {
     "name": "stderr",
     "output_type": "stream",
     "text": [
      "c:\\Users\\user\\miniconda3\\envs\\ml_yp\\Lib\\site-packages\\tqdm\\auto.py:21: TqdmWarning: IProgress not found. Please update jupyter and ipywidgets. See https://ipywidgets.readthedocs.io/en/stable/user_install.html\n",
      "  from .autonotebook import tqdm as notebook_tqdm\n"
     ]
    }
   ],
   "source": [
    "import os\n",
    "import sys\n",
    "\n",
    "import pandas as pd\n",
    "from sklearn.ensemble import RandomForestClassifier\n",
    "from sklearn.neighbors import KNeighborsClassifier\n",
    "from catboost import CatBoostClassifier\n",
    "import optuna\n",
    "\n",
    "# Добавляем в path вышестоящую директорию для импорта  calc_metrics\n",
    "sys.path.append(os.path.abspath(os.path.join(\"..\")))\n",
    "\n",
    "from utils import calc_metrics"
   ]
  },
  {
   "cell_type": "code",
   "execution_count": 2,
   "metadata": {},
   "outputs": [],
   "source": [
    "# загружаем данные\n",
    "X = pd.read_csv(\"../data/x.csv\", index_col=\"date\")\n",
    "y = pd.read_csv(\"../data/y.csv\", index_col=\"date\").iloc[:, 0]"
   ]
  },
  {
   "cell_type": "markdown",
   "metadata": {},
   "source": [
    "### Lag Feature and Random Forest"
   ]
  },
  {
   "cell_type": "markdown",
   "metadata": {},
   "source": [
    "Добавим лаговые признаки таргета с лагом от 1 до 5 включительно."
   ]
  },
  {
   "cell_type": "code",
   "execution_count": 3,
   "metadata": {},
   "outputs": [],
   "source": [
    "for i in range(1, 6):\n",
    "    X[f\"lag{i}_target\"] = y.shift(i)"
   ]
  },
  {
   "cell_type": "markdown",
   "metadata": {},
   "source": [
    "Проверим качество с помощью кросс-валидации"
   ]
  },
  {
   "cell_type": "code",
   "execution_count": 4,
   "metadata": {},
   "outputs": [
    {
     "name": "stdout",
     "output_type": "stream",
     "text": [
      "              precision    recall  f1-score   support\n",
      "\n",
      "        -1.0       0.60      0.39      0.47        23\n",
      "         0.0       0.42      0.52      0.47        27\n",
      "         1.0       0.62      0.68      0.65        19\n",
      "\n",
      "    accuracy                           0.52        69\n",
      "   macro avg       0.55      0.53      0.53        69\n",
      "weighted avg       0.54      0.52      0.52        69\n",
      "\n"
     ]
    },
    {
     "data": {
      "image/png": "[encoded data removed]",
      "text/plain": [
       "<Figure size 640x480 with 2 Axes>"
      ]
     },
     "metadata": {},
     "output_type": "display_data"
    }
   ],
   "source": [
    "metrics, model = calc_metrics(\n",
    "    X.filter(regex=\"target\").values,  # обучаемся только на лаговых признаках\n",
    "    y.values,\n",
    "    RandomForestClassifier,\n",
    "    name=\"lag target Random Forest\",\n",
    "    calc_jobs=-1,\n",
    "    random_state=42,\n",
    ")"
   ]
  },
  {
   "cell_type": "code",
   "execution_count": 5,
   "metadata": {},
   "outputs": [
    {
     "data": {
      "text/html": [
       "<div>\n",
       "<style scoped>\n",
       "    .dataframe tbody tr th:only-of-type {\n",
       "        vertical-align: middle;\n",
       "    }\n",
       "\n",
       "    .dataframe tbody tr th {\n",
       "        vertical-align: top;\n",
       "    }\n",
       "\n",
       "    .dataframe thead th {\n",
       "        text-align: right;\n",
       "    }\n",
       "</style>\n",
       "<table border=\"1\" class=\"dataframe\">\n",
       "  <thead>\n",
       "    <tr style=\"text-align: right;\">\n",
       "      <th></th>\n",
       "      <th>accuracy</th>\n",
       "      <th>f1</th>\n",
       "      <th>recall</th>\n",
       "      <th>precision</th>\n",
       "      <th>roc_auc_ovr</th>\n",
       "      <th>roc_auc_ovo</th>\n",
       "    </tr>\n",
       "  </thead>\n",
       "  <tbody>\n",
       "    <tr>\n",
       "      <th>lag target Random Forest</th>\n",
       "      <td>0.521739</td>\n",
       "      <td>0.530117</td>\n",
       "      <td>0.531344</td>\n",
       "      <td>0.547763</td>\n",
       "      <td>0.73607</td>\n",
       "      <td>0.743615</td>\n",
       "    </tr>\n",
       "  </tbody>\n",
       "</table>\n",
       "</div>"
      ],
      "text/plain": [
       "                          accuracy        f1    recall  precision  \\\n",
       "lag target Random Forest  0.521739  0.530117  0.531344   0.547763   \n",
       "\n",
       "                          roc_auc_ovr  roc_auc_ovo  \n",
       "lag target Random Forest      0.73607     0.743615  "
      ]
     },
     "execution_count": 5,
     "metadata": {},
     "output_type": "execute_result"
    }
   ],
   "source": [
    "metrics"
   ]
  },
  {
   "cell_type": "markdown",
   "metadata": {},
   "source": [
    "Попробуем добавить процентную ставку и четыре лаговых признака процентной ставки"
   ]
  },
  {
   "cell_type": "code",
   "execution_count": 6,
   "metadata": {},
   "outputs": [],
   "source": [
    "for i in range(1, 5):\n",
    "    X[f\"lag{i}_rate\"] = X[\"rate\"].shift(i)"
   ]
  },
  {
   "cell_type": "markdown",
   "metadata": {},
   "source": [
    "Взглянем на качество"
   ]
  },
  {
   "cell_type": "code",
   "execution_count": 7,
   "metadata": {},
   "outputs": [
    {
     "name": "stdout",
     "output_type": "stream",
     "text": [
      "              precision    recall  f1-score   support\n",
      "\n",
      "        -1.0       0.62      0.57      0.59        23\n",
      "         0.0       0.52      0.63      0.57        27\n",
      "         1.0       0.80      0.63      0.71        19\n",
      "\n",
      "    accuracy                           0.61        69\n",
      "   macro avg       0.64      0.61      0.62        69\n",
      "weighted avg       0.63      0.61      0.61        69\n",
      "\n"
     ]
    },
    {
     "data": {
      "image/png": "[encoded data removed]",
      "text/plain": [
       "<Figure size 640x480 with 2 Axes>"
      ]
     },
     "metadata": {},
     "output_type": "display_data"
    }
   ],
   "source": [
    "metric, model = calc_metrics(\n",
    "    # отбираем колонки содержащие в названии target или rate\n",
    "    X.filter(regex=r\"(target)|(rate)\").values,\n",
    "    y.values,\n",
    "    RandomForestClassifier,\n",
    "    name=\"lag target, rate Random Forest\",\n",
    "    calc_jobs=-1,\n",
    "    random_state=42,\n",
    ")"
   ]
  },
  {
   "cell_type": "code",
   "execution_count": 8,
   "metadata": {},
   "outputs": [
    {
     "data": {
      "text/html": [
       "<div>\n",
       "<style scoped>\n",
       "    .dataframe tbody tr th:only-of-type {\n",
       "        vertical-align: middle;\n",
       "    }\n",
       "\n",
       "    .dataframe tbody tr th {\n",
       "        vertical-align: top;\n",
       "    }\n",
       "\n",
       "    .dataframe thead th {\n",
       "        text-align: right;\n",
       "    }\n",
       "</style>\n",
       "<table border=\"1\" class=\"dataframe\">\n",
       "  <thead>\n",
       "    <tr style=\"text-align: right;\">\n",
       "      <th></th>\n",
       "      <th>accuracy</th>\n",
       "      <th>f1</th>\n",
       "      <th>recall</th>\n",
       "      <th>precision</th>\n",
       "      <th>roc_auc_ovr</th>\n",
       "      <th>roc_auc_ovo</th>\n",
       "    </tr>\n",
       "  </thead>\n",
       "  <tbody>\n",
       "    <tr>\n",
       "      <th>lag target Random Forest</th>\n",
       "      <td>0.521739</td>\n",
       "      <td>0.530117</td>\n",
       "      <td>0.531344</td>\n",
       "      <td>0.547763</td>\n",
       "      <td>0.73607</td>\n",
       "      <td>0.743615</td>\n",
       "    </tr>\n",
       "    <tr>\n",
       "      <th>lag target, rate Random Forest</th>\n",
       "      <td>0.608696</td>\n",
       "      <td>0.621153</td>\n",
       "      <td>0.608809</td>\n",
       "      <td>0.644733</td>\n",
       "      <td>0.73717</td>\n",
       "      <td>0.744943</td>\n",
       "    </tr>\n",
       "  </tbody>\n",
       "</table>\n",
       "</div>"
      ],
      "text/plain": [
       "                                accuracy        f1    recall  precision  \\\n",
       "lag target Random Forest        0.521739  0.530117  0.531344   0.547763   \n",
       "lag target, rate Random Forest  0.608696  0.621153  0.608809   0.644733   \n",
       "\n",
       "                                roc_auc_ovr  roc_auc_ovo  \n",
       "lag target Random Forest            0.73607     0.743615  \n",
       "lag target, rate Random Forest      0.73717     0.744943  "
      ]
     },
     "execution_count": 8,
     "metadata": {},
     "output_type": "execute_result"
    }
   ],
   "source": [
    "metrics = pd.concat([metrics, metric])\n",
    "metrics"
   ]
  },
  {
   "cell_type": "markdown",
   "metadata": {},
   "source": [
    "Качество подросло, теперь попробуем добавить значение курса доллара и четыре его лаговых признака"
   ]
  },
  {
   "cell_type": "code",
   "execution_count": 9,
   "metadata": {},
   "outputs": [],
   "source": [
    "for i in range(1, 5):\n",
    "    X[f\"lag{i}_usd\"] = X[\"usd\"].shift(i)"
   ]
  },
  {
   "cell_type": "code",
   "execution_count": 10,
   "metadata": {},
   "outputs": [
    {
     "name": "stdout",
     "output_type": "stream",
     "text": [
      "              precision    recall  f1-score   support\n",
      "\n",
      "        -1.0       0.62      0.43      0.51        23\n",
      "         0.0       0.49      0.70      0.58        27\n",
      "         1.0       0.79      0.58      0.67        19\n",
      "\n",
      "    accuracy                           0.58        69\n",
      "   macro avg       0.63      0.57      0.59        69\n",
      "weighted avg       0.62      0.58      0.58        69\n",
      "\n"
     ]
    },
    {
     "data": {
      "image/png": "[encoded data removed]",
      "text/plain": [
       "<Figure size 640x480 with 2 Axes>"
      ]
     },
     "metadata": {},
     "output_type": "display_data"
    }
   ],
   "source": [
    "metric, model = calc_metrics(\n",
    "    # отбираем необходимые признаки\n",
    "    X.filter(regex=r\"(target)|(rate)|(usd)\").values,\n",
    "    y.values,\n",
    "    RandomForestClassifier,\n",
    "    name=\"lag target, rate, usd Random Forest\",\n",
    "    calc_jobs=-1,\n",
    "    random_state=42,\n",
    ")"
   ]
  },
  {
   "cell_type": "code",
   "execution_count": 11,
   "metadata": {},
   "outputs": [
    {
     "data": {
      "text/html": [
       "<div>\n",
       "<style scoped>\n",
       "    .dataframe tbody tr th:only-of-type {\n",
       "        vertical-align: middle;\n",
       "    }\n",
       "\n",
       "    .dataframe tbody tr th {\n",
       "        vertical-align: top;\n",
       "    }\n",
       "\n",
       "    .dataframe thead th {\n",
       "        text-align: right;\n",
       "    }\n",
       "</style>\n",
       "<table border=\"1\" class=\"dataframe\">\n",
       "  <thead>\n",
       "    <tr style=\"text-align: right;\">\n",
       "      <th></th>\n",
       "      <th>accuracy</th>\n",
       "      <th>f1</th>\n",
       "      <th>recall</th>\n",
       "      <th>precision</th>\n",
       "      <th>roc_auc_ovr</th>\n",
       "      <th>roc_auc_ovo</th>\n",
       "    </tr>\n",
       "  </thead>\n",
       "  <tbody>\n",
       "    <tr>\n",
       "      <th>lag target Random Forest</th>\n",
       "      <td>0.521739</td>\n",
       "      <td>0.530117</td>\n",
       "      <td>0.531344</td>\n",
       "      <td>0.547763</td>\n",
       "      <td>0.736070</td>\n",
       "      <td>0.743615</td>\n",
       "    </tr>\n",
       "    <tr>\n",
       "      <th>lag target, rate Random Forest</th>\n",
       "      <td>0.608696</td>\n",
       "      <td>0.621153</td>\n",
       "      <td>0.608809</td>\n",
       "      <td>0.644733</td>\n",
       "      <td>0.737170</td>\n",
       "      <td>0.744943</td>\n",
       "    </tr>\n",
       "    <tr>\n",
       "      <th>lag target, rate, usd Random Forest</th>\n",
       "      <td>0.579710</td>\n",
       "      <td>0.585082</td>\n",
       "      <td>0.572478</td>\n",
       "      <td>0.632631</td>\n",
       "      <td>0.762137</td>\n",
       "      <td>0.769437</td>\n",
       "    </tr>\n",
       "  </tbody>\n",
       "</table>\n",
       "</div>"
      ],
      "text/plain": [
       "                                     accuracy        f1    recall  precision  \\\n",
       "lag target Random Forest             0.521739  0.530117  0.531344   0.547763   \n",
       "lag target, rate Random Forest       0.608696  0.621153  0.608809   0.644733   \n",
       "lag target, rate, usd Random Forest  0.579710  0.585082  0.572478   0.632631   \n",
       "\n",
       "                                     roc_auc_ovr  roc_auc_ovo  \n",
       "lag target Random Forest                0.736070     0.743615  \n",
       "lag target, rate Random Forest          0.737170     0.744943  \n",
       "lag target, rate, usd Random Forest     0.762137     0.769437  "
      ]
     },
     "execution_count": 11,
     "metadata": {},
     "output_type": "execute_result"
    }
   ],
   "source": [
    "metrics = pd.concat([metrics, metric])\n",
    "metrics"
   ]
  },
  {
   "cell_type": "markdown",
   "metadata": {},
   "source": [
    "Наша основная метрика немно выросла, хотя accuracy, f1, recall и precision снизились. Если мы поиграемся с порогом то эти метрики тоже станут выше. Попробуем добавить инфляцию."
   ]
  },
  {
   "cell_type": "code",
   "execution_count": 12,
   "metadata": {},
   "outputs": [],
   "source": [
    "for i in range(1, 5):\n",
    "    X[f\"lag{i}_inflation\"] = X[\"inflation\"].shift(i)"
   ]
  },
  {
   "cell_type": "code",
   "execution_count": 13,
   "metadata": {},
   "outputs": [
    {
     "name": "stdout",
     "output_type": "stream",
     "text": [
      "              precision    recall  f1-score   support\n",
      "\n",
      "        -1.0       0.82      0.61      0.70        23\n",
      "         0.0       0.56      0.70      0.62        27\n",
      "         1.0       0.72      0.68      0.70        19\n",
      "\n",
      "    accuracy                           0.67        69\n",
      "   macro avg       0.70      0.67      0.68        69\n",
      "weighted avg       0.69      0.67      0.67        69\n",
      "\n"
     ]
    },
    {
     "data": {
      "image/png": "[encoded data removed]",
      "text/plain": [
       "<Figure size 640x480 with 2 Axes>"
      ]
     },
     "metadata": {},
     "output_type": "display_data"
    }
   ],
   "source": [
    "metric, model = calc_metrics(\n",
    "    # отбираем необходимые признаки\n",
    "    X.filter(regex=r\"(target)|(rate)|(usd)|(inflation)\").values,\n",
    "    y.values,\n",
    "    RandomForestClassifier,\n",
    "    name=\"lag target, rate, usd, inflation Random Forest\",\n",
    "    calc_jobs=-1,\n",
    "    random_state=42,\n",
    ")"
   ]
  },
  {
   "cell_type": "code",
   "execution_count": 14,
   "metadata": {},
   "outputs": [
    {
     "data": {
      "text/html": [
       "<div>\n",
       "<style scoped>\n",
       "    .dataframe tbody tr th:only-of-type {\n",
       "        vertical-align: middle;\n",
       "    }\n",
       "\n",
       "    .dataframe tbody tr th {\n",
       "        vertical-align: top;\n",
       "    }\n",
       "\n",
       "    .dataframe thead th {\n",
       "        text-align: right;\n",
       "    }\n",
       "</style>\n",
       "<table border=\"1\" class=\"dataframe\">\n",
       "  <thead>\n",
       "    <tr style=\"text-align: right;\">\n",
       "      <th></th>\n",
       "      <th>accuracy</th>\n",
       "      <th>f1</th>\n",
       "      <th>recall</th>\n",
       "      <th>precision</th>\n",
       "      <th>roc_auc_ovr</th>\n",
       "      <th>roc_auc_ovo</th>\n",
       "    </tr>\n",
       "  </thead>\n",
       "  <tbody>\n",
       "    <tr>\n",
       "      <th>lag target Random Forest</th>\n",
       "      <td>0.521739</td>\n",
       "      <td>0.530117</td>\n",
       "      <td>0.531344</td>\n",
       "      <td>0.547763</td>\n",
       "      <td>0.736070</td>\n",
       "      <td>0.743615</td>\n",
       "    </tr>\n",
       "    <tr>\n",
       "      <th>lag target, rate Random Forest</th>\n",
       "      <td>0.608696</td>\n",
       "      <td>0.621153</td>\n",
       "      <td>0.608809</td>\n",
       "      <td>0.644733</td>\n",
       "      <td>0.737170</td>\n",
       "      <td>0.744943</td>\n",
       "    </tr>\n",
       "    <tr>\n",
       "      <th>lag target, rate, usd Random Forest</th>\n",
       "      <td>0.579710</td>\n",
       "      <td>0.585082</td>\n",
       "      <td>0.572478</td>\n",
       "      <td>0.632631</td>\n",
       "      <td>0.762137</td>\n",
       "      <td>0.769437</td>\n",
       "    </tr>\n",
       "    <tr>\n",
       "      <th>lag target, rate, usd, inflation Random Forest</th>\n",
       "      <td>0.666667</td>\n",
       "      <td>0.675218</td>\n",
       "      <td>0.665537</td>\n",
       "      <td>0.701525</td>\n",
       "      <td>0.759418</td>\n",
       "      <td>0.764853</td>\n",
       "    </tr>\n",
       "  </tbody>\n",
       "</table>\n",
       "</div>"
      ],
      "text/plain": [
       "                                                accuracy        f1    recall  \\\n",
       "lag target Random Forest                        0.521739  0.530117  0.531344   \n",
       "lag target, rate Random Forest                  0.608696  0.621153  0.608809   \n",
       "lag target, rate, usd Random Forest             0.579710  0.585082  0.572478   \n",
       "lag target, rate, usd, inflation Random Forest  0.666667  0.675218  0.665537   \n",
       "\n",
       "                                                precision  roc_auc_ovr  \\\n",
       "lag target Random Forest                         0.547763     0.736070   \n",
       "lag target, rate Random Forest                   0.644733     0.737170   \n",
       "lag target, rate, usd Random Forest              0.632631     0.762137   \n",
       "lag target, rate, usd, inflation Random Forest   0.701525     0.759418   \n",
       "\n",
       "                                                roc_auc_ovo  \n",
       "lag target Random Forest                           0.743615  \n",
       "lag target, rate Random Forest                     0.744943  \n",
       "lag target, rate, usd Random Forest                0.769437  \n",
       "lag target, rate, usd, inflation Random Forest     0.764853  "
      ]
     },
     "execution_count": 14,
     "metadata": {},
     "output_type": "execute_result"
    }
   ],
   "source": [
    "metrics = pd.concat([metrics, metric])\n",
    "metrics"
   ]
  },
  {
   "cell_type": "markdown",
   "metadata": {},
   "source": [
    "Теперь добавим рост каждого показателя(во сколько раз вырос показатель). И добавим лаговые признаки по каждому такому показателю."
   ]
  },
  {
   "cell_type": "code",
   "execution_count": 15,
   "metadata": {},
   "outputs": [],
   "source": [
    "for column in (\"inflation\", \"rate\", \"usd\"):\n",
    "    X[f\"growth_{column}\"] = X[column] / X[column].shift(1)"
   ]
  },
  {
   "cell_type": "code",
   "execution_count": 16,
   "metadata": {},
   "outputs": [],
   "source": [
    "for column in X.filter(regex=\"growth\").columns:\n",
    "    for i in range(1, 5):\n",
    "        X[f\"lag{i}_{column}\"] = X[column].shift(i)"
   ]
  },
  {
   "cell_type": "code",
   "execution_count": 17,
   "metadata": {},
   "outputs": [
    {
     "name": "stdout",
     "output_type": "stream",
     "text": [
      "              precision    recall  f1-score   support\n",
      "\n",
      "        -1.0       0.75      0.65      0.70        23\n",
      "         0.0       0.58      0.70      0.63        27\n",
      "         1.0       0.81      0.68      0.74        19\n",
      "\n",
      "    accuracy                           0.68        69\n",
      "   macro avg       0.71      0.68      0.69        69\n",
      "weighted avg       0.70      0.68      0.68        69\n",
      "\n"
     ]
    },
    {
     "data": {
      "image/png": "[encoded data removed]",
      "text/plain": [
       "<Figure size 640x480 with 2 Axes>"
      ]
     },
     "metadata": {},
     "output_type": "display_data"
    }
   ],
   "source": [
    "metric, model = calc_metrics(\n",
    "    # отбираем необходимые признаки\n",
    "    X.filter(regex=r\"(target)|(rate)|(usd)|(inflation)\").values,\n",
    "    y.values,\n",
    "    RandomForestClassifier,\n",
    "    name=\"lag target, rate, usd, inflation, growth Random Forest\",\n",
    "    calc_jobs=-1,\n",
    "    random_state=42,\n",
    ")"
   ]
  },
  {
   "cell_type": "code",
   "execution_count": 18,
   "metadata": {},
   "outputs": [
    {
     "data": {
      "text/html": [
       "<div>\n",
       "<style scoped>\n",
       "    .dataframe tbody tr th:only-of-type {\n",
       "        vertical-align: middle;\n",
       "    }\n",
       "\n",
       "    .dataframe tbody tr th {\n",
       "        vertical-align: top;\n",
       "    }\n",
       "\n",
       "    .dataframe thead th {\n",
       "        text-align: right;\n",
       "    }\n",
       "</style>\n",
       "<table border=\"1\" class=\"dataframe\">\n",
       "  <thead>\n",
       "    <tr style=\"text-align: right;\">\n",
       "      <th></th>\n",
       "      <th>accuracy</th>\n",
       "      <th>f1</th>\n",
       "      <th>recall</th>\n",
       "      <th>precision</th>\n",
       "      <th>roc_auc_ovr</th>\n",
       "      <th>roc_auc_ovo</th>\n",
       "    </tr>\n",
       "  </thead>\n",
       "  <tbody>\n",
       "    <tr>\n",
       "      <th>lag target Random Forest</th>\n",
       "      <td>0.521739</td>\n",
       "      <td>0.530117</td>\n",
       "      <td>0.531344</td>\n",
       "      <td>0.547763</td>\n",
       "      <td>0.736070</td>\n",
       "      <td>0.743615</td>\n",
       "    </tr>\n",
       "    <tr>\n",
       "      <th>lag target, rate Random Forest</th>\n",
       "      <td>0.608696</td>\n",
       "      <td>0.621153</td>\n",
       "      <td>0.608809</td>\n",
       "      <td>0.644733</td>\n",
       "      <td>0.737170</td>\n",
       "      <td>0.744943</td>\n",
       "    </tr>\n",
       "    <tr>\n",
       "      <th>lag target, rate, usd Random Forest</th>\n",
       "      <td>0.579710</td>\n",
       "      <td>0.585082</td>\n",
       "      <td>0.572478</td>\n",
       "      <td>0.632631</td>\n",
       "      <td>0.762137</td>\n",
       "      <td>0.769437</td>\n",
       "    </tr>\n",
       "    <tr>\n",
       "      <th>lag target, rate, usd, inflation Random Forest</th>\n",
       "      <td>0.666667</td>\n",
       "      <td>0.675218</td>\n",
       "      <td>0.665537</td>\n",
       "      <td>0.701525</td>\n",
       "      <td>0.759418</td>\n",
       "      <td>0.764853</td>\n",
       "    </tr>\n",
       "    <tr>\n",
       "      <th>lag target, rate, usd, inflation, growth Random Forest</th>\n",
       "      <td>0.681159</td>\n",
       "      <td>0.691288</td>\n",
       "      <td>0.680029</td>\n",
       "      <td>0.712753</td>\n",
       "      <td>0.777380</td>\n",
       "      <td>0.782898</td>\n",
       "    </tr>\n",
       "  </tbody>\n",
       "</table>\n",
       "</div>"
      ],
      "text/plain": [
       "                                                    accuracy        f1  \\\n",
       "lag target Random Forest                            0.521739  0.530117   \n",
       "lag target, rate Random Forest                      0.608696  0.621153   \n",
       "lag target, rate, usd Random Forest                 0.579710  0.585082   \n",
       "lag target, rate, usd, inflation Random Forest      0.666667  0.675218   \n",
       "lag target, rate, usd, inflation, growth Random...  0.681159  0.691288   \n",
       "\n",
       "                                                      recall  precision  \\\n",
       "lag target Random Forest                            0.531344   0.547763   \n",
       "lag target, rate Random Forest                      0.608809   0.644733   \n",
       "lag target, rate, usd Random Forest                 0.572478   0.632631   \n",
       "lag target, rate, usd, inflation Random Forest      0.665537   0.701525   \n",
       "lag target, rate, usd, inflation, growth Random...  0.680029   0.712753   \n",
       "\n",
       "                                                    roc_auc_ovr  roc_auc_ovo  \n",
       "lag target Random Forest                               0.736070     0.743615  \n",
       "lag target, rate Random Forest                         0.737170     0.744943  \n",
       "lag target, rate, usd Random Forest                    0.762137     0.769437  \n",
       "lag target, rate, usd, inflation Random Forest         0.759418     0.764853  \n",
       "lag target, rate, usd, inflation, growth Random...     0.777380     0.782898  "
      ]
     },
     "execution_count": 18,
     "metadata": {},
     "output_type": "execute_result"
    }
   ],
   "source": [
    "metrics = pd.concat([metrics, metric])\n",
    "metrics"
   ]
  },
  {
   "cell_type": "markdown",
   "metadata": {},
   "source": [
    "Попробуем подобрать количество лаговых признаков и гиперпараметры `RandomForestClassifier`"
   ]
  },
  {
   "cell_type": "markdown",
   "metadata": {},
   "source": [
    "### Random Forest tuning hyperparameters"
   ]
  },
  {
   "cell_type": "code",
   "execution_count": 19,
   "metadata": {},
   "outputs": [],
   "source": [
    "# удалим все лаговые переменные\n",
    "X = pd.read_csv(\"../data/x.csv\", index_col=\"date\")"
   ]
  },
  {
   "cell_type": "code",
   "execution_count": 20,
   "metadata": {},
   "outputs": [
    {
     "name": "stderr",
     "output_type": "stream",
     "text": [
      "Best trial: 20. Best value: 0.788711: 100%|██████████| 300/300 [02:54<00:00,  1.71it/s]\n"
     ]
    }
   ],
   "source": [
    "def objective(trial):\n",
    "\n",
    "    # параметры для перебора\n",
    "    params = {\n",
    "        \"n_lags\": trial.suggest_int(\"n_lags\", 2, 5),\n",
    "        \"max_depth\": trial.suggest_int(\"max_depth\", 3, 25),\n",
    "        \"min_samples_leaf\": trial.suggest_int(\"min_samples_leaf\", 1, 10),\n",
    "        \"min_samples_split\": trial.suggest_int(\"min_samples_split\", 2, 10),\n",
    "    }\n",
    "\n",
    "    features = [\"inflation\", \"rate\", \"usd\"]\n",
    "\n",
    "    # Создаем копию признаков\n",
    "    data = X[features].copy()\n",
    "\n",
    "    # добавляем лаги целевой переменной\n",
    "    for i in range(1, params[\"n_lags\"] + 1):\n",
    "        data[f\"lag{i}_target\"] = y.shift(i)\n",
    "\n",
    "    # для всех экзогенных признаков\n",
    "    for feature in [\"inflation\", \"rate\", \"usd\"]:\n",
    "        # добавляем рост\n",
    "        data[f\"growth_{feature}\"] = data[feature] / data[feature].shift(1)\n",
    "        features.append(f\"growth_{feature}\")\n",
    "\n",
    "    # для всех признаков добавляем лаги\n",
    "    for feature in features:\n",
    "        for i in range(1, params[\"n_lags\"]):\n",
    "            data[f\"lag{i}_{feature}\"] = data[feature].shift(i)\n",
    "\n",
    "    model = RandomForestClassifier(\n",
    "        max_depth=params[\"max_depth\"],\n",
    "        min_samples_leaf=params[\"min_samples_leaf\"],\n",
    "        min_samples_split=params[\"min_samples_split\"],\n",
    "        random_state=42,\n",
    "    )\n",
    "\n",
    "    # считаем метрики на кросс валидации\n",
    "    metric, _ = calc_metrics(data.values, y, model, name=\" \", plot=False, calc_jobs=-1)\n",
    "\n",
    "    return metric\n",
    "\n",
    "\n",
    "# устанавливаем уровень логирования optuna\n",
    "optuna.logging.set_verbosity(optuna.logging.WARNING)\n",
    "\n",
    "# запускаем подбор гиперпараметров\n",
    "study = optuna.create_study(direction=\"maximize\")\n",
    "study.optimize(objective, n_trials=300, show_progress_bar=True)"
   ]
  },
  {
   "cell_type": "code",
   "execution_count": 21,
   "metadata": {},
   "outputs": [
    {
     "data": {
      "text/plain": [
       "{'n_lags': 5, 'max_depth': 21, 'min_samples_leaf': 2, 'min_samples_split': 7}"
      ]
     },
     "execution_count": 21,
     "metadata": {},
     "output_type": "execute_result"
    }
   ],
   "source": [
    "study.best_params"
   ]
  },
  {
   "cell_type": "markdown",
   "metadata": {},
   "source": [
    "Посмотрим метрики подробнее"
   ]
  },
  {
   "cell_type": "code",
   "execution_count": 22,
   "metadata": {},
   "outputs": [
    {
     "name": "stdout",
     "output_type": "stream",
     "text": [
      "              precision    recall  f1-score   support\n",
      "\n",
      "        -1.0       0.73      0.48      0.58        23\n",
      "         0.0       0.51      0.74      0.61        27\n",
      "         1.0       0.73      0.58      0.65        19\n",
      "\n",
      "    accuracy                           0.61        69\n",
      "   macro avg       0.66      0.60      0.61        69\n",
      "weighted avg       0.65      0.61      0.61        69\n",
      "\n"
     ]
    },
    {
     "data": {
      "image/png": "[encoded data removed]",
      "text/plain": [
       "<Figure size 640x480 with 2 Axes>"
      ]
     },
     "metadata": {},
     "output_type": "display_data"
    }
   ],
   "source": [
    "features = [\"inflation\", \"rate\", \"usd\"]\n",
    "\n",
    "# Создаем копию признаков\n",
    "data = X[features].copy()\n",
    "\n",
    "# добавляем лаги целевой переменной\n",
    "for i in range(1, study.best_params[\"n_lags\"] + 1):\n",
    "    data[f\"lag{i}_target\"] = y.shift(i)\n",
    "\n",
    "# для всех экзогенных признаков\n",
    "for feature in [\"inflation\", \"rate\", \"usd\"]:\n",
    "    # добавляем рост\n",
    "    data[f\"growth_{feature}\"] = data[feature] / data[feature].shift(1)\n",
    "    features.append(f\"growth_{feature}\")\n",
    "\n",
    "# для всех признаков добавляем лаги\n",
    "for feature in features:\n",
    "    for i in range(1, study.best_params[\"n_lags\"]):\n",
    "        data[f\"lag{i}_{feature}\"] = data[feature].shift(i)\n",
    "\n",
    "model = RandomForestClassifier(\n",
    "    max_depth=study.best_params[\"max_depth\"],\n",
    "    min_samples_leaf=study.best_params[\"min_samples_leaf\"],\n",
    "    min_samples_split=study.best_params[\"min_samples_split\"],\n",
    "    random_state=42,\n",
    ")\n",
    "\n",
    "# считаем метрики на кросс валидации\n",
    "metric, _ = calc_metrics(data.values, y, model, name=\"TimeSeries way Random Forest\", calc_jobs=-1)"
   ]
  },
  {
   "cell_type": "code",
   "execution_count": 23,
   "metadata": {},
   "outputs": [
    {
     "data": {
      "text/html": [
       "<div>\n",
       "<style scoped>\n",
       "    .dataframe tbody tr th:only-of-type {\n",
       "        vertical-align: middle;\n",
       "    }\n",
       "\n",
       "    .dataframe tbody tr th {\n",
       "        vertical-align: top;\n",
       "    }\n",
       "\n",
       "    .dataframe thead th {\n",
       "        text-align: right;\n",
       "    }\n",
       "</style>\n",
       "<table border=\"1\" class=\"dataframe\">\n",
       "  <thead>\n",
       "    <tr style=\"text-align: right;\">\n",
       "      <th></th>\n",
       "      <th>accuracy</th>\n",
       "      <th>f1</th>\n",
       "      <th>recall</th>\n",
       "      <th>precision</th>\n",
       "      <th>roc_auc_ovr</th>\n",
       "      <th>roc_auc_ovo</th>\n",
       "    </tr>\n",
       "  </thead>\n",
       "  <tbody>\n",
       "    <tr>\n",
       "      <th>lag target Random Forest</th>\n",
       "      <td>0.521739</td>\n",
       "      <td>0.530117</td>\n",
       "      <td>0.531344</td>\n",
       "      <td>0.547763</td>\n",
       "      <td>0.736070</td>\n",
       "      <td>0.743615</td>\n",
       "    </tr>\n",
       "    <tr>\n",
       "      <th>lag target, rate Random Forest</th>\n",
       "      <td>0.608696</td>\n",
       "      <td>0.621153</td>\n",
       "      <td>0.608809</td>\n",
       "      <td>0.644733</td>\n",
       "      <td>0.737170</td>\n",
       "      <td>0.744943</td>\n",
       "    </tr>\n",
       "    <tr>\n",
       "      <th>lag target, rate, usd Random Forest</th>\n",
       "      <td>0.579710</td>\n",
       "      <td>0.585082</td>\n",
       "      <td>0.572478</td>\n",
       "      <td>0.632631</td>\n",
       "      <td>0.762137</td>\n",
       "      <td>0.769437</td>\n",
       "    </tr>\n",
       "    <tr>\n",
       "      <th>lag target, rate, usd, inflation Random Forest</th>\n",
       "      <td>0.666667</td>\n",
       "      <td>0.675218</td>\n",
       "      <td>0.665537</td>\n",
       "      <td>0.701525</td>\n",
       "      <td>0.759418</td>\n",
       "      <td>0.764853</td>\n",
       "    </tr>\n",
       "    <tr>\n",
       "      <th>lag target, rate, usd, inflation, growth Random Forest</th>\n",
       "      <td>0.681159</td>\n",
       "      <td>0.691288</td>\n",
       "      <td>0.680029</td>\n",
       "      <td>0.712753</td>\n",
       "      <td>0.777380</td>\n",
       "      <td>0.782898</td>\n",
       "    </tr>\n",
       "    <tr>\n",
       "      <th>TimeSeries way Random Forest</th>\n",
       "      <td>0.608696</td>\n",
       "      <td>0.610689</td>\n",
       "      <td>0.599316</td>\n",
       "      <td>0.659829</td>\n",
       "      <td>0.782150</td>\n",
       "      <td>0.788711</td>\n",
       "    </tr>\n",
       "  </tbody>\n",
       "</table>\n",
       "</div>"
      ],
      "text/plain": [
       "                                                    accuracy        f1  \\\n",
       "lag target Random Forest                            0.521739  0.530117   \n",
       "lag target, rate Random Forest                      0.608696  0.621153   \n",
       "lag target, rate, usd Random Forest                 0.579710  0.585082   \n",
       "lag target, rate, usd, inflation Random Forest      0.666667  0.675218   \n",
       "lag target, rate, usd, inflation, growth Random...  0.681159  0.691288   \n",
       "TimeSeries way Random Forest                        0.608696  0.610689   \n",
       "\n",
       "                                                      recall  precision  \\\n",
       "lag target Random Forest                            0.531344   0.547763   \n",
       "lag target, rate Random Forest                      0.608809   0.644733   \n",
       "lag target, rate, usd Random Forest                 0.572478   0.632631   \n",
       "lag target, rate, usd, inflation Random Forest      0.665537   0.701525   \n",
       "lag target, rate, usd, inflation, growth Random...  0.680029   0.712753   \n",
       "TimeSeries way Random Forest                        0.599316   0.659829   \n",
       "\n",
       "                                                    roc_auc_ovr  roc_auc_ovo  \n",
       "lag target Random Forest                               0.736070     0.743615  \n",
       "lag target, rate Random Forest                         0.737170     0.744943  \n",
       "lag target, rate, usd Random Forest                    0.762137     0.769437  \n",
       "lag target, rate, usd, inflation Random Forest         0.759418     0.764853  \n",
       "lag target, rate, usd, inflation, growth Random...     0.777380     0.782898  \n",
       "TimeSeries way Random Forest                           0.782150     0.788711  "
      ]
     },
     "execution_count": 23,
     "metadata": {},
     "output_type": "execute_result"
    }
   ],
   "source": [
    "metrics = pd.concat([metrics, metric])\n",
    "metrics"
   ]
  },
  {
   "cell_type": "markdown",
   "metadata": {},
   "source": [
    "Отлично, мы еще немного улучшили наши метрики. Тем попробуем классификацию по ближайшим соседям."
   ]
  },
  {
   "cell_type": "markdown",
   "metadata": {},
   "source": [
    "### KNN tuning hyperparameters"
   ]
  },
  {
   "cell_type": "code",
   "execution_count": 24,
   "metadata": {},
   "outputs": [
    {
     "name": "stderr",
     "output_type": "stream",
     "text": [
      "Best trial: 9. Best value: 0.813113: 100%|██████████| 300/300 [00:12<00:00, 23.43it/s]\n"
     ]
    }
   ],
   "source": [
    "def objective(trial):\n",
    "    # параметры для перебора\n",
    "    params = {\n",
    "        \"n_lags\": trial.suggest_int(\"n_lags\", 2, 5),\n",
    "        \"n_neighbors\": trial.suggest_int(\"n_neighbors\", 1, 25),\n",
    "        \"weights\": trial.suggest_categorical(\"weights\", [\"uniform\", \"distance\"]),\n",
    "        \"p\": trial.suggest_int(\"p\", 1, 2),\n",
    "    }\n",
    "\n",
    "    features = [\"inflation\", \"rate\", \"usd\"]\n",
    "\n",
    "    # Создаем копию признаков\n",
    "    data = X[features].copy()\n",
    "\n",
    "    # добавляем лаги целевой переменной\n",
    "    for i in range(1, params[\"n_lags\"] + 1):\n",
    "        data[f\"lag{i}_target\"] = y.shift(i)\n",
    "\n",
    "    # для всех экзогенных признаков\n",
    "    for feature in [\"inflation\", \"rate\", \"usd\"]:\n",
    "        # добавляем рост\n",
    "        data[f\"growth_{feature}\"] = data[feature] / data[feature].shift(1)\n",
    "        features.append(f\"growth_{feature}\")\n",
    "\n",
    "    # для всех признаков добавляем лаги\n",
    "    for feature in features:\n",
    "        for i in range(1, params[\"n_lags\"]):\n",
    "            data[f\"lag{i}_{feature}\"] = data[feature].shift(i)\n",
    "\n",
    "    model = KNeighborsClassifier(\n",
    "                params['n_neighbors'], weights=params['weights'], p=params['p'], algorithm='brute',\n",
    "            )\n",
    "    \n",
    "    # заполняем пропуски следующими значениями\n",
    "    data.bfill(inplace=True)\n",
    "\n",
    "    # считаем метрики на кросс валидации\n",
    "    metric, _ = calc_metrics(data.values, y, model, name=\" \", plot=False, calc_jobs=-1)\n",
    "\n",
    "    return metric\n",
    "\n",
    "\n",
    "# устанавливаем уровень логирования optuna\n",
    "optuna.logging.set_verbosity(optuna.logging.WARNING)\n",
    "\n",
    "# запускаем подбор гиперпараметров\n",
    "study = optuna.create_study(direction=\"maximize\")\n",
    "study.optimize(objective, n_trials=300, show_progress_bar=True, catch=(ValueError,))"
   ]
  },
  {
   "cell_type": "code",
   "execution_count": 25,
   "metadata": {},
   "outputs": [
    {
     "data": {
      "text/plain": [
       "{'n_lags': 4, 'n_neighbors': 2, 'weights': 'distance', 'p': 1}"
      ]
     },
     "execution_count": 25,
     "metadata": {},
     "output_type": "execute_result"
    }
   ],
   "source": [
    "study.best_params"
   ]
  },
  {
   "cell_type": "code",
   "execution_count": 26,
   "metadata": {},
   "outputs": [
    {
     "name": "stdout",
     "output_type": "stream",
     "text": [
      "              precision    recall  f1-score   support\n",
      "\n",
      "        -1.0       0.81      0.74      0.77        23\n",
      "         0.0       0.62      0.67      0.64        27\n",
      "         1.0       0.74      0.74      0.74        19\n",
      "\n",
      "    accuracy                           0.71        69\n",
      "   macro avg       0.72      0.71      0.72        69\n",
      "weighted avg       0.72      0.71      0.71        69\n",
      "\n"
     ]
    },
    {
     "data": {
      "image/png": "[encoded data removed]",
      "text/plain": [
       "<Figure size 640x480 with 2 Axes>"
      ]
     },
     "metadata": {},
     "output_type": "display_data"
    }
   ],
   "source": [
    "features = [\"inflation\", \"rate\", \"usd\"]\n",
    "\n",
    "# Создаем копию признаков\n",
    "data = X[features].copy()\n",
    "\n",
    "# добавляем лаги целевой переменной\n",
    "for i in range(1, study.best_params[\"n_lags\"] + 1):\n",
    "    data[f\"lag{i}_target\"] = y.shift(i)\n",
    "\n",
    "# для всех экзогенных признаков\n",
    "for feature in [\"inflation\", \"rate\", \"usd\"]:\n",
    "    # добавляем рост\n",
    "    data[f\"growth_{feature}\"] = data[feature] / data[feature].shift(1)\n",
    "    features.append(f\"growth_{feature}\")\n",
    "\n",
    "# для всех признаков добавляем лаги\n",
    "for feature in features:\n",
    "    for i in range(1, study.best_params[\"n_lags\"]):\n",
    "        data[f\"lag{i}_{feature}\"] = data[feature].shift(i)\n",
    "\n",
    "model = KNeighborsClassifier(\n",
    "    study.best_params[\"n_neighbors\"],\n",
    "    weights=study.best_params[\"weights\"],\n",
    "    p=study.best_params[\"p\"],\n",
    "    algorithm=\"brute\",\n",
    ")\n",
    "\n",
    "# заполняем пропуски следующими значениями\n",
    "data.bfill(inplace=True)\n",
    "\n",
    "# считаем метрики на кросс валидации\n",
    "metric, _ = calc_metrics(data.values, y, model, name=\"TimeSeries way KNN\", plot=True, calc_jobs=-1)"
   ]
  },
  {
   "cell_type": "code",
   "execution_count": 27,
   "metadata": {},
   "outputs": [
    {
     "data": {
      "text/html": [
       "<div>\n",
       "<style scoped>\n",
       "    .dataframe tbody tr th:only-of-type {\n",
       "        vertical-align: middle;\n",
       "    }\n",
       "\n",
       "    .dataframe tbody tr th {\n",
       "        vertical-align: top;\n",
       "    }\n",
       "\n",
       "    .dataframe thead th {\n",
       "        text-align: right;\n",
       "    }\n",
       "</style>\n",
       "<table border=\"1\" class=\"dataframe\">\n",
       "  <thead>\n",
       "    <tr style=\"text-align: right;\">\n",
       "      <th></th>\n",
       "      <th>accuracy</th>\n",
       "      <th>f1</th>\n",
       "      <th>recall</th>\n",
       "      <th>precision</th>\n",
       "      <th>roc_auc_ovr</th>\n",
       "      <th>roc_auc_ovo</th>\n",
       "    </tr>\n",
       "  </thead>\n",
       "  <tbody>\n",
       "    <tr>\n",
       "      <th>lag target Random Forest</th>\n",
       "      <td>0.521739</td>\n",
       "      <td>0.530117</td>\n",
       "      <td>0.531344</td>\n",
       "      <td>0.547763</td>\n",
       "      <td>0.736070</td>\n",
       "      <td>0.743615</td>\n",
       "    </tr>\n",
       "    <tr>\n",
       "      <th>lag target, rate Random Forest</th>\n",
       "      <td>0.608696</td>\n",
       "      <td>0.621153</td>\n",
       "      <td>0.608809</td>\n",
       "      <td>0.644733</td>\n",
       "      <td>0.737170</td>\n",
       "      <td>0.744943</td>\n",
       "    </tr>\n",
       "    <tr>\n",
       "      <th>lag target, rate, usd Random Forest</th>\n",
       "      <td>0.579710</td>\n",
       "      <td>0.585082</td>\n",
       "      <td>0.572478</td>\n",
       "      <td>0.632631</td>\n",
       "      <td>0.762137</td>\n",
       "      <td>0.769437</td>\n",
       "    </tr>\n",
       "    <tr>\n",
       "      <th>lag target, rate, usd, inflation Random Forest</th>\n",
       "      <td>0.666667</td>\n",
       "      <td>0.675218</td>\n",
       "      <td>0.665537</td>\n",
       "      <td>0.701525</td>\n",
       "      <td>0.759418</td>\n",
       "      <td>0.764853</td>\n",
       "    </tr>\n",
       "    <tr>\n",
       "      <th>lag target, rate, usd, inflation, growth Random Forest</th>\n",
       "      <td>0.681159</td>\n",
       "      <td>0.691288</td>\n",
       "      <td>0.680029</td>\n",
       "      <td>0.712753</td>\n",
       "      <td>0.777380</td>\n",
       "      <td>0.782898</td>\n",
       "    </tr>\n",
       "    <tr>\n",
       "      <th>TimeSeries way Random Forest</th>\n",
       "      <td>0.608696</td>\n",
       "      <td>0.610689</td>\n",
       "      <td>0.599316</td>\n",
       "      <td>0.659829</td>\n",
       "      <td>0.782150</td>\n",
       "      <td>0.788711</td>\n",
       "    </tr>\n",
       "    <tr>\n",
       "      <th>TimeSeries way KNN</th>\n",
       "      <td>0.710145</td>\n",
       "      <td>0.717476</td>\n",
       "      <td>0.714213</td>\n",
       "      <td>0.722352</td>\n",
       "      <td>0.809175</td>\n",
       "      <td>0.813113</td>\n",
       "    </tr>\n",
       "  </tbody>\n",
       "</table>\n",
       "</div>"
      ],
      "text/plain": [
       "                                                    accuracy        f1  \\\n",
       "lag target Random Forest                            0.521739  0.530117   \n",
       "lag target, rate Random Forest                      0.608696  0.621153   \n",
       "lag target, rate, usd Random Forest                 0.579710  0.585082   \n",
       "lag target, rate, usd, inflation Random Forest      0.666667  0.675218   \n",
       "lag target, rate, usd, inflation, growth Random...  0.681159  0.691288   \n",
       "TimeSeries way Random Forest                        0.608696  0.610689   \n",
       "TimeSeries way KNN                                  0.710145  0.717476   \n",
       "\n",
       "                                                      recall  precision  \\\n",
       "lag target Random Forest                            0.531344   0.547763   \n",
       "lag target, rate Random Forest                      0.608809   0.644733   \n",
       "lag target, rate, usd Random Forest                 0.572478   0.632631   \n",
       "lag target, rate, usd, inflation Random Forest      0.665537   0.701525   \n",
       "lag target, rate, usd, inflation, growth Random...  0.680029   0.712753   \n",
       "TimeSeries way Random Forest                        0.599316   0.659829   \n",
       "TimeSeries way KNN                                  0.714213   0.722352   \n",
       "\n",
       "                                                    roc_auc_ovr  roc_auc_ovo  \n",
       "lag target Random Forest                               0.736070     0.743615  \n",
       "lag target, rate Random Forest                         0.737170     0.744943  \n",
       "lag target, rate, usd Random Forest                    0.762137     0.769437  \n",
       "lag target, rate, usd, inflation Random Forest         0.759418     0.764853  \n",
       "lag target, rate, usd, inflation, growth Random...     0.777380     0.782898  \n",
       "TimeSeries way Random Forest                           0.782150     0.788711  \n",
       "TimeSeries way KNN                                     0.809175     0.813113  "
      ]
     },
     "execution_count": 27,
     "metadata": {},
     "output_type": "execute_result"
    }
   ],
   "source": [
    "metrics = pd.concat([metrics, metric])\n",
    "metrics"
   ]
  },
  {
   "cell_type": "markdown",
   "metadata": {},
   "source": [
    "Классификация с помощью k ближайших соседей показала себя получше случайного леса, возможно из-за того что у нас очень мало данных, попробуем бустинг."
   ]
  },
  {
   "cell_type": "markdown",
   "metadata": {},
   "source": [
    "### CatBoost tuning hyperparameters"
   ]
  },
  {
   "cell_type": "code",
   "execution_count": 28,
   "metadata": {},
   "outputs": [
    {
     "name": "stderr",
     "output_type": "stream",
     "text": [
      "Best trial: 16. Best value: 0.789092: 100%|██████████| 100/100 [9:56:08<00:00, 357.69s/it]   \n"
     ]
    }
   ],
   "source": [
    "def objective(trial):\n",
    "    # параметры для перебора\n",
    "    params = {\n",
    "        \"n_lags\": trial.suggest_int(\"n_lags\", 2, 5),\n",
    "        \"depth\": trial.suggest_int(\"depth\", 3, 15),\n",
    "        \"l2_leaf_reg\": trial.suggest_float(\"l2_leaf_reg\", 1e-3, 1e-1),\n",
    "    }\n",
    "\n",
    "    features = [\"inflation\", \"rate\", \"usd\"]\n",
    "\n",
    "    # Создаем копию признаков\n",
    "    data = X[features].copy()\n",
    "\n",
    "    # добавляем лаги целевой переменной\n",
    "    for i in range(1, params[\"n_lags\"] + 1):\n",
    "        data[f\"lag{i}_target\"] = y.shift(i)\n",
    "\n",
    "    # для всех экзогенных признаков\n",
    "    for feature in [\"inflation\", \"rate\", \"usd\"]:\n",
    "        # добавляем рост\n",
    "        data[f\"growth_{feature}\"] = data[feature] / data[feature].shift(1)\n",
    "        features.append(f\"growth_{feature}\")\n",
    "\n",
    "    # для всех признаков добавляем лаги\n",
    "    for feature in features:\n",
    "        for i in range(1, params[\"n_lags\"]):\n",
    "            data[f\"lag{i}_{feature}\"] = data[feature].shift(i)\n",
    "\n",
    "    model = CatBoostClassifier(\n",
    "        iterations=100,\n",
    "        depth=params[\"depth\"],\n",
    "        l2_leaf_reg=params[\"l2_leaf_reg\"],\n",
    "        random_state=42,\n",
    "        verbose=False,\n",
    "        early_stopping_rounds=20,\n",
    "    )\n",
    "\n",
    "    # считаем метрики на кросс валидации\n",
    "    metric, _ = calc_metrics(data.values, y, model, name=\" \", plot=False)\n",
    "\n",
    "    return metric\n",
    "\n",
    "\n",
    "# устанавливаем уровень логирования optuna\n",
    "optuna.logging.set_verbosity(optuna.logging.WARNING)\n",
    "\n",
    "# запускаем подбор гиперпараметров\n",
    "study = optuna.create_study(direction=\"maximize\")\n",
    "study.optimize(objective, n_trials=100, show_progress_bar=True, catch=(ValueError,))"
   ]
  },
  {
   "cell_type": "code",
   "execution_count": 29,
   "metadata": {},
   "outputs": [
    {
     "data": {
      "text/plain": [
       "{'n_lags': 4, 'depth': 7, 'l2_leaf_reg': 0.0846025273823604}"
      ]
     },
     "execution_count": 29,
     "metadata": {},
     "output_type": "execute_result"
    }
   ],
   "source": [
    "study.best_params"
   ]
  },
  {
   "cell_type": "markdown",
   "metadata": {},
   "source": [
    "Посотрим на лучшую модель подробнее."
   ]
  },
  {
   "cell_type": "code",
   "execution_count": 30,
   "metadata": {},
   "outputs": [
    {
     "name": "stdout",
     "output_type": "stream",
     "text": [
      "              precision    recall  f1-score   support\n",
      "\n",
      "        -1.0       0.70      0.61      0.65        23\n",
      "         0.0       0.52      0.63      0.57        27\n",
      "         1.0       0.75      0.63      0.69        19\n",
      "\n",
      "    accuracy                           0.62        69\n",
      "   macro avg       0.66      0.62      0.63        69\n",
      "weighted avg       0.64      0.62      0.63        69\n",
      "\n"
     ]
    },
    {
     "data": {
      "image/png": "[encoded data removed]",
      "text/plain": [
       "<Figure size 640x480 with 2 Axes>"
      ]
     },
     "metadata": {},
     "output_type": "display_data"
    }
   ],
   "source": [
    "features = [\"inflation\", \"rate\", \"usd\"]\n",
    "\n",
    "# Создаем копию признаков\n",
    "data = X[features].copy()\n",
    "\n",
    "# добавляем лаги целевой переменной\n",
    "for i in range(1, study.best_params[\"n_lags\"] + 1):\n",
    "    data[f\"lag{i}_target\"] = y.shift(i)\n",
    "\n",
    "# для всех экзогенных признаков\n",
    "for feature in [\"inflation\", \"rate\", \"usd\"]:\n",
    "    # добавляем рост\n",
    "    data[f\"growth_{feature}\"] = data[feature] / data[feature].shift(1)\n",
    "    features.append(f\"growth_{feature}\")\n",
    "\n",
    "# для всех признаков добавляем лаги\n",
    "for feature in features:\n",
    "    for i in range(1, study.best_params[\"n_lags\"]):\n",
    "        data[f\"lag{i}_{feature}\"] = data[feature].shift(i)\n",
    "\n",
    "model = CatBoostClassifier(\n",
    "    iterations=100,\n",
    "    depth=study.best_params[\"depth\"],\n",
    "    l2_leaf_reg=study.best_params[\"l2_leaf_reg\"],\n",
    "    random_state=42,\n",
    "    verbose=False,\n",
    "    early_stopping_rounds=20\n",
    ")\n",
    "\n",
    "# считаем метрики на кросс валидации\n",
    "metric, _ = calc_metrics(data.values, y, model, name=\"TimeSeries way CatBoost\", plot=True)"
   ]
  },
  {
   "cell_type": "code",
   "execution_count": 31,
   "metadata": {},
   "outputs": [
    {
     "data": {
      "text/html": [
       "<div>\n",
       "<style scoped>\n",
       "    .dataframe tbody tr th:only-of-type {\n",
       "        vertical-align: middle;\n",
       "    }\n",
       "\n",
       "    .dataframe tbody tr th {\n",
       "        vertical-align: top;\n",
       "    }\n",
       "\n",
       "    .dataframe thead th {\n",
       "        text-align: right;\n",
       "    }\n",
       "</style>\n",
       "<table border=\"1\" class=\"dataframe\">\n",
       "  <thead>\n",
       "    <tr style=\"text-align: right;\">\n",
       "      <th></th>\n",
       "      <th>accuracy</th>\n",
       "      <th>f1</th>\n",
       "      <th>recall</th>\n",
       "      <th>precision</th>\n",
       "      <th>roc_auc_ovr</th>\n",
       "      <th>roc_auc_ovo</th>\n",
       "    </tr>\n",
       "  </thead>\n",
       "  <tbody>\n",
       "    <tr>\n",
       "      <th>lag target Random Forest</th>\n",
       "      <td>0.521739</td>\n",
       "      <td>0.530117</td>\n",
       "      <td>0.531344</td>\n",
       "      <td>0.547763</td>\n",
       "      <td>0.736070</td>\n",
       "      <td>0.743615</td>\n",
       "    </tr>\n",
       "    <tr>\n",
       "      <th>lag target, rate Random Forest</th>\n",
       "      <td>0.608696</td>\n",
       "      <td>0.621153</td>\n",
       "      <td>0.608809</td>\n",
       "      <td>0.644733</td>\n",
       "      <td>0.737170</td>\n",
       "      <td>0.744943</td>\n",
       "    </tr>\n",
       "    <tr>\n",
       "      <th>lag target, rate, usd Random Forest</th>\n",
       "      <td>0.579710</td>\n",
       "      <td>0.585082</td>\n",
       "      <td>0.572478</td>\n",
       "      <td>0.632631</td>\n",
       "      <td>0.762137</td>\n",
       "      <td>0.769437</td>\n",
       "    </tr>\n",
       "    <tr>\n",
       "      <th>lag target, rate, usd, inflation Random Forest</th>\n",
       "      <td>0.666667</td>\n",
       "      <td>0.675218</td>\n",
       "      <td>0.665537</td>\n",
       "      <td>0.701525</td>\n",
       "      <td>0.759418</td>\n",
       "      <td>0.764853</td>\n",
       "    </tr>\n",
       "    <tr>\n",
       "      <th>lag target, rate, usd, inflation, growth Random Forest</th>\n",
       "      <td>0.681159</td>\n",
       "      <td>0.691288</td>\n",
       "      <td>0.680029</td>\n",
       "      <td>0.712753</td>\n",
       "      <td>0.777380</td>\n",
       "      <td>0.782898</td>\n",
       "    </tr>\n",
       "    <tr>\n",
       "      <th>TimeSeries way Random Forest</th>\n",
       "      <td>0.608696</td>\n",
       "      <td>0.610689</td>\n",
       "      <td>0.599316</td>\n",
       "      <td>0.659829</td>\n",
       "      <td>0.782150</td>\n",
       "      <td>0.788711</td>\n",
       "    </tr>\n",
       "    <tr>\n",
       "      <th>TimeSeries way KNN</th>\n",
       "      <td>0.710145</td>\n",
       "      <td>0.717476</td>\n",
       "      <td>0.714213</td>\n",
       "      <td>0.722352</td>\n",
       "      <td>0.809175</td>\n",
       "      <td>0.813113</td>\n",
       "    </tr>\n",
       "    <tr>\n",
       "      <th>TimeSeries way CatBoost</th>\n",
       "      <td>0.623188</td>\n",
       "      <td>0.634515</td>\n",
       "      <td>0.623301</td>\n",
       "      <td>0.655051</td>\n",
       "      <td>0.781872</td>\n",
       "      <td>0.789092</td>\n",
       "    </tr>\n",
       "  </tbody>\n",
       "</table>\n",
       "</div>"
      ],
      "text/plain": [
       "                                                    accuracy        f1  \\\n",
       "lag target Random Forest                            0.521739  0.530117   \n",
       "lag target, rate Random Forest                      0.608696  0.621153   \n",
       "lag target, rate, usd Random Forest                 0.579710  0.585082   \n",
       "lag target, rate, usd, inflation Random Forest      0.666667  0.675218   \n",
       "lag target, rate, usd, inflation, growth Random...  0.681159  0.691288   \n",
       "TimeSeries way Random Forest                        0.608696  0.610689   \n",
       "TimeSeries way KNN                                  0.710145  0.717476   \n",
       "TimeSeries way CatBoost                             0.623188  0.634515   \n",
       "\n",
       "                                                      recall  precision  \\\n",
       "lag target Random Forest                            0.531344   0.547763   \n",
       "lag target, rate Random Forest                      0.608809   0.644733   \n",
       "lag target, rate, usd Random Forest                 0.572478   0.632631   \n",
       "lag target, rate, usd, inflation Random Forest      0.665537   0.701525   \n",
       "lag target, rate, usd, inflation, growth Random...  0.680029   0.712753   \n",
       "TimeSeries way Random Forest                        0.599316   0.659829   \n",
       "TimeSeries way KNN                                  0.714213   0.722352   \n",
       "TimeSeries way CatBoost                             0.623301   0.655051   \n",
       "\n",
       "                                                    roc_auc_ovr  roc_auc_ovo  \n",
       "lag target Random Forest                               0.736070     0.743615  \n",
       "lag target, rate Random Forest                         0.737170     0.744943  \n",
       "lag target, rate, usd Random Forest                    0.762137     0.769437  \n",
       "lag target, rate, usd, inflation Random Forest         0.759418     0.764853  \n",
       "lag target, rate, usd, inflation, growth Random...     0.777380     0.782898  \n",
       "TimeSeries way Random Forest                           0.782150     0.788711  \n",
       "TimeSeries way KNN                                     0.809175     0.813113  \n",
       "TimeSeries way CatBoost                                0.781872     0.789092  "
      ]
     },
     "execution_count": 31,
     "metadata": {},
     "output_type": "execute_result"
    }
   ],
   "source": [
    "metrics = pd.concat([metrics, metric])\n",
    "metrics"
   ]
  },
  {
   "cell_type": "markdown",
   "metadata": {},
   "source": [
    "Лучше других себя показал метод k ближайших соседей, использовавший лаговые признаки всех переменных в диапазоне от 1 до 3. Проанализировав матрицу ошибок можем сделать вывод, что модель одинаково хорошо детектирует все виды классов, и не разу не перепутала повышение ставки с понижением. В данных нет таких кейсов где за повышением сразу следует понижение ставки и наоборот, в результате чего хоть модель и не показывает очень высокого качества, но и не допускает грубых ошибок(вместо повышения предсказывает понижение и наоборот)"
   ]
  },
  {
   "cell_type": "markdown",
   "metadata": {},
   "source": []
  }
 ],
 "metadata": {
  "kernelspec": {
   "display_name": "ml_yp",
   "language": "python",
   "name": "python3"
  },
  "language_info": {
   "codemirror_mode": {
    "name": "ipython",
    "version": 3
   },
   "file_extension": ".py",
   "mimetype": "text/x-python",
   "name": "python",
   "nbconvert_exporter": "python",
   "pygments_lexer": "ipython3",
   "version": "3.12.3"
  }
 },
 "nbformat": 4,
 "nbformat_minor": 2
}
