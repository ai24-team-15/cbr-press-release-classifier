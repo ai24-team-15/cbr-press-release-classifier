{
 "cells": [
  {
   "cell_type": "markdown",
   "metadata": {},
   "source": [
    "## LightGBM"
   ]
  },
  {
   "cell_type": "code",
   "execution_count": 51,
   "metadata": {},
   "outputs": [],
   "source": [
    "import re\n",
    "import sys\n",
    "import os\n",
    "\n",
    "import numpy as np\n",
    "from tqdm import tqdm\n",
    "import pandas as pd\n",
    "from pymystem3 import Mystem\n",
    "from nltk.corpus import stopwords\n",
    "from sklearn.feature_extraction.text import TfidfVectorizer\n",
    "import optuna\n",
    "from sklearn.model_selection import train_test_split\n",
    "from sklearn.metrics import accuracy_score\n",
    "from sklearn.model_selection import train_test_split\n",
    "from lightgbm import LGBMClassifier\n",
    "\n",
    "# Добавляем в path вышестоящую директорию для импорта  calc_metrics\n",
    "sys.path.append(os.path.abspath(os.path.join(\"..\")))\n",
    "\n",
    "from utils import calc_metrics"
   ]
  },
  {
   "cell_type": "markdown",
   "metadata": {},
   "source": [
    "Загрузим данные которые были предобработаны в ноутбуке `min_baseline.ipynb`."
   ]
  },
  {
   "cell_type": "code",
   "execution_count": 5,
   "metadata": {},
   "outputs": [],
   "source": [
    "X = pd.read_csv(\"../data/x.csv\", index_col=\"date\")\n",
    "y = pd.read_csv(\"../data/y.csv\", index_col=\"date\").iloc[:, 0]"
   ]
  },
  {
   "cell_type": "markdown",
   "metadata": {},
   "source": [
    "Предобработаем тексты пресс-релизов."
   ]
  },
  {
   "cell_type": "code",
   "execution_count": 6,
   "metadata": {},
   "outputs": [],
   "source": [
    "mystem = Mystem()\n",
    "STOP_WORDS = set(stopwords.words(\"russian\"))\n",
    "def preprocessor(text):\n",
    "    text = text.lower()\n",
    "    regex = re.compile(\"[^а-я А-ЯЁё]\")\n",
    "    text = regex.sub(\" \", text)\n",
    "    text = \" \".join(mystem.lemmatize(text))\n",
    "    text = \" \".join([word for word in text.split() if word not in STOP_WORDS])\n",
    "    return text\n",
    "vectorizer = TfidfVectorizer(\n",
    "    preprocessor=preprocessor,\n",
    ")\n",
    "tf_idf = vectorizer.fit_transform(X.release)"
   ]
  },
  {
   "cell_type": "markdown",
   "metadata": {},
   "source": [
    "Подберем параметры с помощью optuna, но смотреть будем только на точность, так как вычисление calc_metrics занимает очень много времени"
   ]
  },
  {
   "cell_type": "code",
   "execution_count": null,
   "metadata": {},
   "outputs": [
    {
     "data": {
      "application/vnd.jupyter.widget-view+json": {
       "model_id": "7d5f823a4ebb471f871bcb2830af1a93",
       "version_major": 2,
       "version_minor": 0
      },
      "text/plain": [
       "  0%|          | 0/100 [00:00<?, ?it/s]"
      ]
     },
     "metadata": {},
     "output_type": "display_data"
    }
   ],
   "source": [
    "X_train, X_val, y_train, y_val = train_test_split(tf_idf, y, random_state=42, test_size=0.2)\n",
    "\n",
    "\n",
    "def objective(trial):\n",
    "    params = {\n",
    "        \"max_depth\": trial.suggest_int(\"max_depth\", 2, 10),\n",
    "        'num_leaves': trial.suggest_int(\"num_leaves\", 10, 100),\n",
    "        \"min_data_in_leaf\": trial.suggest_int(\"min_data_in_leaf\", 1, 20),\n",
    "        \"n_estimators\": trial.suggest_int(\"n_estimators\", 10, 1000),\n",
    "        \"learning_rate\": trial.suggest_float(\"learning_rate\", 0.01, 0.5),\n",
    "    }\n",
    "    model = LGBMClassifier(\n",
    "        num_leaves=params[\"num_leaves\"],\n",
    "        n_estimators=params[\"n_estimators\"],\n",
    "        max_depth=params['max_depth'],\n",
    "        learning_rate=params['learning_rate'],\n",
    "        min_data_in_leaf=params['min_data_in_leaf'],\n",
    "        objective='multiclass',\n",
    "        num_class=3,\n",
    "        metric='multi_logloss',\n",
    "        verbosity=-1\n",
    "    )\n",
    "    model.fit(X_train, y_train)\n",
    "    y_pred = model.predict(X_val)\n",
    "    accuracy = accuracy_score(y_val, y_pred)\n",
    "    return accuracy\n",
    "\n",
    "\n",
    "optuna.logging.set_verbosity(optuna.logging.WARNING)\n",
    "study = optuna.create_study(direction=\"maximize\")\n",
    "study.optimize(objective, n_trials=100, show_progress_bar=True)"
   ]
  },
  {
   "cell_type": "code",
   "execution_count": 41,
   "metadata": {},
   "outputs": [
    {
     "data": {
      "text/plain": [
       "{'max_depth': 14,\n",
       " 'min_data_in_leaf': 3,\n",
       " 'n_estimators': 414,\n",
       " 'learning_rate': 0.021200158544318115}"
      ]
     },
     "execution_count": 41,
     "metadata": {},
     "output_type": "execute_result"
    }
   ],
   "source": [
    "study.best_params"
   ]
  },
  {
   "cell_type": "code",
   "execution_count": 45,
   "metadata": {},
   "outputs": [
    {
     "name": "stdout",
     "output_type": "stream",
     "text": [
      "              precision    recall  f1-score   support\n",
      "\n",
      "        -1.0       0.65      0.65      0.65        23\n",
      "         0.0       0.50      0.58      0.54        26\n",
      "         1.0       0.67      0.53      0.59        19\n",
      "\n",
      "    accuracy                           0.59        68\n",
      "   macro avg       0.61      0.59      0.59        68\n",
      "weighted avg       0.60      0.59      0.59        68\n",
      "\n"
     ]
    },
    {
     "data": {
      "image/png": "[encoded data removed]",
      "text/plain": [
       "<Figure size 640x480 with 2 Axes>"
      ]
     },
     "metadata": {},
     "output_type": "display_data"
    }
   ],
   "source": [
    "model = LGBMClassifier(\n",
    "    n_estimators=study.best_params['n_estimators'],\n",
    "    max_depth=study.best_params['max_depth'],\n",
    "    learning_rate=study.best_params['learning_rate'],\n",
    "    min_data_in_leaf=study.best_params['min_data_in_leaf'],\n",
    "    objective='multiclass',\n",
    "    num_class=3,\n",
    "    metric='multi_logloss',\n",
    "    verbosity=-1\n",
    "    )\n",
    "metrics, model = calc_metrics(\n",
    "    tf_idf,\n",
    "    y,\n",
    "    model,\n",
    "    name=\"TF-IDF LigthGBM\"\n",
    ")"
   ]
  },
  {
   "cell_type": "code",
   "execution_count": 46,
   "metadata": {},
   "outputs": [
    {
     "data": {
      "text/html": [
       "<div>\n",
       "<style scoped>\n",
       "    .dataframe tbody tr th:only-of-type {\n",
       "        vertical-align: middle;\n",
       "    }\n",
       "\n",
       "    .dataframe tbody tr th {\n",
       "        vertical-align: top;\n",
       "    }\n",
       "\n",
       "    .dataframe thead th {\n",
       "        text-align: right;\n",
       "    }\n",
       "</style>\n",
       "<table border=\"1\" class=\"dataframe\">\n",
       "  <thead>\n",
       "    <tr style=\"text-align: right;\">\n",
       "      <th></th>\n",
       "      <th>accuracy</th>\n",
       "      <th>f1</th>\n",
       "      <th>recall</th>\n",
       "      <th>precision</th>\n",
       "      <th>roc_auc_ovr</th>\n",
       "      <th>roc_auc_ovo</th>\n",
       "    </tr>\n",
       "  </thead>\n",
       "  <tbody>\n",
       "    <tr>\n",
       "      <th>TF-IDF LigthGBM</th>\n",
       "      <td>0.588235</td>\n",
       "      <td>0.592041</td>\n",
       "      <td>0.585138</td>\n",
       "      <td>0.60628</td>\n",
       "      <td>0.733379</td>\n",
       "      <td>0.738573</td>\n",
       "    </tr>\n",
       "  </tbody>\n",
       "</table>\n",
       "</div>"
      ],
      "text/plain": [
       "                 accuracy        f1    recall  precision  roc_auc_ovr  \\\n",
       "TF-IDF LigthGBM  0.588235  0.592041  0.585138    0.60628     0.733379   \n",
       "\n",
       "                 roc_auc_ovo  \n",
       "TF-IDF LigthGBM     0.738573  "
      ]
     },
     "execution_count": 46,
     "metadata": {},
     "output_type": "execute_result"
    }
   ],
   "source": [
    "metrics"
   ]
  },
  {
   "cell_type": "markdown",
   "metadata": {},
   "source": [
    "Попробуем еще подобрать параметры для неглубоких деревьев, до 5, но увеличив их количество."
   ]
  },
  {
   "cell_type": "code",
   "execution_count": 61,
   "metadata": {},
   "outputs": [
    {
     "data": {
      "application/vnd.jupyter.widget-view+json": {
       "model_id": "630da8979c8d46dfa379eacd01949c5b",
       "version_major": 2,
       "version_minor": 0
      },
      "text/plain": [
       "  0%|          | 0/100 [00:00<?, ?it/s]"
      ]
     },
     "metadata": {},
     "output_type": "display_data"
    }
   ],
   "source": [
    "X_train, X_val, y_train, y_val = train_test_split(tf_idf, y, random_state=42, test_size=0.2)\n",
    "\n",
    "\n",
    "def objective(trial):\n",
    "    params = {\n",
    "        \"max_depth\": trial.suggest_int(\"max_depth\", 2, 5),\n",
    "        'num_leaves': trial.suggest_int(\"num_leaves\", 10, 100),\n",
    "        \"min_data_in_leaf\": trial.suggest_int(\"min_data_in_leaf\", 1, 20),\n",
    "        \"n_estimators\": trial.suggest_int(\"n_estimators\", 10, 10000),\n",
    "        \"learning_rate\": trial.suggest_float(\"learning_rate\", 0.01, 0.5),\n",
    "    }\n",
    "    model = LGBMClassifier(\n",
    "        num_leaves=params[\"num_leaves\"],\n",
    "        n_estimators=params[\"n_estimators\"],\n",
    "        max_depth=params['max_depth'],\n",
    "        learning_rate=params['learning_rate'],\n",
    "        min_data_in_leaf=params['min_data_in_leaf'],\n",
    "        objective='multiclass',\n",
    "        num_class=3,\n",
    "        metric='multi_logloss',\n",
    "        verbosity=-1\n",
    "    )\n",
    "    model.fit(X_train, y_train)\n",
    "    y_pred = model.predict(X_val)\n",
    "    accuracy = accuracy_score(y_val, y_pred)\n",
    "    return accuracy\n",
    "\n",
    "\n",
    "optuna.logging.set_verbosity(optuna.logging.WARNING)\n",
    "study = optuna.create_study(direction=\"maximize\")\n",
    "study.optimize(objective, n_trials=100, show_progress_bar=True)"
   ]
  },
  {
   "cell_type": "code",
   "execution_count": 62,
   "metadata": {},
   "outputs": [
    {
     "data": {
      "text/plain": [
       "{'max_depth': 5,\n",
       " 'num_leaves': 11,\n",
       " 'min_data_in_leaf': 17,\n",
       " 'n_estimators': 6143,\n",
       " 'learning_rate': 0.4971212141413742}"
      ]
     },
     "execution_count": 62,
     "metadata": {},
     "output_type": "execute_result"
    }
   ],
   "source": [
    "study.best_params"
   ]
  },
  {
   "cell_type": "code",
   "execution_count": 63,
   "metadata": {},
   "outputs": [
    {
     "name": "stdout",
     "output_type": "stream",
     "text": [
      "              precision    recall  f1-score   support\n",
      "\n",
      "        -1.0       0.71      0.52      0.60        23\n",
      "         0.0       0.47      0.65      0.55        26\n",
      "         1.0       0.73      0.58      0.65        19\n",
      "\n",
      "    accuracy                           0.59        68\n",
      "   macro avg       0.64      0.58      0.60        68\n",
      "weighted avg       0.62      0.59      0.59        68\n",
      "\n"
     ]
    },
    {
     "data": {
      "image/png": "[encoded data removed]",
      "text/plain": [
       "<Figure size 640x480 with 2 Axes>"
      ]
     },
     "metadata": {},
     "output_type": "display_data"
    }
   ],
   "source": [
    "model = LGBMClassifier(\n",
    "    n_estimators=study.best_params['n_estimators'],\n",
    "    max_depth=study.best_params['max_depth'],\n",
    "    learning_rate=study.best_params['learning_rate'],\n",
    "    min_data_in_leaf=study.best_params['min_data_in_leaf'],\n",
    "    objective='multiclass',\n",
    "    num_class=3,\n",
    "    metric='multi_logloss',\n",
    "    verbosity=-1\n",
    "    )\n",
    "metrics, model = calc_metrics(\n",
    "    tf_idf,\n",
    "    y,\n",
    "    model,\n",
    "    name=\"TF-IDF LigthGBM\"\n",
    ")"
   ]
  },
  {
   "cell_type": "code",
   "execution_count": 64,
   "metadata": {},
   "outputs": [
    {
     "data": {
      "text/html": [
       "<div>\n",
       "<style scoped>\n",
       "    .dataframe tbody tr th:only-of-type {\n",
       "        vertical-align: middle;\n",
       "    }\n",
       "\n",
       "    .dataframe tbody tr th {\n",
       "        vertical-align: top;\n",
       "    }\n",
       "\n",
       "    .dataframe thead th {\n",
       "        text-align: right;\n",
       "    }\n",
       "</style>\n",
       "<table border=\"1\" class=\"dataframe\">\n",
       "  <thead>\n",
       "    <tr style=\"text-align: right;\">\n",
       "      <th></th>\n",
       "      <th>accuracy</th>\n",
       "      <th>f1</th>\n",
       "      <th>recall</th>\n",
       "      <th>precision</th>\n",
       "      <th>roc_auc_ovr</th>\n",
       "      <th>roc_auc_ovo</th>\n",
       "    </tr>\n",
       "  </thead>\n",
       "  <tbody>\n",
       "    <tr>\n",
       "      <th>TF-IDF LigthGBM</th>\n",
       "      <td>0.588235</td>\n",
       "      <td>0.598482</td>\n",
       "      <td>0.584844</td>\n",
       "      <td>0.637146</td>\n",
       "      <td>0.789938</td>\n",
       "      <td>0.796427</td>\n",
       "    </tr>\n",
       "  </tbody>\n",
       "</table>\n",
       "</div>"
      ],
      "text/plain": [
       "                 accuracy        f1    recall  precision  roc_auc_ovr  \\\n",
       "TF-IDF LigthGBM  0.588235  0.598482  0.584844   0.637146     0.789938   \n",
       "\n",
       "                 roc_auc_ovo  \n",
       "TF-IDF LigthGBM     0.796427  "
      ]
     },
     "execution_count": 64,
     "metadata": {},
     "output_type": "execute_result"
    }
   ],
   "source": [
    "metrics"
   ]
  },
  {
   "cell_type": "markdown",
   "metadata": {},
   "source": [
    "В итоге, попробовав три разных бустинга (XGboost, CatBoost, LightGBM), не удалось приблизится к лучшей линейной модели."
   ]
  }
 ],
 "metadata": {
  "kernelspec": {
   "display_name": "Python 3",
   "language": "python",
   "name": "python3"
  },
  "language_info": {
   "codemirror_mode": {
    "name": "ipython",
    "version": 3
   },
   "file_extension": ".py",
   "mimetype": "text/x-python",
   "name": "python",
   "nbconvert_exporter": "python",
   "pygments_lexer": "ipython3",
   "version": "3.12.9"
  }
 },
 "nbformat": 4,
 "nbformat_minor": 2
}
