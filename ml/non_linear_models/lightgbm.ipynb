{
 "cells": [
  {
   "cell_type": "markdown",
   "metadata": {},
   "source": [
    "## LightGBM"
   ]
  },
  {
   "cell_type": "code",
   "execution_count": 1,
   "metadata": {},
   "outputs": [
    {
     "name": "stderr",
     "output_type": "stream",
     "text": [
      "c:\\Users\\user\\miniconda3\\envs\\ml_yp\\Lib\\site-packages\\tqdm\\auto.py:21: TqdmWarning: IProgress not found. Please update jupyter and ipywidgets. See https://ipywidgets.readthedocs.io/en/stable/user_install.html\n",
      "  from .autonotebook import tqdm as notebook_tqdm\n"
     ]
    }
   ],
   "source": [
    "import re\n",
    "import sys\n",
    "import os\n",
    "\n",
    "import numpy as np\n",
    "from tqdm import tqdm\n",
    "import pandas as pd\n",
    "from pymystem3 import Mystem\n",
    "from nltk.corpus import stopwords\n",
    "from sklearn.feature_extraction.text import TfidfVectorizer\n",
    "import optuna\n",
    "from sklearn.model_selection import train_test_split\n",
    "from sklearn.metrics import accuracy_score\n",
    "from sklearn.model_selection import train_test_split\n",
    "from lightgbm import LGBMClassifier\n",
    "\n",
    "# Добавляем в path вышестоящую директорию для импорта  calc_metrics\n",
    "sys.path.append(os.path.abspath(os.path.join(\"..\")))\n",
    "\n",
    "from utils import calc_metrics\n",
    "\n",
    "import warnings\n",
    "warnings.filterwarnings('ignore')"
   ]
  },
  {
   "cell_type": "markdown",
   "metadata": {},
   "source": [
    "Загрузим данные которые были предобработаны в ноутбуке `min_baseline.ipynb`."
   ]
  },
  {
   "cell_type": "code",
   "execution_count": 2,
   "metadata": {},
   "outputs": [],
   "source": [
    "X = pd.read_csv(\"../data/x.csv\", index_col=\"date\")\n",
    "y = pd.read_csv(\"../data/y.csv\", index_col=\"date\").iloc[:, 0]\n",
    "\n",
    "metrics = pd.read_csv('metrics.csv', index_col=0)"
   ]
  },
  {
   "cell_type": "markdown",
   "metadata": {},
   "source": [
    "Предобработаем тексты пресс-релизов."
   ]
  },
  {
   "cell_type": "code",
   "execution_count": 3,
   "metadata": {},
   "outputs": [],
   "source": [
    "mystem = Mystem()\n",
    "STOP_WORDS = set(stopwords.words(\"russian\"))\n",
    "def preprocessor(text):\n",
    "    text = text.lower()\n",
    "    regex = re.compile(\"[^а-я А-ЯЁё]\")\n",
    "    text = regex.sub(\" \", text)\n",
    "    text = \" \".join(mystem.lemmatize(text))\n",
    "    text = \" \".join([word for word in text.split() if word not in STOP_WORDS])\n",
    "    return text\n",
    "vectorizer = TfidfVectorizer(\n",
    "    preprocessor=preprocessor,\n",
    ")\n",
    "tf_idf = vectorizer.fit_transform(X.release)"
   ]
  },
  {
   "cell_type": "markdown",
   "metadata": {},
   "source": [
    "Подберем параметры с помощью optuna, но смотреть будем только на точность, так как вычисление calc_metrics занимает очень много времени"
   ]
  },
  {
   "cell_type": "code",
   "execution_count": 4,
   "metadata": {},
   "outputs": [
    {
     "name": "stderr",
     "output_type": "stream",
     "text": [
      "Best trial: 59. Best value: 0.7: 100%|██████████| 100/100 [00:11<00:00,  8.87it/s]\n"
     ]
    }
   ],
   "source": [
    "X_train, X_val, y_train, y_val = train_test_split(tf_idf, y, random_state=42, test_size=0.2)\n",
    "\n",
    "\n",
    "def objective(trial):\n",
    "    params = {\n",
    "        \"max_depth\": trial.suggest_int(\"max_depth\", 2, 10),\n",
    "        'num_leaves': trial.suggest_int(\"num_leaves\", 10, 100),\n",
    "        \"min_data_in_leaf\": trial.suggest_int(\"min_data_in_leaf\", 1, 20),\n",
    "        \"n_estimators\": trial.suggest_int(\"n_estimators\", 10, 1000),\n",
    "        \"learning_rate\": trial.suggest_float(\"learning_rate\", 0.01, 0.5),\n",
    "    }\n",
    "    model = LGBMClassifier(\n",
    "        num_leaves=params[\"num_leaves\"],\n",
    "        n_estimators=params[\"n_estimators\"],\n",
    "        max_depth=params['max_depth'],\n",
    "        learning_rate=params['learning_rate'],\n",
    "        min_data_in_leaf=params['min_data_in_leaf'],\n",
    "        objective='multiclass',\n",
    "        num_class=3,\n",
    "        metric='multi_logloss',\n",
    "        verbosity=-1\n",
    "    )\n",
    "    model.fit(X_train, y_train)\n",
    "    y_pred = model.predict(X_val)\n",
    "    accuracy = accuracy_score(y_val, y_pred)\n",
    "    return accuracy\n",
    "\n",
    "\n",
    "optuna.logging.set_verbosity(optuna.logging.WARNING)\n",
    "study = optuna.create_study(direction=\"maximize\")\n",
    "study.optimize(objective, n_trials=100, show_progress_bar=True)"
   ]
  },
  {
   "cell_type": "code",
   "execution_count": 5,
   "metadata": {},
   "outputs": [
    {
     "data": {
      "text/plain": [
       "{'max_depth': 8,\n",
       " 'num_leaves': 17,\n",
       " 'min_data_in_leaf': 1,\n",
       " 'n_estimators': 561,\n",
       " 'learning_rate': 0.09397049607554396}"
      ]
     },
     "execution_count": 5,
     "metadata": {},
     "output_type": "execute_result"
    }
   ],
   "source": [
    "study.best_params"
   ]
  },
  {
   "cell_type": "code",
   "execution_count": 6,
   "metadata": {},
   "outputs": [
    {
     "name": "stdout",
     "output_type": "stream",
     "text": [
      "              precision    recall  f1-score   support\n",
      "\n",
      "        -1.0       0.59      0.43      0.50        23\n",
      "         0.0       0.44      0.57      0.50        28\n",
      "         1.0       0.59      0.53      0.56        19\n",
      "\n",
      "    accuracy                           0.51        70\n",
      "   macro avg       0.54      0.51      0.52        70\n",
      "weighted avg       0.53      0.51      0.52        70\n",
      "\n"
     ]
    },
    {
     "data": {
      "image/png": "[encoded data removed]",
      "text/plain": [
       "<Figure size 640x480 with 2 Axes>"
      ]
     },
     "metadata": {},
     "output_type": "display_data"
    }
   ],
   "source": [
    "model = LGBMClassifier(\n",
    "    n_estimators=study.best_params['n_estimators'],\n",
    "    max_depth=study.best_params['max_depth'],\n",
    "    learning_rate=study.best_params['learning_rate'],\n",
    "    min_data_in_leaf=study.best_params['min_data_in_leaf'],\n",
    "    objective='multiclass',\n",
    "    num_class=3,\n",
    "    metric='multi_logloss',\n",
    "    verbosity=-1\n",
    "    )\n",
    "metric, model = calc_metrics(\n",
    "    tf_idf,\n",
    "    y,\n",
    "    model,\n",
    "    name=\"TF-IDF LigthGBM\"\n",
    ")"
   ]
  },
  {
   "cell_type": "code",
   "execution_count": 7,
   "metadata": {},
   "outputs": [
    {
     "data": {
      "text/html": [
       "<div>\n",
       "<style scoped>\n",
       "    .dataframe tbody tr th:only-of-type {\n",
       "        vertical-align: middle;\n",
       "    }\n",
       "\n",
       "    .dataframe tbody tr th {\n",
       "        vertical-align: top;\n",
       "    }\n",
       "\n",
       "    .dataframe thead th {\n",
       "        text-align: right;\n",
       "    }\n",
       "</style>\n",
       "<table border=\"1\" class=\"dataframe\">\n",
       "  <thead>\n",
       "    <tr style=\"text-align: right;\">\n",
       "      <th></th>\n",
       "      <th>accuracy</th>\n",
       "      <th>f1</th>\n",
       "      <th>recall</th>\n",
       "      <th>precision</th>\n",
       "      <th>roc_auc_ovr</th>\n",
       "      <th>roc_auc_ovo</th>\n",
       "    </tr>\n",
       "  </thead>\n",
       "  <tbody>\n",
       "    <tr>\n",
       "      <th>K-neighbors tf_idf</th>\n",
       "      <td>0.742857</td>\n",
       "      <td>0.745614</td>\n",
       "      <td>0.749755</td>\n",
       "      <td>0.743050</td>\n",
       "      <td>0.840990</td>\n",
       "      <td>0.844114</td>\n",
       "    </tr>\n",
       "    <tr>\n",
       "      <th>K-neighbors tf_idf pca</th>\n",
       "      <td>0.728571</td>\n",
       "      <td>0.734787</td>\n",
       "      <td>0.727035</td>\n",
       "      <td>0.751111</td>\n",
       "      <td>0.816386</td>\n",
       "      <td>0.821299</td>\n",
       "    </tr>\n",
       "    <tr>\n",
       "      <th>K-neighbors word2vec</th>\n",
       "      <td>0.657143</td>\n",
       "      <td>0.637422</td>\n",
       "      <td>0.641441</td>\n",
       "      <td>0.745632</td>\n",
       "      <td>0.787306</td>\n",
       "      <td>0.789760</td>\n",
       "    </tr>\n",
       "    <tr>\n",
       "      <th>K-neighbors weighted word2vec</th>\n",
       "      <td>0.657143</td>\n",
       "      <td>0.637422</td>\n",
       "      <td>0.641441</td>\n",
       "      <td>0.745632</td>\n",
       "      <td>0.795419</td>\n",
       "      <td>0.797633</td>\n",
       "    </tr>\n",
       "    <tr>\n",
       "      <th>TF-IDF SelectFromModel Random Forest</th>\n",
       "      <td>0.642857</td>\n",
       "      <td>0.642165</td>\n",
       "      <td>0.627874</td>\n",
       "      <td>0.695332</td>\n",
       "      <td>0.798339</td>\n",
       "      <td>0.805117</td>\n",
       "    </tr>\n",
       "    <tr>\n",
       "      <th>TF-IDF PCA Random Forest</th>\n",
       "      <td>0.642857</td>\n",
       "      <td>0.640412</td>\n",
       "      <td>0.630462</td>\n",
       "      <td>0.685668</td>\n",
       "      <td>0.818108</td>\n",
       "      <td>0.823213</td>\n",
       "    </tr>\n",
       "    <tr>\n",
       "      <th>Word2Vec Random Forest</th>\n",
       "      <td>0.571429</td>\n",
       "      <td>0.571970</td>\n",
       "      <td>0.560586</td>\n",
       "      <td>0.603785</td>\n",
       "      <td>0.730344</td>\n",
       "      <td>0.735650</td>\n",
       "    </tr>\n",
       "    <tr>\n",
       "      <th>TF-IDF LigthGBM</th>\n",
       "      <td>0.514286</td>\n",
       "      <td>0.518519</td>\n",
       "      <td>0.510842</td>\n",
       "      <td>0.540305</td>\n",
       "      <td>0.711242</td>\n",
       "      <td>0.719380</td>\n",
       "    </tr>\n",
       "  </tbody>\n",
       "</table>\n",
       "</div>"
      ],
      "text/plain": [
       "                                      accuracy        f1    recall  precision  \\\n",
       "K-neighbors tf_idf                    0.742857  0.745614  0.749755   0.743050   \n",
       "K-neighbors tf_idf pca                0.728571  0.734787  0.727035   0.751111   \n",
       "K-neighbors word2vec                  0.657143  0.637422  0.641441   0.745632   \n",
       "K-neighbors weighted word2vec         0.657143  0.637422  0.641441   0.745632   \n",
       "TF-IDF SelectFromModel Random Forest  0.642857  0.642165  0.627874   0.695332   \n",
       "TF-IDF PCA Random Forest              0.642857  0.640412  0.630462   0.685668   \n",
       "Word2Vec Random Forest                0.571429  0.571970  0.560586   0.603785   \n",
       "TF-IDF LigthGBM                       0.514286  0.518519  0.510842   0.540305   \n",
       "\n",
       "                                      roc_auc_ovr  roc_auc_ovo  \n",
       "K-neighbors tf_idf                       0.840990     0.844114  \n",
       "K-neighbors tf_idf pca                   0.816386     0.821299  \n",
       "K-neighbors word2vec                     0.787306     0.789760  \n",
       "K-neighbors weighted word2vec            0.795419     0.797633  \n",
       "TF-IDF SelectFromModel Random Forest     0.798339     0.805117  \n",
       "TF-IDF PCA Random Forest                 0.818108     0.823213  \n",
       "Word2Vec Random Forest                   0.730344     0.735650  \n",
       "TF-IDF LigthGBM                          0.711242     0.719380  "
      ]
     },
     "execution_count": 7,
     "metadata": {},
     "output_type": "execute_result"
    }
   ],
   "source": [
    "metrics = pd.concat([metrics, metric], axis=0)\n",
    "metrics"
   ]
  },
  {
   "cell_type": "markdown",
   "metadata": {},
   "source": [
    "Попробуем еще подобрать параметры для неглубоких деревьев, до 5, но увеличив их количество."
   ]
  },
  {
   "cell_type": "code",
   "execution_count": 8,
   "metadata": {},
   "outputs": [
    {
     "name": "stderr",
     "output_type": "stream",
     "text": [
      "Best trial: 67. Best value: 0.8: 100%|██████████| 100/100 [00:35<00:00,  2.80it/s]\n"
     ]
    }
   ],
   "source": [
    "X_train, X_val, y_train, y_val = train_test_split(tf_idf, y, random_state=42, test_size=0.2)\n",
    "\n",
    "\n",
    "def objective(trial):\n",
    "    params = {\n",
    "        \"max_depth\": trial.suggest_int(\"max_depth\", 2, 5),\n",
    "        'num_leaves': trial.suggest_int(\"num_leaves\", 10, 100),\n",
    "        \"min_data_in_leaf\": trial.suggest_int(\"min_data_in_leaf\", 1, 20),\n",
    "        \"n_estimators\": trial.suggest_int(\"n_estimators\", 10, 10000),\n",
    "        \"learning_rate\": trial.suggest_float(\"learning_rate\", 0.01, 0.5),\n",
    "    }\n",
    "    model = LGBMClassifier(\n",
    "        num_leaves=params[\"num_leaves\"],\n",
    "        n_estimators=params[\"n_estimators\"],\n",
    "        max_depth=params['max_depth'],\n",
    "        learning_rate=params['learning_rate'],\n",
    "        min_data_in_leaf=params['min_data_in_leaf'],\n",
    "        objective='multiclass',\n",
    "        num_class=3,\n",
    "        metric='multi_logloss',\n",
    "        verbosity=-1\n",
    "    )\n",
    "    model.fit(X_train, y_train)\n",
    "    y_pred = model.predict(X_val)\n",
    "    accuracy = accuracy_score(y_val, y_pred)\n",
    "    return accuracy\n",
    "\n",
    "\n",
    "optuna.logging.set_verbosity(optuna.logging.WARNING)\n",
    "study = optuna.create_study(direction=\"maximize\")\n",
    "study.optimize(objective, n_trials=100, show_progress_bar=True)"
   ]
  },
  {
   "cell_type": "code",
   "execution_count": 9,
   "metadata": {},
   "outputs": [
    {
     "data": {
      "text/plain": [
       "{'max_depth': 4,\n",
       " 'num_leaves': 52,\n",
       " 'min_data_in_leaf': 1,\n",
       " 'n_estimators': 522,\n",
       " 'learning_rate': 0.17635998497017952}"
      ]
     },
     "execution_count": 9,
     "metadata": {},
     "output_type": "execute_result"
    }
   ],
   "source": [
    "study.best_params"
   ]
  },
  {
   "cell_type": "code",
   "execution_count": 10,
   "metadata": {},
   "outputs": [
    {
     "name": "stdout",
     "output_type": "stream",
     "text": [
      "              precision    recall  f1-score   support\n",
      "\n",
      "        -1.0       0.55      0.52      0.53        23\n",
      "         0.0       0.46      0.61      0.52        28\n",
      "         1.0       0.55      0.32      0.40        19\n",
      "\n",
      "    accuracy                           0.50        70\n",
      "   macro avg       0.52      0.48      0.49        70\n",
      "weighted avg       0.51      0.50      0.49        70\n",
      "\n"
     ]
    },
    {
     "data": {
      "image/png": "[encoded data removed]",
      "text/plain": [
       "<Figure size 640x480 with 2 Axes>"
      ]
     },
     "metadata": {},
     "output_type": "display_data"
    }
   ],
   "source": [
    "model = LGBMClassifier(\n",
    "    n_estimators=study.best_params['n_estimators'],\n",
    "    max_depth=study.best_params['max_depth'],\n",
    "    learning_rate=study.best_params['learning_rate'],\n",
    "    min_data_in_leaf=study.best_params['min_data_in_leaf'],\n",
    "    objective='multiclass',\n",
    "    num_class=3,\n",
    "    metric='multi_logloss',\n",
    "    verbosity=-1\n",
    "    )\n",
    "metric, model = calc_metrics(\n",
    "    tf_idf,\n",
    "    y,\n",
    "    model,\n",
    "    name=\"TF-IDF LigthGBM\"\n",
    ")"
   ]
  },
  {
   "cell_type": "code",
   "execution_count": 12,
   "metadata": {},
   "outputs": [
    {
     "data": {
      "text/html": [
       "<div>\n",
       "<style scoped>\n",
       "    .dataframe tbody tr th:only-of-type {\n",
       "        vertical-align: middle;\n",
       "    }\n",
       "\n",
       "    .dataframe tbody tr th {\n",
       "        vertical-align: top;\n",
       "    }\n",
       "\n",
       "    .dataframe thead th {\n",
       "        text-align: right;\n",
       "    }\n",
       "</style>\n",
       "<table border=\"1\" class=\"dataframe\">\n",
       "  <thead>\n",
       "    <tr style=\"text-align: right;\">\n",
       "      <th></th>\n",
       "      <th>accuracy</th>\n",
       "      <th>f1</th>\n",
       "      <th>recall</th>\n",
       "      <th>precision</th>\n",
       "      <th>roc_auc_ovr</th>\n",
       "      <th>roc_auc_ovo</th>\n",
       "    </tr>\n",
       "  </thead>\n",
       "  <tbody>\n",
       "    <tr>\n",
       "      <th>TF-IDF LigthGBM</th>\n",
       "      <td>0.5</td>\n",
       "      <td>0.48547</td>\n",
       "      <td>0.481557</td>\n",
       "      <td>0.51679</td>\n",
       "      <td>0.712886</td>\n",
       "      <td>0.71908</td>\n",
       "    </tr>\n",
       "  </tbody>\n",
       "</table>\n",
       "</div>"
      ],
      "text/plain": [
       "                 accuracy       f1    recall  precision  roc_auc_ovr  \\\n",
       "TF-IDF LigthGBM       0.5  0.48547  0.481557    0.51679     0.712886   \n",
       "\n",
       "                 roc_auc_ovo  \n",
       "TF-IDF LigthGBM      0.71908  "
      ]
     },
     "execution_count": 12,
     "metadata": {},
     "output_type": "execute_result"
    }
   ],
   "source": [
    "metric"
   ]
  },
  {
   "cell_type": "markdown",
   "metadata": {},
   "source": [
    "В итоге, попробовав три разных бустинга (XGboost, CatBoost, LightGBM), не удалось приблизится к лучшей линейной модели."
   ]
  },
  {
   "cell_type": "code",
   "execution_count": 17,
   "metadata": {},
   "outputs": [],
   "source": [
    "metrics.to_csv('metrics.csv')"
   ]
  },
  {
   "cell_type": "code",
   "execution_count": null,
   "metadata": {},
   "outputs": [],
   "source": []
  }
 ],
 "metadata": {
  "kernelspec": {
   "display_name": "ml_yp",
   "language": "python",
   "name": "python3"
  },
  "language_info": {
   "codemirror_mode": {
    "name": "ipython",
    "version": 3
   },
   "file_extension": ".py",
   "mimetype": "text/x-python",
   "name": "python",
   "nbconvert_exporter": "python",
   "pygments_lexer": "ipython3",
   "version": "3.12.3"
  }
 },
 "nbformat": 4,
 "nbformat_minor": 2
}
