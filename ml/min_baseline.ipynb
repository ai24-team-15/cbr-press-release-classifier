{
 "cells": [
  {
   "cell_type": "markdown",
   "metadata": {},
   "source": [
    "## Общая предобработка данных"
   ]
  },
  {
   "cell_type": "code",
   "execution_count": 1,
   "metadata": {},
   "outputs": [],
   "source": [
    "import os\n",
    "\n",
    "import pandas as pd\n",
    "import numpy as np\n",
    "from sklearn.metrics import accuracy_score, precision_score, recall_score, f1_score, roc_auc_score\n",
    "\n",
    "\n",
    "DATASET_URL = '../data/cbr-press-releases.csv'"
   ]
  },
  {
   "cell_type": "markdown",
   "metadata": {},
   "source": [
    "Загрузим датасет пресс-релизов, полученных с сайта ЦБ РФ:"
   ]
  },
  {
   "cell_type": "code",
   "execution_count": 2,
   "metadata": {},
   "outputs": [
    {
     "data": {
      "text/html": [
       "<div>\n",
       "<style scoped>\n",
       "    .dataframe tbody tr th:only-of-type {\n",
       "        vertical-align: middle;\n",
       "    }\n",
       "\n",
       "    .dataframe tbody tr th {\n",
       "        vertical-align: top;\n",
       "    }\n",
       "\n",
       "    .dataframe thead th {\n",
       "        text-align: right;\n",
       "    }\n",
       "</style>\n",
       "<table border=\"1\" class=\"dataframe\">\n",
       "  <thead>\n",
       "    <tr style=\"text-align: right;\">\n",
       "      <th></th>\n",
       "      <th>date</th>\n",
       "      <th>link</th>\n",
       "      <th>title</th>\n",
       "      <th>release</th>\n",
       "      <th>inflation</th>\n",
       "      <th>rate</th>\n",
       "      <th>usd</th>\n",
       "      <th>usd_cur_change_relative</th>\n",
       "      <th>target_categorial</th>\n",
       "      <th>target_absolute</th>\n",
       "      <th>target_relative</th>\n",
       "    </tr>\n",
       "  </thead>\n",
       "  <tbody>\n",
       "    <tr>\n",
       "      <th>0</th>\n",
       "      <td>2013-09-13</td>\n",
       "      <td>http://www.cbr.ru/press/pr/?file=130913_134305...</td>\n",
       "      <td>О процентных ставках по операциям Банка России</td>\n",
       "      <td>Департамент внешних и общественных связей Банк...</td>\n",
       "      <td>6.51</td>\n",
       "      <td>5.5</td>\n",
       "      <td>32.6731</td>\n",
       "      <td>0.994294</td>\n",
       "      <td>0.0</td>\n",
       "      <td>0.0</td>\n",
       "      <td>1.000000</td>\n",
       "    </tr>\n",
       "    <tr>\n",
       "      <th>1</th>\n",
       "      <td>2013-10-14</td>\n",
       "      <td>http://www.cbr.ru/press/pr/?file=131014_133001...</td>\n",
       "      <td>О ключевой ставке Банка России</td>\n",
       "      <td>Пресс-служба Банка России сообщает, что Совет ...</td>\n",
       "      <td>6.14</td>\n",
       "      <td>5.5</td>\n",
       "      <td>32.2663</td>\n",
       "      <td>0.987549</td>\n",
       "      <td>0.0</td>\n",
       "      <td>0.0</td>\n",
       "      <td>1.000000</td>\n",
       "    </tr>\n",
       "    <tr>\n",
       "      <th>2</th>\n",
       "      <td>2013-11-08</td>\n",
       "      <td>http://www.cbr.ru/press/pr/?file=131108_133008...</td>\n",
       "      <td>О ключевой ставке Банка России</td>\n",
       "      <td>Совет директоров Банка России 8 ноября 2013 го...</td>\n",
       "      <td>6.27</td>\n",
       "      <td>5.5</td>\n",
       "      <td>32.3803</td>\n",
       "      <td>1.003533</td>\n",
       "      <td>0.0</td>\n",
       "      <td>0.0</td>\n",
       "      <td>1.000000</td>\n",
       "    </tr>\n",
       "    <tr>\n",
       "      <th>3</th>\n",
       "      <td>2013-12-13</td>\n",
       "      <td>http://www.cbr.ru/press/pr/?file=131213_133004...</td>\n",
       "      <td>О ключевой ставке Банка России</td>\n",
       "      <td>Совет директоров Банка России 13 декабря 2013 ...</td>\n",
       "      <td>6.50</td>\n",
       "      <td>5.5</td>\n",
       "      <td>32.7518</td>\n",
       "      <td>1.011473</td>\n",
       "      <td>0.0</td>\n",
       "      <td>0.0</td>\n",
       "      <td>1.000000</td>\n",
       "    </tr>\n",
       "    <tr>\n",
       "      <th>4</th>\n",
       "      <td>2014-02-14</td>\n",
       "      <td>http://www.cbr.ru/press/pr/?file=14022014_1333...</td>\n",
       "      <td>О ключевой ставке Банка России</td>\n",
       "      <td>Совет директоров Банка России 14 февраля 2014 ...</td>\n",
       "      <td>6.07</td>\n",
       "      <td>7.0</td>\n",
       "      <td>34.8611</td>\n",
       "      <td>1.064403</td>\n",
       "      <td>1.0</td>\n",
       "      <td>1.5</td>\n",
       "      <td>1.272727</td>\n",
       "    </tr>\n",
       "  </tbody>\n",
       "</table>\n",
       "</div>"
      ],
      "text/plain": [
       "        date                                               link  \\\n",
       "0 2013-09-13  http://www.cbr.ru/press/pr/?file=130913_134305...   \n",
       "1 2013-10-14  http://www.cbr.ru/press/pr/?file=131014_133001...   \n",
       "2 2013-11-08  http://www.cbr.ru/press/pr/?file=131108_133008...   \n",
       "3 2013-12-13  http://www.cbr.ru/press/pr/?file=131213_133004...   \n",
       "4 2014-02-14  http://www.cbr.ru/press/pr/?file=14022014_1333...   \n",
       "\n",
       "                                            title  \\\n",
       "0  О процентных ставках по операциям Банка России   \n",
       "1                  О ключевой ставке Банка России   \n",
       "2                  О ключевой ставке Банка России   \n",
       "3                  О ключевой ставке Банка России   \n",
       "4                  О ключевой ставке Банка России   \n",
       "\n",
       "                                             release  inflation  rate  \\\n",
       "0  Департамент внешних и общественных связей Банк...       6.51   5.5   \n",
       "1  Пресс-служба Банка России сообщает, что Совет ...       6.14   5.5   \n",
       "2  Совет директоров Банка России 8 ноября 2013 го...       6.27   5.5   \n",
       "3  Совет директоров Банка России 13 декабря 2013 ...       6.50   5.5   \n",
       "4  Совет директоров Банка России 14 февраля 2014 ...       6.07   7.0   \n",
       "\n",
       "       usd  usd_cur_change_relative  target_categorial  target_absolute  \\\n",
       "0  32.6731                 0.994294                0.0              0.0   \n",
       "1  32.2663                 0.987549                0.0              0.0   \n",
       "2  32.3803                 1.003533                0.0              0.0   \n",
       "3  32.7518                 1.011473                0.0              0.0   \n",
       "4  34.8611                 1.064403                1.0              1.5   \n",
       "\n",
       "   target_relative  \n",
       "0         1.000000  \n",
       "1         1.000000  \n",
       "2         1.000000  \n",
       "3         1.000000  \n",
       "4         1.272727  "
      ]
     },
     "execution_count": 2,
     "metadata": {},
     "output_type": "execute_result"
    }
   ],
   "source": [
    "df = pd.read_csv(DATASET_URL, parse_dates=['date'])\n",
    "df.head()"
   ]
  },
  {
   "cell_type": "markdown",
   "metadata": {},
   "source": [
    "`rate` - величина ключевой ставки, которую объявят на следующем заседании. Мы хотели бы знать эту величину. Но мы знаем текущую ставку и эту информацию можно добавить в наши данные сдвинув ставку на один."
   ]
  },
  {
   "cell_type": "code",
   "execution_count": 3,
   "metadata": {},
   "outputs": [],
   "source": [
    "df['rate'] = df.rate.shift(1)"
   ]
  },
  {
   "cell_type": "markdown",
   "metadata": {},
   "source": [
    "В сентябре 2013 года ЦБ ввел ключевую ставку, и назначил ее величину в 5,5% заполним пропущенное значение."
   ]
  },
  {
   "cell_type": "code",
   "execution_count": 4,
   "metadata": {},
   "outputs": [],
   "source": [
    "df.loc[0, 'rate'] = 5.5"
   ]
  },
  {
   "cell_type": "markdown",
   "metadata": {},
   "source": [
    "Дату сделаем индексом, ссылку на пресс-релиз выбросим, эта переменная не поможет в предсказании таргета."
   ]
  },
  {
   "cell_type": "code",
   "execution_count": 5,
   "metadata": {},
   "outputs": [],
   "source": [
    "df.set_index('date', inplace=True)\n",
    "df.drop('link', axis=1, inplace=True)"
   ]
  },
  {
   "cell_type": "markdown",
   "metadata": {},
   "source": [
    "Для последнего релиза неизвестна целевая переменная (направление изменения ключевой ставки), поэтому исключим его из датасета и сохраним отдельно:"
   ]
  },
  {
   "cell_type": "code",
   "execution_count": 6,
   "metadata": {},
   "outputs": [],
   "source": [
    "df.sort_values('date', inplace=True)\n",
    "cur_pr = df.tail(1)\n",
    "df = df[:-1]"
   ]
  },
  {
   "cell_type": "markdown",
   "metadata": {},
   "source": [
    "Мы хотим предсказывать направление ставки рефинансирования `target_categorial`, выделим ее как целевую переменную. `target_absolute` и `target_relative` содержит в себе информацию о целевой переменной удалим их из матрицы признаков."
   ]
  },
  {
   "cell_type": "code",
   "execution_count": 7,
   "metadata": {},
   "outputs": [],
   "source": [
    "X = df.drop(['target_categorial', 'target_absolute', 'target_relative'], axis=1)\n",
    "y = df['target_categorial']"
   ]
  },
  {
   "cell_type": "markdown",
   "metadata": {},
   "source": [
    "Сохраним X и y в файлах, чтобы пользоваться ими во всех экспериментах"
   ]
  },
  {
   "cell_type": "code",
   "execution_count": 8,
   "metadata": {},
   "outputs": [],
   "source": [
    "directory = './data'\n",
    "\n",
    "if not os.path.exists(directory):\n",
    "    os.makedirs(directory)\n",
    "\n",
    "X.to_csv('./data/x.csv')\n",
    "y.to_csv('./data/y.csv')"
   ]
  },
  {
   "cell_type": "markdown",
   "metadata": {},
   "source": [
    "## Минимальный безлайн "
   ]
  },
  {
   "cell_type": "markdown",
   "metadata": {},
   "source": [
    "Направление изменения ставки будем предсказывать таким, как в последнем решении. До 13 сентября ключевой ставки не существовало, поэтому мы не можем предсказать таким способом для первого наблюдения, будем оценивать качество бейзлайна без него."
   ]
  },
  {
   "cell_type": "code",
   "execution_count": 9,
   "metadata": {},
   "outputs": [],
   "source": [
    "# вероятность 1 для соответствующего класса\n",
    "def get_proba(y):\n",
    "    proba = np.zeros((1, 3))\n",
    "    proba[0, int(y + 1)] = 1.\n",
    "    return proba\n",
    "\n",
    "y_pred = y.shift(1)\n",
    "accuracy = accuracy_score(y[1:], y_pred[1:])\n",
    "f1 = f1_score(y[1:], y_pred[1:], average='macro')\n",
    "precision = precision_score(y[1:], y_pred[1:], average='macro')\n",
    "recall = recall_score(y[1:], y_pred[1:], average='macro')\n",
    "roc_auc_ovr = roc_auc_score(\n",
    "    y[1:], \n",
    "    np.concatenate(list(map(get_proba, y_pred[1:]))), \n",
    "    average='macro', \n",
    "    multi_class='ovr'\n",
    "    )\n",
    "roc_auc_ovo = roc_auc_score(\n",
    "    y[1:], \n",
    "    np.concatenate(list(map(get_proba, y_pred[1:]))), \n",
    "    average='macro', \n",
    "    multi_class='ovo')\n",
    "min_baseline = pd.DataFrame(\n",
    "    {\n",
    "        'accuracy': accuracy, \n",
    "        'f1': f1, \n",
    "        'precision': precision, \n",
    "        'recall': recall, \n",
    "        'roc_auc_ovr': roc_auc_ovr, \n",
    "        'roc_auc_ovo': roc_auc_ovo\n",
    "    }, \n",
    "    index=['min_baseline']\n",
    "    )"
   ]
  },
  {
   "cell_type": "code",
   "execution_count": 10,
   "metadata": {},
   "outputs": [
    {
     "data": {
      "text/html": [
       "<div>\n",
       "<style scoped>\n",
       "    .dataframe tbody tr th:only-of-type {\n",
       "        vertical-align: middle;\n",
       "    }\n",
       "\n",
       "    .dataframe tbody tr th {\n",
       "        vertical-align: top;\n",
       "    }\n",
       "\n",
       "    .dataframe thead th {\n",
       "        text-align: right;\n",
       "    }\n",
       "</style>\n",
       "<table border=\"1\" class=\"dataframe\">\n",
       "  <thead>\n",
       "    <tr style=\"text-align: right;\">\n",
       "      <th></th>\n",
       "      <th>accuracy</th>\n",
       "      <th>f1</th>\n",
       "      <th>precision</th>\n",
       "      <th>recall</th>\n",
       "      <th>roc_auc_ovr</th>\n",
       "      <th>roc_auc_ovo</th>\n",
       "    </tr>\n",
       "  </thead>\n",
       "  <tbody>\n",
       "    <tr>\n",
       "      <th>min_baseline</th>\n",
       "      <td>0.663158</td>\n",
       "      <td>0.667893</td>\n",
       "      <td>0.669919</td>\n",
       "      <td>0.666111</td>\n",
       "      <td>0.74501</td>\n",
       "      <td>0.749583</td>\n",
       "    </tr>\n",
       "  </tbody>\n",
       "</table>\n",
       "</div>"
      ],
      "text/plain": [
       "              accuracy        f1  precision    recall  roc_auc_ovr  \\\n",
       "min_baseline  0.663158  0.667893   0.669919  0.666111      0.74501   \n",
       "\n",
       "              roc_auc_ovo  \n",
       "min_baseline     0.749583  "
      ]
     },
     "execution_count": 10,
     "metadata": {},
     "output_type": "execute_result"
    }
   ],
   "source": [
    "min_baseline"
   ]
  },
  {
   "cell_type": "markdown",
   "metadata": {},
   "source": [
    "Это будет нашим ориетиром в экспериментах. Будем хранить качество наших моделей в `metrics.csv`"
   ]
  },
  {
   "cell_type": "code",
   "execution_count": 11,
   "metadata": {},
   "outputs": [],
   "source": [
    "min_baseline.to_csv('metrics.csv')"
   ]
  }
 ],
 "metadata": {
  "kernelspec": {
   "display_name": ".venv",
   "language": "python",
   "name": "python3"
  },
  "language_info": {
   "codemirror_mode": {
    "name": "ipython",
    "version": 3
   },
   "file_extension": ".py",
   "mimetype": "text/x-python",
   "name": "python",
   "nbconvert_exporter": "python",
   "pygments_lexer": "ipython3",
   "version": "3.10.15"
  }
 },
 "nbformat": 4,
 "nbformat_minor": 2
}
