{
 "cells": [
  {
   "cell_type": "markdown",
   "metadata": {},
   "source": [
    "## Baseline-решение"
   ]
  },
  {
   "cell_type": "markdown",
   "metadata": {},
   "source": [
    "В данном ноутбуке представлено baseline-решение задачи классификации направления изменения будущей ключевой ставки ЦБ РФ по семантике текущего пресс-релиза. Решение основано на использовании Bag of Words для получения текстовых эмбеддингов и логистической регрессии."
   ]
  },
  {
   "cell_type": "markdown",
   "metadata": {},
   "source": [
    "### Загрузка данных"
   ]
  },
  {
   "cell_type": "code",
   "execution_count": 1,
   "metadata": {},
   "outputs": [],
   "source": [
    "import pandas as pd\n",
    "import numpy as np\n",
    "from sklearn.linear_model import LogisticRegression\n",
    "from sklearn.feature_extraction.text import CountVectorizer\n",
    "from sklearn.metrics import classification_report, confusion_matrix\n",
    "from sklearn.model_selection import StratifiedKFold, cross_validate, KFold\n",
    "from sklearn.pipeline import Pipeline\n",
    "from sklearn.compose import ColumnTransformer\n",
    "\n",
    "\n",
    "RANDOM_STATE = 41825352\n",
    "DATASET_URL = '../data/cbr-press-releases.csv'"
   ]
  },
  {
   "cell_type": "markdown",
   "metadata": {},
   "source": [
    "Загрузим датасет пресс-релизов, полученных с сайта ЦБ РФ:"
   ]
  },
  {
   "cell_type": "code",
   "execution_count": null,
   "metadata": {},
   "outputs": [],
   "source": [
    "df = pd.read_csv(DATASET_URL, parse_dates=['date'])"
   ]
  },
  {
   "cell_type": "markdown",
   "metadata": {},
   "source": [
    "Для последнего релиза неизвестна целевая переменная (направление изменения ключевой ставки), поэтому исключим его из датасета и сохраним отдельно:"
   ]
  },
  {
   "cell_type": "code",
   "execution_count": 3,
   "metadata": {},
   "outputs": [],
   "source": [
    "df.sort_values('date', inplace=True)\n",
    "cur_pr = df.tail(1)\n",
    "df = df[:-1]"
   ]
  },
  {
   "cell_type": "markdown",
   "metadata": {},
   "source": [
    "В качестве целевой переменной используется столбец `target_categorial`."
   ]
  },
  {
   "cell_type": "code",
   "execution_count": 4,
   "metadata": {},
   "outputs": [],
   "source": [
    "y = df.target_categorial"
   ]
  },
  {
   "cell_type": "markdown",
   "metadata": {},
   "source": [
    "### Подготовка модели"
   ]
  },
  {
   "cell_type": "markdown",
   "metadata": {},
   "source": [
    "Создадим пайплайн, который будет включать:\n",
    "1. Векторизацию столбца текстов (`release`) с помощью алгоритма Bag of Words, все остальные столбцы отбрасываются;\n",
    "2. Классификатор - модель логистической регрессии."
   ]
  },
  {
   "cell_type": "code",
   "execution_count": 5,
   "metadata": {},
   "outputs": [],
   "source": [
    "model = Pipeline([\n",
    "    ('vectorizer',\n",
    "        ColumnTransformer([\n",
    "            ('bag_of_words', CountVectorizer(), 'release')\n",
    "        ], remainder=\"drop\")\n",
    "    ),\n",
    "    ('log_regression', LogisticRegression(max_iter=1000))\n",
    "])"
   ]
  },
  {
   "cell_type": "markdown",
   "metadata": {},
   "source": [
    "### Оценка качества модели"
   ]
  },
  {
   "cell_type": "markdown",
   "metadata": {},
   "source": [
    "Поскольку датасет небольшой, используем кросс-валидацию для оценки качества модели. Разбиение на фолды будем делать со стратификацией, чтобы в тестовую выборку попадали объекты всех классов."
   ]
  },
  {
   "cell_type": "code",
   "execution_count": 17,
   "metadata": {},
   "outputs": [
    {
     "data": {
      "text/html": [
       "<div>\n",
       "<style scoped>\n",
       "    .dataframe tbody tr th:only-of-type {\n",
       "        vertical-align: middle;\n",
       "    }\n",
       "\n",
       "    .dataframe tbody tr th {\n",
       "        vertical-align: top;\n",
       "    }\n",
       "\n",
       "    .dataframe thead th {\n",
       "        text-align: right;\n",
       "    }\n",
       "</style>\n",
       "<table border=\"1\" class=\"dataframe\">\n",
       "  <thead>\n",
       "    <tr style=\"text-align: right;\">\n",
       "      <th></th>\n",
       "      <th>accuracy</th>\n",
       "      <th>f1_macro</th>\n",
       "      <th>f1_micro</th>\n",
       "      <th>f1_weighted</th>\n",
       "      <th>precision_macro</th>\n",
       "      <th>precision_micro</th>\n",
       "      <th>precision_weighted</th>\n",
       "      <th>recall_macro</th>\n",
       "      <th>recall_micro</th>\n",
       "      <th>recall_weighted</th>\n",
       "      <th>roc_auc_ovr</th>\n",
       "      <th>roc_auc_ovo</th>\n",
       "    </tr>\n",
       "  </thead>\n",
       "  <tbody>\n",
       "    <tr>\n",
       "      <th>mean</th>\n",
       "      <td>0.606316</td>\n",
       "      <td>0.601469</td>\n",
       "      <td>0.606316</td>\n",
       "      <td>0.599540</td>\n",
       "      <td>0.661946</td>\n",
       "      <td>0.606316</td>\n",
       "      <td>0.645545</td>\n",
       "      <td>0.598333</td>\n",
       "      <td>0.606316</td>\n",
       "      <td>0.606316</td>\n",
       "      <td>0.805142</td>\n",
       "      <td>0.818750</td>\n",
       "    </tr>\n",
       "    <tr>\n",
       "      <th>std</th>\n",
       "      <td>0.105809</td>\n",
       "      <td>0.110825</td>\n",
       "      <td>0.105809</td>\n",
       "      <td>0.110902</td>\n",
       "      <td>0.138313</td>\n",
       "      <td>0.105809</td>\n",
       "      <td>0.134030</td>\n",
       "      <td>0.103602</td>\n",
       "      <td>0.105809</td>\n",
       "      <td>0.105809</td>\n",
       "      <td>0.062859</td>\n",
       "      <td>0.057356</td>\n",
       "    </tr>\n",
       "  </tbody>\n",
       "</table>\n",
       "</div>"
      ],
      "text/plain": [
       "      accuracy  f1_macro  f1_micro  f1_weighted  precision_macro  \\\n",
       "mean  0.606316  0.601469  0.606316     0.599540         0.661946   \n",
       "std   0.105809  0.110825  0.105809     0.110902         0.138313   \n",
       "\n",
       "      precision_micro  precision_weighted  recall_macro  recall_micro  \\\n",
       "mean         0.606316            0.645545      0.598333      0.606316   \n",
       "std          0.105809            0.134030      0.103602      0.105809   \n",
       "\n",
       "      recall_weighted  roc_auc_ovr  roc_auc_ovo  \n",
       "mean         0.606316     0.805142     0.818750  \n",
       "std          0.105809     0.062859     0.057356  "
      ]
     },
     "execution_count": 17,
     "metadata": {},
     "output_type": "execute_result"
    }
   ],
   "source": [
    "# TODO: отобрать нужные метрики\n",
    "scoring = [\n",
    "    'accuracy',\n",
    "    'f1_macro',\n",
    "    'f1_micro',\n",
    "    'f1_weighted',\n",
    "    'precision_macro',\n",
    "    'precision_micro',\n",
    "    'precision_weighted',\n",
    "    'recall_macro',\n",
    "    'recall_micro',\n",
    "    'recall_weighted',\n",
    "    'roc_auc_ovr',\n",
    "    'roc_auc_ovo',\n",
    "]\n",
    "\n",
    "# TODO: сколько брать фолдов?\n",
    "folds = StratifiedKFold(5, shuffle=True, random_state=RANDOM_STATE)\n",
    "result = cross_validate(model, df, y, cv=folds, scoring=scoring, n_jobs=-1, return_train_score=True)\n",
    "\n",
    "sc = pd.DataFrame(index=['mean', 'std'])\n",
    "for score in scoring:\n",
    "    scores = result['test_' + score]\n",
    "    mean = scores.mean()\n",
    "    s = pd.DataFrame({ score: [scores.mean(), scores.std()] }, index=['mean', 'std'])\n",
    "    sc = pd.merge(sc, s, right_index=True, left_index=True)\n",
    "\n",
    "sc"
   ]
  },
  {
   "cell_type": "markdown",
   "metadata": {},
   "source": [
    "Средняя доля правильных ответов и F-мера среди всех тестовых данных приблизительно равны 0.6, стандартное отклонение $\\approx 0.11$.\n",
    "\n",
    "TODO: выводы"
   ]
  },
  {
   "cell_type": "markdown",
   "metadata": {},
   "source": [
    "Здесь доп исследование, как кол-во фолдов влияет на среднуюю и стд. откл. у accuracy. Средняя и отклонение растет. Это не нужно, наверное"
   ]
  },
  {
   "cell_type": "code",
   "execution_count": 7,
   "metadata": {},
   "outputs": [],
   "source": [
    "xs, ys, zs = [], [], []\n",
    "for cnt in range(3, df.shape[0]):\n",
    "    folds = KFold(cnt, shuffle=True, random_state=RANDOM_STATE)\n",
    "    result = cross_validate(model, df, y, cv=folds, scoring=scoring, n_jobs=-1, return_train_score=True)\n",
    "\n",
    "    xs.append(cnt)\n",
    "    ys.append(result['test_accuracy'].mean())\n",
    "    zs.append(result['test_accuracy'].std())"
   ]
  },
  {
   "cell_type": "code",
   "execution_count": 19,
   "metadata": {},
   "outputs": [
    {
     "data": {
      "text/plain": [
       "(0.0, 20.0)"
      ]
     },
     "execution_count": 19,
     "metadata": {},
     "output_type": "execute_result"
    },
    {
     "data": {
      "image/png": "[encoded data removed]",
      "text/plain": [
       "<Figure size 640x480 with 2 Axes>"
      ]
     },
     "metadata": {},
     "output_type": "display_data"
    }
   ],
   "source": [
    "import matplotlib.pyplot as plt\n",
    "\n",
    "fig, axes = plt.subplots()\n",
    "\n",
    "ax2 = axes.twinx()\n",
    "\n",
    "axes.plot(xs, ys)\n",
    "ax2.plot(xs, zs, color='red')\n",
    "\n",
    "axes.set_ylabel('mean')\n",
    "ax2.set_ylabel('std', color='red')\n",
    "\n",
    "axes.set_xlim((0, 20))"
   ]
  },
  {
   "cell_type": "markdown",
   "metadata": {},
   "source": [
    "### Предсказание следующей ключевой ставки"
   ]
  },
  {
   "cell_type": "markdown",
   "metadata": {},
   "source": [
    "Теперь применим базовую модель к последнему пресс-релизу и определим прогноз по ключевой ставке на следующем заседании совета директоров ЦБ РФ 20 декабря 2024 г.:"
   ]
  },
  {
   "cell_type": "code",
   "execution_count": null,
   "metadata": {},
   "outputs": [
    {
     "data": {
      "text/plain": [
       "array([[0.00331463, 0.01862424, 0.97806113]])"
      ]
     },
     "metadata": {},
     "output_type": "display_data"
    }
   ],
   "source": [
    "model.fit(df, y)\n",
    "model.predict_proba(cur_pr)"
   ]
  },
  {
   "cell_type": "markdown",
   "metadata": {},
   "source": [
    "Модель предсказывает решение о повышении ключевой ставки на следующем заседании с вероятностью 0.978."
   ]
  }
 ],
 "metadata": {
  "kernelspec": {
   "display_name": "Python 3",
   "language": "python",
   "name": "python3"
  },
  "language_info": {
   "codemirror_mode": {
    "name": "ipython",
    "version": 3
   },
   "file_extension": ".py",
   "mimetype": "text/x-python",
   "name": "python",
   "nbconvert_exporter": "python",
   "pygments_lexer": "ipython3",
   "version": "3.12.1"
  }
 },
 "nbformat": 4,
 "nbformat_minor": 2
}
