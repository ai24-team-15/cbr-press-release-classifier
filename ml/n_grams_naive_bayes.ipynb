{
 "cells": [
  {
   "cell_type": "code",
   "execution_count": 5,
   "metadata": {},
   "outputs": [],
   "source": [
    "import re\n",
    "\n",
    "import pandas as pd\n",
    "from tqdm import tqdm\n",
    "from pymystem3 import Mystem\n",
    "from nltk.corpus import stopwords\n",
    "from sklearn.feature_extraction.text import CountVectorizer\n",
    "from sklearn.naive_bayes import MultinomialNB\n",
    "\n",
    "from utils import calc_metrics"
   ]
  },
  {
   "cell_type": "code",
   "execution_count": 6,
   "metadata": {},
   "outputs": [],
   "source": [
    "X = pd.read_csv('data/x.csv', index_col='date')\n",
    "y = pd.read_csv('data/y.csv', index_col='date').iloc[:, 0]\n",
    "\n",
    "metrics = pd.read_csv('metrics.csv', index_col=0)"
   ]
  },
  {
   "cell_type": "markdown",
   "metadata": {},
   "source": [
    "### N-граммы плюс Naive Bayes"
   ]
  },
  {
   "cell_type": "markdown",
   "metadata": {},
   "source": [
    "Попробуем решить задачу с помощью алгоритма Naive Bayes, подберем оптимальные значения для параметра `ngram_range` и обучим лучшую модель."
   ]
  },
  {
   "cell_type": "code",
   "execution_count": 7,
   "metadata": {},
   "outputs": [],
   "source": [
    "mystem = Mystem()\n",
    "STOP_WORDS = set(stopwords.words('russian'))\n",
    "\n",
    "def preprocessor(text):\n",
    "    text = text.lower()\n",
    "    regex = re.compile('[^а-я А-ЯЁё]')\n",
    "    text = regex.sub(' ', text)\n",
    "    text = ' '.join(mystem.lemmatize(text))\n",
    "    text = ' '.join([word for word in text.split() if word not in STOP_WORDS])\n",
    "    return text"
   ]
  },
  {
   "cell_type": "code",
   "execution_count": 9,
   "metadata": {},
   "outputs": [
    {
     "name": "stderr",
     "output_type": "stream",
     "text": [
      "100%|██████████| 9/9 [43:13<00:00, 288.18s/it]"
     ]
    },
    {
     "name": "stdout",
     "output_type": "stream",
     "text": [
      "Лучшая модель - ngram_range(3, 6)\n",
      "ROC-AUC = 0.7729945341838965\n"
     ]
    },
    {
     "name": "stderr",
     "output_type": "stream",
     "text": [
      "\n"
     ]
    }
   ],
   "source": [
    "auc = []\n",
    "for start in tqdm(range(1, 10)):\n",
    "    for stop in range(start, min(10, start + 4)):\n",
    "        vectorizer = CountVectorizer(\n",
    "            preprocessor=preprocessor,\n",
    "            ngram_range=(start, stop)\n",
    "        )\n",
    "        bow_ngram = vectorizer.fit_transform(X.release)\n",
    "        auc.append(\n",
    "            (\n",
    "                calc_metrics(\n",
    "                bow_ngram, y,\n",
    "                MultinomialNB, \n",
    "                name='MultinomialNB',\n",
    "                plot=False\n",
    "            ), \n",
    "            (start, stop)\n",
    "            \n",
    "            ),\n",
    "        )\n",
    "    \n",
    "(roc_auc, best_model), (start, stop) = max(auc, key=lambda x: x[0][0])\n",
    "\n",
    "print(f\"Лучшая модель - ngram_range({start}, {stop})\")\n",
    "print(f\"ROC-AUC = {roc_auc}\")"
   ]
  },
  {
   "cell_type": "code",
   "execution_count": null,
   "metadata": {},
   "outputs": [],
   "source": [
    "vectorizer = CountVectorizer(\n",
    "    preprocessor=preprocessor,\n",
    "    ngram_range=(start, stop)\n",
    ")\n",
    "\n",
    "vectorizer.fit(X.release)\n",
    "\n",
    "bow_ngram = vectorizer.transform(X.release)"
   ]
  },
  {
   "cell_type": "code",
   "execution_count": null,
   "metadata": {},
   "outputs": [
    {
     "name": "stdout",
     "output_type": "stream",
     "text": [
      "              precision    recall  f1-score   support\n",
      "\n",
      "        -1.0       0.68      0.83      0.75        23\n",
      "         0.0       0.56      0.42      0.48        24\n",
      "         1.0       0.65      0.68      0.67        19\n",
      "\n",
      "    accuracy                           0.64        66\n",
      "   macro avg       0.63      0.64      0.63        66\n",
      "weighted avg       0.63      0.64      0.62        66\n",
      "\n"
     ]
    },
    {
     "data": {
      "image/png": "[encoded data removed]",
      "text/plain": [
       "<Figure size 640x480 with 2 Axes>"
      ]
     },
     "metadata": {},
     "output_type": "display_data"
    },
    {
     "data": {
      "text/html": [
       "<div>\n",
       "<style scoped>\n",
       "    .dataframe tbody tr th:only-of-type {\n",
       "        vertical-align: middle;\n",
       "    }\n",
       "\n",
       "    .dataframe tbody tr th {\n",
       "        vertical-align: top;\n",
       "    }\n",
       "\n",
       "    .dataframe thead th {\n",
       "        text-align: right;\n",
       "    }\n",
       "</style>\n",
       "<table border=\"1\" class=\"dataframe\">\n",
       "  <thead>\n",
       "    <tr style=\"text-align: right;\">\n",
       "      <th></th>\n",
       "      <th>accuracy</th>\n",
       "      <th>f1</th>\n",
       "      <th>precision</th>\n",
       "      <th>recall</th>\n",
       "      <th>roc_auc_ovr</th>\n",
       "    </tr>\n",
       "  </thead>\n",
       "  <tbody>\n",
       "    <tr>\n",
       "      <th>min_baseline</th>\n",
       "      <td>0.663158</td>\n",
       "      <td>0.667893</td>\n",
       "      <td>0.669919</td>\n",
       "      <td>0.666111</td>\n",
       "      <td>NaN</td>\n",
       "    </tr>\n",
       "    <tr>\n",
       "      <th>bow l1 only release</th>\n",
       "      <td>0.621212</td>\n",
       "      <td>0.630281</td>\n",
       "      <td>0.643939</td>\n",
       "      <td>0.622362</td>\n",
       "      <td>0.764039</td>\n",
       "    </tr>\n",
       "    <tr>\n",
       "      <th>bow elasticnet</th>\n",
       "      <td>0.727273</td>\n",
       "      <td>0.726156</td>\n",
       "      <td>0.735239</td>\n",
       "      <td>0.722000</td>\n",
       "      <td>0.872670</td>\n",
       "    </tr>\n",
       "    <tr>\n",
       "      <th>bow release title</th>\n",
       "      <td>0.727273</td>\n",
       "      <td>0.726156</td>\n",
       "      <td>0.735239</td>\n",
       "      <td>0.722000</td>\n",
       "      <td>0.870925</td>\n",
       "    </tr>\n",
       "    <tr>\n",
       "      <th>bow release all num</th>\n",
       "      <td>0.727273</td>\n",
       "      <td>0.724036</td>\n",
       "      <td>0.730000</td>\n",
       "      <td>0.722604</td>\n",
       "      <td>0.865277</td>\n",
       "    </tr>\n",
       "    <tr>\n",
       "      <th>tf_idf l1 only release</th>\n",
       "      <td>0.606061</td>\n",
       "      <td>0.613057</td>\n",
       "      <td>0.643850</td>\n",
       "      <td>0.601767</td>\n",
       "      <td>0.784513</td>\n",
       "    </tr>\n",
       "    <tr>\n",
       "      <th>tf_idf only release best word</th>\n",
       "      <td>0.757576</td>\n",
       "      <td>0.761220</td>\n",
       "      <td>0.769459</td>\n",
       "      <td>0.756484</td>\n",
       "      <td>0.901612</td>\n",
       "    </tr>\n",
       "    <tr>\n",
       "      <th>tf_idf title release</th>\n",
       "      <td>0.712121</td>\n",
       "      <td>0.717903</td>\n",
       "      <td>0.737500</td>\n",
       "      <td>0.709954</td>\n",
       "      <td>0.878747</td>\n",
       "    </tr>\n",
       "    <tr>\n",
       "      <th>tf_idf numerical release</th>\n",
       "      <td>0.681818</td>\n",
       "      <td>0.688457</td>\n",
       "      <td>0.731248</td>\n",
       "      <td>0.677314</td>\n",
       "      <td>0.835872</td>\n",
       "    </tr>\n",
       "    <tr>\n",
       "      <th>MultinomialNB</th>\n",
       "      <td>0.636364</td>\n",
       "      <td>0.629318</td>\n",
       "      <td>0.628042</td>\n",
       "      <td>0.642321</td>\n",
       "      <td>0.772995</td>\n",
       "    </tr>\n",
       "  </tbody>\n",
       "</table>\n",
       "</div>"
      ],
      "text/plain": [
       "                               accuracy        f1  precision    recall  \\\n",
       "min_baseline                   0.663158  0.667893   0.669919  0.666111   \n",
       "bow l1 only release            0.621212  0.630281   0.643939  0.622362   \n",
       "bow elasticnet                 0.727273  0.726156   0.735239  0.722000   \n",
       "bow release title              0.727273  0.726156   0.735239  0.722000   \n",
       "bow release all num            0.727273  0.724036   0.730000  0.722604   \n",
       "tf_idf l1 only release         0.606061  0.613057   0.643850  0.601767   \n",
       "tf_idf only release best word  0.757576  0.761220   0.769459  0.756484   \n",
       "tf_idf title release           0.712121  0.717903   0.737500  0.709954   \n",
       "tf_idf numerical release       0.681818  0.688457   0.731248  0.677314   \n",
       "MultinomialNB                  0.636364  0.629318   0.628042  0.642321   \n",
       "\n",
       "                               roc_auc_ovr  \n",
       "min_baseline                           NaN  \n",
       "bow l1 only release               0.764039  \n",
       "bow elasticnet                    0.872670  \n",
       "bow release title                 0.870925  \n",
       "bow release all num               0.865277  \n",
       "tf_idf l1 only release            0.784513  \n",
       "tf_idf only release best word     0.901612  \n",
       "tf_idf title release              0.878747  \n",
       "tf_idf numerical release          0.835872  \n",
       "MultinomialNB                     0.772995  "
      ]
     },
     "metadata": {},
     "output_type": "display_data"
    }
   ],
   "source": [
    "metric, model = calc_metrics(bow_ngram, MultinomialNB, name='MultinomialNB')\n",
    "metrics = pd.concat((metrics, metric))\n",
    "metrics"
   ]
  },
  {
   "cell_type": "markdown",
   "metadata": {},
   "source": [
    "Получили качество даже хуже чем минимальный безлайн."
   ]
  },
  {
   "cell_type": "code",
   "execution_count": 10,
   "metadata": {},
   "outputs": [],
   "source": [
    "metrics.to_csv('metrics.csv')"
   ]
  }
 ],
 "metadata": {
  "kernelspec": {
   "display_name": ".venv",
   "language": "python",
   "name": "python3"
  },
  "language_info": {
   "codemirror_mode": {
    "name": "ipython",
    "version": 3
   },
   "file_extension": ".py",
   "mimetype": "text/x-python",
   "name": "python",
   "nbconvert_exporter": "python",
   "pygments_lexer": "ipython3",
   "version": "3.11.3"
  }
 },
 "nbformat": 4,
 "nbformat_minor": 2
}
