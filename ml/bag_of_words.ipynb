{
 "cells": [
  {
   "cell_type": "code",
   "execution_count": 1,
   "metadata": {},
   "outputs": [
    {
     "name": "stderr",
     "output_type": "stream",
     "text": [
      "Intel(R) Extension for Scikit-learn* enabled (https://github.com/intel/scikit-learn-intelex)\n"
     ]
    }
   ],
   "source": [
    "from sklearnex import patch_sklearn\n",
    "patch_sklearn()\n",
    "\n",
    "import re\n",
    "\n",
    "import numpy as np\n",
    "import pandas as pd\n",
    "from tqdm import tqdm\n",
    "from pymystem3 import Mystem\n",
    "from nltk.corpus import stopwords\n",
    "from sklearn.preprocessing import StandardScaler\n",
    "from sklearn.feature_extraction.text import CountVectorizer\n",
    "from sklearn.linear_model import LogisticRegression\n",
    "from sklearn.svm import SVC\n",
    "from joblib import Parallel, delayed\n",
    "\n",
    "from utils import calc_metrics\n",
    "\n",
    "import warnings\n",
    "warnings.filterwarnings('ignore')"
   ]
  },
  {
   "cell_type": "code",
   "execution_count": 2,
   "metadata": {},
   "outputs": [],
   "source": [
    "X = pd.read_csv('data/x.csv', index_col='date')\n",
    "y = pd.read_csv('data/y.csv', index_col='date').iloc[:, 0]\n",
    "\n",
    "metrics = pd.read_csv('metrics.csv', index_col=0)"
   ]
  },
  {
   "cell_type": "markdown",
   "metadata": {},
   "source": [
    "### Мешок слов плюс линейная модель"
   ]
  },
  {
   "cell_type": "markdown",
   "metadata": {},
   "source": [
    "Создадим функцию для тестирования наших моделей. Зададим начальный порог и будем обучать, модель на наблюдениях до порога, а тестировать на одном наблюдении после. Двигая порог протестируем нашу модель. И потом сравним с истинными ответами. Качество всех наших моделей будем записывать в табличку."
   ]
  },
  {
   "cell_type": "markdown",
   "metadata": {},
   "source": [
    "Обучим логистическую регрессию с l1 регуляризацией, она нам покажет какие слова не влияют на предсказание модели."
   ]
  },
  {
   "cell_type": "code",
   "execution_count": 3,
   "metadata": {},
   "outputs": [],
   "source": [
    "mystem = Mystem()\n",
    "STOP_WORDS = set(stopwords.words('russian'))\n",
    "\n",
    "def preprocessor(text):\n",
    "    text = text.lower()\n",
    "    regex = re.compile('[^а-я А-ЯЁё]')\n",
    "    text = regex.sub(' ', text)\n",
    "    text = ' '.join(mystem.lemmatize(text))\n",
    "    text = ' '.join([word for word in text.split() if word not in STOP_WORDS])\n",
    "    return text\n",
    "\n",
    "vectorizer = CountVectorizer(\n",
    "    preprocessor=preprocessor,\n",
    ")\n",
    "\n",
    "vectorizer.fit(X.release)\n",
    "\n",
    "bow = vectorizer.transform(X.release)"
   ]
  },
  {
   "cell_type": "code",
   "execution_count": 4,
   "metadata": {},
   "outputs": [
    {
     "name": "stdout",
     "output_type": "stream",
     "text": [
      "Лучшая модель - LogisticRegression(C=8.965620689655173, penalty='l1', solver='liblinear')\n",
      "ROC-AUC = 0.7688200434195857\n"
     ]
    }
   ],
   "source": [
    "auc = Parallel(n_jobs=-1)(delayed(\n",
    "    lambda c: calc_metrics(bow, y, LogisticRegression, name='bow l1 only release', plot=False, solver='liblinear', penalty='l1', C=c.item())\n",
    ")(c) for c in np.linspace(0.001, 10, 30))\n",
    "\n",
    "roc_auc, best_model = max(auc)\n",
    "\n",
    "print(f\"Лучшая модель - {best_model}\")\n",
    "print(f\"ROC-AUC = {roc_auc}\")"
   ]
  },
  {
   "cell_type": "markdown",
   "metadata": {},
   "source": [
    "Рассмотрим подробнее лучшую модель."
   ]
  },
  {
   "cell_type": "code",
   "execution_count": 5,
   "metadata": {},
   "outputs": [
    {
     "name": "stdout",
     "output_type": "stream",
     "text": [
      "              precision    recall  f1-score   support\n",
      "\n",
      "        -1.0       0.70      0.70      0.70        23\n",
      "         0.0       0.54      0.58      0.56        26\n",
      "         1.0       0.71      0.63      0.67        19\n",
      "\n",
      "    accuracy                           0.63        68\n",
      "   macro avg       0.65      0.63      0.64        68\n",
      "weighted avg       0.64      0.63      0.63        68\n",
      "\n"
     ]
    },
    {
     "data": {
      "image/png": "[encoded data removed]",
      "text/plain": [
       "<Figure size 640x480 with 2 Axes>"
      ]
     },
     "metadata": {},
     "output_type": "display_data"
    },
    {
     "data": {
      "text/html": [
       "<div>\n",
       "<style scoped>\n",
       "    .dataframe tbody tr th:only-of-type {\n",
       "        vertical-align: middle;\n",
       "    }\n",
       "\n",
       "    .dataframe tbody tr th {\n",
       "        vertical-align: top;\n",
       "    }\n",
       "\n",
       "    .dataframe thead th {\n",
       "        text-align: right;\n",
       "    }\n",
       "</style>\n",
       "<table border=\"1\" class=\"dataframe\">\n",
       "  <thead>\n",
       "    <tr style=\"text-align: right;\">\n",
       "      <th></th>\n",
       "      <th>accuracy</th>\n",
       "      <th>f1</th>\n",
       "      <th>precision</th>\n",
       "      <th>recall</th>\n",
       "      <th>roc_auc_ovr</th>\n",
       "      <th>roc_auc_ovo</th>\n",
       "    </tr>\n",
       "  </thead>\n",
       "  <tbody>\n",
       "    <tr>\n",
       "      <th>min_baseline</th>\n",
       "      <td>0.659794</td>\n",
       "      <td>0.664127</td>\n",
       "      <td>0.664127</td>\n",
       "      <td>0.664127</td>\n",
       "      <td>0.742845</td>\n",
       "      <td>0.748095</td>\n",
       "    </tr>\n",
       "    <tr>\n",
       "      <th>bow l1 only release</th>\n",
       "      <td>0.632353</td>\n",
       "      <td>0.639291</td>\n",
       "      <td>0.645750</td>\n",
       "      <td>0.634718</td>\n",
       "      <td>0.755293</td>\n",
       "      <td>0.761178</td>\n",
       "    </tr>\n",
       "  </tbody>\n",
       "</table>\n",
       "</div>"
      ],
      "text/plain": [
       "                     accuracy        f1  precision    recall  roc_auc_ovr  \\\n",
       "min_baseline         0.659794  0.664127   0.664127  0.664127     0.742845   \n",
       "bow l1 only release  0.632353  0.639291   0.645750  0.634718     0.755293   \n",
       "\n",
       "                     roc_auc_ovo  \n",
       "min_baseline            0.748095  \n",
       "bow l1 only release     0.761178  "
      ]
     },
     "execution_count": 5,
     "metadata": {},
     "output_type": "execute_result"
    }
   ],
   "source": [
    "metric, model = calc_metrics(bow, y, LogisticRegression, name='bow l1 only release', **best_model.get_params())\n",
    "metrics = pd.concat([metrics, metric], axis=0)\n",
    "metrics"
   ]
  },
  {
   "cell_type": "markdown",
   "metadata": {},
   "source": [
    "Мы немного улучшили минимальный бейзлайн, подберем гиперпараметры для elasticnet, и только на тех словах, веса при которых не занулила прошлая модель. Мы таким образом заглянем в тестовую выборку, но скорее всего это будет не критично. Таким образом расширим множество стоп слов, словами которые не важны для прошлой модели."
   ]
  },
  {
   "cell_type": "code",
   "execution_count": 6,
   "metadata": {},
   "outputs": [],
   "source": [
    "STOP_WORDS |= set(vectorizer.get_feature_names_out()[np.all(model.coef_ == 0, axis=0)])"
   ]
  },
  {
   "cell_type": "code",
   "execution_count": 7,
   "metadata": {},
   "outputs": [],
   "source": [
    "vectorizer = CountVectorizer(\n",
    "    preprocessor=preprocessor,\n",
    ")\n",
    "\n",
    "vectorizer.fit(X.release)\n",
    "\n",
    "bow = vectorizer.transform(X.release)"
   ]
  },
  {
   "cell_type": "code",
   "execution_count": 8,
   "metadata": {},
   "outputs": [
    {
     "name": "stdout",
     "output_type": "stream",
     "text": [
      "Лучшая модель - LogisticRegression(C=3.422222222222222, l1_ratio=0.001, max_iter=10000,\n",
      "                   penalty='elasticnet', solver='saga')\n",
      "ROC-AUC = 0.8405650413659567\n"
     ]
    }
   ],
   "source": [
    "auc = Parallel(n_jobs=-1)(delayed(\n",
    "    lambda c, l1_ratio: calc_metrics(\n",
    "        bow, y, \n",
    "        LogisticRegression,\n",
    "        name='bow l2', \n",
    "        plot=False, \n",
    "        solver='saga', \n",
    "        penalty='elasticnet', \n",
    "        C=c, \n",
    "        max_iter=10000, \n",
    "        l1_ratio=l1_ratio\n",
    "    )\n",
    ")(c, l1_ratio) for c in np.linspace(0.1, 30, 10) for l1_ratio in np.logspace(-3, 0, 6))\n",
    "    \n",
    "roc_auc, best_model = max(auc, key=lambda x: x[0])\n",
    "\n",
    "print(f\"Лучшая модель - {best_model}\")\n",
    "print(f\"ROC-AUC = {roc_auc}\")"
   ]
  },
  {
   "cell_type": "markdown",
   "metadata": {},
   "source": [
    "Обучим лучшую модель и посмотрим ее оценки качества подробнее."
   ]
  },
  {
   "cell_type": "code",
   "execution_count": 9,
   "metadata": {},
   "outputs": [
    {
     "name": "stdout",
     "output_type": "stream",
     "text": [
      "              precision    recall  f1-score   support\n",
      "\n",
      "        -1.0       0.77      0.74      0.76        23\n",
      "         0.0       0.57      0.65      0.61        26\n",
      "         1.0       0.75      0.63      0.69        19\n",
      "\n",
      "    accuracy                           0.68        68\n",
      "   macro avg       0.70      0.67      0.68        68\n",
      "weighted avg       0.69      0.68      0.68        68\n",
      "\n"
     ]
    },
    {
     "data": {
      "image/png": "[encoded data removed]",
      "text/plain": [
       "<Figure size 640x480 with 2 Axes>"
      ]
     },
     "metadata": {},
     "output_type": "display_data"
    },
    {
     "data": {
      "text/html": [
       "<div>\n",
       "<style scoped>\n",
       "    .dataframe tbody tr th:only-of-type {\n",
       "        vertical-align: middle;\n",
       "    }\n",
       "\n",
       "    .dataframe tbody tr th {\n",
       "        vertical-align: top;\n",
       "    }\n",
       "\n",
       "    .dataframe thead th {\n",
       "        text-align: right;\n",
       "    }\n",
       "</style>\n",
       "<table border=\"1\" class=\"dataframe\">\n",
       "  <thead>\n",
       "    <tr style=\"text-align: right;\">\n",
       "      <th></th>\n",
       "      <th>accuracy</th>\n",
       "      <th>f1</th>\n",
       "      <th>precision</th>\n",
       "      <th>recall</th>\n",
       "      <th>roc_auc_ovr</th>\n",
       "      <th>roc_auc_ovo</th>\n",
       "    </tr>\n",
       "  </thead>\n",
       "  <tbody>\n",
       "    <tr>\n",
       "      <th>min_baseline</th>\n",
       "      <td>0.659794</td>\n",
       "      <td>0.664127</td>\n",
       "      <td>0.664127</td>\n",
       "      <td>0.664127</td>\n",
       "      <td>0.742845</td>\n",
       "      <td>0.748095</td>\n",
       "    </tr>\n",
       "    <tr>\n",
       "      <th>bow l1 only release</th>\n",
       "      <td>0.632353</td>\n",
       "      <td>0.639291</td>\n",
       "      <td>0.645750</td>\n",
       "      <td>0.634718</td>\n",
       "      <td>0.755293</td>\n",
       "      <td>0.761178</td>\n",
       "    </tr>\n",
       "    <tr>\n",
       "      <th>bow elasticnet</th>\n",
       "      <td>0.676471</td>\n",
       "      <td>0.682804</td>\n",
       "      <td>0.696465</td>\n",
       "      <td>0.674852</td>\n",
       "      <td>0.837479</td>\n",
       "      <td>0.840521</td>\n",
       "    </tr>\n",
       "  </tbody>\n",
       "</table>\n",
       "</div>"
      ],
      "text/plain": [
       "                     accuracy        f1  precision    recall  roc_auc_ovr  \\\n",
       "min_baseline         0.659794  0.664127   0.664127  0.664127     0.742845   \n",
       "bow l1 only release  0.632353  0.639291   0.645750  0.634718     0.755293   \n",
       "bow elasticnet       0.676471  0.682804   0.696465  0.674852     0.837479   \n",
       "\n",
       "                     roc_auc_ovo  \n",
       "min_baseline            0.748095  \n",
       "bow l1 only release     0.761178  \n",
       "bow elasticnet          0.840521  "
      ]
     },
     "execution_count": 9,
     "metadata": {},
     "output_type": "execute_result"
    }
   ],
   "source": [
    "metric, _ = calc_metrics(bow, y, LogisticRegression, name='bow elasticnet', **best_model.get_params())\n",
    "metrics = pd.concat((metrics, metric))\n",
    "metrics"
   ]
  },
  {
   "cell_type": "markdown",
   "metadata": {},
   "source": [
    "Качество немного подросло. Попробуем обучить мешок слов не только на пресс-релизах, но и на названиях."
   ]
  },
  {
   "cell_type": "code",
   "execution_count": 10,
   "metadata": {},
   "outputs": [],
   "source": [
    "vectorizer_title = CountVectorizer(\n",
    "    preprocessor=preprocessor,\n",
    ")\n",
    "\n",
    "vectorizer_title.fit(X.title)\n",
    "\n",
    "bow_title = vectorizer_title.transform(X.title)"
   ]
  },
  {
   "cell_type": "code",
   "execution_count": 11,
   "metadata": {},
   "outputs": [],
   "source": [
    "bow_title_release = np.concatenate((bow.toarray(), bow_title.toarray()), axis=1)"
   ]
  },
  {
   "cell_type": "markdown",
   "metadata": {},
   "source": [
    "Подберем гиперпараметры для модели обучаемой на названии релиза и самом релизе."
   ]
  },
  {
   "cell_type": "code",
   "execution_count": 12,
   "metadata": {},
   "outputs": [
    {
     "name": "stdout",
     "output_type": "stream",
     "text": [
      "Лучшая модель - LogisticRegression(C=3.422222222222222, l1_ratio=0.001, max_iter=10000,\n",
      "                   penalty='elasticnet', solver='saga')\n",
      "ROC-AUC = 0.8394208766062313\n"
     ]
    }
   ],
   "source": [
    "auc = Parallel(n_jobs=-1)(delayed(\n",
    "    lambda c, l1_ratio: calc_metrics(\n",
    "        bow_title_release, y,\n",
    "        LogisticRegression, \n",
    "        name='bow', \n",
    "        plot=False, \n",
    "        solver='saga', \n",
    "        penalty='elasticnet', \n",
    "        C=c, \n",
    "        max_iter=10000, \n",
    "        l1_ratio=l1_ratio\n",
    "    )\n",
    ")(c, l1_ratio) for c in np.linspace(0.1, 30, 10) for l1_ratio in np.logspace(-3, 0, 6))\n",
    "\n",
    "roc_auc, best_model = max(auc, key=lambda x: x[0])\n",
    "\n",
    "print(f\"Лучшая модель - {best_model}\")\n",
    "print(f\"ROC-AUC = {roc_auc}\")"
   ]
  },
  {
   "cell_type": "markdown",
   "metadata": {},
   "source": [
    "Посмотрим на метрики модели и добавим их в таблицу."
   ]
  },
  {
   "cell_type": "code",
   "execution_count": 13,
   "metadata": {},
   "outputs": [
    {
     "name": "stdout",
     "output_type": "stream",
     "text": [
      "              precision    recall  f1-score   support\n",
      "\n",
      "        -1.0       0.77      0.74      0.76        23\n",
      "         0.0       0.55      0.65      0.60        26\n",
      "         1.0       0.73      0.58      0.65        19\n",
      "\n",
      "    accuracy                           0.66        68\n",
      "   macro avg       0.68      0.66      0.67        68\n",
      "weighted avg       0.68      0.66      0.66        68\n",
      "\n"
     ]
    },
    {
     "data": {
      "image/png": "[encoded data removed]",
      "text/plain": [
       "<Figure size 640x480 with 2 Axes>"
      ]
     },
     "metadata": {},
     "output_type": "display_data"
    },
    {
     "data": {
      "text/html": [
       "<div>\n",
       "<style scoped>\n",
       "    .dataframe tbody tr th:only-of-type {\n",
       "        vertical-align: middle;\n",
       "    }\n",
       "\n",
       "    .dataframe tbody tr th {\n",
       "        vertical-align: top;\n",
       "    }\n",
       "\n",
       "    .dataframe thead th {\n",
       "        text-align: right;\n",
       "    }\n",
       "</style>\n",
       "<table border=\"1\" class=\"dataframe\">\n",
       "  <thead>\n",
       "    <tr style=\"text-align: right;\">\n",
       "      <th></th>\n",
       "      <th>accuracy</th>\n",
       "      <th>f1</th>\n",
       "      <th>precision</th>\n",
       "      <th>recall</th>\n",
       "      <th>roc_auc_ovr</th>\n",
       "      <th>roc_auc_ovo</th>\n",
       "    </tr>\n",
       "  </thead>\n",
       "  <tbody>\n",
       "    <tr>\n",
       "      <th>min_baseline</th>\n",
       "      <td>0.659794</td>\n",
       "      <td>0.664127</td>\n",
       "      <td>0.664127</td>\n",
       "      <td>0.664127</td>\n",
       "      <td>0.742845</td>\n",
       "      <td>0.748095</td>\n",
       "    </tr>\n",
       "    <tr>\n",
       "      <th>bow l1 only release</th>\n",
       "      <td>0.632353</td>\n",
       "      <td>0.639291</td>\n",
       "      <td>0.645750</td>\n",
       "      <td>0.634718</td>\n",
       "      <td>0.755293</td>\n",
       "      <td>0.761178</td>\n",
       "    </tr>\n",
       "    <tr>\n",
       "      <th>bow elasticnet</th>\n",
       "      <td>0.676471</td>\n",
       "      <td>0.682804</td>\n",
       "      <td>0.696465</td>\n",
       "      <td>0.674852</td>\n",
       "      <td>0.837479</td>\n",
       "      <td>0.840521</td>\n",
       "    </tr>\n",
       "    <tr>\n",
       "      <th>bow release title</th>\n",
       "      <td>0.661765</td>\n",
       "      <td>0.666369</td>\n",
       "      <td>0.684816</td>\n",
       "      <td>0.657308</td>\n",
       "      <td>0.834681</td>\n",
       "      <td>0.837807</td>\n",
       "    </tr>\n",
       "  </tbody>\n",
       "</table>\n",
       "</div>"
      ],
      "text/plain": [
       "                     accuracy        f1  precision    recall  roc_auc_ovr  \\\n",
       "min_baseline         0.659794  0.664127   0.664127  0.664127     0.742845   \n",
       "bow l1 only release  0.632353  0.639291   0.645750  0.634718     0.755293   \n",
       "bow elasticnet       0.676471  0.682804   0.696465  0.674852     0.837479   \n",
       "bow release title    0.661765  0.666369   0.684816  0.657308     0.834681   \n",
       "\n",
       "                     roc_auc_ovo  \n",
       "min_baseline            0.748095  \n",
       "bow l1 only release     0.761178  \n",
       "bow elasticnet          0.840521  \n",
       "bow release title       0.837807  "
      ]
     },
     "execution_count": 13,
     "metadata": {},
     "output_type": "execute_result"
    }
   ],
   "source": [
    "metric, _ = calc_metrics(\n",
    "    bow_title_release, y, \n",
    "    LogisticRegression, \n",
    "    name='bow release title', \n",
    "    **best_model.get_params()\n",
    ")\n",
    "metrics = pd.concat([metrics, metric])\n",
    "metrics"
   ]
  },
  {
   "cell_type": "markdown",
   "metadata": {},
   "source": [
    "Добавление мешка слов по названию не улучшило нашу модель, а только усложнило ее. Попробуем к мешку слов по текстам релизов, с самыми важными словами добавим количественные признаки."
   ]
  },
  {
   "cell_type": "code",
   "execution_count": 14,
   "metadata": {},
   "outputs": [],
   "source": [
    "num_columns = ['inflation', 'rate', 'usd', 'usd_cur_change_relative']\n",
    "\n",
    "scaler = StandardScaler()\n",
    "scaler.fit(X[num_columns])\n",
    "X[num_columns] = scaler.transform(X[num_columns])"
   ]
  },
  {
   "cell_type": "code",
   "execution_count": 15,
   "metadata": {},
   "outputs": [],
   "source": [
    "all_data = np.concatenate((bow_title_release, X[num_columns].values), axis=1)"
   ]
  },
  {
   "cell_type": "code",
   "execution_count": 16,
   "metadata": {},
   "outputs": [
    {
     "name": "stdout",
     "output_type": "stream",
     "text": [
      "Лучшая модель - LogisticRegression(C=16.711111111111112, l1_ratio=0.001, max_iter=10000,\n",
      "                   penalty='elasticnet', solver='saga')\n",
      "ROC-AUC = 0.8373232412134014\n"
     ]
    }
   ],
   "source": [
    "auc = Parallel(n_jobs=-1)(delayed(\n",
    "    lambda c, l1_ratio: calc_metrics(\n",
    "        all_data, y,\n",
    "        LogisticRegression,\n",
    "        name='bow all data', \n",
    "        plot=False, \n",
    "        solver='saga', \n",
    "        penalty='elasticnet', \n",
    "        C=c, \n",
    "        max_iter=10000, \n",
    "        l1_ratio=l1_ratio\n",
    "    )\n",
    ")(c, l1_ratio) for c in np.linspace(0.1, 30, 10) for l1_ratio in np.logspace(-3, 0, 6))\n",
    "\n",
    "roc_auc, best_model = max(auc, key=lambda x: x[0])\n",
    "\n",
    "print(f\"Лучшая модель - {best_model}\")\n",
    "print(f\"ROC-AUC = {roc_auc}\")"
   ]
  },
  {
   "cell_type": "code",
   "execution_count": 17,
   "metadata": {},
   "outputs": [
    {
     "name": "stdout",
     "output_type": "stream",
     "text": [
      "              precision    recall  f1-score   support\n",
      "\n",
      "        -1.0       0.75      0.78      0.77        23\n",
      "         0.0       0.57      0.62      0.59        26\n",
      "         1.0       0.75      0.63      0.69        19\n",
      "\n",
      "    accuracy                           0.68        68\n",
      "   macro avg       0.69      0.68      0.68        68\n",
      "weighted avg       0.68      0.68      0.68        68\n",
      "\n"
     ]
    },
    {
     "data": {
      "image/png": "[encoded data removed]",
      "text/plain": [
       "<Figure size 640x480 with 2 Axes>"
      ]
     },
     "metadata": {},
     "output_type": "display_data"
    },
    {
     "data": {
      "text/html": [
       "<div>\n",
       "<style scoped>\n",
       "    .dataframe tbody tr th:only-of-type {\n",
       "        vertical-align: middle;\n",
       "    }\n",
       "\n",
       "    .dataframe tbody tr th {\n",
       "        vertical-align: top;\n",
       "    }\n",
       "\n",
       "    .dataframe thead th {\n",
       "        text-align: right;\n",
       "    }\n",
       "</style>\n",
       "<table border=\"1\" class=\"dataframe\">\n",
       "  <thead>\n",
       "    <tr style=\"text-align: right;\">\n",
       "      <th></th>\n",
       "      <th>accuracy</th>\n",
       "      <th>f1</th>\n",
       "      <th>precision</th>\n",
       "      <th>recall</th>\n",
       "      <th>roc_auc_ovr</th>\n",
       "      <th>roc_auc_ovo</th>\n",
       "    </tr>\n",
       "  </thead>\n",
       "  <tbody>\n",
       "    <tr>\n",
       "      <th>min_baseline</th>\n",
       "      <td>0.659794</td>\n",
       "      <td>0.664127</td>\n",
       "      <td>0.664127</td>\n",
       "      <td>0.664127</td>\n",
       "      <td>0.742845</td>\n",
       "      <td>0.748095</td>\n",
       "    </tr>\n",
       "    <tr>\n",
       "      <th>bow l1 only release</th>\n",
       "      <td>0.632353</td>\n",
       "      <td>0.639291</td>\n",
       "      <td>0.645750</td>\n",
       "      <td>0.634718</td>\n",
       "      <td>0.755293</td>\n",
       "      <td>0.761178</td>\n",
       "    </tr>\n",
       "    <tr>\n",
       "      <th>bow elasticnet</th>\n",
       "      <td>0.676471</td>\n",
       "      <td>0.682804</td>\n",
       "      <td>0.696465</td>\n",
       "      <td>0.674852</td>\n",
       "      <td>0.837479</td>\n",
       "      <td>0.840521</td>\n",
       "    </tr>\n",
       "    <tr>\n",
       "      <th>bow release title</th>\n",
       "      <td>0.661765</td>\n",
       "      <td>0.666369</td>\n",
       "      <td>0.684816</td>\n",
       "      <td>0.657308</td>\n",
       "      <td>0.834681</td>\n",
       "      <td>0.837807</td>\n",
       "    </tr>\n",
       "    <tr>\n",
       "      <th>bow release all num</th>\n",
       "      <td>0.676471</td>\n",
       "      <td>0.681421</td>\n",
       "      <td>0.690476</td>\n",
       "      <td>0.676524</td>\n",
       "      <td>0.833032</td>\n",
       "      <td>0.836091</td>\n",
       "    </tr>\n",
       "  </tbody>\n",
       "</table>\n",
       "</div>"
      ],
      "text/plain": [
       "                     accuracy        f1  precision    recall  roc_auc_ovr  \\\n",
       "min_baseline         0.659794  0.664127   0.664127  0.664127     0.742845   \n",
       "bow l1 only release  0.632353  0.639291   0.645750  0.634718     0.755293   \n",
       "bow elasticnet       0.676471  0.682804   0.696465  0.674852     0.837479   \n",
       "bow release title    0.661765  0.666369   0.684816  0.657308     0.834681   \n",
       "bow release all num  0.676471  0.681421   0.690476  0.676524     0.833032   \n",
       "\n",
       "                     roc_auc_ovo  \n",
       "min_baseline            0.748095  \n",
       "bow l1 only release     0.761178  \n",
       "bow elasticnet          0.840521  \n",
       "bow release title       0.837807  \n",
       "bow release all num     0.836091  "
      ]
     },
     "execution_count": 17,
     "metadata": {},
     "output_type": "execute_result"
    }
   ],
   "source": [
    "metric, _ = calc_metrics(\n",
    "    all_data, y, \n",
    "    LogisticRegression, \n",
    "    name='bow release all num', \n",
    "    **best_model.get_params()\n",
    "    )\n",
    "\n",
    "metrics = pd.concat([metrics, metric])\n",
    "metrics"
   ]
  },
  {
   "cell_type": "markdown",
   "metadata": {},
   "source": [
    "Добавление количественных переменных только ухудшило нашу модель. Попробуем на мешке слов обученный на релизах обучить SVC."
   ]
  },
  {
   "cell_type": "code",
   "execution_count": 18,
   "metadata": {},
   "outputs": [
    {
     "name": "stdout",
     "output_type": "stream",
     "text": [
      "Лучшая модель - SVC(C=10, kernel='linear', probability=True)\n",
      "ROC-AUC = 0.7976001877603709\n"
     ]
    }
   ],
   "source": [
    "auc = Parallel(n_jobs=-1)(delayed(\n",
    "    lambda c, kernel: calc_metrics(\n",
    "        bow, y,\n",
    "        SVC,\n",
    "        name='bow svc only release', \n",
    "        kernel=kernel,\n",
    "        C=c,\n",
    "        plot=False, \n",
    "        probability=True,\n",
    "    )\n",
    ")(c, kernel) for c in [0.01, 0.05, 0.1, 0.5, 1, 3, 5, 7, 10] for kernel in ['linear', 'poly', 'rbf', 'sigmoid'])\n",
    "\n",
    "roc_auc, best_model = max(auc, key=lambda x: x[0])\n",
    "\n",
    "print(f\"Лучшая модель - {best_model}\")\n",
    "print(f\"ROC-AUC = {roc_auc}\")"
   ]
  },
  {
   "cell_type": "code",
   "execution_count": 19,
   "metadata": {},
   "outputs": [
    {
     "name": "stdout",
     "output_type": "stream",
     "text": [
      "              precision    recall  f1-score   support\n",
      "\n",
      "        -1.0       0.71      0.65      0.68        23\n",
      "         0.0       0.57      0.62      0.59        26\n",
      "         1.0       0.63      0.63      0.63        19\n",
      "\n",
      "    accuracy                           0.63        68\n",
      "   macro avg       0.64      0.63      0.64        68\n",
      "weighted avg       0.64      0.63      0.63        68\n",
      "\n"
     ]
    },
    {
     "data": {
      "image/png": "[encoded data removed]",
      "text/plain": [
       "<Figure size 640x480 with 2 Axes>"
      ]
     },
     "metadata": {},
     "output_type": "display_data"
    },
    {
     "data": {
      "text/html": [
       "<div>\n",
       "<style scoped>\n",
       "    .dataframe tbody tr th:only-of-type {\n",
       "        vertical-align: middle;\n",
       "    }\n",
       "\n",
       "    .dataframe tbody tr th {\n",
       "        vertical-align: top;\n",
       "    }\n",
       "\n",
       "    .dataframe thead th {\n",
       "        text-align: right;\n",
       "    }\n",
       "</style>\n",
       "<table border=\"1\" class=\"dataframe\">\n",
       "  <thead>\n",
       "    <tr style=\"text-align: right;\">\n",
       "      <th></th>\n",
       "      <th>accuracy</th>\n",
       "      <th>f1</th>\n",
       "      <th>precision</th>\n",
       "      <th>recall</th>\n",
       "      <th>roc_auc_ovr</th>\n",
       "      <th>roc_auc_ovo</th>\n",
       "    </tr>\n",
       "  </thead>\n",
       "  <tbody>\n",
       "    <tr>\n",
       "      <th>min_baseline</th>\n",
       "      <td>0.659794</td>\n",
       "      <td>0.664127</td>\n",
       "      <td>0.664127</td>\n",
       "      <td>0.664127</td>\n",
       "      <td>0.742845</td>\n",
       "      <td>0.748095</td>\n",
       "    </tr>\n",
       "    <tr>\n",
       "      <th>bow l1 only release</th>\n",
       "      <td>0.632353</td>\n",
       "      <td>0.639291</td>\n",
       "      <td>0.645750</td>\n",
       "      <td>0.634718</td>\n",
       "      <td>0.755293</td>\n",
       "      <td>0.761178</td>\n",
       "    </tr>\n",
       "    <tr>\n",
       "      <th>bow elasticnet</th>\n",
       "      <td>0.676471</td>\n",
       "      <td>0.682804</td>\n",
       "      <td>0.696465</td>\n",
       "      <td>0.674852</td>\n",
       "      <td>0.837479</td>\n",
       "      <td>0.840521</td>\n",
       "    </tr>\n",
       "    <tr>\n",
       "      <th>bow release title</th>\n",
       "      <td>0.661765</td>\n",
       "      <td>0.666369</td>\n",
       "      <td>0.684816</td>\n",
       "      <td>0.657308</td>\n",
       "      <td>0.834681</td>\n",
       "      <td>0.837807</td>\n",
       "    </tr>\n",
       "    <tr>\n",
       "      <th>bow release all num</th>\n",
       "      <td>0.676471</td>\n",
       "      <td>0.681421</td>\n",
       "      <td>0.690476</td>\n",
       "      <td>0.676524</td>\n",
       "      <td>0.833032</td>\n",
       "      <td>0.836091</td>\n",
       "    </tr>\n",
       "    <tr>\n",
       "      <th>bow svc only release</th>\n",
       "      <td>0.632353</td>\n",
       "      <td>0.635330</td>\n",
       "      <td>0.639098</td>\n",
       "      <td>0.633046</td>\n",
       "      <td>0.773909</td>\n",
       "      <td>0.777299</td>\n",
       "    </tr>\n",
       "  </tbody>\n",
       "</table>\n",
       "</div>"
      ],
      "text/plain": [
       "                      accuracy        f1  precision    recall  roc_auc_ovr  \\\n",
       "min_baseline          0.659794  0.664127   0.664127  0.664127     0.742845   \n",
       "bow l1 only release   0.632353  0.639291   0.645750  0.634718     0.755293   \n",
       "bow elasticnet        0.676471  0.682804   0.696465  0.674852     0.837479   \n",
       "bow release title     0.661765  0.666369   0.684816  0.657308     0.834681   \n",
       "bow release all num   0.676471  0.681421   0.690476  0.676524     0.833032   \n",
       "bow svc only release  0.632353  0.635330   0.639098  0.633046     0.773909   \n",
       "\n",
       "                      roc_auc_ovo  \n",
       "min_baseline             0.748095  \n",
       "bow l1 only release      0.761178  \n",
       "bow elasticnet           0.840521  \n",
       "bow release title        0.837807  \n",
       "bow release all num      0.836091  \n",
       "bow svc only release     0.777299  "
      ]
     },
     "execution_count": 19,
     "metadata": {},
     "output_type": "execute_result"
    }
   ],
   "source": [
    "metric, _ = calc_metrics(\n",
    "    bow, y, \n",
    "    SVC, \n",
    "    name='bow svc only release', \n",
    "    **best_model.get_params()\n",
    "    )\n",
    "\n",
    "metrics = pd.concat([metrics, metric])\n",
    "metrics"
   ]
  },
  {
   "cell_type": "markdown",
   "metadata": {},
   "source": [
    "Метод опорных векторов показал качество хуже, чем логистическая регрессия. Сохраним результаты экспериментов."
   ]
  },
  {
   "cell_type": "code",
   "execution_count": 20,
   "metadata": {},
   "outputs": [],
   "source": [
    "metrics.to_csv('metrics.csv')"
   ]
  }
 ],
 "metadata": {
  "kernelspec": {
   "display_name": "ml_yp",
   "language": "python",
   "name": "python3"
  },
  "language_info": {
   "codemirror_mode": {
    "name": "ipython",
    "version": 3
   },
   "file_extension": ".py",
   "mimetype": "text/x-python",
   "name": "python",
   "nbconvert_exporter": "python",
   "pygments_lexer": "ipython3",
   "version": "3.12.3"
  }
 },
 "nbformat": 4,
 "nbformat_minor": 2
}
