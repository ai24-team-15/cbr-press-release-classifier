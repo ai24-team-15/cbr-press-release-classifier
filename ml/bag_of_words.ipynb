{
 "cells": [
  {
   "cell_type": "code",
   "execution_count": 1,
   "metadata": {},
   "outputs": [],
   "source": [
    "import re\n",
    "\n",
    "import numpy as np\n",
    "import pandas as pd\n",
    "from tqdm import tqdm\n",
    "from pymystem3 import Mystem\n",
    "from nltk.corpus import stopwords\n",
    "from sklearn.preprocessing import StandardScaler\n",
    "from sklearn.feature_extraction.text import CountVectorizer\n",
    "from sklearn.linear_model import LogisticRegression\n",
    "from sklearn.svm import SVC\n",
    "\n",
    "from utils import calc_metrics"
   ]
  },
  {
   "cell_type": "code",
   "execution_count": 2,
   "metadata": {},
   "outputs": [],
   "source": [
    "X = pd.read_csv('data/x.csv', index_col='date')\n",
    "y = pd.read_csv('data/y.csv', index_col='date').iloc[:, 0]\n",
    "\n",
    "metrics = pd.read_csv('metrics.csv', index_col=0)"
   ]
  },
  {
   "cell_type": "markdown",
   "metadata": {},
   "source": [
    "### Мешок слов плюс линейная модель"
   ]
  },
  {
   "cell_type": "markdown",
   "metadata": {},
   "source": [
    "Создадим функцию для тестирования наших моделей. Зададим начальный порог и будем обучать, модель на наблюдениях до порога, а тестировать на одном наблюдении после. Двигая порог протестируем нашу модель. И потом сравним с истинными ответами. Качество всех наших моделей будем записывать в табличку."
   ]
  },
  {
   "cell_type": "markdown",
   "metadata": {},
   "source": [
    "Обучим логистическую регрессию с l1 регуляризацией, она нам покажет какие слова не влияют на предсказание модели."
   ]
  },
  {
   "cell_type": "code",
   "execution_count": 3,
   "metadata": {},
   "outputs": [],
   "source": [
    "mystem = Mystem()\n",
    "STOP_WORDS = set(stopwords.words('russian'))\n",
    "\n",
    "def preprocessor(text):\n",
    "    text = text.lower()\n",
    "    regex = re.compile('[^а-я А-ЯЁё]')\n",
    "    text = regex.sub(' ', text)\n",
    "    text = ' '.join(mystem.lemmatize(text))\n",
    "    text = ' '.join([word for word in text.split() if word not in STOP_WORDS])\n",
    "    return text\n",
    "\n",
    "vectorizer = CountVectorizer(\n",
    "    preprocessor=preprocessor,\n",
    ")\n",
    "\n",
    "vectorizer.fit(X.release)\n",
    "\n",
    "bow = vectorizer.transform(X.release)"
   ]
  },
  {
   "cell_type": "code",
   "execution_count": 4,
   "metadata": {},
   "outputs": [
    {
     "name": "stderr",
     "output_type": "stream",
     "text": [
      "  0%|          | 0/30 [00:00<?, ?it/s]/home/father/Desktop/cbr-press-release-classifier/.venv/lib/python3.10/site-packages/sklearn/metrics/_classification.py:1531: UndefinedMetricWarning: Precision is ill-defined and being set to 0.0 in labels with no predicted samples. Use `zero_division` parameter to control this behavior.\n",
      "  _warn_prf(average, modifier, f\"{metric.capitalize()} is\", len(result))\n",
      "100%|██████████| 30/30 [00:12<00:00,  2.36it/s]"
     ]
    },
    {
     "name": "stdout",
     "output_type": "stream",
     "text": [
      "Лучшая модель - LogisticRegression(C=7.241655172413794, penalty='l1', solver='liblinear')\n",
      "ROC-AUC = 0.7739480040681413\n"
     ]
    },
    {
     "name": "stderr",
     "output_type": "stream",
     "text": [
      "\n"
     ]
    }
   ],
   "source": [
    "auc = []\n",
    "for c in tqdm(np.linspace(0.001, 10, 30)):\n",
    "    auc.append(calc_metrics(bow, y, LogisticRegression, name='bow l1 only release', plot=False, solver='liblinear', penalty='l1', C=c.item()))\n",
    "\n",
    "roc_auc, best_model = max(auc)\n",
    "\n",
    "print(f\"Лучшая модель - {best_model}\")\n",
    "print(f\"ROC-AUC = {roc_auc}\")"
   ]
  },
  {
   "cell_type": "markdown",
   "metadata": {},
   "source": [
    "Рассмотрим подробнее лучшую модель."
   ]
  },
  {
   "cell_type": "code",
   "execution_count": 5,
   "metadata": {},
   "outputs": [
    {
     "name": "stdout",
     "output_type": "stream",
     "text": [
      "              precision    recall  f1-score   support\n",
      "\n",
      "        -1.0       0.70      0.70      0.70        23\n",
      "         0.0       0.50      0.58      0.54        24\n",
      "         1.0       0.73      0.58      0.65        19\n",
      "\n",
      "    accuracy                           0.62        66\n",
      "   macro avg       0.64      0.62      0.63        66\n",
      "weighted avg       0.64      0.62      0.62        66\n",
      "\n"
     ]
    },
    {
     "data": {
      "image/png": "[encoded data removed]",
      "text/plain": [
       "<Figure size 640x480 with 2 Axes>"
      ]
     },
     "metadata": {},
     "output_type": "display_data"
    },
    {
     "data": {
      "text/html": [
       "<div>\n",
       "<style scoped>\n",
       "    .dataframe tbody tr th:only-of-type {\n",
       "        vertical-align: middle;\n",
       "    }\n",
       "\n",
       "    .dataframe tbody tr th {\n",
       "        vertical-align: top;\n",
       "    }\n",
       "\n",
       "    .dataframe thead th {\n",
       "        text-align: right;\n",
       "    }\n",
       "</style>\n",
       "<table border=\"1\" class=\"dataframe\">\n",
       "  <thead>\n",
       "    <tr style=\"text-align: right;\">\n",
       "      <th></th>\n",
       "      <th>accuracy</th>\n",
       "      <th>f1</th>\n",
       "      <th>precision</th>\n",
       "      <th>recall</th>\n",
       "      <th>roc_auc_ovr</th>\n",
       "      <th>roc_auc_ovo</th>\n",
       "    </tr>\n",
       "  </thead>\n",
       "  <tbody>\n",
       "    <tr>\n",
       "      <th>min_baseline</th>\n",
       "      <td>0.663158</td>\n",
       "      <td>0.667893</td>\n",
       "      <td>0.669919</td>\n",
       "      <td>0.666111</td>\n",
       "      <td>0.745010</td>\n",
       "      <td>0.749583</td>\n",
       "    </tr>\n",
       "    <tr>\n",
       "      <th>bow l1 only release</th>\n",
       "      <td>0.621212</td>\n",
       "      <td>0.627058</td>\n",
       "      <td>0.642995</td>\n",
       "      <td>0.619311</td>\n",
       "      <td>0.766783</td>\n",
       "      <td>0.770722</td>\n",
       "    </tr>\n",
       "  </tbody>\n",
       "</table>\n",
       "</div>"
      ],
      "text/plain": [
       "                     accuracy        f1  precision    recall  roc_auc_ovr  \\\n",
       "min_baseline         0.663158  0.667893   0.669919  0.666111     0.745010   \n",
       "bow l1 only release  0.621212  0.627058   0.642995  0.619311     0.766783   \n",
       "\n",
       "                     roc_auc_ovo  \n",
       "min_baseline            0.749583  \n",
       "bow l1 only release     0.770722  "
      ]
     },
     "execution_count": 5,
     "metadata": {},
     "output_type": "execute_result"
    }
   ],
   "source": [
    "metric, model = calc_metrics(bow, y, LogisticRegression, name='bow l1 only release', **best_model.get_params())\n",
    "metrics = pd.concat([metrics, metric], axis=0)\n",
    "metrics"
   ]
  },
  {
   "cell_type": "markdown",
   "metadata": {},
   "source": [
    "Мы немного улучшили минимальный бейзлайн, подберем гиперпараметры для elasticnet, и только на тех словах, веса при которых не занулила прошлая модель. Мы таким образом заглянем в тестовую выборку, но скорее всего это будет не критично. Таким образом расширим множество стоп слов, словами которые не важны для прошлой модели."
   ]
  },
  {
   "cell_type": "code",
   "execution_count": 6,
   "metadata": {},
   "outputs": [],
   "source": [
    "STOP_WORDS |= set(vectorizer.get_feature_names_out()[np.all(model.coef_ == 0, axis=0)])"
   ]
  },
  {
   "cell_type": "code",
   "execution_count": 7,
   "metadata": {},
   "outputs": [],
   "source": [
    "vectorizer = CountVectorizer(\n",
    "    preprocessor=preprocessor,\n",
    ")\n",
    "\n",
    "vectorizer.fit(X.release)\n",
    "\n",
    "bow = vectorizer.transform(X.release)"
   ]
  },
  {
   "cell_type": "code",
   "execution_count": 8,
   "metadata": {},
   "outputs": [
    {
     "name": "stderr",
     "output_type": "stream",
     "text": [
      "100%|██████████| 4/4 [01:50<00:00, 27.53s/it]"
     ]
    },
    {
     "name": "stdout",
     "output_type": "stream",
     "text": [
      "Лучшая модель - LogisticRegression(C=10, l1_ratio=0.1, max_iter=10000, penalty='elasticnet',\n",
      "                   solver='saga')\n",
      "ROC-AUC = 0.8738081617086193\n"
     ]
    },
    {
     "name": "stderr",
     "output_type": "stream",
     "text": [
      "\n"
     ]
    }
   ],
   "source": [
    "auc = []\n",
    "for c in tqdm([0.1, 1, 5, 10]):\n",
    "    for l1_ratio in [0.1, 0.5, 0.9]:\n",
    "        auc.append(\n",
    "            calc_metrics(\n",
    "                bow, y, \n",
    "                LogisticRegression,\n",
    "                name='bow l2', \n",
    "                plot=False, \n",
    "                solver='saga', \n",
    "                penalty='elasticnet', \n",
    "                C=c, \n",
    "                max_iter=10000, \n",
    "                # n_jobs=-1,\n",
    "                l1_ratio=l1_ratio\n",
    "            )\n",
    "        )\n",
    "    \n",
    "roc_auc, best_model = max(auc)\n",
    "\n",
    "print(f\"Лучшая модель - {best_model}\")\n",
    "print(f\"ROC-AUC = {roc_auc}\")"
   ]
  },
  {
   "cell_type": "markdown",
   "metadata": {},
   "source": [
    "Обучим лучшую модель и посмотрим ее оценки качества подробнее."
   ]
  },
  {
   "cell_type": "code",
   "execution_count": 9,
   "metadata": {},
   "outputs": [
    {
     "name": "stdout",
     "output_type": "stream",
     "text": [
      "              precision    recall  f1-score   support\n",
      "\n",
      "        -1.0       0.83      0.83      0.83        23\n",
      "         0.0       0.65      0.71      0.68        24\n",
      "         1.0       0.76      0.68      0.72        19\n",
      "\n",
      "    accuracy                           0.74        66\n",
      "   macro avg       0.75      0.74      0.74        66\n",
      "weighted avg       0.75      0.74      0.74        66\n",
      "\n"
     ]
    },
    {
     "data": {
      "image/png": "[encoded data removed]",
      "text/plain": [
       "<Figure size 640x480 with 2 Axes>"
      ]
     },
     "metadata": {},
     "output_type": "display_data"
    },
    {
     "data": {
      "text/html": [
       "<div>\n",
       "<style scoped>\n",
       "    .dataframe tbody tr th:only-of-type {\n",
       "        vertical-align: middle;\n",
       "    }\n",
       "\n",
       "    .dataframe tbody tr th {\n",
       "        vertical-align: top;\n",
       "    }\n",
       "\n",
       "    .dataframe thead th {\n",
       "        text-align: right;\n",
       "    }\n",
       "</style>\n",
       "<table border=\"1\" class=\"dataframe\">\n",
       "  <thead>\n",
       "    <tr style=\"text-align: right;\">\n",
       "      <th></th>\n",
       "      <th>accuracy</th>\n",
       "      <th>f1</th>\n",
       "      <th>precision</th>\n",
       "      <th>recall</th>\n",
       "      <th>roc_auc_ovr</th>\n",
       "      <th>roc_auc_ovo</th>\n",
       "    </tr>\n",
       "  </thead>\n",
       "  <tbody>\n",
       "    <tr>\n",
       "      <th>min_baseline</th>\n",
       "      <td>0.663158</td>\n",
       "      <td>0.667893</td>\n",
       "      <td>0.669919</td>\n",
       "      <td>0.666111</td>\n",
       "      <td>0.745010</td>\n",
       "      <td>0.749583</td>\n",
       "    </tr>\n",
       "    <tr>\n",
       "      <th>bow l1 only release</th>\n",
       "      <td>0.621212</td>\n",
       "      <td>0.627058</td>\n",
       "      <td>0.642995</td>\n",
       "      <td>0.619311</td>\n",
       "      <td>0.766783</td>\n",
       "      <td>0.770722</td>\n",
       "    </tr>\n",
       "    <tr>\n",
       "      <th>bow elasticnet</th>\n",
       "      <td>0.742424</td>\n",
       "      <td>0.742770</td>\n",
       "      <td>0.748213</td>\n",
       "      <td>0.739544</td>\n",
       "      <td>0.871739</td>\n",
       "      <td>0.873204</td>\n",
       "    </tr>\n",
       "  </tbody>\n",
       "</table>\n",
       "</div>"
      ],
      "text/plain": [
       "                     accuracy        f1  precision    recall  roc_auc_ovr  \\\n",
       "min_baseline         0.663158  0.667893   0.669919  0.666111     0.745010   \n",
       "bow l1 only release  0.621212  0.627058   0.642995  0.619311     0.766783   \n",
       "bow elasticnet       0.742424  0.742770   0.748213  0.739544     0.871739   \n",
       "\n",
       "                     roc_auc_ovo  \n",
       "min_baseline            0.749583  \n",
       "bow l1 only release     0.770722  \n",
       "bow elasticnet          0.873204  "
      ]
     },
     "execution_count": 9,
     "metadata": {},
     "output_type": "execute_result"
    }
   ],
   "source": [
    "metric, _ = calc_metrics(bow, y, LogisticRegression, name='bow elasticnet', **best_model.get_params())\n",
    "metrics = pd.concat((metrics, metric))\n",
    "metrics"
   ]
  },
  {
   "cell_type": "markdown",
   "metadata": {},
   "source": [
    "Качество немного подросло попробуем обучить мешок слов не только на пресс-релизах, но и на названиях."
   ]
  },
  {
   "cell_type": "code",
   "execution_count": 10,
   "metadata": {},
   "outputs": [],
   "source": [
    "vectorizer_title = CountVectorizer(\n",
    "    preprocessor=preprocessor,\n",
    ")\n",
    "\n",
    "vectorizer_title.fit(X.title)\n",
    "\n",
    "bow_title = vectorizer_title.transform(X.title)"
   ]
  },
  {
   "cell_type": "code",
   "execution_count": 11,
   "metadata": {},
   "outputs": [],
   "source": [
    "bow_title_release = np.concatenate((bow.toarray(), bow_title.toarray()), axis=1)"
   ]
  },
  {
   "cell_type": "markdown",
   "metadata": {},
   "source": [
    "Подберем гиперпараметры для модели обучаемой на названии релиза и самом релизе."
   ]
  },
  {
   "cell_type": "code",
   "execution_count": 12,
   "metadata": {},
   "outputs": [
    {
     "name": "stderr",
     "output_type": "stream",
     "text": [
      "100%|██████████| 4/4 [01:48<00:00, 27.20s/it]"
     ]
    },
    {
     "name": "stdout",
     "output_type": "stream",
     "text": [
      "Лучшая модель - LogisticRegression(C=10, l1_ratio=0.1, max_iter=10000, penalty='elasticnet',\n",
      "                   solver='saga')\n",
      "ROC-AUC = 0.8721713704551233\n"
     ]
    },
    {
     "name": "stderr",
     "output_type": "stream",
     "text": [
      "\n"
     ]
    }
   ],
   "source": [
    "auc = []\n",
    "for c in tqdm([0.1, 1, 5, 10]):\n",
    "    for l1_ratio in [0.1, 0.5, 0.9]:\n",
    "        auc.append(\n",
    "            calc_metrics(\n",
    "                bow_title_release, y,\n",
    "                LogisticRegression, \n",
    "                name='bow', \n",
    "                plot=False, \n",
    "                solver='saga', \n",
    "                penalty='elasticnet', \n",
    "                C=c, \n",
    "                max_iter=10000, \n",
    "                # n_jobs=-1,\n",
    "                l1_ratio=l1_ratio\n",
    "            )\n",
    "        )\n",
    "    \n",
    "roc_auc, best_model = max(auc)\n",
    "\n",
    "print(f\"Лучшая модель - {best_model}\")\n",
    "print(f\"ROC-AUC = {roc_auc}\")"
   ]
  },
  {
   "cell_type": "markdown",
   "metadata": {},
   "source": [
    "Посмотрим на метрики модели и добавим их в таблицу."
   ]
  },
  {
   "cell_type": "code",
   "execution_count": 13,
   "metadata": {},
   "outputs": [
    {
     "name": "stdout",
     "output_type": "stream",
     "text": [
      "              precision    recall  f1-score   support\n",
      "\n",
      "        -1.0       0.83      0.83      0.83        23\n",
      "         0.0       0.65      0.71      0.68        24\n",
      "         1.0       0.76      0.68      0.72        19\n",
      "\n",
      "    accuracy                           0.74        66\n",
      "   macro avg       0.75      0.74      0.74        66\n",
      "weighted avg       0.75      0.74      0.74        66\n",
      "\n"
     ]
    },
    {
     "data": {
      "image/png": "[encoded data removed]",
      "text/plain": [
       "<Figure size 640x480 with 2 Axes>"
      ]
     },
     "metadata": {},
     "output_type": "display_data"
    },
    {
     "data": {
      "text/html": [
       "<div>\n",
       "<style scoped>\n",
       "    .dataframe tbody tr th:only-of-type {\n",
       "        vertical-align: middle;\n",
       "    }\n",
       "\n",
       "    .dataframe tbody tr th {\n",
       "        vertical-align: top;\n",
       "    }\n",
       "\n",
       "    .dataframe thead th {\n",
       "        text-align: right;\n",
       "    }\n",
       "</style>\n",
       "<table border=\"1\" class=\"dataframe\">\n",
       "  <thead>\n",
       "    <tr style=\"text-align: right;\">\n",
       "      <th></th>\n",
       "      <th>accuracy</th>\n",
       "      <th>f1</th>\n",
       "      <th>precision</th>\n",
       "      <th>recall</th>\n",
       "      <th>roc_auc_ovr</th>\n",
       "      <th>roc_auc_ovo</th>\n",
       "    </tr>\n",
       "  </thead>\n",
       "  <tbody>\n",
       "    <tr>\n",
       "      <th>min_baseline</th>\n",
       "      <td>0.663158</td>\n",
       "      <td>0.667893</td>\n",
       "      <td>0.669919</td>\n",
       "      <td>0.666111</td>\n",
       "      <td>0.745010</td>\n",
       "      <td>0.749583</td>\n",
       "    </tr>\n",
       "    <tr>\n",
       "      <th>bow l1 only release</th>\n",
       "      <td>0.621212</td>\n",
       "      <td>0.627058</td>\n",
       "      <td>0.642995</td>\n",
       "      <td>0.619311</td>\n",
       "      <td>0.766783</td>\n",
       "      <td>0.770722</td>\n",
       "    </tr>\n",
       "    <tr>\n",
       "      <th>bow elasticnet</th>\n",
       "      <td>0.742424</td>\n",
       "      <td>0.742770</td>\n",
       "      <td>0.748213</td>\n",
       "      <td>0.739544</td>\n",
       "      <td>0.871739</td>\n",
       "      <td>0.873204</td>\n",
       "    </tr>\n",
       "    <tr>\n",
       "      <th>bow release title</th>\n",
       "      <td>0.742424</td>\n",
       "      <td>0.742770</td>\n",
       "      <td>0.748213</td>\n",
       "      <td>0.739544</td>\n",
       "      <td>0.869994</td>\n",
       "      <td>0.871488</td>\n",
       "    </tr>\n",
       "  </tbody>\n",
       "</table>\n",
       "</div>"
      ],
      "text/plain": [
       "                     accuracy        f1  precision    recall  roc_auc_ovr  \\\n",
       "min_baseline         0.663158  0.667893   0.669919  0.666111     0.745010   \n",
       "bow l1 only release  0.621212  0.627058   0.642995  0.619311     0.766783   \n",
       "bow elasticnet       0.742424  0.742770   0.748213  0.739544     0.871739   \n",
       "bow release title    0.742424  0.742770   0.748213  0.739544     0.869994   \n",
       "\n",
       "                     roc_auc_ovo  \n",
       "min_baseline            0.749583  \n",
       "bow l1 only release     0.770722  \n",
       "bow elasticnet          0.873204  \n",
       "bow release title       0.871488  "
      ]
     },
     "execution_count": 13,
     "metadata": {},
     "output_type": "execute_result"
    }
   ],
   "source": [
    "metric, _ = calc_metrics(\n",
    "    bow_title_release, y, \n",
    "    LogisticRegression, \n",
    "    name='bow release title', \n",
    "    **best_model.get_params()\n",
    ")\n",
    "metrics = pd.concat([metrics, metric])\n",
    "metrics"
   ]
  },
  {
   "cell_type": "markdown",
   "metadata": {},
   "source": [
    "Добавление мешка слов по названию не улучшило нашу модель, а только усложнило ее. Попробуем к мешку слов по текстам релизов, с самыми важными словами добавим количественные признаки."
   ]
  },
  {
   "cell_type": "code",
   "execution_count": 14,
   "metadata": {},
   "outputs": [],
   "source": [
    "num_columns = ['inflation', 'rate', 'usd', 'usd_cur_change_relative']\n",
    "\n",
    "scaler = StandardScaler()\n",
    "scaler.fit(X[num_columns])\n",
    "X[num_columns] = scaler.transform(X[num_columns])"
   ]
  },
  {
   "cell_type": "code",
   "execution_count": 15,
   "metadata": {},
   "outputs": [],
   "source": [
    "all_data = np.concatenate((bow_title_release, X[num_columns].values), axis=1)"
   ]
  },
  {
   "cell_type": "code",
   "execution_count": 16,
   "metadata": {},
   "outputs": [
    {
     "name": "stderr",
     "output_type": "stream",
     "text": [
      "100%|██████████| 4/4 [01:51<00:00, 27.96s/it]"
     ]
    },
    {
     "name": "stdout",
     "output_type": "stream",
     "text": [
      "Лучшая модель - LogisticRegression(C=5, l1_ratio=0.1, max_iter=10000, penalty='elasticnet',\n",
      "                   solver='saga')\n",
      "ROC-AUC = 0.8644641495041953\n"
     ]
    },
    {
     "name": "stderr",
     "output_type": "stream",
     "text": [
      "\n"
     ]
    }
   ],
   "source": [
    "auc = []\n",
    "for c in tqdm([0.1, 1, 5, 10]):\n",
    "    for l1_ratio in [0.1, 0.5, 0.9]:\n",
    "        auc.append(\n",
    "            calc_metrics(\n",
    "                all_data, y,\n",
    "                LogisticRegression,\n",
    "                name='bow all data', \n",
    "                plot=False, \n",
    "                solver='saga', \n",
    "                penalty='elasticnet', \n",
    "                C=c, \n",
    "                max_iter=10000, \n",
    "                # n_jobs=-1,\n",
    "                l1_ratio=l1_ratio\n",
    "                )\n",
    "            )\n",
    "    \n",
    "roc_auc, best_model = max(auc, key=lambda x: x[0])\n",
    "\n",
    "print(f\"Лучшая модель - {best_model}\")\n",
    "print(f\"ROC-AUC = {roc_auc}\")"
   ]
  },
  {
   "cell_type": "code",
   "execution_count": 17,
   "metadata": {},
   "outputs": [
    {
     "name": "stdout",
     "output_type": "stream",
     "text": [
      "              precision    recall  f1-score   support\n",
      "\n",
      "        -1.0       0.79      0.83      0.81        23\n",
      "         0.0       0.60      0.62      0.61        24\n",
      "         1.0       0.71      0.63      0.67        19\n",
      "\n",
      "    accuracy                           0.70        66\n",
      "   macro avg       0.70      0.69      0.70        66\n",
      "weighted avg       0.70      0.70      0.70        66\n",
      "\n"
     ]
    },
    {
     "data": {
      "image/png": "[encoded data removed]",
      "text/plain": [
       "<Figure size 640x480 with 2 Axes>"
      ]
     },
     "metadata": {},
     "output_type": "display_data"
    },
    {
     "data": {
      "text/html": [
       "<div>\n",
       "<style scoped>\n",
       "    .dataframe tbody tr th:only-of-type {\n",
       "        vertical-align: middle;\n",
       "    }\n",
       "\n",
       "    .dataframe tbody tr th {\n",
       "        vertical-align: top;\n",
       "    }\n",
       "\n",
       "    .dataframe thead th {\n",
       "        text-align: right;\n",
       "    }\n",
       "</style>\n",
       "<table border=\"1\" class=\"dataframe\">\n",
       "  <thead>\n",
       "    <tr style=\"text-align: right;\">\n",
       "      <th></th>\n",
       "      <th>accuracy</th>\n",
       "      <th>f1</th>\n",
       "      <th>precision</th>\n",
       "      <th>recall</th>\n",
       "      <th>roc_auc_ovr</th>\n",
       "      <th>roc_auc_ovo</th>\n",
       "    </tr>\n",
       "  </thead>\n",
       "  <tbody>\n",
       "    <tr>\n",
       "      <th>min_baseline</th>\n",
       "      <td>0.663158</td>\n",
       "      <td>0.667893</td>\n",
       "      <td>0.669919</td>\n",
       "      <td>0.666111</td>\n",
       "      <td>0.745010</td>\n",
       "      <td>0.749583</td>\n",
       "    </tr>\n",
       "    <tr>\n",
       "      <th>bow l1 only release</th>\n",
       "      <td>0.621212</td>\n",
       "      <td>0.627058</td>\n",
       "      <td>0.642995</td>\n",
       "      <td>0.619311</td>\n",
       "      <td>0.766783</td>\n",
       "      <td>0.770722</td>\n",
       "    </tr>\n",
       "    <tr>\n",
       "      <th>bow elasticnet</th>\n",
       "      <td>0.742424</td>\n",
       "      <td>0.742770</td>\n",
       "      <td>0.748213</td>\n",
       "      <td>0.739544</td>\n",
       "      <td>0.871739</td>\n",
       "      <td>0.873204</td>\n",
       "    </tr>\n",
       "    <tr>\n",
       "      <th>bow release title</th>\n",
       "      <td>0.742424</td>\n",
       "      <td>0.742770</td>\n",
       "      <td>0.748213</td>\n",
       "      <td>0.739544</td>\n",
       "      <td>0.869994</td>\n",
       "      <td>0.871488</td>\n",
       "    </tr>\n",
       "    <tr>\n",
       "      <th>bow release all num</th>\n",
       "      <td>0.696970</td>\n",
       "      <td>0.695807</td>\n",
       "      <td>0.699183</td>\n",
       "      <td>0.694222</td>\n",
       "      <td>0.861922</td>\n",
       "      <td>0.863797</td>\n",
       "    </tr>\n",
       "  </tbody>\n",
       "</table>\n",
       "</div>"
      ],
      "text/plain": [
       "                     accuracy        f1  precision    recall  roc_auc_ovr  \\\n",
       "min_baseline         0.663158  0.667893   0.669919  0.666111     0.745010   \n",
       "bow l1 only release  0.621212  0.627058   0.642995  0.619311     0.766783   \n",
       "bow elasticnet       0.742424  0.742770   0.748213  0.739544     0.871739   \n",
       "bow release title    0.742424  0.742770   0.748213  0.739544     0.869994   \n",
       "bow release all num  0.696970  0.695807   0.699183  0.694222     0.861922   \n",
       "\n",
       "                     roc_auc_ovo  \n",
       "min_baseline            0.749583  \n",
       "bow l1 only release     0.770722  \n",
       "bow elasticnet          0.873204  \n",
       "bow release title       0.871488  \n",
       "bow release all num     0.863797  "
      ]
     },
     "execution_count": 17,
     "metadata": {},
     "output_type": "execute_result"
    }
   ],
   "source": [
    "metric, _ = calc_metrics(\n",
    "    all_data, y, \n",
    "    LogisticRegression, \n",
    "    name='bow release all num', \n",
    "    **best_model.get_params()\n",
    "    )\n",
    "\n",
    "metrics = pd.concat([metrics, metric])\n",
    "metrics"
   ]
  },
  {
   "cell_type": "markdown",
   "metadata": {},
   "source": [
    "Добавление количественных переменных только ухудшило нашу модель. Попробуем на мешке слов обученный на релизах обучить SVC."
   ]
  },
  {
   "cell_type": "code",
   "execution_count": 18,
   "metadata": {},
   "outputs": [
    {
     "name": "stderr",
     "output_type": "stream",
     "text": [
      "  0%|          | 0/9 [00:00<?, ?it/s]/home/father/Desktop/cbr-press-release-classifier/.venv/lib/python3.10/site-packages/sklearn/metrics/_classification.py:1531: UndefinedMetricWarning: Precision is ill-defined and being set to 0.0 in labels with no predicted samples. Use `zero_division` parameter to control this behavior.\n",
      "  _warn_prf(average, modifier, f\"{metric.capitalize()} is\", len(result))\n",
      "/home/father/Desktop/cbr-press-release-classifier/.venv/lib/python3.10/site-packages/sklearn/metrics/_classification.py:1531: UndefinedMetricWarning: Precision is ill-defined and being set to 0.0 in labels with no predicted samples. Use `zero_division` parameter to control this behavior.\n",
      "  _warn_prf(average, modifier, f\"{metric.capitalize()} is\", len(result))\n",
      "/home/father/Desktop/cbr-press-release-classifier/.venv/lib/python3.10/site-packages/sklearn/metrics/_classification.py:1531: UndefinedMetricWarning: Precision is ill-defined and being set to 0.0 in labels with no predicted samples. Use `zero_division` parameter to control this behavior.\n",
      "  _warn_prf(average, modifier, f\"{metric.capitalize()} is\", len(result))\n",
      " 11%|█         | 1/9 [00:01<00:15,  1.94s/it]/home/father/Desktop/cbr-press-release-classifier/.venv/lib/python3.10/site-packages/sklearn/metrics/_classification.py:1531: UndefinedMetricWarning: Precision is ill-defined and being set to 0.0 in labels with no predicted samples. Use `zero_division` parameter to control this behavior.\n",
      "  _warn_prf(average, modifier, f\"{metric.capitalize()} is\", len(result))\n",
      "/home/father/Desktop/cbr-press-release-classifier/.venv/lib/python3.10/site-packages/sklearn/metrics/_classification.py:1531: UndefinedMetricWarning: Precision is ill-defined and being set to 0.0 in labels with no predicted samples. Use `zero_division` parameter to control this behavior.\n",
      "  _warn_prf(average, modifier, f\"{metric.capitalize()} is\", len(result))\n",
      "/home/father/Desktop/cbr-press-release-classifier/.venv/lib/python3.10/site-packages/sklearn/metrics/_classification.py:1531: UndefinedMetricWarning: Precision is ill-defined and being set to 0.0 in labels with no predicted samples. Use `zero_division` parameter to control this behavior.\n",
      "  _warn_prf(average, modifier, f\"{metric.capitalize()} is\", len(result))\n",
      " 22%|██▏       | 2/9 [00:03<00:13,  1.95s/it]/home/father/Desktop/cbr-press-release-classifier/.venv/lib/python3.10/site-packages/sklearn/metrics/_classification.py:1531: UndefinedMetricWarning: Precision is ill-defined and being set to 0.0 in labels with no predicted samples. Use `zero_division` parameter to control this behavior.\n",
      "  _warn_prf(average, modifier, f\"{metric.capitalize()} is\", len(result))\n",
      "/home/father/Desktop/cbr-press-release-classifier/.venv/lib/python3.10/site-packages/sklearn/metrics/_classification.py:1531: UndefinedMetricWarning: Precision is ill-defined and being set to 0.0 in labels with no predicted samples. Use `zero_division` parameter to control this behavior.\n",
      "  _warn_prf(average, modifier, f\"{metric.capitalize()} is\", len(result))\n",
      " 33%|███▎      | 3/9 [00:05<00:11,  1.95s/it]/home/father/Desktop/cbr-press-release-classifier/.venv/lib/python3.10/site-packages/sklearn/metrics/_classification.py:1531: UndefinedMetricWarning: Precision is ill-defined and being set to 0.0 in labels with no predicted samples. Use `zero_division` parameter to control this behavior.\n",
      "  _warn_prf(average, modifier, f\"{metric.capitalize()} is\", len(result))\n",
      " 44%|████▍     | 4/9 [00:07<00:09,  1.95s/it]/home/father/Desktop/cbr-press-release-classifier/.venv/lib/python3.10/site-packages/sklearn/metrics/_classification.py:1531: UndefinedMetricWarning: Precision is ill-defined and being set to 0.0 in labels with no predicted samples. Use `zero_division` parameter to control this behavior.\n",
      "  _warn_prf(average, modifier, f\"{metric.capitalize()} is\", len(result))\n",
      "100%|██████████| 9/9 [00:17<00:00,  1.95s/it]"
     ]
    },
    {
     "name": "stdout",
     "output_type": "stream",
     "text": [
      "Лучшая модель - SVC(C=7, kernel='linear', probability=True)\n",
      "ROC-AUC = 0.8439963132468854\n"
     ]
    },
    {
     "name": "stderr",
     "output_type": "stream",
     "text": [
      "\n"
     ]
    }
   ],
   "source": [
    "auc = []\n",
    "for c in tqdm([0.01, 0.05, 0.1, 0.5, 1, 3, 5, 7, 10]):\n",
    "    for kernel in ['linear', 'poly', 'rbf', 'sigmoid']:\n",
    "        auc.append(\n",
    "            calc_metrics(\n",
    "                bow, y,\n",
    "                SVC,\n",
    "                name='bow svc only release', \n",
    "                kernel=kernel,\n",
    "                C=c,\n",
    "                plot=False, \n",
    "                probability=True,\n",
    "                )\n",
    "            )\n",
    "    \n",
    "roc_auc, best_model = max(auc, key=lambda x: x[0])\n",
    "\n",
    "print(f\"Лучшая модель - {best_model}\")\n",
    "print(f\"ROC-AUC = {roc_auc}\")"
   ]
  },
  {
   "cell_type": "code",
   "execution_count": 19,
   "metadata": {},
   "outputs": [
    {
     "name": "stdout",
     "output_type": "stream",
     "text": [
      "              precision    recall  f1-score   support\n",
      "\n",
      "        -1.0       0.76      0.70      0.73        23\n",
      "         0.0       0.57      0.71      0.63        24\n",
      "         1.0       0.80      0.63      0.71        19\n",
      "\n",
      "    accuracy                           0.68        66\n",
      "   macro avg       0.71      0.68      0.69        66\n",
      "weighted avg       0.70      0.68      0.69        66\n",
      "\n"
     ]
    },
    {
     "data": {
      "image/png": "[encoded data removed]",
      "text/plain": [
       "<Figure size 640x480 with 2 Axes>"
      ]
     },
     "metadata": {},
     "output_type": "display_data"
    },
    {
     "data": {
      "text/html": [
       "<div>\n",
       "<style scoped>\n",
       "    .dataframe tbody tr th:only-of-type {\n",
       "        vertical-align: middle;\n",
       "    }\n",
       "\n",
       "    .dataframe tbody tr th {\n",
       "        vertical-align: top;\n",
       "    }\n",
       "\n",
       "    .dataframe thead th {\n",
       "        text-align: right;\n",
       "    }\n",
       "</style>\n",
       "<table border=\"1\" class=\"dataframe\">\n",
       "  <thead>\n",
       "    <tr style=\"text-align: right;\">\n",
       "      <th></th>\n",
       "      <th>accuracy</th>\n",
       "      <th>f1</th>\n",
       "      <th>precision</th>\n",
       "      <th>recall</th>\n",
       "      <th>roc_auc_ovr</th>\n",
       "      <th>roc_auc_ovo</th>\n",
       "    </tr>\n",
       "  </thead>\n",
       "  <tbody>\n",
       "    <tr>\n",
       "      <th>min_baseline</th>\n",
       "      <td>0.663158</td>\n",
       "      <td>0.667893</td>\n",
       "      <td>0.669919</td>\n",
       "      <td>0.666111</td>\n",
       "      <td>0.745010</td>\n",
       "      <td>0.749583</td>\n",
       "    </tr>\n",
       "    <tr>\n",
       "      <th>bow l1 only release</th>\n",
       "      <td>0.621212</td>\n",
       "      <td>0.627058</td>\n",
       "      <td>0.642995</td>\n",
       "      <td>0.619311</td>\n",
       "      <td>0.766783</td>\n",
       "      <td>0.770722</td>\n",
       "    </tr>\n",
       "    <tr>\n",
       "      <th>bow elasticnet</th>\n",
       "      <td>0.742424</td>\n",
       "      <td>0.742770</td>\n",
       "      <td>0.748213</td>\n",
       "      <td>0.739544</td>\n",
       "      <td>0.871739</td>\n",
       "      <td>0.873204</td>\n",
       "    </tr>\n",
       "    <tr>\n",
       "      <th>bow release title</th>\n",
       "      <td>0.742424</td>\n",
       "      <td>0.742770</td>\n",
       "      <td>0.748213</td>\n",
       "      <td>0.739544</td>\n",
       "      <td>0.869994</td>\n",
       "      <td>0.871488</td>\n",
       "    </tr>\n",
       "    <tr>\n",
       "      <th>bow release all num</th>\n",
       "      <td>0.696970</td>\n",
       "      <td>0.695807</td>\n",
       "      <td>0.699183</td>\n",
       "      <td>0.694222</td>\n",
       "      <td>0.861922</td>\n",
       "      <td>0.863797</td>\n",
       "    </tr>\n",
       "    <tr>\n",
       "      <th>bow svc only release</th>\n",
       "      <td>0.681818</td>\n",
       "      <td>0.687595</td>\n",
       "      <td>0.709524</td>\n",
       "      <td>0.678521</td>\n",
       "      <td>0.835474</td>\n",
       "      <td>0.837417</td>\n",
       "    </tr>\n",
       "  </tbody>\n",
       "</table>\n",
       "</div>"
      ],
      "text/plain": [
       "                      accuracy        f1  precision    recall  roc_auc_ovr  \\\n",
       "min_baseline          0.663158  0.667893   0.669919  0.666111     0.745010   \n",
       "bow l1 only release   0.621212  0.627058   0.642995  0.619311     0.766783   \n",
       "bow elasticnet        0.742424  0.742770   0.748213  0.739544     0.871739   \n",
       "bow release title     0.742424  0.742770   0.748213  0.739544     0.869994   \n",
       "bow release all num   0.696970  0.695807   0.699183  0.694222     0.861922   \n",
       "bow svc only release  0.681818  0.687595   0.709524  0.678521     0.835474   \n",
       "\n",
       "                      roc_auc_ovo  \n",
       "min_baseline             0.749583  \n",
       "bow l1 only release      0.770722  \n",
       "bow elasticnet           0.873204  \n",
       "bow release title        0.871488  \n",
       "bow release all num      0.863797  \n",
       "bow svc only release     0.837417  "
      ]
     },
     "execution_count": 19,
     "metadata": {},
     "output_type": "execute_result"
    }
   ],
   "source": [
    "metric, _ = calc_metrics(\n",
    "    bow, y, \n",
    "    SVC, \n",
    "    name='bow svc only release', \n",
    "    **best_model.get_params()\n",
    "    )\n",
    "\n",
    "metrics = pd.concat([metrics, metric])\n",
    "metrics"
   ]
  },
  {
   "cell_type": "markdown",
   "metadata": {},
   "source": [
    "Метод опорных векторов показал качество хуже чем логистическая регрессия. Сохраним результаты экспериментов."
   ]
  },
  {
   "cell_type": "code",
   "execution_count": 20,
   "metadata": {},
   "outputs": [],
   "source": [
    "metrics.to_csv('metrics.csv')"
   ]
  }
 ],
 "metadata": {
  "kernelspec": {
   "display_name": ".venv",
   "language": "python",
   "name": "python3"
  },
  "language_info": {
   "codemirror_mode": {
    "name": "ipython",
    "version": 3
   },
   "file_extension": ".py",
   "mimetype": "text/x-python",
   "name": "python",
   "nbconvert_exporter": "python",
   "pygments_lexer": "ipython3",
   "version": "3.10.15"
  }
 },
 "nbformat": 4,
 "nbformat_minor": 2
}
