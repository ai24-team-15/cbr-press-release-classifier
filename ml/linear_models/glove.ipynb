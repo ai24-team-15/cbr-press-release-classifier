{
 "cells": [
  {
   "cell_type": "markdown",
   "metadata": {},
   "source": [
    "### GloVe плюс линейная модель"
   ]
  },
  {
   "cell_type": "markdown",
   "metadata": {},
   "source": [
    "Были подготовлены эмбеддинги для всего корпуса текстов пресс-релизов с помощью модели GloVe [https://github.com/stanfordnlp/GloVe](https://github.com/stanfordnlp/GloVe) c различной длиной вектора. Индекс векторов находится в каталоге `glove`."
   ]
  },
  {
   "cell_type": "code",
   "execution_count": 1,
   "metadata": {},
   "outputs": [
    {
     "name": "stderr",
     "output_type": "stream",
     "text": [
      "Intel(R) Extension for Scikit-learn* enabled (https://github.com/intel/scikit-learn-intelex)\n"
     ]
    }
   ],
   "source": [
    "import sys\n",
    "import os\n",
    "\n",
    "sys.path.append(os.path.abspath(os.path.join(\"..\")))\n",
    "\n",
    "from sklearnex import patch_sklearn\n",
    "patch_sklearn()\n",
    "\n",
    "import re\n",
    "\n",
    "import pandas as pd\n",
    "import numpy as np\n",
    "from tqdm import tqdm\n",
    "import nltk\n",
    "from nltk.corpus import stopwords\n",
    "from pymystem3 import Mystem\n",
    "from sklearn.svm import SVC\n",
    "from sklearn.base import BaseEstimator, TransformerMixin\n",
    "from sklearn.preprocessing import StandardScaler\n",
    "from joblib import Parallel, delayed\n",
    "import utils\n",
    "\n",
    "import warnings\n",
    "warnings.filterwarnings(\"ignore\")\n",
    "\n",
    "RANDOM_STATE = 41825352\n",
    "\n",
    "nltk.download('punkt', quiet=True)\n",
    "nltk.download('stopwords', quiet=True)\n",
    "nltk.download('punkt_tab', quiet=True);"
   ]
  },
  {
   "cell_type": "markdown",
   "metadata": {},
   "source": [
    "Загрузка датасета:"
   ]
  },
  {
   "cell_type": "code",
   "execution_count": 2,
   "metadata": {},
   "outputs": [],
   "source": [
    "X = pd.read_csv('../data/x.csv', index_col='date')\n",
    "y = pd.read_csv('../data/y.csv', index_col='date').iloc[:, 0]\n",
    "\n",
    "metrics = pd.read_csv('metrics.csv', index_col=0)"
   ]
  },
  {
   "cell_type": "markdown",
   "metadata": {},
   "source": [
    "Генерация векторов:"
   ]
  },
  {
   "cell_type": "code",
   "execution_count": 3,
   "metadata": {},
   "outputs": [],
   "source": [
    "mystem = Mystem()\n",
    "STOP_WORDS = set(stopwords.words('russian'))\n",
    "\n",
    "def preprocessor(text):\n",
    "    text = text.lower()\n",
    "    regex = re.compile('[^а-я А-ЯЁё]')\n",
    "    text = regex.sub(' ', text)\n",
    "    text = ' '.join(mystem.lemmatize(text))\n",
    "    return ' '.join([word for word in text.split()])\n",
    "\n",
    "# сохраняем корпус текстов в файл\n",
    "with open('releases.txt', 'tw', encoding='utf-8') as f:\n",
    "    for x in X.release.apply(preprocessor):\n",
    "        f.write(x)\n",
    "        f.write(' ')\n",
    "\n",
    "# далее вызываем построение векторов при помощи glove для заданного размера вектора:\n",
    "# vocab_count -min-count 5 -verbose 2 < releases.txt > vocab.txt\n",
    "# cooccur -memory 4.0 -vocab-file vocab.txt -verbose 2 -window-size 15 < releases.txt > cooccurrence.bin\n",
    "# shuffle -memory 4.0 -verbose 2 < cooccurrence.bin > cooccurrence.shuf.bin\n",
    "# glove -save-file vectors -threads 8 -input-file cooccurrence.shuf.bin -x-max 10 -iter 15 -vector-size 50 -binary 2 -vocab-file vocab.txt -verbose 2"
   ]
  },
  {
   "cell_type": "markdown",
   "metadata": {},
   "source": [
    "Класс преобразования документа в вектор на основе индекса векторов:"
   ]
  },
  {
   "cell_type": "code",
   "execution_count": 4,
   "metadata": {},
   "outputs": [],
   "source": [
    "class GloveVectorizer(BaseEstimator, TransformerMixin):\n",
    "    def __init__(self, vectors_file, *, preprocessor=None, vector_size=-1):\n",
    "        self._preprocessor = preprocessor\n",
    "        self._vectors = {}\n",
    "        \n",
    "        with open(vectors_file, encoding=\"utf8\") as f:\n",
    "            for line in f:\n",
    "                word, *vector = line.split()\n",
    "                self._vectors[word] = np.array(vector, dtype=float)\n",
    "                max_size = len(vector)\n",
    "        \n",
    "        self._vector_size = vector_size if vector_size >= 0 and vector_size < max_size else max_size\n",
    "    \n",
    "    \n",
    "    def fit(self, X, y=None):\n",
    "        return self\n",
    "    \n",
    "    \n",
    "    def transform(self, X):\n",
    "        if self._preprocessor:\n",
    "            X = X.apply(self._preprocessor).tolist()\n",
    "        \n",
    "        return np.array([\n",
    "            np.mean([self._vectors[w][:self._vector_size] for w in words if w in self._vectors] \n",
    "                    or [np.zeros(self._vector_size)], axis=0)\n",
    "            for words in X\n",
    "        ])"
   ]
  },
  {
   "cell_type": "code",
   "execution_count": 5,
   "metadata": {},
   "outputs": [],
   "source": [
    "def preprocessor(text):\n",
    "    text = text.lower()\n",
    "    regex = re.compile('[^а-я А-ЯЁё]')\n",
    "    text = regex.sub(' ', text)\n",
    "    text = ' '.join(mystem.lemmatize(text))\n",
    "    return [\n",
    "        word for word in text.split()\n",
    "        if word not in STOP_WORDS\n",
    "    ]\n"
   ]
  },
  {
   "cell_type": "markdown",
   "metadata": {},
   "source": [
    "Подберем оптимальную длину вектора и параметры для SVM:"
   ]
  },
  {
   "cell_type": "code",
   "execution_count": 6,
   "metadata": {},
   "outputs": [
    {
     "name": "stderr",
     "output_type": "stream",
     "text": [
      "100%|██████████| 4/4 [01:56<00:00, 29.20s/it]"
     ]
    },
    {
     "name": "stdout",
     "output_type": "stream",
     "text": [
      "Лучшая модель - SVC(C=10, probability=True, random_state=41825352)\n",
      "ROC-AUC = 0.7711811735457808\n",
      "Vector size = 100\n"
     ]
    },
    {
     "name": "stderr",
     "output_type": "stream",
     "text": [
      "\n"
     ]
    }
   ],
   "source": [
    "auc = []\n",
    "for vec_size in tqdm([50, 70, 90, 100]):\n",
    "    vectorizer = GloveVectorizer(f'../glove/vectors.100d.txt', preprocessor=preprocessor, vector_size=vec_size)\n",
    "    glove = vectorizer.fit_transform(X.release)\n",
    "    glove = StandardScaler().fit_transform(glove)\n",
    "    \n",
    "    for c in [0.01, 0.05, 0.1, 0.5, 1, 3, 5, 7, 10]:\n",
    "        for kernel in ['linear', 'poly', 'rbf', 'sigmoid']:\n",
    "            auc.append(\n",
    "                utils.calc_metrics(\n",
    "                    glove, y,\n",
    "                    SVC,\n",
    "                    name='glove svc only release', \n",
    "                    kernel=kernel,\n",
    "                    C=c,\n",
    "                    plot=False, \n",
    "                    probability=True,\n",
    "                    random_state=RANDOM_STATE\n",
    "                    ) + (glove,)\n",
    "                )\n",
    "\n",
    "roc_auc, best_model, glove = max(auc, key=lambda x: x[0])\n",
    "\n",
    "print(f\"Лучшая модель - {best_model}\")\n",
    "print(f\"ROC-AUC = {roc_auc}\")\n",
    "print(f\"Vector size = {glove.shape[1]}\")"
   ]
  },
  {
   "cell_type": "code",
   "execution_count": 7,
   "metadata": {},
   "outputs": [
    {
     "name": "stdout",
     "output_type": "stream",
     "text": [
      "              precision    recall  f1-score   support\n",
      "\n",
      "        -1.0       0.73      0.70      0.71        23\n",
      "         0.0       0.57      0.63      0.60        27\n",
      "         1.0       0.71      0.63      0.67        19\n",
      "\n",
      "    accuracy                           0.65        69\n",
      "   macro avg       0.67      0.65      0.66        69\n",
      "weighted avg       0.66      0.65      0.65        69\n",
      "\n"
     ]
    },
    {
     "data": {
      "image/png": "[encoded data removed]",
      "text/plain": [
       "<Figure size 640x480 with 2 Axes>"
      ]
     },
     "metadata": {},
     "output_type": "display_data"
    },
    {
     "data": {
      "text/html": [
       "<div>\n",
       "<style scoped>\n",
       "    .dataframe tbody tr th:only-of-type {\n",
       "        vertical-align: middle;\n",
       "    }\n",
       "\n",
       "    .dataframe tbody tr th {\n",
       "        vertical-align: top;\n",
       "    }\n",
       "\n",
       "    .dataframe thead th {\n",
       "        text-align: right;\n",
       "    }\n",
       "</style>\n",
       "<table border=\"1\" class=\"dataframe\">\n",
       "  <thead>\n",
       "    <tr style=\"text-align: right;\">\n",
       "      <th></th>\n",
       "      <th>accuracy</th>\n",
       "      <th>f1</th>\n",
       "      <th>precision</th>\n",
       "      <th>recall</th>\n",
       "      <th>roc_auc_ovr</th>\n",
       "      <th>roc_auc_ovo</th>\n",
       "    </tr>\n",
       "  </thead>\n",
       "  <tbody>\n",
       "    <tr>\n",
       "      <th>min_baseline</th>\n",
       "      <td>0.663265</td>\n",
       "      <td>0.667080</td>\n",
       "      <td>0.667080</td>\n",
       "      <td>0.667080</td>\n",
       "      <td>0.744899</td>\n",
       "      <td>0.750310</td>\n",
       "    </tr>\n",
       "    <tr>\n",
       "      <th>bow l1 only release</th>\n",
       "      <td>0.623188</td>\n",
       "      <td>0.628542</td>\n",
       "      <td>0.638829</td>\n",
       "      <td>0.622397</td>\n",
       "      <td>0.770395</td>\n",
       "      <td>0.776563</td>\n",
       "    </tr>\n",
       "    <tr>\n",
       "      <th>bow elasticnet</th>\n",
       "      <td>0.608696</td>\n",
       "      <td>0.614159</td>\n",
       "      <td>0.619984</td>\n",
       "      <td>0.610052</td>\n",
       "      <td>0.783943</td>\n",
       "      <td>0.788909</td>\n",
       "    </tr>\n",
       "    <tr>\n",
       "      <th>bow release title</th>\n",
       "      <td>0.536232</td>\n",
       "      <td>0.541955</td>\n",
       "      <td>0.563725</td>\n",
       "      <td>0.531486</td>\n",
       "      <td>0.782752</td>\n",
       "      <td>0.788019</td>\n",
       "    </tr>\n",
       "    <tr>\n",
       "      <th>bow release all num</th>\n",
       "      <td>0.608696</td>\n",
       "      <td>0.611421</td>\n",
       "      <td>0.622801</td>\n",
       "      <td>0.604854</td>\n",
       "      <td>0.786651</td>\n",
       "      <td>0.791621</td>\n",
       "    </tr>\n",
       "    <tr>\n",
       "      <th>bow svc only release</th>\n",
       "      <td>0.652174</td>\n",
       "      <td>0.661011</td>\n",
       "      <td>0.675220</td>\n",
       "      <td>0.652287</td>\n",
       "      <td>0.780628</td>\n",
       "      <td>0.786126</td>\n",
       "    </tr>\n",
       "    <tr>\n",
       "      <th>tf_idf l1 only release</th>\n",
       "      <td>0.623188</td>\n",
       "      <td>0.622795</td>\n",
       "      <td>0.631563</td>\n",
       "      <td>0.621493</td>\n",
       "      <td>0.786190</td>\n",
       "      <td>0.792398</td>\n",
       "    </tr>\n",
       "    <tr>\n",
       "      <th>tf_idf only release best word</th>\n",
       "      <td>0.710145</td>\n",
       "      <td>0.713469</td>\n",
       "      <td>0.726897</td>\n",
       "      <td>0.708111</td>\n",
       "      <td>0.812164</td>\n",
       "      <td>0.817499</td>\n",
       "    </tr>\n",
       "    <tr>\n",
       "      <th>tf_idf title release</th>\n",
       "      <td>0.695652</td>\n",
       "      <td>0.697781</td>\n",
       "      <td>0.720691</td>\n",
       "      <td>0.688420</td>\n",
       "      <td>0.819546</td>\n",
       "      <td>0.824618</td>\n",
       "    </tr>\n",
       "    <tr>\n",
       "      <th>tf_idf numerical release</th>\n",
       "      <td>0.666667</td>\n",
       "      <td>0.676287</td>\n",
       "      <td>0.716514</td>\n",
       "      <td>0.660338</td>\n",
       "      <td>0.769350</td>\n",
       "      <td>0.771139</td>\n",
       "    </tr>\n",
       "    <tr>\n",
       "      <th>tf-idf svc only release</th>\n",
       "      <td>0.724638</td>\n",
       "      <td>0.723498</td>\n",
       "      <td>0.749573</td>\n",
       "      <td>0.717405</td>\n",
       "      <td>0.852290</td>\n",
       "      <td>0.855510</td>\n",
       "    </tr>\n",
       "    <tr>\n",
       "      <th>MultinomialNB</th>\n",
       "      <td>0.637681</td>\n",
       "      <td>0.635245</td>\n",
       "      <td>0.632540</td>\n",
       "      <td>0.651581</td>\n",
       "      <td>0.766447</td>\n",
       "      <td>0.773773</td>\n",
       "    </tr>\n",
       "    <tr>\n",
       "      <th>word2vec</th>\n",
       "      <td>0.579710</td>\n",
       "      <td>0.581651</td>\n",
       "      <td>0.578889</td>\n",
       "      <td>0.585360</td>\n",
       "      <td>0.747739</td>\n",
       "      <td>0.753482</td>\n",
       "    </tr>\n",
       "    <tr>\n",
       "      <th>word2vec_pretrained</th>\n",
       "      <td>0.594203</td>\n",
       "      <td>0.608393</td>\n",
       "      <td>0.623412</td>\n",
       "      <td>0.598610</td>\n",
       "      <td>0.757378</td>\n",
       "      <td>0.765107</td>\n",
       "    </tr>\n",
       "    <tr>\n",
       "      <th>word2vec_pretrained svc</th>\n",
       "      <td>0.565217</td>\n",
       "      <td>0.574854</td>\n",
       "      <td>0.583363</td>\n",
       "      <td>0.568721</td>\n",
       "      <td>0.709259</td>\n",
       "      <td>0.717674</td>\n",
       "    </tr>\n",
       "    <tr>\n",
       "      <th>glove svc only release</th>\n",
       "      <td>0.652174</td>\n",
       "      <td>0.658090</td>\n",
       "      <td>0.666607</td>\n",
       "      <td>0.652287</td>\n",
       "      <td>0.764108</td>\n",
       "      <td>0.771181</td>\n",
       "    </tr>\n",
       "  </tbody>\n",
       "</table>\n",
       "</div>"
      ],
      "text/plain": [
       "                               accuracy        f1  precision    recall  \\\n",
       "min_baseline                   0.663265  0.667080   0.667080  0.667080   \n",
       "bow l1 only release            0.623188  0.628542   0.638829  0.622397   \n",
       "bow elasticnet                 0.608696  0.614159   0.619984  0.610052   \n",
       "bow release title              0.536232  0.541955   0.563725  0.531486   \n",
       "bow release all num            0.608696  0.611421   0.622801  0.604854   \n",
       "bow svc only release           0.652174  0.661011   0.675220  0.652287   \n",
       "tf_idf l1 only release         0.623188  0.622795   0.631563  0.621493   \n",
       "tf_idf only release best word  0.710145  0.713469   0.726897  0.708111   \n",
       "tf_idf title release           0.695652  0.697781   0.720691  0.688420   \n",
       "tf_idf numerical release       0.666667  0.676287   0.716514  0.660338   \n",
       "tf-idf svc only release        0.724638  0.723498   0.749573  0.717405   \n",
       "MultinomialNB                  0.637681  0.635245   0.632540  0.651581   \n",
       "word2vec                       0.579710  0.581651   0.578889  0.585360   \n",
       "word2vec_pretrained            0.594203  0.608393   0.623412  0.598610   \n",
       "word2vec_pretrained svc        0.565217  0.574854   0.583363  0.568721   \n",
       "glove svc only release         0.652174  0.658090   0.666607  0.652287   \n",
       "\n",
       "                               roc_auc_ovr  roc_auc_ovo  \n",
       "min_baseline                      0.744899     0.750310  \n",
       "bow l1 only release               0.770395     0.776563  \n",
       "bow elasticnet                    0.783943     0.788909  \n",
       "bow release title                 0.782752     0.788019  \n",
       "bow release all num               0.786651     0.791621  \n",
       "bow svc only release              0.780628     0.786126  \n",
       "tf_idf l1 only release            0.786190     0.792398  \n",
       "tf_idf only release best word     0.812164     0.817499  \n",
       "tf_idf title release              0.819546     0.824618  \n",
       "tf_idf numerical release          0.769350     0.771139  \n",
       "tf-idf svc only release           0.852290     0.855510  \n",
       "MultinomialNB                     0.766447     0.773773  \n",
       "word2vec                          0.747739     0.753482  \n",
       "word2vec_pretrained               0.757378     0.765107  \n",
       "word2vec_pretrained svc           0.709259     0.717674  \n",
       "glove svc only release            0.764108     0.771181  "
      ]
     },
     "execution_count": 7,
     "metadata": {},
     "output_type": "execute_result"
    }
   ],
   "source": [
    "metric, model = utils.calc_metrics(glove, y, SVC, name='glove svc only release', **best_model.get_params())\n",
    "metrics = pd.concat([metrics, metric], axis=0)\n",
    "metrics"
   ]
  },
  {
   "cell_type": "markdown",
   "metadata": {},
   "source": [
    "Как и в случае Word2Vec, качество лучшей модели получилось не слишком высоким."
   ]
  },
  {
   "cell_type": "code",
   "execution_count": 8,
   "metadata": {},
   "outputs": [],
   "source": [
    "metrics.to_csv('metrics.csv')"
   ]
  },
  {
   "cell_type": "markdown",
   "metadata": {},
   "source": []
  }
 ],
 "metadata": {
  "kernelspec": {
   "display_name": "ml_yp",
   "language": "python",
   "name": "python3"
  },
  "language_info": {
   "codemirror_mode": {
    "name": "ipython",
    "version": 3
   },
   "file_extension": ".py",
   "mimetype": "text/x-python",
   "name": "python",
   "nbconvert_exporter": "python",
   "pygments_lexer": "ipython3",
   "version": "3.12.3"
  }
 },
 "nbformat": 4,
 "nbformat_minor": 2
}
