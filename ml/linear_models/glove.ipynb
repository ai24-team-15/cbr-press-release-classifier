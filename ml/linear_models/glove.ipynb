{
 "cells": [
  {
   "cell_type": "markdown",
   "metadata": {},
   "source": [
    "### GloVe плюс линейная модель"
   ]
  },
  {
   "cell_type": "markdown",
   "metadata": {},
   "source": [
    "Были подготовлены эмбеддинги для всего корпуса текстов пресс-релизов с помощью модели GloVe [https://github.com/stanfordnlp/GloVe](https://github.com/stanfordnlp/GloVe) c различной длиной вектора. Индекс векторов находится в каталоге `glove`."
   ]
  },
  {
   "cell_type": "code",
   "execution_count": 1,
   "metadata": {},
   "outputs": [
    {
     "name": "stderr",
     "output_type": "stream",
     "text": [
      "Intel(R) Extension for Scikit-learn* enabled (https://github.com/intel/scikit-learn-intelex)\n"
     ]
    }
   ],
   "source": [
    "import sys\n",
    "import os\n",
    "\n",
    "sys.path.append(os.path.abspath(os.path.join(\"..\")))\n",
    "\n",
    "from sklearnex import patch_sklearn\n",
    "patch_sklearn()\n",
    "\n",
    "import re\n",
    "\n",
    "import pandas as pd\n",
    "import numpy as np\n",
    "from tqdm import tqdm\n",
    "import nltk\n",
    "from nltk.corpus import stopwords\n",
    "from pymystem3 import Mystem\n",
    "from sklearn.svm import SVC\n",
    "from sklearn.base import BaseEstimator, TransformerMixin\n",
    "from sklearn.preprocessing import StandardScaler\n",
    "from joblib import Parallel, delayed\n",
    "import utils\n",
    "\n",
    "import warnings\n",
    "warnings.filterwarnings(\"ignore\")\n",
    "\n",
    "RANDOM_STATE = 41825352\n",
    "\n",
    "nltk.download('punkt', quiet=True)\n",
    "nltk.download('stopwords', quiet=True)\n",
    "nltk.download('punkt_tab', quiet=True);"
   ]
  },
  {
   "cell_type": "markdown",
   "metadata": {},
   "source": [
    "Загрузка датасета:"
   ]
  },
  {
   "cell_type": "code",
   "execution_count": 2,
   "metadata": {},
   "outputs": [],
   "source": [
    "X = pd.read_csv('../data/x.csv', index_col='date')\n",
    "y = pd.read_csv('../data/y.csv', index_col='date').iloc[:, 0]\n",
    "\n",
    "metrics = pd.read_csv('metrics.csv', index_col=0)"
   ]
  },
  {
   "cell_type": "markdown",
   "metadata": {},
   "source": [
    "Генерация векторов:"
   ]
  },
  {
   "cell_type": "code",
   "execution_count": 3,
   "metadata": {},
   "outputs": [],
   "source": [
    "mystem = Mystem()\n",
    "STOP_WORDS = set(stopwords.words('russian'))\n",
    "\n",
    "def preprocessor(text):\n",
    "    text = text.lower()\n",
    "    regex = re.compile('[^а-я А-ЯЁё]')\n",
    "    text = regex.sub(' ', text)\n",
    "    text = ' '.join(mystem.lemmatize(text))\n",
    "    return ' '.join([word for word in text.split()])\n",
    "\n",
    "# сохраняем корпус текстов в файл\n",
    "with open('releases.txt', 'tw', encoding='utf-8') as f:\n",
    "    for x in X.release.apply(preprocessor):\n",
    "        f.write(x)\n",
    "        f.write(' ')\n",
    "\n",
    "# далее вызываем построение векторов при помощи glove для заданного размера вектора:\n",
    "# vocab_count -min-count 5 -verbose 2 < releases.txt > vocab.txt\n",
    "# cooccur -memory 4.0 -vocab-file vocab.txt -verbose 2 -window-size 15 < releases.txt > cooccurrence.bin\n",
    "# shuffle -memory 4.0 -verbose 2 < cooccurrence.bin > cooccurrence.shuf.bin\n",
    "# glove -save-file vectors -threads 8 -input-file cooccurrence.shuf.bin -x-max 10 -iter 15 -vector-size 50 -binary 2 -vocab-file vocab.txt -verbose 2"
   ]
  },
  {
   "cell_type": "markdown",
   "metadata": {},
   "source": [
    "Класс преобразования документа в вектор на основе индекса векторов:"
   ]
  },
  {
   "cell_type": "code",
   "execution_count": 4,
   "metadata": {},
   "outputs": [],
   "source": [
    "class GloveVectorizer(BaseEstimator, TransformerMixin):\n",
    "    def __init__(self, vectors_file, *, preprocessor=None, vector_size=-1):\n",
    "        self._preprocessor = preprocessor\n",
    "        self._vectors = {}\n",
    "        \n",
    "        with open(vectors_file, encoding=\"utf8\") as f:\n",
    "            for line in f:\n",
    "                word, *vector = line.split()\n",
    "                self._vectors[word] = np.array(vector, dtype=float)\n",
    "                max_size = len(vector)\n",
    "        \n",
    "        self._vector_size = vector_size if vector_size >= 0 and vector_size < max_size else max_size\n",
    "    \n",
    "    \n",
    "    def fit(self, X, y=None):\n",
    "        return self\n",
    "    \n",
    "    \n",
    "    def transform(self, X):\n",
    "        if self._preprocessor:\n",
    "            X = X.apply(self._preprocessor).tolist()\n",
    "        \n",
    "        return np.array([\n",
    "            np.mean([self._vectors[w][:self._vector_size] for w in words if w in self._vectors] \n",
    "                    or [np.zeros(self._vector_size)], axis=0)\n",
    "            for words in X\n",
    "        ])"
   ]
  },
  {
   "cell_type": "code",
   "execution_count": 5,
   "metadata": {},
   "outputs": [],
   "source": [
    "def preprocessor(text):\n",
    "    text = text.lower()\n",
    "    regex = re.compile('[^а-я А-ЯЁё]')\n",
    "    text = regex.sub(' ', text)\n",
    "    text = ' '.join(mystem.lemmatize(text))\n",
    "    return [\n",
    "        word for word in text.split()\n",
    "        if word not in STOP_WORDS\n",
    "    ]\n"
   ]
  },
  {
   "cell_type": "markdown",
   "metadata": {},
   "source": [
    "Подберем оптимальную длину вектора и параметры для SVM:"
   ]
  },
  {
   "cell_type": "code",
   "execution_count": 6,
   "metadata": {},
   "outputs": [
    {
     "name": "stderr",
     "output_type": "stream",
     "text": [
      "100%|██████████| 4/4 [01:58<00:00, 29.72s/it]"
     ]
    },
    {
     "name": "stdout",
     "output_type": "stream",
     "text": [
      "Лучшая модель - SVC(C=10, probability=True, random_state=41825352)\n",
      "ROC-AUC = 0.7669303467000835\n",
      "Vector size = 100\n"
     ]
    },
    {
     "name": "stderr",
     "output_type": "stream",
     "text": [
      "\n"
     ]
    }
   ],
   "source": [
    "auc = []\n",
    "for vec_size in tqdm([50, 70, 90, 100]):\n",
    "    vectorizer = GloveVectorizer(f'../glove/vectors.100d.txt', preprocessor=preprocessor, vector_size=vec_size)\n",
    "    glove = vectorizer.fit_transform(X.release)\n",
    "    glove = StandardScaler().fit_transform(glove)\n",
    "    \n",
    "    for c in [0.01, 0.05, 0.1, 0.5, 1, 3, 5, 7, 10]:\n",
    "        for kernel in ['linear', 'poly', 'rbf', 'sigmoid']:\n",
    "            auc.append(\n",
    "                utils.calc_metrics(\n",
    "                    glove, y,\n",
    "                    SVC,\n",
    "                    name='glove svc only release', \n",
    "                    kernel=kernel,\n",
    "                    C=c,\n",
    "                    plot=False, \n",
    "                    probability=True,\n",
    "                    random_state=RANDOM_STATE\n",
    "                    ) + (glove,)\n",
    "                )\n",
    "\n",
    "roc_auc, best_model, glove = max(auc, key=lambda x: x[0])\n",
    "\n",
    "print(f\"Лучшая модель - {best_model}\")\n",
    "print(f\"ROC-AUC = {roc_auc}\")\n",
    "print(f\"Vector size = {glove.shape[1]}\")"
   ]
  },
  {
   "cell_type": "code",
   "execution_count": 7,
   "metadata": {},
   "outputs": [
    {
     "name": "stdout",
     "output_type": "stream",
     "text": [
      "              precision    recall  f1-score   support\n",
      "\n",
      "        -1.0       0.73      0.67      0.70        24\n",
      "         0.0       0.56      0.64      0.60        28\n",
      "         1.0       0.71      0.63      0.67        19\n",
      "\n",
      "    accuracy                           0.65        71\n",
      "   macro avg       0.67      0.65      0.65        71\n",
      "weighted avg       0.66      0.65      0.65        71\n",
      "\n"
     ]
    },
    {
     "data": {
      "image/png": "[encoded data removed]",
      "text/plain": [
       "<Figure size 640x480 with 2 Axes>"
      ]
     },
     "metadata": {},
     "output_type": "display_data"
    },
    {
     "data": {
      "text/html": [
       "<div>\n",
       "<style scoped>\n",
       "    .dataframe tbody tr th:only-of-type {\n",
       "        vertical-align: middle;\n",
       "    }\n",
       "\n",
       "    .dataframe tbody tr th {\n",
       "        vertical-align: top;\n",
       "    }\n",
       "\n",
       "    .dataframe thead th {\n",
       "        text-align: right;\n",
       "    }\n",
       "</style>\n",
       "<table border=\"1\" class=\"dataframe\">\n",
       "  <thead>\n",
       "    <tr style=\"text-align: right;\">\n",
       "      <th></th>\n",
       "      <th>accuracy</th>\n",
       "      <th>f1</th>\n",
       "      <th>precision</th>\n",
       "      <th>recall</th>\n",
       "      <th>roc_auc_ovr</th>\n",
       "      <th>roc_auc_ovo</th>\n",
       "    </tr>\n",
       "  </thead>\n",
       "  <tbody>\n",
       "    <tr>\n",
       "      <th>min_baseline</th>\n",
       "      <td>0.660000</td>\n",
       "      <td>0.663508</td>\n",
       "      <td>0.665185</td>\n",
       "      <td>0.662014</td>\n",
       "      <td>0.741088</td>\n",
       "      <td>0.746510</td>\n",
       "    </tr>\n",
       "    <tr>\n",
       "      <th>bow l1 only release</th>\n",
       "      <td>0.619718</td>\n",
       "      <td>0.625363</td>\n",
       "      <td>0.638134</td>\n",
       "      <td>0.617586</td>\n",
       "      <td>0.769287</td>\n",
       "      <td>0.776198</td>\n",
       "    </tr>\n",
       "    <tr>\n",
       "      <th>bow elasticnet</th>\n",
       "      <td>0.605634</td>\n",
       "      <td>0.614252</td>\n",
       "      <td>0.627717</td>\n",
       "      <td>0.605681</td>\n",
       "      <td>0.782629</td>\n",
       "      <td>0.789369</td>\n",
       "    </tr>\n",
       "    <tr>\n",
       "      <th>bow release title</th>\n",
       "      <td>0.535211</td>\n",
       "      <td>0.540659</td>\n",
       "      <td>0.559180</td>\n",
       "      <td>0.530911</td>\n",
       "      <td>0.781719</td>\n",
       "      <td>0.787411</td>\n",
       "    </tr>\n",
       "    <tr>\n",
       "      <th>bow release all num</th>\n",
       "      <td>0.605634</td>\n",
       "      <td>0.608153</td>\n",
       "      <td>0.622475</td>\n",
       "      <td>0.600042</td>\n",
       "      <td>0.781633</td>\n",
       "      <td>0.786863</td>\n",
       "    </tr>\n",
       "    <tr>\n",
       "      <th>bow svc only release</th>\n",
       "      <td>0.661972</td>\n",
       "      <td>0.669910</td>\n",
       "      <td>0.690243</td>\n",
       "      <td>0.658939</td>\n",
       "      <td>0.777454</td>\n",
       "      <td>0.782790</td>\n",
       "    </tr>\n",
       "    <tr>\n",
       "      <th>tf_idf l1 only release</th>\n",
       "      <td>0.633803</td>\n",
       "      <td>0.636658</td>\n",
       "      <td>0.643844</td>\n",
       "      <td>0.633459</td>\n",
       "      <td>0.787036</td>\n",
       "      <td>0.793533</td>\n",
       "    </tr>\n",
       "    <tr>\n",
       "      <th>tf_idf only release best word</th>\n",
       "      <td>0.690141</td>\n",
       "      <td>0.687276</td>\n",
       "      <td>0.716378</td>\n",
       "      <td>0.677423</td>\n",
       "      <td>0.812873</td>\n",
       "      <td>0.818740</td>\n",
       "    </tr>\n",
       "    <tr>\n",
       "      <th>tf_idf title release</th>\n",
       "      <td>0.704225</td>\n",
       "      <td>0.704690</td>\n",
       "      <td>0.727814</td>\n",
       "      <td>0.694967</td>\n",
       "      <td>0.814459</td>\n",
       "      <td>0.819993</td>\n",
       "    </tr>\n",
       "    <tr>\n",
       "      <th>tf_idf numerical release</th>\n",
       "      <td>0.633803</td>\n",
       "      <td>0.636130</td>\n",
       "      <td>0.690598</td>\n",
       "      <td>0.619883</td>\n",
       "      <td>0.779646</td>\n",
       "      <td>0.783247</td>\n",
       "    </tr>\n",
       "    <tr>\n",
       "      <th>tf-idf svc only release</th>\n",
       "      <td>0.704225</td>\n",
       "      <td>0.703578</td>\n",
       "      <td>0.722616</td>\n",
       "      <td>0.696951</td>\n",
       "      <td>0.838408</td>\n",
       "      <td>0.842157</td>\n",
       "    </tr>\n",
       "    <tr>\n",
       "      <th>MultinomialNB</th>\n",
       "      <td>0.591549</td>\n",
       "      <td>0.588805</td>\n",
       "      <td>0.581790</td>\n",
       "      <td>0.611007</td>\n",
       "      <td>0.758716</td>\n",
       "      <td>0.769045</td>\n",
       "    </tr>\n",
       "    <tr>\n",
       "      <th>word2vec</th>\n",
       "      <td>0.549296</td>\n",
       "      <td>0.551954</td>\n",
       "      <td>0.546667</td>\n",
       "      <td>0.563701</td>\n",
       "      <td>0.734578</td>\n",
       "      <td>0.741607</td>\n",
       "    </tr>\n",
       "    <tr>\n",
       "      <th>word2vec_pretrained</th>\n",
       "      <td>0.591549</td>\n",
       "      <td>0.606333</td>\n",
       "      <td>0.623737</td>\n",
       "      <td>0.595447</td>\n",
       "      <td>0.752430</td>\n",
       "      <td>0.761109</td>\n",
       "    </tr>\n",
       "    <tr>\n",
       "      <th>word2vec_pretrained svc</th>\n",
       "      <td>0.563380</td>\n",
       "      <td>0.573269</td>\n",
       "      <td>0.584057</td>\n",
       "      <td>0.565998</td>\n",
       "      <td>0.700435</td>\n",
       "      <td>0.709900</td>\n",
       "    </tr>\n",
       "    <tr>\n",
       "      <th>glove svc only release</th>\n",
       "      <td>0.647887</td>\n",
       "      <td>0.654106</td>\n",
       "      <td>0.665218</td>\n",
       "      <td>0.647034</td>\n",
       "      <td>0.759503</td>\n",
       "      <td>0.766930</td>\n",
       "    </tr>\n",
       "  </tbody>\n",
       "</table>\n",
       "</div>"
      ],
      "text/plain": [
       "                               accuracy        f1  precision    recall  \\\n",
       "min_baseline                   0.660000  0.663508   0.665185  0.662014   \n",
       "bow l1 only release            0.619718  0.625363   0.638134  0.617586   \n",
       "bow elasticnet                 0.605634  0.614252   0.627717  0.605681   \n",
       "bow release title              0.535211  0.540659   0.559180  0.530911   \n",
       "bow release all num            0.605634  0.608153   0.622475  0.600042   \n",
       "bow svc only release           0.661972  0.669910   0.690243  0.658939   \n",
       "tf_idf l1 only release         0.633803  0.636658   0.643844  0.633459   \n",
       "tf_idf only release best word  0.690141  0.687276   0.716378  0.677423   \n",
       "tf_idf title release           0.704225  0.704690   0.727814  0.694967   \n",
       "tf_idf numerical release       0.633803  0.636130   0.690598  0.619883   \n",
       "tf-idf svc only release        0.704225  0.703578   0.722616  0.696951   \n",
       "MultinomialNB                  0.591549  0.588805   0.581790  0.611007   \n",
       "word2vec                       0.549296  0.551954   0.546667  0.563701   \n",
       "word2vec_pretrained            0.591549  0.606333   0.623737  0.595447   \n",
       "word2vec_pretrained svc        0.563380  0.573269   0.584057  0.565998   \n",
       "glove svc only release         0.647887  0.654106   0.665218  0.647034   \n",
       "\n",
       "                               roc_auc_ovr  roc_auc_ovo  \n",
       "min_baseline                      0.741088     0.746510  \n",
       "bow l1 only release               0.769287     0.776198  \n",
       "bow elasticnet                    0.782629     0.789369  \n",
       "bow release title                 0.781719     0.787411  \n",
       "bow release all num               0.781633     0.786863  \n",
       "bow svc only release              0.777454     0.782790  \n",
       "tf_idf l1 only release            0.787036     0.793533  \n",
       "tf_idf only release best word     0.812873     0.818740  \n",
       "tf_idf title release              0.814459     0.819993  \n",
       "tf_idf numerical release          0.779646     0.783247  \n",
       "tf-idf svc only release           0.838408     0.842157  \n",
       "MultinomialNB                     0.758716     0.769045  \n",
       "word2vec                          0.734578     0.741607  \n",
       "word2vec_pretrained               0.752430     0.761109  \n",
       "word2vec_pretrained svc           0.700435     0.709900  \n",
       "glove svc only release            0.759503     0.766930  "
      ]
     },
     "execution_count": 7,
     "metadata": {},
     "output_type": "execute_result"
    }
   ],
   "source": [
    "metric, model = utils.calc_metrics(glove, y, SVC, name='glove svc only release', **best_model.get_params())\n",
    "metrics = pd.concat([metrics, metric], axis=0)\n",
    "metrics"
   ]
  },
  {
   "cell_type": "markdown",
   "metadata": {},
   "source": [
    "Как и в случае Word2Vec, качество лучшей модели получилось не лучше простых методов кодирования."
   ]
  },
  {
   "cell_type": "code",
   "execution_count": 8,
   "metadata": {},
   "outputs": [],
   "source": [
    "metrics.to_csv('metrics.csv')"
   ]
  },
  {
   "cell_type": "markdown",
   "metadata": {},
   "source": []
  }
 ],
 "metadata": {
  "kernelspec": {
   "display_name": "ml_yp",
   "language": "python",
   "name": "python3"
  },
  "language_info": {
   "codemirror_mode": {
    "name": "ipython",
    "version": 3
   },
   "file_extension": ".py",
   "mimetype": "text/x-python",
   "name": "python",
   "nbconvert_exporter": "python",
   "pygments_lexer": "ipython3",
   "version": "3.12.3"
  }
 },
 "nbformat": 4,
 "nbformat_minor": 2
}
