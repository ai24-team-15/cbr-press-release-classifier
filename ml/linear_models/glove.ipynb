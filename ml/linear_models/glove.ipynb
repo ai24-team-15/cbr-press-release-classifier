{
 "cells": [
  {
   "cell_type": "markdown",
   "metadata": {},
   "source": [
    "### GloVe плюс линейная модель"
   ]
  },
  {
   "cell_type": "markdown",
   "metadata": {},
   "source": [
    "Были подготовлены эмбеддинги для всего корпуса текстов пресс-релизов с помощью модели GloVe [https://github.com/stanfordnlp/GloVe](https://github.com/stanfordnlp/GloVe) c различной длиной вектора. Индекс векторов находится в каталоге `glove`."
   ]
  },
  {
   "cell_type": "code",
   "execution_count": 1,
   "metadata": {},
   "outputs": [
    {
     "name": "stderr",
     "output_type": "stream",
     "text": [
      "Intel(R) Extension for Scikit-learn* enabled (https://github.com/intel/scikit-learn-intelex)\n"
     ]
    }
   ],
   "source": [
    "from sklearnex import patch_sklearn\n",
    "patch_sklearn()\n",
    "\n",
    "import re\n",
    "\n",
    "import pandas as pd\n",
    "import numpy as np\n",
    "from tqdm import tqdm\n",
    "import nltk\n",
    "from nltk.corpus import stopwords\n",
    "from pymystem3 import Mystem\n",
    "from sklearn.svm import SVC\n",
    "from sklearn.base import BaseEstimator, TransformerMixin\n",
    "from sklearn.preprocessing import StandardScaler\n",
    "from joblib import Parallel, delayed\n",
    "import utils\n",
    "\n",
    "import warnings\n",
    "warnings.filterwarnings(\"ignore\")\n",
    "\n",
    "RANDOM_STATE = 41825352\n",
    "\n",
    "nltk.download('punkt', quiet=True)\n",
    "nltk.download('stopwords', quiet=True)\n",
    "nltk.download('punkt_tab', quiet=True);"
   ]
  },
  {
   "cell_type": "markdown",
   "metadata": {},
   "source": [
    "Загрузка датасета:"
   ]
  },
  {
   "cell_type": "code",
   "execution_count": null,
   "metadata": {},
   "outputs": [],
   "source": [
    "X = pd.read_csv('../data/x.csv', index_col='date')\n",
    "y = pd.read_csv('../data/y.csv', index_col='date').iloc[:, 0]\n",
    "\n",
    "metrics = pd.read_csv('metrics.csv', index_col=0)"
   ]
  },
  {
   "cell_type": "markdown",
   "metadata": {},
   "source": [
    "Генерация векторов:"
   ]
  },
  {
   "cell_type": "code",
   "execution_count": 3,
   "metadata": {},
   "outputs": [],
   "source": [
    "mystem = Mystem()\n",
    "STOP_WORDS = set(stopwords.words('russian'))\n",
    "\n",
    "def preprocessor(text):\n",
    "    text = text.lower()\n",
    "    regex = re.compile('[^а-я А-ЯЁё]')\n",
    "    text = regex.sub(' ', text)\n",
    "    text = ' '.join(mystem.lemmatize(text))\n",
    "    return ' '.join([word for word in text.split()])\n",
    "\n",
    "# сохраняем корпус текстов в файл\n",
    "with open('releases.txt', 'tw', encoding='utf-8') as f:\n",
    "    for x in X.release.apply(preprocessor):\n",
    "        f.write(x)\n",
    "        f.write(' ')\n",
    "\n",
    "# далее вызываем построение векторов при помощи glove для заданного размера вектора:\n",
    "# vocab_count -min-count 5 -verbose 2 < releases.txt > vocab.txt\n",
    "# cooccur -memory 4.0 -vocab-file vocab.txt -verbose 2 -window-size 15 < releases.txt > cooccurrence.bin\n",
    "# shuffle -memory 4.0 -verbose 2 < cooccurrence.bin > cooccurrence.shuf.bin\n",
    "# glove -save-file vectors -threads 8 -input-file cooccurrence.shuf.bin -x-max 10 -iter 15 -vector-size 50 -binary 2 -vocab-file vocab.txt -verbose 2"
   ]
  },
  {
   "cell_type": "markdown",
   "metadata": {},
   "source": [
    "Класс преобразования документа в вектор на основе индекса векторов:"
   ]
  },
  {
   "cell_type": "code",
   "execution_count": 4,
   "metadata": {},
   "outputs": [],
   "source": [
    "class GloveVectorizer(BaseEstimator, TransformerMixin):\n",
    "    def __init__(self, vectors_file, *, preprocessor=None, vector_size=-1):\n",
    "        self._preprocessor = preprocessor\n",
    "        self._vectors = {}\n",
    "        \n",
    "        with open(vectors_file, encoding=\"utf8\") as f:\n",
    "            for line in f:\n",
    "                word, *vector = line.split()\n",
    "                self._vectors[word] = np.array(vector, dtype=float)\n",
    "                max_size = len(vector)\n",
    "        \n",
    "        self._vector_size = vector_size if vector_size >= 0 and vector_size < max_size else max_size\n",
    "    \n",
    "    \n",
    "    def fit(self, X, y=None):\n",
    "        return self\n",
    "    \n",
    "    \n",
    "    def transform(self, X):\n",
    "        if self._preprocessor:\n",
    "            X = X.apply(self._preprocessor).tolist()\n",
    "        \n",
    "        return np.array([\n",
    "            np.mean([self._vectors[w][:self._vector_size] for w in words if w in self._vectors] \n",
    "                    or [np.zeros(self._vector_size)], axis=0)\n",
    "            for words in X\n",
    "        ])"
   ]
  },
  {
   "cell_type": "code",
   "execution_count": 5,
   "metadata": {},
   "outputs": [],
   "source": [
    "def preprocessor(text):\n",
    "    text = text.lower()\n",
    "    regex = re.compile('[^а-я А-ЯЁё]')\n",
    "    text = regex.sub(' ', text)\n",
    "    text = ' '.join(mystem.lemmatize(text))\n",
    "    return [\n",
    "        word for word in text.split()\n",
    "        if word not in STOP_WORDS\n",
    "    ]\n"
   ]
  },
  {
   "cell_type": "markdown",
   "metadata": {},
   "source": [
    "Подберем оптимальную длину вектора и параметры для SVM:"
   ]
  },
  {
   "cell_type": "code",
   "execution_count": null,
   "metadata": {},
   "outputs": [
    {
     "name": "stderr",
     "output_type": "stream",
     "text": [
      "100%|██████████| 4/4 [01:55<00:00, 28.81s/it]"
     ]
    },
    {
     "name": "stdout",
     "output_type": "stream",
     "text": [
      "Лучшая модель - SVC(C=10, probability=True, random_state=41825352)\n",
      "ROC-AUC = 0.7701108959690196\n",
      "Vector size = 100\n"
     ]
    },
    {
     "name": "stderr",
     "output_type": "stream",
     "text": [
      "\n"
     ]
    }
   ],
   "source": [
    "auc = []\n",
    "for vec_size in tqdm([50, 70, 90, 100]):\n",
    "    vectorizer = GloveVectorizer(f'../glove/vectors.100d.txt', preprocessor=preprocessor, vector_size=vec_size)\n",
    "    glove = vectorizer.fit_transform(X.release)\n",
    "    glove = StandardScaler().fit_transform(glove)\n",
    "    \n",
    "    for c in [0.01, 0.05, 0.1, 0.5, 1, 3, 5, 7, 10]:\n",
    "        for kernel in ['linear', 'poly', 'rbf', 'sigmoid']:\n",
    "            auc.append(\n",
    "                utils.calc_metrics(\n",
    "                    glove, y,\n",
    "                    SVC,\n",
    "                    name='glove svc only release', \n",
    "                    kernel=kernel,\n",
    "                    C=c,\n",
    "                    plot=False, \n",
    "                    probability=True,\n",
    "                    random_state=RANDOM_STATE\n",
    "                    ) + (glove,)\n",
    "                )\n",
    "\n",
    "roc_auc, best_model, glove = max(auc, key=lambda x: x[0])\n",
    "\n",
    "print(f\"Лучшая модель - {best_model}\")\n",
    "print(f\"ROC-AUC = {roc_auc}\")\n",
    "print(f\"Vector size = {glove.shape[1]}\")"
   ]
  },
  {
   "cell_type": "code",
   "execution_count": 11,
   "metadata": {},
   "outputs": [
    {
     "name": "stdout",
     "output_type": "stream",
     "text": [
      "              precision    recall  f1-score   support\n",
      "\n",
      "        -1.0       0.73      0.70      0.71        23\n",
      "         0.0       0.55      0.62      0.58        26\n",
      "         1.0       0.71      0.63      0.67        19\n",
      "\n",
      "    accuracy                           0.65        68\n",
      "   macro avg       0.66      0.65      0.65        68\n",
      "weighted avg       0.65      0.65      0.65        68\n",
      "\n"
     ]
    },
    {
     "data": {
      "image/png": "[encoded data removed]",
      "text/plain": [
       "<Figure size 640x480 with 2 Axes>"
      ]
     },
     "metadata": {},
     "output_type": "display_data"
    },
    {
     "data": {
      "text/html": [
       "<div>\n",
       "<style scoped>\n",
       "    .dataframe tbody tr th:only-of-type {\n",
       "        vertical-align: middle;\n",
       "    }\n",
       "\n",
       "    .dataframe tbody tr th {\n",
       "        vertical-align: top;\n",
       "    }\n",
       "\n",
       "    .dataframe thead th {\n",
       "        text-align: right;\n",
       "    }\n",
       "</style>\n",
       "<table border=\"1\" class=\"dataframe\">\n",
       "  <thead>\n",
       "    <tr style=\"text-align: right;\">\n",
       "      <th></th>\n",
       "      <th>accuracy</th>\n",
       "      <th>f1</th>\n",
       "      <th>precision</th>\n",
       "      <th>recall</th>\n",
       "      <th>roc_auc_ovr</th>\n",
       "      <th>roc_auc_ovo</th>\n",
       "    </tr>\n",
       "  </thead>\n",
       "  <tbody>\n",
       "    <tr>\n",
       "      <th>min_baseline</th>\n",
       "      <td>0.659794</td>\n",
       "      <td>0.664127</td>\n",
       "      <td>0.664127</td>\n",
       "      <td>0.664127</td>\n",
       "      <td>0.742845</td>\n",
       "      <td>0.748095</td>\n",
       "    </tr>\n",
       "    <tr>\n",
       "      <th>bow l1 only release</th>\n",
       "      <td>0.632353</td>\n",
       "      <td>0.639291</td>\n",
       "      <td>0.645750</td>\n",
       "      <td>0.634718</td>\n",
       "      <td>0.755293</td>\n",
       "      <td>0.761178</td>\n",
       "    </tr>\n",
       "    <tr>\n",
       "      <th>bow elasticnet</th>\n",
       "      <td>0.676471</td>\n",
       "      <td>0.682804</td>\n",
       "      <td>0.696465</td>\n",
       "      <td>0.674852</td>\n",
       "      <td>0.837479</td>\n",
       "      <td>0.840521</td>\n",
       "    </tr>\n",
       "    <tr>\n",
       "      <th>bow release title</th>\n",
       "      <td>0.661765</td>\n",
       "      <td>0.666369</td>\n",
       "      <td>0.684816</td>\n",
       "      <td>0.657308</td>\n",
       "      <td>0.834681</td>\n",
       "      <td>0.837807</td>\n",
       "    </tr>\n",
       "    <tr>\n",
       "      <th>bow release all num</th>\n",
       "      <td>0.676471</td>\n",
       "      <td>0.681421</td>\n",
       "      <td>0.690476</td>\n",
       "      <td>0.676524</td>\n",
       "      <td>0.833032</td>\n",
       "      <td>0.836091</td>\n",
       "    </tr>\n",
       "    <tr>\n",
       "      <th>bow svc only release</th>\n",
       "      <td>0.632353</td>\n",
       "      <td>0.635330</td>\n",
       "      <td>0.639098</td>\n",
       "      <td>0.633046</td>\n",
       "      <td>0.773909</td>\n",
       "      <td>0.777299</td>\n",
       "    </tr>\n",
       "    <tr>\n",
       "      <th>tf_idf l1 only release</th>\n",
       "      <td>0.632353</td>\n",
       "      <td>0.633909</td>\n",
       "      <td>0.639423</td>\n",
       "      <td>0.633339</td>\n",
       "      <td>0.779854</td>\n",
       "      <td>0.785322</td>\n",
       "    </tr>\n",
       "    <tr>\n",
       "      <th>tf_idf only release best word</th>\n",
       "      <td>0.764706</td>\n",
       "      <td>0.769046</td>\n",
       "      <td>0.770299</td>\n",
       "      <td>0.770962</td>\n",
       "      <td>0.906871</td>\n",
       "      <td>0.909142</td>\n",
       "    </tr>\n",
       "    <tr>\n",
       "      <th>tf_idf title release</th>\n",
       "      <td>0.735294</td>\n",
       "      <td>0.740476</td>\n",
       "      <td>0.754672</td>\n",
       "      <td>0.732529</td>\n",
       "      <td>0.895373</td>\n",
       "      <td>0.898903</td>\n",
       "    </tr>\n",
       "    <tr>\n",
       "      <th>tf_idf numerical release</th>\n",
       "      <td>0.691176</td>\n",
       "      <td>0.694553</td>\n",
       "      <td>0.713392</td>\n",
       "      <td>0.686000</td>\n",
       "      <td>0.833339</td>\n",
       "      <td>0.835035</td>\n",
       "    </tr>\n",
       "    <tr>\n",
       "      <th>tf-idf svc only release</th>\n",
       "      <td>0.794118</td>\n",
       "      <td>0.803775</td>\n",
       "      <td>0.810649</td>\n",
       "      <td>0.799654</td>\n",
       "      <td>0.923914</td>\n",
       "      <td>0.926773</td>\n",
       "    </tr>\n",
       "    <tr>\n",
       "      <th>MultinomialNB</th>\n",
       "      <td>0.632353</td>\n",
       "      <td>0.627996</td>\n",
       "      <td>0.625522</td>\n",
       "      <td>0.644458</td>\n",
       "      <td>0.763456</td>\n",
       "      <td>0.769950</td>\n",
       "    </tr>\n",
       "    <tr>\n",
       "      <th>word2vec</th>\n",
       "      <td>0.573529</td>\n",
       "      <td>0.575836</td>\n",
       "      <td>0.572222</td>\n",
       "      <td>0.580385</td>\n",
       "      <td>0.740064</td>\n",
       "      <td>0.745570</td>\n",
       "    </tr>\n",
       "    <tr>\n",
       "      <th>word2vec_pretrained</th>\n",
       "      <td>0.588235</td>\n",
       "      <td>0.602646</td>\n",
       "      <td>0.617677</td>\n",
       "      <td>0.592912</td>\n",
       "      <td>0.753236</td>\n",
       "      <td>0.760268</td>\n",
       "    </tr>\n",
       "    <tr>\n",
       "      <th>word2vec_pretrained_stop_words</th>\n",
       "      <td>0.529412</td>\n",
       "      <td>0.552778</td>\n",
       "      <td>0.581806</td>\n",
       "      <td>0.536613</td>\n",
       "      <td>0.709700</td>\n",
       "      <td>0.717831</td>\n",
       "    </tr>\n",
       "    <tr>\n",
       "      <th>word2vec_pretrained svc</th>\n",
       "      <td>0.544118</td>\n",
       "      <td>0.554137</td>\n",
       "      <td>0.550000</td>\n",
       "      <td>0.559174</td>\n",
       "      <td>0.696206</td>\n",
       "      <td>0.704512</td>\n",
       "    </tr>\n",
       "    <tr>\n",
       "      <th>glove svc only release</th>\n",
       "      <td>0.647059</td>\n",
       "      <td>0.653199</td>\n",
       "      <td>0.661626</td>\n",
       "      <td>0.647539</td>\n",
       "      <td>0.763768</td>\n",
       "      <td>0.770111</td>\n",
       "    </tr>\n",
       "  </tbody>\n",
       "</table>\n",
       "</div>"
      ],
      "text/plain": [
       "                                accuracy        f1  precision    recall  \\\n",
       "min_baseline                    0.659794  0.664127   0.664127  0.664127   \n",
       "bow l1 only release             0.632353  0.639291   0.645750  0.634718   \n",
       "bow elasticnet                  0.676471  0.682804   0.696465  0.674852   \n",
       "bow release title               0.661765  0.666369   0.684816  0.657308   \n",
       "bow release all num             0.676471  0.681421   0.690476  0.676524   \n",
       "bow svc only release            0.632353  0.635330   0.639098  0.633046   \n",
       "tf_idf l1 only release          0.632353  0.633909   0.639423  0.633339   \n",
       "tf_idf only release best word   0.764706  0.769046   0.770299  0.770962   \n",
       "tf_idf title release            0.735294  0.740476   0.754672  0.732529   \n",
       "tf_idf numerical release        0.691176  0.694553   0.713392  0.686000   \n",
       "tf-idf svc only release         0.794118  0.803775   0.810649  0.799654   \n",
       "MultinomialNB                   0.632353  0.627996   0.625522  0.644458   \n",
       "word2vec                        0.573529  0.575836   0.572222  0.580385   \n",
       "word2vec_pretrained             0.588235  0.602646   0.617677  0.592912   \n",
       "word2vec_pretrained_stop_words  0.529412  0.552778   0.581806  0.536613   \n",
       "word2vec_pretrained svc         0.544118  0.554137   0.550000  0.559174   \n",
       "glove svc only release          0.647059  0.653199   0.661626  0.647539   \n",
       "\n",
       "                                roc_auc_ovr  roc_auc_ovo  \n",
       "min_baseline                       0.742845     0.748095  \n",
       "bow l1 only release                0.755293     0.761178  \n",
       "bow elasticnet                     0.837479     0.840521  \n",
       "bow release title                  0.834681     0.837807  \n",
       "bow release all num                0.833032     0.836091  \n",
       "bow svc only release               0.773909     0.777299  \n",
       "tf_idf l1 only release             0.779854     0.785322  \n",
       "tf_idf only release best word      0.906871     0.909142  \n",
       "tf_idf title release               0.895373     0.898903  \n",
       "tf_idf numerical release           0.833339     0.835035  \n",
       "tf-idf svc only release            0.923914     0.926773  \n",
       "MultinomialNB                      0.763456     0.769950  \n",
       "word2vec                           0.740064     0.745570  \n",
       "word2vec_pretrained                0.753236     0.760268  \n",
       "word2vec_pretrained_stop_words     0.709700     0.717831  \n",
       "word2vec_pretrained svc            0.696206     0.704512  \n",
       "glove svc only release             0.763768     0.770111  "
      ]
     },
     "execution_count": 11,
     "metadata": {},
     "output_type": "execute_result"
    }
   ],
   "source": [
    "metric, model = utils.calc_metrics(glove, y, SVC, name='glove svc only release', **best_model.get_params())\n",
    "metrics = pd.concat([metrics, metric], axis=0)\n",
    "metrics"
   ]
  },
  {
   "cell_type": "markdown",
   "metadata": {},
   "source": [
    "Как и в случае Word2Vec, качество лучшей модели получилось не слишком высоким."
   ]
  },
  {
   "cell_type": "code",
   "execution_count": 12,
   "metadata": {},
   "outputs": [],
   "source": [
    "metrics.to_csv('metrics.csv')"
   ]
  },
  {
   "cell_type": "markdown",
   "metadata": {},
   "source": []
  }
 ],
 "metadata": {
  "kernelspec": {
   "display_name": "ml_yp",
   "language": "python",
   "name": "python3"
  },
  "language_info": {
   "codemirror_mode": {
    "name": "ipython",
    "version": 3
   },
   "file_extension": ".py",
   "mimetype": "text/x-python",
   "name": "python",
   "nbconvert_exporter": "python",
   "pygments_lexer": "ipython3",
   "version": "3.12.3"
  }
 },
 "nbformat": 4,
 "nbformat_minor": 2
}
