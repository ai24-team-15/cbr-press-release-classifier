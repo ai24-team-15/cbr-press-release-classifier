{
 "cells": [
  {
   "cell_type": "markdown",
   "metadata": {},
   "source": [
    "### GloVe плюс линейная модель"
   ]
  },
  {
   "cell_type": "markdown",
   "metadata": {},
   "source": [
    "Были подготовлены эмбеддинги для всего корпуса текстов пресс-релизов с помощью модели GloVe [https://github.com/stanfordnlp/GloVe](https://github.com/stanfordnlp/GloVe) c различной длиной вектора. Индекс векторов находится в каталоге `glove`."
   ]
  },
  {
   "cell_type": "code",
   "execution_count": 1,
   "metadata": {},
   "outputs": [
    {
     "name": "stderr",
     "output_type": "stream",
     "text": [
      "Intel(R) Extension for Scikit-learn* enabled (https://github.com/intel/scikit-learn-intelex)\n"
     ]
    }
   ],
   "source": [
    "import sys\n",
    "import os\n",
    "\n",
    "sys.path.append(os.path.abspath(os.path.join(\"..\")))\n",
    "\n",
    "from sklearnex import patch_sklearn\n",
    "patch_sklearn()\n",
    "\n",
    "import re\n",
    "\n",
    "import pandas as pd\n",
    "import numpy as np\n",
    "from tqdm import tqdm\n",
    "import nltk\n",
    "from nltk.corpus import stopwords\n",
    "from pymystem3 import Mystem\n",
    "from sklearn.svm import SVC\n",
    "from sklearn.base import BaseEstimator, TransformerMixin\n",
    "from sklearn.preprocessing import StandardScaler\n",
    "from joblib import Parallel, delayed\n",
    "import utils\n",
    "\n",
    "import warnings\n",
    "warnings.filterwarnings(\"ignore\")\n",
    "\n",
    "RANDOM_STATE = 41825352\n",
    "\n",
    "nltk.download('punkt', quiet=True)\n",
    "nltk.download('stopwords', quiet=True)\n",
    "nltk.download('punkt_tab', quiet=True);"
   ]
  },
  {
   "cell_type": "markdown",
   "metadata": {},
   "source": [
    "Загрузка датасета:"
   ]
  },
  {
   "cell_type": "code",
   "execution_count": 2,
   "metadata": {},
   "outputs": [],
   "source": [
    "X = pd.read_csv('../data/x.csv', index_col='date')\n",
    "y = pd.read_csv('../data/y.csv', index_col='date').iloc[:, 0]\n",
    "\n",
    "metrics = pd.read_csv('metrics.csv', index_col=0)"
   ]
  },
  {
   "cell_type": "markdown",
   "metadata": {},
   "source": [
    "Генерация векторов:"
   ]
  },
  {
   "cell_type": "code",
   "execution_count": 3,
   "metadata": {},
   "outputs": [],
   "source": [
    "mystem = Mystem()\n",
    "STOP_WORDS = set(stopwords.words('russian'))\n",
    "\n",
    "def preprocessor(text):\n",
    "    text = text.lower()\n",
    "    regex = re.compile('[^а-я А-ЯЁё]')\n",
    "    text = regex.sub(' ', text)\n",
    "    text = ' '.join(mystem.lemmatize(text))\n",
    "    return ' '.join([word for word in text.split()])\n",
    "\n",
    "# сохраняем корпус текстов в файл\n",
    "with open('releases.txt', 'tw', encoding='utf-8') as f:\n",
    "    for x in X.release.apply(preprocessor):\n",
    "        f.write(x)\n",
    "        f.write(' ')\n",
    "\n",
    "# далее вызываем построение векторов при помощи glove для заданного размера вектора:\n",
    "# vocab_count -min-count 5 -verbose 2 < releases.txt > vocab.txt\n",
    "# cooccur -memory 4.0 -vocab-file vocab.txt -verbose 2 -window-size 15 < releases.txt > cooccurrence.bin\n",
    "# shuffle -memory 4.0 -verbose 2 < cooccurrence.bin > cooccurrence.shuf.bin\n",
    "# glove -save-file vectors -threads 8 -input-file cooccurrence.shuf.bin -x-max 10 -iter 15 -vector-size 50 -binary 2 -vocab-file vocab.txt -verbose 2"
   ]
  },
  {
   "cell_type": "markdown",
   "metadata": {},
   "source": [
    "Класс преобразования документа в вектор на основе индекса векторов:"
   ]
  },
  {
   "cell_type": "code",
   "execution_count": 4,
   "metadata": {},
   "outputs": [],
   "source": [
    "class GloveVectorizer(BaseEstimator, TransformerMixin):\n",
    "    def __init__(self, vectors_file, *, preprocessor=None, vector_size=-1):\n",
    "        self._preprocessor = preprocessor\n",
    "        self._vectors = {}\n",
    "        \n",
    "        with open(vectors_file, encoding=\"utf8\") as f:\n",
    "            for line in f:\n",
    "                word, *vector = line.split()\n",
    "                self._vectors[word] = np.array(vector, dtype=float)\n",
    "                max_size = len(vector)\n",
    "        \n",
    "        self._vector_size = vector_size if vector_size >= 0 and vector_size < max_size else max_size\n",
    "    \n",
    "    \n",
    "    def fit(self, X, y=None):\n",
    "        return self\n",
    "    \n",
    "    \n",
    "    def transform(self, X):\n",
    "        if self._preprocessor:\n",
    "            X = X.apply(self._preprocessor).tolist()\n",
    "        \n",
    "        return np.array([\n",
    "            np.mean([self._vectors[w][:self._vector_size] for w in words if w in self._vectors] \n",
    "                    or [np.zeros(self._vector_size)], axis=0)\n",
    "            for words in X\n",
    "        ])"
   ]
  },
  {
   "cell_type": "code",
   "execution_count": 5,
   "metadata": {},
   "outputs": [],
   "source": [
    "def preprocessor(text):\n",
    "    text = text.lower()\n",
    "    regex = re.compile('[^а-я А-ЯЁё]')\n",
    "    text = regex.sub(' ', text)\n",
    "    text = ' '.join(mystem.lemmatize(text))\n",
    "    return [\n",
    "        word for word in text.split()\n",
    "        if word not in STOP_WORDS\n",
    "    ]\n"
   ]
  },
  {
   "cell_type": "markdown",
   "metadata": {},
   "source": [
    "Подберем оптимальную длину вектора и параметры для SVM:"
   ]
  },
  {
   "cell_type": "code",
   "execution_count": 6,
   "metadata": {},
   "outputs": [
    {
     "name": "stderr",
     "output_type": "stream",
     "text": [
      "100%|██████████| 4/4 [01:57<00:00, 29.44s/it]"
     ]
    },
    {
     "name": "stdout",
     "output_type": "stream",
     "text": [
      "Лучшая модель - SVC(C=3, probability=True, random_state=41825352)\n",
      "ROC-AUC = 0.7742453960989429\n",
      "Vector size = 100\n"
     ]
    },
    {
     "name": "stderr",
     "output_type": "stream",
     "text": [
      "\n"
     ]
    }
   ],
   "source": [
    "auc = []\n",
    "for vec_size in tqdm([50, 70, 90, 100]):\n",
    "    vectorizer = GloveVectorizer(f'../glove/vectors.100d.txt', preprocessor=preprocessor, vector_size=vec_size)\n",
    "    glove = vectorizer.fit_transform(X.release)\n",
    "    glove = StandardScaler().fit_transform(glove)\n",
    "    \n",
    "    for c in [0.01, 0.05, 0.1, 0.5, 1, 3, 5, 7, 10]:\n",
    "        for kernel in ['linear', 'poly', 'rbf', 'sigmoid']:\n",
    "            auc.append(\n",
    "                utils.calc_metrics(\n",
    "                    glove, y,\n",
    "                    SVC,\n",
    "                    name='glove svc only release', \n",
    "                    kernel=kernel,\n",
    "                    C=c,\n",
    "                    plot=False, \n",
    "                    probability=True,\n",
    "                    random_state=RANDOM_STATE\n",
    "                    ) + (glove,)\n",
    "                )\n",
    "\n",
    "roc_auc, best_model, glove = max(auc, key=lambda x: x[0])\n",
    "\n",
    "print(f\"Лучшая модель - {best_model}\")\n",
    "print(f\"ROC-AUC = {roc_auc}\")\n",
    "print(f\"Vector size = {glove.shape[1]}\")"
   ]
  },
  {
   "cell_type": "code",
   "execution_count": 7,
   "metadata": {},
   "outputs": [
    {
     "name": "stdout",
     "output_type": "stream",
     "text": [
      "              precision    recall  f1-score   support\n",
      "\n",
      "        -1.0       0.68      0.74      0.71        23\n",
      "         0.0       0.59      0.68      0.63        28\n",
      "         1.0       0.85      0.58      0.69        19\n",
      "\n",
      "    accuracy                           0.67        70\n",
      "   macro avg       0.71      0.67      0.68        70\n",
      "weighted avg       0.69      0.67      0.67        70\n",
      "\n"
     ]
    },
    {
     "data": {
      "image/png": "[encoded data removed]",
      "text/plain": [
       "<Figure size 640x480 with 2 Axes>"
      ]
     },
     "metadata": {},
     "output_type": "display_data"
    },
    {
     "data": {
      "text/html": [
       "<div>\n",
       "<style scoped>\n",
       "    .dataframe tbody tr th:only-of-type {\n",
       "        vertical-align: middle;\n",
       "    }\n",
       "\n",
       "    .dataframe tbody tr th {\n",
       "        vertical-align: top;\n",
       "    }\n",
       "\n",
       "    .dataframe thead th {\n",
       "        text-align: right;\n",
       "    }\n",
       "</style>\n",
       "<table border=\"1\" class=\"dataframe\">\n",
       "  <thead>\n",
       "    <tr style=\"text-align: right;\">\n",
       "      <th></th>\n",
       "      <th>accuracy</th>\n",
       "      <th>f1</th>\n",
       "      <th>precision</th>\n",
       "      <th>recall</th>\n",
       "      <th>roc_auc_ovr</th>\n",
       "      <th>roc_auc_ovo</th>\n",
       "    </tr>\n",
       "  </thead>\n",
       "  <tbody>\n",
       "    <tr>\n",
       "      <th>min_baseline</th>\n",
       "      <td>0.666667</td>\n",
       "      <td>0.669899</td>\n",
       "      <td>0.669899</td>\n",
       "      <td>0.669899</td>\n",
       "      <td>0.746871</td>\n",
       "      <td>0.752424</td>\n",
       "    </tr>\n",
       "    <tr>\n",
       "      <th>bow l1 only release</th>\n",
       "      <td>0.585714</td>\n",
       "      <td>0.580556</td>\n",
       "      <td>0.598462</td>\n",
       "      <td>0.577204</td>\n",
       "      <td>0.772803</td>\n",
       "      <td>0.780416</td>\n",
       "    </tr>\n",
       "    <tr>\n",
       "      <th>bow elasticnet</th>\n",
       "      <td>0.542857</td>\n",
       "      <td>0.551203</td>\n",
       "      <td>0.549464</td>\n",
       "      <td>0.553231</td>\n",
       "      <td>0.788848</td>\n",
       "      <td>0.794391</td>\n",
       "    </tr>\n",
       "    <tr>\n",
       "      <th>bow release title</th>\n",
       "      <td>0.585714</td>\n",
       "      <td>0.590476</td>\n",
       "      <td>0.602273</td>\n",
       "      <td>0.583306</td>\n",
       "      <td>0.787091</td>\n",
       "      <td>0.792225</td>\n",
       "    </tr>\n",
       "    <tr>\n",
       "      <th>bow release all num</th>\n",
       "      <td>0.571429</td>\n",
       "      <td>0.577103</td>\n",
       "      <td>0.591028</td>\n",
       "      <td>0.568813</td>\n",
       "      <td>0.786416</td>\n",
       "      <td>0.792034</td>\n",
       "    </tr>\n",
       "    <tr>\n",
       "      <th>bow svc only release</th>\n",
       "      <td>0.671429</td>\n",
       "      <td>0.680949</td>\n",
       "      <td>0.696821</td>\n",
       "      <td>0.671652</td>\n",
       "      <td>0.783436</td>\n",
       "      <td>0.789896</td>\n",
       "    </tr>\n",
       "    <tr>\n",
       "      <th>tf_idf l1 only release</th>\n",
       "      <td>0.642857</td>\n",
       "      <td>0.644898</td>\n",
       "      <td>0.650412</td>\n",
       "      <td>0.644328</td>\n",
       "      <td>0.791733</td>\n",
       "      <td>0.798613</td>\n",
       "    </tr>\n",
       "    <tr>\n",
       "      <th>tf_idf only release best word</th>\n",
       "      <td>0.714286</td>\n",
       "      <td>0.713948</td>\n",
       "      <td>0.734127</td>\n",
       "      <td>0.706440</td>\n",
       "      <td>0.821224</td>\n",
       "      <td>0.827109</td>\n",
       "    </tr>\n",
       "    <tr>\n",
       "      <th>tf_idf title release</th>\n",
       "      <td>0.700000</td>\n",
       "      <td>0.701671</td>\n",
       "      <td>0.724795</td>\n",
       "      <td>0.691947</td>\n",
       "      <td>0.820483</td>\n",
       "      <td>0.826291</td>\n",
       "    </tr>\n",
       "    <tr>\n",
       "      <th>tf_idf numerical release</th>\n",
       "      <td>0.685714</td>\n",
       "      <td>0.693732</td>\n",
       "      <td>0.730159</td>\n",
       "      <td>0.677918</td>\n",
       "      <td>0.765456</td>\n",
       "      <td>0.767557</td>\n",
       "    </tr>\n",
       "    <tr>\n",
       "      <th>tf-idf svc only release</th>\n",
       "      <td>0.714286</td>\n",
       "      <td>0.714966</td>\n",
       "      <td>0.720696</td>\n",
       "      <td>0.714667</td>\n",
       "      <td>0.848992</td>\n",
       "      <td>0.853520</td>\n",
       "    </tr>\n",
       "    <tr>\n",
       "      <th>MultinomialNB</th>\n",
       "      <td>0.642857</td>\n",
       "      <td>0.641903</td>\n",
       "      <td>0.638889</td>\n",
       "      <td>0.658194</td>\n",
       "      <td>0.770987</td>\n",
       "      <td>0.779122</td>\n",
       "    </tr>\n",
       "    <tr>\n",
       "      <th>word2vec</th>\n",
       "      <td>0.585714</td>\n",
       "      <td>0.589630</td>\n",
       "      <td>0.588044</td>\n",
       "      <td>0.591533</td>\n",
       "      <td>0.746376</td>\n",
       "      <td>0.753160</td>\n",
       "    </tr>\n",
       "    <tr>\n",
       "      <th>word2vec_pretrained</th>\n",
       "      <td>0.600000</td>\n",
       "      <td>0.613757</td>\n",
       "      <td>0.628788</td>\n",
       "      <td>0.603901</td>\n",
       "      <td>0.761861</td>\n",
       "      <td>0.770214</td>\n",
       "    </tr>\n",
       "    <tr>\n",
       "      <th>word2vec_pretrained svc</th>\n",
       "      <td>0.571429</td>\n",
       "      <td>0.580603</td>\n",
       "      <td>0.589098</td>\n",
       "      <td>0.574452</td>\n",
       "      <td>0.710016</td>\n",
       "      <td>0.719148</td>\n",
       "    </tr>\n",
       "    <tr>\n",
       "      <th>glove svc only release</th>\n",
       "      <td>0.671429</td>\n",
       "      <td>0.676389</td>\n",
       "      <td>0.706635</td>\n",
       "      <td>0.665550</td>\n",
       "      <td>0.766944</td>\n",
       "      <td>0.774245</td>\n",
       "    </tr>\n",
       "  </tbody>\n",
       "</table>\n",
       "</div>"
      ],
      "text/plain": [
       "                               accuracy        f1  precision    recall  \\\n",
       "min_baseline                   0.666667  0.669899   0.669899  0.669899   \n",
       "bow l1 only release            0.585714  0.580556   0.598462  0.577204   \n",
       "bow elasticnet                 0.542857  0.551203   0.549464  0.553231   \n",
       "bow release title              0.585714  0.590476   0.602273  0.583306   \n",
       "bow release all num            0.571429  0.577103   0.591028  0.568813   \n",
       "bow svc only release           0.671429  0.680949   0.696821  0.671652   \n",
       "tf_idf l1 only release         0.642857  0.644898   0.650412  0.644328   \n",
       "tf_idf only release best word  0.714286  0.713948   0.734127  0.706440   \n",
       "tf_idf title release           0.700000  0.701671   0.724795  0.691947   \n",
       "tf_idf numerical release       0.685714  0.693732   0.730159  0.677918   \n",
       "tf-idf svc only release        0.714286  0.714966   0.720696  0.714667   \n",
       "MultinomialNB                  0.642857  0.641903   0.638889  0.658194   \n",
       "word2vec                       0.585714  0.589630   0.588044  0.591533   \n",
       "word2vec_pretrained            0.600000  0.613757   0.628788  0.603901   \n",
       "word2vec_pretrained svc        0.571429  0.580603   0.589098  0.574452   \n",
       "glove svc only release         0.671429  0.676389   0.706635  0.665550   \n",
       "\n",
       "                               roc_auc_ovr  roc_auc_ovo  \n",
       "min_baseline                      0.746871     0.752424  \n",
       "bow l1 only release               0.772803     0.780416  \n",
       "bow elasticnet                    0.788848     0.794391  \n",
       "bow release title                 0.787091     0.792225  \n",
       "bow release all num               0.786416     0.792034  \n",
       "bow svc only release              0.783436     0.789896  \n",
       "tf_idf l1 only release            0.791733     0.798613  \n",
       "tf_idf only release best word     0.821224     0.827109  \n",
       "tf_idf title release              0.820483     0.826291  \n",
       "tf_idf numerical release          0.765456     0.767557  \n",
       "tf-idf svc only release           0.848992     0.853520  \n",
       "MultinomialNB                     0.770987     0.779122  \n",
       "word2vec                          0.746376     0.753160  \n",
       "word2vec_pretrained               0.761861     0.770214  \n",
       "word2vec_pretrained svc           0.710016     0.719148  \n",
       "glove svc only release            0.766944     0.774245  "
      ]
     },
     "execution_count": 7,
     "metadata": {},
     "output_type": "execute_result"
    }
   ],
   "source": [
    "metric, model = utils.calc_metrics(glove, y, SVC, name='glove svc only release', **best_model.get_params())\n",
    "metrics = pd.concat([metrics, metric], axis=0)\n",
    "metrics"
   ]
  },
  {
   "cell_type": "markdown",
   "metadata": {},
   "source": [
    "Как и в случае Word2Vec, качество лучшей модели получилось не лучше простых методов кодирования."
   ]
  },
  {
   "cell_type": "code",
   "execution_count": 8,
   "metadata": {},
   "outputs": [],
   "source": [
    "metrics.to_csv('metrics.csv')"
   ]
  },
  {
   "cell_type": "markdown",
   "metadata": {},
   "source": []
  }
 ],
 "metadata": {
  "kernelspec": {
   "display_name": "ml_yp",
   "language": "python",
   "name": "python3"
  },
  "language_info": {
   "codemirror_mode": {
    "name": "ipython",
    "version": 3
   },
   "file_extension": ".py",
   "mimetype": "text/x-python",
   "name": "python",
   "nbconvert_exporter": "python",
   "pygments_lexer": "ipython3",
   "version": "3.12.3"
  }
 },
 "nbformat": 4,
 "nbformat_minor": 2
}
