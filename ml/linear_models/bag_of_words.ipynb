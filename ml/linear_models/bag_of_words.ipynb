{
 "cells": [
  {
   "cell_type": "code",
   "execution_count": 25,
   "metadata": {},
   "outputs": [
    {
     "name": "stderr",
     "output_type": "stream",
     "text": [
      "Intel(R) Extension for Scikit-learn* enabled (https://github.com/intel/scikit-learn-intelex)\n"
     ]
    }
   ],
   "source": [
    "from sklearnex import patch_sklearn\n",
    "patch_sklearn()\n",
    "\n",
    "import re\n",
    "import sys\n",
    "import os\n",
    "\n",
    "sys.path.append(os.path.abspath(os.path.join(\"..\")))\n",
    "\n",
    "import numpy as np\n",
    "import pandas as pd\n",
    "import optuna\n",
    "from tqdm import tqdm\n",
    "from pymystem3 import Mystem\n",
    "from nltk.corpus import stopwords\n",
    "from sklearn.preprocessing import StandardScaler\n",
    "from sklearn.feature_extraction.text import CountVectorizer\n",
    "from sklearn.linear_model import LogisticRegression\n",
    "from sklearn.svm import SVC\n",
    "from sklearn.pipeline import Pipeline\n",
    "from sklearn.feature_selection import SelectFromModel\n",
    "from joblib import Parallel, delayed\n",
    "\n",
    "from utils import calc_metrics\n",
    "\n",
    "import warnings\n",
    "warnings.filterwarnings('ignore')\n",
    "\n",
    "RANDOM_STATE = 41825352"
   ]
  },
  {
   "cell_type": "code",
   "execution_count": 26,
   "metadata": {},
   "outputs": [],
   "source": [
    "X = pd.read_csv('../data/x.csv', index_col='date')\n",
    "y = pd.read_csv('../data/y.csv', index_col='date').iloc[:, 0]\n",
    "\n",
    "metrics = pd.read_csv('metrics.csv', index_col=0)"
   ]
  },
  {
   "cell_type": "markdown",
   "metadata": {},
   "source": [
    "### Мешок слов плюс линейная модель"
   ]
  },
  {
   "cell_type": "markdown",
   "metadata": {},
   "source": [
    "Создадим функцию для тестирования наших моделей. Зададим начальный порог и будем обучать, модель на наблюдениях до порога, а тестировать на одном наблюдении после. Двигая порог протестируем нашу модель. И потом сравним с истинными ответами. Качество всех наших моделей будем записывать в табличку."
   ]
  },
  {
   "cell_type": "markdown",
   "metadata": {},
   "source": [
    "Обучим логистическую регрессию с l1 регуляризацией, она нам покажет какие слова не влияют на предсказание модели."
   ]
  },
  {
   "cell_type": "code",
   "execution_count": 27,
   "metadata": {},
   "outputs": [],
   "source": [
    "mystem = Mystem()\n",
    "STOP_WORDS = set(stopwords.words('russian'))\n",
    "\n",
    "def preprocessor(text):\n",
    "    text = text.lower()\n",
    "    regex = re.compile('[^а-я А-ЯЁё]')\n",
    "    text = regex.sub(' ', text)\n",
    "    text = ' '.join(mystem.lemmatize(text))\n",
    "    text = ' '.join([word for word in text.split() if word not in STOP_WORDS])\n",
    "    return text\n",
    "\n",
    "vectorizer = CountVectorizer(\n",
    "    preprocessor=preprocessor,\n",
    ")\n",
    "\n",
    "vectorizer.fit(X.release)\n",
    "\n",
    "bow = vectorizer.transform(X.release)"
   ]
  },
  {
   "cell_type": "code",
   "execution_count": 28,
   "metadata": {},
   "outputs": [
    {
     "name": "stdout",
     "output_type": "stream",
     "text": [
      "Лучшая модель - LogisticRegression(C=7.931241379310346, penalty='l1', random_state=41825352,\n",
      "                   solver='liblinear')\n",
      "ROC-AUC = 0.7765629855637485\n"
     ]
    }
   ],
   "source": [
    "auc = Parallel(n_jobs=-1)(delayed(calc_metrics)(\n",
    "    bow, y, LogisticRegression, name='bow l1 only release', plot=False,\n",
    "    solver='liblinear', penalty='l1', C=c.item(), random_state=RANDOM_STATE\n",
    ") for c in np.linspace(0.001, 10, 30))\n",
    "\n",
    "roc_auc, best_model = max(auc)\n",
    "\n",
    "print(f\"Лучшая модель - {best_model}\")\n",
    "print(f\"ROC-AUC = {roc_auc}\")"
   ]
  },
  {
   "cell_type": "markdown",
   "metadata": {},
   "source": [
    "Рассмотрим подробнее лучшую модель."
   ]
  },
  {
   "cell_type": "code",
   "execution_count": 29,
   "metadata": {},
   "outputs": [
    {
     "name": "stdout",
     "output_type": "stream",
     "text": [
      "              precision    recall  f1-score   support\n",
      "\n",
      "        -1.0       0.70      0.70      0.70        23\n",
      "         0.0       0.53      0.59      0.56        27\n",
      "         1.0       0.69      0.58      0.63        19\n",
      "\n",
      "    accuracy                           0.62        69\n",
      "   macro avg       0.64      0.62      0.63        69\n",
      "weighted avg       0.63      0.62      0.62        69\n",
      "\n"
     ]
    },
    {
     "data": {
      "image/png": "[encoded data removed]",
      "text/plain": [
       "<Figure size 640x480 with 2 Axes>"
      ]
     },
     "metadata": {},
     "output_type": "display_data"
    },
    {
     "data": {
      "text/html": [
       "<div>\n",
       "<style scoped>\n",
       "    .dataframe tbody tr th:only-of-type {\n",
       "        vertical-align: middle;\n",
       "    }\n",
       "\n",
       "    .dataframe tbody tr th {\n",
       "        vertical-align: top;\n",
       "    }\n",
       "\n",
       "    .dataframe thead th {\n",
       "        text-align: right;\n",
       "    }\n",
       "</style>\n",
       "<table border=\"1\" class=\"dataframe\">\n",
       "  <thead>\n",
       "    <tr style=\"text-align: right;\">\n",
       "      <th></th>\n",
       "      <th>accuracy</th>\n",
       "      <th>f1</th>\n",
       "      <th>precision</th>\n",
       "      <th>recall</th>\n",
       "      <th>roc_auc_ovr</th>\n",
       "      <th>roc_auc_ovo</th>\n",
       "    </tr>\n",
       "  </thead>\n",
       "  <tbody>\n",
       "    <tr>\n",
       "      <th>min_baseline</th>\n",
       "      <td>0.663265</td>\n",
       "      <td>0.667080</td>\n",
       "      <td>0.667080</td>\n",
       "      <td>0.667080</td>\n",
       "      <td>0.744899</td>\n",
       "      <td>0.750310</td>\n",
       "    </tr>\n",
       "    <tr>\n",
       "      <th>bow l1 only release</th>\n",
       "      <td>0.623188</td>\n",
       "      <td>0.628542</td>\n",
       "      <td>0.638829</td>\n",
       "      <td>0.622397</td>\n",
       "      <td>0.770395</td>\n",
       "      <td>0.776563</td>\n",
       "    </tr>\n",
       "  </tbody>\n",
       "</table>\n",
       "</div>"
      ],
      "text/plain": [
       "                     accuracy        f1  precision    recall  roc_auc_ovr  \\\n",
       "min_baseline         0.663265  0.667080   0.667080  0.667080     0.744899   \n",
       "bow l1 only release  0.623188  0.628542   0.638829  0.622397     0.770395   \n",
       "\n",
       "                     roc_auc_ovo  \n",
       "min_baseline            0.750310  \n",
       "bow l1 only release     0.776563  "
      ]
     },
     "execution_count": 29,
     "metadata": {},
     "output_type": "execute_result"
    }
   ],
   "source": [
    "metric, model = calc_metrics(bow, y, LogisticRegression, name='bow l1 only release', **best_model.get_params())\n",
    "metrics = pd.concat([metrics, metric], axis=0)\n",
    "metrics"
   ]
  },
  {
   "cell_type": "markdown",
   "metadata": {},
   "source": [
    "Мы немного улучшили минимальный бейзлайн. Подберем гиперпараметры для elasticnet с помощью optuna, используя отбор слов при помощи логистической регрессии с L1-регуляризацией. Таким образом мы отбросим дополнительные признаки, которые не важны для этой модели."
   ]
  },
  {
   "cell_type": "code",
   "execution_count": 30,
   "metadata": {},
   "outputs": [
    {
     "name": "stderr",
     "output_type": "stream",
     "text": [
      "Best trial: 45. Best value: 0.788909: 100%|██████████| 100/100 [03:01<00:00,  1.82s/it]\n"
     ]
    }
   ],
   "source": [
    "def objective(trial, bow):\n",
    "    # параметры для перебора\n",
    "    params = {\n",
    "        'C': trial.suggest_float('C', 0.01, 500),\n",
    "        'C2': trial.suggest_float('C2', 0.01, 500),\n",
    "        'l1_ratio': trial.suggest_float('l1_ratio', 0.001, 1),\n",
    "    }\n",
    "\n",
    "    # определяем модель для отбора признаков\n",
    "    estimator = LogisticRegression(\n",
    "        penalty=\"l1\", solver=\"liblinear\", C=params[\"C\"], max_iter=1000, random_state=RANDOM_STATE\n",
    "    )\n",
    "\n",
    "    # определяем pipeline\n",
    "    pipeline = Pipeline([\n",
    "        (\"selector\", SelectFromModel(estimator)),\n",
    "        (\n",
    "            \"model\",\n",
    "            LogisticRegression(C=params[\"C2\"], l1_ratio=params[\"l1_ratio\"], solver='saga',\n",
    "                                     penalty='elasticnet', max_iter=10000,\n",
    "                                     random_state=RANDOM_STATE),\n",
    "        ),\n",
    "    ])\n",
    "\n",
    "    # считаем метрики на кросс валидации\n",
    "    try:\n",
    "        metric, _ = calc_metrics(bow, y, pipeline, name=\" \", plot=False, calc_jobs=-1)\n",
    "    except ValueError or IndexError:\n",
    "        return -np.inf\n",
    "\n",
    "    return metric\n",
    "\n",
    "# устанавливаем уровень логирования optuna\n",
    "optuna.logging.set_verbosity(optuna.logging.WARNING)\n",
    "\n",
    "# запускаем подбор гиперпараметров\n",
    "study = optuna.create_study(direction=\"maximize\")\n",
    "study.optimize(lambda trial: objective(trial, bow), n_trials=100, show_progress_bar=True)"
   ]
  },
  {
   "cell_type": "markdown",
   "metadata": {},
   "source": [
    "Обучим лучшую модель и посмотрим ее оценки качества подробнее."
   ]
  },
  {
   "cell_type": "code",
   "execution_count": 31,
   "metadata": {},
   "outputs": [
    {
     "name": "stdout",
     "output_type": "stream",
     "text": [
      "              precision    recall  f1-score   support\n",
      "\n",
      "        -1.0       0.70      0.70      0.70        23\n",
      "         0.0       0.52      0.56      0.54        27\n",
      "         1.0       0.65      0.58      0.61        19\n",
      "\n",
      "    accuracy                           0.61        69\n",
      "   macro avg       0.62      0.61      0.61        69\n",
      "weighted avg       0.61      0.61      0.61        69\n",
      "\n"
     ]
    },
    {
     "data": {
      "image/png": "[encoded data removed]",
      "text/plain": [
       "<Figure size 640x480 with 2 Axes>"
      ]
     },
     "metadata": {},
     "output_type": "display_data"
    },
    {
     "data": {
      "text/html": [
       "<div>\n",
       "<style scoped>\n",
       "    .dataframe tbody tr th:only-of-type {\n",
       "        vertical-align: middle;\n",
       "    }\n",
       "\n",
       "    .dataframe tbody tr th {\n",
       "        vertical-align: top;\n",
       "    }\n",
       "\n",
       "    .dataframe thead th {\n",
       "        text-align: right;\n",
       "    }\n",
       "</style>\n",
       "<table border=\"1\" class=\"dataframe\">\n",
       "  <thead>\n",
       "    <tr style=\"text-align: right;\">\n",
       "      <th></th>\n",
       "      <th>accuracy</th>\n",
       "      <th>f1</th>\n",
       "      <th>precision</th>\n",
       "      <th>recall</th>\n",
       "      <th>roc_auc_ovr</th>\n",
       "      <th>roc_auc_ovo</th>\n",
       "    </tr>\n",
       "  </thead>\n",
       "  <tbody>\n",
       "    <tr>\n",
       "      <th>min_baseline</th>\n",
       "      <td>0.663265</td>\n",
       "      <td>0.667080</td>\n",
       "      <td>0.667080</td>\n",
       "      <td>0.667080</td>\n",
       "      <td>0.744899</td>\n",
       "      <td>0.750310</td>\n",
       "    </tr>\n",
       "    <tr>\n",
       "      <th>bow l1 only release</th>\n",
       "      <td>0.623188</td>\n",
       "      <td>0.628542</td>\n",
       "      <td>0.638829</td>\n",
       "      <td>0.622397</td>\n",
       "      <td>0.770395</td>\n",
       "      <td>0.776563</td>\n",
       "    </tr>\n",
       "    <tr>\n",
       "      <th>bow elasticnet</th>\n",
       "      <td>0.608696</td>\n",
       "      <td>0.614159</td>\n",
       "      <td>0.619984</td>\n",
       "      <td>0.610052</td>\n",
       "      <td>0.783943</td>\n",
       "      <td>0.788909</td>\n",
       "    </tr>\n",
       "  </tbody>\n",
       "</table>\n",
       "</div>"
      ],
      "text/plain": [
       "                     accuracy        f1  precision    recall  roc_auc_ovr  \\\n",
       "min_baseline         0.663265  0.667080   0.667080  0.667080     0.744899   \n",
       "bow l1 only release  0.623188  0.628542   0.638829  0.622397     0.770395   \n",
       "bow elasticnet       0.608696  0.614159   0.619984  0.610052     0.783943   \n",
       "\n",
       "                     roc_auc_ovo  \n",
       "min_baseline            0.750310  \n",
       "bow l1 only release     0.776563  \n",
       "bow elasticnet          0.788909  "
      ]
     },
     "execution_count": 31,
     "metadata": {},
     "output_type": "execute_result"
    }
   ],
   "source": [
    "estimator = LogisticRegression(\n",
    "    penalty=\"l1\", solver=\"liblinear\", C=study.best_params[\"C\"], max_iter=1000, random_state=RANDOM_STATE\n",
    ")\n",
    "\n",
    "pipeline = Pipeline([\n",
    "    (\"selector\", SelectFromModel(estimator)),\n",
    "    (\n",
    "        \"model\",\n",
    "        LogisticRegression(C=study.best_params[\"C2\"], l1_ratio=study.best_params[\"l1_ratio\"], solver='saga',\n",
    "                                    penalty='elasticnet', max_iter=10000,\n",
    "                                    random_state=RANDOM_STATE),\n",
    "    ),\n",
    "])\n",
    "\n",
    "metric, _ = calc_metrics(bow, y, pipeline, name='bow elasticnet')\n",
    "metrics = pd.concat((metrics, metric))\n",
    "metrics"
   ]
  },
  {
   "cell_type": "markdown",
   "metadata": {},
   "source": [
    "Качество немного подросло. Попробуем обучить мешок слов не только на пресс-релизах, но и на названиях."
   ]
  },
  {
   "cell_type": "code",
   "execution_count": 32,
   "metadata": {},
   "outputs": [],
   "source": [
    "vectorizer_title = CountVectorizer(\n",
    "    preprocessor=preprocessor,\n",
    ")\n",
    "\n",
    "vectorizer_title.fit(X.title)\n",
    "\n",
    "bow_title = vectorizer_title.transform(X.title)"
   ]
  },
  {
   "cell_type": "code",
   "execution_count": 33,
   "metadata": {},
   "outputs": [],
   "source": [
    "bow_title_release = np.concatenate((bow.toarray(), bow_title.toarray()), axis=1)"
   ]
  },
  {
   "cell_type": "markdown",
   "metadata": {},
   "source": [
    "Подберем гиперпараметры для модели обучаемой на названии релиза и самом релизе."
   ]
  },
  {
   "cell_type": "code",
   "execution_count": 34,
   "metadata": {},
   "outputs": [
    {
     "name": "stderr",
     "output_type": "stream",
     "text": [
      "Best trial: 42. Best value: 0.788019: 100%|██████████| 100/100 [03:16<00:00,  1.96s/it]\n"
     ]
    }
   ],
   "source": [
    "study = optuna.create_study(direction=\"maximize\")\n",
    "study.optimize(lambda trial: objective(trial, bow_title_release), n_trials=100, show_progress_bar=True)"
   ]
  },
  {
   "cell_type": "markdown",
   "metadata": {},
   "source": [
    "Посмотрим на метрики модели и добавим их в таблицу."
   ]
  },
  {
   "cell_type": "code",
   "execution_count": 35,
   "metadata": {},
   "outputs": [
    {
     "name": "stdout",
     "output_type": "stream",
     "text": [
      "              precision    recall  f1-score   support\n",
      "\n",
      "        -1.0       0.65      0.57      0.60        23\n",
      "         0.0       0.44      0.56      0.49        27\n",
      "         1.0       0.60      0.47      0.53        19\n",
      "\n",
      "    accuracy                           0.54        69\n",
      "   macro avg       0.56      0.53      0.54        69\n",
      "weighted avg       0.55      0.54      0.54        69\n",
      "\n"
     ]
    },
    {
     "data": {
      "image/png": "[encoded data removed]",
      "text/plain": [
       "<Figure size 640x480 with 2 Axes>"
      ]
     },
     "metadata": {},
     "output_type": "display_data"
    },
    {
     "data": {
      "text/html": [
       "<div>\n",
       "<style scoped>\n",
       "    .dataframe tbody tr th:only-of-type {\n",
       "        vertical-align: middle;\n",
       "    }\n",
       "\n",
       "    .dataframe tbody tr th {\n",
       "        vertical-align: top;\n",
       "    }\n",
       "\n",
       "    .dataframe thead th {\n",
       "        text-align: right;\n",
       "    }\n",
       "</style>\n",
       "<table border=\"1\" class=\"dataframe\">\n",
       "  <thead>\n",
       "    <tr style=\"text-align: right;\">\n",
       "      <th></th>\n",
       "      <th>accuracy</th>\n",
       "      <th>f1</th>\n",
       "      <th>precision</th>\n",
       "      <th>recall</th>\n",
       "      <th>roc_auc_ovr</th>\n",
       "      <th>roc_auc_ovo</th>\n",
       "    </tr>\n",
       "  </thead>\n",
       "  <tbody>\n",
       "    <tr>\n",
       "      <th>min_baseline</th>\n",
       "      <td>0.663265</td>\n",
       "      <td>0.667080</td>\n",
       "      <td>0.667080</td>\n",
       "      <td>0.667080</td>\n",
       "      <td>0.744899</td>\n",
       "      <td>0.750310</td>\n",
       "    </tr>\n",
       "    <tr>\n",
       "      <th>bow l1 only release</th>\n",
       "      <td>0.623188</td>\n",
       "      <td>0.628542</td>\n",
       "      <td>0.638829</td>\n",
       "      <td>0.622397</td>\n",
       "      <td>0.770395</td>\n",
       "      <td>0.776563</td>\n",
       "    </tr>\n",
       "    <tr>\n",
       "      <th>bow elasticnet</th>\n",
       "      <td>0.608696</td>\n",
       "      <td>0.614159</td>\n",
       "      <td>0.619984</td>\n",
       "      <td>0.610052</td>\n",
       "      <td>0.783943</td>\n",
       "      <td>0.788909</td>\n",
       "    </tr>\n",
       "    <tr>\n",
       "      <th>bow release title</th>\n",
       "      <td>0.536232</td>\n",
       "      <td>0.541955</td>\n",
       "      <td>0.563725</td>\n",
       "      <td>0.531486</td>\n",
       "      <td>0.782752</td>\n",
       "      <td>0.788019</td>\n",
       "    </tr>\n",
       "  </tbody>\n",
       "</table>\n",
       "</div>"
      ],
      "text/plain": [
       "                     accuracy        f1  precision    recall  roc_auc_ovr  \\\n",
       "min_baseline         0.663265  0.667080   0.667080  0.667080     0.744899   \n",
       "bow l1 only release  0.623188  0.628542   0.638829  0.622397     0.770395   \n",
       "bow elasticnet       0.608696  0.614159   0.619984  0.610052     0.783943   \n",
       "bow release title    0.536232  0.541955   0.563725  0.531486     0.782752   \n",
       "\n",
       "                     roc_auc_ovo  \n",
       "min_baseline            0.750310  \n",
       "bow l1 only release     0.776563  \n",
       "bow elasticnet          0.788909  \n",
       "bow release title       0.788019  "
      ]
     },
     "execution_count": 35,
     "metadata": {},
     "output_type": "execute_result"
    }
   ],
   "source": [
    "estimator = LogisticRegression(\n",
    "    penalty=\"l1\", solver=\"liblinear\", C=study.best_params[\"C\"], max_iter=1000, random_state=RANDOM_STATE\n",
    ")\n",
    "\n",
    "pipeline = Pipeline([\n",
    "    (\"selector\", SelectFromModel(estimator)),\n",
    "    (\n",
    "        \"model\",\n",
    "        LogisticRegression(C=study.best_params[\"C2\"], l1_ratio=study.best_params[\"l1_ratio\"], solver='saga',\n",
    "                                    penalty='elasticnet', max_iter=10000,\n",
    "                                    random_state=RANDOM_STATE),\n",
    "    ),\n",
    "])\n",
    "\n",
    "metric, _ = calc_metrics(\n",
    "    bow_title_release, y, \n",
    "    pipeline, \n",
    "    name='bow release title'\n",
    ")\n",
    "\n",
    "metrics = pd.concat([metrics, metric])\n",
    "metrics"
   ]
  },
  {
   "cell_type": "markdown",
   "metadata": {},
   "source": [
    "Добавление мешка слов по названию ухудшило качество модели. Попробуем к мешку слов по текстам релизов, с самыми важными словами добавим количественные признаки."
   ]
  },
  {
   "cell_type": "code",
   "execution_count": 36,
   "metadata": {},
   "outputs": [],
   "source": [
    "num_columns = ['inflation', 'rate', 'usd', 'usd_cur_change_relative']\n",
    "\n",
    "scaler = StandardScaler()\n",
    "scaler.fit(X[num_columns])\n",
    "X[num_columns] = scaler.transform(X[num_columns])"
   ]
  },
  {
   "cell_type": "code",
   "execution_count": 37,
   "metadata": {},
   "outputs": [],
   "source": [
    "all_data = np.concatenate((bow_title_release, X[num_columns].values), axis=1)"
   ]
  },
  {
   "cell_type": "code",
   "execution_count": 38,
   "metadata": {},
   "outputs": [
    {
     "name": "stderr",
     "output_type": "stream",
     "text": [
      "Best trial: 52. Best value: 0.791621: 100%|██████████| 100/100 [03:29<00:00,  2.09s/it]\n"
     ]
    }
   ],
   "source": [
    "study = optuna.create_study(direction=\"maximize\")\n",
    "study.optimize(lambda trial: objective(trial, all_data), n_trials=100, show_progress_bar=True)"
   ]
  },
  {
   "cell_type": "code",
   "execution_count": 39,
   "metadata": {},
   "outputs": [
    {
     "name": "stdout",
     "output_type": "stream",
     "text": [
      "              precision    recall  f1-score   support\n",
      "\n",
      "        -1.0       0.73      0.70      0.71        23\n",
      "         0.0       0.52      0.59      0.55        27\n",
      "         1.0       0.62      0.53      0.57        19\n",
      "\n",
      "    accuracy                           0.61        69\n",
      "   macro avg       0.62      0.60      0.61        69\n",
      "weighted avg       0.62      0.61      0.61        69\n",
      "\n"
     ]
    },
    {
     "data": {
      "image/png": "[encoded data removed]",
      "text/plain": [
       "<Figure size 640x480 with 2 Axes>"
      ]
     },
     "metadata": {},
     "output_type": "display_data"
    },
    {
     "data": {
      "text/html": [
       "<div>\n",
       "<style scoped>\n",
       "    .dataframe tbody tr th:only-of-type {\n",
       "        vertical-align: middle;\n",
       "    }\n",
       "\n",
       "    .dataframe tbody tr th {\n",
       "        vertical-align: top;\n",
       "    }\n",
       "\n",
       "    .dataframe thead th {\n",
       "        text-align: right;\n",
       "    }\n",
       "</style>\n",
       "<table border=\"1\" class=\"dataframe\">\n",
       "  <thead>\n",
       "    <tr style=\"text-align: right;\">\n",
       "      <th></th>\n",
       "      <th>accuracy</th>\n",
       "      <th>f1</th>\n",
       "      <th>precision</th>\n",
       "      <th>recall</th>\n",
       "      <th>roc_auc_ovr</th>\n",
       "      <th>roc_auc_ovo</th>\n",
       "    </tr>\n",
       "  </thead>\n",
       "  <tbody>\n",
       "    <tr>\n",
       "      <th>min_baseline</th>\n",
       "      <td>0.663265</td>\n",
       "      <td>0.667080</td>\n",
       "      <td>0.667080</td>\n",
       "      <td>0.667080</td>\n",
       "      <td>0.744899</td>\n",
       "      <td>0.750310</td>\n",
       "    </tr>\n",
       "    <tr>\n",
       "      <th>bow l1 only release</th>\n",
       "      <td>0.623188</td>\n",
       "      <td>0.628542</td>\n",
       "      <td>0.638829</td>\n",
       "      <td>0.622397</td>\n",
       "      <td>0.770395</td>\n",
       "      <td>0.776563</td>\n",
       "    </tr>\n",
       "    <tr>\n",
       "      <th>bow elasticnet</th>\n",
       "      <td>0.608696</td>\n",
       "      <td>0.614159</td>\n",
       "      <td>0.619984</td>\n",
       "      <td>0.610052</td>\n",
       "      <td>0.783943</td>\n",
       "      <td>0.788909</td>\n",
       "    </tr>\n",
       "    <tr>\n",
       "      <th>bow release title</th>\n",
       "      <td>0.536232</td>\n",
       "      <td>0.541955</td>\n",
       "      <td>0.563725</td>\n",
       "      <td>0.531486</td>\n",
       "      <td>0.782752</td>\n",
       "      <td>0.788019</td>\n",
       "    </tr>\n",
       "    <tr>\n",
       "      <th>bow release all num</th>\n",
       "      <td>0.608696</td>\n",
       "      <td>0.611421</td>\n",
       "      <td>0.622801</td>\n",
       "      <td>0.604854</td>\n",
       "      <td>0.786651</td>\n",
       "      <td>0.791621</td>\n",
       "    </tr>\n",
       "  </tbody>\n",
       "</table>\n",
       "</div>"
      ],
      "text/plain": [
       "                     accuracy        f1  precision    recall  roc_auc_ovr  \\\n",
       "min_baseline         0.663265  0.667080   0.667080  0.667080     0.744899   \n",
       "bow l1 only release  0.623188  0.628542   0.638829  0.622397     0.770395   \n",
       "bow elasticnet       0.608696  0.614159   0.619984  0.610052     0.783943   \n",
       "bow release title    0.536232  0.541955   0.563725  0.531486     0.782752   \n",
       "bow release all num  0.608696  0.611421   0.622801  0.604854     0.786651   \n",
       "\n",
       "                     roc_auc_ovo  \n",
       "min_baseline            0.750310  \n",
       "bow l1 only release     0.776563  \n",
       "bow elasticnet          0.788909  \n",
       "bow release title       0.788019  \n",
       "bow release all num     0.791621  "
      ]
     },
     "execution_count": 39,
     "metadata": {},
     "output_type": "execute_result"
    }
   ],
   "source": [
    "estimator = LogisticRegression(\n",
    "    penalty=\"l1\", solver=\"liblinear\", C=study.best_params[\"C\"], max_iter=1000, random_state=RANDOM_STATE\n",
    ")\n",
    "\n",
    "pipeline = Pipeline([\n",
    "    (\"selector\", SelectFromModel(estimator)),\n",
    "    (\n",
    "        \"model\",\n",
    "        LogisticRegression(C=study.best_params[\"C2\"], l1_ratio=study.best_params[\"l1_ratio\"], solver='saga',\n",
    "                                    penalty='elasticnet', max_iter=10000,\n",
    "                                    random_state=RANDOM_STATE),\n",
    "    ),\n",
    "])\n",
    "\n",
    "metric, _ = calc_metrics(\n",
    "    all_data, y, \n",
    "    pipeline, \n",
    "    name='bow release all num'\n",
    "    )\n",
    "\n",
    "metrics = pd.concat([metrics, metric])\n",
    "metrics"
   ]
  },
  {
   "cell_type": "markdown",
   "metadata": {},
   "source": [
    "Добавление количественных переменных улучшило нашу модель по метрике ROC-AUC, но не улучшило по accuracy. Попробуем на мешке слов обученный на релизах обучить SVC."
   ]
  },
  {
   "cell_type": "code",
   "execution_count": 40,
   "metadata": {},
   "outputs": [
    {
     "name": "stderr",
     "output_type": "stream",
     "text": [
      "Best trial: 54. Best value: 0.786507: 100%|██████████| 200/200 [01:03<00:00,  3.16it/s]\n"
     ]
    }
   ],
   "source": [
    "def objective(trial, bow):\n",
    "    # параметры для перебора\n",
    "    params = {\n",
    "        'C': trial.suggest_float('C', 0.01, 500),\n",
    "        'C2': trial.suggest_float('C2', 0.01, 500),\n",
    "        'kernel': trial.suggest_categorical('kernel', ['linear', 'poly', 'rbf', 'sigmoid']),\n",
    "    }\n",
    "\n",
    "    # определяем модель для отбора признаков\n",
    "    estimator = LogisticRegression(\n",
    "        penalty=\"l1\", solver=\"liblinear\", C=params[\"C\"], max_iter=1000, random_state=RANDOM_STATE\n",
    "    )\n",
    "\n",
    "    # определяем pipeline\n",
    "    pipeline = Pipeline([\n",
    "        (\"selector\", SelectFromModel(estimator)),\n",
    "        (\n",
    "            \"model\",\n",
    "            SVC(C=params[\"C2\"], kernel=params['kernel'], probability=True, random_state=RANDOM_STATE),\n",
    "        ),\n",
    "    ])\n",
    "\n",
    "    # считаем метрики на кросс валидации\n",
    "    try:\n",
    "        metric, _ = calc_metrics(bow, y, pipeline, name=\" \", plot=False, calc_jobs=-1)\n",
    "    except ValueError or IndexError:\n",
    "        return -np.inf\n",
    "\n",
    "    return metric\n",
    "\n",
    "# запускаем подбор гиперпараметров\n",
    "study = optuna.create_study(direction=\"maximize\")\n",
    "study.optimize(lambda trial: objective(trial, bow), n_trials=200, show_progress_bar=True)"
   ]
  },
  {
   "cell_type": "code",
   "execution_count": 41,
   "metadata": {},
   "outputs": [
    {
     "name": "stdout",
     "output_type": "stream",
     "text": [
      "              precision    recall  f1-score   support\n",
      "\n",
      "        -1.0       0.73      0.70      0.71        23\n",
      "         0.0       0.55      0.63      0.59        27\n",
      "         1.0       0.75      0.63      0.69        19\n",
      "\n",
      "    accuracy                           0.65        69\n",
      "   macro avg       0.68      0.65      0.66        69\n",
      "weighted avg       0.66      0.65      0.66        69\n",
      "\n"
     ]
    },
    {
     "data": {
      "image/png": "[encoded data removed]",
      "text/plain": [
       "<Figure size 640x480 with 2 Axes>"
      ]
     },
     "metadata": {},
     "output_type": "display_data"
    },
    {
     "data": {
      "text/html": [
       "<div>\n",
       "<style scoped>\n",
       "    .dataframe tbody tr th:only-of-type {\n",
       "        vertical-align: middle;\n",
       "    }\n",
       "\n",
       "    .dataframe tbody tr th {\n",
       "        vertical-align: top;\n",
       "    }\n",
       "\n",
       "    .dataframe thead th {\n",
       "        text-align: right;\n",
       "    }\n",
       "</style>\n",
       "<table border=\"1\" class=\"dataframe\">\n",
       "  <thead>\n",
       "    <tr style=\"text-align: right;\">\n",
       "      <th></th>\n",
       "      <th>accuracy</th>\n",
       "      <th>f1</th>\n",
       "      <th>precision</th>\n",
       "      <th>recall</th>\n",
       "      <th>roc_auc_ovr</th>\n",
       "      <th>roc_auc_ovo</th>\n",
       "    </tr>\n",
       "  </thead>\n",
       "  <tbody>\n",
       "    <tr>\n",
       "      <th>min_baseline</th>\n",
       "      <td>0.663265</td>\n",
       "      <td>0.667080</td>\n",
       "      <td>0.667080</td>\n",
       "      <td>0.667080</td>\n",
       "      <td>0.744899</td>\n",
       "      <td>0.750310</td>\n",
       "    </tr>\n",
       "    <tr>\n",
       "      <th>bow l1 only release</th>\n",
       "      <td>0.623188</td>\n",
       "      <td>0.628542</td>\n",
       "      <td>0.638829</td>\n",
       "      <td>0.622397</td>\n",
       "      <td>0.770395</td>\n",
       "      <td>0.776563</td>\n",
       "    </tr>\n",
       "    <tr>\n",
       "      <th>bow elasticnet</th>\n",
       "      <td>0.608696</td>\n",
       "      <td>0.614159</td>\n",
       "      <td>0.619984</td>\n",
       "      <td>0.610052</td>\n",
       "      <td>0.783943</td>\n",
       "      <td>0.788909</td>\n",
       "    </tr>\n",
       "    <tr>\n",
       "      <th>bow release title</th>\n",
       "      <td>0.536232</td>\n",
       "      <td>0.541955</td>\n",
       "      <td>0.563725</td>\n",
       "      <td>0.531486</td>\n",
       "      <td>0.782752</td>\n",
       "      <td>0.788019</td>\n",
       "    </tr>\n",
       "    <tr>\n",
       "      <th>bow release all num</th>\n",
       "      <td>0.608696</td>\n",
       "      <td>0.611421</td>\n",
       "      <td>0.622801</td>\n",
       "      <td>0.604854</td>\n",
       "      <td>0.786651</td>\n",
       "      <td>0.791621</td>\n",
       "    </tr>\n",
       "    <tr>\n",
       "      <th>bow svc only release</th>\n",
       "      <td>0.652174</td>\n",
       "      <td>0.661011</td>\n",
       "      <td>0.675220</td>\n",
       "      <td>0.652287</td>\n",
       "      <td>0.780628</td>\n",
       "      <td>0.786126</td>\n",
       "    </tr>\n",
       "  </tbody>\n",
       "</table>\n",
       "</div>"
      ],
      "text/plain": [
       "                      accuracy        f1  precision    recall  roc_auc_ovr  \\\n",
       "min_baseline          0.663265  0.667080   0.667080  0.667080     0.744899   \n",
       "bow l1 only release   0.623188  0.628542   0.638829  0.622397     0.770395   \n",
       "bow elasticnet        0.608696  0.614159   0.619984  0.610052     0.783943   \n",
       "bow release title     0.536232  0.541955   0.563725  0.531486     0.782752   \n",
       "bow release all num   0.608696  0.611421   0.622801  0.604854     0.786651   \n",
       "bow svc only release  0.652174  0.661011   0.675220  0.652287     0.780628   \n",
       "\n",
       "                      roc_auc_ovo  \n",
       "min_baseline             0.750310  \n",
       "bow l1 only release      0.776563  \n",
       "bow elasticnet           0.788909  \n",
       "bow release title        0.788019  \n",
       "bow release all num      0.791621  \n",
       "bow svc only release     0.786126  "
      ]
     },
     "execution_count": 41,
     "metadata": {},
     "output_type": "execute_result"
    }
   ],
   "source": [
    "estimator = LogisticRegression(\n",
    "    penalty=\"l1\", solver=\"liblinear\", C=study.best_params[\"C\"], max_iter=1000, random_state=RANDOM_STATE\n",
    ")\n",
    "\n",
    "pipeline = Pipeline([\n",
    "    (\"selector\", SelectFromModel(estimator)),\n",
    "    (\n",
    "        \"model\",\n",
    "        SVC(C=study.best_params[\"C2\"], kernel=study.best_params['kernel'],\n",
    "            probability=True, random_state=RANDOM_STATE),\n",
    "    ),\n",
    "])\n",
    "\n",
    "metric, _ = calc_metrics(\n",
    "    bow, y, \n",
    "    pipeline, \n",
    "    name='bow svc only release', \n",
    "    )\n",
    "\n",
    "metrics = pd.concat([metrics, metric])\n",
    "metrics"
   ]
  },
  {
   "cell_type": "markdown",
   "metadata": {},
   "source": [
    "Метод опорных векторов показал качество по метрике accuracy лучше, чем логистическая регрессия. Сохраним результаты экспериментов."
   ]
  },
  {
   "cell_type": "code",
   "execution_count": 42,
   "metadata": {},
   "outputs": [],
   "source": [
    "metrics.to_csv('metrics.csv')"
   ]
  },
  {
   "cell_type": "code",
   "execution_count": null,
   "metadata": {},
   "outputs": [],
   "source": []
  }
 ],
 "metadata": {
  "kernelspec": {
   "display_name": "ml_yp",
   "language": "python",
   "name": "python3"
  },
  "language_info": {
   "codemirror_mode": {
    "name": "ipython",
    "version": 3
   },
   "file_extension": ".py",
   "mimetype": "text/x-python",
   "name": "python",
   "nbconvert_exporter": "python",
   "pygments_lexer": "ipython3",
   "version": "3.12.3"
  }
 },
 "nbformat": 4,
 "nbformat_minor": 2
}
