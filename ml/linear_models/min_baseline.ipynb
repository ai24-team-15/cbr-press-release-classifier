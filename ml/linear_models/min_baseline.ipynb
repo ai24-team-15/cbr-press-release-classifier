{
 "cells": [
  {
   "cell_type": "markdown",
   "metadata": {},
   "source": [
    "## Общая предобработка данных"
   ]
  },
  {
   "cell_type": "code",
   "execution_count": 1,
   "metadata": {},
   "outputs": [],
   "source": [
    "import os\n",
    "\n",
    "import pandas as pd\n",
    "import numpy as np\n",
    "from sklearn.metrics import (\n",
    "    accuracy_score,\n",
    "    precision_score,\n",
    "    recall_score,\n",
    "    f1_score,\n",
    "    roc_auc_score,\n",
    ")\n",
    "\n",
    "\n",
    "DATASET_URL = \"https://storage.yandexcloud.net/cbr-press-release-classifier/cbr-press-releases.csv\""
   ]
  },
  {
   "cell_type": "markdown",
   "metadata": {},
   "source": [
    "Загрузим датасет пресс-релизов, полученных с сайта ЦБ РФ:"
   ]
  },
  {
   "cell_type": "code",
   "execution_count": 2,
   "metadata": {},
   "outputs": [
    {
     "data": {
      "text/html": [
       "<div>\n",
       "<style scoped>\n",
       "    .dataframe tbody tr th:only-of-type {\n",
       "        vertical-align: middle;\n",
       "    }\n",
       "\n",
       "    .dataframe tbody tr th {\n",
       "        vertical-align: top;\n",
       "    }\n",
       "\n",
       "    .dataframe thead th {\n",
       "        text-align: right;\n",
       "    }\n",
       "</style>\n",
       "<table border=\"1\" class=\"dataframe\">\n",
       "  <thead>\n",
       "    <tr style=\"text-align: right;\">\n",
       "      <th></th>\n",
       "      <th>date</th>\n",
       "      <th>link</th>\n",
       "      <th>title</th>\n",
       "      <th>release</th>\n",
       "      <th>inflation</th>\n",
       "      <th>rate</th>\n",
       "      <th>usd</th>\n",
       "      <th>usd_cur_change_relative</th>\n",
       "      <th>target_categorial</th>\n",
       "      <th>target_absolute</th>\n",
       "      <th>target_relative</th>\n",
       "    </tr>\n",
       "  </thead>\n",
       "  <tbody>\n",
       "    <tr>\n",
       "      <th>96</th>\n",
       "      <td>2024-10-25</td>\n",
       "      <td>http://www.cbr.ru/press/pr/?file=25102024_1330...</td>\n",
       "      <td>Банк России принял решение повысить ключевую с...</td>\n",
       "      <td>Совет директоров Банка России 25 октября 2024 ...</td>\n",
       "      <td>8.63</td>\n",
       "      <td>21.0</td>\n",
       "      <td>96.7402</td>\n",
       "      <td>1.061800</td>\n",
       "      <td>0.0</td>\n",
       "      <td>0.0</td>\n",
       "      <td>1.0</td>\n",
       "    </tr>\n",
       "    <tr>\n",
       "      <th>97</th>\n",
       "      <td>2024-12-20</td>\n",
       "      <td>http://www.cbr.ru/press/pr/?file=20122024_1330...</td>\n",
       "      <td>Банк России принял решение сохранить ключевую ...</td>\n",
       "      <td>Совет директоров Банка России 20 декабря 2024 ...</td>\n",
       "      <td>8.88</td>\n",
       "      <td>21.0</td>\n",
       "      <td>103.4207</td>\n",
       "      <td>1.069056</td>\n",
       "      <td>0.0</td>\n",
       "      <td>0.0</td>\n",
       "      <td>1.0</td>\n",
       "    </tr>\n",
       "    <tr>\n",
       "      <th>98</th>\n",
       "      <td>2025-02-14</td>\n",
       "      <td>http://www.cbr.ru/press/pr/?file=14022025_1330...</td>\n",
       "      <td>Банк России принял решение сохранить ключевую ...</td>\n",
       "      <td>Совет директоров Банка России 14 февраля 2025 ...</td>\n",
       "      <td>9.92</td>\n",
       "      <td>21.0</td>\n",
       "      <td>91.0313</td>\n",
       "      <td>0.880204</td>\n",
       "      <td>0.0</td>\n",
       "      <td>0.0</td>\n",
       "      <td>1.0</td>\n",
       "    </tr>\n",
       "    <tr>\n",
       "      <th>99</th>\n",
       "      <td>2025-03-21</td>\n",
       "      <td>http://www.cbr.ru/press/pr/?file=21032025_1330...</td>\n",
       "      <td>Банк России принял решение сохранить ключевую ...</td>\n",
       "      <td>Совет директоров Банка России 21 марта 2025 го...</td>\n",
       "      <td>10.06</td>\n",
       "      <td>21.0</td>\n",
       "      <td>84.3955</td>\n",
       "      <td>0.927104</td>\n",
       "      <td>0.0</td>\n",
       "      <td>0.0</td>\n",
       "      <td>1.0</td>\n",
       "    </tr>\n",
       "    <tr>\n",
       "      <th>100</th>\n",
       "      <td>2025-04-25</td>\n",
       "      <td>http://www.cbr.ru/press/pr/?file=25042025_1330...</td>\n",
       "      <td>Банк России принял решение сохранить ключевую ...</td>\n",
       "      <td>Совет директоров Банка России 25 апреля 2025 г...</td>\n",
       "      <td>NaN</td>\n",
       "      <td>NaN</td>\n",
       "      <td>82.8559</td>\n",
       "      <td>0.981757</td>\n",
       "      <td>NaN</td>\n",
       "      <td>NaN</td>\n",
       "      <td>NaN</td>\n",
       "    </tr>\n",
       "  </tbody>\n",
       "</table>\n",
       "</div>"
      ],
      "text/plain": [
       "          date                                               link  \\\n",
       "96  2024-10-25  http://www.cbr.ru/press/pr/?file=25102024_1330...   \n",
       "97  2024-12-20  http://www.cbr.ru/press/pr/?file=20122024_1330...   \n",
       "98  2025-02-14  http://www.cbr.ru/press/pr/?file=14022025_1330...   \n",
       "99  2025-03-21  http://www.cbr.ru/press/pr/?file=21032025_1330...   \n",
       "100 2025-04-25  http://www.cbr.ru/press/pr/?file=25042025_1330...   \n",
       "\n",
       "                                                 title  \\\n",
       "96   Банк России принял решение повысить ключевую с...   \n",
       "97   Банк России принял решение сохранить ключевую ...   \n",
       "98   Банк России принял решение сохранить ключевую ...   \n",
       "99   Банк России принял решение сохранить ключевую ...   \n",
       "100  Банк России принял решение сохранить ключевую ...   \n",
       "\n",
       "                                               release  inflation  rate  \\\n",
       "96   Совет директоров Банка России 25 октября 2024 ...       8.63  21.0   \n",
       "97   Совет директоров Банка России 20 декабря 2024 ...       8.88  21.0   \n",
       "98   Совет директоров Банка России 14 февраля 2025 ...       9.92  21.0   \n",
       "99   Совет директоров Банка России 21 марта 2025 го...      10.06  21.0   \n",
       "100  Совет директоров Банка России 25 апреля 2025 г...        NaN   NaN   \n",
       "\n",
       "          usd  usd_cur_change_relative  target_categorial  target_absolute  \\\n",
       "96    96.7402                 1.061800                0.0              0.0   \n",
       "97   103.4207                 1.069056                0.0              0.0   \n",
       "98    91.0313                 0.880204                0.0              0.0   \n",
       "99    84.3955                 0.927104                0.0              0.0   \n",
       "100   82.8559                 0.981757                NaN              NaN   \n",
       "\n",
       "     target_relative  \n",
       "96               1.0  \n",
       "97               1.0  \n",
       "98               1.0  \n",
       "99               1.0  \n",
       "100              NaN  "
      ]
     },
     "execution_count": 2,
     "metadata": {},
     "output_type": "execute_result"
    }
   ],
   "source": [
    "df = pd.read_csv(DATASET_URL, parse_dates=[\"date\"])\n",
    "df.tail()"
   ]
  },
  {
   "cell_type": "markdown",
   "metadata": {},
   "source": [
    "`rate` - величина ключевой ставки, которую объявят на следующем заседании. Мы хотели бы знать эту величину. Но мы знаем текущую ставку и эту информацию можно добавить в наши данные сдвинув ставку на один."
   ]
  },
  {
   "cell_type": "code",
   "execution_count": 3,
   "metadata": {},
   "outputs": [],
   "source": [
    "df[\"rate\"] = df.rate.shift(1)"
   ]
  },
  {
   "cell_type": "markdown",
   "metadata": {},
   "source": [
    "В сентябре 2013 года ЦБ ввел ключевую ставку, и назначил ее величину в 5,5% заполним пропущенное значение."
   ]
  },
  {
   "cell_type": "code",
   "execution_count": 4,
   "metadata": {},
   "outputs": [],
   "source": [
    "df.loc[0, \"rate\"] = 5.5"
   ]
  },
  {
   "cell_type": "markdown",
   "metadata": {},
   "source": [
    "Дату сделаем индексом, ссылку на пресс-релиз выбросим, эта переменная не поможет в предсказании таргета."
   ]
  },
  {
   "cell_type": "code",
   "execution_count": 5,
   "metadata": {},
   "outputs": [],
   "source": [
    "df.set_index(\"date\", inplace=True)\n",
    "df.drop(\"link\", axis=1, inplace=True)"
   ]
  },
  {
   "cell_type": "markdown",
   "metadata": {},
   "source": [
    "Для последнего релиза неизвестна целевая переменная (направление изменения ключевой ставки), поэтому исключим его из датасета и сохраним отдельно:"
   ]
  },
  {
   "cell_type": "code",
   "execution_count": 6,
   "metadata": {},
   "outputs": [],
   "source": [
    "df.sort_values(\"date\", inplace=True)\n",
    "cur_pr = df.tail(1)\n",
    "df = df[:-1]"
   ]
  },
  {
   "cell_type": "markdown",
   "metadata": {},
   "source": [
    "Мы хотим предсказывать направление ставки рефинансирования `target_categorial`, выделим ее как целевую переменную. `target_absolute` и `target_relative` содержит в себе информацию о целевой переменной удалим их из матрицы признаков."
   ]
  },
  {
   "cell_type": "code",
   "execution_count": 7,
   "metadata": {},
   "outputs": [],
   "source": [
    "X = df.drop([\"target_categorial\", \"target_absolute\", \"target_relative\"], axis=1)\n",
    "y = df[\"target_categorial\"]"
   ]
  },
  {
   "cell_type": "markdown",
   "metadata": {},
   "source": [
    "Сохраним X и y в папку data, чтобы пользоваться ими во всех экспериментах"
   ]
  },
  {
   "cell_type": "code",
   "execution_count": 8,
   "metadata": {},
   "outputs": [],
   "source": [
    "directory = \"../data\"\n",
    "\n",
    "if not os.path.exists(directory):\n",
    "    os.makedirs(directory)\n",
    "\n",
    "X.to_csv(\"../data/x.csv\")\n",
    "y.to_csv(\"../data/y.csv\")"
   ]
  },
  {
   "cell_type": "markdown",
   "metadata": {},
   "source": [
    "## Минимальный безлайн "
   ]
  },
  {
   "cell_type": "markdown",
   "metadata": {},
   "source": [
    "Направление изменения ставки будем предсказывать таким, как в последнем решении. До 13 сентября ключевой ставки не существовало, поэтому мы не можем предсказать таким способом для первого наблюдения, будем оценивать качество бейзлайна без него."
   ]
  },
  {
   "cell_type": "code",
   "execution_count": 9,
   "metadata": {},
   "outputs": [],
   "source": [
    "# вероятность 1 для соответствующего класса\n",
    "def get_proba(y):\n",
    "    proba = np.zeros((1, 3))\n",
    "    proba[0, int(y + 1)] = 1.0\n",
    "    return proba\n",
    "\n",
    "\n",
    "y_pred = y.shift(1)\n",
    "accuracy = accuracy_score(y[1:], y_pred[1:])\n",
    "f1 = f1_score(y[1:], y_pred[1:], average=\"macro\")\n",
    "precision = precision_score(y[1:], y_pred[1:], average=\"macro\")\n",
    "recall = recall_score(y[1:], y_pred[1:], average=\"macro\")\n",
    "roc_auc_ovr = roc_auc_score(\n",
    "    y[1:],\n",
    "    np.concatenate(list(map(get_proba, y_pred[1:]))),\n",
    "    average=\"macro\",\n",
    "    multi_class=\"ovr\",\n",
    ")\n",
    "roc_auc_ovo = roc_auc_score(\n",
    "    y[1:],\n",
    "    np.concatenate(list(map(get_proba, y_pred[1:]))),\n",
    "    average=\"macro\",\n",
    "    multi_class=\"ovo\",\n",
    ")\n",
    "min_baseline = pd.DataFrame(\n",
    "    {\n",
    "        \"accuracy\": accuracy,\n",
    "        \"f1\": f1,\n",
    "        \"precision\": precision,\n",
    "        \"recall\": recall,\n",
    "        \"roc_auc_ovr\": roc_auc_ovr,\n",
    "        \"roc_auc_ovo\": roc_auc_ovo,\n",
    "    },\n",
    "    index=[\"min_baseline\"],\n",
    ")"
   ]
  },
  {
   "cell_type": "code",
   "execution_count": 10,
   "metadata": {},
   "outputs": [
    {
     "data": {
      "text/html": [
       "<div>\n",
       "<style scoped>\n",
       "    .dataframe tbody tr th:only-of-type {\n",
       "        vertical-align: middle;\n",
       "    }\n",
       "\n",
       "    .dataframe tbody tr th {\n",
       "        vertical-align: top;\n",
       "    }\n",
       "\n",
       "    .dataframe thead th {\n",
       "        text-align: right;\n",
       "    }\n",
       "</style>\n",
       "<table border=\"1\" class=\"dataframe\">\n",
       "  <thead>\n",
       "    <tr style=\"text-align: right;\">\n",
       "      <th></th>\n",
       "      <th>accuracy</th>\n",
       "      <th>f1</th>\n",
       "      <th>precision</th>\n",
       "      <th>recall</th>\n",
       "      <th>roc_auc_ovr</th>\n",
       "      <th>roc_auc_ovo</th>\n",
       "    </tr>\n",
       "  </thead>\n",
       "  <tbody>\n",
       "    <tr>\n",
       "      <th>min_baseline</th>\n",
       "      <td>0.666667</td>\n",
       "      <td>0.669899</td>\n",
       "      <td>0.669899</td>\n",
       "      <td>0.669899</td>\n",
       "      <td>0.746871</td>\n",
       "      <td>0.752424</td>\n",
       "    </tr>\n",
       "  </tbody>\n",
       "</table>\n",
       "</div>"
      ],
      "text/plain": [
       "              accuracy        f1  precision    recall  roc_auc_ovr  \\\n",
       "min_baseline  0.666667  0.669899   0.669899  0.669899     0.746871   \n",
       "\n",
       "              roc_auc_ovo  \n",
       "min_baseline     0.752424  "
      ]
     },
     "execution_count": 10,
     "metadata": {},
     "output_type": "execute_result"
    }
   ],
   "source": [
    "min_baseline"
   ]
  },
  {
   "cell_type": "markdown",
   "metadata": {},
   "source": [
    "Это будет нашим ориетиром в экспериментах. Будем хранить качество наших моделей в `metrics.csv`"
   ]
  },
  {
   "cell_type": "code",
   "execution_count": 11,
   "metadata": {},
   "outputs": [],
   "source": [
    "min_baseline.to_csv(\"metrics.csv\")"
   ]
  }
 ],
 "metadata": {
  "kernelspec": {
   "display_name": "ml_yp",
   "language": "python",
   "name": "python3"
  },
  "language_info": {
   "codemirror_mode": {
    "name": "ipython",
    "version": 3
   },
   "file_extension": ".py",
   "mimetype": "text/x-python",
   "name": "python",
   "nbconvert_exporter": "python",
   "pygments_lexer": "ipython3",
   "version": "3.12.3"
  }
 },
 "nbformat": 4,
 "nbformat_minor": 2
}
