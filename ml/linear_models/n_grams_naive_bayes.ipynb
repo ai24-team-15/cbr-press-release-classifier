{
 "cells": [
  {
   "cell_type": "code",
   "execution_count": 9,
   "metadata": {},
   "outputs": [
    {
     "name": "stderr",
     "output_type": "stream",
     "text": [
      "Intel(R) Extension for Scikit-learn* enabled (https://github.com/intel/scikit-learn-intelex)\n"
     ]
    }
   ],
   "source": [
    "from sklearnex import patch_sklearn\n",
    "patch_sklearn()\n",
    "\n",
    "import re\n",
    "import sys\n",
    "import os\n",
    "\n",
    "sys.path.append(os.path.abspath(os.path.join(\"..\")))\n",
    "\n",
    "import pandas as pd\n",
    "from tqdm import tqdm\n",
    "from pymystem3 import Mystem\n",
    "from nltk.corpus import stopwords\n",
    "from sklearn.feature_extraction.text import CountVectorizer\n",
    "from sklearn.naive_bayes import MultinomialNB\n",
    "from joblib import Parallel, delayed\n",
    "\n",
    "from utils import calc_metrics\n",
    "\n",
    "import warnings\n",
    "warnings.filterwarnings('ignore')"
   ]
  },
  {
   "cell_type": "code",
   "execution_count": 10,
   "metadata": {},
   "outputs": [],
   "source": [
    "X = pd.read_csv('../data/x.csv', index_col='date')\n",
    "y = pd.read_csv('../data/y.csv', index_col='date').iloc[:, 0]\n",
    "\n",
    "metrics = pd.read_csv('metrics.csv', index_col=0)"
   ]
  },
  {
   "cell_type": "markdown",
   "metadata": {},
   "source": [
    "### N-граммы плюс Naive Bayes"
   ]
  },
  {
   "cell_type": "markdown",
   "metadata": {},
   "source": [
    "Попробуем решить задачу с помощью алгоритма Naive Bayes, подберем оптимальные значения для параметра `ngram_range` и обучим лучшую модель."
   ]
  },
  {
   "cell_type": "code",
   "execution_count": 11,
   "metadata": {},
   "outputs": [],
   "source": [
    "mystem = Mystem()\n",
    "STOP_WORDS = set(stopwords.words('russian'))\n",
    "\n",
    "def preprocessor(text):\n",
    "    text = text.lower()\n",
    "    regex = re.compile('[^а-я А-ЯЁё]')\n",
    "    text = regex.sub(' ', text)\n",
    "    text = ' '.join(mystem.lemmatize(text))\n",
    "    text = ' '.join([word for word in text.split() if word not in STOP_WORDS])\n",
    "    return text"
   ]
  },
  {
   "cell_type": "code",
   "execution_count": 12,
   "metadata": {},
   "outputs": [
    {
     "name": "stdout",
     "output_type": "stream",
     "text": [
      "Лучшая модель - ngram_range(3, 6)\n",
      "ROC-AUC = 0.7699495394003403\n"
     ]
    }
   ],
   "source": [
    "def _calc_metrics(start, stop):\n",
    "    vectorizer = CountVectorizer(\n",
    "        preprocessor=preprocessor,\n",
    "        ngram_range=(start, stop)\n",
    "    )\n",
    "    bow_ngram = vectorizer.fit_transform(X.release)\n",
    "    return calc_metrics(\n",
    "        bow_ngram, y,\n",
    "        MultinomialNB, \n",
    "        name='MultinomialNB',\n",
    "        plot=False\n",
    "    ), (start, stop)\n",
    "\n",
    "auc = Parallel(n_jobs=-1)(delayed(\n",
    "    _calc_metrics\n",
    ")(start, stop) for start in range(1, 10) for stop in range(start, min(10, start + 4)))\n",
    "\n",
    "(roc_auc, best_model), (start, stop) = max(auc, key=lambda x: x[0][0])\n",
    "\n",
    "print(f\"Лучшая модель - ngram_range({start}, {stop})\")\n",
    "print(f\"ROC-AUC = {roc_auc}\")"
   ]
  },
  {
   "cell_type": "code",
   "execution_count": 13,
   "metadata": {},
   "outputs": [],
   "source": [
    "vectorizer = CountVectorizer(\n",
    "    preprocessor=preprocessor,\n",
    "    ngram_range=(start, stop)\n",
    ")\n",
    "\n",
    "vectorizer.fit(X.release)\n",
    "\n",
    "bow_ngram = vectorizer.transform(X.release)"
   ]
  },
  {
   "cell_type": "code",
   "execution_count": 14,
   "metadata": {},
   "outputs": [
    {
     "name": "stdout",
     "output_type": "stream",
     "text": [
      "              precision    recall  f1-score   support\n",
      "\n",
      "        -1.0       0.68      0.83      0.75        23\n",
      "         0.0       0.58      0.42      0.49        26\n",
      "         1.0       0.62      0.68      0.65        19\n",
      "\n",
      "    accuracy                           0.63        68\n",
      "   macro avg       0.63      0.64      0.63        68\n",
      "weighted avg       0.62      0.63      0.62        68\n",
      "\n"
     ]
    },
    {
     "data": {
      "image/png": "[encoded data removed]",
      "text/plain": [
       "<Figure size 640x480 with 2 Axes>"
      ]
     },
     "metadata": {},
     "output_type": "display_data"
    },
    {
     "data": {
      "text/html": [
       "<div>\n",
       "<style scoped>\n",
       "    .dataframe tbody tr th:only-of-type {\n",
       "        vertical-align: middle;\n",
       "    }\n",
       "\n",
       "    .dataframe tbody tr th {\n",
       "        vertical-align: top;\n",
       "    }\n",
       "\n",
       "    .dataframe thead th {\n",
       "        text-align: right;\n",
       "    }\n",
       "</style>\n",
       "<table border=\"1\" class=\"dataframe\">\n",
       "  <thead>\n",
       "    <tr style=\"text-align: right;\">\n",
       "      <th></th>\n",
       "      <th>accuracy</th>\n",
       "      <th>f1</th>\n",
       "      <th>precision</th>\n",
       "      <th>recall</th>\n",
       "      <th>roc_auc_ovr</th>\n",
       "      <th>roc_auc_ovo</th>\n",
       "    </tr>\n",
       "  </thead>\n",
       "  <tbody>\n",
       "    <tr>\n",
       "      <th>min_baseline</th>\n",
       "      <td>0.659794</td>\n",
       "      <td>0.664127</td>\n",
       "      <td>0.664127</td>\n",
       "      <td>0.664127</td>\n",
       "      <td>0.742845</td>\n",
       "      <td>0.748095</td>\n",
       "    </tr>\n",
       "    <tr>\n",
       "      <th>bow l1 only release</th>\n",
       "      <td>0.617647</td>\n",
       "      <td>0.623226</td>\n",
       "      <td>0.633465</td>\n",
       "      <td>0.617174</td>\n",
       "      <td>0.764882</td>\n",
       "      <td>0.770478</td>\n",
       "    </tr>\n",
       "    <tr>\n",
       "      <th>bow elasticnet</th>\n",
       "      <td>0.602941</td>\n",
       "      <td>0.606085</td>\n",
       "      <td>0.617424</td>\n",
       "      <td>0.599630</td>\n",
       "      <td>0.779381</td>\n",
       "      <td>0.783093</td>\n",
       "    </tr>\n",
       "    <tr>\n",
       "      <th>bow release title</th>\n",
       "      <td>0.573529</td>\n",
       "      <td>0.579365</td>\n",
       "      <td>0.591162</td>\n",
       "      <td>0.572317</td>\n",
       "      <td>0.782876</td>\n",
       "      <td>0.786569</td>\n",
       "    </tr>\n",
       "    <tr>\n",
       "      <th>bow release all num</th>\n",
       "      <td>0.573529</td>\n",
       "      <td>0.579365</td>\n",
       "      <td>0.591162</td>\n",
       "      <td>0.572317</td>\n",
       "      <td>0.776894</td>\n",
       "      <td>0.781362</td>\n",
       "    </tr>\n",
       "    <tr>\n",
       "      <th>bow svc only release</th>\n",
       "      <td>0.632353</td>\n",
       "      <td>0.641077</td>\n",
       "      <td>0.650132</td>\n",
       "      <td>0.634718</td>\n",
       "      <td>0.784936</td>\n",
       "      <td>0.790207</td>\n",
       "    </tr>\n",
       "    <tr>\n",
       "      <th>tf_idf l1 only release</th>\n",
       "      <td>0.617647</td>\n",
       "      <td>0.617077</td>\n",
       "      <td>0.625831</td>\n",
       "      <td>0.615795</td>\n",
       "      <td>0.784421</td>\n",
       "      <td>0.789606</td>\n",
       "    </tr>\n",
       "    <tr>\n",
       "      <th>tf_idf only release best word</th>\n",
       "      <td>0.720588</td>\n",
       "      <td>0.722979</td>\n",
       "      <td>0.737452</td>\n",
       "      <td>0.716658</td>\n",
       "      <td>0.808578</td>\n",
       "      <td>0.813516</td>\n",
       "    </tr>\n",
       "    <tr>\n",
       "      <th>tf_idf title release</th>\n",
       "      <td>0.705882</td>\n",
       "      <td>0.710449</td>\n",
       "      <td>0.727536</td>\n",
       "      <td>0.702165</td>\n",
       "      <td>0.811914</td>\n",
       "      <td>0.816596</td>\n",
       "    </tr>\n",
       "    <tr>\n",
       "      <th>tf_idf numerical release</th>\n",
       "      <td>0.632353</td>\n",
       "      <td>0.636409</td>\n",
       "      <td>0.687037</td>\n",
       "      <td>0.621927</td>\n",
       "      <td>0.774436</td>\n",
       "      <td>0.776844</td>\n",
       "    </tr>\n",
       "    <tr>\n",
       "      <th>tf-idf svc only release</th>\n",
       "      <td>0.691176</td>\n",
       "      <td>0.693718</td>\n",
       "      <td>0.700864</td>\n",
       "      <td>0.691017</td>\n",
       "      <td>0.840529</td>\n",
       "      <td>0.844115</td>\n",
       "    </tr>\n",
       "    <tr>\n",
       "      <th>MultinomialNB</th>\n",
       "      <td>0.632353</td>\n",
       "      <td>0.627996</td>\n",
       "      <td>0.625522</td>\n",
       "      <td>0.644458</td>\n",
       "      <td>0.763456</td>\n",
       "      <td>0.769950</td>\n",
       "    </tr>\n",
       "  </tbody>\n",
       "</table>\n",
       "</div>"
      ],
      "text/plain": [
       "                               accuracy        f1  precision    recall  \\\n",
       "min_baseline                   0.659794  0.664127   0.664127  0.664127   \n",
       "bow l1 only release            0.617647  0.623226   0.633465  0.617174   \n",
       "bow elasticnet                 0.602941  0.606085   0.617424  0.599630   \n",
       "bow release title              0.573529  0.579365   0.591162  0.572317   \n",
       "bow release all num            0.573529  0.579365   0.591162  0.572317   \n",
       "bow svc only release           0.632353  0.641077   0.650132  0.634718   \n",
       "tf_idf l1 only release         0.617647  0.617077   0.625831  0.615795   \n",
       "tf_idf only release best word  0.720588  0.722979   0.737452  0.716658   \n",
       "tf_idf title release           0.705882  0.710449   0.727536  0.702165   \n",
       "tf_idf numerical release       0.632353  0.636409   0.687037  0.621927   \n",
       "tf-idf svc only release        0.691176  0.693718   0.700864  0.691017   \n",
       "MultinomialNB                  0.632353  0.627996   0.625522  0.644458   \n",
       "\n",
       "                               roc_auc_ovr  roc_auc_ovo  \n",
       "min_baseline                      0.742845     0.748095  \n",
       "bow l1 only release               0.764882     0.770478  \n",
       "bow elasticnet                    0.779381     0.783093  \n",
       "bow release title                 0.782876     0.786569  \n",
       "bow release all num               0.776894     0.781362  \n",
       "bow svc only release              0.784936     0.790207  \n",
       "tf_idf l1 only release            0.784421     0.789606  \n",
       "tf_idf only release best word     0.808578     0.813516  \n",
       "tf_idf title release              0.811914     0.816596  \n",
       "tf_idf numerical release          0.774436     0.776844  \n",
       "tf-idf svc only release           0.840529     0.844115  \n",
       "MultinomialNB                     0.763456     0.769950  "
      ]
     },
     "execution_count": 14,
     "metadata": {},
     "output_type": "execute_result"
    }
   ],
   "source": [
    "metric, model = calc_metrics(bow_ngram, y, MultinomialNB, name='MultinomialNB')\n",
    "metrics = pd.concat((metrics, metric))\n",
    "metrics"
   ]
  },
  {
   "cell_type": "markdown",
   "metadata": {},
   "source": [
    "Получили качество чуть лучше чем минимальный безлайн."
   ]
  },
  {
   "cell_type": "code",
   "execution_count": 15,
   "metadata": {},
   "outputs": [],
   "source": [
    "metrics.to_csv('metrics.csv')"
   ]
  }
 ],
 "metadata": {
  "kernelspec": {
   "display_name": "ml_yp",
   "language": "python",
   "name": "python3"
  },
  "language_info": {
   "codemirror_mode": {
    "name": "ipython",
    "version": 3
   },
   "file_extension": ".py",
   "mimetype": "text/x-python",
   "name": "python",
   "nbconvert_exporter": "python",
   "pygments_lexer": "ipython3",
   "version": "3.12.3"
  }
 },
 "nbformat": 4,
 "nbformat_minor": 2
}
