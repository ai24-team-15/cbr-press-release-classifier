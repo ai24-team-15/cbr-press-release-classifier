{
 "cells": [
  {
   "cell_type": "code",
   "execution_count": 1,
   "metadata": {},
   "outputs": [
    {
     "name": "stderr",
     "output_type": "stream",
     "text": [
      "Intel(R) Extension for Scikit-learn* enabled (https://github.com/intel/scikit-learn-intelex)\n"
     ]
    }
   ],
   "source": [
    "from sklearnex import patch_sklearn\n",
    "patch_sklearn()\n",
    "\n",
    "import re\n",
    "import sys\n",
    "import os\n",
    "\n",
    "sys.path.append(os.path.abspath(os.path.join(\"..\")))\n",
    "\n",
    "import pandas as pd\n",
    "from tqdm import tqdm\n",
    "from pymystem3 import Mystem\n",
    "from nltk.corpus import stopwords\n",
    "from sklearn.feature_extraction.text import CountVectorizer\n",
    "from sklearn.naive_bayes import MultinomialNB\n",
    "from joblib import Parallel, delayed\n",
    "\n",
    "from utils import calc_metrics\n",
    "\n",
    "import warnings\n",
    "warnings.filterwarnings('ignore')"
   ]
  },
  {
   "cell_type": "code",
   "execution_count": 2,
   "metadata": {},
   "outputs": [],
   "source": [
    "X = pd.read_csv('../data/x.csv', index_col='date')\n",
    "y = pd.read_csv('../data/y.csv', index_col='date').iloc[:, 0]\n",
    "\n",
    "metrics = pd.read_csv('metrics.csv', index_col=0)"
   ]
  },
  {
   "cell_type": "markdown",
   "metadata": {},
   "source": [
    "### N-граммы плюс Naive Bayes"
   ]
  },
  {
   "cell_type": "markdown",
   "metadata": {},
   "source": [
    "Попробуем решить задачу с помощью алгоритма Naive Bayes, подберем оптимальные значения для параметра `ngram_range` и обучим лучшую модель."
   ]
  },
  {
   "cell_type": "code",
   "execution_count": 3,
   "metadata": {},
   "outputs": [],
   "source": [
    "mystem = Mystem()\n",
    "STOP_WORDS = set(stopwords.words('russian'))\n",
    "\n",
    "def preprocessor(text):\n",
    "    text = text.lower()\n",
    "    regex = re.compile('[^а-я А-ЯЁё]')\n",
    "    text = regex.sub(' ', text)\n",
    "    text = ' '.join(mystem.lemmatize(text))\n",
    "    text = ' '.join([word for word in text.split() if word not in STOP_WORDS])\n",
    "    return text"
   ]
  },
  {
   "cell_type": "code",
   "execution_count": 4,
   "metadata": {},
   "outputs": [
    {
     "name": "stdout",
     "output_type": "stream",
     "text": [
      "Лучшая модель - ngram_range(7, 7)\n",
      "ROC-AUC = 0.7690450083542189\n"
     ]
    }
   ],
   "source": [
    "def _calc_metrics(start, stop):\n",
    "    vectorizer = CountVectorizer(\n",
    "        preprocessor=preprocessor,\n",
    "        ngram_range=(start, stop)\n",
    "    )\n",
    "    bow_ngram = vectorizer.fit_transform(X.release)\n",
    "    return calc_metrics(\n",
    "        bow_ngram, y,\n",
    "        MultinomialNB, \n",
    "        name='MultinomialNB',\n",
    "        plot=False\n",
    "    ), (start, stop)\n",
    "\n",
    "auc = Parallel(n_jobs=-1)(delayed(\n",
    "    _calc_metrics\n",
    ")(start, stop) for start in range(1, 10) for stop in range(start, min(10, start + 4)))\n",
    "\n",
    "(roc_auc, best_model), (start, stop) = max(auc, key=lambda x: x[0][0])\n",
    "\n",
    "print(f\"Лучшая модель - ngram_range({start}, {stop})\")\n",
    "print(f\"ROC-AUC = {roc_auc}\")"
   ]
  },
  {
   "cell_type": "code",
   "execution_count": 5,
   "metadata": {},
   "outputs": [],
   "source": [
    "vectorizer = CountVectorizer(\n",
    "    preprocessor=preprocessor,\n",
    "    ngram_range=(start, stop)\n",
    ")\n",
    "\n",
    "vectorizer.fit(X.release)\n",
    "\n",
    "bow_ngram = vectorizer.transform(X.release)"
   ]
  },
  {
   "cell_type": "code",
   "execution_count": 6,
   "metadata": {},
   "outputs": [
    {
     "name": "stdout",
     "output_type": "stream",
     "text": [
      "              precision    recall  f1-score   support\n",
      "\n",
      "        -1.0       0.70      0.79      0.75        24\n",
      "         0.0       0.50      0.36      0.42        28\n",
      "         1.0       0.54      0.68      0.60        19\n",
      "\n",
      "    accuracy                           0.59        71\n",
      "   macro avg       0.58      0.61      0.59        71\n",
      "weighted avg       0.58      0.59      0.58        71\n",
      "\n"
     ]
    },
    {
     "data": {
      "image/png": "[encoded data removed]",
      "text/plain": [
       "<Figure size 640x480 with 2 Axes>"
      ]
     },
     "metadata": {},
     "output_type": "display_data"
    },
    {
     "data": {
      "text/html": [
       "<div>\n",
       "<style scoped>\n",
       "    .dataframe tbody tr th:only-of-type {\n",
       "        vertical-align: middle;\n",
       "    }\n",
       "\n",
       "    .dataframe tbody tr th {\n",
       "        vertical-align: top;\n",
       "    }\n",
       "\n",
       "    .dataframe thead th {\n",
       "        text-align: right;\n",
       "    }\n",
       "</style>\n",
       "<table border=\"1\" class=\"dataframe\">\n",
       "  <thead>\n",
       "    <tr style=\"text-align: right;\">\n",
       "      <th></th>\n",
       "      <th>accuracy</th>\n",
       "      <th>f1</th>\n",
       "      <th>precision</th>\n",
       "      <th>recall</th>\n",
       "      <th>roc_auc_ovr</th>\n",
       "      <th>roc_auc_ovo</th>\n",
       "    </tr>\n",
       "  </thead>\n",
       "  <tbody>\n",
       "    <tr>\n",
       "      <th>min_baseline</th>\n",
       "      <td>0.660000</td>\n",
       "      <td>0.663508</td>\n",
       "      <td>0.665185</td>\n",
       "      <td>0.662014</td>\n",
       "      <td>0.741088</td>\n",
       "      <td>0.746510</td>\n",
       "    </tr>\n",
       "    <tr>\n",
       "      <th>bow l1 only release</th>\n",
       "      <td>0.619718</td>\n",
       "      <td>0.625363</td>\n",
       "      <td>0.638134</td>\n",
       "      <td>0.617586</td>\n",
       "      <td>0.769287</td>\n",
       "      <td>0.776198</td>\n",
       "    </tr>\n",
       "    <tr>\n",
       "      <th>bow elasticnet</th>\n",
       "      <td>0.605634</td>\n",
       "      <td>0.614252</td>\n",
       "      <td>0.627717</td>\n",
       "      <td>0.605681</td>\n",
       "      <td>0.782629</td>\n",
       "      <td>0.789369</td>\n",
       "    </tr>\n",
       "    <tr>\n",
       "      <th>bow release title</th>\n",
       "      <td>0.535211</td>\n",
       "      <td>0.540659</td>\n",
       "      <td>0.559180</td>\n",
       "      <td>0.530911</td>\n",
       "      <td>0.781719</td>\n",
       "      <td>0.787411</td>\n",
       "    </tr>\n",
       "    <tr>\n",
       "      <th>bow release all num</th>\n",
       "      <td>0.605634</td>\n",
       "      <td>0.608153</td>\n",
       "      <td>0.622475</td>\n",
       "      <td>0.600042</td>\n",
       "      <td>0.781633</td>\n",
       "      <td>0.786863</td>\n",
       "    </tr>\n",
       "    <tr>\n",
       "      <th>bow svc only release</th>\n",
       "      <td>0.661972</td>\n",
       "      <td>0.669910</td>\n",
       "      <td>0.690243</td>\n",
       "      <td>0.658939</td>\n",
       "      <td>0.777454</td>\n",
       "      <td>0.782790</td>\n",
       "    </tr>\n",
       "    <tr>\n",
       "      <th>tf_idf l1 only release</th>\n",
       "      <td>0.633803</td>\n",
       "      <td>0.636658</td>\n",
       "      <td>0.643844</td>\n",
       "      <td>0.633459</td>\n",
       "      <td>0.787036</td>\n",
       "      <td>0.793533</td>\n",
       "    </tr>\n",
       "    <tr>\n",
       "      <th>tf_idf only release best word</th>\n",
       "      <td>0.690141</td>\n",
       "      <td>0.687276</td>\n",
       "      <td>0.716378</td>\n",
       "      <td>0.677423</td>\n",
       "      <td>0.812873</td>\n",
       "      <td>0.818740</td>\n",
       "    </tr>\n",
       "    <tr>\n",
       "      <th>tf_idf title release</th>\n",
       "      <td>0.704225</td>\n",
       "      <td>0.704690</td>\n",
       "      <td>0.727814</td>\n",
       "      <td>0.694967</td>\n",
       "      <td>0.814459</td>\n",
       "      <td>0.819993</td>\n",
       "    </tr>\n",
       "    <tr>\n",
       "      <th>tf_idf numerical release</th>\n",
       "      <td>0.633803</td>\n",
       "      <td>0.636130</td>\n",
       "      <td>0.690598</td>\n",
       "      <td>0.619883</td>\n",
       "      <td>0.779646</td>\n",
       "      <td>0.783247</td>\n",
       "    </tr>\n",
       "    <tr>\n",
       "      <th>tf-idf svc only release</th>\n",
       "      <td>0.704225</td>\n",
       "      <td>0.703578</td>\n",
       "      <td>0.722616</td>\n",
       "      <td>0.696951</td>\n",
       "      <td>0.838408</td>\n",
       "      <td>0.842157</td>\n",
       "    </tr>\n",
       "    <tr>\n",
       "      <th>MultinomialNB</th>\n",
       "      <td>0.591549</td>\n",
       "      <td>0.588805</td>\n",
       "      <td>0.581790</td>\n",
       "      <td>0.611007</td>\n",
       "      <td>0.758716</td>\n",
       "      <td>0.769045</td>\n",
       "    </tr>\n",
       "  </tbody>\n",
       "</table>\n",
       "</div>"
      ],
      "text/plain": [
       "                               accuracy        f1  precision    recall  \\\n",
       "min_baseline                   0.660000  0.663508   0.665185  0.662014   \n",
       "bow l1 only release            0.619718  0.625363   0.638134  0.617586   \n",
       "bow elasticnet                 0.605634  0.614252   0.627717  0.605681   \n",
       "bow release title              0.535211  0.540659   0.559180  0.530911   \n",
       "bow release all num            0.605634  0.608153   0.622475  0.600042   \n",
       "bow svc only release           0.661972  0.669910   0.690243  0.658939   \n",
       "tf_idf l1 only release         0.633803  0.636658   0.643844  0.633459   \n",
       "tf_idf only release best word  0.690141  0.687276   0.716378  0.677423   \n",
       "tf_idf title release           0.704225  0.704690   0.727814  0.694967   \n",
       "tf_idf numerical release       0.633803  0.636130   0.690598  0.619883   \n",
       "tf-idf svc only release        0.704225  0.703578   0.722616  0.696951   \n",
       "MultinomialNB                  0.591549  0.588805   0.581790  0.611007   \n",
       "\n",
       "                               roc_auc_ovr  roc_auc_ovo  \n",
       "min_baseline                      0.741088     0.746510  \n",
       "bow l1 only release               0.769287     0.776198  \n",
       "bow elasticnet                    0.782629     0.789369  \n",
       "bow release title                 0.781719     0.787411  \n",
       "bow release all num               0.781633     0.786863  \n",
       "bow svc only release              0.777454     0.782790  \n",
       "tf_idf l1 only release            0.787036     0.793533  \n",
       "tf_idf only release best word     0.812873     0.818740  \n",
       "tf_idf title release              0.814459     0.819993  \n",
       "tf_idf numerical release          0.779646     0.783247  \n",
       "tf-idf svc only release           0.838408     0.842157  \n",
       "MultinomialNB                     0.758716     0.769045  "
      ]
     },
     "execution_count": 6,
     "metadata": {},
     "output_type": "execute_result"
    }
   ],
   "source": [
    "metric, model = calc_metrics(bow_ngram, y, MultinomialNB, name='MultinomialNB')\n",
    "metrics = pd.concat((metrics, metric))\n",
    "metrics"
   ]
  },
  {
   "cell_type": "markdown",
   "metadata": {},
   "source": [
    "Получили качество хуже, чем минимальный безлайн."
   ]
  },
  {
   "cell_type": "code",
   "execution_count": 7,
   "metadata": {},
   "outputs": [],
   "source": [
    "metrics.to_csv('metrics.csv')"
   ]
  }
 ],
 "metadata": {
  "kernelspec": {
   "display_name": "ml_yp",
   "language": "python",
   "name": "python3"
  },
  "language_info": {
   "codemirror_mode": {
    "name": "ipython",
    "version": 3
   },
   "file_extension": ".py",
   "mimetype": "text/x-python",
   "name": "python",
   "nbconvert_exporter": "python",
   "pygments_lexer": "ipython3",
   "version": "3.12.3"
  }
 },
 "nbformat": 4,
 "nbformat_minor": 2
}
