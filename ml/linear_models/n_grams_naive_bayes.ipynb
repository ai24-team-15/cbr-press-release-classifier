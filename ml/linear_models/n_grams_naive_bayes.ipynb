{
 "cells": [
  {
   "cell_type": "code",
   "execution_count": 1,
   "metadata": {},
   "outputs": [
    {
     "name": "stderr",
     "output_type": "stream",
     "text": [
      "Intel(R) Extension for Scikit-learn* enabled (https://github.com/intel/scikit-learn-intelex)\n"
     ]
    }
   ],
   "source": [
    "from sklearnex import patch_sklearn\n",
    "patch_sklearn()\n",
    "\n",
    "import re\n",
    "import sys\n",
    "import os\n",
    "\n",
    "sys.path.append(os.path.abspath(os.path.join(\"..\")))\n",
    "\n",
    "import pandas as pd\n",
    "from tqdm import tqdm\n",
    "from pymystem3 import Mystem\n",
    "from nltk.corpus import stopwords\n",
    "from sklearn.feature_extraction.text import CountVectorizer\n",
    "from sklearn.naive_bayes import MultinomialNB\n",
    "from joblib import Parallel, delayed\n",
    "\n",
    "from utils import calc_metrics\n",
    "\n",
    "import warnings\n",
    "warnings.filterwarnings('ignore')"
   ]
  },
  {
   "cell_type": "code",
   "execution_count": 2,
   "metadata": {},
   "outputs": [],
   "source": [
    "X = pd.read_csv('../data/x.csv', index_col='date')\n",
    "y = pd.read_csv('../data/y.csv', index_col='date').iloc[:, 0]\n",
    "\n",
    "metrics = pd.read_csv('metrics.csv', index_col=0)"
   ]
  },
  {
   "cell_type": "markdown",
   "metadata": {},
   "source": [
    "### N-граммы плюс Naive Bayes"
   ]
  },
  {
   "cell_type": "markdown",
   "metadata": {},
   "source": [
    "Попробуем решить задачу с помощью алгоритма Naive Bayes, подберем оптимальные значения для параметра `ngram_range` и обучим лучшую модель."
   ]
  },
  {
   "cell_type": "code",
   "execution_count": 3,
   "metadata": {},
   "outputs": [],
   "source": [
    "mystem = Mystem()\n",
    "STOP_WORDS = set(stopwords.words('russian'))\n",
    "\n",
    "def preprocessor(text):\n",
    "    text = text.lower()\n",
    "    regex = re.compile('[^а-я А-ЯЁё]')\n",
    "    text = regex.sub(' ', text)\n",
    "    text = ' '.join(mystem.lemmatize(text))\n",
    "    text = ' '.join([word for word in text.split() if word not in STOP_WORDS])\n",
    "    return text"
   ]
  },
  {
   "cell_type": "code",
   "execution_count": 4,
   "metadata": {},
   "outputs": [
    {
     "name": "stdout",
     "output_type": "stream",
     "text": [
      "Лучшая модель - ngram_range(3, 6)\n",
      "ROC-AUC = 0.7737732011187389\n"
     ]
    }
   ],
   "source": [
    "def _calc_metrics(start, stop):\n",
    "    vectorizer = CountVectorizer(\n",
    "        preprocessor=preprocessor,\n",
    "        ngram_range=(start, stop)\n",
    "    )\n",
    "    bow_ngram = vectorizer.fit_transform(X.release)\n",
    "    return calc_metrics(\n",
    "        bow_ngram, y,\n",
    "        MultinomialNB, \n",
    "        name='MultinomialNB',\n",
    "        plot=False\n",
    "    ), (start, stop)\n",
    "\n",
    "auc = Parallel(n_jobs=-1)(delayed(\n",
    "    _calc_metrics\n",
    ")(start, stop) for start in range(1, 10) for stop in range(start, min(10, start + 4)))\n",
    "\n",
    "(roc_auc, best_model), (start, stop) = max(auc, key=lambda x: x[0][0])\n",
    "\n",
    "print(f\"Лучшая модель - ngram_range({start}, {stop})\")\n",
    "print(f\"ROC-AUC = {roc_auc}\")"
   ]
  },
  {
   "cell_type": "code",
   "execution_count": 5,
   "metadata": {},
   "outputs": [],
   "source": [
    "vectorizer = CountVectorizer(\n",
    "    preprocessor=preprocessor,\n",
    "    ngram_range=(start, stop)\n",
    ")\n",
    "\n",
    "vectorizer.fit(X.release)\n",
    "\n",
    "bow_ngram = vectorizer.transform(X.release)"
   ]
  },
  {
   "cell_type": "code",
   "execution_count": 6,
   "metadata": {},
   "outputs": [
    {
     "name": "stdout",
     "output_type": "stream",
     "text": [
      "              precision    recall  f1-score   support\n",
      "\n",
      "        -1.0       0.68      0.83      0.75        23\n",
      "         0.0       0.60      0.44      0.51        27\n",
      "         1.0       0.62      0.68      0.65        19\n",
      "\n",
      "    accuracy                           0.64        69\n",
      "   macro avg       0.63      0.65      0.64        69\n",
      "weighted avg       0.63      0.64      0.63        69\n",
      "\n"
     ]
    },
    {
     "data": {
      "image/png": "[encoded data removed]",
      "text/plain": [
       "<Figure size 640x480 with 2 Axes>"
      ]
     },
     "metadata": {},
     "output_type": "display_data"
    },
    {
     "data": {
      "text/html": [
       "<div>\n",
       "<style scoped>\n",
       "    .dataframe tbody tr th:only-of-type {\n",
       "        vertical-align: middle;\n",
       "    }\n",
       "\n",
       "    .dataframe tbody tr th {\n",
       "        vertical-align: top;\n",
       "    }\n",
       "\n",
       "    .dataframe thead th {\n",
       "        text-align: right;\n",
       "    }\n",
       "</style>\n",
       "<table border=\"1\" class=\"dataframe\">\n",
       "  <thead>\n",
       "    <tr style=\"text-align: right;\">\n",
       "      <th></th>\n",
       "      <th>accuracy</th>\n",
       "      <th>f1</th>\n",
       "      <th>precision</th>\n",
       "      <th>recall</th>\n",
       "      <th>roc_auc_ovr</th>\n",
       "      <th>roc_auc_ovo</th>\n",
       "    </tr>\n",
       "  </thead>\n",
       "  <tbody>\n",
       "    <tr>\n",
       "      <th>min_baseline</th>\n",
       "      <td>0.663265</td>\n",
       "      <td>0.667080</td>\n",
       "      <td>0.667080</td>\n",
       "      <td>0.667080</td>\n",
       "      <td>0.744899</td>\n",
       "      <td>0.750310</td>\n",
       "    </tr>\n",
       "    <tr>\n",
       "      <th>bow l1 only release</th>\n",
       "      <td>0.623188</td>\n",
       "      <td>0.628542</td>\n",
       "      <td>0.638829</td>\n",
       "      <td>0.622397</td>\n",
       "      <td>0.770395</td>\n",
       "      <td>0.776563</td>\n",
       "    </tr>\n",
       "    <tr>\n",
       "      <th>bow elasticnet</th>\n",
       "      <td>0.608696</td>\n",
       "      <td>0.614159</td>\n",
       "      <td>0.619984</td>\n",
       "      <td>0.610052</td>\n",
       "      <td>0.783943</td>\n",
       "      <td>0.788909</td>\n",
       "    </tr>\n",
       "    <tr>\n",
       "      <th>bow release title</th>\n",
       "      <td>0.536232</td>\n",
       "      <td>0.541955</td>\n",
       "      <td>0.563725</td>\n",
       "      <td>0.531486</td>\n",
       "      <td>0.782752</td>\n",
       "      <td>0.788019</td>\n",
       "    </tr>\n",
       "    <tr>\n",
       "      <th>bow release all num</th>\n",
       "      <td>0.608696</td>\n",
       "      <td>0.611421</td>\n",
       "      <td>0.622801</td>\n",
       "      <td>0.604854</td>\n",
       "      <td>0.786651</td>\n",
       "      <td>0.791621</td>\n",
       "    </tr>\n",
       "    <tr>\n",
       "      <th>bow svc only release</th>\n",
       "      <td>0.652174</td>\n",
       "      <td>0.661011</td>\n",
       "      <td>0.675220</td>\n",
       "      <td>0.652287</td>\n",
       "      <td>0.780628</td>\n",
       "      <td>0.786126</td>\n",
       "    </tr>\n",
       "    <tr>\n",
       "      <th>tf_idf l1 only release</th>\n",
       "      <td>0.623188</td>\n",
       "      <td>0.622795</td>\n",
       "      <td>0.631563</td>\n",
       "      <td>0.621493</td>\n",
       "      <td>0.786190</td>\n",
       "      <td>0.792398</td>\n",
       "    </tr>\n",
       "    <tr>\n",
       "      <th>tf_idf only release best word</th>\n",
       "      <td>0.710145</td>\n",
       "      <td>0.713469</td>\n",
       "      <td>0.726897</td>\n",
       "      <td>0.708111</td>\n",
       "      <td>0.812164</td>\n",
       "      <td>0.817499</td>\n",
       "    </tr>\n",
       "    <tr>\n",
       "      <th>tf_idf title release</th>\n",
       "      <td>0.695652</td>\n",
       "      <td>0.697781</td>\n",
       "      <td>0.720691</td>\n",
       "      <td>0.688420</td>\n",
       "      <td>0.819546</td>\n",
       "      <td>0.824618</td>\n",
       "    </tr>\n",
       "    <tr>\n",
       "      <th>tf_idf numerical release</th>\n",
       "      <td>0.666667</td>\n",
       "      <td>0.676287</td>\n",
       "      <td>0.716514</td>\n",
       "      <td>0.660338</td>\n",
       "      <td>0.769350</td>\n",
       "      <td>0.771139</td>\n",
       "    </tr>\n",
       "    <tr>\n",
       "      <th>tf-idf svc only release</th>\n",
       "      <td>0.724638</td>\n",
       "      <td>0.723498</td>\n",
       "      <td>0.749573</td>\n",
       "      <td>0.717405</td>\n",
       "      <td>0.852290</td>\n",
       "      <td>0.855510</td>\n",
       "    </tr>\n",
       "    <tr>\n",
       "      <th>MultinomialNB</th>\n",
       "      <td>0.637681</td>\n",
       "      <td>0.635245</td>\n",
       "      <td>0.632540</td>\n",
       "      <td>0.651581</td>\n",
       "      <td>0.766447</td>\n",
       "      <td>0.773773</td>\n",
       "    </tr>\n",
       "  </tbody>\n",
       "</table>\n",
       "</div>"
      ],
      "text/plain": [
       "                               accuracy        f1  precision    recall  \\\n",
       "min_baseline                   0.663265  0.667080   0.667080  0.667080   \n",
       "bow l1 only release            0.623188  0.628542   0.638829  0.622397   \n",
       "bow elasticnet                 0.608696  0.614159   0.619984  0.610052   \n",
       "bow release title              0.536232  0.541955   0.563725  0.531486   \n",
       "bow release all num            0.608696  0.611421   0.622801  0.604854   \n",
       "bow svc only release           0.652174  0.661011   0.675220  0.652287   \n",
       "tf_idf l1 only release         0.623188  0.622795   0.631563  0.621493   \n",
       "tf_idf only release best word  0.710145  0.713469   0.726897  0.708111   \n",
       "tf_idf title release           0.695652  0.697781   0.720691  0.688420   \n",
       "tf_idf numerical release       0.666667  0.676287   0.716514  0.660338   \n",
       "tf-idf svc only release        0.724638  0.723498   0.749573  0.717405   \n",
       "MultinomialNB                  0.637681  0.635245   0.632540  0.651581   \n",
       "\n",
       "                               roc_auc_ovr  roc_auc_ovo  \n",
       "min_baseline                      0.744899     0.750310  \n",
       "bow l1 only release               0.770395     0.776563  \n",
       "bow elasticnet                    0.783943     0.788909  \n",
       "bow release title                 0.782752     0.788019  \n",
       "bow release all num               0.786651     0.791621  \n",
       "bow svc only release              0.780628     0.786126  \n",
       "tf_idf l1 only release            0.786190     0.792398  \n",
       "tf_idf only release best word     0.812164     0.817499  \n",
       "tf_idf title release              0.819546     0.824618  \n",
       "tf_idf numerical release          0.769350     0.771139  \n",
       "tf-idf svc only release           0.852290     0.855510  \n",
       "MultinomialNB                     0.766447     0.773773  "
      ]
     },
     "execution_count": 6,
     "metadata": {},
     "output_type": "execute_result"
    }
   ],
   "source": [
    "metric, model = calc_metrics(bow_ngram, y, MultinomialNB, name='MultinomialNB')\n",
    "metrics = pd.concat((metrics, metric))\n",
    "metrics"
   ]
  },
  {
   "cell_type": "markdown",
   "metadata": {},
   "source": [
    "Получили качество чуть лучше чем минимальный безлайн."
   ]
  },
  {
   "cell_type": "code",
   "execution_count": 7,
   "metadata": {},
   "outputs": [],
   "source": [
    "metrics.to_csv('metrics.csv')"
   ]
  }
 ],
 "metadata": {
  "kernelspec": {
   "display_name": "ml_yp",
   "language": "python",
   "name": "python3"
  },
  "language_info": {
   "codemirror_mode": {
    "name": "ipython",
    "version": 3
   },
   "file_extension": ".py",
   "mimetype": "text/x-python",
   "name": "python",
   "nbconvert_exporter": "python",
   "pygments_lexer": "ipython3",
   "version": "3.12.3"
  }
 },
 "nbformat": 4,
 "nbformat_minor": 2
}
