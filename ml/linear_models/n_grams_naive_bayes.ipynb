{
 "cells": [
  {
   "cell_type": "code",
   "execution_count": 1,
   "metadata": {},
   "outputs": [
    {
     "name": "stderr",
     "output_type": "stream",
     "text": [
      "Intel(R) Extension for Scikit-learn* enabled (https://github.com/intel/scikit-learn-intelex)\n"
     ]
    }
   ],
   "source": [
    "from sklearnex import patch_sklearn\n",
    "patch_sklearn()\n",
    "\n",
    "import re\n",
    "import sys\n",
    "import os\n",
    "\n",
    "sys.path.append(os.path.abspath(os.path.join(\"..\")))\n",
    "\n",
    "import pandas as pd\n",
    "from tqdm import tqdm\n",
    "from pymystem3 import Mystem\n",
    "from nltk.corpus import stopwords\n",
    "from sklearn.feature_extraction.text import CountVectorizer\n",
    "from sklearn.naive_bayes import MultinomialNB\n",
    "from joblib import Parallel, delayed\n",
    "\n",
    "from utils import calc_metrics\n",
    "\n",
    "import warnings\n",
    "warnings.filterwarnings('ignore')"
   ]
  },
  {
   "cell_type": "code",
   "execution_count": 2,
   "metadata": {},
   "outputs": [],
   "source": [
    "X = pd.read_csv('../data/x.csv', index_col='date')\n",
    "y = pd.read_csv('../data/y.csv', index_col='date').iloc[:, 0]\n",
    "\n",
    "metrics = pd.read_csv('metrics.csv', index_col=0)"
   ]
  },
  {
   "cell_type": "markdown",
   "metadata": {},
   "source": [
    "### N-граммы плюс Naive Bayes"
   ]
  },
  {
   "cell_type": "markdown",
   "metadata": {},
   "source": [
    "Попробуем решить задачу с помощью алгоритма Naive Bayes, подберем оптимальные значения для параметра `ngram_range` и обучим лучшую модель."
   ]
  },
  {
   "cell_type": "code",
   "execution_count": 3,
   "metadata": {},
   "outputs": [],
   "source": [
    "mystem = Mystem()\n",
    "STOP_WORDS = set(stopwords.words('russian'))\n",
    "\n",
    "def preprocessor(text):\n",
    "    text = text.lower()\n",
    "    regex = re.compile('[^а-я А-ЯЁё]')\n",
    "    text = regex.sub(' ', text)\n",
    "    text = ' '.join(mystem.lemmatize(text))\n",
    "    text = ' '.join([word for word in text.split() if word not in STOP_WORDS])\n",
    "    return text"
   ]
  },
  {
   "cell_type": "code",
   "execution_count": 4,
   "metadata": {},
   "outputs": [
    {
     "name": "stdout",
     "output_type": "stream",
     "text": [
      "Лучшая модель - ngram_range(3, 6)\n",
      "ROC-AUC = 0.7791217173368202\n"
     ]
    }
   ],
   "source": [
    "def _calc_metrics(start, stop):\n",
    "    vectorizer = CountVectorizer(\n",
    "        preprocessor=preprocessor,\n",
    "        ngram_range=(start, stop)\n",
    "    )\n",
    "    bow_ngram = vectorizer.fit_transform(X.release)\n",
    "    return calc_metrics(\n",
    "        bow_ngram, y,\n",
    "        MultinomialNB, \n",
    "        name='MultinomialNB',\n",
    "        plot=False\n",
    "    ), (start, stop)\n",
    "\n",
    "auc = Parallel(n_jobs=-1)(delayed(\n",
    "    _calc_metrics\n",
    ")(start, stop) for start in range(1, 10) for stop in range(start, min(10, start + 4)))\n",
    "\n",
    "(roc_auc, best_model), (start, stop) = max(auc, key=lambda x: x[0][0])\n",
    "\n",
    "print(f\"Лучшая модель - ngram_range({start}, {stop})\")\n",
    "print(f\"ROC-AUC = {roc_auc}\")"
   ]
  },
  {
   "cell_type": "code",
   "execution_count": 5,
   "metadata": {},
   "outputs": [],
   "source": [
    "vectorizer = CountVectorizer(\n",
    "    preprocessor=preprocessor,\n",
    "    ngram_range=(start, stop)\n",
    ")\n",
    "\n",
    "vectorizer.fit(X.release)\n",
    "\n",
    "bow_ngram = vectorizer.transform(X.release)"
   ]
  },
  {
   "cell_type": "code",
   "execution_count": 6,
   "metadata": {},
   "outputs": [
    {
     "name": "stdout",
     "output_type": "stream",
     "text": [
      "              precision    recall  f1-score   support\n",
      "\n",
      "        -1.0       0.68      0.83      0.75        23\n",
      "         0.0       0.62      0.46      0.53        28\n",
      "         1.0       0.62      0.68      0.65        19\n",
      "\n",
      "    accuracy                           0.64        70\n",
      "   macro avg       0.64      0.66      0.64        70\n",
      "weighted avg       0.64      0.64      0.63        70\n",
      "\n"
     ]
    },
    {
     "data": {
      "image/png": "[encoded data removed]",
      "text/plain": [
       "<Figure size 640x480 with 2 Axes>"
      ]
     },
     "metadata": {},
     "output_type": "display_data"
    },
    {
     "data": {
      "text/html": [
       "<div>\n",
       "<style scoped>\n",
       "    .dataframe tbody tr th:only-of-type {\n",
       "        vertical-align: middle;\n",
       "    }\n",
       "\n",
       "    .dataframe tbody tr th {\n",
       "        vertical-align: top;\n",
       "    }\n",
       "\n",
       "    .dataframe thead th {\n",
       "        text-align: right;\n",
       "    }\n",
       "</style>\n",
       "<table border=\"1\" class=\"dataframe\">\n",
       "  <thead>\n",
       "    <tr style=\"text-align: right;\">\n",
       "      <th></th>\n",
       "      <th>accuracy</th>\n",
       "      <th>f1</th>\n",
       "      <th>precision</th>\n",
       "      <th>recall</th>\n",
       "      <th>roc_auc_ovr</th>\n",
       "      <th>roc_auc_ovo</th>\n",
       "    </tr>\n",
       "  </thead>\n",
       "  <tbody>\n",
       "    <tr>\n",
       "      <th>min_baseline</th>\n",
       "      <td>0.666667</td>\n",
       "      <td>0.669899</td>\n",
       "      <td>0.669899</td>\n",
       "      <td>0.669899</td>\n",
       "      <td>0.746871</td>\n",
       "      <td>0.752424</td>\n",
       "    </tr>\n",
       "    <tr>\n",
       "      <th>bow l1 only release</th>\n",
       "      <td>0.585714</td>\n",
       "      <td>0.580556</td>\n",
       "      <td>0.598462</td>\n",
       "      <td>0.577204</td>\n",
       "      <td>0.772803</td>\n",
       "      <td>0.780416</td>\n",
       "    </tr>\n",
       "    <tr>\n",
       "      <th>bow elasticnet</th>\n",
       "      <td>0.542857</td>\n",
       "      <td>0.551203</td>\n",
       "      <td>0.549464</td>\n",
       "      <td>0.553231</td>\n",
       "      <td>0.788848</td>\n",
       "      <td>0.794391</td>\n",
       "    </tr>\n",
       "    <tr>\n",
       "      <th>bow release title</th>\n",
       "      <td>0.585714</td>\n",
       "      <td>0.590476</td>\n",
       "      <td>0.602273</td>\n",
       "      <td>0.583306</td>\n",
       "      <td>0.787091</td>\n",
       "      <td>0.792225</td>\n",
       "    </tr>\n",
       "    <tr>\n",
       "      <th>bow release all num</th>\n",
       "      <td>0.571429</td>\n",
       "      <td>0.577103</td>\n",
       "      <td>0.591028</td>\n",
       "      <td>0.568813</td>\n",
       "      <td>0.786416</td>\n",
       "      <td>0.792034</td>\n",
       "    </tr>\n",
       "    <tr>\n",
       "      <th>bow svc only release</th>\n",
       "      <td>0.671429</td>\n",
       "      <td>0.680949</td>\n",
       "      <td>0.696821</td>\n",
       "      <td>0.671652</td>\n",
       "      <td>0.783436</td>\n",
       "      <td>0.789896</td>\n",
       "    </tr>\n",
       "    <tr>\n",
       "      <th>tf_idf l1 only release</th>\n",
       "      <td>0.642857</td>\n",
       "      <td>0.644898</td>\n",
       "      <td>0.650412</td>\n",
       "      <td>0.644328</td>\n",
       "      <td>0.791733</td>\n",
       "      <td>0.798613</td>\n",
       "    </tr>\n",
       "    <tr>\n",
       "      <th>tf_idf only release best word</th>\n",
       "      <td>0.714286</td>\n",
       "      <td>0.713948</td>\n",
       "      <td>0.734127</td>\n",
       "      <td>0.706440</td>\n",
       "      <td>0.821224</td>\n",
       "      <td>0.827109</td>\n",
       "    </tr>\n",
       "    <tr>\n",
       "      <th>tf_idf title release</th>\n",
       "      <td>0.700000</td>\n",
       "      <td>0.701671</td>\n",
       "      <td>0.724795</td>\n",
       "      <td>0.691947</td>\n",
       "      <td>0.820483</td>\n",
       "      <td>0.826291</td>\n",
       "    </tr>\n",
       "    <tr>\n",
       "      <th>tf_idf numerical release</th>\n",
       "      <td>0.685714</td>\n",
       "      <td>0.693732</td>\n",
       "      <td>0.730159</td>\n",
       "      <td>0.677918</td>\n",
       "      <td>0.765456</td>\n",
       "      <td>0.767557</td>\n",
       "    </tr>\n",
       "    <tr>\n",
       "      <th>tf-idf svc only release</th>\n",
       "      <td>0.714286</td>\n",
       "      <td>0.714966</td>\n",
       "      <td>0.720696</td>\n",
       "      <td>0.714667</td>\n",
       "      <td>0.848992</td>\n",
       "      <td>0.853520</td>\n",
       "    </tr>\n",
       "    <tr>\n",
       "      <th>MultinomialNB</th>\n",
       "      <td>0.642857</td>\n",
       "      <td>0.641903</td>\n",
       "      <td>0.638889</td>\n",
       "      <td>0.658194</td>\n",
       "      <td>0.770987</td>\n",
       "      <td>0.779122</td>\n",
       "    </tr>\n",
       "  </tbody>\n",
       "</table>\n",
       "</div>"
      ],
      "text/plain": [
       "                               accuracy        f1  precision    recall  \\\n",
       "min_baseline                   0.666667  0.669899   0.669899  0.669899   \n",
       "bow l1 only release            0.585714  0.580556   0.598462  0.577204   \n",
       "bow elasticnet                 0.542857  0.551203   0.549464  0.553231   \n",
       "bow release title              0.585714  0.590476   0.602273  0.583306   \n",
       "bow release all num            0.571429  0.577103   0.591028  0.568813   \n",
       "bow svc only release           0.671429  0.680949   0.696821  0.671652   \n",
       "tf_idf l1 only release         0.642857  0.644898   0.650412  0.644328   \n",
       "tf_idf only release best word  0.714286  0.713948   0.734127  0.706440   \n",
       "tf_idf title release           0.700000  0.701671   0.724795  0.691947   \n",
       "tf_idf numerical release       0.685714  0.693732   0.730159  0.677918   \n",
       "tf-idf svc only release        0.714286  0.714966   0.720696  0.714667   \n",
       "MultinomialNB                  0.642857  0.641903   0.638889  0.658194   \n",
       "\n",
       "                               roc_auc_ovr  roc_auc_ovo  \n",
       "min_baseline                      0.746871     0.752424  \n",
       "bow l1 only release               0.772803     0.780416  \n",
       "bow elasticnet                    0.788848     0.794391  \n",
       "bow release title                 0.787091     0.792225  \n",
       "bow release all num               0.786416     0.792034  \n",
       "bow svc only release              0.783436     0.789896  \n",
       "tf_idf l1 only release            0.791733     0.798613  \n",
       "tf_idf only release best word     0.821224     0.827109  \n",
       "tf_idf title release              0.820483     0.826291  \n",
       "tf_idf numerical release          0.765456     0.767557  \n",
       "tf-idf svc only release           0.848992     0.853520  \n",
       "MultinomialNB                     0.770987     0.779122  "
      ]
     },
     "execution_count": 6,
     "metadata": {},
     "output_type": "execute_result"
    }
   ],
   "source": [
    "metric, model = calc_metrics(bow_ngram, y, MultinomialNB, name='MultinomialNB')\n",
    "metrics = pd.concat((metrics, metric))\n",
    "metrics"
   ]
  },
  {
   "cell_type": "markdown",
   "metadata": {},
   "source": [
    "Получили качество хуже, чем минимальный безлайн."
   ]
  },
  {
   "cell_type": "code",
   "execution_count": 7,
   "metadata": {},
   "outputs": [],
   "source": [
    "metrics.to_csv('metrics.csv')"
   ]
  }
 ],
 "metadata": {
  "kernelspec": {
   "display_name": "ml_yp",
   "language": "python",
   "name": "python3"
  },
  "language_info": {
   "codemirror_mode": {
    "name": "ipython",
    "version": 3
   },
   "file_extension": ".py",
   "mimetype": "text/x-python",
   "name": "python",
   "nbconvert_exporter": "python",
   "pygments_lexer": "ipython3",
   "version": "3.12.3"
  }
 },
 "nbformat": 4,
 "nbformat_minor": 2
}
